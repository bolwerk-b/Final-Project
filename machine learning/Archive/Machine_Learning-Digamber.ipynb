{
 "cells": [
  {
   "cell_type": "code",
   "execution_count": 1,
   "id": "4d59b892",
   "metadata": {},
   "outputs": [],
   "source": [
    "# Import depedencies\n",
    "import numpy as np\n",
    "import pandas as pd\n",
    "from pathlib import Path\n",
    "from collections import Counter\n",
    "import matplotlib.pyplot as plt\n",
    "from sklearn.linear_model import LinearRegression\n",
    "from sklearn.preprocessing import StandardScaler,MinMaxScaler\n",
    "from sklearn.metrics import balanced_accuracy_score\n",
    "from sklearn.metrics import confusion_matrix\n",
    "# from imblearn.metrics import classification_report_imbalanced\n"
   ]
  },
  {
   "cell_type": "markdown",
   "id": "84f31fcb",
   "metadata": {},
   "source": [
    "# Read the CSV and Perform Basic Data Cleaning"
   ]
  },
  {
   "cell_type": "code",
   "execution_count": 2,
   "id": "80ec72b6",
   "metadata": {},
   "outputs": [
    {
     "data": {
      "text/html": [
       "<div>\n",
       "<style scoped>\n",
       "    .dataframe tbody tr th:only-of-type {\n",
       "        vertical-align: middle;\n",
       "    }\n",
       "\n",
       "    .dataframe tbody tr th {\n",
       "        vertical-align: top;\n",
       "    }\n",
       "\n",
       "    .dataframe thead th {\n",
       "        text-align: right;\n",
       "    }\n",
       "</style>\n",
       "<table border=\"1\" class=\"dataframe\">\n",
       "  <thead>\n",
       "    <tr style=\"text-align: right;\">\n",
       "      <th></th>\n",
       "      <th>date</th>\n",
       "      <th>currency_code</th>\n",
       "      <th>Country</th>\n",
       "      <th>local_price</th>\n",
       "      <th>dollar_ex</th>\n",
       "      <th>dollar_price</th>\n",
       "      <th>Year</th>\n",
       "      <th>Code</th>\n",
       "      <th>gdp_growth</th>\n",
       "      <th>GDP_Per_Capita</th>\n",
       "      <th>GDP</th>\n",
       "      <th>country_code</th>\n",
       "      <th>region</th>\n",
       "      <th>sub_region</th>\n",
       "    </tr>\n",
       "  </thead>\n",
       "  <tbody>\n",
       "    <tr>\n",
       "      <th>0</th>\n",
       "      <td>2000-04-01</td>\n",
       "      <td>ARS</td>\n",
       "      <td>Argentina</td>\n",
       "      <td>2.50</td>\n",
       "      <td>1</td>\n",
       "      <td>2.50</td>\n",
       "      <td>2000</td>\n",
       "      <td>ARG</td>\n",
       "      <td>-10.894485</td>\n",
       "      <td>6854.294081</td>\n",
       "      <td>2.582818e+11</td>\n",
       "      <td>32.0</td>\n",
       "      <td>Americas</td>\n",
       "      <td>Latin America and the Caribbean</td>\n",
       "    </tr>\n",
       "    <tr>\n",
       "      <th>1</th>\n",
       "      <td>2000-04-01</td>\n",
       "      <td>AUD</td>\n",
       "      <td>Australia</td>\n",
       "      <td>2.59</td>\n",
       "      <td>1</td>\n",
       "      <td>2.59</td>\n",
       "      <td>2000</td>\n",
       "      <td>AUS</td>\n",
       "      <td>4.001431</td>\n",
       "      <td>45806.687448</td>\n",
       "      <td>9.001655e+11</td>\n",
       "      <td>36.0</td>\n",
       "      <td>Oceania</td>\n",
       "      <td>Australia and New Zealand</td>\n",
       "    </tr>\n",
       "    <tr>\n",
       "      <th>2</th>\n",
       "      <td>2000-04-01</td>\n",
       "      <td>BRL</td>\n",
       "      <td>Brazil</td>\n",
       "      <td>2.95</td>\n",
       "      <td>1</td>\n",
       "      <td>2.95</td>\n",
       "      <td>2000</td>\n",
       "      <td>BRA</td>\n",
       "      <td>3.053462</td>\n",
       "      <td>8954.837245</td>\n",
       "      <td>1.607729e+12</td>\n",
       "      <td>76.0</td>\n",
       "      <td>Americas</td>\n",
       "      <td>Latin America and the Caribbean</td>\n",
       "    </tr>\n",
       "    <tr>\n",
       "      <th>3</th>\n",
       "      <td>2000-04-01</td>\n",
       "      <td>CAD</td>\n",
       "      <td>Canada</td>\n",
       "      <td>2.85</td>\n",
       "      <td>1</td>\n",
       "      <td>2.85</td>\n",
       "      <td>2000</td>\n",
       "      <td>CAN</td>\n",
       "      <td>3.016889</td>\n",
       "      <td>44863.216018</td>\n",
       "      <td>1.406914e+12</td>\n",
       "      <td>124.0</td>\n",
       "      <td>Americas</td>\n",
       "      <td>Northern America</td>\n",
       "    </tr>\n",
       "    <tr>\n",
       "      <th>4</th>\n",
       "      <td>2000-04-01</td>\n",
       "      <td>CLP</td>\n",
       "      <td>Chile</td>\n",
       "      <td>1260.00</td>\n",
       "      <td>514</td>\n",
       "      <td>2.45</td>\n",
       "      <td>2000</td>\n",
       "      <td>CHL</td>\n",
       "      <td>3.106971</td>\n",
       "      <td>9814.656135</td>\n",
       "      <td>1.539371e+11</td>\n",
       "      <td>152.0</td>\n",
       "      <td>Americas</td>\n",
       "      <td>Latin America and the Caribbean</td>\n",
       "    </tr>\n",
       "  </tbody>\n",
       "</table>\n",
       "</div>"
      ],
      "text/plain": [
       "         date currency_code    Country  local_price  dollar_ex  dollar_price  \\\n",
       "0  2000-04-01           ARS  Argentina         2.50          1          2.50   \n",
       "1  2000-04-01           AUD  Australia         2.59          1          2.59   \n",
       "2  2000-04-01           BRL     Brazil         2.95          1          2.95   \n",
       "3  2000-04-01           CAD     Canada         2.85          1          2.85   \n",
       "4  2000-04-01           CLP      Chile      1260.00        514          2.45   \n",
       "\n",
       "   Year Code  gdp_growth  GDP_Per_Capita           GDP  country_code  \\\n",
       "0  2000  ARG  -10.894485     6854.294081  2.582818e+11          32.0   \n",
       "1  2000  AUS    4.001431    45806.687448  9.001655e+11          36.0   \n",
       "2  2000  BRA    3.053462     8954.837245  1.607729e+12          76.0   \n",
       "3  2000  CAN    3.016889    44863.216018  1.406914e+12         124.0   \n",
       "4  2000  CHL    3.106971     9814.656135  1.539371e+11         152.0   \n",
       "\n",
       "     region                       sub_region  \n",
       "0  Americas  Latin America and the Caribbean  \n",
       "1   Oceania        Australia and New Zealand  \n",
       "2  Americas  Latin America and the Caribbean  \n",
       "3  Americas                 Northern America  \n",
       "4  Americas  Latin America and the Caribbean  "
      ]
     },
     "execution_count": 2,
     "metadata": {},
     "output_type": "execute_result"
    }
   ],
   "source": [
    "#Load data\n",
    "file_path = Path('../Final_Project_Resources/final.csv')\n",
    "df = pd.read_csv (file_path)\n",
    "df.head()\n",
    "\n",
    "# # Drop null rows\n",
    "# df =df.dropna()\n",
    "\n"
   ]
  },
  {
   "cell_type": "markdown",
   "id": "986560c0",
   "metadata": {},
   "source": [
    "# Using Linear Regression Model"
   ]
  },
  {
   "cell_type": "code",
   "execution_count": 3,
   "id": "e4a8afab",
   "metadata": {},
   "outputs": [
    {
     "data": {
      "image/png": "[encoded data removed]",
      "text/plain": [
       "<Figure size 432x288 with 1 Axes>"
      ]
     },
     "metadata": {
      "needs_background": "light"
     },
     "output_type": "display_data"
    }
   ],
   "source": [
    "# Ploting the data as a scatter plot\n",
    "plt.scatter(df.GDP, df.dollar_price)\n",
    "plt.xlabel('GDP')\n",
    "plt.ylabel('BigMac Price ($)')\n",
    "plt.show()\n"
   ]
  },
  {
   "cell_type": "code",
   "execution_count": 4,
   "id": "ca5f53aa",
   "metadata": {},
   "outputs": [],
   "source": [
    "# Define independent variable\n",
    "X =df.GDP.values.reshape(-1,1)"
   ]
  },
  {
   "cell_type": "code",
   "execution_count": 5,
   "id": "64524d3d",
   "metadata": {},
   "outputs": [],
   "source": [
    "# Define dependent variable\n",
    "y= df.dollar_price"
   ]
  },
  {
   "cell_type": "code",
   "execution_count": 6,
   "id": "c39bd718",
   "metadata": {},
   "outputs": [],
   "source": [
    "scaler = MinMaxScaler()"
   ]
  },
  {
   "cell_type": "code",
   "execution_count": 7,
   "id": "5f83ce78",
   "metadata": {},
   "outputs": [],
   "source": [
    "from sklearn.model_selection import train_test_split\n",
    "X_train, X_test, y_train, y_test = train_test_split(X,y,test_size=0.2, random_state=2)"
   ]
  },
  {
   "cell_type": "code",
   "execution_count": 8,
   "id": "8f8dab27",
   "metadata": {},
   "outputs": [],
   "source": [
    "# Instantiate linear regression model\n",
    "model = LinearRegression()\n"
   ]
  },
  {
   "cell_type": "code",
   "execution_count": 9,
   "id": "084e6274",
   "metadata": {},
   "outputs": [
    {
     "data": {
      "text/plain": [
       "LinearRegression()"
      ]
     },
     "execution_count": 9,
     "metadata": {},
     "output_type": "execute_result"
    }
   ],
   "source": [
    "# training the model\n",
    "model.fit(X,y)"
   ]
  },
  {
   "cell_type": "code",
   "execution_count": 10,
   "id": "5bd1a669",
   "metadata": {},
   "outputs": [],
   "source": [
    "y_pred = model.predict(X)"
   ]
  },
  {
   "cell_type": "code",
   "execution_count": 11,
   "id": "94681254",
   "metadata": {
    "scrolled": true
   },
   "outputs": [
    {
     "data": {
      "image/png": "[encoded data removed]",
      "text/plain": [
       "<Figure size 432x288 with 1 Axes>"
      ]
     },
     "metadata": {
      "needs_background": "light"
     },
     "output_type": "display_data"
    }
   ],
   "source": [
    "plt.scatter(X, y)\n",
    "plt.plot(X, y_pred, color='red')\n",
    "plt.show()"
   ]
  },
  {
   "cell_type": "code",
   "execution_count": 12,
   "id": "7fe59f7e",
   "metadata": {
    "scrolled": true
   },
   "outputs": [
    {
     "name": "stdout",
     "output_type": "stream",
     "text": [
      "[-2.0387791e-14]\n",
      "3.5949872401917418\n"
     ]
    }
   ],
   "source": [
    "print(model.coef_)\n",
    "print(model.intercept_)"
   ]
  },
  {
   "cell_type": "code",
   "execution_count": 13,
   "id": "55db3c83",
   "metadata": {},
   "outputs": [
    {
     "name": "stdout",
     "output_type": "stream",
     "text": [
      "0.001463875238819301\n"
     ]
    }
   ],
   "source": [
    "print(model.score(X,y))"
   ]
  },
  {
   "cell_type": "markdown",
   "id": "5b0b06ca",
   "metadata": {},
   "source": [
    "# Using 2nd Polynomial"
   ]
  },
  {
   "cell_type": "code",
   "execution_count": 14,
   "id": "c0befefd",
   "metadata": {},
   "outputs": [],
   "source": [
    "# Import dependencies\n",
    "from sklearn.preprocessing import PolynomialFeatures\n",
    "\n",
    "# Save an instance of Polynomial Feature\n",
    "poly = PolynomialFeatures(degree=3, include_bias=True)"
   ]
  },
  {
   "cell_type": "code",
   "execution_count": 15,
   "id": "ebbbd011",
   "metadata": {},
   "outputs": [],
   "source": [
    "# poly_features = poly.fit_transform(X.reshape(-1,1))"
   ]
  },
  {
   "cell_type": "code",
   "execution_count": 16,
   "id": "b8982156",
   "metadata": {},
   "outputs": [],
   "source": [
    "X_train, X_test, y_train, y_test = train_test_split(X,y,test_size=0.2, random_state=2)"
   ]
  },
  {
   "cell_type": "code",
   "execution_count": 17,
   "id": "0f40c582",
   "metadata": {},
   "outputs": [],
   "source": [
    "poly_reg_model = LinearRegression()"
   ]
  },
  {
   "cell_type": "code",
   "execution_count": 18,
   "id": "cfbff2b2",
   "metadata": {
    "scrolled": true
   },
   "outputs": [
    {
     "data": {
      "text/plain": [
       "LinearRegression()"
      ]
     },
     "execution_count": 18,
     "metadata": {},
     "output_type": "execute_result"
    }
   ],
   "source": [
    "poly_reg_model.fit(X_train, y_train)"
   ]
  },
  {
   "cell_type": "code",
   "execution_count": 19,
   "id": "45907842",
   "metadata": {},
   "outputs": [
    {
     "data": {
      "text/plain": [
       "array([3.59481641, 3.59263039, 3.44302251, 3.58980617, 3.59456628,\n",
       "       3.57532161, 3.59184225, 3.59128964, 3.59737746, 3.58512095,\n",
       "       3.58932407, 3.59215906, 3.59026285, 3.59560396, 3.43771641,\n",
       "       3.59142489, 3.58698171, 3.58985946, 3.59000781, 3.59991429,\n",
       "       3.58895988, 3.59469086, 3.59474403, 3.59637091, 3.53710671,\n",
       "       3.59659312, 3.58926396, 3.59664677, 3.59542903, 3.59552684,\n",
       "       3.45586566, 3.58963278, 3.59224577, 3.50292852, 3.54276434,\n",
       "       3.59613594, 3.45668871, 3.58741764, 3.59555136, 3.5894539 ,\n",
       "       3.58489087, 3.54509455, 3.57618985, 3.58437629, 3.44551457,\n",
       "       3.59998932, 3.58961832, 3.59672193, 3.59491859, 3.43899338,\n",
       "       3.59469178, 3.56637159, 3.59759754, 3.54677689, 3.59979735,\n",
       "       3.58966745, 3.59197562, 3.58312416, 3.59308107, 3.59679808,\n",
       "       3.58813366, 3.59438345, 3.59474715, 3.59262203, 3.59293372,\n",
       "       3.36641988, 3.59432293, 3.49510279, 3.59431822, 3.53710671,\n",
       "       3.59880136, 3.58489087, 3.59357461, 3.57862181, 3.55400685,\n",
       "       3.58927419, 3.59289695, 3.56714609, 3.59977614, 3.54712855,\n",
       "       3.20543997, 3.5635139 , 3.59318216, 3.59719584, 3.55173127,\n",
       "       3.59224878, 3.59460769, 3.59135853, 3.43771641, 3.60021643,\n",
       "       3.58229429, 3.59254743, 3.58333953, 3.58966313, 3.45668871,\n",
       "       3.58718116, 3.53937407, 3.59205122, 3.59403164, 3.59989489,\n",
       "       3.59453249, 3.558504  , 3.59122753, 3.59769515, 3.59503448,\n",
       "       3.59435147, 3.59194953, 3.59625888, 3.57006305, 3.59262203,\n",
       "       3.5563601 , 3.56980404, 3.59749772, 3.59826086, 3.59522786,\n",
       "       3.58871164, 3.55315784, 3.59177606, 3.56646993, 3.59982289,\n",
       "       3.59386524, 3.59474715, 3.53085009, 3.59399826, 3.57080789,\n",
       "       3.50072835, 3.58672198, 3.59390333, 3.56716326, 3.57198356,\n",
       "       3.58519296, 3.20528947, 3.58414115, 3.59730865, 3.49856425,\n",
       "       3.59097749, 3.59503448, 3.58698171, 3.54940776, 3.59263513,\n",
       "       3.56646993, 3.59552463, 3.5687766 , 3.58778267, 3.5901381 ,\n",
       "       3.59995294, 3.59894347, 3.54044772, 3.59972186, 3.59987296,\n",
       "       3.59411327, 3.59723475, 3.58934374, 3.14325437, 3.59097749,\n",
       "       3.59460701, 3.58607922, 3.60038289, 3.59978112, 3.59581271,\n",
       "       3.56841037, 3.59503936, 3.59510202, 3.59750759, 3.50072835,\n",
       "       3.55173127, 3.57735688, 3.59268027, 3.59136926, 3.59018956,\n",
       "       3.58991683, 3.59453249, 3.58932407, 3.58991683, 3.56980404,\n",
       "       3.5392834 , 3.59363448, 3.58920244, 3.44856473, 3.59777595,\n",
       "       3.59402875, 3.59514217, 3.59548006, 3.54141282])"
      ]
     },
     "execution_count": 19,
     "metadata": {},
     "output_type": "execute_result"
    }
   ],
   "source": [
    "y_predicted = poly_reg_model.predict(X_test)\n",
    "y_predicted"
   ]
  },
  {
   "cell_type": "code",
   "execution_count": 20,
   "id": "aa0da04c",
   "metadata": {},
   "outputs": [],
   "source": [
    "from sklearn.metrics import mean_squared_error"
   ]
  },
  {
   "cell_type": "code",
   "execution_count": 21,
   "id": "1716a742",
   "metadata": {},
   "outputs": [
    {
     "data": {
      "text/plain": [
       "1.4885154627642792"
      ]
     },
     "execution_count": 21,
     "metadata": {},
     "output_type": "execute_result"
    }
   ],
   "source": [
    "poly_reg_rmse = np.sqrt(mean_squared_error(y_test,\n",
    "                                          y_predicted))\n",
    "poly_reg_rmse"
   ]
  },
  {
   "cell_type": "code",
   "execution_count": 22,
   "id": "870ad5d6",
   "metadata": {
    "scrolled": true
   },
   "outputs": [
    {
     "ename": "ValueError",
     "evalue": "x and y must have same first dimension, but have shapes (920, 1) and (184,)",
     "output_type": "error",
     "traceback": [
      "\u001b[1;31m---------------------------------------------------------------------------\u001b[0m",
      "\u001b[1;31mValueError\u001b[0m                                Traceback (most recent call last)",
      "\u001b[1;32m~\\AppData\\Local\\Temp\\ipykernel_33056\\3409855298.py\u001b[0m in \u001b[0;36m<module>\u001b[1;34m\u001b[0m\n\u001b[0;32m      2\u001b[0m \u001b[0mplt\u001b[0m\u001b[1;33m.\u001b[0m\u001b[0mtitle\u001b[0m\u001b[1;33m(\u001b[0m\u001b[1;34m\"Polynomial Reg\"\u001b[0m\u001b[1;33m,\u001b[0m \u001b[0msize\u001b[0m\u001b[1;33m=\u001b[0m\u001b[1;36m16\u001b[0m\u001b[1;33m)\u001b[0m\u001b[1;33m\u001b[0m\u001b[1;33m\u001b[0m\u001b[0m\n\u001b[0;32m      3\u001b[0m \u001b[0mplt\u001b[0m\u001b[1;33m.\u001b[0m\u001b[0mscatter\u001b[0m\u001b[1;33m(\u001b[0m\u001b[0mX\u001b[0m\u001b[1;33m,\u001b[0m \u001b[0my\u001b[0m\u001b[1;33m)\u001b[0m\u001b[1;33m\u001b[0m\u001b[1;33m\u001b[0m\u001b[0m\n\u001b[1;32m----> 4\u001b[1;33m \u001b[0mplt\u001b[0m\u001b[1;33m.\u001b[0m\u001b[0mplot\u001b[0m\u001b[1;33m(\u001b[0m\u001b[0mX\u001b[0m\u001b[1;33m,\u001b[0m \u001b[0my_predicted\u001b[0m\u001b[1;33m,\u001b[0m \u001b[0mc\u001b[0m\u001b[1;33m=\u001b[0m\u001b[1;34m'red'\u001b[0m\u001b[1;33m)\u001b[0m\u001b[1;33m\u001b[0m\u001b[1;33m\u001b[0m\u001b[0m\n\u001b[0m\u001b[0;32m      5\u001b[0m \u001b[0mplt\u001b[0m\u001b[1;33m.\u001b[0m\u001b[0mshow\u001b[0m\u001b[1;33m(\u001b[0m\u001b[1;33m)\u001b[0m\u001b[1;33m\u001b[0m\u001b[1;33m\u001b[0m\u001b[0m\n",
      "\u001b[1;32m~\\anaconda3\\envs\\mlenv\\lib\\site-packages\\matplotlib\\pyplot.py\u001b[0m in \u001b[0;36mplot\u001b[1;34m(scalex, scaley, data, *args, **kwargs)\u001b[0m\n\u001b[0;32m   2757\u001b[0m     return gca().plot(\n\u001b[0;32m   2758\u001b[0m         \u001b[1;33m*\u001b[0m\u001b[0margs\u001b[0m\u001b[1;33m,\u001b[0m \u001b[0mscalex\u001b[0m\u001b[1;33m=\u001b[0m\u001b[0mscalex\u001b[0m\u001b[1;33m,\u001b[0m \u001b[0mscaley\u001b[0m\u001b[1;33m=\u001b[0m\u001b[0mscaley\u001b[0m\u001b[1;33m,\u001b[0m\u001b[1;33m\u001b[0m\u001b[1;33m\u001b[0m\u001b[0m\n\u001b[1;32m-> 2759\u001b[1;33m         **({\"data\": data} if data is not None else {}), **kwargs)\n\u001b[0m\u001b[0;32m   2760\u001b[0m \u001b[1;33m\u001b[0m\u001b[0m\n\u001b[0;32m   2761\u001b[0m \u001b[1;33m\u001b[0m\u001b[0m\n",
      "\u001b[1;32m~\\anaconda3\\envs\\mlenv\\lib\\site-packages\\matplotlib\\axes\\_axes.py\u001b[0m in \u001b[0;36mplot\u001b[1;34m(self, scalex, scaley, data, *args, **kwargs)\u001b[0m\n\u001b[0;32m   1630\u001b[0m         \"\"\"\n\u001b[0;32m   1631\u001b[0m         \u001b[0mkwargs\u001b[0m \u001b[1;33m=\u001b[0m \u001b[0mcbook\u001b[0m\u001b[1;33m.\u001b[0m\u001b[0mnormalize_kwargs\u001b[0m\u001b[1;33m(\u001b[0m\u001b[0mkwargs\u001b[0m\u001b[1;33m,\u001b[0m \u001b[0mmlines\u001b[0m\u001b[1;33m.\u001b[0m\u001b[0mLine2D\u001b[0m\u001b[1;33m)\u001b[0m\u001b[1;33m\u001b[0m\u001b[1;33m\u001b[0m\u001b[0m\n\u001b[1;32m-> 1632\u001b[1;33m         \u001b[0mlines\u001b[0m \u001b[1;33m=\u001b[0m \u001b[1;33m[\u001b[0m\u001b[1;33m*\u001b[0m\u001b[0mself\u001b[0m\u001b[1;33m.\u001b[0m\u001b[0m_get_lines\u001b[0m\u001b[1;33m(\u001b[0m\u001b[1;33m*\u001b[0m\u001b[0margs\u001b[0m\u001b[1;33m,\u001b[0m \u001b[0mdata\u001b[0m\u001b[1;33m=\u001b[0m\u001b[0mdata\u001b[0m\u001b[1;33m,\u001b[0m \u001b[1;33m**\u001b[0m\u001b[0mkwargs\u001b[0m\u001b[1;33m)\u001b[0m\u001b[1;33m]\u001b[0m\u001b[1;33m\u001b[0m\u001b[1;33m\u001b[0m\u001b[0m\n\u001b[0m\u001b[0;32m   1633\u001b[0m         \u001b[1;32mfor\u001b[0m \u001b[0mline\u001b[0m \u001b[1;32min\u001b[0m \u001b[0mlines\u001b[0m\u001b[1;33m:\u001b[0m\u001b[1;33m\u001b[0m\u001b[1;33m\u001b[0m\u001b[0m\n\u001b[0;32m   1634\u001b[0m             \u001b[0mself\u001b[0m\u001b[1;33m.\u001b[0m\u001b[0madd_line\u001b[0m\u001b[1;33m(\u001b[0m\u001b[0mline\u001b[0m\u001b[1;33m)\u001b[0m\u001b[1;33m\u001b[0m\u001b[1;33m\u001b[0m\u001b[0m\n",
      "\u001b[1;32m~\\anaconda3\\envs\\mlenv\\lib\\site-packages\\matplotlib\\axes\\_base.py\u001b[0m in \u001b[0;36m__call__\u001b[1;34m(self, data, *args, **kwargs)\u001b[0m\n\u001b[0;32m    310\u001b[0m                 \u001b[0mthis\u001b[0m \u001b[1;33m+=\u001b[0m \u001b[0margs\u001b[0m\u001b[1;33m[\u001b[0m\u001b[1;36m0\u001b[0m\u001b[1;33m]\u001b[0m\u001b[1;33m,\u001b[0m\u001b[1;33m\u001b[0m\u001b[1;33m\u001b[0m\u001b[0m\n\u001b[0;32m    311\u001b[0m                 \u001b[0margs\u001b[0m \u001b[1;33m=\u001b[0m \u001b[0margs\u001b[0m\u001b[1;33m[\u001b[0m\u001b[1;36m1\u001b[0m\u001b[1;33m:\u001b[0m\u001b[1;33m]\u001b[0m\u001b[1;33m\u001b[0m\u001b[1;33m\u001b[0m\u001b[0m\n\u001b[1;32m--> 312\u001b[1;33m             \u001b[1;32myield\u001b[0m \u001b[1;32mfrom\u001b[0m \u001b[0mself\u001b[0m\u001b[1;33m.\u001b[0m\u001b[0m_plot_args\u001b[0m\u001b[1;33m(\u001b[0m\u001b[0mthis\u001b[0m\u001b[1;33m,\u001b[0m \u001b[0mkwargs\u001b[0m\u001b[1;33m)\u001b[0m\u001b[1;33m\u001b[0m\u001b[1;33m\u001b[0m\u001b[0m\n\u001b[0m\u001b[0;32m    313\u001b[0m \u001b[1;33m\u001b[0m\u001b[0m\n\u001b[0;32m    314\u001b[0m     \u001b[1;32mdef\u001b[0m \u001b[0mget_next_color\u001b[0m\u001b[1;33m(\u001b[0m\u001b[0mself\u001b[0m\u001b[1;33m)\u001b[0m\u001b[1;33m:\u001b[0m\u001b[1;33m\u001b[0m\u001b[1;33m\u001b[0m\u001b[0m\n",
      "\u001b[1;32m~\\anaconda3\\envs\\mlenv\\lib\\site-packages\\matplotlib\\axes\\_base.py\u001b[0m in \u001b[0;36m_plot_args\u001b[1;34m(self, tup, kwargs, return_kwargs)\u001b[0m\n\u001b[0;32m    496\u001b[0m \u001b[1;33m\u001b[0m\u001b[0m\n\u001b[0;32m    497\u001b[0m         \u001b[1;32mif\u001b[0m \u001b[0mx\u001b[0m\u001b[1;33m.\u001b[0m\u001b[0mshape\u001b[0m\u001b[1;33m[\u001b[0m\u001b[1;36m0\u001b[0m\u001b[1;33m]\u001b[0m \u001b[1;33m!=\u001b[0m \u001b[0my\u001b[0m\u001b[1;33m.\u001b[0m\u001b[0mshape\u001b[0m\u001b[1;33m[\u001b[0m\u001b[1;36m0\u001b[0m\u001b[1;33m]\u001b[0m\u001b[1;33m:\u001b[0m\u001b[1;33m\u001b[0m\u001b[1;33m\u001b[0m\u001b[0m\n\u001b[1;32m--> 498\u001b[1;33m             raise ValueError(f\"x and y must have same first dimension, but \"\n\u001b[0m\u001b[0;32m    499\u001b[0m                              f\"have shapes {x.shape} and {y.shape}\")\n\u001b[0;32m    500\u001b[0m         \u001b[1;32mif\u001b[0m \u001b[0mx\u001b[0m\u001b[1;33m.\u001b[0m\u001b[0mndim\u001b[0m \u001b[1;33m>\u001b[0m \u001b[1;36m2\u001b[0m \u001b[1;32mor\u001b[0m \u001b[0my\u001b[0m\u001b[1;33m.\u001b[0m\u001b[0mndim\u001b[0m \u001b[1;33m>\u001b[0m \u001b[1;36m2\u001b[0m\u001b[1;33m:\u001b[0m\u001b[1;33m\u001b[0m\u001b[1;33m\u001b[0m\u001b[0m\n",
      "\u001b[1;31mValueError\u001b[0m: x and y must have same first dimension, but have shapes (920, 1) and (184,)"
     ]
    },
    {
     "data": {
      "image/png": "[encoded data removed]",
      "text/plain": [
       "<Figure size 720x432 with 1 Axes>"
      ]
     },
     "metadata": {
      "needs_background": "light"
     },
     "output_type": "display_data"
    }
   ],
   "source": [
    "plt.figure(figsize= (10,6))\n",
    "plt.title(\"Polynomial Reg\", size=16)\n",
    "plt.scatter(X, y)\n",
    "plt.plot(X, y_predicted, c='red')\n",
    "plt.show()"
   ]
  }
 ],
 "metadata": {
  "kernelspec": {
   "display_name": "mlenv",
   "language": "python",
   "name": "mlenv"
  },
  "language_info": {
   "codemirror_mode": {
    "name": "ipython",
    "version": 3
   },
   "file_extension": ".py",
   "mimetype": "text/x-python",
   "name": "python",
   "nbconvert_exporter": "python",
   "pygments_lexer": "ipython3",
   "version": "3.7.13"
  }
 },
 "nbformat": 4,
 "nbformat_minor": 5
}
