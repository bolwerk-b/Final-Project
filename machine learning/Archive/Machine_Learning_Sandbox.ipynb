{
 "cells": [
  {
   "cell_type": "code",
   "execution_count": 1,
   "id": "9b71e006",
   "metadata": {},
   "outputs": [],
   "source": [
    "# This code includes three regression models (linear, 2nd order polynomial, RandomForest) and compares BigMac\n",
    "# prices against GDP or log10(GDP) "
   ]
  },
  {
   "cell_type": "code",
   "execution_count": 2,
   "id": "4d59b892",
   "metadata": {},
   "outputs": [],
   "source": [
    "# Import depedencies\n",
    "import numpy as np\n",
    "import pandas as pd\n",
    "from pathlib import Path\n",
    "from collections import Counter\n",
    "import matplotlib.pyplot as plt\n",
    "from sklearn.linear_model import LinearRegression\n",
    "from sklearn.preprocessing import StandardScaler,MinMaxScaler\n",
    "from sklearn.metrics import balanced_accuracy_score\n",
    "from sklearn.metrics import confusion_matrix\n",
    "# from imblearn.metrics import classification_report_imbalanced\n"
   ]
  },
  {
   "cell_type": "markdown",
   "id": "84f31fcb",
   "metadata": {},
   "source": [
    "# Read the CSV and Perform Basic Data Cleaning"
   ]
  },
  {
   "cell_type": "code",
   "execution_count": 3,
   "id": "80ec72b6",
   "metadata": {
    "scrolled": true
   },
   "outputs": [
    {
     "data": {
      "text/html": [
       "<div>\n",
       "<style scoped>\n",
       "    .dataframe tbody tr th:only-of-type {\n",
       "        vertical-align: middle;\n",
       "    }\n",
       "\n",
       "    .dataframe tbody tr th {\n",
       "        vertical-align: top;\n",
       "    }\n",
       "\n",
       "    .dataframe thead th {\n",
       "        text-align: right;\n",
       "    }\n",
       "</style>\n",
       "<table border=\"1\" class=\"dataframe\">\n",
       "  <thead>\n",
       "    <tr style=\"text-align: right;\">\n",
       "      <th></th>\n",
       "      <th>date</th>\n",
       "      <th>currency_code</th>\n",
       "      <th>Country</th>\n",
       "      <th>local_price</th>\n",
       "      <th>dollar_ex</th>\n",
       "      <th>dollar_price</th>\n",
       "      <th>Year</th>\n",
       "      <th>Code</th>\n",
       "      <th>gdp_growth</th>\n",
       "      <th>GDP_Per_Capita</th>\n",
       "      <th>GDP</th>\n",
       "      <th>country_code</th>\n",
       "      <th>region</th>\n",
       "      <th>sub_region</th>\n",
       "    </tr>\n",
       "  </thead>\n",
       "  <tbody>\n",
       "    <tr>\n",
       "      <th>0</th>\n",
       "      <td>2000-04-01</td>\n",
       "      <td>ARS</td>\n",
       "      <td>Argentina</td>\n",
       "      <td>2.50</td>\n",
       "      <td>1</td>\n",
       "      <td>2.50</td>\n",
       "      <td>2000</td>\n",
       "      <td>ARG</td>\n",
       "      <td>-10.894485</td>\n",
       "      <td>6854.294081</td>\n",
       "      <td>2.582818e+11</td>\n",
       "      <td>32.0</td>\n",
       "      <td>Americas</td>\n",
       "      <td>Latin America and the Caribbean</td>\n",
       "    </tr>\n",
       "    <tr>\n",
       "      <th>1</th>\n",
       "      <td>2000-04-01</td>\n",
       "      <td>AUD</td>\n",
       "      <td>Australia</td>\n",
       "      <td>2.59</td>\n",
       "      <td>1</td>\n",
       "      <td>2.59</td>\n",
       "      <td>2000</td>\n",
       "      <td>AUS</td>\n",
       "      <td>4.001431</td>\n",
       "      <td>45806.687448</td>\n",
       "      <td>9.001655e+11</td>\n",
       "      <td>36.0</td>\n",
       "      <td>Oceania</td>\n",
       "      <td>Australia and New Zealand</td>\n",
       "    </tr>\n",
       "    <tr>\n",
       "      <th>2</th>\n",
       "      <td>2000-04-01</td>\n",
       "      <td>BRL</td>\n",
       "      <td>Brazil</td>\n",
       "      <td>2.95</td>\n",
       "      <td>1</td>\n",
       "      <td>2.95</td>\n",
       "      <td>2000</td>\n",
       "      <td>BRA</td>\n",
       "      <td>3.053462</td>\n",
       "      <td>8954.837245</td>\n",
       "      <td>1.607729e+12</td>\n",
       "      <td>76.0</td>\n",
       "      <td>Americas</td>\n",
       "      <td>Latin America and the Caribbean</td>\n",
       "    </tr>\n",
       "    <tr>\n",
       "      <th>3</th>\n",
       "      <td>2000-04-01</td>\n",
       "      <td>CAD</td>\n",
       "      <td>Canada</td>\n",
       "      <td>2.85</td>\n",
       "      <td>1</td>\n",
       "      <td>2.85</td>\n",
       "      <td>2000</td>\n",
       "      <td>CAN</td>\n",
       "      <td>3.016889</td>\n",
       "      <td>44863.216018</td>\n",
       "      <td>1.406914e+12</td>\n",
       "      <td>124.0</td>\n",
       "      <td>Americas</td>\n",
       "      <td>Northern America</td>\n",
       "    </tr>\n",
       "    <tr>\n",
       "      <th>4</th>\n",
       "      <td>2000-04-01</td>\n",
       "      <td>CLP</td>\n",
       "      <td>Chile</td>\n",
       "      <td>1260.00</td>\n",
       "      <td>514</td>\n",
       "      <td>2.45</td>\n",
       "      <td>2000</td>\n",
       "      <td>CHL</td>\n",
       "      <td>3.106971</td>\n",
       "      <td>9814.656135</td>\n",
       "      <td>1.539371e+11</td>\n",
       "      <td>152.0</td>\n",
       "      <td>Americas</td>\n",
       "      <td>Latin America and the Caribbean</td>\n",
       "    </tr>\n",
       "  </tbody>\n",
       "</table>\n",
       "</div>"
      ],
      "text/plain": [
       "         date currency_code    Country  local_price  dollar_ex  dollar_price  \\\n",
       "0  2000-04-01           ARS  Argentina         2.50          1          2.50   \n",
       "1  2000-04-01           AUD  Australia         2.59          1          2.59   \n",
       "2  2000-04-01           BRL     Brazil         2.95          1          2.95   \n",
       "3  2000-04-01           CAD     Canada         2.85          1          2.85   \n",
       "4  2000-04-01           CLP      Chile      1260.00        514          2.45   \n",
       "\n",
       "   Year Code  gdp_growth  GDP_Per_Capita           GDP  country_code  \\\n",
       "0  2000  ARG  -10.894485     6854.294081  2.582818e+11          32.0   \n",
       "1  2000  AUS    4.001431    45806.687448  9.001655e+11          36.0   \n",
       "2  2000  BRA    3.053462     8954.837245  1.607729e+12          76.0   \n",
       "3  2000  CAN    3.016889    44863.216018  1.406914e+12         124.0   \n",
       "4  2000  CHL    3.106971     9814.656135  1.539371e+11         152.0   \n",
       "\n",
       "     region                       sub_region  \n",
       "0  Americas  Latin America and the Caribbean  \n",
       "1   Oceania        Australia and New Zealand  \n",
       "2  Americas  Latin America and the Caribbean  \n",
       "3  Americas                 Northern America  \n",
       "4  Americas  Latin America and the Caribbean  "
      ]
     },
     "execution_count": 3,
     "metadata": {},
     "output_type": "execute_result"
    }
   ],
   "source": [
    "#Load data\n",
    "file_path = Path('../../Final_Project_Resources/final.csv')\n",
    "df = pd.read_csv (file_path)\n",
    "df.head()\n",
    "\n"
   ]
  },
  {
   "cell_type": "code",
   "execution_count": 4,
   "id": "6ba37a31",
   "metadata": {},
   "outputs": [],
   "source": [
    "# RAW GDP was converted into log10(GDP) this would be considered as preliminary feature engineering\n",
    "# Converting to log10(GDP) makes the data more manageable as raw GDP's are spread accross 3-orders of magnitude"
   ]
  },
  {
   "cell_type": "code",
   "execution_count": 5,
   "id": "a777cfe1",
   "metadata": {},
   "outputs": [],
   "source": [
    "# Converting raw GDP to log10 scale\n",
    "df['GDP_log10'] = np.log10(df['GDP'])"
   ]
  },
  {
   "cell_type": "code",
   "execution_count": 6,
   "id": "6394a6f1",
   "metadata": {
    "scrolled": false
   },
   "outputs": [
    {
     "data": {
      "text/html": [
       "<div>\n",
       "<style scoped>\n",
       "    .dataframe tbody tr th:only-of-type {\n",
       "        vertical-align: middle;\n",
       "    }\n",
       "\n",
       "    .dataframe tbody tr th {\n",
       "        vertical-align: top;\n",
       "    }\n",
       "\n",
       "    .dataframe thead th {\n",
       "        text-align: right;\n",
       "    }\n",
       "</style>\n",
       "<table border=\"1\" class=\"dataframe\">\n",
       "  <thead>\n",
       "    <tr style=\"text-align: right;\">\n",
       "      <th></th>\n",
       "      <th>date</th>\n",
       "      <th>currency_code</th>\n",
       "      <th>Country</th>\n",
       "      <th>local_price</th>\n",
       "      <th>dollar_ex</th>\n",
       "      <th>dollar_price</th>\n",
       "      <th>Year</th>\n",
       "      <th>Code</th>\n",
       "      <th>gdp_growth</th>\n",
       "      <th>GDP_Per_Capita</th>\n",
       "      <th>GDP</th>\n",
       "      <th>country_code</th>\n",
       "      <th>region</th>\n",
       "      <th>sub_region</th>\n",
       "      <th>GDP_log10</th>\n",
       "    </tr>\n",
       "  </thead>\n",
       "  <tbody>\n",
       "    <tr>\n",
       "      <th>0</th>\n",
       "      <td>2000-04-01</td>\n",
       "      <td>ARS</td>\n",
       "      <td>Argentina</td>\n",
       "      <td>2.50</td>\n",
       "      <td>1</td>\n",
       "      <td>2.50</td>\n",
       "      <td>2000</td>\n",
       "      <td>ARG</td>\n",
       "      <td>-10.894485</td>\n",
       "      <td>6854.294081</td>\n",
       "      <td>2.582818e+11</td>\n",
       "      <td>32.0</td>\n",
       "      <td>Americas</td>\n",
       "      <td>Latin America and the Caribbean</td>\n",
       "      <td>11.412094</td>\n",
       "    </tr>\n",
       "    <tr>\n",
       "      <th>1</th>\n",
       "      <td>2000-04-01</td>\n",
       "      <td>AUD</td>\n",
       "      <td>Australia</td>\n",
       "      <td>2.59</td>\n",
       "      <td>1</td>\n",
       "      <td>2.59</td>\n",
       "      <td>2000</td>\n",
       "      <td>AUS</td>\n",
       "      <td>4.001431</td>\n",
       "      <td>45806.687448</td>\n",
       "      <td>9.001655e+11</td>\n",
       "      <td>36.0</td>\n",
       "      <td>Oceania</td>\n",
       "      <td>Australia and New Zealand</td>\n",
       "      <td>11.954322</td>\n",
       "    </tr>\n",
       "    <tr>\n",
       "      <th>2</th>\n",
       "      <td>2000-04-01</td>\n",
       "      <td>BRL</td>\n",
       "      <td>Brazil</td>\n",
       "      <td>2.95</td>\n",
       "      <td>1</td>\n",
       "      <td>2.95</td>\n",
       "      <td>2000</td>\n",
       "      <td>BRA</td>\n",
       "      <td>3.053462</td>\n",
       "      <td>8954.837245</td>\n",
       "      <td>1.607729e+12</td>\n",
       "      <td>76.0</td>\n",
       "      <td>Americas</td>\n",
       "      <td>Latin America and the Caribbean</td>\n",
       "      <td>12.206213</td>\n",
       "    </tr>\n",
       "    <tr>\n",
       "      <th>3</th>\n",
       "      <td>2000-04-01</td>\n",
       "      <td>CAD</td>\n",
       "      <td>Canada</td>\n",
       "      <td>2.85</td>\n",
       "      <td>1</td>\n",
       "      <td>2.85</td>\n",
       "      <td>2000</td>\n",
       "      <td>CAN</td>\n",
       "      <td>3.016889</td>\n",
       "      <td>44863.216018</td>\n",
       "      <td>1.406914e+12</td>\n",
       "      <td>124.0</td>\n",
       "      <td>Americas</td>\n",
       "      <td>Northern America</td>\n",
       "      <td>12.148268</td>\n",
       "    </tr>\n",
       "    <tr>\n",
       "      <th>4</th>\n",
       "      <td>2000-04-01</td>\n",
       "      <td>CLP</td>\n",
       "      <td>Chile</td>\n",
       "      <td>1260.00</td>\n",
       "      <td>514</td>\n",
       "      <td>2.45</td>\n",
       "      <td>2000</td>\n",
       "      <td>CHL</td>\n",
       "      <td>3.106971</td>\n",
       "      <td>9814.656135</td>\n",
       "      <td>1.539371e+11</td>\n",
       "      <td>152.0</td>\n",
       "      <td>Americas</td>\n",
       "      <td>Latin America and the Caribbean</td>\n",
       "      <td>11.187343</td>\n",
       "    </tr>\n",
       "  </tbody>\n",
       "</table>\n",
       "</div>"
      ],
      "text/plain": [
       "         date currency_code    Country  local_price  dollar_ex  dollar_price  \\\n",
       "0  2000-04-01           ARS  Argentina         2.50          1          2.50   \n",
       "1  2000-04-01           AUD  Australia         2.59          1          2.59   \n",
       "2  2000-04-01           BRL     Brazil         2.95          1          2.95   \n",
       "3  2000-04-01           CAD     Canada         2.85          1          2.85   \n",
       "4  2000-04-01           CLP      Chile      1260.00        514          2.45   \n",
       "\n",
       "   Year Code  gdp_growth  GDP_Per_Capita           GDP  country_code  \\\n",
       "0  2000  ARG  -10.894485     6854.294081  2.582818e+11          32.0   \n",
       "1  2000  AUS    4.001431    45806.687448  9.001655e+11          36.0   \n",
       "2  2000  BRA    3.053462     8954.837245  1.607729e+12          76.0   \n",
       "3  2000  CAN    3.016889    44863.216018  1.406914e+12         124.0   \n",
       "4  2000  CHL    3.106971     9814.656135  1.539371e+11         152.0   \n",
       "\n",
       "     region                       sub_region  GDP_log10  \n",
       "0  Americas  Latin America and the Caribbean  11.412094  \n",
       "1   Oceania        Australia and New Zealand  11.954322  \n",
       "2  Americas  Latin America and the Caribbean  12.206213  \n",
       "3  Americas                 Northern America  12.148268  \n",
       "4  Americas  Latin America and the Caribbean  11.187343  "
      ]
     },
     "execution_count": 6,
     "metadata": {},
     "output_type": "execute_result"
    }
   ],
   "source": [
    "# Checking if the log10(GDP) column was added\n",
    "df.head()"
   ]
  },
  {
   "cell_type": "code",
   "execution_count": 7,
   "id": "91d1dd3e",
   "metadata": {
    "scrolled": true
   },
   "outputs": [
    {
     "data": {
      "text/html": [
       "<div>\n",
       "<style scoped>\n",
       "    .dataframe tbody tr th:only-of-type {\n",
       "        vertical-align: middle;\n",
       "    }\n",
       "\n",
       "    .dataframe tbody tr th {\n",
       "        vertical-align: top;\n",
       "    }\n",
       "\n",
       "    .dataframe thead th {\n",
       "        text-align: right;\n",
       "    }\n",
       "</style>\n",
       "<table border=\"1\" class=\"dataframe\">\n",
       "  <thead>\n",
       "    <tr style=\"text-align: right;\">\n",
       "      <th></th>\n",
       "      <th>local_price</th>\n",
       "      <th>dollar_ex</th>\n",
       "      <th>dollar_price</th>\n",
       "      <th>Year</th>\n",
       "      <th>gdp_growth</th>\n",
       "      <th>GDP_Per_Capita</th>\n",
       "      <th>GDP</th>\n",
       "      <th>country_code</th>\n",
       "      <th>GDP_log10</th>\n",
       "    </tr>\n",
       "  </thead>\n",
       "  <tbody>\n",
       "    <tr>\n",
       "      <th>count</th>\n",
       "      <td>9.200000e+02</td>\n",
       "      <td>9.200000e+02</td>\n",
       "      <td>920.000000</td>\n",
       "      <td>920.000000</td>\n",
       "      <td>920.000000</td>\n",
       "      <td>920.000000</td>\n",
       "      <td>9.200000e+02</td>\n",
       "      <td>920.000000</td>\n",
       "      <td>920.000000</td>\n",
       "    </tr>\n",
       "    <tr>\n",
       "      <th>mean</th>\n",
       "      <td>1.393870e+04</td>\n",
       "      <td>5.331433e+03</td>\n",
       "      <td>3.567609</td>\n",
       "      <td>2010.279348</td>\n",
       "      <td>3.070198</td>\n",
       "      <td>26113.144578</td>\n",
       "      <td>1.342889e+12</td>\n",
       "      <td>438.443478</td>\n",
       "      <td>11.678427</td>\n",
       "    </tr>\n",
       "    <tr>\n",
       "      <th>std</th>\n",
       "      <td>2.225534e+05</td>\n",
       "      <td>8.499408e+04</td>\n",
       "      <td>1.517102</td>\n",
       "      <td>4.525734</td>\n",
       "      <td>3.220871</td>\n",
       "      <td>22923.009189</td>\n",
       "      <td>2.847060e+12</td>\n",
       "      <td>258.334203</td>\n",
       "      <td>0.576048</td>\n",
       "    </tr>\n",
       "    <tr>\n",
       "      <th>min</th>\n",
       "      <td>2.040000e+00</td>\n",
       "      <td>1.000000e+00</td>\n",
       "      <td>0.800000</td>\n",
       "      <td>2000.000000</td>\n",
       "      <td>-14.758545</td>\n",
       "      <td>970.941956</td>\n",
       "      <td>2.229865e+10</td>\n",
       "      <td>32.000000</td>\n",
       "      <td>10.348279</td>\n",
       "    </tr>\n",
       "    <tr>\n",
       "      <th>25%</th>\n",
       "      <td>4.675000e+00</td>\n",
       "      <td>1.000000e+00</td>\n",
       "      <td>2.497500</td>\n",
       "      <td>2007.000000</td>\n",
       "      <td>1.601224</td>\n",
       "      <td>7495.754301</td>\n",
       "      <td>2.108129e+11</td>\n",
       "      <td>188.000000</td>\n",
       "      <td>11.323895</td>\n",
       "    </tr>\n",
       "    <tr>\n",
       "      <th>50%</th>\n",
       "      <td>1.395000e+01</td>\n",
       "      <td>5.000000e+00</td>\n",
       "      <td>3.330000</td>\n",
       "      <td>2012.000000</td>\n",
       "      <td>2.850864</td>\n",
       "      <td>14771.257645</td>\n",
       "      <td>3.945133e+11</td>\n",
       "      <td>416.000000</td>\n",
       "      <td>11.596062</td>\n",
       "    </tr>\n",
       "    <tr>\n",
       "      <th>75%</th>\n",
       "      <td>8.550000e+01</td>\n",
       "      <td>3.825000e+01</td>\n",
       "      <td>4.290000</td>\n",
       "      <td>2014.000000</td>\n",
       "      <td>4.789940</td>\n",
       "      <td>46498.842667</td>\n",
       "      <td>1.041007e+12</td>\n",
       "      <td>682.000000</td>\n",
       "      <td>12.017448</td>\n",
       "    </tr>\n",
       "    <tr>\n",
       "      <th>max</th>\n",
       "      <td>4.000000e+06</td>\n",
       "      <td>1.600500e+06</td>\n",
       "      <td>11.250000</td>\n",
       "      <td>2016.000000</td>\n",
       "      <td>25.162533</td>\n",
       "      <td>92121.421135</td>\n",
       "      <td>1.784427e+13</td>\n",
       "      <td>858.000000</td>\n",
       "      <td>13.251499</td>\n",
       "    </tr>\n",
       "  </tbody>\n",
       "</table>\n",
       "</div>"
      ],
      "text/plain": [
       "        local_price     dollar_ex  dollar_price         Year  gdp_growth  \\\n",
       "count  9.200000e+02  9.200000e+02    920.000000   920.000000  920.000000   \n",
       "mean   1.393870e+04  5.331433e+03      3.567609  2010.279348    3.070198   \n",
       "std    2.225534e+05  8.499408e+04      1.517102     4.525734    3.220871   \n",
       "min    2.040000e+00  1.000000e+00      0.800000  2000.000000  -14.758545   \n",
       "25%    4.675000e+00  1.000000e+00      2.497500  2007.000000    1.601224   \n",
       "50%    1.395000e+01  5.000000e+00      3.330000  2012.000000    2.850864   \n",
       "75%    8.550000e+01  3.825000e+01      4.290000  2014.000000    4.789940   \n",
       "max    4.000000e+06  1.600500e+06     11.250000  2016.000000   25.162533   \n",
       "\n",
       "       GDP_Per_Capita           GDP  country_code   GDP_log10  \n",
       "count      920.000000  9.200000e+02    920.000000  920.000000  \n",
       "mean     26113.144578  1.342889e+12    438.443478   11.678427  \n",
       "std      22923.009189  2.847060e+12    258.334203    0.576048  \n",
       "min        970.941956  2.229865e+10     32.000000   10.348279  \n",
       "25%       7495.754301  2.108129e+11    188.000000   11.323895  \n",
       "50%      14771.257645  3.945133e+11    416.000000   11.596062  \n",
       "75%      46498.842667  1.041007e+12    682.000000   12.017448  \n",
       "max      92121.421135  1.784427e+13    858.000000   13.251499  "
      ]
     },
     "execution_count": 7,
     "metadata": {},
     "output_type": "execute_result"
    }
   ],
   "source": [
    "# Checking how the data in the dataframe looks like\n",
    "df.describe()"
   ]
  },
  {
   "cell_type": "markdown",
   "id": "532cfd0e",
   "metadata": {},
   "source": [
    "# Using Linear Regression Model using raw GDP"
   ]
  },
  {
   "cell_type": "code",
   "execution_count": 8,
   "id": "c4a54506",
   "metadata": {},
   "outputs": [
    {
     "data": {
      "image/png": "[encoded data removed]",
      "text/plain": [
       "<Figure size 432x288 with 1 Axes>"
      ]
     },
     "metadata": {
      "needs_background": "light"
     },
     "output_type": "display_data"
    }
   ],
   "source": [
    "# Ploting the data as a scatter plot using GDP\n",
    "plt.scatter(df.GDP, df.dollar_price)\n",
    "plt.xlabel('Raw GDP')\n",
    "plt.ylabel('BigMac Price ($)')\n",
    "plt.title('GDP vs BigMac Price (Worldwide)')\n",
    "plt.show()"
   ]
  },
  {
   "cell_type": "code",
   "execution_count": 9,
   "id": "ca5f53aa",
   "metadata": {},
   "outputs": [
    {
     "name": "stdout",
     "output_type": "stream",
     "text": [
      "[[2.58281789e+11]\n",
      " [9.00165538e+11]\n",
      " [1.60772927e+12]\n",
      " [1.40691400e+12]\n",
      " [1.53937081e+11]\n",
      " [2.63911219e+12]\n",
      " [1.58841360e+11]\n",
      " [3.02077924e+11]\n",
      " [1.16318945e+11]\n",
      " [4.91078136e+11]\n",
      " [1.74245451e+11]\n",
      " [5.37700713e+12]\n",
      " [1.72171423e+11]\n",
      " [9.11151774e+11]\n",
      " [1.22735468e+11]\n",
      " [3.37018207e+11]\n",
      " [1.40169822e+11]\n",
      " [2.84356443e+11]\n",
      " [4.11654200e+11]\n",
      " [4.94345122e+11]\n",
      " [2.39058712e+11]\n",
      " [1.29682627e+13]\n",
      " [2.81106256e+11]\n",
      " [9.27044119e+11]\n",
      " [1.62607071e+12]\n",
      " [1.43225105e+12]\n",
      " [1.60234720e+11]\n",
      " [2.90396301e+12]\n",
      " [1.64564397e+11]\n",
      " [3.03256205e+11]\n",
      " [1.20795619e+11]\n",
      " [5.14553484e+11]\n",
      " [5.45917963e+12]\n",
      " [1.82137564e+11]\n",
      " [9.24330515e+11]\n",
      " [1.28336006e+11]\n",
      " [1.40322359e+11]\n",
      " [3.49023978e+11]\n",
      " [1.46527654e+11]\n",
      " [2.92742339e+11]\n",
      " [4.21368319e+11]\n",
      " [4.94540767e+11]\n",
      " [2.56245431e+11]\n",
      " [1.33393120e+13]\n",
      " [3.06488952e+11]\n",
      " [9.64640422e+11]\n",
      " [1.71973181e+12]\n",
      " [1.47646830e+12]\n",
      " [1.71786906e+11]\n",
      " [3.19758920e+12]\n",
      " [1.72638854e+11]\n",
      " [3.11347745e+11]\n",
      " [1.26841340e+11]\n",
      " [5.40440021e+11]\n",
      " [1.83340728e+11]\n",
      " [5.57953751e+12]\n",
      " [1.94492752e+11]\n",
      " [9.60569733e+11]\n",
      " [1.33512936e+11]\n",
      " [3.98671193e+11]\n",
      " [9.95300318e+10]\n",
      " [1.49720623e+11]\n",
      " [3.66948562e+11]\n",
      " [1.60915977e+11]\n",
      " [3.06075444e+11]\n",
      " [4.39532594e+11]\n",
      " [5.08270324e+11]\n",
      " [2.72361446e+11]\n",
      " [6.03733140e+11]\n",
      " [1.38460580e+13]\n",
      " [3.33618311e+11]\n",
      " [9.95549419e+11]\n",
      " [1.77479988e+12]\n",
      " [1.52375826e+12]\n",
      " [1.81652337e+11]\n",
      " [3.56197930e+12]\n",
      " [1.83918160e+11]\n",
      " [3.18622825e+11]\n",
      " [1.32407411e+11]\n",
      " [5.71204954e+11]\n",
      " [5.67230682e+12]\n",
      " [2.04863377e+11]\n",
      " [9.82737829e+11]\n",
      " [1.37947439e+11]\n",
      " [1.05785554e+11]\n",
      " [1.56873777e+11]\n",
      " [3.79768514e+11]\n",
      " [1.72757842e+11]\n",
      " [3.22227217e+11]\n",
      " [4.51912809e+11]\n",
      " [5.24104192e+11]\n",
      " [2.83767494e+11]\n",
      " [6.58128610e+11]\n",
      " [1.43324996e+13]\n",
      " [3.60465082e+11]\n",
      " [1.02337034e+12]\n",
      " [1.84511725e+12]\n",
      " [1.56390268e+12]\n",
      " [1.93127635e+11]\n",
      " [4.01504451e+12]\n",
      " [2.45554886e+11]\n",
      " [3.16776378e+10]\n",
      " [1.96523032e+11]\n",
      " [3.31090562e+11]\n",
      " [1.37506650e+11]\n",
      " [6.02626664e+11]\n",
      " [5.75285395e+12]\n",
      " [2.16304683e+11]\n",
      " [1.02691266e+12]\n",
      " [1.41870640e+11]\n",
      " [4.18934364e+11]\n",
      " [1.59256450e+11]\n",
      " [1.13750042e+11]\n",
      " [1.65098606e+11]\n",
      " [4.03236826e+11]\n",
      " [4.74473046e+11]\n",
      " [1.88315010e+11]\n",
      " [3.40284178e+11]\n",
      " [4.48258997e+10]\n",
      " [4.73150714e+11]\n",
      " [5.45008792e+11]\n",
      " [2.97864827e+11]\n",
      " [7.04919602e+11]\n",
      " [1.39607969e+11]\n",
      " [1.47416885e+13]\n",
      " [3.13934714e+10]\n",
      " [3.92934518e+11]\n",
      " [1.06271177e+12]\n",
      " [1.95711348e+12]\n",
      " [1.59631946e+12]\n",
      " [2.02601173e+11]\n",
      " [4.58644107e+12]\n",
      " [2.62372092e+11]\n",
      " [3.42650344e+10]\n",
      " [2.07533517e+11]\n",
      " [3.34100966e+11]\n",
      " [1.38087473e+11]\n",
      " [6.40863459e+11]\n",
      " [5.84801674e+12]\n",
      " [2.29929252e+11]\n",
      " [1.05044381e+12]\n",
      " [1.46145361e+11]\n",
      " [4.31439785e+11]\n",
      " [1.66953024e+11]\n",
      " [1.23439712e+11]\n",
      " [1.76022624e+11]\n",
      " [4.31603489e+11]\n",
      " [4.83237181e+11]\n",
      " [2.05305010e+11]\n",
      " [3.58525030e+11]\n",
      " [4.78726382e+10]\n",
      " [4.89276156e+11]\n",
      " [5.67418887e+11]\n",
      " [3.14054056e+11]\n",
      " [7.40380284e+11]\n",
      " [1.50209058e+11]\n",
      " [1.50182679e+13]\n",
      " [3.34470787e+10]\n",
      " [4.08876788e+11]\n",
      " [1.10158517e+12]\n",
      " [2.05681267e+12]\n",
      " [1.61240411e+12]\n",
      " [2.09752043e+11]\n",
      " [5.02922937e+12]\n",
      " [2.13100153e+11]\n",
      " [3.32390313e+11]\n",
      " [1.39263041e+11]\n",
      " [6.79403088e+11]\n",
      " [5.78406630e+12]\n",
      " [2.41038904e+11]\n",
      " [1.06245652e+12]\n",
      " [1.44670909e+11]\n",
      " [1.34705521e+11]\n",
      " [1.83332415e+11]\n",
      " [4.49945279e+11]\n",
      " [2.09140543e+11]\n",
      " [3.69965731e+11]\n",
      " [4.86550604e+11]\n",
      " [5.79645073e+11]\n",
      " [3.19473586e+11]\n",
      " [7.46638359e+11]\n",
      " [1.49977559e+13]\n",
      " [4.08876788e+11]\n",
      " [1.10158517e+12]\n",
      " [2.05681267e+12]\n",
      " [1.61240411e+12]\n",
      " [2.09752043e+11]\n",
      " [5.02922937e+12]\n",
      " [2.70917679e+11]\n",
      " [3.58582208e+10]\n",
      " [2.13100153e+11]\n",
      " [3.32390313e+11]\n",
      " [1.39263041e+11]\n",
      " [6.79403088e+11]\n",
      " [5.78406630e+12]\n",
      " [2.41038904e+11]\n",
      " [1.06245652e+12]\n",
      " [1.44670909e+11]\n",
      " [4.33513908e+11]\n",
      " [1.69793571e+11]\n",
      " [1.34705521e+11]\n",
      " [1.83332415e+11]\n",
      " [4.49945279e+11]\n",
      " [5.13438407e+11]\n",
      " [2.09140543e+11]\n",
      " [3.69965731e+11]\n",
      " [5.07211024e+10]\n",
      " [4.86550604e+11]\n",
      " [5.79645073e+11]\n",
      " [3.19473586e+11]\n",
      " [7.46638359e+11]\n",
      " [1.53669918e+11]\n",
      " [1.49977559e+13]\n",
      " [3.58472894e+10]\n",
      " [3.84677313e+11]\n",
      " [1.12292183e+12]\n",
      " [2.05422495e+12]\n",
      " [1.56518646e+12]\n",
      " [2.06471019e+11]\n",
      " [5.50196753e+12]\n",
      " [2.74183380e+11]\n",
      " [3.55101995e+10]\n",
      " [2.02865865e+11]\n",
      " [3.16081424e+11]\n",
      " [1.30070297e+11]\n",
      " [7.10851782e+11]\n",
      " [5.47077739e+12]\n",
      " [2.37390711e+11]\n",
      " [1.00629779e+12]\n",
      " [1.44361750e+11]\n",
      " [4.26183201e+11]\n",
      " [1.74601546e+11]\n",
      " [1.36181656e+11]\n",
      " [1.85437680e+11]\n",
      " [4.62634564e+11]\n",
      " [5.02865333e+11]\n",
      " [2.09393611e+11]\n",
      " [3.64275328e+11]\n",
      " [5.25160776e+10]\n",
      " [4.61269932e+11]\n",
      " [5.66764738e+11]\n",
      " [3.17266875e+11]\n",
      " [7.11513012e+11]\n",
      " [1.30990473e+11]\n",
      " [1.46172993e+13]\n",
      " [3.73684671e+10]\n",
      " [3.84677313e+11]\n",
      " [1.12292183e+12]\n",
      " [2.05422495e+12]\n",
      " [1.56518646e+12]\n",
      " [2.06471019e+11]\n",
      " [5.50196753e+12]\n",
      " [2.74183380e+11]\n",
      " [3.55101995e+10]\n",
      " [2.02865865e+11]\n",
      " [3.16081424e+11]\n",
      " [1.30070297e+11]\n",
      " [7.10851782e+11]\n",
      " [5.47077739e+12]\n",
      " [2.37390711e+11]\n",
      " [1.00629779e+12]\n",
      " [1.44361750e+11]\n",
      " [4.26183201e+11]\n",
      " [1.74601546e+11]\n",
      " [1.36181656e+11]\n",
      " [1.85437680e+11]\n",
      " [4.62634564e+11]\n",
      " [5.02865333e+11]\n",
      " [2.09393611e+11]\n",
      " [3.64275328e+11]\n",
      " [5.25160776e+10]\n",
      " [4.61269932e+11]\n",
      " [5.66764738e+11]\n",
      " [3.17266875e+11]\n",
      " [7.11513012e+11]\n",
      " [1.30990473e+11]\n",
      " [1.46172993e+13]\n",
      " [3.73684671e+10]\n",
      " [4.23627422e+11]\n",
      " [1.14613847e+12]\n",
      " [2.20887165e+12]\n",
      " [1.61354281e+12]\n",
      " [2.18537551e+11]\n",
      " [6.08716453e+12]\n",
      " [2.86103649e+11]\n",
      " [3.72686162e+10]\n",
      " [2.07477858e+11]\n",
      " [3.21995279e+11]\n",
      " [1.30922639e+11]\n",
      " [7.55094160e+11]\n",
      " [5.70009811e+12]\n",
      " [2.55016609e+11]\n",
      " [1.05780130e+12]\n",
      " [1.46583832e+11]\n",
      " [4.29130953e+11]\n",
      " [1.77406855e+11]\n",
      " [1.47528937e+11]\n",
      " [1.99590775e+11]\n",
      " [4.79321461e+11]\n",
      " [5.28207200e+11]\n",
      " [2.39809388e+11]\n",
      " [3.75348317e+11]\n",
      " [5.67257492e+10]\n",
      " [4.88909079e+11]\n",
      " [5.83782978e+11]\n",
      " [3.41105010e+11]\n",
      " [7.71901769e+11]\n",
      " [1.36013156e+11]\n",
      " [1.49920527e+13]\n",
      " [4.02844817e+10]\n",
      " [4.49061808e+11]\n",
      " [1.17436470e+12]\n",
      " [2.29666155e+12]\n",
      " [1.66431909e+12]\n",
      " [2.31892204e+11]\n",
      " [6.66854438e+12]\n",
      " [3.07168118e+11]\n",
      " [3.88738134e+10]\n",
      " [2.11166468e+11]\n",
      " [3.26299641e+11]\n",
      " [1.33092888e+11]\n",
      " [8.01681841e+11]\n",
      " [2.45345262e+11]\n",
      " [5.69351899e+12]\n",
      " [2.68516966e+11]\n",
      " [1.09654864e+12]\n",
      " [1.50005392e+11]\n",
      " [4.33301826e+11]\n",
      " [1.82282709e+11]\n",
      " [1.56863377e+11]\n",
      " [2.06895302e+11]\n",
      " [5.03370477e+11]\n",
      " [5.81011323e+11]\n",
      " [2.54826894e+11]\n",
      " [3.87675387e+11]\n",
      " [6.14933970e+10]\n",
      " [5.02008068e+11]\n",
      " [5.93665306e+11]\n",
      " [3.43970153e+11]\n",
      " [8.57687038e+11]\n",
      " [1.43446998e+11]\n",
      " [1.52245548e+13]\n",
      " [4.23640202e+10]\n",
      " [4.44452546e+11]\n",
      " [1.22017549e+12]\n",
      " [2.34078446e+12]\n",
      " [1.69364902e+12]\n",
      " [2.44225687e+11]\n",
      " [7.19266713e+12]\n",
      " [3.19157056e+11]\n",
      " [4.07385591e+10]\n",
      " [2.09477465e+11]\n",
      " [3.27038709e+11]\n",
      " [1.30921606e+11]\n",
      " [8.50023662e+11]\n",
      " [2.50537243e+11]\n",
      " [5.77864219e+12]\n",
      " [2.83214119e+11]\n",
      " [1.13648848e+12]\n",
      " [1.53344460e+11]\n",
      " [4.45094685e+11]\n",
      " [1.88675425e+11]\n",
      " [1.66494356e+11]\n",
      " [2.20723809e+11]\n",
      " [5.11464199e+11]\n",
      " [6.12452430e+11]\n",
      " [2.66164947e+11]\n",
      " [3.96256019e+11]\n",
      " [6.71167051e+10]\n",
      " [5.00509512e+11]\n",
      " [5.99637722e+11]\n",
      " [3.68883178e+11]\n",
      " [8.98769735e+11]\n",
      " [1.43789380e+11]\n",
      " [1.55670381e+13]\n",
      " [4.38629349e+10]\n",
      " [4.44452546e+11]\n",
      " [1.22017549e+12]\n",
      " [2.34078446e+12]\n",
      " [1.69364902e+12]\n",
      " [2.44225687e+11]\n",
      " [7.19266713e+12]\n",
      " [3.19157056e+11]\n",
      " [4.07385591e+10]\n",
      " [2.09477465e+11]\n",
      " [3.27038709e+11]\n",
      " [1.30921606e+11]\n",
      " [8.50023662e+11]\n",
      " [2.50537243e+11]\n",
      " [5.77864219e+12]\n",
      " [2.83214119e+11]\n",
      " [1.13648848e+12]\n",
      " [1.53344460e+11]\n",
      " [4.45094685e+11]\n",
      " [1.88675425e+11]\n",
      " [1.66494356e+11]\n",
      " [2.20723809e+11]\n",
      " [5.11464199e+11]\n",
      " [6.12452430e+11]\n",
      " [2.66164947e+11]\n",
      " [3.96256019e+11]\n",
      " [6.71167051e+10]\n",
      " [5.00509512e+11]\n",
      " [5.99637722e+11]\n",
      " [3.68883178e+11]\n",
      " [8.98769735e+11]\n",
      " [1.43789380e+11]\n",
      " [1.55670381e+13]\n",
      " [4.38629349e+10]\n",
      " [4.55143068e+11]\n",
      " [1.25209190e+12]\n",
      " [4.06195100e+11]\n",
      " [4.94389453e+11]\n",
      " [2.41112088e+12]\n",
      " [1.73311401e+12]\n",
      " [2.54104627e+11]\n",
      " [7.75143777e+12]\n",
      " [3.33732544e+11]\n",
      " [4.16629281e+10]\n",
      " [2.08464283e+11]\n",
      " [3.30091095e+11]\n",
      " [2.22986471e+10]\n",
      " [2.48646123e+11]\n",
      " [2.72462319e+12]\n",
      " [3.57701459e+12]\n",
      " [2.43989731e+11]\n",
      " [1.33662636e+11]\n",
      " [1.97841952e+12]\n",
      " [8.97261718e+11]\n",
      " [2.26434603e+11]\n",
      " [2.60920947e+11]\n",
      " [2.04116576e+12]\n",
      " [5.89423052e+12]\n",
      " [2.96507404e+11]\n",
      " [1.15187758e+12]\n",
      " [8.49721180e+11]\n",
      " [1.57293672e+11]\n",
      " [4.49743205e+11]\n",
      " [1.96970458e+11]\n",
      " [1.76238469e+11]\n",
      " [2.36315792e+11]\n",
      " [5.18583226e+11]\n",
      " [2.21988393e+11]\n",
      " [6.28984081e+11]\n",
      " [2.78980909e+11]\n",
      " [4.06103775e+11]\n",
      " [1.35235524e+12]\n",
      " [6.93958090e+10]\n",
      " [5.06707568e+11]\n",
      " [6.10743251e+11]\n",
      " [3.78796470e+11]\n",
      " [9.75087053e+11]\n",
      " [1.43750945e+11]\n",
      " [1.58537956e+13]\n",
      " [4.58970955e+10]\n",
      " [4.43707074e+11]\n",
      " [1.28425447e+12]\n",
      " [4.08881166e+11]\n",
      " [5.00592444e+11]\n",
      " [2.42327187e+12]\n",
      " [1.78282758e+12]\n",
      " [2.58593994e+11]\n",
      " [8.31725543e+12]\n",
      " [3.49512460e+11]\n",
      " [4.31275211e+10]\n",
      " [2.14124331e+11]\n",
      " [3.35436570e+11]\n",
      " [2.29427577e+10]\n",
      " [2.47075356e+11]\n",
      " [2.75067557e+12]\n",
      " [3.65492435e+12]\n",
      " [2.45794711e+11]\n",
      " [1.39309419e+11]\n",
      " [2.12502491e+12]\n",
      " [9.42184637e+11]\n",
      " [2.45809905e+11]\n",
      " [2.71091374e+11]\n",
      " [2.04348601e+12]\n",
      " [5.91631735e+12]\n",
      " [3.14317780e+11]\n",
      " [1.18418015e+12]\n",
      " [8.61816072e+11]\n",
      " [1.63137970e+11]\n",
      " [4.58626161e+11]\n",
      " [2.06178251e+11]\n",
      " [1.80436360e+11]\n",
      " [2.50838104e+11]\n",
      " [5.35792127e+11]\n",
      " [2.23971166e+11]\n",
      " [6.51957610e+11]\n",
      " [2.89862764e+11]\n",
      " [4.13604478e+11]\n",
      " [1.37101771e+12]\n",
      " [7.28383273e+10]\n",
      " [5.19891606e+11]\n",
      " [6.25701685e+11]\n",
      " [3.82525396e+11]\n",
      " [1.02546678e+12]\n",
      " [1.34331494e+11]\n",
      " [1.62425264e+13]\n",
      " [4.73836066e+10]\n",
      " [4.43707074e+11]\n",
      " [1.28425447e+12]\n",
      " [4.08881166e+11]\n",
      " [5.00592444e+11]\n",
      " [2.42327187e+12]\n",
      " [1.78282758e+12]\n",
      " [2.58593994e+11]\n",
      " [8.31725543e+12]\n",
      " [3.49512460e+11]\n",
      " [2.14124331e+11]\n",
      " [3.35436570e+11]\n",
      " [2.29427577e+10]\n",
      " [2.47075356e+11]\n",
      " [2.75067557e+12]\n",
      " [3.65492435e+12]\n",
      " [2.45794711e+11]\n",
      " [1.39309419e+11]\n",
      " [2.12502491e+12]\n",
      " [9.42184637e+11]\n",
      " [2.45809905e+11]\n",
      " [2.71091374e+11]\n",
      " [2.04348601e+12]\n",
      " [5.91631735e+12]\n",
      " [3.14317780e+11]\n",
      " [1.18418015e+12]\n",
      " [8.61816072e+11]\n",
      " [1.63137970e+11]\n",
      " [4.58626161e+11]\n",
      " [2.06178251e+11]\n",
      " [2.50838104e+11]\n",
      " [5.35792127e+11]\n",
      " [2.23971166e+11]\n",
      " [6.51957610e+11]\n",
      " [2.89862764e+11]\n",
      " [4.13604478e+11]\n",
      " [1.37101771e+12]\n",
      " [7.28383273e+10]\n",
      " [5.19891606e+11]\n",
      " [6.25701685e+11]\n",
      " [3.82525396e+11]\n",
      " [1.02546678e+12]\n",
      " [1.34331494e+11]\n",
      " [1.62425264e+13]\n",
      " [4.73836066e+10]\n",
      " [4.55825423e+11]\n",
      " [1.31425562e+12]\n",
      " [4.13554596e+11]\n",
      " [5.09300652e+11]\n",
      " [2.33734838e+12]\n",
      " [1.79512743e+12]\n",
      " [2.64551398e+11]\n",
      " [8.89158826e+12]\n",
      " [3.59843860e+11]\n",
      " [4.46937969e+10]\n",
      " [2.25492702e+11]\n",
      " [3.43294475e+11]\n",
      " [2.33787359e+10]\n",
      " [2.48312368e+11]\n",
      " [2.78128818e+12]\n",
      " [3.71848230e+12]\n",
      " [2.44718539e+11]\n",
      " [1.44235993e+11]\n",
      " [2.29494729e+12]\n",
      " [9.88128597e+11]\n",
      " [3.07661904e+11]\n",
      " [2.78051244e+11]\n",
      " [2.06236767e+12]\n",
      " [5.98866924e+12]\n",
      " [3.30321319e+11]\n",
      " [1.22311589e+12]\n",
      " [8.78700512e+11]\n",
      " [1.68985984e+11]\n",
      " [4.67661340e+11]\n",
      " [2.15932849e+11]\n",
      " [1.86311169e+11]\n",
      " [2.66055320e+11]\n",
      " [5.56360893e+11]\n",
      " [2.28052067e+11]\n",
      " [6.78729655e+11]\n",
      " [2.98247042e+11]\n",
      " [4.18541810e+11]\n",
      " [1.42098692e+12]\n",
      " [7.64858400e+10]\n",
      " [5.43060935e+11]\n",
      " [6.34044598e+11]\n",
      " [3.94513347e+11]\n",
      " [1.08787553e+12]\n",
      " [1.21203312e+11]\n",
      " [1.67104590e+13]\n",
      " [4.75592772e+10]\n",
      " [4.55825423e+11]\n",
      " [1.31425562e+12]\n",
      " [4.13554596e+11]\n",
      " [5.09300652e+11]\n",
      " [2.33734838e+12]\n",
      " [1.79512743e+12]\n",
      " [2.64551398e+11]\n",
      " [8.89158826e+12]\n",
      " [3.59843860e+11]\n",
      " [4.46937969e+10]\n",
      " [2.25492702e+11]\n",
      " [3.43294475e+11]\n",
      " [2.33787359e+10]\n",
      " [2.48312368e+11]\n",
      " [2.78128818e+12]\n",
      " [3.71848230e+12]\n",
      " [2.44718539e+11]\n",
      " [1.44235993e+11]\n",
      " [2.29494729e+12]\n",
      " [9.88128597e+11]\n",
      " [3.07661904e+11]\n",
      " [2.78051244e+11]\n",
      " [2.06236767e+12]\n",
      " [5.98866924e+12]\n",
      " [3.30321319e+11]\n",
      " [1.22311589e+12]\n",
      " [8.78700512e+11]\n",
      " [1.68985984e+11]\n",
      " [4.67661340e+11]\n",
      " [2.15932849e+11]\n",
      " [1.86311169e+11]\n",
      " [2.66055320e+11]\n",
      " [5.56360893e+11]\n",
      " [2.28052067e+11]\n",
      " [6.78729655e+11]\n",
      " [2.98247042e+11]\n",
      " [4.18541810e+11]\n",
      " [1.42098692e+12]\n",
      " [7.64858400e+10]\n",
      " [5.43060935e+11]\n",
      " [6.34044598e+11]\n",
      " [3.94513347e+11]\n",
      " [1.08787553e+12]\n",
      " [1.21203312e+11]\n",
      " [1.67104590e+13]\n",
      " [4.75592772e+10]\n",
      " [4.46342760e+11]\n",
      " [1.35166926e+12]\n",
      " [4.21989352e+11]\n",
      " [5.16698510e+11]\n",
      " [2.26008840e+12]\n",
      " [1.81500127e+12]\n",
      " [2.68970835e+11]\n",
      " [9.49058569e+12]\n",
      " [3.67355177e+11]\n",
      " [4.65914909e+10]\n",
      " [2.31018496e+11]\n",
      " [3.51532416e+11]\n",
      " [2.41944427e+10]\n",
      " [2.55195402e+11]\n",
      " [2.81175620e+12]\n",
      " [3.80185942e+12]\n",
      " [2.44251243e+11]\n",
      " [1.47525724e+11]\n",
      " [2.48243362e+12]\n",
      " [1.03786179e+12]\n",
      " [3.18977142e+11]\n",
      " [2.89195229e+11]\n",
      " [2.08544352e+12]\n",
      " [6.02514581e+12]\n",
      " [4.57328689e+10]\n",
      " [3.44272143e+11]\n",
      " [1.25885063e+12]\n",
      " [8.97959111e+11]\n",
      " [1.75146874e+11]\n",
      " [4.73214139e+11]\n",
      " [2.27866887e+11]\n",
      " [1.93681419e+11]\n",
      " [2.84370715e+11]\n",
      " [5.73399993e+11]\n",
      " [2.32443749e+11]\n",
      " [6.90068800e+11]\n",
      " [3.07082095e+11]\n",
      " [4.20569779e+11]\n",
      " [1.46606900e+12]\n",
      " [7.99174802e+10]\n",
      " [5.57636508e+11]\n",
      " [6.44197069e+11]\n",
      " [4.07755144e+11]\n",
      " [1.12251166e+12]\n",
      " [1.24161878e+11]\n",
      " [1.69723479e+13]\n",
      " [4.83629330e+10]\n",
      " [4.46342760e+11]\n",
      " [1.35166926e+12]\n",
      " [4.21989352e+11]\n",
      " [5.16698510e+11]\n",
      " [2.26008840e+12]\n",
      " [1.81500127e+12]\n",
      " [2.68970835e+11]\n",
      " [9.49058569e+12]\n",
      " [3.67355177e+11]\n",
      " [4.65914909e+10]\n",
      " [2.31018496e+11]\n",
      " [3.51532416e+11]\n",
      " [2.41944427e+10]\n",
      " [2.55195402e+11]\n",
      " [2.81175620e+12]\n",
      " [3.80185942e+12]\n",
      " [2.44251243e+11]\n",
      " [1.47525724e+11]\n",
      " [2.48243362e+12]\n",
      " [1.03786179e+12]\n",
      " [3.18977142e+11]\n",
      " [2.89195229e+11]\n",
      " [2.08544352e+12]\n",
      " [6.02514581e+12]\n",
      " [4.57328689e+10]\n",
      " [3.44272143e+11]\n",
      " [1.25885063e+12]\n",
      " [8.97959111e+11]\n",
      " [1.75146874e+11]\n",
      " [4.73214139e+11]\n",
      " [2.27866887e+11]\n",
      " [1.93681419e+11]\n",
      " [2.84370715e+11]\n",
      " [5.73399993e+11]\n",
      " [2.32443749e+11]\n",
      " [6.90068800e+11]\n",
      " [3.07082095e+11]\n",
      " [4.20569779e+11]\n",
      " [1.46606900e+12]\n",
      " [7.99174802e+10]\n",
      " [5.57636508e+11]\n",
      " [6.44197069e+11]\n",
      " [4.07755144e+11]\n",
      " [1.12251166e+12]\n",
      " [1.24161878e+11]\n",
      " [1.69723479e+13]\n",
      " [4.83629330e+10]\n",
      " [1.64104855e+11]\n",
      " [4.58253820e+11]\n",
      " [1.38333323e+12]\n",
      " [4.32753797e+11]\n",
      " [5.25660076e+11]\n",
      " [2.28413260e+12]\n",
      " [1.86906228e+12]\n",
      " [2.72411465e+11]\n",
      " [1.01318653e+13]\n",
      " [3.72319346e+11]\n",
      " [4.81742886e+10]\n",
      " [2.41073816e+11]\n",
      " [3.59485377e+11]\n",
      " [2.53694910e+10]\n",
      " [2.62961827e+11]\n",
      " [2.87530759e+12]\n",
      " [3.88386969e+12]\n",
      " [2.47927467e+11]\n",
      " [1.53628958e+11]\n",
      " [2.66037170e+12]\n",
      " [1.09045447e+12]\n",
      " [3.44958775e+11]\n",
      " [2.99156882e+11]\n",
      " [2.12056619e+12]\n",
      " [6.14135625e+12]\n",
      " [3.64573903e+11]\n",
      " [1.28490525e+12]\n",
      " [9.24097826e+11]\n",
      " [1.80626275e+11]\n",
      " [4.82585850e+11]\n",
      " [2.40856715e+11]\n",
      " [1.98560425e+11]\n",
      " [3.03359722e+11]\n",
      " [6.01004212e+11]\n",
      " [2.38940608e+11]\n",
      " [6.84951733e+11]\n",
      " [3.18443462e+11]\n",
      " [4.26518791e+11]\n",
      " [1.50974587e+12]\n",
      " [8.26505135e+10]\n",
      " [5.69373173e+11]\n",
      " [6.54611753e+11]\n",
      " [4.24163561e+11]\n",
      " [1.20603992e+12]\n",
      " [1.27223776e+11]\n",
      " [1.73486266e+13]\n",
      " [4.96161803e+10]\n",
      " [1.75284081e+11]\n",
      " [4.58253820e+11]\n",
      " [1.38333323e+12]\n",
      " [4.32753797e+11]\n",
      " [5.25660076e+11]\n",
      " [2.28413260e+12]\n",
      " [1.86906228e+12]\n",
      " [2.72411465e+11]\n",
      " [1.01318653e+13]\n",
      " [3.72319346e+11]\n",
      " [4.81742886e+10]\n",
      " [2.41073816e+11]\n",
      " [3.59485377e+11]\n",
      " [2.53694910e+10]\n",
      " [2.62961827e+11]\n",
      " [2.87530759e+12]\n",
      " [3.88386969e+12]\n",
      " [2.47927467e+11]\n",
      " [1.53628958e+11]\n",
      " [2.66037170e+12]\n",
      " [1.09045447e+12]\n",
      " [3.44958775e+11]\n",
      " [2.99156882e+11]\n",
      " [2.12056619e+12]\n",
      " [6.14135625e+12]\n",
      " [3.64573903e+11]\n",
      " [1.28490525e+12]\n",
      " [9.24097826e+11]\n",
      " [1.80626275e+11]\n",
      " [4.82585850e+11]\n",
      " [2.40856715e+11]\n",
      " [1.98560425e+11]\n",
      " [3.03359722e+11]\n",
      " [6.01004212e+11]\n",
      " [2.38940608e+11]\n",
      " [6.84951733e+11]\n",
      " [3.18443462e+11]\n",
      " [4.26518791e+11]\n",
      " [1.50974587e+12]\n",
      " [8.26505135e+10]\n",
      " [5.69373173e+11]\n",
      " [6.54611753e+11]\n",
      " [4.24163561e+11]\n",
      " [1.20603992e+12]\n",
      " [1.27223776e+11]\n",
      " [1.73486266e+13]\n",
      " [4.96161803e+10]\n",
      " [1.75284081e+11]\n",
      " [4.46730617e+11]\n",
      " [1.42255001e+12]\n",
      " [4.44564008e+11]\n",
      " [5.33218198e+11]\n",
      " [2.30965959e+12]\n",
      " [1.90417381e+12]\n",
      " [2.83375081e+11]\n",
      " [1.08005684e+13]\n",
      " [3.82216045e+11]\n",
      " [4.94576756e+10]\n",
      " [2.48204260e+11]\n",
      " [3.64840483e+11]\n",
      " [2.63502130e+10]\n",
      " [2.67320508e+11]\n",
      " [2.92490322e+12]\n",
      " [3.93922661e+12]\n",
      " [2.52723304e+11]\n",
      " [1.61218872e+11]\n",
      " [2.84612773e+12]\n",
      " [1.14684482e+12]\n",
      " [3.73141462e+11]\n",
      " [3.09055479e+11]\n",
      " [2.13876617e+12]\n",
      " [6.18974801e+12]\n",
      " [3.81795039e+11]\n",
      " [1.31052892e+12]\n",
      " [9.48100839e+11]\n",
      " [1.85649635e+11]\n",
      " [4.89564185e+11]\n",
      " [2.53935261e+11]\n",
      " [2.06456183e+11]\n",
      " [3.22300707e+11]\n",
      " [6.31952708e+11]\n",
      " [2.44064957e+11]\n",
      " [7.00123200e+11]\n",
      " [3.28440882e+11]\n",
      " [4.29875731e+11]\n",
      " [1.54872368e+12]\n",
      " [8.53028768e+10]\n",
      " [5.82804342e+11]\n",
      " [6.71241685e+11]\n",
      " [4.41678233e+11]\n",
      " [1.23699442e+12]\n",
      " [1.31467312e+11]\n",
      " [1.78442747e+13]\n",
      " [5.04200040e+10]\n",
      " [1.87686812e+11]\n",
      " [4.46730617e+11]\n",
      " [1.42255001e+12]\n",
      " [4.44564008e+11]\n",
      " [5.33218198e+11]\n",
      " [2.30965959e+12]\n",
      " [1.90417381e+12]\n",
      " [2.83375081e+11]\n",
      " [1.08005684e+13]\n",
      " [3.82216045e+11]\n",
      " [4.94576756e+10]\n",
      " [2.48204260e+11]\n",
      " [3.64840483e+11]\n",
      " [2.63502130e+10]\n",
      " [2.67320508e+11]\n",
      " [2.92490322e+12]\n",
      " [3.93922661e+12]\n",
      " [2.52723304e+11]\n",
      " [1.61218872e+11]\n",
      " [2.84612773e+12]\n",
      " [1.14684482e+12]\n",
      " [3.73141462e+11]\n",
      " [3.09055479e+11]\n",
      " [2.13876617e+12]\n",
      " [6.18974801e+12]\n",
      " [3.81795039e+11]\n",
      " [1.31052892e+12]\n",
      " [9.48100839e+11]\n",
      " [1.85649635e+11]\n",
      " [4.89564185e+11]\n",
      " [2.53935261e+11]\n",
      " [2.06456183e+11]\n",
      " [3.22300707e+11]\n",
      " [6.31952708e+11]\n",
      " [2.44064957e+11]\n",
      " [7.00123200e+11]\n",
      " [3.28440882e+11]\n",
      " [4.29875731e+11]\n",
      " [1.54872368e+12]\n",
      " [8.53028768e+10]\n",
      " [5.82804342e+11]\n",
      " [6.71241685e+11]\n",
      " [4.41678233e+11]\n",
      " [1.23699442e+12]\n",
      " [1.31467312e+11]\n",
      " [1.78442747e+13]\n",
      " [5.04200040e+10]\n",
      " [1.87686812e+11]]\n"
     ]
    }
   ],
   "source": [
    "# Defining raw GDP as the independant variable (feature)\n",
    "X =df.GDP.values.reshape(-1,1)\n",
    "print(X)"
   ]
  },
  {
   "cell_type": "code",
   "execution_count": 10,
   "id": "64524d3d",
   "metadata": {},
   "outputs": [],
   "source": [
    "# Defining dollar_price of BigMac as the dependant variable(target)\n",
    "y= df.dollar_price.values.reshape(-1,1)"
   ]
  },
  {
   "cell_type": "code",
   "execution_count": 11,
   "id": "062e3ecb",
   "metadata": {},
   "outputs": [],
   "source": [
    "# scaler = StandardScaler()"
   ]
  },
  {
   "cell_type": "code",
   "execution_count": 12,
   "id": "5c4b2587",
   "metadata": {},
   "outputs": [],
   "source": [
    "from sklearn.model_selection import train_test_split\n",
    "X_train, X_test, y_train, y_test = train_test_split(X,y, test_size=0.2, random_state=2)"
   ]
  },
  {
   "cell_type": "code",
   "execution_count": 13,
   "id": "8f8dab27",
   "metadata": {},
   "outputs": [],
   "source": [
    "# Instantiate linear regression model\n",
    "model = LinearRegression()"
   ]
  },
  {
   "cell_type": "code",
   "execution_count": 14,
   "id": "084e6274",
   "metadata": {},
   "outputs": [
    {
     "data": {
      "text/plain": [
       "LinearRegression()"
      ]
     },
     "execution_count": 14,
     "metadata": {},
     "output_type": "execute_result"
    }
   ],
   "source": [
    "# training the model\n",
    "model.fit(X,y)"
   ]
  },
  {
   "cell_type": "code",
   "execution_count": 15,
   "id": "5bd1a669",
   "metadata": {},
   "outputs": [],
   "source": [
    "y_pred = model.predict(X)"
   ]
  },
  {
   "cell_type": "code",
   "execution_count": 16,
   "id": "26e54628",
   "metadata": {
    "scrolled": true
   },
   "outputs": [
    {
     "data": {
      "image/png": "[encoded data removed]",
      "text/plain": [
       "<Figure size 432x288 with 1 Axes>"
      ]
     },
     "metadata": {
      "needs_background": "light"
     },
     "output_type": "display_data"
    }
   ],
   "source": [
    "# Scatter plot including the regression curve\n",
    "plt.scatter(X, y)\n",
    "plt.plot(X, y_pred, color='red')\n",
    "plt.title('GDP vs BigMac Prices (Worldwide)')\n",
    "plt.xlabel('Raw GDP')\n",
    "plt.ylabel('BigMac Price ($)')\n",
    "plt.show()"
   ]
  },
  {
   "cell_type": "code",
   "execution_count": 17,
   "id": "0c4b6a54",
   "metadata": {
    "scrolled": true
   },
   "outputs": [
    {
     "name": "stdout",
     "output_type": "stream",
     "text": [
      "[[-2.0387791e-14]]\n",
      "[3.59498724]\n"
     ]
    }
   ],
   "source": [
    "# Printing coefficient and y-intercept\n",
    "print(model.coef_)\n",
    "print(model.intercept_)"
   ]
  },
  {
   "cell_type": "code",
   "execution_count": 18,
   "id": "d8e7fc4c",
   "metadata": {
    "scrolled": false
   },
   "outputs": [
    {
     "name": "stdout",
     "output_type": "stream",
     "text": [
      "0.001463875238819301\n"
     ]
    }
   ],
   "source": [
    "# R-square for the model\n",
    "print(model.score(X,y))"
   ]
  },
  {
   "cell_type": "markdown",
   "id": "ab8fd8ba",
   "metadata": {},
   "source": [
    "# Linear Regression using log10(GDP)"
   ]
  },
  {
   "cell_type": "code",
   "execution_count": 19,
   "id": "3d310e51",
   "metadata": {
    "scrolled": true
   },
   "outputs": [
    {
     "data": {
      "image/png": "[encoded data removed]",
      "text/plain": [
       "<Figure size 432x288 with 1 Axes>"
      ]
     },
     "metadata": {
      "needs_background": "light"
     },
     "output_type": "display_data"
    }
   ],
   "source": [
    "# Ploting the data as a scatter plot using GDP\n",
    "plt.scatter(df.GDP_log10, df.dollar_price)\n",
    "plt.xlabel('log10(GDP)')\n",
    "plt.ylabel('BigMac Price ($)')\n",
    "plt.title('log10(GDP) vs BigMac Price (Worldwide)')\n",
    "plt.show()"
   ]
  },
  {
   "cell_type": "code",
   "execution_count": 20,
   "id": "df4a7209",
   "metadata": {},
   "outputs": [],
   "source": [
    "# Defining log10(GDP) as the independant variable (feature)\n",
    "X =df.GDP_log10.values.reshape(-1,1)\n",
    "\n",
    "# Target (y) remains the same as previous\n",
    "y= df.dollar_price.values.reshape(-1,1)"
   ]
  },
  {
   "cell_type": "code",
   "execution_count": 21,
   "id": "0dbeec44",
   "metadata": {},
   "outputs": [],
   "source": [
    "X_train, X_test, y_train, y_test = train_test_split(X,y, test_size=0.2, random_state=2)"
   ]
  },
  {
   "cell_type": "code",
   "execution_count": 22,
   "id": "73595266",
   "metadata": {},
   "outputs": [],
   "source": [
    "# Instantiate linear regression model\n",
    "model = LinearRegression()\n",
    "\n",
    "# training the model\n",
    "model.fit(X,y)\n",
    "\n",
    "y_pred = model.predict(X)\n",
    "\n"
   ]
  },
  {
   "cell_type": "code",
   "execution_count": 23,
   "id": "232d31a7",
   "metadata": {
    "scrolled": true
   },
   "outputs": [
    {
     "data": {
      "image/png": "[encoded data removed]",
      "text/plain": [
       "<Figure size 432x288 with 1 Axes>"
      ]
     },
     "metadata": {
      "needs_background": "light"
     },
     "output_type": "display_data"
    }
   ],
   "source": [
    "# Scatter plot including the regression curve\n",
    "plt.scatter(X, y)\n",
    "plt.plot(X, y_pred, color='red')\n",
    "plt.title('GDP vs BigMac Prices (Worldwide)')\n",
    "plt.xlabel('Raw GDP')\n",
    "plt.ylabel('BigMac Price ($)')\n",
    "plt.show()"
   ]
  },
  {
   "cell_type": "code",
   "execution_count": 24,
   "id": "8ca40577",
   "metadata": {},
   "outputs": [
    {
     "name": "stdout",
     "output_type": "stream",
     "text": [
      "[[0.23434321]]\n",
      "[0.83084861]\n",
      "0.007917580398977386\n"
     ]
    }
   ],
   "source": [
    "# Printing coefficient and y-intercept\n",
    "print(model.coef_)\n",
    "print(model.intercept_)\n",
    "\n",
    "# R-square for the model\n",
    "print(model.score(X,y))"
   ]
  },
  {
   "cell_type": "markdown",
   "id": "1b7613fc",
   "metadata": {},
   "source": [
    "# Using 2nd order polynomial"
   ]
  },
  {
   "cell_type": "code",
   "execution_count": 25,
   "id": "94f58b53",
   "metadata": {},
   "outputs": [],
   "source": [
    "# Import dependencies\n",
    "from sklearn.preprocessing import PolynomialFeatures\n",
    "\n",
    "# Save an instance of Polynomial Feature and setting it to a second degree\n",
    "poly_model = PolynomialFeatures(degree=2, include_bias=False)\n"
   ]
  },
  {
   "cell_type": "code",
   "execution_count": 26,
   "id": "2ad482ca",
   "metadata": {
    "scrolled": true
   },
   "outputs": [
    {
     "data": {
      "text/plain": [
       "array([[ 11.41209379, 130.23588458],\n",
       "       [ 11.95432238, 142.90582362],\n",
       "       [ 12.20621292, 148.99163382],\n",
       "       ...,\n",
       "       [ 13.2514989 , 175.60222313],\n",
       "       [ 10.70260288, 114.54570831],\n",
       "       [ 11.27343376, 127.09030869]])"
      ]
     },
     "execution_count": 26,
     "metadata": {},
     "output_type": "execute_result"
    }
   ],
   "source": [
    "# Converting X from 1D array to a 2D array, this would give use x and x^2 terms\n",
    "poly_X = poly_model.fit_transform(X.reshape(-1,1))\n",
    "poly_X"
   ]
  },
  {
   "cell_type": "code",
   "execution_count": 27,
   "id": "7b50acef",
   "metadata": {},
   "outputs": [],
   "source": [
    "X_train, X_test, y_train, y_test = train_test_split(poly_X,y,test_size=0.2, random_state=2)"
   ]
  },
  {
   "cell_type": "code",
   "execution_count": 28,
   "id": "65568f25",
   "metadata": {},
   "outputs": [],
   "source": [
    "# Creating Linear Regression instance \n",
    "poly_reg_model = LinearRegression()"
   ]
  },
  {
   "cell_type": "code",
   "execution_count": 29,
   "id": "e10ac799",
   "metadata": {
    "scrolled": false
   },
   "outputs": [
    {
     "data": {
      "text/plain": [
       "LinearRegression()"
      ]
     },
     "execution_count": 29,
     "metadata": {},
     "output_type": "execute_result"
    }
   ],
   "source": [
    "# training the model\n",
    "poly_reg_model.fit(X_train, y_train)"
   ]
  },
  {
   "cell_type": "code",
   "execution_count": 30,
   "id": "f1f58859",
   "metadata": {},
   "outputs": [
    {
     "data": {
      "text/plain": [
       "array([[3.60442127],\n",
       "       [3.6979403 ],\n",
       "       [3.43228142],\n",
       "       [3.76673616],\n",
       "       [3.61793674],\n",
       "       [3.84873007],\n",
       "       [3.72144269],\n",
       "       [3.73568142],\n",
       "       [3.38534619],\n",
       "       [3.8219908 ],\n",
       "       [3.77499373],\n",
       "       [3.71248339],\n",
       "       [3.75815069],\n",
       "       [3.55509797],\n",
       "       [3.41711746],\n",
       "       [3.73234943],\n",
       "       [3.80574446],\n",
       "       [3.76577407],\n",
       "       [3.76304172],\n",
       "       [2.65186968],\n",
       "       [3.78073394],\n",
       "       [3.61131996],\n",
       "       [3.60842706],\n",
       "       [3.49426441],\n",
       "       [3.74224459],\n",
       "       [3.47355401],\n",
       "       [3.77596958],\n",
       "       [3.46830811],\n",
       "       [3.56704952],\n",
       "       [3.56044432],\n",
       "       [3.46996067],\n",
       "       [3.7697968 ],\n",
       "       [3.70992125],\n",
       "       [3.62091158],\n",
       "       [3.76249653],\n",
       "       [3.51452657],\n",
       "       [3.47242388],\n",
       "       [3.80101885],\n",
       "       [3.55875773],\n",
       "       [3.77284651],\n",
       "       [3.82361949],\n",
       "       [3.77073909],\n",
       "       [3.8487145 ],\n",
       "       [3.82700164],\n",
       "       [3.43948327],\n",
       "       [2.59868368],\n",
       "       [3.77004737],\n",
       "       [3.46078749],\n",
       "       [3.59862901],\n",
       "       [3.42074589],\n",
       "       [3.6112702 ],\n",
       "       [3.83651621],\n",
       "       [3.3552273 ],\n",
       "       [3.77663555],\n",
       "       [2.72613855],\n",
       "       [3.76919309],\n",
       "       [3.71774644],\n",
       "       [3.83388045],\n",
       "       [3.68250348],\n",
       "       [3.4529556 ],\n",
       "       [3.79234605],\n",
       "       [3.62725812],\n",
       "       [3.60825621],\n",
       "       [3.69821163],\n",
       "       [3.68772802],\n",
       "       [3.23300795],\n",
       "       [3.63024585],\n",
       "       [3.59435263],\n",
       "       [3.6304768 ],\n",
       "       [3.74224459],\n",
       "       [3.12019906],\n",
       "       [3.82361949],\n",
       "       [3.66361961],\n",
       "       [3.84691148],\n",
       "       [3.80116691],\n",
       "       [3.77580425],\n",
       "       [3.68900428],\n",
       "       [3.83821497],\n",
       "       [2.73862292],\n",
       "       [3.77786126],\n",
       "       [2.91002252],\n",
       "       [3.82955905],\n",
       "       [3.67881372],\n",
       "       [3.40821159],\n",
       "       [3.79362323],\n",
       "       [3.70983129],\n",
       "       [3.61576215],\n",
       "       [3.73399612],\n",
       "       [3.41711746],\n",
       "       [2.40200952],\n",
       "       [3.8375179 ],\n",
       "       [3.70061246],\n",
       "       [3.83282281],\n",
       "       [3.76926853],\n",
       "       [3.47242388],\n",
       "       [3.80363134],\n",
       "       [3.75039068],\n",
       "       [3.71560289],\n",
       "       [3.64399038],\n",
       "       [2.66487779],\n",
       "       [3.61969389],\n",
       "       [3.815368  ],\n",
       "       [3.7371801 ],\n",
       "       [3.34092839],\n",
       "       [3.59185707],\n",
       "       [3.62884295],\n",
       "       [3.71847793],\n",
       "       [3.50412349],\n",
       "       [3.84372263],\n",
       "       [3.69821163],\n",
       "       [3.8087334 ],\n",
       "       [3.8432975 ],\n",
       "       [3.36923678],\n",
       "       [3.24396849],\n",
       "       [3.58005112],\n",
       "       [3.78441989],\n",
       "       [3.79837582],\n",
       "       [3.72323811],\n",
       "       [3.83673676],\n",
       "       [2.71072609],\n",
       "       [3.65139693],\n",
       "       [3.60825621],\n",
       "       [3.7196793 ],\n",
       "       [3.64550134],\n",
       "       [3.84486655],\n",
       "       [3.61338682],\n",
       "       [3.80837781],\n",
       "       [3.64972844],\n",
       "       [3.83825162],\n",
       "       [3.84641546],\n",
       "       [3.82146559],\n",
       "       [2.90976265],\n",
       "       [3.82843362],\n",
       "       [3.39420824],\n",
       "       [3.60602926],\n",
       "       [3.74302115],\n",
       "       [3.59185707],\n",
       "       [3.80574446],\n",
       "       [3.78573786],\n",
       "       [3.69778585],\n",
       "       [3.83673676],\n",
       "       [3.5605959 ],\n",
       "       [3.84148152],\n",
       "       [3.79674632],\n",
       "       [3.7605744 ],\n",
       "       [2.62506857],\n",
       "       [3.08042019],\n",
       "       [3.75423598],\n",
       "       [2.76935433],\n",
       "       [2.67923114],\n",
       "       [3.64024158],\n",
       "       [3.40345296],\n",
       "       [3.77467188],\n",
       "       [2.80763166],\n",
       "       [3.74302115],\n",
       "       [3.61579776],\n",
       "       [3.81435568],\n",
       "       [2.20753847],\n",
       "       [2.7357174 ],\n",
       "       [3.5399803 ],\n",
       "       [3.84078697],\n",
       "       [3.59156666],\n",
       "       [3.58780755],\n",
       "       [3.36787814],\n",
       "       [3.61338682],\n",
       "       [3.79362323],\n",
       "       [3.84820025],\n",
       "       [3.69630929],\n",
       "       [3.73373141],\n",
       "       [3.75958192],\n",
       "       [3.76472689],\n",
       "       [3.61969389],\n",
       "       [3.77499373],\n",
       "       [3.76472689],\n",
       "       [3.8432975 ],\n",
       "       [3.75006554],\n",
       "       [3.66117261],\n",
       "       [3.77695638],\n",
       "       [3.4483688 ],\n",
       "       [3.32861317],\n",
       "       [3.64412181],\n",
       "       [3.58536309],\n",
       "       [3.56362764],\n",
       "       [3.75768402]])"
      ]
     },
     "execution_count": 30,
     "metadata": {},
     "output_type": "execute_result"
    }
   ],
   "source": [
    "y_predicted = poly_reg_model.predict(X_test)\n",
    "y_predicted"
   ]
  },
  {
   "cell_type": "code",
   "execution_count": 31,
   "id": "ae57b39b",
   "metadata": {},
   "outputs": [],
   "source": [
    "from sklearn.metrics import mean_squared_error"
   ]
  },
  {
   "cell_type": "code",
   "execution_count": 32,
   "id": "1867427c",
   "metadata": {},
   "outputs": [
    {
     "data": {
      "text/plain": [
       "1.4954355132576094"
      ]
     },
     "execution_count": 32,
     "metadata": {},
     "output_type": "execute_result"
    }
   ],
   "source": [
    "poly_reg_rmse = np.sqrt(mean_squared_error(y_test,\n",
    "                                          y_predicted))\n",
    "poly_reg_rmse"
   ]
  },
  {
   "cell_type": "code",
   "execution_count": 33,
   "id": "e8787200",
   "metadata": {},
   "outputs": [],
   "source": [
    "# plt.figure(figsize= (10,6))\n",
    "# plt.title(\"Polynomial Reg\", size=16)\n",
    "# plt.scatter(X, y)\n",
    "# plt.plot(X, y_predicted, c='red')\n",
    "# plt.show()"
   ]
  },
  {
   "cell_type": "code",
   "execution_count": 34,
   "id": "9ad218fb",
   "metadata": {},
   "outputs": [],
   "source": [
    "# 2nd order polynomial using log10(GDP)"
   ]
  },
  {
   "cell_type": "code",
   "execution_count": 35,
   "id": "caa59339",
   "metadata": {},
   "outputs": [],
   "source": [
    "# # Save an instance of Polynomial Feature and setting it to a second degree\n",
    "# poly_model_logGDP = PolynomialFeatures(degree=2, include_bias=False)\n"
   ]
  },
  {
   "cell_type": "markdown",
   "id": "66193482",
   "metadata": {},
   "source": [
    "# Using RandomForestClassifier"
   ]
  },
  {
   "cell_type": "code",
   "execution_count": 36,
   "id": "37bdfbed",
   "metadata": {},
   "outputs": [],
   "source": [
    "from sklearn.ensemble import RandomForestRegressor\n",
    "from sklearn.metrics import confusion_matrix, accuracy_score, classification_report"
   ]
  },
  {
   "cell_type": "code",
   "execution_count": 37,
   "id": "ba4d2687",
   "metadata": {},
   "outputs": [],
   "source": [
    "# Defining feature and target\n",
    "X =df.GDP.values.reshape(-1,1)\n",
    "y= df.dollar_price"
   ]
  },
  {
   "cell_type": "code",
   "execution_count": 38,
   "id": "6ee07f4b",
   "metadata": {},
   "outputs": [],
   "source": [
    "from sklearn.model_selection import train_test_split\n",
    "X_train, X_test, y_train, y_test = train_test_split(X,y, random_state=78)"
   ]
  },
  {
   "cell_type": "code",
   "execution_count": 39,
   "id": "03cc2a69",
   "metadata": {},
   "outputs": [],
   "source": [
    "# Creating a StandardScalar instance\n",
    "scaler = StandardScaler()\n",
    "\n",
    "# Fitting the Standard Scalar with the training data\n",
    "X_scalar = scaler.fit(X_train)\n",
    "\n",
    "# Scaling the data\n",
    "X_train_scaled = X_scalar.transform(X_train)\n",
    "X_test_scaled = X_scalar.transform(X_test)"
   ]
  },
  {
   "cell_type": "code",
   "execution_count": 40,
   "id": "59921c6e",
   "metadata": {},
   "outputs": [],
   "source": [
    "# Create a random forest classifier\n",
    "rf_model = RandomForestRegressor(n_estimators=500, random_state=0)"
   ]
  },
  {
   "cell_type": "code",
   "execution_count": 41,
   "id": "6a3d14bd",
   "metadata": {},
   "outputs": [],
   "source": [
    "# Fitting the model\n",
    "rf_model = rf_model.fit(X_train_scaled, y_train)"
   ]
  },
  {
   "cell_type": "code",
   "execution_count": 42,
   "id": "1a4af4bf",
   "metadata": {},
   "outputs": [],
   "source": [
    "# Making predictions using the testing data\n",
    "predictions = rf_model.predict(X_test_scaled)"
   ]
  },
  {
   "cell_type": "code",
   "execution_count": 43,
   "id": "c08c93ae",
   "metadata": {},
   "outputs": [
    {
     "name": "stdout",
     "output_type": "stream",
     "text": [
      "2.403143672579611\n",
      "1.5502076224104986\n"
     ]
    }
   ],
   "source": [
    "# Calculating the accuracy score\n",
    "mse = mean_squared_error(y_test, predictions)\n",
    "\n",
    "rmse = mse**0.5\n",
    "\n",
    "print(mse)\n",
    "print(rmse)"
   ]
  },
  {
   "cell_type": "code",
   "execution_count": 55,
   "id": "22bcf960",
   "metadata": {},
   "outputs": [],
   "source": [
    "df_Americas = df.loc[df['region']== 'Americas']"
   ]
  },
  {
   "cell_type": "code",
   "execution_count": 65,
   "id": "054ed639",
   "metadata": {},
   "outputs": [],
   "source": [
    "df_Americas.head()# Dropping columns \"local_price\", \"dollar_ex\" and those with string values\n",
    "df_Americas_modified = df_Americas.drop(['date','currency_code', 'Country', 'Code', 'country_code', \n",
    "                               'region', 'sub_region', 'local_price', 'dollar_ex'], axis =1)"
   ]
  },
  {
   "cell_type": "code",
   "execution_count": 66,
   "id": "9ce0bab8",
   "metadata": {
    "scrolled": false
   },
   "outputs": [
    {
     "data": {
      "text/html": [
       "<div>\n",
       "<style scoped>\n",
       "    .dataframe tbody tr th:only-of-type {\n",
       "        vertical-align: middle;\n",
       "    }\n",
       "\n",
       "    .dataframe tbody tr th {\n",
       "        vertical-align: top;\n",
       "    }\n",
       "\n",
       "    .dataframe thead th {\n",
       "        text-align: right;\n",
       "    }\n",
       "</style>\n",
       "<table border=\"1\" class=\"dataframe\">\n",
       "  <thead>\n",
       "    <tr style=\"text-align: right;\">\n",
       "      <th></th>\n",
       "      <th>dollar_price</th>\n",
       "      <th>Year</th>\n",
       "      <th>gdp_growth</th>\n",
       "      <th>GDP_Per_Capita</th>\n",
       "      <th>GDP</th>\n",
       "      <th>GDP_log10</th>\n",
       "    </tr>\n",
       "  </thead>\n",
       "  <tbody>\n",
       "    <tr>\n",
       "      <th>0</th>\n",
       "      <td>2.50</td>\n",
       "      <td>2000</td>\n",
       "      <td>-10.894485</td>\n",
       "      <td>6854.294081</td>\n",
       "      <td>2.582818e+11</td>\n",
       "      <td>11.412094</td>\n",
       "    </tr>\n",
       "    <tr>\n",
       "      <th>2</th>\n",
       "      <td>2.95</td>\n",
       "      <td>2000</td>\n",
       "      <td>3.053462</td>\n",
       "      <td>8954.837245</td>\n",
       "      <td>1.607729e+12</td>\n",
       "      <td>12.206213</td>\n",
       "    </tr>\n",
       "    <tr>\n",
       "      <th>3</th>\n",
       "      <td>2.85</td>\n",
       "      <td>2000</td>\n",
       "      <td>3.016889</td>\n",
       "      <td>44863.216018</td>\n",
       "      <td>1.406914e+12</td>\n",
       "      <td>12.148268</td>\n",
       "    </tr>\n",
       "    <tr>\n",
       "      <th>4</th>\n",
       "      <td>2.45</td>\n",
       "      <td>2000</td>\n",
       "      <td>3.106971</td>\n",
       "      <td>9814.656135</td>\n",
       "      <td>1.539371e+11</td>\n",
       "      <td>11.187343</td>\n",
       "    </tr>\n",
       "    <tr>\n",
       "      <th>13</th>\n",
       "      <td>2.32</td>\n",
       "      <td>2000</td>\n",
       "      <td>-0.039844</td>\n",
       "      <td>8960.554086</td>\n",
       "      <td>9.111518e+11</td>\n",
       "      <td>11.959591</td>\n",
       "    </tr>\n",
       "  </tbody>\n",
       "</table>\n",
       "</div>"
      ],
      "text/plain": [
       "    dollar_price  Year  gdp_growth  GDP_Per_Capita           GDP  GDP_log10\n",
       "0           2.50  2000  -10.894485     6854.294081  2.582818e+11  11.412094\n",
       "2           2.95  2000    3.053462     8954.837245  1.607729e+12  12.206213\n",
       "3           2.85  2000    3.016889    44863.216018  1.406914e+12  12.148268\n",
       "4           2.45  2000    3.106971     9814.656135  1.539371e+11  11.187343\n",
       "13          2.32  2000   -0.039844     8960.554086  9.111518e+11  11.959591"
      ]
     },
     "execution_count": 66,
     "metadata": {},
     "output_type": "execute_result"
    }
   ],
   "source": [
    "df_Americas_modified.head()"
   ]
  },
  {
   "cell_type": "code",
   "execution_count": 67,
   "id": "5e6ae505",
   "metadata": {},
   "outputs": [],
   "source": [
    "import plotly.express as px\n",
    "import hvplot.pandas\n",
    "from sklearn.cluster import KMeans\n"
   ]
  },
  {
   "cell_type": "code",
   "execution_count": 84,
   "id": "d6dafcd9",
   "metadata": {},
   "outputs": [
    {
     "data": {
      "text/plain": [
       "KMeans(n_clusters=2, random_state=5)"
      ]
     },
     "execution_count": 84,
     "metadata": {},
     "output_type": "execute_result"
    }
   ],
   "source": [
    "# Intializing the model with K =4\n",
    "model = KMeans(n_clusters=2, random_state=5)\n",
    "model"
   ]
  },
  {
   "cell_type": "code",
   "execution_count": 85,
   "id": "96cdd579",
   "metadata": {},
   "outputs": [
    {
     "data": {
      "text/plain": [
       "KMeans(n_clusters=2, random_state=5)"
      ]
     },
     "execution_count": 85,
     "metadata": {},
     "output_type": "execute_result"
    }
   ],
   "source": [
    "# Fitting model\n",
    "model.fit(df_Americas_modified)"
   ]
  },
  {
   "cell_type": "code",
   "execution_count": 86,
   "id": "4f2cce4e",
   "metadata": {},
   "outputs": [
    {
     "name": "stdout",
     "output_type": "stream",
     "text": [
      "[0 0 0 0 0 1 0 0 0 0 0 1 0 0 0 0 0 0 1 0 0 0 0 0 0 1 0 0 0 0 0 0 0 0 1 0 0\n",
      " 0 0 0 0 0 0 0 1 0 0 0 0 0 0 0 1 0 0 0 0 0 0 0 0 1 0 0 0 0 0 0 0 0 0 1 0 0\n",
      " 0 0 0 0 0 0 0 1 0 0 0 0 0 0 0 0 0 1 0 0 0 0 0 0 0 0 0 1 0 0 0 0 0 0 0 0 0\n",
      " 1 0 0 0 0 0 0 0 0 0 1 0 0 0 0 0 0 0 0 0 1 0 0 0 0 0 0 0 0 0 1 0 0 0 0 0 0\n",
      " 0 1 0 0 0 0 0 0 0 0 0 1 0 0 0 0 0 0 0 0 0 1 0 0 0 0 0 0 0 0 0 1 0 0 0 0 0\n",
      " 0 0 0 0 1 0 0 0 0 0 0 0 0 0 1 0 0 0 0 0 0 0 0 0 1 0 0 0 0 0 0 0 0 0 1 0 0\n",
      " 0 0 0 0 0 0 0 1 0]\n"
     ]
    }
   ],
   "source": [
    "# Get the predictions\n",
    "predictions = model.predict(df_Americas_modified)\n",
    "print(predictions)"
   ]
  },
  {
   "cell_type": "code",
   "execution_count": 87,
   "id": "b3f2529f",
   "metadata": {},
   "outputs": [
    {
     "data": {
      "text/html": [
       "<div>\n",
       "<style scoped>\n",
       "    .dataframe tbody tr th:only-of-type {\n",
       "        vertical-align: middle;\n",
       "    }\n",
       "\n",
       "    .dataframe tbody tr th {\n",
       "        vertical-align: top;\n",
       "    }\n",
       "\n",
       "    .dataframe thead th {\n",
       "        text-align: right;\n",
       "    }\n",
       "</style>\n",
       "<table border=\"1\" class=\"dataframe\">\n",
       "  <thead>\n",
       "    <tr style=\"text-align: right;\">\n",
       "      <th></th>\n",
       "      <th>dollar_price</th>\n",
       "      <th>Year</th>\n",
       "      <th>gdp_growth</th>\n",
       "      <th>GDP_Per_Capita</th>\n",
       "      <th>GDP</th>\n",
       "      <th>GDP_log10</th>\n",
       "      <th>class</th>\n",
       "    </tr>\n",
       "  </thead>\n",
       "  <tbody>\n",
       "    <tr>\n",
       "      <th>0</th>\n",
       "      <td>2.50</td>\n",
       "      <td>2000</td>\n",
       "      <td>-10.894485</td>\n",
       "      <td>6854.294081</td>\n",
       "      <td>2.582818e+11</td>\n",
       "      <td>11.412094</td>\n",
       "      <td>0</td>\n",
       "    </tr>\n",
       "    <tr>\n",
       "      <th>2</th>\n",
       "      <td>2.95</td>\n",
       "      <td>2000</td>\n",
       "      <td>3.053462</td>\n",
       "      <td>8954.837245</td>\n",
       "      <td>1.607729e+12</td>\n",
       "      <td>12.206213</td>\n",
       "      <td>0</td>\n",
       "    </tr>\n",
       "    <tr>\n",
       "      <th>3</th>\n",
       "      <td>2.85</td>\n",
       "      <td>2000</td>\n",
       "      <td>3.016889</td>\n",
       "      <td>44863.216018</td>\n",
       "      <td>1.406914e+12</td>\n",
       "      <td>12.148268</td>\n",
       "      <td>0</td>\n",
       "    </tr>\n",
       "    <tr>\n",
       "      <th>4</th>\n",
       "      <td>2.45</td>\n",
       "      <td>2000</td>\n",
       "      <td>3.106971</td>\n",
       "      <td>9814.656135</td>\n",
       "      <td>1.539371e+11</td>\n",
       "      <td>11.187343</td>\n",
       "      <td>0</td>\n",
       "    </tr>\n",
       "    <tr>\n",
       "      <th>13</th>\n",
       "      <td>2.32</td>\n",
       "      <td>2000</td>\n",
       "      <td>-0.039844</td>\n",
       "      <td>8960.554086</td>\n",
       "      <td>9.111518e+11</td>\n",
       "      <td>11.959591</td>\n",
       "      <td>0</td>\n",
       "    </tr>\n",
       "  </tbody>\n",
       "</table>\n",
       "</div>"
      ],
      "text/plain": [
       "    dollar_price  Year  gdp_growth  GDP_Per_Capita           GDP  GDP_log10  \\\n",
       "0           2.50  2000  -10.894485     6854.294081  2.582818e+11  11.412094   \n",
       "2           2.95  2000    3.053462     8954.837245  1.607729e+12  12.206213   \n",
       "3           2.85  2000    3.016889    44863.216018  1.406914e+12  12.148268   \n",
       "4           2.45  2000    3.106971     9814.656135  1.539371e+11  11.187343   \n",
       "13          2.32  2000   -0.039844     8960.554086  9.111518e+11  11.959591   \n",
       "\n",
       "    class  \n",
       "0       0  \n",
       "2       0  \n",
       "3       0  \n",
       "4       0  \n",
       "13      0  "
      ]
     },
     "execution_count": 87,
     "metadata": {},
     "output_type": "execute_result"
    }
   ],
   "source": [
    "# Add a new class column to the df_Americas_modified\n",
    "df_Americas_modified['class'] = model.labels_\n",
    "df_Americas_modified.head()"
   ]
  },
  {
   "cell_type": "code",
   "execution_count": 88,
   "id": "0fd1fac4",
   "metadata": {
    "scrolled": false
   },
   "outputs": [
    {
     "data": {},
     "metadata": {},
     "output_type": "display_data"
    },
    {
     "data": {
      "application/vnd.holoviews_exec.v0+json": "",
      "text/html": [
       "<div id='3412'>\n",
       "\n",
       "\n",
       "\n",
       "\n",
       "\n",
       "  <div class=\"bk-root\" id=\"95d7e0df-0740-4ef3-a57d-bd2494745355\" data-root-id=\"3412\"></div>\n",
       "</div>\n",
       "<script type=\"application/javascript\">(function(root) {\n",
       "  function embed_document(root) {\n",
       "    var docs_json = {\"9a5cd191-0cba-4a89-b2b8-c204f2d58166\":{\"defs\":[{\"extends\":null,\"module\":null,\"name\":\"ReactiveHTML1\",\"overrides\":[],\"properties\":[]},{\"extends\":null,\"module\":null,\"name\":\"FlexBox1\",\"overrides\":[],\"properties\":[{\"default\":\"flex-start\",\"kind\":null,\"name\":\"align_content\"},{\"default\":\"flex-start\",\"kind\":null,\"name\":\"align_items\"},{\"default\":\"row\",\"kind\":null,\"name\":\"flex_direction\"},{\"default\":\"wrap\",\"kind\":null,\"name\":\"flex_wrap\"},{\"default\":\"flex-start\",\"kind\":null,\"name\":\"justify_content\"}]},{\"extends\":null,\"module\":null,\"name\":\"GridStack1\",\"overrides\":[],\"properties\":[{\"default\":\"warn\",\"kind\":null,\"name\":\"mode\"},{\"default\":null,\"kind\":null,\"name\":\"ncols\"},{\"default\":null,\"kind\":null,\"name\":\"nrows\"},{\"default\":true,\"kind\":null,\"name\":\"allow_resize\"},{\"default\":true,\"kind\":null,\"name\":\"allow_drag\"},{\"default\":[],\"kind\":null,\"name\":\"state\"}]},{\"extends\":null,\"module\":null,\"name\":\"click1\",\"overrides\":[],\"properties\":[{\"default\":\"\",\"kind\":null,\"name\":\"terminal_output\"},{\"default\":\"\",\"kind\":null,\"name\":\"debug_name\"},{\"default\":0,\"kind\":null,\"name\":\"clears\"}]},{\"extends\":null,\"module\":null,\"name\":\"TemplateActions1\",\"overrides\":[],\"properties\":[{\"default\":0,\"kind\":null,\"name\":\"open_modal\"},{\"default\":0,\"kind\":null,\"name\":\"close_modal\"}]},{\"extends\":null,\"module\":null,\"name\":\"MaterialTemplateActions1\",\"overrides\":[],\"properties\":[{\"default\":0,\"kind\":null,\"name\":\"open_modal\"},{\"default\":0,\"kind\":null,\"name\":\"close_modal\"}]}],\"roots\":{\"references\":[{\"attributes\":{\"data\":{\"GDP_Per_Capita\":{\"__ndarray__\":\"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\",\"dtype\":\"float64\",\"order\":\"little\",\"shape\":[206]},\"class\":[0,0,0,0,0,0,0,0,0,0,0,0,0,0,0,0,0,0,0,0,0,0,0,0,0,0,0,0,0,0,0,0,0,0,0,0,0,0,0,0,0,0,0,0,0,0,0,0,0,0,0,0,0,0,0,0,0,0,0,0,0,0,0,0,0,0,0,0,0,0,0,0,0,0,0,0,0,0,0,0,0,0,0,0,0,0,0,0,0,0,0,0,0,0,0,0,0,0,0,0,0,0,0,0,0,0,0,0,0,0,0,0,0,0,0,0,0,0,0,0,0,0,0,0,0,0,0,0,0,0,0,0,0,0,0,0,0,0,0,0,0,0,0,0,0,0,0,0,0,0,0,0,0,0,0,0,0,0,0,0,0,0,0,0,0,0,0,0,0,0,0,0,0,0,0,0,0,0,0,0,0,0,0,0,0,0,0,0,0,0,0,0,0,0,0,0,0,0,0,0,0,0,0,0,0,0],\"dollar_price\":{\"__ndarray__\":\"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\",\"dtype\":\"float64\",\"order\":\"little\",\"shape\":[206]}},\"selected\":{\"id\":\"3455\"},\"selection_policy\":{\"id\":\"3469\"}},\"id\":\"3454\",\"type\":\"ColumnDataSource\"},{\"attributes\":{\"label\":{\"value\":\"1\"},\"renderers\":[{\"id\":\"3481\"}]},\"id\":\"3495\",\"type\":\"LegendItem\"},{\"attributes\":{},\"id\":\"3492\",\"type\":\"UnionRenderers\"},{\"attributes\":{},\"id\":\"3476\",\"type\":\"Selection\"},{\"attributes\":{\"margin\":[5,5,5,5],\"name\":\"HSpacer06860\",\"sizing_mode\":\"stretch_width\"},\"id\":\"3605\",\"type\":\"Spacer\"},{\"attributes\":{},\"id\":\"3423\",\"type\":\"LinearScale\"},{\"attributes\":{},\"id\":\"3449\",\"type\":\"BasicTickFormatter\"},{\"attributes\":{},\"id\":\"3455\",\"type\":\"Selection\"},{\"attributes\":{\"below\":[{\"id\":\"3427\"}],\"center\":[{\"id\":\"3430\"},{\"id\":\"3434\"}],\"height\":300,\"left\":[{\"id\":\"3431\"}],\"margin\":[5,5,5,5],\"min_border_bottom\":10,\"min_border_left\":10,\"min_border_right\":10,\"min_border_top\":10,\"renderers\":[{\"id\":\"3460\"},{\"id\":\"3481\"}],\"right\":[{\"id\":\"3472\"}],\"sizing_mode\":\"fixed\",\"title\":{\"id\":\"3419\"},\"toolbar\":{\"id\":\"3441\"},\"width\":700,\"x_range\":{\"id\":\"3414\"},\"x_scale\":{\"id\":\"3423\"},\"y_range\":{\"id\":\"3415\"},\"y_scale\":{\"id\":\"3425\"}},\"id\":\"3418\",\"subtype\":\"Figure\",\"type\":\"Plot\"},{\"attributes\":{\"fill_color\":{\"value\":\"#fc4f30\"},\"hatch_color\":{\"value\":\"#fc4f30\"},\"line_color\":{\"value\":\"#fc4f30\"},\"size\":{\"value\":5.477225575051661},\"x\":{\"field\":\"GDP_Per_Capita\"},\"y\":{\"field\":\"dollar_price\"}},\"id\":\"3478\",\"type\":\"Scatter\"},{\"attributes\":{\"fill_alpha\":{\"value\":0.2},\"fill_color\":{\"value\":\"#30a2da\"},\"hatch_alpha\":{\"value\":0.2},\"hatch_color\":{\"value\":\"#30a2da\"},\"line_alpha\":{\"value\":0.2},\"line_color\":{\"value\":\"#30a2da\"},\"size\":{\"value\":5.477225575051661},\"x\":{\"field\":\"GDP_Per_Capita\"},\"y\":{\"field\":\"dollar_price\"}},\"id\":\"3459\",\"type\":\"Scatter\"},{\"attributes\":{\"fill_alpha\":{\"value\":0.1},\"fill_color\":{\"value\":\"#30a2da\"},\"hatch_alpha\":{\"value\":0.1},\"hatch_color\":{\"value\":\"#30a2da\"},\"line_alpha\":{\"value\":0.1},\"line_color\":{\"value\":\"#30a2da\"},\"size\":{\"value\":5.477225575051661},\"x\":{\"field\":\"GDP_Per_Capita\"},\"y\":{\"field\":\"dollar_price\"}},\"id\":\"3458\",\"type\":\"Scatter\"},{\"attributes\":{},\"id\":\"3435\",\"type\":\"SaveTool\"},{\"attributes\":{\"coordinates\":null,\"group\":null,\"text_color\":\"black\",\"text_font_size\":\"12pt\"},\"id\":\"3419\",\"type\":\"Title\"},{\"attributes\":{},\"id\":\"3436\",\"type\":\"PanTool\"},{\"attributes\":{\"fill_alpha\":{\"value\":0.1},\"fill_color\":{\"value\":\"#fc4f30\"},\"hatch_alpha\":{\"value\":0.1},\"hatch_color\":{\"value\":\"#fc4f30\"},\"line_alpha\":{\"value\":0.1},\"line_color\":{\"value\":\"#fc4f30\"},\"size\":{\"value\":5.477225575051661},\"x\":{\"field\":\"GDP_Per_Capita\"},\"y\":{\"field\":\"dollar_price\"}},\"id\":\"3479\",\"type\":\"Scatter\"},{\"attributes\":{},\"id\":\"3439\",\"type\":\"ResetTool\"},{\"attributes\":{},\"id\":\"3428\",\"type\":\"BasicTicker\"},{\"attributes\":{},\"id\":\"3437\",\"type\":\"WheelZoomTool\"},{\"attributes\":{},\"id\":\"3452\",\"type\":\"BasicTickFormatter\"},{\"attributes\":{\"source\":{\"id\":\"3454\"}},\"id\":\"3461\",\"type\":\"CDSView\"},{\"attributes\":{\"overlay\":{\"id\":\"3440\"}},\"id\":\"3438\",\"type\":\"BoxZoomTool\"},{\"attributes\":{\"angle\":{\"value\":0.0},\"fill_alpha\":{\"value\":1.0},\"fill_color\":{\"value\":\"#30a2da\"},\"hatch_alpha\":{\"value\":1.0},\"hatch_color\":{\"value\":\"#30a2da\"},\"hatch_scale\":{\"value\":12.0},\"hatch_weight\":{\"value\":1.0},\"line_alpha\":{\"value\":1.0},\"line_cap\":{\"value\":\"butt\"},\"line_color\":{\"value\":\"#30a2da\"},\"line_dash\":{\"value\":[]},\"line_dash_offset\":{\"value\":0},\"line_join\":{\"value\":\"bevel\"},\"line_width\":{\"value\":1},\"marker\":{\"value\":\"circle\"},\"size\":{\"value\":5.477225575051661},\"x\":{\"field\":\"GDP_Per_Capita\"},\"y\":{\"field\":\"dollar_price\"}},\"id\":\"3474\",\"type\":\"Scatter\"},{\"attributes\":{},\"id\":\"3453\",\"type\":\"AllLabels\"},{\"attributes\":{\"children\":[{\"id\":\"3413\"},{\"id\":\"3418\"},{\"id\":\"3605\"}],\"margin\":[0,0,0,0],\"name\":\"Row06855\",\"tags\":[\"embedded\"]},\"id\":\"3412\",\"type\":\"Row\"},{\"attributes\":{\"axis\":{\"id\":\"3427\"},\"coordinates\":null,\"grid_line_color\":null,\"group\":null,\"ticker\":null},\"id\":\"3430\",\"type\":\"Grid\"},{\"attributes\":{\"coordinates\":null,\"data_source\":{\"id\":\"3475\"},\"glyph\":{\"id\":\"3478\"},\"group\":null,\"hover_glyph\":null,\"muted_glyph\":{\"id\":\"3480\"},\"nonselection_glyph\":{\"id\":\"3479\"},\"selection_glyph\":{\"id\":\"3496\"},\"view\":{\"id\":\"3482\"}},\"id\":\"3481\",\"type\":\"GlyphRenderer\"},{\"attributes\":{\"tools\":[{\"id\":\"3416\"},{\"id\":\"3435\"},{\"id\":\"3436\"},{\"id\":\"3437\"},{\"id\":\"3438\"},{\"id\":\"3439\"}]},\"id\":\"3441\",\"type\":\"Toolbar\"},{\"attributes\":{\"click_policy\":\"mute\",\"coordinates\":null,\"group\":null,\"items\":[{\"id\":\"3473\"},{\"id\":\"3495\"}],\"location\":[0,0],\"title\":\"class\"},\"id\":\"3472\",\"type\":\"Legend\"},{\"attributes\":{\"source\":{\"id\":\"3475\"}},\"id\":\"3482\",\"type\":\"CDSView\"},{\"attributes\":{},\"id\":\"3425\",\"type\":\"LinearScale\"},{\"attributes\":{\"callback\":null,\"renderers\":[{\"id\":\"3460\"},{\"id\":\"3481\"}],\"tags\":[\"hv_created\"],\"tooltips\":[[\"class\",\"@{class}\"],[\"GDP_Per_Capita\",\"@{GDP_Per_Capita}\"],[\"dollar_price\",\"@{dollar_price}\"]]},\"id\":\"3416\",\"type\":\"HoverTool\"},{\"attributes\":{\"axis_label\":\"dollar_price\",\"coordinates\":null,\"formatter\":{\"id\":\"3452\"},\"group\":null,\"major_label_policy\":{\"id\":\"3453\"},\"ticker\":{\"id\":\"3432\"}},\"id\":\"3431\",\"type\":\"LinearAxis\"},{\"attributes\":{\"fill_color\":{\"value\":\"#30a2da\"},\"hatch_color\":{\"value\":\"#30a2da\"},\"line_color\":{\"value\":\"#30a2da\"},\"size\":{\"value\":5.477225575051661},\"x\":{\"field\":\"GDP_Per_Capita\"},\"y\":{\"field\":\"dollar_price\"}},\"id\":\"3457\",\"type\":\"Scatter\"},{\"attributes\":{\"data\":{\"GDP_Per_Capita\":{\"__ndarray__\":\"Y0a/wOsD5kBzvXp3kHPmQJIKLgDzFudASLX8/nmu50Dvh7CNuB/oQAqn+QEJWOhAyZ3cUu8U6EDJndxS7xToQML4JQYaROdAwvglBhpE50AsshZZWqrnQNoRJJnN2+dAv8VYgI036EC/xViAjTfoQKHDH20ifuhAm4TTVeTo6ECbhNNV5OjoQAKS4KFocOlAApLgoWhw6UDT8Gewy6bpQNPwZ7DLpulAH5k+j4cN6kAfmT6Phw3qQCMAew63oepAIwB7Dreh6kA=\",\"dtype\":\"float64\",\"order\":\"little\",\"shape\":[25]},\"class\":[1,1,1,1,1,1,1,1,1,1,1,1,1,1,1,1,1,1,1,1,1,1,1,1,1],\"dollar_price\":{\"__ndarray__\":\"7FG4HoXrAUDsUbgehesBQM3MzMzMzAJArkfhehSuA0DD9Shcj8IDQKRwPQrXowRAXI/C9ShcBUA9CtejcD0GQB+F61G4HgdAAAAAAAAACECuR+F6FK4JQHE9CtejcAtAcT0K16NwC0A9CtejcD0MQB+F61G4Hg1AexSuR+F6DkCuR+F6FK4PQB+F61G4HhBAuB6F61G4EED2KFyPwvUQQClcj8L1KBFAKVyPwvUoEUApXI/C9SgRQClcj8L1KBFAAAAAAAAAEkA=\",\"dtype\":\"float64\",\"order\":\"little\",\"shape\":[25]}},\"selected\":{\"id\":\"3476\"},\"selection_policy\":{\"id\":\"3492\"}},\"id\":\"3475\",\"type\":\"ColumnDataSource\"},{\"attributes\":{\"bottom_units\":\"screen\",\"coordinates\":null,\"fill_alpha\":0.5,\"fill_color\":\"lightgrey\",\"group\":null,\"left_units\":\"screen\",\"level\":\"overlay\",\"line_alpha\":1.0,\"line_color\":\"black\",\"line_dash\":[4,4],\"line_width\":2,\"right_units\":\"screen\",\"syncable\":false,\"top_units\":\"screen\"},\"id\":\"3440\",\"type\":\"BoxAnnotation\"},{\"attributes\":{\"margin\":[5,5,5,5],\"name\":\"HSpacer06859\",\"sizing_mode\":\"stretch_width\"},\"id\":\"3413\",\"type\":\"Spacer\"},{\"attributes\":{\"end\":12.292,\"reset_end\":12.292,\"reset_start\":-0.21200000000000008,\"start\":-0.21200000000000008,\"tags\":[[[\"dollar_price\",\"dollar_price\",null]]]},\"id\":\"3415\",\"type\":\"Range1d\"},{\"attributes\":{\"axis_label\":\"GDP_Per_Capita\",\"coordinates\":null,\"formatter\":{\"id\":\"3449\"},\"group\":null,\"major_label_policy\":{\"id\":\"3450\"},\"ticker\":{\"id\":\"3428\"}},\"id\":\"3427\",\"type\":\"LinearAxis\"},{\"attributes\":{},\"id\":\"3469\",\"type\":\"UnionRenderers\"},{\"attributes\":{\"fill_alpha\":{\"value\":0.2},\"fill_color\":{\"value\":\"#fc4f30\"},\"hatch_alpha\":{\"value\":0.2},\"hatch_color\":{\"value\":\"#fc4f30\"},\"line_alpha\":{\"value\":0.2},\"line_color\":{\"value\":\"#fc4f30\"},\"size\":{\"value\":5.477225575051661},\"x\":{\"field\":\"GDP_Per_Capita\"},\"y\":{\"field\":\"dollar_price\"}},\"id\":\"3480\",\"type\":\"Scatter\"},{\"attributes\":{\"label\":{\"value\":\"0\"},\"renderers\":[{\"id\":\"3460\"}]},\"id\":\"3473\",\"type\":\"LegendItem\"},{\"attributes\":{},\"id\":\"3432\",\"type\":\"BasicTicker\"},{\"attributes\":{},\"id\":\"3450\",\"type\":\"AllLabels\"},{\"attributes\":{\"angle\":{\"value\":0.0},\"fill_alpha\":{\"value\":1.0},\"fill_color\":{\"value\":\"#fc4f30\"},\"hatch_alpha\":{\"value\":1.0},\"hatch_color\":{\"value\":\"#fc4f30\"},\"hatch_scale\":{\"value\":12.0},\"hatch_weight\":{\"value\":1.0},\"line_alpha\":{\"value\":1.0},\"line_cap\":{\"value\":\"butt\"},\"line_color\":{\"value\":\"#fc4f30\"},\"line_dash\":{\"value\":[]},\"line_dash_offset\":{\"value\":0},\"line_join\":{\"value\":\"bevel\"},\"line_width\":{\"value\":1},\"marker\":{\"value\":\"circle\"},\"size\":{\"value\":5.477225575051661},\"x\":{\"field\":\"GDP_Per_Capita\"},\"y\":{\"field\":\"dollar_price\"}},\"id\":\"3496\",\"type\":\"Scatter\"},{\"attributes\":{\"end\":56724.80855159939,\"reset_end\":56724.80855159939,\"reset_start\":1419.9116911834844,\"start\":1419.9116911834844,\"tags\":[[[\"GDP_Per_Capita\",\"GDP_Per_Capita\",null]]]},\"id\":\"3414\",\"type\":\"Range1d\"},{\"attributes\":{\"axis\":{\"id\":\"3431\"},\"coordinates\":null,\"dimension\":1,\"grid_line_color\":null,\"group\":null,\"ticker\":null},\"id\":\"3434\",\"type\":\"Grid\"},{\"attributes\":{\"coordinates\":null,\"data_source\":{\"id\":\"3454\"},\"glyph\":{\"id\":\"3457\"},\"group\":null,\"hover_glyph\":null,\"muted_glyph\":{\"id\":\"3459\"},\"nonselection_glyph\":{\"id\":\"3458\"},\"selection_glyph\":{\"id\":\"3474\"},\"view\":{\"id\":\"3461\"}},\"id\":\"3460\",\"type\":\"GlyphRenderer\"}],\"root_ids\":[\"3412\"]},\"title\":\"Bokeh Application\",\"version\":\"2.4.2\"}};\n",
       "    var render_items = [{\"docid\":\"9a5cd191-0cba-4a89-b2b8-c204f2d58166\",\"root_ids\":[\"3412\"],\"roots\":{\"3412\":\"95d7e0df-0740-4ef3-a57d-bd2494745355\"}}];\n",
       "    root.Bokeh.embed.embed_items_notebook(docs_json, render_items);\n",
       "  }\n",
       "  if (root.Bokeh !== undefined && root.Bokeh.Panel !== undefined) {\n",
       "    embed_document(root);\n",
       "  } else {\n",
       "    var attempts = 0;\n",
       "    var timer = setInterval(function(root) {\n",
       "      if (root.Bokeh !== undefined && root.Bokeh.Panel !== undefined) {\n",
       "        clearInterval(timer);\n",
       "        embed_document(root);\n",
       "      } else if (document.readyState == \"complete\") {\n",
       "        attempts++;\n",
       "        if (attempts > 200) {\n",
       "          clearInterval(timer);\n",
       "          console.log(\"Bokeh: ERROR: Unable to run BokehJS code because BokehJS library is missing\");\n",
       "        }\n",
       "      }\n",
       "    }, 25, root)\n",
       "  }\n",
       "})(window);</script>"
      ],
      "text/plain": [
       ":NdOverlay   [class]\n",
       "   :Scatter   [GDP_Per_Capita]   (dollar_price)"
      ]
     },
     "execution_count": 88,
     "metadata": {
      "application/vnd.holoviews_exec.v0+json": {
       "id": "3412"
      }
     },
     "output_type": "execute_result"
    }
   ],
   "source": [
    "# Create a scatterplot of df_Americas_modified\n",
    "df_Americas_modified.hvplot.scatter(x='GDP_Per_Capita', y='dollar_price', by=\"class\")"
   ]
  },
  {
   "cell_type": "code",
   "execution_count": 91,
   "id": "fd79a1f3",
   "metadata": {},
   "outputs": [
    {
     "data": {
      "application/vnd.plotly.v1+json": {
       "config": {
        "plotlyServerURL": "https://plot.ly"
       },
       "data": [
        {
         "hovertemplate": "class=%{marker.color}<br>GDP_log10=%{x}<br>Year=%{y}<br>dollar_price=%{marker.size}<extra></extra>",
         "legendgroup": "0",
         "marker": {
          "color": [
           0,
           0,
           0,
           0,
           0,
           0,
           0,
           0,
           0,
           0,
           0,
           0,
           0,
           0,
           0,
           0,
           0,
           0,
           0,
           0,
           0,
           0,
           0,
           0,
           0,
           0,
           0,
           0,
           0,
           0,
           0,
           0,
           0,
           0,
           0,
           0,
           0,
           0,
           0,
           0,
           0,
           0,
           0,
           0,
           0,
           0,
           0,
           0,
           0,
           0,
           0,
           0,
           0,
           0,
           0,
           0,
           0,
           0,
           0,
           0,
           0,
           0,
           0,
           0,
           0,
           0,
           0,
           0,
           0,
           0,
           0,
           0,
           0,
           0,
           0,
           0,
           0,
           0,
           0,
           0,
           0,
           0,
           0,
           0,
           0,
           0,
           0,
           0,
           0,
           0,
           0,
           0,
           0,
           0,
           0,
           0,
           0,
           0,
           0,
           0,
           0,
           0,
           0,
           0,
           0,
           0,
           0,
           0,
           0,
           0,
           0,
           0,
           0,
           0,
           0,
           0,
           0,
           0,
           0,
           0,
           0,
           0,
           0,
           0,
           0,
           0,
           0,
           0,
           0,
           0,
           0,
           0,
           0,
           0,
           0,
           0,
           0,
           0,
           0,
           0,
           0,
           0,
           0,
           0,
           0,
           0,
           0,
           0,
           0,
           0,
           0,
           0,
           0,
           0,
           0,
           0,
           0,
           0,
           0,
           0,
           0,
           0,
           0,
           0,
           0,
           0,
           0,
           0,
           0,
           0,
           0,
           0,
           0,
           0,
           0,
           0,
           0,
           0,
           0,
           0,
           0,
           0,
           0,
           0,
           0,
           0,
           0,
           0,
           0,
           0,
           0,
           0,
           0,
           0,
           0,
           0,
           0,
           0,
           0,
           0,
           0,
           0,
           0,
           0,
           0,
           0
          ],
          "coloraxis": "coloraxis",
          "size": [
           2.5,
           2.95,
           2.85,
           2.45,
           2.32,
           2.5,
           1.8,
           3.33,
           2.1,
           2.43,
           0.83,
           1.8,
           3.33,
           2.14,
           2.43,
           2.83,
           2.05,
           1.52,
           3.2,
           1.96,
           2.3,
           2.63,
           2.18,
           1.8,
           3.19,
           2.18,
           2.35,
           2.61,
           2.18,
           3,
           1.03,
           2.38,
           2.95,
           3.28,
           2.53,
           2.79,
           2.38,
           2.8,
           3,
           1.83,
           1.58,
           3.1,
           3.52,
           2.99,
           2.8,
           3.17,
           2.33,
           3.2,
           3.52,
           2.95,
           2.6,
           2.22,
           2.64,
           3.17,
           1.84,
           2.75,
           3.2,
           3.63,
           3.09,
           3.08,
           2.22,
           2.9,
           3.17,
           2.39,
           2.75,
           6.9,
           3.88,
           2.98,
           3.53,
           2.18,
           2.9,
           3.17,
           2.7,
           3.67,
           7.5,
           4.09,
           3.14,
           3.89,
           3.27,
           3.2,
           4.75,
           3.21,
           3.83,
           8.03,
           3.89,
           3.19,
           3.34,
           3.44,
           2.54,
           2.69,
           2.65,
           2.33,
           8.2,
           4.12,
           3.18,
           3.91,
           3.52,
           2.67,
           4.03,
           3.35,
           4.67,
           8.71,
           4.17,
           3.35,
           4.39,
           3.83,
           2.67,
           5,
           3.76,
           5,
           9.5,
           4.73,
           4,
           4.75,
           4.07,
           2.91,
           5,
           5,
           5,
           10.25,
           4.73,
           4.05,
           4.54,
           4.03,
           2.85,
           5,
           4.74,
           4.75,
           5.04,
           5.12,
           4.16,
           4.77,
           2.85,
           4.71,
           4.75,
           11.25,
           5.41,
           4.35,
           4.85,
           4.4,
           3.08,
           5,
           5.53,
           4.2,
           6,
           5.53,
           3.94,
           4.48,
           4.32,
           3.08,
           5,
           5,
           3.5,
           6.2,
           5.54,
           3.7,
           4.34,
           4.29,
           2.85,
           5,
           5,
           2.62,
           6.5,
           5.64,
           3.72,
           4.66,
           4,
           3.5,
           5,
           5.14,
           3.5,
           6.75,
           5.7,
           3.35,
           3.34,
           4.01,
           3.5,
           3.33,
           4.71,
           3.11,
           4.5,
           5.85,
           3.27,
           2.92,
           4.03,
           3.27,
           3.33,
           4.19,
           2.54,
           3.38,
           5.84,
           2.94,
           2.43,
           4.02,
           2.88,
           3.33,
           3.77,
           3.57,
           5.17,
           6,
           3.53,
           3.04,
           4.12,
           2.44,
           3.33,
           4.1
          ],
          "sizemode": "area",
          "sizeref": 0.028125,
          "symbol": "circle"
         },
         "mode": "markers",
         "name": "0",
         "scene": "scene",
         "showlegend": true,
         "type": "scatter3d",
         "x": [
          11.412093786117822,
          12.206212918793243,
          12.148267550806812,
          11.187343247123124,
          11.959590724993017,
          11.448870511218013,
          12.211139427787463,
          12.156019149008497,
          11.204756626889962,
          11.96582729081763,
          11.48641482364758,
          12.235460724720893,
          12.169224128135905,
          11.23499005831798,
          11.982528897944558,
          10.997954143029693,
          11.523249879796014,
          12.249149391362588,
          12.182916073119271,
          11.259240989595105,
          11.992437673751324,
          11.024426366402,
          11.556863201649685,
          12.26602397002789,
          12.194209723494689,
          11.285844423341723,
          11.390148579944803,
          10.500752789081217,
          12.011533507799095,
          11.055951565618074,
          10.496839340740646,
          11.5943201823078,
          12.291616009093685,
          12.203119807467447,
          11.306641954851118,
          11.418917638748907,
          10.534851171907329,
          12.021372824459327,
          11.091454898549628,
          10.52435819189204,
          11.611592456069689,
          12.313194738872534,
          12.207473895301591,
          11.321706199591635,
          12.026311165676477,
          11.129385396727427,
          11.611592456069689,
          12.313194738872534,
          12.207473895301591,
          11.321706199591635,
          11.432837345616289,
          10.554588737256541,
          12.026311165676477,
          11.129385396727427,
          10.554456322448882,
          11.585096573328341,
          12.312648000297976,
          12.194566082505403,
          11.314859100778996,
          11.438041126134623,
          10.550353111683478,
          12.002726517190368,
          11.134118611673433,
          10.572505282681798,
          11.585096573328341,
          12.312648000297976,
          12.194566082505403,
          11.314859100778996,
          11.438041126134623,
          10.550353111683478,
          12.002726517190368,
          11.134118611673433,
          10.572505282681798,
          11.626984064934005,
          12.344170480486468,
          12.207780493151548,
          11.339526072365764,
          11.456523396359723,
          10.57134326732259,
          12.024404094602666,
          11.1688772132589,
          10.605137779866206,
          11.652306120447742,
          12.36109699977006,
          12.221236594811472,
          11.365286147532501,
          11.487376137161853,
          10.589657145324354,
          12.040027900960618,
          11.195521559623614,
          10.626997166276745,
          11.647825397985413,
          12.369361425761944,
          12.228823416177717,
          11.387791340392184,
          11.504004450946969,
          10.610005663829048,
          12.055565038153116,
          11.221399516489695,
          10.64209768751251,
          11.647825397985413,
          12.369361425761944,
          12.228823416177717,
          11.387791340392184,
          11.504004450946969,
          10.610005663829048,
          12.055565038153116,
          11.221399516489695,
          10.64209768751251,
          11.658147933028753,
          12.382218984541835,
          12.238827132036294,
          11.40501257287041,
          11.523398558480542,
          10.619749789568507,
          12.061406325276202,
          11.2461007107494,
          10.6617852028363,
          11.647096352638156,
          12.38440214005307,
          12.251109344821383,
          11.412618434479578,
          11.543462663177701,
          10.634754496463673,
          12.073417775091277,
          11.25632405805243,
          10.67562811374881,
          11.647096352638156,
          12.38440214005307,
          12.251109344821383,
          11.412618434479578,
          11.543462663177701,
          12.073417775091277,
          10.67562811374881,
          11.658798543937177,
          12.368723448183994,
          12.254095282486812,
          11.4225100601066,
          11.556114096209178,
          10.650247250713875,
          12.087467607885854,
          11.270238890745194,
          10.677235245300825,
          11.658798543937177,
          12.368723448183994,
          12.254095282486812,
          11.4225100601066,
          11.556114096209178,
          10.650247250713875,
          12.087467607885854,
          11.270238890745194,
          10.677235245300825,
          11.649668494684517,
          12.354125425424163,
          12.258876933772436,
          11.429705191066441,
          11.565086164950966,
          10.668306608294989,
          12.099974200930129,
          11.28708795740843,
          10.684512630632394,
          11.649668494684517,
          12.354125425424163,
          12.258876933772436,
          11.429705191066441,
          11.565086164950966,
          10.668306608294989,
          12.099974200930129,
          11.28708795740843,
          10.684512630632394,
          11.661106093965078,
          12.35872131235575,
          12.271623773499789,
          11.435225381846672,
          11.570915602878191,
          10.682815309642033,
          12.108871103847372,
          11.297892693761689,
          10.695623327478602,
          11.661106093965078,
          12.35872131235575,
          12.271623773499789,
          11.435225381846672,
          11.570915602878191,
          10.682815309642033,
          12.108871103847372,
          11.297892693761689,
          10.695623327478602,
          11.650045718299886,
          12.363547976130022,
          12.279706586919716,
          11.452361657472233,
          11.582308913778975,
          10.69423370175209,
          12.117446608755708,
          11.31482789446579,
          10.702602875458583,
          11.650045718299886,
          12.363547976130022,
          12.279706586919716,
          11.452361657472233,
          11.582308913778975,
          10.69423370175209,
          12.117446608755708,
          11.31482789446579,
          10.702602875458583
         ],
         "y": [
          2000,
          2000,
          2000,
          2000,
          2000,
          2001,
          2001,
          2001,
          2001,
          2001,
          2002,
          2002,
          2002,
          2002,
          2002,
          2002,
          2003,
          2003,
          2003,
          2003,
          2003,
          2003,
          2004,
          2004,
          2004,
          2004,
          2004,
          2004,
          2004,
          2004,
          2004,
          2005,
          2005,
          2005,
          2005,
          2005,
          2005,
          2005,
          2005,
          2005,
          2006,
          2006,
          2006,
          2006,
          2006,
          2006,
          2006,
          2006,
          2006,
          2006,
          2006,
          2006,
          2006,
          2006,
          2006,
          2007,
          2007,
          2007,
          2007,
          2007,
          2007,
          2007,
          2007,
          2007,
          2007,
          2007,
          2007,
          2007,
          2007,
          2007,
          2007,
          2007,
          2007,
          2008,
          2008,
          2008,
          2008,
          2008,
          2008,
          2008,
          2008,
          2008,
          2009,
          2009,
          2009,
          2009,
          2009,
          2009,
          2009,
          2009,
          2009,
          2010,
          2010,
          2010,
          2010,
          2010,
          2010,
          2010,
          2010,
          2010,
          2010,
          2010,
          2010,
          2010,
          2010,
          2010,
          2010,
          2010,
          2010,
          2011,
          2011,
          2011,
          2011,
          2011,
          2011,
          2011,
          2011,
          2011,
          2012,
          2012,
          2012,
          2012,
          2012,
          2012,
          2012,
          2012,
          2012,
          2012,
          2012,
          2012,
          2012,
          2012,
          2012,
          2012,
          2013,
          2013,
          2013,
          2013,
          2013,
          2013,
          2013,
          2013,
          2013,
          2013,
          2013,
          2013,
          2013,
          2013,
          2013,
          2013,
          2013,
          2013,
          2014,
          2014,
          2014,
          2014,
          2014,
          2014,
          2014,
          2014,
          2014,
          2014,
          2014,
          2014,
          2014,
          2014,
          2014,
          2014,
          2014,
          2014,
          2015,
          2015,
          2015,
          2015,
          2015,
          2015,
          2015,
          2015,
          2015,
          2015,
          2015,
          2015,
          2015,
          2015,
          2015,
          2015,
          2015,
          2015,
          2016,
          2016,
          2016,
          2016,
          2016,
          2016,
          2016,
          2016,
          2016,
          2016,
          2016,
          2016,
          2016,
          2016,
          2016,
          2016,
          2016,
          2016
         ],
         "z": [
          2.5,
          2.95,
          2.85,
          2.45,
          2.32,
          2.5,
          1.8,
          3.33,
          2.1,
          2.43,
          0.83,
          1.8,
          3.33,
          2.14,
          2.43,
          2.83,
          2.05,
          1.52,
          3.2,
          1.96,
          2.3,
          2.63,
          2.18,
          1.8,
          3.19,
          2.18,
          2.35,
          2.61,
          2.18,
          3,
          1.03,
          2.38,
          2.95,
          3.28,
          2.53,
          2.79,
          2.38,
          2.8,
          3,
          1.83,
          1.58,
          3.1,
          3.52,
          2.99,
          2.8,
          3.17,
          2.33,
          3.2,
          3.52,
          2.95,
          2.6,
          2.22,
          2.64,
          3.17,
          1.84,
          2.75,
          3.2,
          3.63,
          3.09,
          3.08,
          2.22,
          2.9,
          3.17,
          2.39,
          2.75,
          6.9,
          3.88,
          2.98,
          3.53,
          2.18,
          2.9,
          3.17,
          2.7,
          3.67,
          7.5,
          4.09,
          3.14,
          3.89,
          3.27,
          3.2,
          4.75,
          3.21,
          3.83,
          8.03,
          3.89,
          3.19,
          3.34,
          3.44,
          2.54,
          2.69,
          2.65,
          2.33,
          8.2,
          4.12,
          3.18,
          3.91,
          3.52,
          2.67,
          4.03,
          3.35,
          4.67,
          8.71,
          4.17,
          3.35,
          4.39,
          3.83,
          2.67,
          5,
          3.76,
          5,
          9.5,
          4.73,
          4,
          4.75,
          4.07,
          2.91,
          5,
          5,
          5,
          10.25,
          4.73,
          4.05,
          4.54,
          4.03,
          2.85,
          5,
          4.74,
          4.75,
          5.04,
          5.12,
          4.16,
          4.77,
          2.85,
          4.71,
          4.75,
          11.25,
          5.41,
          4.35,
          4.85,
          4.4,
          3.08,
          5,
          5.53,
          4.2,
          6,
          5.53,
          3.94,
          4.48,
          4.32,
          3.08,
          5,
          5,
          3.5,
          6.2,
          5.54,
          3.7,
          4.34,
          4.29,
          2.85,
          5,
          5,
          2.62,
          6.5,
          5.64,
          3.72,
          4.66,
          4,
          3.5,
          5,
          5.14,
          3.5,
          6.75,
          5.7,
          3.35,
          3.34,
          4.01,
          3.5,
          3.33,
          4.71,
          3.11,
          4.5,
          5.85,
          3.27,
          2.92,
          4.03,
          3.27,
          3.33,
          4.19,
          2.54,
          3.38,
          5.84,
          2.94,
          2.43,
          4.02,
          2.88,
          3.33,
          3.77,
          3.57,
          5.17,
          6,
          3.53,
          3.04,
          4.12,
          2.44,
          3.33,
          4.1
         ]
        },
        {
         "hovertemplate": "class=%{marker.color}<br>GDP_log10=%{x}<br>Year=%{y}<br>dollar_price=%{marker.size}<extra></extra>",
         "legendgroup": "1",
         "marker": {
          "color": [
           1,
           1,
           1,
           1,
           1,
           1,
           1,
           1,
           1,
           1,
           1,
           1,
           1,
           1,
           1,
           1,
           1,
           1,
           1,
           1,
           1,
           1,
           1,
           1,
           1
          ],
          "coloraxis": "coloraxis",
          "size": [
           2.24,
           2.24,
           2.35,
           2.46,
           2.47,
           2.58,
           2.67,
           2.78,
           2.89,
           3,
           3.21,
           3.43,
           3.43,
           3.53,
           3.64,
           3.81,
           3.96,
           4.03,
           4.18,
           4.24,
           4.29,
           4.29,
           4.29,
           4.29,
           4.5
          ],
          "sizemode": "area",
          "sizeref": 0.028125,
          "symbol": "diamond"
         },
         "mode": "markers",
         "name": "1",
         "scene": "scene",
         "showlegend": true,
         "type": "scatter3d",
         "x": [
          13.11288180001233,
          13.12513343205566,
          13.141326146067165,
          13.15632193849585,
          13.168547230023027,
          13.176619845682575,
          13.176026281687841,
          13.176026281687841,
          13.164867139432083,
          13.164867139432083,
          13.175861100958649,
          13.182544601857957,
          13.192205989595182,
          13.192205989595182,
          13.200133254830208,
          13.210653581358883,
          13.210653581358883,
          13.222988380334334,
          13.222988380334334,
          13.229741925206023,
          13.229741925206023,
          13.239265099653274,
          13.239265099653274,
          13.251498901438634,
          13.251498901438634
         ],
         "y": [
          2000,
          2001,
          2002,
          2003,
          2004,
          2005,
          2006,
          2006,
          2007,
          2007,
          2008,
          2009,
          2010,
          2010,
          2011,
          2012,
          2012,
          2013,
          2013,
          2014,
          2014,
          2015,
          2015,
          2016,
          2016
         ],
         "z": [
          2.24,
          2.24,
          2.35,
          2.46,
          2.47,
          2.58,
          2.67,
          2.78,
          2.89,
          3,
          3.21,
          3.43,
          3.43,
          3.53,
          3.64,
          3.81,
          3.96,
          4.03,
          4.18,
          4.24,
          4.29,
          4.29,
          4.29,
          4.29,
          4.5
         ]
        }
       ],
       "layout": {
        "coloraxis": {
         "colorbar": {
          "title": {
           "text": "class"
          }
         },
         "colorscale": [
          [
           0,
           "#0d0887"
          ],
          [
           0.1111111111111111,
           "#46039f"
          ],
          [
           0.2222222222222222,
           "#7201a8"
          ],
          [
           0.3333333333333333,
           "#9c179e"
          ],
          [
           0.4444444444444444,
           "#bd3786"
          ],
          [
           0.5555555555555556,
           "#d8576b"
          ],
          [
           0.6666666666666666,
           "#ed7953"
          ],
          [
           0.7777777777777778,
           "#fb9f3a"
          ],
          [
           0.8888888888888888,
           "#fdca26"
          ],
          [
           1,
           "#f0f921"
          ]
         ]
        },
        "legend": {
         "itemsizing": "constant",
         "title": {
          "text": "class"
         },
         "tracegroupgap": 0,
         "x": 0,
         "y": 1
        },
        "margin": {
         "t": 60
        },
        "scene": {
         "domain": {
          "x": [
           0,
           1
          ],
          "y": [
           0,
           1
          ]
         },
         "xaxis": {
          "title": {
           "text": "GDP_log10"
          }
         },
         "yaxis": {
          "title": {
           "text": "Year"
          }
         },
         "zaxis": {
          "title": {
           "text": "dollar_price"
          }
         }
        },
        "template": {
         "data": {
          "bar": [
           {
            "error_x": {
             "color": "#2a3f5f"
            },
            "error_y": {
             "color": "#2a3f5f"
            },
            "marker": {
             "line": {
              "color": "#E5ECF6",
              "width": 0.5
             },
             "pattern": {
              "fillmode": "overlay",
              "size": 10,
              "solidity": 0.2
             }
            },
            "type": "bar"
           }
          ],
          "barpolar": [
           {
            "marker": {
             "line": {
              "color": "#E5ECF6",
              "width": 0.5
             },
             "pattern": {
              "fillmode": "overlay",
              "size": 10,
              "solidity": 0.2
             }
            },
            "type": "barpolar"
           }
          ],
          "carpet": [
           {
            "aaxis": {
             "endlinecolor": "#2a3f5f",
             "gridcolor": "white",
             "linecolor": "white",
             "minorgridcolor": "white",
             "startlinecolor": "#2a3f5f"
            },
            "baxis": {
             "endlinecolor": "#2a3f5f",
             "gridcolor": "white",
             "linecolor": "white",
             "minorgridcolor": "white",
             "startlinecolor": "#2a3f5f"
            },
            "type": "carpet"
           }
          ],
          "choropleth": [
           {
            "colorbar": {
             "outlinewidth": 0,
             "ticks": ""
            },
            "type": "choropleth"
           }
          ],
          "contour": [
           {
            "colorbar": {
             "outlinewidth": 0,
             "ticks": ""
            },
            "colorscale": [
             [
              0,
              "#0d0887"
             ],
             [
              0.1111111111111111,
              "#46039f"
             ],
             [
              0.2222222222222222,
              "#7201a8"
             ],
             [
              0.3333333333333333,
              "#9c179e"
             ],
             [
              0.4444444444444444,
              "#bd3786"
             ],
             [
              0.5555555555555556,
              "#d8576b"
             ],
             [
              0.6666666666666666,
              "#ed7953"
             ],
             [
              0.7777777777777778,
              "#fb9f3a"
             ],
             [
              0.8888888888888888,
              "#fdca26"
             ],
             [
              1,
              "#f0f921"
             ]
            ],
            "type": "contour"
           }
          ],
          "contourcarpet": [
           {
            "colorbar": {
             "outlinewidth": 0,
             "ticks": ""
            },
            "type": "contourcarpet"
           }
          ],
          "heatmap": [
           {
            "colorbar": {
             "outlinewidth": 0,
             "ticks": ""
            },
            "colorscale": [
             [
              0,
              "#0d0887"
             ],
             [
              0.1111111111111111,
              "#46039f"
             ],
             [
              0.2222222222222222,
              "#7201a8"
             ],
             [
              0.3333333333333333,
              "#9c179e"
             ],
             [
              0.4444444444444444,
              "#bd3786"
             ],
             [
              0.5555555555555556,
              "#d8576b"
             ],
             [
              0.6666666666666666,
              "#ed7953"
             ],
             [
              0.7777777777777778,
              "#fb9f3a"
             ],
             [
              0.8888888888888888,
              "#fdca26"
             ],
             [
              1,
              "#f0f921"
             ]
            ],
            "type": "heatmap"
           }
          ],
          "heatmapgl": [
           {
            "colorbar": {
             "outlinewidth": 0,
             "ticks": ""
            },
            "colorscale": [
             [
              0,
              "#0d0887"
             ],
             [
              0.1111111111111111,
              "#46039f"
             ],
             [
              0.2222222222222222,
              "#7201a8"
             ],
             [
              0.3333333333333333,
              "#9c179e"
             ],
             [
              0.4444444444444444,
              "#bd3786"
             ],
             [
              0.5555555555555556,
              "#d8576b"
             ],
             [
              0.6666666666666666,
              "#ed7953"
             ],
             [
              0.7777777777777778,
              "#fb9f3a"
             ],
             [
              0.8888888888888888,
              "#fdca26"
             ],
             [
              1,
              "#f0f921"
             ]
            ],
            "type": "heatmapgl"
           }
          ],
          "histogram": [
           {
            "marker": {
             "pattern": {
              "fillmode": "overlay",
              "size": 10,
              "solidity": 0.2
             }
            },
            "type": "histogram"
           }
          ],
          "histogram2d": [
           {
            "colorbar": {
             "outlinewidth": 0,
             "ticks": ""
            },
            "colorscale": [
             [
              0,
              "#0d0887"
             ],
             [
              0.1111111111111111,
              "#46039f"
             ],
             [
              0.2222222222222222,
              "#7201a8"
             ],
             [
              0.3333333333333333,
              "#9c179e"
             ],
             [
              0.4444444444444444,
              "#bd3786"
             ],
             [
              0.5555555555555556,
              "#d8576b"
             ],
             [
              0.6666666666666666,
              "#ed7953"
             ],
             [
              0.7777777777777778,
              "#fb9f3a"
             ],
             [
              0.8888888888888888,
              "#fdca26"
             ],
             [
              1,
              "#f0f921"
             ]
            ],
            "type": "histogram2d"
           }
          ],
          "histogram2dcontour": [
           {
            "colorbar": {
             "outlinewidth": 0,
             "ticks": ""
            },
            "colorscale": [
             [
              0,
              "#0d0887"
             ],
             [
              0.1111111111111111,
              "#46039f"
             ],
             [
              0.2222222222222222,
              "#7201a8"
             ],
             [
              0.3333333333333333,
              "#9c179e"
             ],
             [
              0.4444444444444444,
              "#bd3786"
             ],
             [
              0.5555555555555556,
              "#d8576b"
             ],
             [
              0.6666666666666666,
              "#ed7953"
             ],
             [
              0.7777777777777778,
              "#fb9f3a"
             ],
             [
              0.8888888888888888,
              "#fdca26"
             ],
             [
              1,
              "#f0f921"
             ]
            ],
            "type": "histogram2dcontour"
           }
          ],
          "mesh3d": [
           {
            "colorbar": {
             "outlinewidth": 0,
             "ticks": ""
            },
            "type": "mesh3d"
           }
          ],
          "parcoords": [
           {
            "line": {
             "colorbar": {
              "outlinewidth": 0,
              "ticks": ""
             }
            },
            "type": "parcoords"
           }
          ],
          "pie": [
           {
            "automargin": true,
            "type": "pie"
           }
          ],
          "scatter": [
           {
            "marker": {
             "colorbar": {
              "outlinewidth": 0,
              "ticks": ""
             }
            },
            "type": "scatter"
           }
          ],
          "scatter3d": [
           {
            "line": {
             "colorbar": {
              "outlinewidth": 0,
              "ticks": ""
             }
            },
            "marker": {
             "colorbar": {
              "outlinewidth": 0,
              "ticks": ""
             }
            },
            "type": "scatter3d"
           }
          ],
          "scattercarpet": [
           {
            "marker": {
             "colorbar": {
              "outlinewidth": 0,
              "ticks": ""
             }
            },
            "type": "scattercarpet"
           }
          ],
          "scattergeo": [
           {
            "marker": {
             "colorbar": {
              "outlinewidth": 0,
              "ticks": ""
             }
            },
            "type": "scattergeo"
           }
          ],
          "scattergl": [
           {
            "marker": {
             "colorbar": {
              "outlinewidth": 0,
              "ticks": ""
             }
            },
            "type": "scattergl"
           }
          ],
          "scattermapbox": [
           {
            "marker": {
             "colorbar": {
              "outlinewidth": 0,
              "ticks": ""
             }
            },
            "type": "scattermapbox"
           }
          ],
          "scatterpolar": [
           {
            "marker": {
             "colorbar": {
              "outlinewidth": 0,
              "ticks": ""
             }
            },
            "type": "scatterpolar"
           }
          ],
          "scatterpolargl": [
           {
            "marker": {
             "colorbar": {
              "outlinewidth": 0,
              "ticks": ""
             }
            },
            "type": "scatterpolargl"
           }
          ],
          "scatterternary": [
           {
            "marker": {
             "colorbar": {
              "outlinewidth": 0,
              "ticks": ""
             }
            },
            "type": "scatterternary"
           }
          ],
          "surface": [
           {
            "colorbar": {
             "outlinewidth": 0,
             "ticks": ""
            },
            "colorscale": [
             [
              0,
              "#0d0887"
             ],
             [
              0.1111111111111111,
              "#46039f"
             ],
             [
              0.2222222222222222,
              "#7201a8"
             ],
             [
              0.3333333333333333,
              "#9c179e"
             ],
             [
              0.4444444444444444,
              "#bd3786"
             ],
             [
              0.5555555555555556,
              "#d8576b"
             ],
             [
              0.6666666666666666,
              "#ed7953"
             ],
             [
              0.7777777777777778,
              "#fb9f3a"
             ],
             [
              0.8888888888888888,
              "#fdca26"
             ],
             [
              1,
              "#f0f921"
             ]
            ],
            "type": "surface"
           }
          ],
          "table": [
           {
            "cells": {
             "fill": {
              "color": "#EBF0F8"
             },
             "line": {
              "color": "white"
             }
            },
            "header": {
             "fill": {
              "color": "#C8D4E3"
             },
             "line": {
              "color": "white"
             }
            },
            "type": "table"
           }
          ]
         },
         "layout": {
          "annotationdefaults": {
           "arrowcolor": "#2a3f5f",
           "arrowhead": 0,
           "arrowwidth": 1
          },
          "autotypenumbers": "strict",
          "coloraxis": {
           "colorbar": {
            "outlinewidth": 0,
            "ticks": ""
           }
          },
          "colorscale": {
           "diverging": [
            [
             0,
             "#8e0152"
            ],
            [
             0.1,
             "#c51b7d"
            ],
            [
             0.2,
             "#de77ae"
            ],
            [
             0.3,
             "#f1b6da"
            ],
            [
             0.4,
             "#fde0ef"
            ],
            [
             0.5,
             "#f7f7f7"
            ],
            [
             0.6,
             "#e6f5d0"
            ],
            [
             0.7,
             "#b8e186"
            ],
            [
             0.8,
             "#7fbc41"
            ],
            [
             0.9,
             "#4d9221"
            ],
            [
             1,
             "#276419"
            ]
           ],
           "sequential": [
            [
             0,
             "#0d0887"
            ],
            [
             0.1111111111111111,
             "#46039f"
            ],
            [
             0.2222222222222222,
             "#7201a8"
            ],
            [
             0.3333333333333333,
             "#9c179e"
            ],
            [
             0.4444444444444444,
             "#bd3786"
            ],
            [
             0.5555555555555556,
             "#d8576b"
            ],
            [
             0.6666666666666666,
             "#ed7953"
            ],
            [
             0.7777777777777778,
             "#fb9f3a"
            ],
            [
             0.8888888888888888,
             "#fdca26"
            ],
            [
             1,
             "#f0f921"
            ]
           ],
           "sequentialminus": [
            [
             0,
             "#0d0887"
            ],
            [
             0.1111111111111111,
             "#46039f"
            ],
            [
             0.2222222222222222,
             "#7201a8"
            ],
            [
             0.3333333333333333,
             "#9c179e"
            ],
            [
             0.4444444444444444,
             "#bd3786"
            ],
            [
             0.5555555555555556,
             "#d8576b"
            ],
            [
             0.6666666666666666,
             "#ed7953"
            ],
            [
             0.7777777777777778,
             "#fb9f3a"
            ],
            [
             0.8888888888888888,
             "#fdca26"
            ],
            [
             1,
             "#f0f921"
            ]
           ]
          },
          "colorway": [
           "#636efa",
           "#EF553B",
           "#00cc96",
           "#ab63fa",
           "#FFA15A",
           "#19d3f3",
           "#FF6692",
           "#B6E880",
           "#FF97FF",
           "#FECB52"
          ],
          "font": {
           "color": "#2a3f5f"
          },
          "geo": {
           "bgcolor": "white",
           "lakecolor": "white",
           "landcolor": "#E5ECF6",
           "showlakes": true,
           "showland": true,
           "subunitcolor": "white"
          },
          "hoverlabel": {
           "align": "left"
          },
          "hovermode": "closest",
          "mapbox": {
           "style": "light"
          },
          "paper_bgcolor": "white",
          "plot_bgcolor": "#E5ECF6",
          "polar": {
           "angularaxis": {
            "gridcolor": "white",
            "linecolor": "white",
            "ticks": ""
           },
           "bgcolor": "#E5ECF6",
           "radialaxis": {
            "gridcolor": "white",
            "linecolor": "white",
            "ticks": ""
           }
          },
          "scene": {
           "xaxis": {
            "backgroundcolor": "#E5ECF6",
            "gridcolor": "white",
            "gridwidth": 2,
            "linecolor": "white",
            "showbackground": true,
            "ticks": "",
            "zerolinecolor": "white"
           },
           "yaxis": {
            "backgroundcolor": "#E5ECF6",
            "gridcolor": "white",
            "gridwidth": 2,
            "linecolor": "white",
            "showbackground": true,
            "ticks": "",
            "zerolinecolor": "white"
           },
           "zaxis": {
            "backgroundcolor": "#E5ECF6",
            "gridcolor": "white",
            "gridwidth": 2,
            "linecolor": "white",
            "showbackground": true,
            "ticks": "",
            "zerolinecolor": "white"
           }
          },
          "shapedefaults": {
           "line": {
            "color": "#2a3f5f"
           }
          },
          "ternary": {
           "aaxis": {
            "gridcolor": "white",
            "linecolor": "white",
            "ticks": ""
           },
           "baxis": {
            "gridcolor": "white",
            "linecolor": "white",
            "ticks": ""
           },
           "bgcolor": "#E5ECF6",
           "caxis": {
            "gridcolor": "white",
            "linecolor": "white",
            "ticks": ""
           }
          },
          "title": {
           "x": 0.05
          },
          "xaxis": {
           "automargin": true,
           "gridcolor": "white",
           "linecolor": "white",
           "ticks": "",
           "title": {
            "standoff": 15
           },
           "zerolinecolor": "white",
           "zerolinewidth": 2
          },
          "yaxis": {
           "automargin": true,
           "gridcolor": "white",
           "linecolor": "white",
           "ticks": "",
           "title": {
            "standoff": 15
           },
           "zerolinecolor": "white",
           "zerolinewidth": 2
          }
         }
        },
        "width": 800
       }
      },
      "text/html": [
       "<div>                            <div id=\"28a16629-7771-4209-9c8b-e9c5d8a303c8\" class=\"plotly-graph-div\" style=\"height:525px; width:800px;\"></div>            <script type=\"text/javascript\">                require([\"plotly\"], function(Plotly) {                    window.PLOTLYENV=window.PLOTLYENV || {};                                    if (document.getElementById(\"28a16629-7771-4209-9c8b-e9c5d8a303c8\")) {                    Plotly.newPlot(                        \"28a16629-7771-4209-9c8b-e9c5d8a303c8\",                        [{\"hovertemplate\":\"class=%{marker.color}<br>GDP_log10=%{x}<br>Year=%{y}<br>dollar_price=%{marker.size}<extra></extra>\",\"legendgroup\":\"0\",\"marker\":{\"color\":[0,0,0,0,0,0,0,0,0,0,0,0,0,0,0,0,0,0,0,0,0,0,0,0,0,0,0,0,0,0,0,0,0,0,0,0,0,0,0,0,0,0,0,0,0,0,0,0,0,0,0,0,0,0,0,0,0,0,0,0,0,0,0,0,0,0,0,0,0,0,0,0,0,0,0,0,0,0,0,0,0,0,0,0,0,0,0,0,0,0,0,0,0,0,0,0,0,0,0,0,0,0,0,0,0,0,0,0,0,0,0,0,0,0,0,0,0,0,0,0,0,0,0,0,0,0,0,0,0,0,0,0,0,0,0,0,0,0,0,0,0,0,0,0,0,0,0,0,0,0,0,0,0,0,0,0,0,0,0,0,0,0,0,0,0,0,0,0,0,0,0,0,0,0,0,0,0,0,0,0,0,0,0,0,0,0,0,0,0,0,0,0,0,0,0,0,0,0,0,0,0,0,0,0,0,0],\"coloraxis\":\"coloraxis\",\"size\":[2.5,2.95,2.85,2.45,2.32,2.5,1.8,3.33,2.1,2.43,0.83,1.8,3.33,2.14,2.43,2.83,2.05,1.52,3.2,1.96,2.3,2.63,2.18,1.8,3.19,2.18,2.35,2.61,2.18,3.0,1.03,2.38,2.95,3.28,2.53,2.79,2.38,2.8,3.0,1.83,1.58,3.1,3.52,2.99,2.8,3.17,2.33,3.2,3.52,2.95,2.6,2.22,2.64,3.17,1.84,2.75,3.2,3.63,3.09,3.08,2.22,2.9,3.17,2.39,2.75,6.9,3.88,2.98,3.53,2.18,2.9,3.17,2.7,3.67,7.5,4.09,3.14,3.89,3.27,3.2,4.75,3.21,3.83,8.03,3.89,3.19,3.34,3.44,2.54,2.69,2.65,2.33,8.2,4.12,3.18,3.91,3.52,2.67,4.03,3.35,4.67,8.71,4.17,3.35,4.39,3.83,2.67,5.0,3.76,5.0,9.5,4.73,4.0,4.75,4.07,2.91,5.0,5.0,5.0,10.25,4.73,4.05,4.54,4.03,2.85,5.0,4.74,4.75,5.04,5.12,4.16,4.77,2.85,4.71,4.75,11.25,5.41,4.35,4.85,4.4,3.08,5.0,5.53,4.2,6.0,5.53,3.94,4.48,4.32,3.08,5.0,5.0,3.5,6.2,5.54,3.7,4.34,4.29,2.85,5.0,5.0,2.62,6.5,5.64,3.72,4.66,4.0,3.5,5.0,5.14,3.5,6.75,5.7,3.35,3.34,4.01,3.5,3.33,4.71,3.11,4.5,5.85,3.27,2.92,4.03,3.27,3.33,4.19,2.54,3.38,5.84,2.94,2.43,4.02,2.88,3.33,3.77,3.57,5.17,6.0,3.53,3.04,4.12,2.44,3.33,4.1],\"sizemode\":\"area\",\"sizeref\":0.028125,\"symbol\":\"circle\"},\"mode\":\"markers\",\"name\":\"0\",\"scene\":\"scene\",\"showlegend\":true,\"x\":[11.412093786117822,12.206212918793243,12.148267550806812,11.187343247123124,11.959590724993017,11.448870511218013,12.211139427787463,12.156019149008497,11.204756626889962,11.96582729081763,11.48641482364758,12.235460724720893,12.169224128135905,11.23499005831798,11.982528897944558,10.997954143029693,11.523249879796014,12.249149391362588,12.182916073119271,11.259240989595105,11.992437673751324,11.024426366402,11.556863201649685,12.26602397002789,12.194209723494689,11.285844423341723,11.390148579944803,10.500752789081217,12.011533507799095,11.055951565618074,10.496839340740646,11.5943201823078,12.291616009093685,12.203119807467447,11.306641954851118,11.418917638748907,10.534851171907329,12.021372824459327,11.091454898549628,10.52435819189204,11.611592456069689,12.313194738872534,12.207473895301591,11.321706199591635,12.026311165676477,11.129385396727427,11.611592456069689,12.313194738872534,12.207473895301591,11.321706199591635,11.432837345616289,10.554588737256541,12.026311165676477,11.129385396727427,10.554456322448882,11.585096573328341,12.312648000297976,12.194566082505403,11.314859100778996,11.438041126134623,10.550353111683478,12.002726517190368,11.134118611673433,10.572505282681798,11.585096573328341,12.312648000297976,12.194566082505403,11.314859100778996,11.438041126134623,10.550353111683478,12.002726517190368,11.134118611673433,10.572505282681798,11.626984064934005,12.344170480486468,12.207780493151548,11.339526072365764,11.456523396359723,10.57134326732259,12.024404094602666,11.1688772132589,10.605137779866206,11.652306120447742,12.36109699977006,12.221236594811472,11.365286147532501,11.487376137161853,10.589657145324354,12.040027900960618,11.195521559623614,10.626997166276745,11.647825397985413,12.369361425761944,12.228823416177717,11.387791340392184,11.504004450946969,10.610005663829048,12.055565038153116,11.221399516489695,10.64209768751251,11.647825397985413,12.369361425761944,12.228823416177717,11.387791340392184,11.504004450946969,10.610005663829048,12.055565038153116,11.221399516489695,10.64209768751251,11.658147933028753,12.382218984541835,12.238827132036294,11.40501257287041,11.523398558480542,10.619749789568507,12.061406325276202,11.2461007107494,10.6617852028363,11.647096352638156,12.38440214005307,12.251109344821383,11.412618434479578,11.543462663177701,10.634754496463673,12.073417775091277,11.25632405805243,10.67562811374881,11.647096352638156,12.38440214005307,12.251109344821383,11.412618434479578,11.543462663177701,12.073417775091277,10.67562811374881,11.658798543937177,12.368723448183994,12.254095282486812,11.4225100601066,11.556114096209178,10.650247250713875,12.087467607885854,11.270238890745194,10.677235245300825,11.658798543937177,12.368723448183994,12.254095282486812,11.4225100601066,11.556114096209178,10.650247250713875,12.087467607885854,11.270238890745194,10.677235245300825,11.649668494684517,12.354125425424163,12.258876933772436,11.429705191066441,11.565086164950966,10.668306608294989,12.099974200930129,11.28708795740843,10.684512630632394,11.649668494684517,12.354125425424163,12.258876933772436,11.429705191066441,11.565086164950966,10.668306608294989,12.099974200930129,11.28708795740843,10.684512630632394,11.661106093965078,12.35872131235575,12.271623773499789,11.435225381846672,11.570915602878191,10.682815309642033,12.108871103847372,11.297892693761689,10.695623327478602,11.661106093965078,12.35872131235575,12.271623773499789,11.435225381846672,11.570915602878191,10.682815309642033,12.108871103847372,11.297892693761689,10.695623327478602,11.650045718299886,12.363547976130022,12.279706586919716,11.452361657472233,11.582308913778975,10.69423370175209,12.117446608755708,11.31482789446579,10.702602875458583,11.650045718299886,12.363547976130022,12.279706586919716,11.452361657472233,11.582308913778975,10.69423370175209,12.117446608755708,11.31482789446579,10.702602875458583],\"y\":[2000,2000,2000,2000,2000,2001,2001,2001,2001,2001,2002,2002,2002,2002,2002,2002,2003,2003,2003,2003,2003,2003,2004,2004,2004,2004,2004,2004,2004,2004,2004,2005,2005,2005,2005,2005,2005,2005,2005,2005,2006,2006,2006,2006,2006,2006,2006,2006,2006,2006,2006,2006,2006,2006,2006,2007,2007,2007,2007,2007,2007,2007,2007,2007,2007,2007,2007,2007,2007,2007,2007,2007,2007,2008,2008,2008,2008,2008,2008,2008,2008,2008,2009,2009,2009,2009,2009,2009,2009,2009,2009,2010,2010,2010,2010,2010,2010,2010,2010,2010,2010,2010,2010,2010,2010,2010,2010,2010,2010,2011,2011,2011,2011,2011,2011,2011,2011,2011,2012,2012,2012,2012,2012,2012,2012,2012,2012,2012,2012,2012,2012,2012,2012,2012,2013,2013,2013,2013,2013,2013,2013,2013,2013,2013,2013,2013,2013,2013,2013,2013,2013,2013,2014,2014,2014,2014,2014,2014,2014,2014,2014,2014,2014,2014,2014,2014,2014,2014,2014,2014,2015,2015,2015,2015,2015,2015,2015,2015,2015,2015,2015,2015,2015,2015,2015,2015,2015,2015,2016,2016,2016,2016,2016,2016,2016,2016,2016,2016,2016,2016,2016,2016,2016,2016,2016,2016],\"z\":[2.5,2.95,2.85,2.45,2.32,2.5,1.8,3.33,2.1,2.43,0.83,1.8,3.33,2.14,2.43,2.83,2.05,1.52,3.2,1.96,2.3,2.63,2.18,1.8,3.19,2.18,2.35,2.61,2.18,3.0,1.03,2.38,2.95,3.28,2.53,2.79,2.38,2.8,3.0,1.83,1.58,3.1,3.52,2.99,2.8,3.17,2.33,3.2,3.52,2.95,2.6,2.22,2.64,3.17,1.84,2.75,3.2,3.63,3.09,3.08,2.22,2.9,3.17,2.39,2.75,6.9,3.88,2.98,3.53,2.18,2.9,3.17,2.7,3.67,7.5,4.09,3.14,3.89,3.27,3.2,4.75,3.21,3.83,8.03,3.89,3.19,3.34,3.44,2.54,2.69,2.65,2.33,8.2,4.12,3.18,3.91,3.52,2.67,4.03,3.35,4.67,8.71,4.17,3.35,4.39,3.83,2.67,5.0,3.76,5.0,9.5,4.73,4.0,4.75,4.07,2.91,5.0,5.0,5.0,10.25,4.73,4.05,4.54,4.03,2.85,5.0,4.74,4.75,5.04,5.12,4.16,4.77,2.85,4.71,4.75,11.25,5.41,4.35,4.85,4.4,3.08,5.0,5.53,4.2,6.0,5.53,3.94,4.48,4.32,3.08,5.0,5.0,3.5,6.2,5.54,3.7,4.34,4.29,2.85,5.0,5.0,2.62,6.5,5.64,3.72,4.66,4.0,3.5,5.0,5.14,3.5,6.75,5.7,3.35,3.34,4.01,3.5,3.33,4.71,3.11,4.5,5.85,3.27,2.92,4.03,3.27,3.33,4.19,2.54,3.38,5.84,2.94,2.43,4.02,2.88,3.33,3.77,3.57,5.17,6.0,3.53,3.04,4.12,2.44,3.33,4.1],\"type\":\"scatter3d\"},{\"hovertemplate\":\"class=%{marker.color}<br>GDP_log10=%{x}<br>Year=%{y}<br>dollar_price=%{marker.size}<extra></extra>\",\"legendgroup\":\"1\",\"marker\":{\"color\":[1,1,1,1,1,1,1,1,1,1,1,1,1,1,1,1,1,1,1,1,1,1,1,1,1],\"coloraxis\":\"coloraxis\",\"size\":[2.24,2.24,2.35,2.46,2.47,2.58,2.67,2.78,2.89,3.0,3.21,3.43,3.43,3.53,3.64,3.81,3.96,4.03,4.18,4.24,4.29,4.29,4.29,4.29,4.5],\"sizemode\":\"area\",\"sizeref\":0.028125,\"symbol\":\"diamond\"},\"mode\":\"markers\",\"name\":\"1\",\"scene\":\"scene\",\"showlegend\":true,\"x\":[13.11288180001233,13.12513343205566,13.141326146067165,13.15632193849585,13.168547230023027,13.176619845682575,13.176026281687841,13.176026281687841,13.164867139432083,13.164867139432083,13.175861100958649,13.182544601857957,13.192205989595182,13.192205989595182,13.200133254830208,13.210653581358883,13.210653581358883,13.222988380334334,13.222988380334334,13.229741925206023,13.229741925206023,13.239265099653274,13.239265099653274,13.251498901438634,13.251498901438634],\"y\":[2000,2001,2002,2003,2004,2005,2006,2006,2007,2007,2008,2009,2010,2010,2011,2012,2012,2013,2013,2014,2014,2015,2015,2016,2016],\"z\":[2.24,2.24,2.35,2.46,2.47,2.58,2.67,2.78,2.89,3.0,3.21,3.43,3.43,3.53,3.64,3.81,3.96,4.03,4.18,4.24,4.29,4.29,4.29,4.29,4.5],\"type\":\"scatter3d\"}],                        {\"template\":{\"data\":{\"bar\":[{\"error_x\":{\"color\":\"#2a3f5f\"},\"error_y\":{\"color\":\"#2a3f5f\"},\"marker\":{\"line\":{\"color\":\"#E5ECF6\",\"width\":0.5},\"pattern\":{\"fillmode\":\"overlay\",\"size\":10,\"solidity\":0.2}},\"type\":\"bar\"}],\"barpolar\":[{\"marker\":{\"line\":{\"color\":\"#E5ECF6\",\"width\":0.5},\"pattern\":{\"fillmode\":\"overlay\",\"size\":10,\"solidity\":0.2}},\"type\":\"barpolar\"}],\"carpet\":[{\"aaxis\":{\"endlinecolor\":\"#2a3f5f\",\"gridcolor\":\"white\",\"linecolor\":\"white\",\"minorgridcolor\":\"white\",\"startlinecolor\":\"#2a3f5f\"},\"baxis\":{\"endlinecolor\":\"#2a3f5f\",\"gridcolor\":\"white\",\"linecolor\":\"white\",\"minorgridcolor\":\"white\",\"startlinecolor\":\"#2a3f5f\"},\"type\":\"carpet\"}],\"choropleth\":[{\"colorbar\":{\"outlinewidth\":0,\"ticks\":\"\"},\"type\":\"choropleth\"}],\"contour\":[{\"colorbar\":{\"outlinewidth\":0,\"ticks\":\"\"},\"colorscale\":[[0.0,\"#0d0887\"],[0.1111111111111111,\"#46039f\"],[0.2222222222222222,\"#7201a8\"],[0.3333333333333333,\"#9c179e\"],[0.4444444444444444,\"#bd3786\"],[0.5555555555555556,\"#d8576b\"],[0.6666666666666666,\"#ed7953\"],[0.7777777777777778,\"#fb9f3a\"],[0.8888888888888888,\"#fdca26\"],[1.0,\"#f0f921\"]],\"type\":\"contour\"}],\"contourcarpet\":[{\"colorbar\":{\"outlinewidth\":0,\"ticks\":\"\"},\"type\":\"contourcarpet\"}],\"heatmap\":[{\"colorbar\":{\"outlinewidth\":0,\"ticks\":\"\"},\"colorscale\":[[0.0,\"#0d0887\"],[0.1111111111111111,\"#46039f\"],[0.2222222222222222,\"#7201a8\"],[0.3333333333333333,\"#9c179e\"],[0.4444444444444444,\"#bd3786\"],[0.5555555555555556,\"#d8576b\"],[0.6666666666666666,\"#ed7953\"],[0.7777777777777778,\"#fb9f3a\"],[0.8888888888888888,\"#fdca26\"],[1.0,\"#f0f921\"]],\"type\":\"heatmap\"}],\"heatmapgl\":[{\"colorbar\":{\"outlinewidth\":0,\"ticks\":\"\"},\"colorscale\":[[0.0,\"#0d0887\"],[0.1111111111111111,\"#46039f\"],[0.2222222222222222,\"#7201a8\"],[0.3333333333333333,\"#9c179e\"],[0.4444444444444444,\"#bd3786\"],[0.5555555555555556,\"#d8576b\"],[0.6666666666666666,\"#ed7953\"],[0.7777777777777778,\"#fb9f3a\"],[0.8888888888888888,\"#fdca26\"],[1.0,\"#f0f921\"]],\"type\":\"heatmapgl\"}],\"histogram\":[{\"marker\":{\"pattern\":{\"fillmode\":\"overlay\",\"size\":10,\"solidity\":0.2}},\"type\":\"histogram\"}],\"histogram2d\":[{\"colorbar\":{\"outlinewidth\":0,\"ticks\":\"\"},\"colorscale\":[[0.0,\"#0d0887\"],[0.1111111111111111,\"#46039f\"],[0.2222222222222222,\"#7201a8\"],[0.3333333333333333,\"#9c179e\"],[0.4444444444444444,\"#bd3786\"],[0.5555555555555556,\"#d8576b\"],[0.6666666666666666,\"#ed7953\"],[0.7777777777777778,\"#fb9f3a\"],[0.8888888888888888,\"#fdca26\"],[1.0,\"#f0f921\"]],\"type\":\"histogram2d\"}],\"histogram2dcontour\":[{\"colorbar\":{\"outlinewidth\":0,\"ticks\":\"\"},\"colorscale\":[[0.0,\"#0d0887\"],[0.1111111111111111,\"#46039f\"],[0.2222222222222222,\"#7201a8\"],[0.3333333333333333,\"#9c179e\"],[0.4444444444444444,\"#bd3786\"],[0.5555555555555556,\"#d8576b\"],[0.6666666666666666,\"#ed7953\"],[0.7777777777777778,\"#fb9f3a\"],[0.8888888888888888,\"#fdca26\"],[1.0,\"#f0f921\"]],\"type\":\"histogram2dcontour\"}],\"mesh3d\":[{\"colorbar\":{\"outlinewidth\":0,\"ticks\":\"\"},\"type\":\"mesh3d\"}],\"parcoords\":[{\"line\":{\"colorbar\":{\"outlinewidth\":0,\"ticks\":\"\"}},\"type\":\"parcoords\"}],\"pie\":[{\"automargin\":true,\"type\":\"pie\"}],\"scatter\":[{\"marker\":{\"colorbar\":{\"outlinewidth\":0,\"ticks\":\"\"}},\"type\":\"scatter\"}],\"scatter3d\":[{\"line\":{\"colorbar\":{\"outlinewidth\":0,\"ticks\":\"\"}},\"marker\":{\"colorbar\":{\"outlinewidth\":0,\"ticks\":\"\"}},\"type\":\"scatter3d\"}],\"scattercarpet\":[{\"marker\":{\"colorbar\":{\"outlinewidth\":0,\"ticks\":\"\"}},\"type\":\"scattercarpet\"}],\"scattergeo\":[{\"marker\":{\"colorbar\":{\"outlinewidth\":0,\"ticks\":\"\"}},\"type\":\"scattergeo\"}],\"scattergl\":[{\"marker\":{\"colorbar\":{\"outlinewidth\":0,\"ticks\":\"\"}},\"type\":\"scattergl\"}],\"scattermapbox\":[{\"marker\":{\"colorbar\":{\"outlinewidth\":0,\"ticks\":\"\"}},\"type\":\"scattermapbox\"}],\"scatterpolar\":[{\"marker\":{\"colorbar\":{\"outlinewidth\":0,\"ticks\":\"\"}},\"type\":\"scatterpolar\"}],\"scatterpolargl\":[{\"marker\":{\"colorbar\":{\"outlinewidth\":0,\"ticks\":\"\"}},\"type\":\"scatterpolargl\"}],\"scatterternary\":[{\"marker\":{\"colorbar\":{\"outlinewidth\":0,\"ticks\":\"\"}},\"type\":\"scatterternary\"}],\"surface\":[{\"colorbar\":{\"outlinewidth\":0,\"ticks\":\"\"},\"colorscale\":[[0.0,\"#0d0887\"],[0.1111111111111111,\"#46039f\"],[0.2222222222222222,\"#7201a8\"],[0.3333333333333333,\"#9c179e\"],[0.4444444444444444,\"#bd3786\"],[0.5555555555555556,\"#d8576b\"],[0.6666666666666666,\"#ed7953\"],[0.7777777777777778,\"#fb9f3a\"],[0.8888888888888888,\"#fdca26\"],[1.0,\"#f0f921\"]],\"type\":\"surface\"}],\"table\":[{\"cells\":{\"fill\":{\"color\":\"#EBF0F8\"},\"line\":{\"color\":\"white\"}},\"header\":{\"fill\":{\"color\":\"#C8D4E3\"},\"line\":{\"color\":\"white\"}},\"type\":\"table\"}]},\"layout\":{\"annotationdefaults\":{\"arrowcolor\":\"#2a3f5f\",\"arrowhead\":0,\"arrowwidth\":1},\"autotypenumbers\":\"strict\",\"coloraxis\":{\"colorbar\":{\"outlinewidth\":0,\"ticks\":\"\"}},\"colorscale\":{\"diverging\":[[0,\"#8e0152\"],[0.1,\"#c51b7d\"],[0.2,\"#de77ae\"],[0.3,\"#f1b6da\"],[0.4,\"#fde0ef\"],[0.5,\"#f7f7f7\"],[0.6,\"#e6f5d0\"],[0.7,\"#b8e186\"],[0.8,\"#7fbc41\"],[0.9,\"#4d9221\"],[1,\"#276419\"]],\"sequential\":[[0.0,\"#0d0887\"],[0.1111111111111111,\"#46039f\"],[0.2222222222222222,\"#7201a8\"],[0.3333333333333333,\"#9c179e\"],[0.4444444444444444,\"#bd3786\"],[0.5555555555555556,\"#d8576b\"],[0.6666666666666666,\"#ed7953\"],[0.7777777777777778,\"#fb9f3a\"],[0.8888888888888888,\"#fdca26\"],[1.0,\"#f0f921\"]],\"sequentialminus\":[[0.0,\"#0d0887\"],[0.1111111111111111,\"#46039f\"],[0.2222222222222222,\"#7201a8\"],[0.3333333333333333,\"#9c179e\"],[0.4444444444444444,\"#bd3786\"],[0.5555555555555556,\"#d8576b\"],[0.6666666666666666,\"#ed7953\"],[0.7777777777777778,\"#fb9f3a\"],[0.8888888888888888,\"#fdca26\"],[1.0,\"#f0f921\"]]},\"colorway\":[\"#636efa\",\"#EF553B\",\"#00cc96\",\"#ab63fa\",\"#FFA15A\",\"#19d3f3\",\"#FF6692\",\"#B6E880\",\"#FF97FF\",\"#FECB52\"],\"font\":{\"color\":\"#2a3f5f\"},\"geo\":{\"bgcolor\":\"white\",\"lakecolor\":\"white\",\"landcolor\":\"#E5ECF6\",\"showlakes\":true,\"showland\":true,\"subunitcolor\":\"white\"},\"hoverlabel\":{\"align\":\"left\"},\"hovermode\":\"closest\",\"mapbox\":{\"style\":\"light\"},\"paper_bgcolor\":\"white\",\"plot_bgcolor\":\"#E5ECF6\",\"polar\":{\"angularaxis\":{\"gridcolor\":\"white\",\"linecolor\":\"white\",\"ticks\":\"\"},\"bgcolor\":\"#E5ECF6\",\"radialaxis\":{\"gridcolor\":\"white\",\"linecolor\":\"white\",\"ticks\":\"\"}},\"scene\":{\"xaxis\":{\"backgroundcolor\":\"#E5ECF6\",\"gridcolor\":\"white\",\"gridwidth\":2,\"linecolor\":\"white\",\"showbackground\":true,\"ticks\":\"\",\"zerolinecolor\":\"white\"},\"yaxis\":{\"backgroundcolor\":\"#E5ECF6\",\"gridcolor\":\"white\",\"gridwidth\":2,\"linecolor\":\"white\",\"showbackground\":true,\"ticks\":\"\",\"zerolinecolor\":\"white\"},\"zaxis\":{\"backgroundcolor\":\"#E5ECF6\",\"gridcolor\":\"white\",\"gridwidth\":2,\"linecolor\":\"white\",\"showbackground\":true,\"ticks\":\"\",\"zerolinecolor\":\"white\"}},\"shapedefaults\":{\"line\":{\"color\":\"#2a3f5f\"}},\"ternary\":{\"aaxis\":{\"gridcolor\":\"white\",\"linecolor\":\"white\",\"ticks\":\"\"},\"baxis\":{\"gridcolor\":\"white\",\"linecolor\":\"white\",\"ticks\":\"\"},\"bgcolor\":\"#E5ECF6\",\"caxis\":{\"gridcolor\":\"white\",\"linecolor\":\"white\",\"ticks\":\"\"}},\"title\":{\"x\":0.05},\"xaxis\":{\"automargin\":true,\"gridcolor\":\"white\",\"linecolor\":\"white\",\"ticks\":\"\",\"title\":{\"standoff\":15},\"zerolinecolor\":\"white\",\"zerolinewidth\":2},\"yaxis\":{\"automargin\":true,\"gridcolor\":\"white\",\"linecolor\":\"white\",\"ticks\":\"\",\"title\":{\"standoff\":15},\"zerolinecolor\":\"white\",\"zerolinewidth\":2}}},\"scene\":{\"domain\":{\"x\":[0.0,1.0],\"y\":[0.0,1.0]},\"xaxis\":{\"title\":{\"text\":\"GDP_log10\"}},\"yaxis\":{\"title\":{\"text\":\"Year\"}},\"zaxis\":{\"title\":{\"text\":\"dollar_price\"}}},\"coloraxis\":{\"colorbar\":{\"title\":{\"text\":\"class\"}},\"colorscale\":[[0.0,\"#0d0887\"],[0.1111111111111111,\"#46039f\"],[0.2222222222222222,\"#7201a8\"],[0.3333333333333333,\"#9c179e\"],[0.4444444444444444,\"#bd3786\"],[0.5555555555555556,\"#d8576b\"],[0.6666666666666666,\"#ed7953\"],[0.7777777777777778,\"#fb9f3a\"],[0.8888888888888888,\"#fdca26\"],[1.0,\"#f0f921\"]]},\"legend\":{\"title\":{\"text\":\"class\"},\"tracegroupgap\":0,\"itemsizing\":\"constant\",\"x\":0,\"y\":1},\"margin\":{\"t\":60},\"width\":800},                        {\"responsive\": true}                    ).then(function(){\n",
       "                            \n",
       "var gd = document.getElementById('28a16629-7771-4209-9c8b-e9c5d8a303c8');\n",
       "var x = new MutationObserver(function (mutations, observer) {{\n",
       "        var display = window.getComputedStyle(gd).display;\n",
       "        if (!display || display === 'none') {{\n",
       "            console.log([gd, 'removed!']);\n",
       "            Plotly.purge(gd);\n",
       "            observer.disconnect();\n",
       "        }}\n",
       "}});\n",
       "\n",
       "// Listen for the removal of the full notebook cells\n",
       "var notebookContainer = gd.closest('#notebook-container');\n",
       "if (notebookContainer) {{\n",
       "    x.observe(notebookContainer, {childList: true});\n",
       "}}\n",
       "\n",
       "// Listen for the clearing of the current output cell\n",
       "var outputEl = gd.closest('.output');\n",
       "if (outputEl) {{\n",
       "    x.observe(outputEl, {childList: true});\n",
       "}}\n",
       "\n",
       "                        })                };                });            </script>        </div>"
      ]
     },
     "metadata": {},
     "output_type": "display_data"
    }
   ],
   "source": [
    "# Plotting the cluster with three features\n",
    "fig = px.scatter_3d(df_Americas_modified, x=\"GDP_log10\", y=\"Year\",\n",
    "                   z=\"dollar_price\", color =\"class\", symbol =\"class\", size = \"dollar_price\", width=800)\n",
    "fig.update_layout(legend=dict(x=0, y=1))\n",
    "fig.show()"
   ]
  }
 ],
 "metadata": {
  "kernelspec": {
   "display_name": "mlenv",
   "language": "python",
   "name": "mlenv"
  },
  "language_info": {
   "codemirror_mode": {
    "name": "ipython",
    "version": 3
   },
   "file_extension": ".py",
   "mimetype": "text/x-python",
   "name": "python",
   "nbconvert_exporter": "python",
   "pygments_lexer": "ipython3",
   "version": "3.7.13"
  }
 },
 "nbformat": 4,
 "nbformat_minor": 5
}
