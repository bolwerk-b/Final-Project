{
 "cells": [
  {
   "cell_type": "code",
   "execution_count": 1,
   "id": "9b71e006",
   "metadata": {},
   "outputs": [],
   "source": [
    "# This code includes three regression models (linear, 2nd order polynomial, RandomForest) and compares BigMac\n",
    "# prices against GDP or log10(GDP) "
   ]
  },
  {
   "cell_type": "code",
   "execution_count": 2,
   "id": "4d59b892",
   "metadata": {},
   "outputs": [],
   "source": [
    "# Import depedencies\n",
    "import numpy as np\n",
    "import pandas as pd\n",
    "from pathlib import Path\n",
    "from collections import Counter\n",
    "import matplotlib.pyplot as plt\n",
    "from sklearn.linear_model import LinearRegression\n",
    "from sklearn.preprocessing import StandardScaler,MinMaxScaler\n",
    "from sklearn.metrics import balanced_accuracy_score\n",
    "from sklearn.metrics import confusion_matrix\n",
    "# from imblearn.metrics import classification_report_imbalanced\n"
   ]
  },
  {
   "cell_type": "markdown",
   "id": "84f31fcb",
   "metadata": {},
   "source": [
    "# Read the CSV and Perform Basic Data Cleaning"
   ]
  },
  {
   "cell_type": "code",
   "execution_count": 3,
   "id": "80ec72b6",
   "metadata": {
    "scrolled": true
   },
   "outputs": [
    {
     "data": {
      "text/html": [
       "<div>\n",
       "<style scoped>\n",
       "    .dataframe tbody tr th:only-of-type {\n",
       "        vertical-align: middle;\n",
       "    }\n",
       "\n",
       "    .dataframe tbody tr th {\n",
       "        vertical-align: top;\n",
       "    }\n",
       "\n",
       "    .dataframe thead th {\n",
       "        text-align: right;\n",
       "    }\n",
       "</style>\n",
       "<table border=\"1\" class=\"dataframe\">\n",
       "  <thead>\n",
       "    <tr style=\"text-align: right;\">\n",
       "      <th></th>\n",
       "      <th>date</th>\n",
       "      <th>currency_code</th>\n",
       "      <th>Country</th>\n",
       "      <th>local_price</th>\n",
       "      <th>dollar_ex</th>\n",
       "      <th>dollar_price</th>\n",
       "      <th>Year</th>\n",
       "      <th>Code</th>\n",
       "      <th>gdp_growth</th>\n",
       "      <th>GDP_Per_Capita</th>\n",
       "      <th>GDP</th>\n",
       "      <th>country_code</th>\n",
       "      <th>region</th>\n",
       "      <th>sub_region</th>\n",
       "      <th>GDP_log10</th>\n",
       "    </tr>\n",
       "  </thead>\n",
       "  <tbody>\n",
       "    <tr>\n",
       "      <th>0</th>\n",
       "      <td>4/1/2000</td>\n",
       "      <td>ARS</td>\n",
       "      <td>Argentina</td>\n",
       "      <td>2.50</td>\n",
       "      <td>1</td>\n",
       "      <td>2.50</td>\n",
       "      <td>2000</td>\n",
       "      <td>ARG</td>\n",
       "      <td>-10.894485</td>\n",
       "      <td>6854.294081</td>\n",
       "      <td>2.582820e+11</td>\n",
       "      <td>32</td>\n",
       "      <td>Americas</td>\n",
       "      <td>Latin America and the Caribbean</td>\n",
       "      <td>NaN</td>\n",
       "    </tr>\n",
       "    <tr>\n",
       "      <th>1</th>\n",
       "      <td>4/1/2000</td>\n",
       "      <td>AUD</td>\n",
       "      <td>Australia</td>\n",
       "      <td>2.59</td>\n",
       "      <td>1</td>\n",
       "      <td>2.59</td>\n",
       "      <td>2000</td>\n",
       "      <td>AUS</td>\n",
       "      <td>4.001431</td>\n",
       "      <td>45806.687450</td>\n",
       "      <td>9.001660e+11</td>\n",
       "      <td>36</td>\n",
       "      <td>Oceania</td>\n",
       "      <td>Australia and New Zealand</td>\n",
       "      <td>NaN</td>\n",
       "    </tr>\n",
       "    <tr>\n",
       "      <th>2</th>\n",
       "      <td>4/1/2000</td>\n",
       "      <td>BRL</td>\n",
       "      <td>Brazil</td>\n",
       "      <td>2.95</td>\n",
       "      <td>1</td>\n",
       "      <td>2.95</td>\n",
       "      <td>2000</td>\n",
       "      <td>BRA</td>\n",
       "      <td>3.053462</td>\n",
       "      <td>8954.837245</td>\n",
       "      <td>1.607730e+12</td>\n",
       "      <td>76</td>\n",
       "      <td>Americas</td>\n",
       "      <td>Latin America and the Caribbean</td>\n",
       "      <td>NaN</td>\n",
       "    </tr>\n",
       "    <tr>\n",
       "      <th>3</th>\n",
       "      <td>4/1/2000</td>\n",
       "      <td>CAD</td>\n",
       "      <td>Canada</td>\n",
       "      <td>2.85</td>\n",
       "      <td>1</td>\n",
       "      <td>2.85</td>\n",
       "      <td>2000</td>\n",
       "      <td>CAN</td>\n",
       "      <td>3.016889</td>\n",
       "      <td>44863.216020</td>\n",
       "      <td>1.406910e+12</td>\n",
       "      <td>124</td>\n",
       "      <td>Americas</td>\n",
       "      <td>Northern America</td>\n",
       "      <td>NaN</td>\n",
       "    </tr>\n",
       "    <tr>\n",
       "      <th>4</th>\n",
       "      <td>4/1/2000</td>\n",
       "      <td>CLP</td>\n",
       "      <td>Chile</td>\n",
       "      <td>1260.00</td>\n",
       "      <td>514</td>\n",
       "      <td>2.45</td>\n",
       "      <td>2000</td>\n",
       "      <td>CHL</td>\n",
       "      <td>3.106971</td>\n",
       "      <td>9814.656135</td>\n",
       "      <td>1.539370e+11</td>\n",
       "      <td>152</td>\n",
       "      <td>Americas</td>\n",
       "      <td>Latin America and the Caribbean</td>\n",
       "      <td>NaN</td>\n",
       "    </tr>\n",
       "  </tbody>\n",
       "</table>\n",
       "</div>"
      ],
      "text/plain": [
       "       date currency_code    Country  local_price  dollar_ex  dollar_price  \\\n",
       "0  4/1/2000           ARS  Argentina         2.50          1          2.50   \n",
       "1  4/1/2000           AUD  Australia         2.59          1          2.59   \n",
       "2  4/1/2000           BRL     Brazil         2.95          1          2.95   \n",
       "3  4/1/2000           CAD     Canada         2.85          1          2.85   \n",
       "4  4/1/2000           CLP      Chile      1260.00        514          2.45   \n",
       "\n",
       "   Year Code  gdp_growth  GDP_Per_Capita           GDP  country_code  \\\n",
       "0  2000  ARG  -10.894485     6854.294081  2.582820e+11            32   \n",
       "1  2000  AUS    4.001431    45806.687450  9.001660e+11            36   \n",
       "2  2000  BRA    3.053462     8954.837245  1.607730e+12            76   \n",
       "3  2000  CAN    3.016889    44863.216020  1.406910e+12           124   \n",
       "4  2000  CHL    3.106971     9814.656135  1.539370e+11           152   \n",
       "\n",
       "     region                       sub_region  GDP_log10  \n",
       "0  Americas  Latin America and the Caribbean        NaN  \n",
       "1   Oceania        Australia and New Zealand        NaN  \n",
       "2  Americas  Latin America and the Caribbean        NaN  \n",
       "3  Americas                 Northern America        NaN  \n",
       "4  Americas  Latin America and the Caribbean        NaN  "
      ]
     },
     "execution_count": 3,
     "metadata": {},
     "output_type": "execute_result"
    }
   ],
   "source": [
    "#Load data\n",
    "file_path = Path('../../Final_Project_Resources/final.csv')\n",
    "df = pd.read_csv (file_path)\n",
    "df.head()\n",
    "\n"
   ]
  },
  {
   "cell_type": "code",
   "execution_count": 4,
   "id": "6ba37a31",
   "metadata": {},
   "outputs": [],
   "source": [
    "# RAW GDP was converted into log10(GDP) this would be considered as preliminary feature engineering\n",
    "# Converting to log10(GDP) makes the data more manageable as raw GDP's are spread accross 3-orders of magnitude"
   ]
  },
  {
   "cell_type": "code",
   "execution_count": 5,
   "id": "a777cfe1",
   "metadata": {},
   "outputs": [],
   "source": [
    "# Converting raw GDP to log10 scale\n",
    "df['GDP_log10'] = np.log10(df['GDP'])"
   ]
  },
  {
   "cell_type": "code",
   "execution_count": 6,
   "id": "6394a6f1",
   "metadata": {
    "scrolled": false
   },
   "outputs": [
    {
     "data": {
      "text/html": [
       "<div>\n",
       "<style scoped>\n",
       "    .dataframe tbody tr th:only-of-type {\n",
       "        vertical-align: middle;\n",
       "    }\n",
       "\n",
       "    .dataframe tbody tr th {\n",
       "        vertical-align: top;\n",
       "    }\n",
       "\n",
       "    .dataframe thead th {\n",
       "        text-align: right;\n",
       "    }\n",
       "</style>\n",
       "<table border=\"1\" class=\"dataframe\">\n",
       "  <thead>\n",
       "    <tr style=\"text-align: right;\">\n",
       "      <th></th>\n",
       "      <th>date</th>\n",
       "      <th>currency_code</th>\n",
       "      <th>Country</th>\n",
       "      <th>local_price</th>\n",
       "      <th>dollar_ex</th>\n",
       "      <th>dollar_price</th>\n",
       "      <th>Year</th>\n",
       "      <th>Code</th>\n",
       "      <th>gdp_growth</th>\n",
       "      <th>GDP_Per_Capita</th>\n",
       "      <th>GDP</th>\n",
       "      <th>country_code</th>\n",
       "      <th>region</th>\n",
       "      <th>sub_region</th>\n",
       "      <th>GDP_log10</th>\n",
       "    </tr>\n",
       "  </thead>\n",
       "  <tbody>\n",
       "    <tr>\n",
       "      <th>0</th>\n",
       "      <td>4/1/2000</td>\n",
       "      <td>ARS</td>\n",
       "      <td>Argentina</td>\n",
       "      <td>2.50</td>\n",
       "      <td>1</td>\n",
       "      <td>2.50</td>\n",
       "      <td>2000</td>\n",
       "      <td>ARG</td>\n",
       "      <td>-10.894485</td>\n",
       "      <td>6854.294081</td>\n",
       "      <td>2.582820e+11</td>\n",
       "      <td>32</td>\n",
       "      <td>Americas</td>\n",
       "      <td>Latin America and the Caribbean</td>\n",
       "      <td>11.412094</td>\n",
       "    </tr>\n",
       "    <tr>\n",
       "      <th>1</th>\n",
       "      <td>4/1/2000</td>\n",
       "      <td>AUD</td>\n",
       "      <td>Australia</td>\n",
       "      <td>2.59</td>\n",
       "      <td>1</td>\n",
       "      <td>2.59</td>\n",
       "      <td>2000</td>\n",
       "      <td>AUS</td>\n",
       "      <td>4.001431</td>\n",
       "      <td>45806.687450</td>\n",
       "      <td>9.001660e+11</td>\n",
       "      <td>36</td>\n",
       "      <td>Oceania</td>\n",
       "      <td>Australia and New Zealand</td>\n",
       "      <td>11.954323</td>\n",
       "    </tr>\n",
       "    <tr>\n",
       "      <th>2</th>\n",
       "      <td>4/1/2000</td>\n",
       "      <td>BRL</td>\n",
       "      <td>Brazil</td>\n",
       "      <td>2.95</td>\n",
       "      <td>1</td>\n",
       "      <td>2.95</td>\n",
       "      <td>2000</td>\n",
       "      <td>BRA</td>\n",
       "      <td>3.053462</td>\n",
       "      <td>8954.837245</td>\n",
       "      <td>1.607730e+12</td>\n",
       "      <td>76</td>\n",
       "      <td>Americas</td>\n",
       "      <td>Latin America and the Caribbean</td>\n",
       "      <td>12.206213</td>\n",
       "    </tr>\n",
       "    <tr>\n",
       "      <th>3</th>\n",
       "      <td>4/1/2000</td>\n",
       "      <td>CAD</td>\n",
       "      <td>Canada</td>\n",
       "      <td>2.85</td>\n",
       "      <td>1</td>\n",
       "      <td>2.85</td>\n",
       "      <td>2000</td>\n",
       "      <td>CAN</td>\n",
       "      <td>3.016889</td>\n",
       "      <td>44863.216020</td>\n",
       "      <td>1.406910e+12</td>\n",
       "      <td>124</td>\n",
       "      <td>Americas</td>\n",
       "      <td>Northern America</td>\n",
       "      <td>12.148266</td>\n",
       "    </tr>\n",
       "    <tr>\n",
       "      <th>4</th>\n",
       "      <td>4/1/2000</td>\n",
       "      <td>CLP</td>\n",
       "      <td>Chile</td>\n",
       "      <td>1260.00</td>\n",
       "      <td>514</td>\n",
       "      <td>2.45</td>\n",
       "      <td>2000</td>\n",
       "      <td>CHL</td>\n",
       "      <td>3.106971</td>\n",
       "      <td>9814.656135</td>\n",
       "      <td>1.539370e+11</td>\n",
       "      <td>152</td>\n",
       "      <td>Americas</td>\n",
       "      <td>Latin America and the Caribbean</td>\n",
       "      <td>11.187343</td>\n",
       "    </tr>\n",
       "  </tbody>\n",
       "</table>\n",
       "</div>"
      ],
      "text/plain": [
       "       date currency_code    Country  local_price  dollar_ex  dollar_price  \\\n",
       "0  4/1/2000           ARS  Argentina         2.50          1          2.50   \n",
       "1  4/1/2000           AUD  Australia         2.59          1          2.59   \n",
       "2  4/1/2000           BRL     Brazil         2.95          1          2.95   \n",
       "3  4/1/2000           CAD     Canada         2.85          1          2.85   \n",
       "4  4/1/2000           CLP      Chile      1260.00        514          2.45   \n",
       "\n",
       "   Year Code  gdp_growth  GDP_Per_Capita           GDP  country_code  \\\n",
       "0  2000  ARG  -10.894485     6854.294081  2.582820e+11            32   \n",
       "1  2000  AUS    4.001431    45806.687450  9.001660e+11            36   \n",
       "2  2000  BRA    3.053462     8954.837245  1.607730e+12            76   \n",
       "3  2000  CAN    3.016889    44863.216020  1.406910e+12           124   \n",
       "4  2000  CHL    3.106971     9814.656135  1.539370e+11           152   \n",
       "\n",
       "     region                       sub_region  GDP_log10  \n",
       "0  Americas  Latin America and the Caribbean  11.412094  \n",
       "1   Oceania        Australia and New Zealand  11.954323  \n",
       "2  Americas  Latin America and the Caribbean  12.206213  \n",
       "3  Americas                 Northern America  12.148266  \n",
       "4  Americas  Latin America and the Caribbean  11.187343  "
      ]
     },
     "execution_count": 6,
     "metadata": {},
     "output_type": "execute_result"
    }
   ],
   "source": [
    "# Checking if the log10(GDP) column was added\n",
    "df.head()"
   ]
  },
  {
   "cell_type": "code",
   "execution_count": 7,
   "id": "91d1dd3e",
   "metadata": {
    "scrolled": true
   },
   "outputs": [
    {
     "data": {
      "text/html": [
       "<div>\n",
       "<style scoped>\n",
       "    .dataframe tbody tr th:only-of-type {\n",
       "        vertical-align: middle;\n",
       "    }\n",
       "\n",
       "    .dataframe tbody tr th {\n",
       "        vertical-align: top;\n",
       "    }\n",
       "\n",
       "    .dataframe thead th {\n",
       "        text-align: right;\n",
       "    }\n",
       "</style>\n",
       "<table border=\"1\" class=\"dataframe\">\n",
       "  <thead>\n",
       "    <tr style=\"text-align: right;\">\n",
       "      <th></th>\n",
       "      <th>local_price</th>\n",
       "      <th>dollar_ex</th>\n",
       "      <th>dollar_price</th>\n",
       "      <th>Year</th>\n",
       "      <th>gdp_growth</th>\n",
       "      <th>GDP_Per_Capita</th>\n",
       "      <th>GDP</th>\n",
       "      <th>country_code</th>\n",
       "      <th>GDP_log10</th>\n",
       "    </tr>\n",
       "  </thead>\n",
       "  <tbody>\n",
       "    <tr>\n",
       "      <th>count</th>\n",
       "      <td>9.200000e+02</td>\n",
       "      <td>9.200000e+02</td>\n",
       "      <td>920.000000</td>\n",
       "      <td>920.000000</td>\n",
       "      <td>920.000000</td>\n",
       "      <td>920.000000</td>\n",
       "      <td>9.200000e+02</td>\n",
       "      <td>920.000000</td>\n",
       "      <td>920.000000</td>\n",
       "    </tr>\n",
       "    <tr>\n",
       "      <th>mean</th>\n",
       "      <td>1.393870e+04</td>\n",
       "      <td>5.331433e+03</td>\n",
       "      <td>3.567609</td>\n",
       "      <td>2010.279348</td>\n",
       "      <td>3.070198</td>\n",
       "      <td>26113.144578</td>\n",
       "      <td>1.342890e+12</td>\n",
       "      <td>438.443478</td>\n",
       "      <td>11.678427</td>\n",
       "    </tr>\n",
       "    <tr>\n",
       "      <th>std</th>\n",
       "      <td>2.225534e+05</td>\n",
       "      <td>8.499408e+04</td>\n",
       "      <td>1.517102</td>\n",
       "      <td>4.525734</td>\n",
       "      <td>3.220871</td>\n",
       "      <td>22923.009189</td>\n",
       "      <td>2.847062e+12</td>\n",
       "      <td>258.334203</td>\n",
       "      <td>0.576048</td>\n",
       "    </tr>\n",
       "    <tr>\n",
       "      <th>min</th>\n",
       "      <td>2.040000e+00</td>\n",
       "      <td>1.000000e+00</td>\n",
       "      <td>0.800000</td>\n",
       "      <td>2000.000000</td>\n",
       "      <td>-14.758545</td>\n",
       "      <td>970.941956</td>\n",
       "      <td>2.229865e+10</td>\n",
       "      <td>32.000000</td>\n",
       "      <td>10.348279</td>\n",
       "    </tr>\n",
       "    <tr>\n",
       "      <th>25%</th>\n",
       "      <td>4.675000e+00</td>\n",
       "      <td>1.000000e+00</td>\n",
       "      <td>2.497500</td>\n",
       "      <td>2007.000000</td>\n",
       "      <td>1.601224</td>\n",
       "      <td>7495.754301</td>\n",
       "      <td>2.108125e+11</td>\n",
       "      <td>188.000000</td>\n",
       "      <td>11.323895</td>\n",
       "    </tr>\n",
       "    <tr>\n",
       "      <th>50%</th>\n",
       "      <td>1.395000e+01</td>\n",
       "      <td>5.000000e+00</td>\n",
       "      <td>3.330000</td>\n",
       "      <td>2012.000000</td>\n",
       "      <td>2.850864</td>\n",
       "      <td>14771.257650</td>\n",
       "      <td>3.945130e+11</td>\n",
       "      <td>416.000000</td>\n",
       "      <td>11.596061</td>\n",
       "    </tr>\n",
       "    <tr>\n",
       "      <th>75%</th>\n",
       "      <td>8.550000e+01</td>\n",
       "      <td>3.825000e+01</td>\n",
       "      <td>4.290000</td>\n",
       "      <td>2014.000000</td>\n",
       "      <td>4.789940</td>\n",
       "      <td>46498.842670</td>\n",
       "      <td>1.041005e+12</td>\n",
       "      <td>682.000000</td>\n",
       "      <td>12.017447</td>\n",
       "    </tr>\n",
       "    <tr>\n",
       "      <th>max</th>\n",
       "      <td>4.000000e+06</td>\n",
       "      <td>1.600500e+06</td>\n",
       "      <td>11.250000</td>\n",
       "      <td>2016.000000</td>\n",
       "      <td>25.162533</td>\n",
       "      <td>92121.421130</td>\n",
       "      <td>1.784430e+13</td>\n",
       "      <td>858.000000</td>\n",
       "      <td>13.251500</td>\n",
       "    </tr>\n",
       "  </tbody>\n",
       "</table>\n",
       "</div>"
      ],
      "text/plain": [
       "        local_price     dollar_ex  dollar_price         Year  gdp_growth  \\\n",
       "count  9.200000e+02  9.200000e+02    920.000000   920.000000  920.000000   \n",
       "mean   1.393870e+04  5.331433e+03      3.567609  2010.279348    3.070198   \n",
       "std    2.225534e+05  8.499408e+04      1.517102     4.525734    3.220871   \n",
       "min    2.040000e+00  1.000000e+00      0.800000  2000.000000  -14.758545   \n",
       "25%    4.675000e+00  1.000000e+00      2.497500  2007.000000    1.601224   \n",
       "50%    1.395000e+01  5.000000e+00      3.330000  2012.000000    2.850864   \n",
       "75%    8.550000e+01  3.825000e+01      4.290000  2014.000000    4.789940   \n",
       "max    4.000000e+06  1.600500e+06     11.250000  2016.000000   25.162533   \n",
       "\n",
       "       GDP_Per_Capita           GDP  country_code   GDP_log10  \n",
       "count      920.000000  9.200000e+02    920.000000  920.000000  \n",
       "mean     26113.144578  1.342890e+12    438.443478   11.678427  \n",
       "std      22923.009189  2.847062e+12    258.334203    0.576048  \n",
       "min        970.941956  2.229865e+10     32.000000   10.348279  \n",
       "25%       7495.754301  2.108125e+11    188.000000   11.323895  \n",
       "50%      14771.257650  3.945130e+11    416.000000   11.596061  \n",
       "75%      46498.842670  1.041005e+12    682.000000   12.017447  \n",
       "max      92121.421130  1.784430e+13    858.000000   13.251500  "
      ]
     },
     "execution_count": 7,
     "metadata": {},
     "output_type": "execute_result"
    }
   ],
   "source": [
    "# Checking how the data in the dataframe looks like\n",
    "df.describe()"
   ]
  },
  {
   "cell_type": "markdown",
   "id": "532cfd0e",
   "metadata": {},
   "source": [
    "# Using Linear Regression Model using raw GDP"
   ]
  },
  {
   "cell_type": "code",
   "execution_count": 8,
   "id": "c4a54506",
   "metadata": {},
   "outputs": [
    {
     "data": {
      "image/png": "[encoded data removed]",
      "text/plain": [
       "<Figure size 432x288 with 1 Axes>"
      ]
     },
     "metadata": {
      "needs_background": "light"
     },
     "output_type": "display_data"
    }
   ],
   "source": [
    "# Ploting the data as a scatter plot using GDP\n",
    "plt.scatter(df.GDP, df.dollar_price)\n",
    "plt.xlabel('Raw GDP')\n",
    "plt.ylabel('BigMac Price ($)')\n",
    "plt.title('GDP vs BigMac Price (Worldwide)')\n",
    "plt.show()"
   ]
  },
  {
   "cell_type": "code",
   "execution_count": 9,
   "id": "ca5f53aa",
   "metadata": {},
   "outputs": [
    {
     "name": "stdout",
     "output_type": "stream",
     "text": [
      "[[2.58282000e+11]\n",
      " [9.00166000e+11]\n",
      " [1.60773000e+12]\n",
      " [1.40691000e+12]\n",
      " [1.53937000e+11]\n",
      " [2.63911000e+12]\n",
      " [1.58841000e+11]\n",
      " [3.02078000e+11]\n",
      " [1.16319000e+11]\n",
      " [4.91078000e+11]\n",
      " [1.74245000e+11]\n",
      " [5.37701000e+12]\n",
      " [1.72171000e+11]\n",
      " [9.11152000e+11]\n",
      " [1.22735000e+11]\n",
      " [3.37018000e+11]\n",
      " [1.40170000e+11]\n",
      " [2.84356000e+11]\n",
      " [4.11654000e+11]\n",
      " [4.94345000e+11]\n",
      " [2.39059000e+11]\n",
      " [1.43225000e+12]\n",
      " [2.81106000e+11]\n",
      " [9.27044000e+11]\n",
      " [1.62607000e+12]\n",
      " [1.47647000e+12]\n",
      " [1.60235000e+11]\n",
      " [2.90396000e+12]\n",
      " [1.64564000e+11]\n",
      " [3.03256000e+11]\n",
      " [1.20796000e+11]\n",
      " [5.14553000e+11]\n",
      " [5.45918000e+12]\n",
      " [1.82138000e+11]\n",
      " [9.24331000e+11]\n",
      " [1.28336000e+11]\n",
      " [1.40322000e+11]\n",
      " [3.49024000e+11]\n",
      " [1.46528000e+11]\n",
      " [2.92742000e+11]\n",
      " [4.21368000e+11]\n",
      " [4.94541000e+11]\n",
      " [2.56245000e+11]\n",
      " [1.52376000e+12]\n",
      " [3.06489000e+11]\n",
      " [9.64640000e+11]\n",
      " [1.71973000e+12]\n",
      " [1.56390000e+12]\n",
      " [1.71787000e+11]\n",
      " [3.19759000e+12]\n",
      " [1.72639000e+11]\n",
      " [3.11348000e+11]\n",
      " [1.26841000e+11]\n",
      " [5.40440000e+11]\n",
      " [1.83341000e+11]\n",
      " [5.57954000e+12]\n",
      " [1.94493000e+11]\n",
      " [9.60570000e+11]\n",
      " [1.33513000e+11]\n",
      " [3.98671000e+11]\n",
      " [9.95300318e+10]\n",
      " [1.49721000e+11]\n",
      " [3.66949000e+11]\n",
      " [1.60916000e+11]\n",
      " [3.06075000e+11]\n",
      " [4.39533000e+11]\n",
      " [5.08270000e+11]\n",
      " [2.72361000e+11]\n",
      " [6.03733000e+11]\n",
      " [1.59632000e+12]\n",
      " [3.33618000e+11]\n",
      " [9.95549000e+11]\n",
      " [1.77480000e+12]\n",
      " [1.61240000e+12]\n",
      " [1.81652000e+11]\n",
      " [3.56198000e+12]\n",
      " [1.83918000e+11]\n",
      " [3.18623000e+11]\n",
      " [1.32407000e+11]\n",
      " [5.71205000e+11]\n",
      " [5.67231000e+12]\n",
      " [2.04863000e+11]\n",
      " [9.82738000e+11]\n",
      " [1.37947000e+11]\n",
      " [1.05786000e+11]\n",
      " [1.56874000e+11]\n",
      " [3.79769000e+11]\n",
      " [1.72758000e+11]\n",
      " [3.22227000e+11]\n",
      " [4.51913000e+11]\n",
      " [5.24104000e+11]\n",
      " [2.83767000e+11]\n",
      " [6.58129000e+11]\n",
      " [1.61240000e+12]\n",
      " [3.60465000e+11]\n",
      " [1.02337000e+12]\n",
      " [1.84512000e+12]\n",
      " [1.56519000e+12]\n",
      " [1.93128000e+11]\n",
      " [4.01504000e+12]\n",
      " [2.45555000e+11]\n",
      " [3.16776378e+10]\n",
      " [1.96523000e+11]\n",
      " [3.31091000e+11]\n",
      " [1.37507000e+11]\n",
      " [6.02627000e+11]\n",
      " [5.75285000e+12]\n",
      " [2.16305000e+11]\n",
      " [1.02691000e+12]\n",
      " [1.41871000e+11]\n",
      " [4.18934000e+11]\n",
      " [1.59256000e+11]\n",
      " [1.13750000e+11]\n",
      " [1.65099000e+11]\n",
      " [4.03237000e+11]\n",
      " [4.74473000e+11]\n",
      " [1.88315000e+11]\n",
      " [3.40284000e+11]\n",
      " [4.48258997e+10]\n",
      " [4.73151000e+11]\n",
      " [5.45009000e+11]\n",
      " [2.97865000e+11]\n",
      " [7.04920000e+11]\n",
      " [1.39608000e+11]\n",
      " [1.56519000e+12]\n",
      " [3.13934714e+10]\n",
      " [3.92935000e+11]\n",
      " [1.06271000e+12]\n",
      " [1.95711000e+12]\n",
      " [1.61354000e+12]\n",
      " [2.02601000e+11]\n",
      " [4.58644000e+12]\n",
      " [2.62372000e+11]\n",
      " [3.42650344e+10]\n",
      " [2.07534000e+11]\n",
      " [3.34101000e+11]\n",
      " [1.38087000e+11]\n",
      " [6.40863000e+11]\n",
      " [5.84802000e+12]\n",
      " [2.29929000e+11]\n",
      " [1.05044000e+12]\n",
      " [1.46145000e+11]\n",
      " [4.31440000e+11]\n",
      " [1.66953000e+11]\n",
      " [1.23440000e+11]\n",
      " [1.76023000e+11]\n",
      " [4.31603000e+11]\n",
      " [4.83237000e+11]\n",
      " [2.05305000e+11]\n",
      " [3.58525000e+11]\n",
      " [4.78726382e+10]\n",
      " [4.89276000e+11]\n",
      " [5.67419000e+11]\n",
      " [3.14054000e+11]\n",
      " [7.40380000e+11]\n",
      " [1.50209000e+11]\n",
      " [1.66432000e+12]\n",
      " [3.34470787e+10]\n",
      " [4.08877000e+11]\n",
      " [1.10159000e+12]\n",
      " [2.05681000e+12]\n",
      " [1.69365000e+12]\n",
      " [2.09752000e+11]\n",
      " [5.02923000e+12]\n",
      " [2.13100000e+11]\n",
      " [3.32390000e+11]\n",
      " [1.39263000e+11]\n",
      " [6.79403000e+11]\n",
      " [5.78407000e+12]\n",
      " [2.41039000e+11]\n",
      " [1.06246000e+12]\n",
      " [1.44671000e+11]\n",
      " [1.34706000e+11]\n",
      " [1.83332000e+11]\n",
      " [4.49945000e+11]\n",
      " [2.09141000e+11]\n",
      " [3.69966000e+11]\n",
      " [4.86551000e+11]\n",
      " [5.79645000e+11]\n",
      " [3.19474000e+11]\n",
      " [7.46638000e+11]\n",
      " [1.69365000e+12]\n",
      " [4.08877000e+11]\n",
      " [1.10159000e+12]\n",
      " [2.05681000e+12]\n",
      " [1.73311000e+12]\n",
      " [2.09752000e+11]\n",
      " [5.02923000e+12]\n",
      " [2.70918000e+11]\n",
      " [3.58582208e+10]\n",
      " [2.13100000e+11]\n",
      " [3.32390000e+11]\n",
      " [1.39263000e+11]\n",
      " [6.79403000e+11]\n",
      " [5.78407000e+12]\n",
      " [2.41039000e+11]\n",
      " [1.06246000e+12]\n",
      " [1.44671000e+11]\n",
      " [4.33514000e+11]\n",
      " [1.69794000e+11]\n",
      " [1.34706000e+11]\n",
      " [1.83332000e+11]\n",
      " [4.49945000e+11]\n",
      " [5.13438000e+11]\n",
      " [2.09141000e+11]\n",
      " [3.69966000e+11]\n",
      " [5.07211024e+10]\n",
      " [4.86551000e+11]\n",
      " [5.79645000e+11]\n",
      " [3.19474000e+11]\n",
      " [7.46638000e+11]\n",
      " [1.53670000e+11]\n",
      " [1.78283000e+12]\n",
      " [3.58472894e+10]\n",
      " [3.84677000e+11]\n",
      " [1.12292000e+12]\n",
      " [2.05422000e+12]\n",
      " [1.78283000e+12]\n",
      " [2.06471000e+11]\n",
      " [5.50197000e+12]\n",
      " [2.74183000e+11]\n",
      " [3.55101995e+10]\n",
      " [2.02866000e+11]\n",
      " [3.16081000e+11]\n",
      " [1.30070000e+11]\n",
      " [7.10852000e+11]\n",
      " [5.47078000e+12]\n",
      " [2.37391000e+11]\n",
      " [1.00630000e+12]\n",
      " [1.44362000e+11]\n",
      " [4.26183000e+11]\n",
      " [1.74602000e+11]\n",
      " [1.36182000e+11]\n",
      " [1.85438000e+11]\n",
      " [4.62635000e+11]\n",
      " [5.02865000e+11]\n",
      " [2.09394000e+11]\n",
      " [3.64275000e+11]\n",
      " [5.25160776e+10]\n",
      " [4.61270000e+11]\n",
      " [5.66765000e+11]\n",
      " [3.17267000e+11]\n",
      " [7.11513000e+11]\n",
      " [1.30990000e+11]\n",
      " [1.79513000e+12]\n",
      " [3.73684671e+10]\n",
      " [3.84677000e+11]\n",
      " [1.12292000e+12]\n",
      " [2.05422000e+12]\n",
      " [1.79513000e+12]\n",
      " [2.06471000e+11]\n",
      " [5.50197000e+12]\n",
      " [2.74183000e+11]\n",
      " [3.55101995e+10]\n",
      " [2.02866000e+11]\n",
      " [3.16081000e+11]\n",
      " [1.30070000e+11]\n",
      " [7.10852000e+11]\n",
      " [5.47078000e+12]\n",
      " [2.37391000e+11]\n",
      " [1.00630000e+12]\n",
      " [1.44362000e+11]\n",
      " [4.26183000e+11]\n",
      " [1.74602000e+11]\n",
      " [1.36182000e+11]\n",
      " [1.85438000e+11]\n",
      " [4.62635000e+11]\n",
      " [5.02865000e+11]\n",
      " [2.09394000e+11]\n",
      " [3.64275000e+11]\n",
      " [5.25160776e+10]\n",
      " [4.61270000e+11]\n",
      " [5.66765000e+11]\n",
      " [3.17267000e+11]\n",
      " [7.11513000e+11]\n",
      " [1.30990000e+11]\n",
      " [1.81500000e+12]\n",
      " [3.73684671e+10]\n",
      " [4.23627000e+11]\n",
      " [1.14614000e+12]\n",
      " [2.20887000e+12]\n",
      " [1.81500000e+12]\n",
      " [2.18538000e+11]\n",
      " [6.08716000e+12]\n",
      " [2.86104000e+11]\n",
      " [3.72686162e+10]\n",
      " [2.07478000e+11]\n",
      " [3.21995000e+11]\n",
      " [1.30923000e+11]\n",
      " [7.55094000e+11]\n",
      " [5.70010000e+12]\n",
      " [2.55017000e+11]\n",
      " [1.05780000e+12]\n",
      " [1.46584000e+11]\n",
      " [4.29131000e+11]\n",
      " [1.77407000e+11]\n",
      " [1.47529000e+11]\n",
      " [1.99591000e+11]\n",
      " [4.79321000e+11]\n",
      " [5.28207000e+11]\n",
      " [2.39809000e+11]\n",
      " [3.75348000e+11]\n",
      " [5.67257492e+10]\n",
      " [4.88909000e+11]\n",
      " [5.83783000e+11]\n",
      " [3.41105000e+11]\n",
      " [7.71902000e+11]\n",
      " [1.36013000e+11]\n",
      " [1.86906000e+12]\n",
      " [4.02844817e+10]\n",
      " [4.49062000e+11]\n",
      " [1.17436000e+12]\n",
      " [2.29666000e+12]\n",
      " [1.86906000e+12]\n",
      " [2.31892000e+11]\n",
      " [6.66854000e+12]\n",
      " [3.07168000e+11]\n",
      " [3.88738134e+10]\n",
      " [2.11166000e+11]\n",
      " [3.26300000e+11]\n",
      " [1.33093000e+11]\n",
      " [8.01682000e+11]\n",
      " [2.45345000e+11]\n",
      " [5.69352000e+12]\n",
      " [2.68517000e+11]\n",
      " [1.09655000e+12]\n",
      " [1.50005000e+11]\n",
      " [4.33302000e+11]\n",
      " [1.82283000e+11]\n",
      " [1.56863000e+11]\n",
      " [2.06895000e+11]\n",
      " [5.03370000e+11]\n",
      " [5.81011000e+11]\n",
      " [2.54827000e+11]\n",
      " [3.87675000e+11]\n",
      " [6.14933970e+10]\n",
      " [5.02008000e+11]\n",
      " [5.93665000e+11]\n",
      " [3.43970000e+11]\n",
      " [8.57687000e+11]\n",
      " [1.43447000e+11]\n",
      " [1.90417000e+12]\n",
      " [4.23640202e+10]\n",
      " [4.44453000e+11]\n",
      " [1.22018000e+12]\n",
      " [2.34078000e+12]\n",
      " [1.90417000e+12]\n",
      " [2.44226000e+11]\n",
      " [7.19267000e+12]\n",
      " [3.19157000e+11]\n",
      " [4.07385591e+10]\n",
      " [2.09477000e+11]\n",
      " [3.27039000e+11]\n",
      " [1.30922000e+11]\n",
      " [8.50024000e+11]\n",
      " [2.50537000e+11]\n",
      " [5.77864000e+12]\n",
      " [2.83214000e+11]\n",
      " [1.13649000e+12]\n",
      " [1.53344000e+11]\n",
      " [4.45095000e+11]\n",
      " [1.88675000e+11]\n",
      " [1.66494000e+11]\n",
      " [2.20724000e+11]\n",
      " [5.11464000e+11]\n",
      " [6.12452000e+11]\n",
      " [2.66165000e+11]\n",
      " [3.96256000e+11]\n",
      " [6.71167051e+10]\n",
      " [5.00510000e+11]\n",
      " [5.99638000e+11]\n",
      " [3.68883000e+11]\n",
      " [8.98770000e+11]\n",
      " [1.43789000e+11]\n",
      " [1.29683000e+13]\n",
      " [4.38629349e+10]\n",
      " [4.44453000e+11]\n",
      " [1.22018000e+12]\n",
      " [2.34078000e+12]\n",
      " [1.33393000e+13]\n",
      " [2.44226000e+11]\n",
      " [7.19267000e+12]\n",
      " [3.19157000e+11]\n",
      " [4.07385591e+10]\n",
      " [2.09477000e+11]\n",
      " [3.27039000e+11]\n",
      " [1.30922000e+11]\n",
      " [8.50024000e+11]\n",
      " [2.50537000e+11]\n",
      " [5.77864000e+12]\n",
      " [2.83214000e+11]\n",
      " [1.13649000e+12]\n",
      " [1.53344000e+11]\n",
      " [4.45095000e+11]\n",
      " [1.88675000e+11]\n",
      " [1.66494000e+11]\n",
      " [2.20724000e+11]\n",
      " [5.11464000e+11]\n",
      " [6.12452000e+11]\n",
      " [2.66165000e+11]\n",
      " [3.96256000e+11]\n",
      " [6.71167051e+10]\n",
      " [5.00510000e+11]\n",
      " [5.99638000e+11]\n",
      " [3.68883000e+11]\n",
      " [8.98770000e+11]\n",
      " [1.43789000e+11]\n",
      " [1.38461000e+13]\n",
      " [4.38629349e+10]\n",
      " [4.55143000e+11]\n",
      " [1.25209000e+12]\n",
      " [4.06195000e+11]\n",
      " [4.94389000e+11]\n",
      " [2.41112000e+12]\n",
      " [1.43325000e+13]\n",
      " [2.54105000e+11]\n",
      " [7.75144000e+12]\n",
      " [3.33733000e+11]\n",
      " [4.16629281e+10]\n",
      " [2.08464000e+11]\n",
      " [3.30091000e+11]\n",
      " [2.22986471e+10]\n",
      " [2.48646000e+11]\n",
      " [2.72462000e+12]\n",
      " [3.57701000e+12]\n",
      " [2.43990000e+11]\n",
      " [1.33663000e+11]\n",
      " [1.97842000e+12]\n",
      " [8.97262000e+11]\n",
      " [2.26435000e+11]\n",
      " [2.60921000e+11]\n",
      " [2.04117000e+12]\n",
      " [5.89423000e+12]\n",
      " [2.96507000e+11]\n",
      " [1.15188000e+12]\n",
      " [8.49721000e+11]\n",
      " [1.57294000e+11]\n",
      " [4.49743000e+11]\n",
      " [1.96970000e+11]\n",
      " [1.76238000e+11]\n",
      " [2.36316000e+11]\n",
      " [5.18583000e+11]\n",
      " [2.21988000e+11]\n",
      " [6.28984000e+11]\n",
      " [2.78981000e+11]\n",
      " [4.06104000e+11]\n",
      " [1.35236000e+12]\n",
      " [6.93958090e+10]\n",
      " [5.06708000e+11]\n",
      " [6.10743000e+11]\n",
      " [3.78796000e+11]\n",
      " [9.75087000e+11]\n",
      " [1.43751000e+11]\n",
      " [1.47417000e+13]\n",
      " [4.58970955e+10]\n",
      " [4.43707000e+11]\n",
      " [1.28425000e+12]\n",
      " [4.08881000e+11]\n",
      " [5.00592000e+11]\n",
      " [2.42327000e+12]\n",
      " [1.50183000e+13]\n",
      " [2.58594000e+11]\n",
      " [8.31726000e+12]\n",
      " [3.49512000e+11]\n",
      " [4.31275211e+10]\n",
      " [2.14124000e+11]\n",
      " [3.35437000e+11]\n",
      " [2.29427577e+10]\n",
      " [2.47075000e+11]\n",
      " [2.75068000e+12]\n",
      " [3.65492000e+12]\n",
      " [2.45795000e+11]\n",
      " [1.39309000e+11]\n",
      " [2.12502000e+12]\n",
      " [9.42185000e+11]\n",
      " [2.45810000e+11]\n",
      " [2.71091000e+11]\n",
      " [2.04349000e+12]\n",
      " [5.91632000e+12]\n",
      " [3.14318000e+11]\n",
      " [1.18418000e+12]\n",
      " [8.61816000e+11]\n",
      " [1.63138000e+11]\n",
      " [4.58626000e+11]\n",
      " [2.06178000e+11]\n",
      " [1.80436000e+11]\n",
      " [2.50838000e+11]\n",
      " [5.35792000e+11]\n",
      " [2.23971000e+11]\n",
      " [6.51958000e+11]\n",
      " [2.89863000e+11]\n",
      " [4.13604000e+11]\n",
      " [1.37102000e+12]\n",
      " [7.28383273e+10]\n",
      " [5.19892000e+11]\n",
      " [6.25702000e+11]\n",
      " [3.82525000e+11]\n",
      " [1.02547000e+12]\n",
      " [1.34331000e+11]\n",
      " [1.49978000e+13]\n",
      " [4.73836066e+10]\n",
      " [4.43707000e+11]\n",
      " [1.28425000e+12]\n",
      " [4.08881000e+11]\n",
      " [5.00592000e+11]\n",
      " [2.42327000e+12]\n",
      " [1.49978000e+13]\n",
      " [2.58594000e+11]\n",
      " [8.31726000e+12]\n",
      " [3.49512000e+11]\n",
      " [2.14124000e+11]\n",
      " [3.35437000e+11]\n",
      " [2.29427577e+10]\n",
      " [2.47075000e+11]\n",
      " [2.75068000e+12]\n",
      " [3.65492000e+12]\n",
      " [2.45795000e+11]\n",
      " [1.39309000e+11]\n",
      " [2.12502000e+12]\n",
      " [9.42185000e+11]\n",
      " [2.45810000e+11]\n",
      " [2.71091000e+11]\n",
      " [2.04349000e+12]\n",
      " [5.91632000e+12]\n",
      " [3.14318000e+11]\n",
      " [1.18418000e+12]\n",
      " [8.61816000e+11]\n",
      " [1.63138000e+11]\n",
      " [4.58626000e+11]\n",
      " [2.06178000e+11]\n",
      " [2.50838000e+11]\n",
      " [5.35792000e+11]\n",
      " [2.23971000e+11]\n",
      " [6.51958000e+11]\n",
      " [2.89863000e+11]\n",
      " [4.13604000e+11]\n",
      " [1.37102000e+12]\n",
      " [7.28383273e+10]\n",
      " [5.19892000e+11]\n",
      " [6.25702000e+11]\n",
      " [3.82525000e+11]\n",
      " [1.02547000e+12]\n",
      " [1.34331000e+11]\n",
      " [1.46173000e+13]\n",
      " [4.73836066e+10]\n",
      " [4.55825000e+11]\n",
      " [1.31426000e+12]\n",
      " [4.13555000e+11]\n",
      " [5.09301000e+11]\n",
      " [2.33735000e+12]\n",
      " [1.46173000e+13]\n",
      " [2.64551000e+11]\n",
      " [8.89159000e+12]\n",
      " [3.59844000e+11]\n",
      " [4.46937969e+10]\n",
      " [2.25493000e+11]\n",
      " [3.43294000e+11]\n",
      " [2.33787359e+10]\n",
      " [2.48312000e+11]\n",
      " [2.78129000e+12]\n",
      " [3.71848000e+12]\n",
      " [2.44719000e+11]\n",
      " [1.44236000e+11]\n",
      " [2.29495000e+12]\n",
      " [9.88129000e+11]\n",
      " [3.07662000e+11]\n",
      " [2.78051000e+11]\n",
      " [2.06237000e+12]\n",
      " [5.98867000e+12]\n",
      " [3.30321000e+11]\n",
      " [1.22312000e+12]\n",
      " [8.78701000e+11]\n",
      " [1.68986000e+11]\n",
      " [4.67661000e+11]\n",
      " [2.15933000e+11]\n",
      " [1.86311000e+11]\n",
      " [2.66055000e+11]\n",
      " [5.56361000e+11]\n",
      " [2.28052000e+11]\n",
      " [6.78730000e+11]\n",
      " [2.98247000e+11]\n",
      " [4.18542000e+11]\n",
      " [1.42099000e+12]\n",
      " [7.64858400e+10]\n",
      " [5.43061000e+11]\n",
      " [6.34045000e+11]\n",
      " [3.94513000e+11]\n",
      " [1.08788000e+12]\n",
      " [1.21203000e+11]\n",
      " [1.49921000e+13]\n",
      " [4.75592772e+10]\n",
      " [4.55825000e+11]\n",
      " [1.31426000e+12]\n",
      " [4.13555000e+11]\n",
      " [5.09301000e+11]\n",
      " [2.33735000e+12]\n",
      " [1.52246000e+13]\n",
      " [2.64551000e+11]\n",
      " [8.89159000e+12]\n",
      " [3.59844000e+11]\n",
      " [4.46937969e+10]\n",
      " [2.25493000e+11]\n",
      " [3.43294000e+11]\n",
      " [2.33787359e+10]\n",
      " [2.48312000e+11]\n",
      " [2.78129000e+12]\n",
      " [3.71848000e+12]\n",
      " [2.44719000e+11]\n",
      " [1.44236000e+11]\n",
      " [2.29495000e+12]\n",
      " [9.88129000e+11]\n",
      " [3.07662000e+11]\n",
      " [2.78051000e+11]\n",
      " [2.06237000e+12]\n",
      " [5.98867000e+12]\n",
      " [3.30321000e+11]\n",
      " [1.22312000e+12]\n",
      " [8.78701000e+11]\n",
      " [1.68986000e+11]\n",
      " [4.67661000e+11]\n",
      " [2.15933000e+11]\n",
      " [1.86311000e+11]\n",
      " [2.66055000e+11]\n",
      " [5.56361000e+11]\n",
      " [2.28052000e+11]\n",
      " [6.78730000e+11]\n",
      " [2.98247000e+11]\n",
      " [4.18542000e+11]\n",
      " [1.42099000e+12]\n",
      " [7.64858400e+10]\n",
      " [5.43061000e+11]\n",
      " [6.34045000e+11]\n",
      " [3.94513000e+11]\n",
      " [1.08788000e+12]\n",
      " [1.21203000e+11]\n",
      " [1.55670000e+13]\n",
      " [4.75592772e+10]\n",
      " [4.46343000e+11]\n",
      " [1.35167000e+12]\n",
      " [4.21989000e+11]\n",
      " [5.16699000e+11]\n",
      " [2.26009000e+12]\n",
      " [1.55670000e+13]\n",
      " [2.68971000e+11]\n",
      " [9.49059000e+12]\n",
      " [3.67355000e+11]\n",
      " [4.65914909e+10]\n",
      " [2.31018000e+11]\n",
      " [3.51532000e+11]\n",
      " [2.41944427e+10]\n",
      " [2.55195000e+11]\n",
      " [2.81176000e+12]\n",
      " [3.80186000e+12]\n",
      " [2.44251000e+11]\n",
      " [1.47526000e+11]\n",
      " [2.48243000e+12]\n",
      " [1.03786000e+12]\n",
      " [3.18977000e+11]\n",
      " [2.89195000e+11]\n",
      " [2.08544000e+12]\n",
      " [6.02515000e+12]\n",
      " [4.57328689e+10]\n",
      " [3.44272000e+11]\n",
      " [1.25885000e+12]\n",
      " [8.97959000e+11]\n",
      " [1.75147000e+11]\n",
      " [4.73214000e+11]\n",
      " [2.27867000e+11]\n",
      " [1.93681000e+11]\n",
      " [2.84371000e+11]\n",
      " [5.73400000e+11]\n",
      " [2.32444000e+11]\n",
      " [6.90069000e+11]\n",
      " [3.07082000e+11]\n",
      " [4.20570000e+11]\n",
      " [1.46607000e+12]\n",
      " [7.99174802e+10]\n",
      " [5.57637000e+11]\n",
      " [6.44197000e+11]\n",
      " [4.07755000e+11]\n",
      " [1.12251000e+12]\n",
      " [1.24162000e+11]\n",
      " [1.58538000e+13]\n",
      " [4.83629330e+10]\n",
      " [4.46343000e+11]\n",
      " [1.35167000e+12]\n",
      " [4.21989000e+11]\n",
      " [5.16699000e+11]\n",
      " [2.26009000e+12]\n",
      " [1.62425000e+13]\n",
      " [2.68971000e+11]\n",
      " [9.49059000e+12]\n",
      " [3.67355000e+11]\n",
      " [4.65914909e+10]\n",
      " [2.31018000e+11]\n",
      " [3.51532000e+11]\n",
      " [2.41944427e+10]\n",
      " [2.55195000e+11]\n",
      " [2.81176000e+12]\n",
      " [3.80186000e+12]\n",
      " [2.44251000e+11]\n",
      " [1.47526000e+11]\n",
      " [2.48243000e+12]\n",
      " [1.03786000e+12]\n",
      " [3.18977000e+11]\n",
      " [2.89195000e+11]\n",
      " [2.08544000e+12]\n",
      " [6.02515000e+12]\n",
      " [4.57328689e+10]\n",
      " [3.44272000e+11]\n",
      " [1.25885000e+12]\n",
      " [8.97959000e+11]\n",
      " [1.75147000e+11]\n",
      " [4.73214000e+11]\n",
      " [2.27867000e+11]\n",
      " [1.93681000e+11]\n",
      " [2.84371000e+11]\n",
      " [5.73400000e+11]\n",
      " [2.32444000e+11]\n",
      " [6.90069000e+11]\n",
      " [3.07082000e+11]\n",
      " [4.20570000e+11]\n",
      " [1.46607000e+12]\n",
      " [7.99174802e+10]\n",
      " [5.57637000e+11]\n",
      " [6.44197000e+11]\n",
      " [4.07755000e+11]\n",
      " [1.12251000e+12]\n",
      " [1.24162000e+11]\n",
      " [1.62425000e+13]\n",
      " [4.83629330e+10]\n",
      " [1.64105000e+11]\n",
      " [4.58254000e+11]\n",
      " [1.38333000e+12]\n",
      " [4.32754000e+11]\n",
      " [5.25660000e+11]\n",
      " [2.28413000e+12]\n",
      " [1.67105000e+13]\n",
      " [2.72411000e+11]\n",
      " [1.01319000e+13]\n",
      " [3.72319000e+11]\n",
      " [4.81742886e+10]\n",
      " [2.41074000e+11]\n",
      " [3.59485000e+11]\n",
      " [2.53694910e+10]\n",
      " [2.62962000e+11]\n",
      " [2.87531000e+12]\n",
      " [3.88387000e+12]\n",
      " [2.47927000e+11]\n",
      " [1.53629000e+11]\n",
      " [2.66037000e+12]\n",
      " [1.09045000e+12]\n",
      " [3.44959000e+11]\n",
      " [2.99157000e+11]\n",
      " [2.12057000e+12]\n",
      " [6.14136000e+12]\n",
      " [3.64574000e+11]\n",
      " [1.28491000e+12]\n",
      " [9.24098000e+11]\n",
      " [1.80626000e+11]\n",
      " [4.82586000e+11]\n",
      " [2.40857000e+11]\n",
      " [1.98560000e+11]\n",
      " [3.03360000e+11]\n",
      " [6.01004000e+11]\n",
      " [2.38941000e+11]\n",
      " [6.84952000e+11]\n",
      " [3.18443000e+11]\n",
      " [4.26519000e+11]\n",
      " [1.50975000e+12]\n",
      " [8.26505135e+10]\n",
      " [5.69373000e+11]\n",
      " [6.54612000e+11]\n",
      " [4.24164000e+11]\n",
      " [1.20604000e+12]\n",
      " [1.27224000e+11]\n",
      " [1.67105000e+13]\n",
      " [4.96161803e+10]\n",
      " [1.75284000e+11]\n",
      " [4.58254000e+11]\n",
      " [1.38333000e+12]\n",
      " [4.32754000e+11]\n",
      " [5.25660000e+11]\n",
      " [2.28413000e+12]\n",
      " [1.69723000e+13]\n",
      " [2.72411000e+11]\n",
      " [1.01319000e+13]\n",
      " [3.72319000e+11]\n",
      " [4.81742886e+10]\n",
      " [2.41074000e+11]\n",
      " [3.59485000e+11]\n",
      " [2.53694910e+10]\n",
      " [2.62962000e+11]\n",
      " [2.87531000e+12]\n",
      " [3.88387000e+12]\n",
      " [2.47927000e+11]\n",
      " [1.53629000e+11]\n",
      " [2.66037000e+12]\n",
      " [1.09045000e+12]\n",
      " [3.44959000e+11]\n",
      " [2.99157000e+11]\n",
      " [2.12057000e+12]\n",
      " [6.14136000e+12]\n",
      " [3.64574000e+11]\n",
      " [1.28491000e+12]\n",
      " [9.24098000e+11]\n",
      " [1.80626000e+11]\n",
      " [4.82586000e+11]\n",
      " [2.40857000e+11]\n",
      " [1.98560000e+11]\n",
      " [3.03360000e+11]\n",
      " [6.01004000e+11]\n",
      " [2.38941000e+11]\n",
      " [6.84952000e+11]\n",
      " [3.18443000e+11]\n",
      " [4.26519000e+11]\n",
      " [1.50975000e+12]\n",
      " [8.26505135e+10]\n",
      " [5.69373000e+11]\n",
      " [6.54612000e+11]\n",
      " [4.24164000e+11]\n",
      " [1.20604000e+12]\n",
      " [1.27224000e+11]\n",
      " [1.69723000e+13]\n",
      " [4.96161803e+10]\n",
      " [1.75284000e+11]\n",
      " [4.46731000e+11]\n",
      " [1.42255000e+12]\n",
      " [4.44564000e+11]\n",
      " [5.33218000e+11]\n",
      " [2.30966000e+12]\n",
      " [1.73486000e+13]\n",
      " [2.83375000e+11]\n",
      " [1.08006000e+13]\n",
      " [3.82216000e+11]\n",
      " [4.94576756e+10]\n",
      " [2.48204000e+11]\n",
      " [3.64840000e+11]\n",
      " [2.63502130e+10]\n",
      " [2.67321000e+11]\n",
      " [2.92490000e+12]\n",
      " [3.93923000e+12]\n",
      " [2.52723000e+11]\n",
      " [1.61219000e+11]\n",
      " [2.84613000e+12]\n",
      " [1.14684000e+12]\n",
      " [3.73141000e+11]\n",
      " [3.09055000e+11]\n",
      " [2.13877000e+12]\n",
      " [6.18975000e+12]\n",
      " [3.81795000e+11]\n",
      " [1.31053000e+12]\n",
      " [9.48101000e+11]\n",
      " [1.85650000e+11]\n",
      " [4.89564000e+11]\n",
      " [2.53935000e+11]\n",
      " [2.06456000e+11]\n",
      " [3.22301000e+11]\n",
      " [6.31953000e+11]\n",
      " [2.44065000e+11]\n",
      " [7.00123000e+11]\n",
      " [3.28441000e+11]\n",
      " [4.29876000e+11]\n",
      " [1.54872000e+12]\n",
      " [8.53028768e+10]\n",
      " [5.82804000e+11]\n",
      " [6.71242000e+11]\n",
      " [4.41678000e+11]\n",
      " [1.23699000e+12]\n",
      " [1.31467000e+11]\n",
      " [1.73486000e+13]\n",
      " [5.04200040e+10]\n",
      " [1.87687000e+11]\n",
      " [4.46731000e+11]\n",
      " [1.42255000e+12]\n",
      " [4.44564000e+11]\n",
      " [5.33218000e+11]\n",
      " [2.30966000e+12]\n",
      " [1.78443000e+13]\n",
      " [2.83375000e+11]\n",
      " [1.08006000e+13]\n",
      " [3.82216000e+11]\n",
      " [4.94576756e+10]\n",
      " [2.48204000e+11]\n",
      " [3.64840000e+11]\n",
      " [2.63502130e+10]\n",
      " [2.67321000e+11]\n",
      " [2.92490000e+12]\n",
      " [3.93923000e+12]\n",
      " [2.52723000e+11]\n",
      " [1.61219000e+11]\n",
      " [2.84613000e+12]\n",
      " [1.14684000e+12]\n",
      " [3.73141000e+11]\n",
      " [3.09055000e+11]\n",
      " [2.13877000e+12]\n",
      " [6.18975000e+12]\n",
      " [3.81795000e+11]\n",
      " [1.31053000e+12]\n",
      " [9.48101000e+11]\n",
      " [1.85650000e+11]\n",
      " [4.89564000e+11]\n",
      " [2.53935000e+11]\n",
      " [2.06456000e+11]\n",
      " [3.22301000e+11]\n",
      " [6.31953000e+11]\n",
      " [2.44065000e+11]\n",
      " [7.00123000e+11]\n",
      " [3.28441000e+11]\n",
      " [4.29876000e+11]\n",
      " [1.54872000e+12]\n",
      " [8.53028768e+10]\n",
      " [5.82804000e+11]\n",
      " [6.71242000e+11]\n",
      " [4.41678000e+11]\n",
      " [1.23699000e+12]\n",
      " [1.31467000e+11]\n",
      " [1.78443000e+13]\n",
      " [5.04200040e+10]\n",
      " [1.87687000e+11]]\n"
     ]
    }
   ],
   "source": [
    "# Defining raw GDP as the independant variable (feature)\n",
    "X =df.GDP.values.reshape(-1,1)\n",
    "print(X)"
   ]
  },
  {
   "cell_type": "code",
   "execution_count": 10,
   "id": "64524d3d",
   "metadata": {},
   "outputs": [],
   "source": [
    "# Defining dollar_price of BigMac as the dependant variable(target)\n",
    "y= df.dollar_price.values.reshape(-1,1)"
   ]
  },
  {
   "cell_type": "code",
   "execution_count": 11,
   "id": "062e3ecb",
   "metadata": {},
   "outputs": [],
   "source": [
    "# scaler = StandardScaler()"
   ]
  },
  {
   "cell_type": "code",
   "execution_count": 12,
   "id": "5c4b2587",
   "metadata": {},
   "outputs": [],
   "source": [
    "from sklearn.model_selection import train_test_split\n",
    "X_train, X_test, y_train, y_test = train_test_split(X,y, test_size=0.2, random_state=2)"
   ]
  },
  {
   "cell_type": "code",
   "execution_count": 13,
   "id": "8f8dab27",
   "metadata": {},
   "outputs": [],
   "source": [
    "# Instantiate linear regression model\n",
    "model = LinearRegression()"
   ]
  },
  {
   "cell_type": "code",
   "execution_count": 14,
   "id": "084e6274",
   "metadata": {},
   "outputs": [
    {
     "data": {
      "text/plain": [
       "LinearRegression()"
      ]
     },
     "execution_count": 14,
     "metadata": {},
     "output_type": "execute_result"
    }
   ],
   "source": [
    "# training the model\n",
    "model.fit(X,y)"
   ]
  },
  {
   "cell_type": "code",
   "execution_count": 15,
   "id": "5bd1a669",
   "metadata": {},
   "outputs": [],
   "source": [
    "y_pred = model.predict(X)"
   ]
  },
  {
   "cell_type": "code",
   "execution_count": 16,
   "id": "26e54628",
   "metadata": {
    "scrolled": true
   },
   "outputs": [
    {
     "data": {
      "image/png": "[encoded data removed]",
      "text/plain": [
       "<Figure size 432x288 with 1 Axes>"
      ]
     },
     "metadata": {
      "needs_background": "light"
     },
     "output_type": "display_data"
    }
   ],
   "source": [
    "# Scatter plot including the regression curve\n",
    "plt.scatter(X, y)\n",
    "plt.plot(X, y_pred, color='red')\n",
    "plt.title('GDP vs BigMac Prices (Worldwide)')\n",
    "plt.xlabel('Raw GDP')\n",
    "plt.ylabel('BigMac Price ($)')\n",
    "plt.show()"
   ]
  },
  {
   "cell_type": "code",
   "execution_count": 17,
   "id": "0c4b6a54",
   "metadata": {
    "scrolled": true
   },
   "outputs": [
    {
     "name": "stdout",
     "output_type": "stream",
     "text": [
      "[[-2.03878217e-14]]\n",
      "[3.59498729]\n"
     ]
    }
   ],
   "source": [
    "# Printing coefficient and y-intercept\n",
    "print(model.coef_)\n",
    "print(model.intercept_)"
   ]
  },
  {
   "cell_type": "code",
   "execution_count": 18,
   "id": "d8e7fc4c",
   "metadata": {
    "scrolled": false
   },
   "outputs": [
    {
     "name": "stdout",
     "output_type": "stream",
     "text": [
      "0.001463880977386589\n"
     ]
    }
   ],
   "source": [
    "# R-square for the model\n",
    "print(model.score(X,y))"
   ]
  },
  {
   "cell_type": "markdown",
   "id": "ab8fd8ba",
   "metadata": {},
   "source": [
    "# Linear Regression using log10(GDP)"
   ]
  },
  {
   "cell_type": "code",
   "execution_count": 19,
   "id": "3d310e51",
   "metadata": {
    "scrolled": true
   },
   "outputs": [
    {
     "data": {
      "image/png": "[encoded data removed]",
      "text/plain": [
       "<Figure size 432x288 with 1 Axes>"
      ]
     },
     "metadata": {
      "needs_background": "light"
     },
     "output_type": "display_data"
    }
   ],
   "source": [
    "# Ploting the data as a scatter plot using GDP\n",
    "plt.scatter(df.GDP_log10, df.dollar_price)\n",
    "plt.xlabel('log10(GDP)')\n",
    "plt.ylabel('BigMac Price ($)')\n",
    "plt.title('log10(GDP) vs BigMac Price (Worldwide)')\n",
    "plt.show()"
   ]
  },
  {
   "cell_type": "code",
   "execution_count": 20,
   "id": "df4a7209",
   "metadata": {},
   "outputs": [],
   "source": [
    "# Defining log10(GDP) as the independant variable (feature)\n",
    "X =df.GDP_log10.values.reshape(-1,1)\n",
    "\n",
    "# Target (y) remains the same as previous\n",
    "y= df.dollar_price.values.reshape(-1,1)"
   ]
  },
  {
   "cell_type": "code",
   "execution_count": 21,
   "id": "0dbeec44",
   "metadata": {},
   "outputs": [],
   "source": [
    "X_train, X_test, y_train, y_test = train_test_split(X,y, test_size=0.2, random_state=2)"
   ]
  },
  {
   "cell_type": "code",
   "execution_count": 22,
   "id": "73595266",
   "metadata": {},
   "outputs": [],
   "source": [
    "# Instantiate linear regression model\n",
    "model = LinearRegression()\n",
    "\n",
    "# training the model\n",
    "model.fit(X,y)\n",
    "\n",
    "y_pred = model.predict(X)\n",
    "\n"
   ]
  },
  {
   "cell_type": "code",
   "execution_count": 23,
   "id": "232d31a7",
   "metadata": {
    "scrolled": true
   },
   "outputs": [
    {
     "data": {
      "image/png": "[encoded data removed]",
      "text/plain": [
       "<Figure size 432x288 with 1 Axes>"
      ]
     },
     "metadata": {
      "needs_background": "light"
     },
     "output_type": "display_data"
    }
   ],
   "source": [
    "# Scatter plot including the regression curve\n",
    "plt.scatter(X, y)\n",
    "plt.plot(X, y_pred, color='red')\n",
    "plt.title('GDP vs BigMac Prices (Worldwide)')\n",
    "plt.xlabel('Raw GDP')\n",
    "plt.ylabel('BigMac Price ($)')\n",
    "plt.show()"
   ]
  },
  {
   "cell_type": "code",
   "execution_count": 24,
   "id": "8ca40577",
   "metadata": {},
   "outputs": [
    {
     "name": "stdout",
     "output_type": "stream",
     "text": [
      "[[0.2343432]]\n",
      "[0.83084869]\n",
      "0.007917581386034933\n"
     ]
    }
   ],
   "source": [
    "# Printing coefficient and y-intercept\n",
    "print(model.coef_)\n",
    "print(model.intercept_)\n",
    "\n",
    "# R-square for the model\n",
    "print(model.score(X,y))"
   ]
  },
  {
   "cell_type": "markdown",
   "id": "1b7613fc",
   "metadata": {},
   "source": [
    "# Using 2nd order polynomial"
   ]
  },
  {
   "cell_type": "code",
   "execution_count": 25,
   "id": "94f58b53",
   "metadata": {},
   "outputs": [],
   "source": [
    "# Import dependencies\n",
    "from sklearn.preprocessing import PolynomialFeatures\n",
    "\n",
    "# Save an instance of Polynomial Feature and setting it to a second degree\n",
    "poly_model = PolynomialFeatures(degree=2, include_bias=False)\n"
   ]
  },
  {
   "cell_type": "code",
   "execution_count": 26,
   "id": "2ad482ca",
   "metadata": {
    "scrolled": true
   },
   "outputs": [
    {
     "data": {
      "text/plain": [
       "array([[ 11.41209414, 130.23589268],\n",
       "       [ 11.95432261, 142.90582895],\n",
       "       [ 12.20621312, 148.99163863],\n",
       "       ...,\n",
       "       [ 13.25149952, 175.60223942],\n",
       "       [ 10.70260288, 114.54570831],\n",
       "       [ 11.27343419, 127.09031849]])"
      ]
     },
     "execution_count": 26,
     "metadata": {},
     "output_type": "execute_result"
    }
   ],
   "source": [
    "# Converting X from 1D array to a 2D array, this would give use x and x^2 terms\n",
    "poly_X = poly_model.fit_transform(X.reshape(-1,1))\n",
    "poly_X"
   ]
  },
  {
   "cell_type": "code",
   "execution_count": 27,
   "id": "7b50acef",
   "metadata": {},
   "outputs": [],
   "source": [
    "X_train, X_test, y_train, y_test = train_test_split(poly_X,y,test_size=0.2, random_state=2)"
   ]
  },
  {
   "cell_type": "code",
   "execution_count": 28,
   "id": "65568f25",
   "metadata": {},
   "outputs": [],
   "source": [
    "# Creating Linear Regression instance \n",
    "poly_reg_model = LinearRegression()"
   ]
  },
  {
   "cell_type": "code",
   "execution_count": 29,
   "id": "e10ac799",
   "metadata": {
    "scrolled": false
   },
   "outputs": [
    {
     "data": {
      "text/plain": [
       "LinearRegression()"
      ]
     },
     "execution_count": 29,
     "metadata": {},
     "output_type": "execute_result"
    }
   ],
   "source": [
    "# training the model\n",
    "poly_reg_model.fit(X_train, y_train)"
   ]
  },
  {
   "cell_type": "code",
   "execution_count": 30,
   "id": "f1f58859",
   "metadata": {},
   "outputs": [
    {
     "data": {
      "text/plain": [
       "array([[3.61094875],\n",
       "       [3.70590942],\n",
       "       [3.41408011],\n",
       "       [3.77536883],\n",
       "       [3.62469663],\n",
       "       [3.85533739],\n",
       "       [3.72969301],\n",
       "       [3.74407848],\n",
       "       [3.38747375],\n",
       "       [3.83048013],\n",
       "       [3.78366399],\n",
       "       [3.72063163],\n",
       "       [3.76673205],\n",
       "       [3.5607276 ],\n",
       "       [3.39820553],\n",
       "       [3.74071352],\n",
       "       [3.81440307],\n",
       "       [3.77440188],\n",
       "       [3.77165389],\n",
       "       [2.63577924],\n",
       "       [3.78942184],\n",
       "       [3.61796679],\n",
       "       [3.61502418],\n",
       "       [3.4987012 ],\n",
       "       [3.73990659],\n",
       "       [3.47756665],\n",
       "       [3.78464334],\n",
       "       [3.47221203],\n",
       "       [3.57290287],\n",
       "       [3.56617537],\n",
       "       [3.45354049],\n",
       "       [3.77844499],\n",
       "       [3.71803962],\n",
       "       [3.6119324 ],\n",
       "       [3.76139042],\n",
       "       [3.51936916],\n",
       "       [3.45612097],\n",
       "       [3.80969975],\n",
       "       [3.56445586],\n",
       "       [3.78150833],\n",
       "       [3.8320808 ],\n",
       "       [3.77015188],\n",
       "       [3.85552144],\n",
       "       [3.83539583],\n",
       "       [3.42162075],\n",
       "       [2.58117422],\n",
       "       [3.77869672],\n",
       "       [3.46453532],\n",
       "       [3.60505505],\n",
       "       [3.40200353],\n",
       "       [3.61791604],\n",
       "       [3.84096549],\n",
       "       [3.35668775],\n",
       "       [3.77642837],\n",
       "       [2.71201454],\n",
       "       [3.7778384 ],\n",
       "       [3.72595544],\n",
       "       [3.84208737],\n",
       "       [3.69026615],\n",
       "       [3.45653934],\n",
       "       [3.80104506],\n",
       "       [3.63417349],\n",
       "       [3.61485053],\n",
       "       [3.70618465],\n",
       "       [3.69556236],\n",
       "       [3.20569538],\n",
       "       [3.63721152],\n",
       "       [3.58401904],\n",
       "       [3.63744523],\n",
       "       [3.73990659],\n",
       "       [3.11612828],\n",
       "       [3.8320808 ],\n",
       "       [3.67110978],\n",
       "       [3.85425707],\n",
       "       [2.86738516],\n",
       "       [3.78447736],\n",
       "       [3.69685532],\n",
       "       [3.84285395],\n",
       "       [2.72482763],\n",
       "       [3.77773321],\n",
       "       [3.79455441],\n",
       "       [3.83330928],\n",
       "       [3.68652466],\n",
       "       [3.41083785],\n",
       "       [2.78981467],\n",
       "       [3.71794797],\n",
       "       [3.62248514],\n",
       "       [3.74237661],\n",
       "       [3.39820553],\n",
       "       [2.37918379],\n",
       "       [3.84558524],\n",
       "       [3.708616  ],\n",
       "       [3.84106413],\n",
       "       [3.77791388],\n",
       "       [3.45612097],\n",
       "       [3.81230105],\n",
       "       [3.74854109],\n",
       "       [3.72378754],\n",
       "       [3.65117752],\n",
       "       [2.64913308],\n",
       "       [3.6264826 ],\n",
       "       [3.80719248],\n",
       "       [3.74559098],\n",
       "       [3.34206706],\n",
       "       [3.59816253],\n",
       "       [3.63578462],\n",
       "       [3.72669546],\n",
       "       [3.508758  ],\n",
       "       [3.84907482],\n",
       "       [3.70618465],\n",
       "       [2.95008542],\n",
       "       [3.84858641],\n",
       "       [3.37101003],\n",
       "       [3.24287278],\n",
       "       [3.58614421],\n",
       "       [3.79311499],\n",
       "       [2.8416413 ],\n",
       "       [3.73150769],\n",
       "       [3.84121035],\n",
       "       [2.69619552],\n",
       "       [3.65870033],\n",
       "       [3.61485053],\n",
       "       [3.71602621],\n",
       "       [3.65271341],\n",
       "       [3.85039938],\n",
       "       [3.60402104],\n",
       "       [3.81701978],\n",
       "       [3.65700674],\n",
       "       [3.84289539],\n",
       "       [3.85223227],\n",
       "       [3.82996339],\n",
       "       [3.80263076],\n",
       "       [3.83679495],\n",
       "       [3.39653172],\n",
       "       [3.59628775],\n",
       "       [3.7514852 ],\n",
       "       [3.59816253],\n",
       "       [3.81440307],\n",
       "       [3.78613139],\n",
       "       [3.70575291],\n",
       "       [3.84121035],\n",
       "       [3.56632821],\n",
       "       [3.84651953],\n",
       "       [3.80543927],\n",
       "       [3.76917115],\n",
       "       [2.60826415],\n",
       "       [3.07537095],\n",
       "       [3.75262044],\n",
       "       [2.75636584],\n",
       "       [2.66386727],\n",
       "       [3.64736948],\n",
       "       [3.4059773 ],\n",
       "       [3.78334072],\n",
       "       [2.77827602],\n",
       "       [3.7514852 ],\n",
       "       [3.62252057],\n",
       "       [3.822946  ],\n",
       "       [2.17936506],\n",
       "       [2.72184566],\n",
       "       [3.54532054],\n",
       "       [3.84573594],\n",
       "       [3.59786722],\n",
       "       [3.59404109],\n",
       "       [3.36961759],\n",
       "       [3.60402104],\n",
       "       [2.77827602],\n",
       "       [3.85526996],\n",
       "       [3.7042575 ],\n",
       "       [3.74210973],\n",
       "       [3.76817247],\n",
       "       [3.77334853],\n",
       "       [3.6264826 ],\n",
       "       [3.78366399],\n",
       "       [3.77334853],\n",
       "       [3.84858641],\n",
       "       [3.74819688],\n",
       "       [3.66862589],\n",
       "       [3.78563341],\n",
       "       [3.43092541],\n",
       "       [3.32947285],\n",
       "       [3.65131149],\n",
       "       [3.59155185],\n",
       "       [3.56941668],\n",
       "       [3.75627954]])"
      ]
     },
     "execution_count": 30,
     "metadata": {},
     "output_type": "execute_result"
    }
   ],
   "source": [
    "y_predicted = poly_reg_model.predict(X_test)\n",
    "y_predicted"
   ]
  },
  {
   "cell_type": "code",
   "execution_count": 31,
   "id": "ae57b39b",
   "metadata": {},
   "outputs": [],
   "source": [
    "from sklearn.metrics import mean_squared_error"
   ]
  },
  {
   "cell_type": "code",
   "execution_count": 32,
   "id": "1867427c",
   "metadata": {},
   "outputs": [
    {
     "data": {
      "text/plain": [
       "1.4935677729345327"
      ]
     },
     "execution_count": 32,
     "metadata": {},
     "output_type": "execute_result"
    }
   ],
   "source": [
    "poly_reg_rmse = np.sqrt(mean_squared_error(y_test,\n",
    "                                          y_predicted))\n",
    "poly_reg_rmse"
   ]
  },
  {
   "cell_type": "code",
   "execution_count": 33,
   "id": "e8787200",
   "metadata": {},
   "outputs": [],
   "source": [
    "# plt.figure(figsize= (10,6))\n",
    "# plt.title(\"Polynomial Reg\", size=16)\n",
    "# plt.scatter(X, y)\n",
    "# plt.plot(X, y_predicted, c='red')\n",
    "# plt.show()"
   ]
  },
  {
   "cell_type": "code",
   "execution_count": 34,
   "id": "9ad218fb",
   "metadata": {},
   "outputs": [],
   "source": [
    "# 2nd order polynomial using log10(GDP)"
   ]
  },
  {
   "cell_type": "code",
   "execution_count": 35,
   "id": "caa59339",
   "metadata": {},
   "outputs": [],
   "source": [
    "# # Save an instance of Polynomial Feature and setting it to a second degree\n",
    "# poly_model_logGDP = PolynomialFeatures(degree=2, include_bias=False)\n"
   ]
  },
  {
   "cell_type": "markdown",
   "id": "66193482",
   "metadata": {},
   "source": [
    "# Using RandomForestClassifier"
   ]
  },
  {
   "cell_type": "code",
   "execution_count": 36,
   "id": "37bdfbed",
   "metadata": {},
   "outputs": [],
   "source": [
    "from sklearn.ensemble import RandomForestRegressor\n",
    "from sklearn.metrics import confusion_matrix, accuracy_score, classification_report"
   ]
  },
  {
   "cell_type": "code",
   "execution_count": 37,
   "id": "ba4d2687",
   "metadata": {},
   "outputs": [],
   "source": [
    "# Defining feature and target\n",
    "X =df.GDP.values.reshape(-1,1)\n",
    "y= df.dollar_price"
   ]
  },
  {
   "cell_type": "code",
   "execution_count": 38,
   "id": "6ee07f4b",
   "metadata": {},
   "outputs": [],
   "source": [
    "from sklearn.model_selection import train_test_split\n",
    "X_train, X_test, y_train, y_test = train_test_split(X,y, random_state=78)"
   ]
  },
  {
   "cell_type": "code",
   "execution_count": 39,
   "id": "03cc2a69",
   "metadata": {},
   "outputs": [],
   "source": [
    "# Creating a StandardScalar instance\n",
    "scaler = StandardScaler()\n",
    "\n",
    "# Fitting the Standard Scalar with the training data\n",
    "X_scalar = scaler.fit(X_train)\n",
    "\n",
    "# Scaling the data\n",
    "X_train_scaled = X_scalar.transform(X_train)\n",
    "X_test_scaled = X_scalar.transform(X_test)"
   ]
  },
  {
   "cell_type": "code",
   "execution_count": 40,
   "id": "59921c6e",
   "metadata": {},
   "outputs": [],
   "source": [
    "# Create a random forest classifier\n",
    "rf_model = RandomForestRegressor(n_estimators=500, random_state=0)"
   ]
  },
  {
   "cell_type": "code",
   "execution_count": 41,
   "id": "6a3d14bd",
   "metadata": {},
   "outputs": [],
   "source": [
    "# Fitting the model\n",
    "rf_model = rf_model.fit(X_train_scaled, y_train)"
   ]
  },
  {
   "cell_type": "code",
   "execution_count": 42,
   "id": "1a4af4bf",
   "metadata": {},
   "outputs": [],
   "source": [
    "# Making predictions using the testing data\n",
    "predictions = rf_model.predict(X_test_scaled)"
   ]
  },
  {
   "cell_type": "code",
   "execution_count": 43,
   "id": "c08c93ae",
   "metadata": {},
   "outputs": [
    {
     "name": "stdout",
     "output_type": "stream",
     "text": [
      "2.405496190343989\n",
      "1.550966211864072\n"
     ]
    }
   ],
   "source": [
    "# Calculating the accuracy score\n",
    "mse = mean_squared_error(y_test, predictions)\n",
    "\n",
    "rmse = mse**0.5\n",
    "\n",
    "print(mse)\n",
    "print(rmse)"
   ]
  },
  {
   "cell_type": "code",
   "execution_count": 44,
   "id": "22bcf960",
   "metadata": {},
   "outputs": [],
   "source": [
    "df_Americas = df.loc[df['region']== 'Americas']"
   ]
  },
  {
   "cell_type": "code",
   "execution_count": 45,
   "id": "054ed639",
   "metadata": {},
   "outputs": [],
   "source": [
    "df_Americas.head()# Dropping columns \"local_price\", \"dollar_ex\" and those with string values\n",
    "df_Americas_modified = df_Americas.drop(['date','currency_code', 'Country', 'Code', 'country_code', \n",
    "                               'region', 'sub_region', 'local_price', 'dollar_ex'], axis =1)"
   ]
  },
  {
   "cell_type": "code",
   "execution_count": null,
   "id": "27bbd653",
   "metadata": {},
   "outputs": [],
   "source": []
  },
  {
   "cell_type": "code",
   "execution_count": 46,
   "id": "9ce0bab8",
   "metadata": {
    "scrolled": false
   },
   "outputs": [
    {
     "data": {
      "text/html": [
       "<div>\n",
       "<style scoped>\n",
       "    .dataframe tbody tr th:only-of-type {\n",
       "        vertical-align: middle;\n",
       "    }\n",
       "\n",
       "    .dataframe tbody tr th {\n",
       "        vertical-align: top;\n",
       "    }\n",
       "\n",
       "    .dataframe thead th {\n",
       "        text-align: right;\n",
       "    }\n",
       "</style>\n",
       "<table border=\"1\" class=\"dataframe\">\n",
       "  <thead>\n",
       "    <tr style=\"text-align: right;\">\n",
       "      <th></th>\n",
       "      <th>dollar_price</th>\n",
       "      <th>Year</th>\n",
       "      <th>gdp_growth</th>\n",
       "      <th>GDP_Per_Capita</th>\n",
       "      <th>GDP</th>\n",
       "      <th>GDP_log10</th>\n",
       "    </tr>\n",
       "  </thead>\n",
       "  <tbody>\n",
       "    <tr>\n",
       "      <th>0</th>\n",
       "      <td>2.50</td>\n",
       "      <td>2000</td>\n",
       "      <td>-10.894485</td>\n",
       "      <td>6854.294081</td>\n",
       "      <td>2.582820e+11</td>\n",
       "      <td>11.412094</td>\n",
       "    </tr>\n",
       "    <tr>\n",
       "      <th>2</th>\n",
       "      <td>2.95</td>\n",
       "      <td>2000</td>\n",
       "      <td>3.053462</td>\n",
       "      <td>8954.837245</td>\n",
       "      <td>1.607730e+12</td>\n",
       "      <td>12.206213</td>\n",
       "    </tr>\n",
       "    <tr>\n",
       "      <th>3</th>\n",
       "      <td>2.85</td>\n",
       "      <td>2000</td>\n",
       "      <td>3.016889</td>\n",
       "      <td>44863.216020</td>\n",
       "      <td>1.406910e+12</td>\n",
       "      <td>12.148266</td>\n",
       "    </tr>\n",
       "    <tr>\n",
       "      <th>4</th>\n",
       "      <td>2.45</td>\n",
       "      <td>2000</td>\n",
       "      <td>3.106971</td>\n",
       "      <td>9814.656135</td>\n",
       "      <td>1.539370e+11</td>\n",
       "      <td>11.187343</td>\n",
       "    </tr>\n",
       "    <tr>\n",
       "      <th>13</th>\n",
       "      <td>2.32</td>\n",
       "      <td>2000</td>\n",
       "      <td>-0.039844</td>\n",
       "      <td>8960.554086</td>\n",
       "      <td>9.111520e+11</td>\n",
       "      <td>11.959591</td>\n",
       "    </tr>\n",
       "  </tbody>\n",
       "</table>\n",
       "</div>"
      ],
      "text/plain": [
       "    dollar_price  Year  gdp_growth  GDP_Per_Capita           GDP  GDP_log10\n",
       "0           2.50  2000  -10.894485     6854.294081  2.582820e+11  11.412094\n",
       "2           2.95  2000    3.053462     8954.837245  1.607730e+12  12.206213\n",
       "3           2.85  2000    3.016889    44863.216020  1.406910e+12  12.148266\n",
       "4           2.45  2000    3.106971     9814.656135  1.539370e+11  11.187343\n",
       "13          2.32  2000   -0.039844     8960.554086  9.111520e+11  11.959591"
      ]
     },
     "execution_count": 46,
     "metadata": {},
     "output_type": "execute_result"
    }
   ],
   "source": [
    "df_Americas_modified.head()"
   ]
  },
  {
   "cell_type": "code",
   "execution_count": 55,
   "id": "5e6ae505",
   "metadata": {},
   "outputs": [],
   "source": [
    "import plotly.express as px\n",
    "import hvplot.pandas\n",
    "from sklearn.cluster import KMeans\n"
   ]
  },
  {
   "cell_type": "code",
   "execution_count": 56,
   "id": "d6dafcd9",
   "metadata": {},
   "outputs": [
    {
     "data": {
      "text/plain": [
       "KMeans(n_clusters=2, random_state=5)"
      ]
     },
     "execution_count": 56,
     "metadata": {},
     "output_type": "execute_result"
    }
   ],
   "source": [
    "# Intializing the model with K =4\n",
    "model = KMeans(n_clusters=2, random_state=5)\n",
    "model"
   ]
  },
  {
   "cell_type": "code",
   "execution_count": 57,
   "id": "96cdd579",
   "metadata": {},
   "outputs": [
    {
     "data": {
      "text/plain": [
       "KMeans(n_clusters=2, random_state=5)"
      ]
     },
     "execution_count": 57,
     "metadata": {},
     "output_type": "execute_result"
    }
   ],
   "source": [
    "# Fitting model\n",
    "model.fit(df_Americas_modified)"
   ]
  },
  {
   "cell_type": "code",
   "execution_count": 58,
   "id": "4f2cce4e",
   "metadata": {},
   "outputs": [
    {
     "name": "stdout",
     "output_type": "stream",
     "text": [
      "[0 0 0 0 0 0 0 0 0 0 0 0 0 0 0 0 0 0 0 0 0 0 0 0 0 0 0 0 0 0 0 0 0 0 0 0 0\n",
      " 0 0 0 0 0 0 0 0 0 0 0 0 0 0 0 0 0 0 0 0 0 0 0 0 0 0 0 0 0 0 0 0 0 0 0 0 0\n",
      " 0 0 0 0 0 0 0 0 0 0 0 0 0 0 0 0 0 0 0 0 0 0 0 0 0 0 0 0 0 0 0 0 0 0 0 0 0\n",
      " 1 0 0 0 1 0 0 0 0 0 1 0 0 0 1 0 0 0 0 0 1 0 0 0 1 0 0 0 0 0 1 0 0 0 1 0 0\n",
      " 0 1 0 0 0 1 0 0 0 0 0 1 0 0 0 1 0 0 0 0 0 1 0 0 0 1 0 0 0 0 0 1 0 0 0 1 0\n",
      " 0 0 0 0 1 0 0 0 1 0 0 0 0 0 1 0 0 0 1 0 0 0 0 0 1 0 0 0 1 0 0 0 0 0 1 0 0\n",
      " 0 1 0 0 0 0 0 1 0]\n"
     ]
    }
   ],
   "source": [
    "# Get the predictions\n",
    "predictions = model.predict(df_Americas_modified)\n",
    "print(predictions)"
   ]
  },
  {
   "cell_type": "code",
   "execution_count": 59,
   "id": "b3f2529f",
   "metadata": {},
   "outputs": [
    {
     "data": {
      "text/html": [
       "<div>\n",
       "<style scoped>\n",
       "    .dataframe tbody tr th:only-of-type {\n",
       "        vertical-align: middle;\n",
       "    }\n",
       "\n",
       "    .dataframe tbody tr th {\n",
       "        vertical-align: top;\n",
       "    }\n",
       "\n",
       "    .dataframe thead th {\n",
       "        text-align: right;\n",
       "    }\n",
       "</style>\n",
       "<table border=\"1\" class=\"dataframe\">\n",
       "  <thead>\n",
       "    <tr style=\"text-align: right;\">\n",
       "      <th></th>\n",
       "      <th>dollar_price</th>\n",
       "      <th>Year</th>\n",
       "      <th>gdp_growth</th>\n",
       "      <th>GDP_Per_Capita</th>\n",
       "      <th>GDP</th>\n",
       "      <th>GDP_log10</th>\n",
       "      <th>class</th>\n",
       "    </tr>\n",
       "  </thead>\n",
       "  <tbody>\n",
       "    <tr>\n",
       "      <th>0</th>\n",
       "      <td>2.50</td>\n",
       "      <td>2000</td>\n",
       "      <td>-10.894485</td>\n",
       "      <td>6854.294081</td>\n",
       "      <td>2.582820e+11</td>\n",
       "      <td>11.412094</td>\n",
       "      <td>0</td>\n",
       "    </tr>\n",
       "    <tr>\n",
       "      <th>2</th>\n",
       "      <td>2.95</td>\n",
       "      <td>2000</td>\n",
       "      <td>3.053462</td>\n",
       "      <td>8954.837245</td>\n",
       "      <td>1.607730e+12</td>\n",
       "      <td>12.206213</td>\n",
       "      <td>0</td>\n",
       "    </tr>\n",
       "    <tr>\n",
       "      <th>3</th>\n",
       "      <td>2.85</td>\n",
       "      <td>2000</td>\n",
       "      <td>3.016889</td>\n",
       "      <td>44863.216020</td>\n",
       "      <td>1.406910e+12</td>\n",
       "      <td>12.148266</td>\n",
       "      <td>0</td>\n",
       "    </tr>\n",
       "    <tr>\n",
       "      <th>4</th>\n",
       "      <td>2.45</td>\n",
       "      <td>2000</td>\n",
       "      <td>3.106971</td>\n",
       "      <td>9814.656135</td>\n",
       "      <td>1.539370e+11</td>\n",
       "      <td>11.187343</td>\n",
       "      <td>0</td>\n",
       "    </tr>\n",
       "    <tr>\n",
       "      <th>13</th>\n",
       "      <td>2.32</td>\n",
       "      <td>2000</td>\n",
       "      <td>-0.039844</td>\n",
       "      <td>8960.554086</td>\n",
       "      <td>9.111520e+11</td>\n",
       "      <td>11.959591</td>\n",
       "      <td>0</td>\n",
       "    </tr>\n",
       "  </tbody>\n",
       "</table>\n",
       "</div>"
      ],
      "text/plain": [
       "    dollar_price  Year  gdp_growth  GDP_Per_Capita           GDP  GDP_log10  \\\n",
       "0           2.50  2000  -10.894485     6854.294081  2.582820e+11  11.412094   \n",
       "2           2.95  2000    3.053462     8954.837245  1.607730e+12  12.206213   \n",
       "3           2.85  2000    3.016889    44863.216020  1.406910e+12  12.148266   \n",
       "4           2.45  2000    3.106971     9814.656135  1.539370e+11  11.187343   \n",
       "13          2.32  2000   -0.039844     8960.554086  9.111520e+11  11.959591   \n",
       "\n",
       "    class  \n",
       "0       0  \n",
       "2       0  \n",
       "3       0  \n",
       "4       0  \n",
       "13      0  "
      ]
     },
     "execution_count": 59,
     "metadata": {},
     "output_type": "execute_result"
    }
   ],
   "source": [
    "# Add a new class column to the df_Americas_modified\n",
    "df_Americas_modified['class'] = model.labels_\n",
    "df_Americas_modified.head()"
   ]
  },
  {
   "cell_type": "code",
   "execution_count": 60,
   "id": "0fd1fac4",
   "metadata": {
    "scrolled": false
   },
   "outputs": [
    {
     "data": {},
     "metadata": {},
     "output_type": "display_data"
    },
    {
     "data": {
      "application/vnd.holoviews_exec.v0+json": "",
      "text/html": [
       "<div id='1257'>\n",
       "\n",
       "\n",
       "\n",
       "\n",
       "\n",
       "  <div class=\"bk-root\" id=\"d986e096-e2af-4108-a1e6-80cf8e2a8432\" data-root-id=\"1257\"></div>\n",
       "</div>\n",
       "<script type=\"application/javascript\">(function(root) {\n",
       "  function embed_document(root) {\n",
       "    var docs_json = {\"00a41cdf-41f7-43b9-b1b4-d9fdd28bda6e\":{\"defs\":[{\"extends\":null,\"module\":null,\"name\":\"ReactiveHTML1\",\"overrides\":[],\"properties\":[]},{\"extends\":null,\"module\":null,\"name\":\"FlexBox1\",\"overrides\":[],\"properties\":[{\"default\":\"flex-start\",\"kind\":null,\"name\":\"align_content\"},{\"default\":\"flex-start\",\"kind\":null,\"name\":\"align_items\"},{\"default\":\"row\",\"kind\":null,\"name\":\"flex_direction\"},{\"default\":\"wrap\",\"kind\":null,\"name\":\"flex_wrap\"},{\"default\":\"flex-start\",\"kind\":null,\"name\":\"justify_content\"}]},{\"extends\":null,\"module\":null,\"name\":\"GridStack1\",\"overrides\":[],\"properties\":[{\"default\":\"warn\",\"kind\":null,\"name\":\"mode\"},{\"default\":null,\"kind\":null,\"name\":\"ncols\"},{\"default\":null,\"kind\":null,\"name\":\"nrows\"},{\"default\":true,\"kind\":null,\"name\":\"allow_resize\"},{\"default\":true,\"kind\":null,\"name\":\"allow_drag\"},{\"default\":[],\"kind\":null,\"name\":\"state\"}]},{\"extends\":null,\"module\":null,\"name\":\"click1\",\"overrides\":[],\"properties\":[{\"default\":\"\",\"kind\":null,\"name\":\"terminal_output\"},{\"default\":\"\",\"kind\":null,\"name\":\"debug_name\"},{\"default\":0,\"kind\":null,\"name\":\"clears\"}]},{\"extends\":null,\"module\":null,\"name\":\"TemplateActions1\",\"overrides\":[],\"properties\":[{\"default\":0,\"kind\":null,\"name\":\"open_modal\"},{\"default\":0,\"kind\":null,\"name\":\"close_modal\"}]},{\"extends\":null,\"module\":null,\"name\":\"MaterialTemplateActions1\",\"overrides\":[],\"properties\":[{\"default\":0,\"kind\":null,\"name\":\"open_modal\"},{\"default\":0,\"kind\":null,\"name\":\"close_modal\"}]}],\"roots\":{\"references\":[{\"attributes\":{\"label\":{\"value\":\"0\"},\"renderers\":[{\"id\":\"1305\"}]},\"id\":\"1318\",\"type\":\"LegendItem\"},{\"attributes\":{\"angle\":{\"value\":0.0},\"fill_alpha\":{\"value\":1.0},\"fill_color\":{\"value\":\"#30a2da\"},\"hatch_alpha\":{\"value\":1.0},\"hatch_color\":{\"value\":\"#30a2da\"},\"hatch_scale\":{\"value\":12.0},\"hatch_weight\":{\"value\":1.0},\"line_alpha\":{\"value\":1.0},\"line_cap\":{\"value\":\"butt\"},\"line_color\":{\"value\":\"#30a2da\"},\"line_dash\":{\"value\":[]},\"line_dash_offset\":{\"value\":0},\"line_join\":{\"value\":\"bevel\"},\"line_width\":{\"value\":1},\"marker\":{\"value\":\"circle\"},\"size\":{\"value\":5.477225575051661},\"x\":{\"field\":\"GDP_Per_Capita\"},\"y\":{\"field\":\"dollar_price\"}},\"id\":\"1319\",\"type\":\"Scatter\"},{\"attributes\":{},\"id\":\"1284\",\"type\":\"ResetTool\"},{\"attributes\":{},\"id\":\"1277\",\"type\":\"BasicTicker\"},{\"attributes\":{\"tools\":[{\"id\":\"1261\"},{\"id\":\"1280\"},{\"id\":\"1281\"},{\"id\":\"1282\"},{\"id\":\"1283\"},{\"id\":\"1284\"}]},\"id\":\"1286\",\"type\":\"Toolbar\"},{\"attributes\":{},\"id\":\"1270\",\"type\":\"LinearScale\"},{\"attributes\":{\"data\":{\"GDP_Per_Capita\":{\"__ndarray__\":\"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\",\"dtype\":\"float64\",\"order\":\"little\",\"shape\":[206]},\"class\":[0,0,0,0,0,0,0,0,0,0,0,0,0,0,0,0,0,0,0,0,0,0,0,0,0,0,0,0,0,0,0,0,0,0,0,0,0,0,0,0,0,0,0,0,0,0,0,0,0,0,0,0,0,0,0,0,0,0,0,0,0,0,0,0,0,0,0,0,0,0,0,0,0,0,0,0,0,0,0,0,0,0,0,0,0,0,0,0,0,0,0,0,0,0,0,0,0,0,0,0,0,0,0,0,0,0,0,0,0,0,0,0,0,0,0,0,0,0,0,0,0,0,0,0,0,0,0,0,0,0,0,0,0,0,0,0,0,0,0,0,0,0,0,0,0,0,0,0,0,0,0,0,0,0,0,0,0,0,0,0,0,0,0,0,0,0,0,0,0,0,0,0,0,0,0,0,0,0,0,0,0,0,0,0,0,0,0,0,0,0,0,0,0,0,0,0,0,0,0,0,0,0,0,0,0,0],\"dollar_price\":{\"__ndarray__\":\"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\",\"dtype\":\"float64\",\"order\":\"little\",\"shape\":[206]}},\"selected\":{\"id\":\"1300\"},\"selection_policy\":{\"id\":\"1314\"}},\"id\":\"1299\",\"type\":\"ColumnDataSource\"},{\"attributes\":{},\"id\":\"1300\",\"type\":\"Selection\"},{\"attributes\":{\"bottom_units\":\"screen\",\"coordinates\":null,\"fill_alpha\":0.5,\"fill_color\":\"lightgrey\",\"group\":null,\"left_units\":\"screen\",\"level\":\"overlay\",\"line_alpha\":1.0,\"line_color\":\"black\",\"line_dash\":[4,4],\"line_width\":2,\"right_units\":\"screen\",\"syncable\":false,\"top_units\":\"screen\"},\"id\":\"1285\",\"type\":\"BoxAnnotation\"},{\"attributes\":{},\"id\":\"1273\",\"type\":\"BasicTicker\"},{\"attributes\":{},\"id\":\"1268\",\"type\":\"LinearScale\"},{\"attributes\":{\"fill_color\":{\"value\":\"#30a2da\"},\"hatch_color\":{\"value\":\"#30a2da\"},\"line_color\":{\"value\":\"#30a2da\"},\"size\":{\"value\":5.477225575051661},\"x\":{\"field\":\"GDP_Per_Capita\"},\"y\":{\"field\":\"dollar_price\"}},\"id\":\"1302\",\"type\":\"Scatter\"},{\"attributes\":{\"data\":{\"GDP_Per_Capita\":{\"__ndarray__\":\"j/zBwOsD5kDmeXB3kHPmQGvxKQDzFudAflcE/3mu50DHuriNuB/oQAVR9wEJWOhA7DTSUu8U6EDsNNJS7xToQC/dJAYaROdAL90kBhpE50CGAyFZWqrnQFjFG5nN2+dAMV9egI036EAxX16AjTfoQIwQHm0ifuhAKCfaVeTo6EAoJ9pV5OjoQDm536FocOlAObnfoWhw6UC8rl+wy6bpQLyuX7DLpulAQDBHj4cN6kBAMEePhw3qQIT1fw63oepAhPV/Dreh6kA=\",\"dtype\":\"float64\",\"order\":\"little\",\"shape\":[25]},\"class\":[1,1,1,1,1,1,1,1,1,1,1,1,1,1,1,1,1,1,1,1,1,1,1,1,1],\"dollar_price\":{\"__ndarray__\":\"7FG4HoXrAUDsUbgehesBQM3MzMzMzAJArkfhehSuA0DD9Shcj8IDQKRwPQrXowRAXI/C9ShcBUA9CtejcD0GQB+F61G4HgdAAAAAAAAACECuR+F6FK4JQHE9CtejcAtAcT0K16NwC0A9CtejcD0MQB+F61G4Hg1AexSuR+F6DkCuR+F6FK4PQB+F61G4HhBAuB6F61G4EED2KFyPwvUQQClcj8L1KBFAKVyPwvUoEUApXI/C9SgRQClcj8L1KBFAAAAAAAAAEkA=\",\"dtype\":\"float64\",\"order\":\"little\",\"shape\":[25]}},\"selected\":{\"id\":\"1321\"},\"selection_policy\":{\"id\":\"1337\"}},\"id\":\"1320\",\"type\":\"ColumnDataSource\"},{\"attributes\":{\"children\":[{\"id\":\"1258\"},{\"id\":\"1263\"},{\"id\":\"1450\"}],\"margin\":[0,0,0,0],\"name\":\"Row02124\",\"tags\":[\"embedded\"]},\"id\":\"1257\",\"type\":\"Row\"},{\"attributes\":{\"callback\":null,\"renderers\":[{\"id\":\"1305\"},{\"id\":\"1326\"}],\"tags\":[\"hv_created\"],\"tooltips\":[[\"class\",\"@{class}\"],[\"GDP_Per_Capita\",\"@{GDP_Per_Capita}\"],[\"dollar_price\",\"@{dollar_price}\"]]},\"id\":\"1261\",\"type\":\"HoverTool\"},{\"attributes\":{},\"id\":\"1295\",\"type\":\"AllLabels\"},{\"attributes\":{\"coordinates\":null,\"data_source\":{\"id\":\"1320\"},\"glyph\":{\"id\":\"1323\"},\"group\":null,\"hover_glyph\":null,\"muted_glyph\":{\"id\":\"1325\"},\"nonselection_glyph\":{\"id\":\"1324\"},\"selection_glyph\":{\"id\":\"1341\"},\"view\":{\"id\":\"1327\"}},\"id\":\"1326\",\"type\":\"GlyphRenderer\"},{\"attributes\":{\"axis\":{\"id\":\"1276\"},\"coordinates\":null,\"dimension\":1,\"grid_line_color\":null,\"group\":null,\"ticker\":null},\"id\":\"1279\",\"type\":\"Grid\"},{\"attributes\":{\"label\":{\"value\":\"1\"},\"renderers\":[{\"id\":\"1326\"}]},\"id\":\"1340\",\"type\":\"LegendItem\"},{\"attributes\":{\"source\":{\"id\":\"1320\"}},\"id\":\"1327\",\"type\":\"CDSView\"},{\"attributes\":{},\"id\":\"1297\",\"type\":\"BasicTickFormatter\"},{\"attributes\":{\"fill_alpha\":{\"value\":0.1},\"fill_color\":{\"value\":\"#fc4f30\"},\"hatch_alpha\":{\"value\":0.1},\"hatch_color\":{\"value\":\"#fc4f30\"},\"line_alpha\":{\"value\":0.1},\"line_color\":{\"value\":\"#fc4f30\"},\"size\":{\"value\":5.477225575051661},\"x\":{\"field\":\"GDP_Per_Capita\"},\"y\":{\"field\":\"dollar_price\"}},\"id\":\"1324\",\"type\":\"Scatter\"},{\"attributes\":{\"margin\":[5,5,5,5],\"name\":\"HSpacer02128\",\"sizing_mode\":\"stretch_width\"},\"id\":\"1258\",\"type\":\"Spacer\"},{\"attributes\":{},\"id\":\"1298\",\"type\":\"AllLabels\"},{\"attributes\":{\"end\":12.292,\"reset_end\":12.292,\"reset_start\":-0.21200000000000008,\"start\":-0.21200000000000008,\"tags\":[[[\"dollar_price\",\"dollar_price\",null]]]},\"id\":\"1260\",\"type\":\"Range1d\"},{\"attributes\":{\"fill_color\":{\"value\":\"#fc4f30\"},\"hatch_color\":{\"value\":\"#fc4f30\"},\"line_color\":{\"value\":\"#fc4f30\"},\"size\":{\"value\":5.477225575051661},\"x\":{\"field\":\"GDP_Per_Capita\"},\"y\":{\"field\":\"dollar_price\"}},\"id\":\"1323\",\"type\":\"Scatter\"},{\"attributes\":{},\"id\":\"1321\",\"type\":\"Selection\"},{\"attributes\":{\"coordinates\":null,\"data_source\":{\"id\":\"1299\"},\"glyph\":{\"id\":\"1302\"},\"group\":null,\"hover_glyph\":null,\"muted_glyph\":{\"id\":\"1304\"},\"nonselection_glyph\":{\"id\":\"1303\"},\"selection_glyph\":{\"id\":\"1319\"},\"view\":{\"id\":\"1306\"}},\"id\":\"1305\",\"type\":\"GlyphRenderer\"},{\"attributes\":{\"below\":[{\"id\":\"1272\"}],\"center\":[{\"id\":\"1275\"},{\"id\":\"1279\"}],\"height\":300,\"left\":[{\"id\":\"1276\"}],\"margin\":[5,5,5,5],\"min_border_bottom\":10,\"min_border_left\":10,\"min_border_right\":10,\"min_border_top\":10,\"renderers\":[{\"id\":\"1305\"},{\"id\":\"1326\"}],\"right\":[{\"id\":\"1317\"}],\"sizing_mode\":\"fixed\",\"title\":{\"id\":\"1264\"},\"toolbar\":{\"id\":\"1286\"},\"width\":700,\"x_range\":{\"id\":\"1259\"},\"x_scale\":{\"id\":\"1268\"},\"y_range\":{\"id\":\"1260\"},\"y_scale\":{\"id\":\"1270\"}},\"id\":\"1263\",\"subtype\":\"Figure\",\"type\":\"Plot\"},{\"attributes\":{\"fill_alpha\":{\"value\":0.2},\"fill_color\":{\"value\":\"#30a2da\"},\"hatch_alpha\":{\"value\":0.2},\"hatch_color\":{\"value\":\"#30a2da\"},\"line_alpha\":{\"value\":0.2},\"line_color\":{\"value\":\"#30a2da\"},\"size\":{\"value\":5.477225575051661},\"x\":{\"field\":\"GDP_Per_Capita\"},\"y\":{\"field\":\"dollar_price\"}},\"id\":\"1304\",\"type\":\"Scatter\"},{\"attributes\":{},\"id\":\"1337\",\"type\":\"UnionRenderers\"},{\"attributes\":{\"click_policy\":\"mute\",\"coordinates\":null,\"group\":null,\"items\":[{\"id\":\"1318\"},{\"id\":\"1340\"}],\"location\":[0,0],\"title\":\"class\"},\"id\":\"1317\",\"type\":\"Legend\"},{\"attributes\":{\"margin\":[5,5,5,5],\"name\":\"HSpacer02129\",\"sizing_mode\":\"stretch_width\"},\"id\":\"1450\",\"type\":\"Spacer\"},{\"attributes\":{\"axis_label\":\"dollar_price\",\"coordinates\":null,\"formatter\":{\"id\":\"1297\"},\"group\":null,\"major_label_policy\":{\"id\":\"1298\"},\"ticker\":{\"id\":\"1277\"}},\"id\":\"1276\",\"type\":\"LinearAxis\"},{\"attributes\":{\"fill_alpha\":{\"value\":0.1},\"fill_color\":{\"value\":\"#30a2da\"},\"hatch_alpha\":{\"value\":0.1},\"hatch_color\":{\"value\":\"#30a2da\"},\"line_alpha\":{\"value\":0.1},\"line_color\":{\"value\":\"#30a2da\"},\"size\":{\"value\":5.477225575051661},\"x\":{\"field\":\"GDP_Per_Capita\"},\"y\":{\"field\":\"dollar_price\"}},\"id\":\"1303\",\"type\":\"Scatter\"},{\"attributes\":{\"angle\":{\"value\":0.0},\"fill_alpha\":{\"value\":1.0},\"fill_color\":{\"value\":\"#fc4f30\"},\"hatch_alpha\":{\"value\":1.0},\"hatch_color\":{\"value\":\"#fc4f30\"},\"hatch_scale\":{\"value\":12.0},\"hatch_weight\":{\"value\":1.0},\"line_alpha\":{\"value\":1.0},\"line_cap\":{\"value\":\"butt\"},\"line_color\":{\"value\":\"#fc4f30\"},\"line_dash\":{\"value\":[]},\"line_dash_offset\":{\"value\":0},\"line_join\":{\"value\":\"bevel\"},\"line_width\":{\"value\":1},\"marker\":{\"value\":\"circle\"},\"size\":{\"value\":5.477225575051661},\"x\":{\"field\":\"GDP_Per_Capita\"},\"y\":{\"field\":\"dollar_price\"}},\"id\":\"1341\",\"type\":\"Scatter\"},{\"attributes\":{\"end\":56724.80855407143,\"reset_end\":56724.80855407143,\"reset_start\":1419.9116909285713,\"start\":1419.9116909285713,\"tags\":[[[\"GDP_Per_Capita\",\"GDP_Per_Capita\",null]]]},\"id\":\"1259\",\"type\":\"Range1d\"},{\"attributes\":{\"fill_alpha\":{\"value\":0.2},\"fill_color\":{\"value\":\"#fc4f30\"},\"hatch_alpha\":{\"value\":0.2},\"hatch_color\":{\"value\":\"#fc4f30\"},\"line_alpha\":{\"value\":0.2},\"line_color\":{\"value\":\"#fc4f30\"},\"size\":{\"value\":5.477225575051661},\"x\":{\"field\":\"GDP_Per_Capita\"},\"y\":{\"field\":\"dollar_price\"}},\"id\":\"1325\",\"type\":\"Scatter\"},{\"attributes\":{},\"id\":\"1280\",\"type\":\"SaveTool\"},{\"attributes\":{},\"id\":\"1281\",\"type\":\"PanTool\"},{\"attributes\":{},\"id\":\"1294\",\"type\":\"BasicTickFormatter\"},{\"attributes\":{},\"id\":\"1282\",\"type\":\"WheelZoomTool\"},{\"attributes\":{\"overlay\":{\"id\":\"1285\"}},\"id\":\"1283\",\"type\":\"BoxZoomTool\"},{\"attributes\":{},\"id\":\"1314\",\"type\":\"UnionRenderers\"},{\"attributes\":{\"axis_label\":\"GDP_Per_Capita\",\"coordinates\":null,\"formatter\":{\"id\":\"1294\"},\"group\":null,\"major_label_policy\":{\"id\":\"1295\"},\"ticker\":{\"id\":\"1273\"}},\"id\":\"1272\",\"type\":\"LinearAxis\"},{\"attributes\":{\"axis\":{\"id\":\"1272\"},\"coordinates\":null,\"grid_line_color\":null,\"group\":null,\"ticker\":null},\"id\":\"1275\",\"type\":\"Grid\"},{\"attributes\":{\"coordinates\":null,\"group\":null,\"text_color\":\"black\",\"text_font_size\":\"12pt\"},\"id\":\"1264\",\"type\":\"Title\"},{\"attributes\":{\"source\":{\"id\":\"1299\"}},\"id\":\"1306\",\"type\":\"CDSView\"}],\"root_ids\":[\"1257\"]},\"title\":\"Bokeh Application\",\"version\":\"2.4.2\"}};\n",
       "    var render_items = [{\"docid\":\"00a41cdf-41f7-43b9-b1b4-d9fdd28bda6e\",\"root_ids\":[\"1257\"],\"roots\":{\"1257\":\"d986e096-e2af-4108-a1e6-80cf8e2a8432\"}}];\n",
       "    root.Bokeh.embed.embed_items_notebook(docs_json, render_items);\n",
       "  }\n",
       "  if (root.Bokeh !== undefined && root.Bokeh.Panel !== undefined) {\n",
       "    embed_document(root);\n",
       "  } else {\n",
       "    var attempts = 0;\n",
       "    var timer = setInterval(function(root) {\n",
       "      if (root.Bokeh !== undefined && root.Bokeh.Panel !== undefined) {\n",
       "        clearInterval(timer);\n",
       "        embed_document(root);\n",
       "      } else if (document.readyState == \"complete\") {\n",
       "        attempts++;\n",
       "        if (attempts > 200) {\n",
       "          clearInterval(timer);\n",
       "          console.log(\"Bokeh: ERROR: Unable to run BokehJS code because BokehJS library is missing\");\n",
       "        }\n",
       "      }\n",
       "    }, 25, root)\n",
       "  }\n",
       "})(window);</script>"
      ],
      "text/plain": [
       ":NdOverlay   [class]\n",
       "   :Scatter   [GDP_Per_Capita]   (dollar_price)"
      ]
     },
     "execution_count": 60,
     "metadata": {
      "application/vnd.holoviews_exec.v0+json": {
       "id": "1257"
      }
     },
     "output_type": "execute_result"
    }
   ],
   "source": [
    "# Create a scatterplot of df_Americas_modified\n",
    "df_Americas_modified.hvplot.scatter(x='GDP_Per_Capita', y='dollar_price', by=\"class\")"
   ]
  },
  {
   "cell_type": "code",
   "execution_count": 61,
   "id": "fd79a1f3",
   "metadata": {
    "scrolled": true
   },
   "outputs": [
    {
     "data": {
      "application/vnd.plotly.v1+json": {
       "config": {
        "plotlyServerURL": "https://plot.ly"
       },
       "data": [
        {
         "hovertemplate": "class=%{marker.color}<br>GDP_log10=%{x}<br>Year=%{y}<br>dollar_price=%{marker.size}<extra></extra>",
         "legendgroup": "0",
         "marker": {
          "color": [
           0,
           0,
           0,
           0,
           0,
           0,
           0,
           0,
           0,
           0,
           0,
           0,
           0,
           0,
           0,
           0,
           0,
           0,
           0,
           0,
           0,
           0,
           0,
           0,
           0,
           0,
           0,
           0,
           0,
           0,
           0,
           0,
           0,
           0,
           0,
           0,
           0,
           0,
           0,
           0,
           0,
           0,
           0,
           0,
           0,
           0,
           0,
           0,
           0,
           0,
           0,
           0,
           0,
           0,
           0,
           0,
           0,
           0,
           0,
           0,
           0,
           0,
           0,
           0,
           0,
           0,
           0,
           0,
           0,
           0,
           0,
           0,
           0,
           0,
           0,
           0,
           0,
           0,
           0,
           0,
           0,
           0,
           0,
           0,
           0,
           0,
           0,
           0,
           0,
           0,
           0,
           0,
           0,
           0,
           0,
           0,
           0,
           0,
           0,
           0,
           0,
           0,
           0,
           0,
           0,
           0,
           0,
           0,
           0,
           0,
           0,
           0,
           0,
           0,
           0,
           0,
           0,
           0,
           0,
           0,
           0,
           0,
           0,
           0,
           0,
           0,
           0,
           0,
           0,
           0,
           0,
           0,
           0,
           0,
           0,
           0,
           0,
           0,
           0,
           0,
           0,
           0,
           0,
           0,
           0,
           0,
           0,
           0,
           0,
           0,
           0,
           0,
           0,
           0,
           0,
           0,
           0,
           0,
           0,
           0,
           0,
           0,
           0,
           0,
           0,
           0,
           0,
           0,
           0,
           0,
           0,
           0,
           0,
           0,
           0,
           0,
           0,
           0,
           0,
           0,
           0,
           0,
           0,
           0,
           0,
           0,
           0,
           0,
           0,
           0,
           0,
           0,
           0,
           0,
           0,
           0,
           0,
           0,
           0,
           0,
           0,
           0,
           0,
           0,
           0,
           0
          ],
          "coloraxis": "coloraxis",
          "size": [
           2.5,
           2.95,
           2.85,
           2.45,
           2.32,
           3.33,
           2.5,
           1.8,
           3.33,
           2.1,
           2.43,
           3.2,
           0.83,
           1.8,
           3.19,
           2.14,
           2.43,
           2.83,
           3.28,
           2.05,
           1.52,
           3.52,
           1.96,
           2.3,
           2.63,
           3.52,
           2.18,
           1.8,
           3.63,
           2.18,
           2.35,
           2.61,
           2.18,
           3,
           3.88,
           1.03,
           2.38,
           2.95,
           4.09,
           2.53,
           2.79,
           2.38,
           2.8,
           3,
           3.89,
           1.83,
           1.58,
           3.1,
           4.12,
           2.99,
           2.8,
           3.17,
           4.17,
           2.33,
           3.2,
           4.73,
           2.95,
           2.6,
           2.22,
           2.64,
           3.17,
           4.73,
           1.84,
           2.75,
           3.2,
           5.12,
           3.09,
           3.08,
           2.22,
           2.9,
           3.17,
           5.41,
           2.39,
           2.75,
           6.9,
           5.53,
           2.98,
           3.53,
           2.18,
           2.9,
           3.17,
           5.54,
           2.7,
           3.67,
           7.5,
           5.64,
           3.14,
           3.89,
           3.27,
           3.2,
           4.75,
           5.7,
           3.21,
           3.83,
           8.03,
           5.85,
           3.19,
           3.34,
           3.44,
           2.54,
           2.69,
           5.84,
           2.65,
           2.33,
           8.2,
           6,
           3.18,
           3.91,
           3.52,
           2.67,
           4.03,
           3.35,
           4.67,
           8.71,
           3.35,
           4.39,
           3.83,
           2.67,
           5,
           3.76,
           5,
           9.5,
           4,
           4.75,
           4.07,
           2.91,
           5,
           5,
           5,
           10.25,
           4.05,
           4.54,
           4.03,
           2.85,
           5,
           4.74,
           4.75,
           5.04,
           4.16,
           4.77,
           2.85,
           4.71,
           4.75,
           11.25,
           4.35,
           4.85,
           4.4,
           3.08,
           5,
           5.53,
           4.2,
           6,
           3.94,
           4.48,
           4.32,
           3.08,
           5,
           5,
           3.5,
           6.2,
           3.7,
           4.34,
           4.29,
           2.85,
           5,
           5,
           2.62,
           6.5,
           3.72,
           4.66,
           4,
           3.5,
           5,
           5.14,
           3.5,
           6.75,
           3.35,
           3.34,
           4.01,
           3.5,
           3.33,
           4.71,
           3.11,
           4.5,
           3.27,
           2.92,
           4.03,
           3.27,
           3.33,
           4.19,
           2.54,
           3.38,
           2.94,
           2.43,
           4.02,
           2.88,
           3.33,
           3.77,
           3.57,
           5.17,
           3.53,
           3.04,
           4.12,
           2.44,
           3.33,
           4.1
          ],
          "sizemode": "area",
          "sizeref": 0.028125,
          "symbol": "circle"
         },
         "mode": "markers",
         "name": "0",
         "scene": "scene",
         "showlegend": true,
         "type": "scatter3d",
         "x": [
          11.412094140694933,
          12.206213115708598,
          12.148266316515395,
          11.187343018561377,
          11.959590832796005,
          12.156018830921651,
          11.4488701154014,
          12.211139237420024,
          12.169224627077039,
          11.204757384698596,
          11.965827518549071,
          12.182916568785958,
          11.486414892149611,
          12.235460267422326,
          12.194208979646682,
          11.234990295456319,
          11.982529018865602,
          10.997954143027906,
          12.203119954874245,
          11.523249474489033,
          12.249149420044517,
          12.207472789481013,
          11.259240183834748,
          11.992437749449032,
          11.024428195817706,
          12.207472789481013,
          11.556863102495688,
          12.266024616372095,
          12.194567064529759,
          11.28584524303856,
          11.390148781677974,
          10.500752789079453,
          12.011532383016828,
          11.05595140532915,
          12.194567064529759,
          10.496839340742994,
          11.594320714558501,
          12.291615236005704,
          12.20777973612601,
          11.30664158462451,
          11.418917485831926,
          10.534851171905254,
          12.021371251017943,
          11.091455913055093,
          12.221236832094737,
          10.524358191893988,
          11.611592681466488,
          12.31319417513532,
          12.228823666458899,
          11.32170611054876,
          12.026312588504672,
          11.12938694025794,
          12.228823666458899,
          11.611592681466488,
          12.31319417513532,
          12.238826128136264,
          11.32170611054876,
          11.43283786085072,
          10.554588737254456,
          12.026312588504672,
          11.12938694025794,
          12.251109933426724,
          10.554456322453197,
          11.585096220432902,
          12.312646953219183,
          12.251109933426724,
          11.314859061201037,
          11.43804052399445,
          10.550353111681984,
          12.00272747268983,
          11.134119708037254,
          12.254095904857678,
          10.57250528268276,
          11.585096220432902,
          12.312646953219183,
          12.254095904857678,
          11.314859061201037,
          11.43804052399445,
          10.550353111681984,
          12.00272747268983,
          11.134119708037254,
          12.258876629372132,
          10.57250528268276,
          11.626983632212891,
          12.34417015682028,
          12.258876629372132,
          11.339526964214535,
          11.456523929688464,
          10.571343267322925,
          12.024403562682966,
          11.16887739863303,
          12.271623243192991,
          10.605137779867261,
          11.652306306257216,
          12.361096706534518,
          12.271623243192991,
          11.365285766249952,
          11.48737596999458,
          10.589657145321672,
          12.04002843923198,
          11.195520516621967,
          12.2797057186105,
          10.626997166281603,
          11.647825841976948,
          12.369360598115334,
          12.2797057186105,
          11.38779189652721,
          11.504004374155247,
          10.610005663831604,
          12.055565618711297,
          11.221398587308745,
          10.64209768751223,
          11.647825841976948,
          12.369360598115334,
          11.38779189652721,
          11.504004374155247,
          10.610005663831604,
          12.055565618711297,
          11.221398587308745,
          10.64209768751223,
          11.658147867764232,
          12.3822188254919,
          11.405013210705802,
          11.523399152442353,
          10.61974978957198,
          12.0614072377223,
          11.246099555670785,
          10.661785202834594,
          11.647096280277053,
          12.384401805791391,
          11.412618443989382,
          11.543462091224237,
          10.634754496461511,
          12.073417721867594,
          11.256323190864252,
          10.675628113747385,
          11.647096280277053,
          12.384401805791391,
          11.412618443989382,
          11.543462091224237,
          12.073417721867594,
          10.675628113747385,
          11.658798140643178,
          12.368723749485705,
          11.422509407499756,
          11.556114265704586,
          10.650247250709462,
          12.08746906765054,
          11.270238496862273,
          10.677235245305232,
          11.658798140643178,
          12.368723749485705,
          11.422509407499756,
          11.556114265704586,
          10.650247250709462,
          12.08746906765054,
          11.270238496862273,
          10.677235245305232,
          11.649668728120272,
          12.354125733716039,
          11.429705457627271,
          11.565085955321356,
          10.66830660829246,
          12.0999739842355,
          11.287087018757926,
          10.684512630631943,
          11.649668728120272,
          12.354125733716039,
          11.429705457627271,
          11.565085955321356,
          10.66830660829246,
          12.0999739842355,
          11.287087018757926,
          10.684512630631943,
          11.66110626451335,
          12.3587208179083,
          11.435224640475868,
          11.570915199486205,
          10.682815309640858,
          12.108872709089708,
          11.297891764154654,
          10.695623327479398,
          11.66110626451335,
          12.3587208179083,
          11.435224640475868,
          11.570915199486205,
          10.682815309640858,
          12.108872709089708,
          11.297891764154654,
          10.695623327479398,
          11.650046090510354,
          12.36354805305592,
          11.452361533134575,
          11.582308863164489,
          10.69423370175094,
          12.117446967049373,
          11.314827508809302,
          10.702602875458641,
          11.650046090510354,
          12.36354805305592,
          11.452361533134575,
          11.582308863164489,
          10.69423370175094,
          12.117446967049373,
          11.314827508809302,
          10.702602875458641
         ],
         "y": [
          2000,
          2000,
          2000,
          2000,
          2000,
          2001,
          2001,
          2001,
          2002,
          2001,
          2001,
          2003,
          2002,
          2002,
          2004,
          2002,
          2002,
          2002,
          2005,
          2003,
          2003,
          2006,
          2003,
          2003,
          2003,
          2006,
          2004,
          2004,
          2007,
          2004,
          2004,
          2004,
          2004,
          2004,
          2007,
          2004,
          2005,
          2005,
          2008,
          2005,
          2005,
          2005,
          2005,
          2005,
          2009,
          2005,
          2006,
          2006,
          2010,
          2006,
          2006,
          2006,
          2010,
          2006,
          2006,
          2011,
          2006,
          2006,
          2006,
          2006,
          2006,
          2012,
          2006,
          2007,
          2007,
          2012,
          2007,
          2007,
          2007,
          2007,
          2007,
          2013,
          2007,
          2007,
          2007,
          2013,
          2007,
          2007,
          2007,
          2007,
          2007,
          2014,
          2007,
          2008,
          2008,
          2014,
          2008,
          2008,
          2008,
          2008,
          2008,
          2015,
          2008,
          2009,
          2009,
          2015,
          2009,
          2009,
          2009,
          2009,
          2009,
          2016,
          2009,
          2010,
          2010,
          2016,
          2010,
          2010,
          2010,
          2010,
          2010,
          2010,
          2010,
          2010,
          2010,
          2010,
          2010,
          2010,
          2010,
          2010,
          2011,
          2011,
          2011,
          2011,
          2011,
          2011,
          2011,
          2011,
          2012,
          2012,
          2012,
          2012,
          2012,
          2012,
          2012,
          2012,
          2012,
          2012,
          2012,
          2012,
          2012,
          2012,
          2013,
          2013,
          2013,
          2013,
          2013,
          2013,
          2013,
          2013,
          2013,
          2013,
          2013,
          2013,
          2013,
          2013,
          2013,
          2013,
          2014,
          2014,
          2014,
          2014,
          2014,
          2014,
          2014,
          2014,
          2014,
          2014,
          2014,
          2014,
          2014,
          2014,
          2014,
          2014,
          2015,
          2015,
          2015,
          2015,
          2015,
          2015,
          2015,
          2015,
          2015,
          2015,
          2015,
          2015,
          2015,
          2015,
          2015,
          2015,
          2016,
          2016,
          2016,
          2016,
          2016,
          2016,
          2016,
          2016,
          2016,
          2016,
          2016,
          2016,
          2016,
          2016,
          2016,
          2016
         ],
         "z": [
          2.5,
          2.95,
          2.85,
          2.45,
          2.32,
          3.33,
          2.5,
          1.8,
          3.33,
          2.1,
          2.43,
          3.2,
          0.83,
          1.8,
          3.19,
          2.14,
          2.43,
          2.83,
          3.28,
          2.05,
          1.52,
          3.52,
          1.96,
          2.3,
          2.63,
          3.52,
          2.18,
          1.8,
          3.63,
          2.18,
          2.35,
          2.61,
          2.18,
          3,
          3.88,
          1.03,
          2.38,
          2.95,
          4.09,
          2.53,
          2.79,
          2.38,
          2.8,
          3,
          3.89,
          1.83,
          1.58,
          3.1,
          4.12,
          2.99,
          2.8,
          3.17,
          4.17,
          2.33,
          3.2,
          4.73,
          2.95,
          2.6,
          2.22,
          2.64,
          3.17,
          4.73,
          1.84,
          2.75,
          3.2,
          5.12,
          3.09,
          3.08,
          2.22,
          2.9,
          3.17,
          5.41,
          2.39,
          2.75,
          6.9,
          5.53,
          2.98,
          3.53,
          2.18,
          2.9,
          3.17,
          5.54,
          2.7,
          3.67,
          7.5,
          5.64,
          3.14,
          3.89,
          3.27,
          3.2,
          4.75,
          5.7,
          3.21,
          3.83,
          8.03,
          5.85,
          3.19,
          3.34,
          3.44,
          2.54,
          2.69,
          5.84,
          2.65,
          2.33,
          8.2,
          6,
          3.18,
          3.91,
          3.52,
          2.67,
          4.03,
          3.35,
          4.67,
          8.71,
          3.35,
          4.39,
          3.83,
          2.67,
          5,
          3.76,
          5,
          9.5,
          4,
          4.75,
          4.07,
          2.91,
          5,
          5,
          5,
          10.25,
          4.05,
          4.54,
          4.03,
          2.85,
          5,
          4.74,
          4.75,
          5.04,
          4.16,
          4.77,
          2.85,
          4.71,
          4.75,
          11.25,
          4.35,
          4.85,
          4.4,
          3.08,
          5,
          5.53,
          4.2,
          6,
          3.94,
          4.48,
          4.32,
          3.08,
          5,
          5,
          3.5,
          6.2,
          3.7,
          4.34,
          4.29,
          2.85,
          5,
          5,
          2.62,
          6.5,
          3.72,
          4.66,
          4,
          3.5,
          5,
          5.14,
          3.5,
          6.75,
          3.35,
          3.34,
          4.01,
          3.5,
          3.33,
          4.71,
          3.11,
          4.5,
          3.27,
          2.92,
          4.03,
          3.27,
          3.33,
          4.19,
          2.54,
          3.38,
          2.94,
          2.43,
          4.02,
          2.88,
          3.33,
          3.77,
          3.57,
          5.17,
          3.53,
          3.04,
          4.12,
          2.44,
          3.33,
          4.1
         ]
        },
        {
         "hovertemplate": "class=%{marker.color}<br>GDP_log10=%{x}<br>Year=%{y}<br>dollar_price=%{marker.size}<extra></extra>",
         "legendgroup": "1",
         "marker": {
          "color": [
           1,
           1,
           1,
           1,
           1,
           1,
           1,
           1,
           1,
           1,
           1,
           1,
           1,
           1,
           1,
           1,
           1,
           1,
           1,
           1,
           1,
           1,
           1,
           1,
           1
          ],
          "coloraxis": "coloraxis",
          "size": [
           2.24,
           2.24,
           2.35,
           2.46,
           2.47,
           2.58,
           2.67,
           2.78,
           2.89,
           3,
           3.21,
           3.43,
           3.43,
           3.53,
           3.64,
           3.81,
           3.96,
           4.03,
           4.18,
           4.24,
           4.29,
           4.29,
           4.29,
           4.29,
           4.5
          ],
          "sizemode": "area",
          "sizeref": 0.028125,
          "symbol": "diamond"
         },
         "mode": "markers",
         "name": "1",
         "scene": "scene",
         "showlegend": true,
         "type": "scatter3d",
         "x": [
          13.112883048635458,
          13.125133039916829,
          13.1413274638702,
          13.156321950446713,
          13.168547568872253,
          13.176620775384281,
          13.176027557860133,
          13.176027557860133,
          13.164867160351593,
          13.164867160351593,
          13.17586247037557,
          13.182545891119375,
          13.19220492541459,
          13.19220492541459,
          13.2001333751489,
          13.210652875437406,
          13.210652875437406,
          13.22298944474631,
          13.22298944474631,
          13.229740699690918,
          13.229740699690918,
          13.239264433777802,
          13.239264433777802,
          13.251499516029417,
          13.251499516029417
         ],
         "y": [
          2000,
          2001,
          2002,
          2003,
          2004,
          2005,
          2006,
          2006,
          2007,
          2007,
          2008,
          2009,
          2010,
          2010,
          2011,
          2012,
          2012,
          2013,
          2013,
          2014,
          2014,
          2015,
          2015,
          2016,
          2016
         ],
         "z": [
          2.24,
          2.24,
          2.35,
          2.46,
          2.47,
          2.58,
          2.67,
          2.78,
          2.89,
          3,
          3.21,
          3.43,
          3.43,
          3.53,
          3.64,
          3.81,
          3.96,
          4.03,
          4.18,
          4.24,
          4.29,
          4.29,
          4.29,
          4.29,
          4.5
         ]
        }
       ],
       "layout": {
        "coloraxis": {
         "colorbar": {
          "title": {
           "text": "class"
          }
         },
         "colorscale": [
          [
           0,
           "#0d0887"
          ],
          [
           0.1111111111111111,
           "#46039f"
          ],
          [
           0.2222222222222222,
           "#7201a8"
          ],
          [
           0.3333333333333333,
           "#9c179e"
          ],
          [
           0.4444444444444444,
           "#bd3786"
          ],
          [
           0.5555555555555556,
           "#d8576b"
          ],
          [
           0.6666666666666666,
           "#ed7953"
          ],
          [
           0.7777777777777778,
           "#fb9f3a"
          ],
          [
           0.8888888888888888,
           "#fdca26"
          ],
          [
           1,
           "#f0f921"
          ]
         ]
        },
        "legend": {
         "itemsizing": "constant",
         "title": {
          "text": "class"
         },
         "tracegroupgap": 0,
         "x": 0,
         "y": 1
        },
        "margin": {
         "t": 60
        },
        "scene": {
         "domain": {
          "x": [
           0,
           1
          ],
          "y": [
           0,
           1
          ]
         },
         "xaxis": {
          "title": {
           "text": "GDP_log10"
          }
         },
         "yaxis": {
          "title": {
           "text": "Year"
          }
         },
         "zaxis": {
          "title": {
           "text": "dollar_price"
          }
         }
        },
        "template": {
         "data": {
          "bar": [
           {
            "error_x": {
             "color": "#2a3f5f"
            },
            "error_y": {
             "color": "#2a3f5f"
            },
            "marker": {
             "line": {
              "color": "#E5ECF6",
              "width": 0.5
             },
             "pattern": {
              "fillmode": "overlay",
              "size": 10,
              "solidity": 0.2
             }
            },
            "type": "bar"
           }
          ],
          "barpolar": [
           {
            "marker": {
             "line": {
              "color": "#E5ECF6",
              "width": 0.5
             },
             "pattern": {
              "fillmode": "overlay",
              "size": 10,
              "solidity": 0.2
             }
            },
            "type": "barpolar"
           }
          ],
          "carpet": [
           {
            "aaxis": {
             "endlinecolor": "#2a3f5f",
             "gridcolor": "white",
             "linecolor": "white",
             "minorgridcolor": "white",
             "startlinecolor": "#2a3f5f"
            },
            "baxis": {
             "endlinecolor": "#2a3f5f",
             "gridcolor": "white",
             "linecolor": "white",
             "minorgridcolor": "white",
             "startlinecolor": "#2a3f5f"
            },
            "type": "carpet"
           }
          ],
          "choropleth": [
           {
            "colorbar": {
             "outlinewidth": 0,
             "ticks": ""
            },
            "type": "choropleth"
           }
          ],
          "contour": [
           {
            "colorbar": {
             "outlinewidth": 0,
             "ticks": ""
            },
            "colorscale": [
             [
              0,
              "#0d0887"
             ],
             [
              0.1111111111111111,
              "#46039f"
             ],
             [
              0.2222222222222222,
              "#7201a8"
             ],
             [
              0.3333333333333333,
              "#9c179e"
             ],
             [
              0.4444444444444444,
              "#bd3786"
             ],
             [
              0.5555555555555556,
              "#d8576b"
             ],
             [
              0.6666666666666666,
              "#ed7953"
             ],
             [
              0.7777777777777778,
              "#fb9f3a"
             ],
             [
              0.8888888888888888,
              "#fdca26"
             ],
             [
              1,
              "#f0f921"
             ]
            ],
            "type": "contour"
           }
          ],
          "contourcarpet": [
           {
            "colorbar": {
             "outlinewidth": 0,
             "ticks": ""
            },
            "type": "contourcarpet"
           }
          ],
          "heatmap": [
           {
            "colorbar": {
             "outlinewidth": 0,
             "ticks": ""
            },
            "colorscale": [
             [
              0,
              "#0d0887"
             ],
             [
              0.1111111111111111,
              "#46039f"
             ],
             [
              0.2222222222222222,
              "#7201a8"
             ],
             [
              0.3333333333333333,
              "#9c179e"
             ],
             [
              0.4444444444444444,
              "#bd3786"
             ],
             [
              0.5555555555555556,
              "#d8576b"
             ],
             [
              0.6666666666666666,
              "#ed7953"
             ],
             [
              0.7777777777777778,
              "#fb9f3a"
             ],
             [
              0.8888888888888888,
              "#fdca26"
             ],
             [
              1,
              "#f0f921"
             ]
            ],
            "type": "heatmap"
           }
          ],
          "heatmapgl": [
           {
            "colorbar": {
             "outlinewidth": 0,
             "ticks": ""
            },
            "colorscale": [
             [
              0,
              "#0d0887"
             ],
             [
              0.1111111111111111,
              "#46039f"
             ],
             [
              0.2222222222222222,
              "#7201a8"
             ],
             [
              0.3333333333333333,
              "#9c179e"
             ],
             [
              0.4444444444444444,
              "#bd3786"
             ],
             [
              0.5555555555555556,
              "#d8576b"
             ],
             [
              0.6666666666666666,
              "#ed7953"
             ],
             [
              0.7777777777777778,
              "#fb9f3a"
             ],
             [
              0.8888888888888888,
              "#fdca26"
             ],
             [
              1,
              "#f0f921"
             ]
            ],
            "type": "heatmapgl"
           }
          ],
          "histogram": [
           {
            "marker": {
             "pattern": {
              "fillmode": "overlay",
              "size": 10,
              "solidity": 0.2
             }
            },
            "type": "histogram"
           }
          ],
          "histogram2d": [
           {
            "colorbar": {
             "outlinewidth": 0,
             "ticks": ""
            },
            "colorscale": [
             [
              0,
              "#0d0887"
             ],
             [
              0.1111111111111111,
              "#46039f"
             ],
             [
              0.2222222222222222,
              "#7201a8"
             ],
             [
              0.3333333333333333,
              "#9c179e"
             ],
             [
              0.4444444444444444,
              "#bd3786"
             ],
             [
              0.5555555555555556,
              "#d8576b"
             ],
             [
              0.6666666666666666,
              "#ed7953"
             ],
             [
              0.7777777777777778,
              "#fb9f3a"
             ],
             [
              0.8888888888888888,
              "#fdca26"
             ],
             [
              1,
              "#f0f921"
             ]
            ],
            "type": "histogram2d"
           }
          ],
          "histogram2dcontour": [
           {
            "colorbar": {
             "outlinewidth": 0,
             "ticks": ""
            },
            "colorscale": [
             [
              0,
              "#0d0887"
             ],
             [
              0.1111111111111111,
              "#46039f"
             ],
             [
              0.2222222222222222,
              "#7201a8"
             ],
             [
              0.3333333333333333,
              "#9c179e"
             ],
             [
              0.4444444444444444,
              "#bd3786"
             ],
             [
              0.5555555555555556,
              "#d8576b"
             ],
             [
              0.6666666666666666,
              "#ed7953"
             ],
             [
              0.7777777777777778,
              "#fb9f3a"
             ],
             [
              0.8888888888888888,
              "#fdca26"
             ],
             [
              1,
              "#f0f921"
             ]
            ],
            "type": "histogram2dcontour"
           }
          ],
          "mesh3d": [
           {
            "colorbar": {
             "outlinewidth": 0,
             "ticks": ""
            },
            "type": "mesh3d"
           }
          ],
          "parcoords": [
           {
            "line": {
             "colorbar": {
              "outlinewidth": 0,
              "ticks": ""
             }
            },
            "type": "parcoords"
           }
          ],
          "pie": [
           {
            "automargin": true,
            "type": "pie"
           }
          ],
          "scatter": [
           {
            "marker": {
             "colorbar": {
              "outlinewidth": 0,
              "ticks": ""
             }
            },
            "type": "scatter"
           }
          ],
          "scatter3d": [
           {
            "line": {
             "colorbar": {
              "outlinewidth": 0,
              "ticks": ""
             }
            },
            "marker": {
             "colorbar": {
              "outlinewidth": 0,
              "ticks": ""
             }
            },
            "type": "scatter3d"
           }
          ],
          "scattercarpet": [
           {
            "marker": {
             "colorbar": {
              "outlinewidth": 0,
              "ticks": ""
             }
            },
            "type": "scattercarpet"
           }
          ],
          "scattergeo": [
           {
            "marker": {
             "colorbar": {
              "outlinewidth": 0,
              "ticks": ""
             }
            },
            "type": "scattergeo"
           }
          ],
          "scattergl": [
           {
            "marker": {
             "colorbar": {
              "outlinewidth": 0,
              "ticks": ""
             }
            },
            "type": "scattergl"
           }
          ],
          "scattermapbox": [
           {
            "marker": {
             "colorbar": {
              "outlinewidth": 0,
              "ticks": ""
             }
            },
            "type": "scattermapbox"
           }
          ],
          "scatterpolar": [
           {
            "marker": {
             "colorbar": {
              "outlinewidth": 0,
              "ticks": ""
             }
            },
            "type": "scatterpolar"
           }
          ],
          "scatterpolargl": [
           {
            "marker": {
             "colorbar": {
              "outlinewidth": 0,
              "ticks": ""
             }
            },
            "type": "scatterpolargl"
           }
          ],
          "scatterternary": [
           {
            "marker": {
             "colorbar": {
              "outlinewidth": 0,
              "ticks": ""
             }
            },
            "type": "scatterternary"
           }
          ],
          "surface": [
           {
            "colorbar": {
             "outlinewidth": 0,
             "ticks": ""
            },
            "colorscale": [
             [
              0,
              "#0d0887"
             ],
             [
              0.1111111111111111,
              "#46039f"
             ],
             [
              0.2222222222222222,
              "#7201a8"
             ],
             [
              0.3333333333333333,
              "#9c179e"
             ],
             [
              0.4444444444444444,
              "#bd3786"
             ],
             [
              0.5555555555555556,
              "#d8576b"
             ],
             [
              0.6666666666666666,
              "#ed7953"
             ],
             [
              0.7777777777777778,
              "#fb9f3a"
             ],
             [
              0.8888888888888888,
              "#fdca26"
             ],
             [
              1,
              "#f0f921"
             ]
            ],
            "type": "surface"
           }
          ],
          "table": [
           {
            "cells": {
             "fill": {
              "color": "#EBF0F8"
             },
             "line": {
              "color": "white"
             }
            },
            "header": {
             "fill": {
              "color": "#C8D4E3"
             },
             "line": {
              "color": "white"
             }
            },
            "type": "table"
           }
          ]
         },
         "layout": {
          "annotationdefaults": {
           "arrowcolor": "#2a3f5f",
           "arrowhead": 0,
           "arrowwidth": 1
          },
          "autotypenumbers": "strict",
          "coloraxis": {
           "colorbar": {
            "outlinewidth": 0,
            "ticks": ""
           }
          },
          "colorscale": {
           "diverging": [
            [
             0,
             "#8e0152"
            ],
            [
             0.1,
             "#c51b7d"
            ],
            [
             0.2,
             "#de77ae"
            ],
            [
             0.3,
             "#f1b6da"
            ],
            [
             0.4,
             "#fde0ef"
            ],
            [
             0.5,
             "#f7f7f7"
            ],
            [
             0.6,
             "#e6f5d0"
            ],
            [
             0.7,
             "#b8e186"
            ],
            [
             0.8,
             "#7fbc41"
            ],
            [
             0.9,
             "#4d9221"
            ],
            [
             1,
             "#276419"
            ]
           ],
           "sequential": [
            [
             0,
             "#0d0887"
            ],
            [
             0.1111111111111111,
             "#46039f"
            ],
            [
             0.2222222222222222,
             "#7201a8"
            ],
            [
             0.3333333333333333,
             "#9c179e"
            ],
            [
             0.4444444444444444,
             "#bd3786"
            ],
            [
             0.5555555555555556,
             "#d8576b"
            ],
            [
             0.6666666666666666,
             "#ed7953"
            ],
            [
             0.7777777777777778,
             "#fb9f3a"
            ],
            [
             0.8888888888888888,
             "#fdca26"
            ],
            [
             1,
             "#f0f921"
            ]
           ],
           "sequentialminus": [
            [
             0,
             "#0d0887"
            ],
            [
             0.1111111111111111,
             "#46039f"
            ],
            [
             0.2222222222222222,
             "#7201a8"
            ],
            [
             0.3333333333333333,
             "#9c179e"
            ],
            [
             0.4444444444444444,
             "#bd3786"
            ],
            [
             0.5555555555555556,
             "#d8576b"
            ],
            [
             0.6666666666666666,
             "#ed7953"
            ],
            [
             0.7777777777777778,
             "#fb9f3a"
            ],
            [
             0.8888888888888888,
             "#fdca26"
            ],
            [
             1,
             "#f0f921"
            ]
           ]
          },
          "colorway": [
           "#636efa",
           "#EF553B",
           "#00cc96",
           "#ab63fa",
           "#FFA15A",
           "#19d3f3",
           "#FF6692",
           "#B6E880",
           "#FF97FF",
           "#FECB52"
          ],
          "font": {
           "color": "#2a3f5f"
          },
          "geo": {
           "bgcolor": "white",
           "lakecolor": "white",
           "landcolor": "#E5ECF6",
           "showlakes": true,
           "showland": true,
           "subunitcolor": "white"
          },
          "hoverlabel": {
           "align": "left"
          },
          "hovermode": "closest",
          "mapbox": {
           "style": "light"
          },
          "paper_bgcolor": "white",
          "plot_bgcolor": "#E5ECF6",
          "polar": {
           "angularaxis": {
            "gridcolor": "white",
            "linecolor": "white",
            "ticks": ""
           },
           "bgcolor": "#E5ECF6",
           "radialaxis": {
            "gridcolor": "white",
            "linecolor": "white",
            "ticks": ""
           }
          },
          "scene": {
           "xaxis": {
            "backgroundcolor": "#E5ECF6",
            "gridcolor": "white",
            "gridwidth": 2,
            "linecolor": "white",
            "showbackground": true,
            "ticks": "",
            "zerolinecolor": "white"
           },
           "yaxis": {
            "backgroundcolor": "#E5ECF6",
            "gridcolor": "white",
            "gridwidth": 2,
            "linecolor": "white",
            "showbackground": true,
            "ticks": "",
            "zerolinecolor": "white"
           },
           "zaxis": {
            "backgroundcolor": "#E5ECF6",
            "gridcolor": "white",
            "gridwidth": 2,
            "linecolor": "white",
            "showbackground": true,
            "ticks": "",
            "zerolinecolor": "white"
           }
          },
          "shapedefaults": {
           "line": {
            "color": "#2a3f5f"
           }
          },
          "ternary": {
           "aaxis": {
            "gridcolor": "white",
            "linecolor": "white",
            "ticks": ""
           },
           "baxis": {
            "gridcolor": "white",
            "linecolor": "white",
            "ticks": ""
           },
           "bgcolor": "#E5ECF6",
           "caxis": {
            "gridcolor": "white",
            "linecolor": "white",
            "ticks": ""
           }
          },
          "title": {
           "x": 0.05
          },
          "xaxis": {
           "automargin": true,
           "gridcolor": "white",
           "linecolor": "white",
           "ticks": "",
           "title": {
            "standoff": 15
           },
           "zerolinecolor": "white",
           "zerolinewidth": 2
          },
          "yaxis": {
           "automargin": true,
           "gridcolor": "white",
           "linecolor": "white",
           "ticks": "",
           "title": {
            "standoff": 15
           },
           "zerolinecolor": "white",
           "zerolinewidth": 2
          }
         }
        },
        "width": 800
       }
      },
      "text/html": [
       "<div>                            <div id=\"49833088-c16c-410f-b04e-bce76f716dd4\" class=\"plotly-graph-div\" style=\"height:525px; width:800px;\"></div>            <script type=\"text/javascript\">                require([\"plotly\"], function(Plotly) {                    window.PLOTLYENV=window.PLOTLYENV || {};                                    if (document.getElementById(\"49833088-c16c-410f-b04e-bce76f716dd4\")) {                    Plotly.newPlot(                        \"49833088-c16c-410f-b04e-bce76f716dd4\",                        [{\"hovertemplate\":\"class=%{marker.color}<br>GDP_log10=%{x}<br>Year=%{y}<br>dollar_price=%{marker.size}<extra></extra>\",\"legendgroup\":\"0\",\"marker\":{\"color\":[0,0,0,0,0,0,0,0,0,0,0,0,0,0,0,0,0,0,0,0,0,0,0,0,0,0,0,0,0,0,0,0,0,0,0,0,0,0,0,0,0,0,0,0,0,0,0,0,0,0,0,0,0,0,0,0,0,0,0,0,0,0,0,0,0,0,0,0,0,0,0,0,0,0,0,0,0,0,0,0,0,0,0,0,0,0,0,0,0,0,0,0,0,0,0,0,0,0,0,0,0,0,0,0,0,0,0,0,0,0,0,0,0,0,0,0,0,0,0,0,0,0,0,0,0,0,0,0,0,0,0,0,0,0,0,0,0,0,0,0,0,0,0,0,0,0,0,0,0,0,0,0,0,0,0,0,0,0,0,0,0,0,0,0,0,0,0,0,0,0,0,0,0,0,0,0,0,0,0,0,0,0,0,0,0,0,0,0,0,0,0,0,0,0,0,0,0,0,0,0,0,0,0,0,0,0],\"coloraxis\":\"coloraxis\",\"size\":[2.5,2.95,2.85,2.45,2.32,3.33,2.5,1.8,3.33,2.1,2.43,3.2,0.83,1.8,3.19,2.14,2.43,2.83,3.28,2.05,1.52,3.52,1.96,2.3,2.63,3.52,2.18,1.8,3.63,2.18,2.35,2.61,2.18,3.0,3.88,1.03,2.38,2.95,4.09,2.53,2.79,2.38,2.8,3.0,3.89,1.83,1.58,3.1,4.12,2.99,2.8,3.17,4.17,2.33,3.2,4.73,2.95,2.6,2.22,2.64,3.17,4.73,1.84,2.75,3.2,5.12,3.09,3.08,2.22,2.9,3.17,5.41,2.39,2.75,6.9,5.53,2.98,3.53,2.18,2.9,3.17,5.54,2.7,3.67,7.5,5.64,3.14,3.89,3.27,3.2,4.75,5.7,3.21,3.83,8.03,5.85,3.19,3.34,3.44,2.54,2.69,5.84,2.65,2.33,8.2,6.0,3.18,3.91,3.52,2.67,4.03,3.35,4.67,8.71,3.35,4.39,3.83,2.67,5.0,3.76,5.0,9.5,4.0,4.75,4.07,2.91,5.0,5.0,5.0,10.25,4.05,4.54,4.03,2.85,5.0,4.74,4.75,5.04,4.16,4.77,2.85,4.71,4.75,11.25,4.35,4.85,4.4,3.08,5.0,5.53,4.2,6.0,3.94,4.48,4.32,3.08,5.0,5.0,3.5,6.2,3.7,4.34,4.29,2.85,5.0,5.0,2.62,6.5,3.72,4.66,4.0,3.5,5.0,5.14,3.5,6.75,3.35,3.34,4.01,3.5,3.33,4.71,3.11,4.5,3.27,2.92,4.03,3.27,3.33,4.19,2.54,3.38,2.94,2.43,4.02,2.88,3.33,3.77,3.57,5.17,3.53,3.04,4.12,2.44,3.33,4.1],\"sizemode\":\"area\",\"sizeref\":0.028125,\"symbol\":\"circle\"},\"mode\":\"markers\",\"name\":\"0\",\"scene\":\"scene\",\"showlegend\":true,\"x\":[11.412094140694933,12.206213115708598,12.148266316515395,11.187343018561377,11.959590832796005,12.156018830921651,11.4488701154014,12.211139237420024,12.169224627077039,11.204757384698596,11.965827518549071,12.182916568785958,11.486414892149611,12.235460267422326,12.194208979646682,11.234990295456319,11.982529018865602,10.997954143027906,12.203119954874245,11.523249474489033,12.249149420044517,12.207472789481013,11.259240183834748,11.992437749449032,11.024428195817706,12.207472789481013,11.556863102495688,12.266024616372095,12.194567064529759,11.28584524303856,11.390148781677974,10.500752789079453,12.011532383016828,11.05595140532915,12.194567064529759,10.496839340742994,11.594320714558501,12.291615236005704,12.20777973612601,11.30664158462451,11.418917485831926,10.534851171905254,12.021371251017943,11.091455913055093,12.221236832094737,10.524358191893988,11.611592681466488,12.31319417513532,12.228823666458899,11.32170611054876,12.026312588504672,11.12938694025794,12.228823666458899,11.611592681466488,12.31319417513532,12.238826128136264,11.32170611054876,11.43283786085072,10.554588737254456,12.026312588504672,11.12938694025794,12.251109933426724,10.554456322453197,11.585096220432902,12.312646953219183,12.251109933426724,11.314859061201037,11.43804052399445,10.550353111681984,12.00272747268983,11.134119708037254,12.254095904857678,10.57250528268276,11.585096220432902,12.312646953219183,12.254095904857678,11.314859061201037,11.43804052399445,10.550353111681984,12.00272747268983,11.134119708037254,12.258876629372132,10.57250528268276,11.626983632212891,12.34417015682028,12.258876629372132,11.339526964214535,11.456523929688464,10.571343267322925,12.024403562682966,11.16887739863303,12.271623243192991,10.605137779867261,11.652306306257216,12.361096706534518,12.271623243192991,11.365285766249952,11.48737596999458,10.589657145321672,12.04002843923198,11.195520516621967,12.2797057186105,10.626997166281603,11.647825841976948,12.369360598115334,12.2797057186105,11.38779189652721,11.504004374155247,10.610005663831604,12.055565618711297,11.221398587308745,10.64209768751223,11.647825841976948,12.369360598115334,11.38779189652721,11.504004374155247,10.610005663831604,12.055565618711297,11.221398587308745,10.64209768751223,11.658147867764232,12.3822188254919,11.405013210705802,11.523399152442353,10.61974978957198,12.0614072377223,11.246099555670785,10.661785202834594,11.647096280277053,12.384401805791391,11.412618443989382,11.543462091224237,10.634754496461511,12.073417721867594,11.256323190864252,10.675628113747385,11.647096280277053,12.384401805791391,11.412618443989382,11.543462091224237,12.073417721867594,10.675628113747385,11.658798140643178,12.368723749485705,11.422509407499756,11.556114265704586,10.650247250709462,12.08746906765054,11.270238496862273,10.677235245305232,11.658798140643178,12.368723749485705,11.422509407499756,11.556114265704586,10.650247250709462,12.08746906765054,11.270238496862273,10.677235245305232,11.649668728120272,12.354125733716039,11.429705457627271,11.565085955321356,10.66830660829246,12.0999739842355,11.287087018757926,10.684512630631943,11.649668728120272,12.354125733716039,11.429705457627271,11.565085955321356,10.66830660829246,12.0999739842355,11.287087018757926,10.684512630631943,11.66110626451335,12.3587208179083,11.435224640475868,11.570915199486205,10.682815309640858,12.108872709089708,11.297891764154654,10.695623327479398,11.66110626451335,12.3587208179083,11.435224640475868,11.570915199486205,10.682815309640858,12.108872709089708,11.297891764154654,10.695623327479398,11.650046090510354,12.36354805305592,11.452361533134575,11.582308863164489,10.69423370175094,12.117446967049373,11.314827508809302,10.702602875458641,11.650046090510354,12.36354805305592,11.452361533134575,11.582308863164489,10.69423370175094,12.117446967049373,11.314827508809302,10.702602875458641],\"y\":[2000,2000,2000,2000,2000,2001,2001,2001,2002,2001,2001,2003,2002,2002,2004,2002,2002,2002,2005,2003,2003,2006,2003,2003,2003,2006,2004,2004,2007,2004,2004,2004,2004,2004,2007,2004,2005,2005,2008,2005,2005,2005,2005,2005,2009,2005,2006,2006,2010,2006,2006,2006,2010,2006,2006,2011,2006,2006,2006,2006,2006,2012,2006,2007,2007,2012,2007,2007,2007,2007,2007,2013,2007,2007,2007,2013,2007,2007,2007,2007,2007,2014,2007,2008,2008,2014,2008,2008,2008,2008,2008,2015,2008,2009,2009,2015,2009,2009,2009,2009,2009,2016,2009,2010,2010,2016,2010,2010,2010,2010,2010,2010,2010,2010,2010,2010,2010,2010,2010,2010,2011,2011,2011,2011,2011,2011,2011,2011,2012,2012,2012,2012,2012,2012,2012,2012,2012,2012,2012,2012,2012,2012,2013,2013,2013,2013,2013,2013,2013,2013,2013,2013,2013,2013,2013,2013,2013,2013,2014,2014,2014,2014,2014,2014,2014,2014,2014,2014,2014,2014,2014,2014,2014,2014,2015,2015,2015,2015,2015,2015,2015,2015,2015,2015,2015,2015,2015,2015,2015,2015,2016,2016,2016,2016,2016,2016,2016,2016,2016,2016,2016,2016,2016,2016,2016,2016],\"z\":[2.5,2.95,2.85,2.45,2.32,3.33,2.5,1.8,3.33,2.1,2.43,3.2,0.83,1.8,3.19,2.14,2.43,2.83,3.28,2.05,1.52,3.52,1.96,2.3,2.63,3.52,2.18,1.8,3.63,2.18,2.35,2.61,2.18,3.0,3.88,1.03,2.38,2.95,4.09,2.53,2.79,2.38,2.8,3.0,3.89,1.83,1.58,3.1,4.12,2.99,2.8,3.17,4.17,2.33,3.2,4.73,2.95,2.6,2.22,2.64,3.17,4.73,1.84,2.75,3.2,5.12,3.09,3.08,2.22,2.9,3.17,5.41,2.39,2.75,6.9,5.53,2.98,3.53,2.18,2.9,3.17,5.54,2.7,3.67,7.5,5.64,3.14,3.89,3.27,3.2,4.75,5.7,3.21,3.83,8.03,5.85,3.19,3.34,3.44,2.54,2.69,5.84,2.65,2.33,8.2,6.0,3.18,3.91,3.52,2.67,4.03,3.35,4.67,8.71,3.35,4.39,3.83,2.67,5.0,3.76,5.0,9.5,4.0,4.75,4.07,2.91,5.0,5.0,5.0,10.25,4.05,4.54,4.03,2.85,5.0,4.74,4.75,5.04,4.16,4.77,2.85,4.71,4.75,11.25,4.35,4.85,4.4,3.08,5.0,5.53,4.2,6.0,3.94,4.48,4.32,3.08,5.0,5.0,3.5,6.2,3.7,4.34,4.29,2.85,5.0,5.0,2.62,6.5,3.72,4.66,4.0,3.5,5.0,5.14,3.5,6.75,3.35,3.34,4.01,3.5,3.33,4.71,3.11,4.5,3.27,2.92,4.03,3.27,3.33,4.19,2.54,3.38,2.94,2.43,4.02,2.88,3.33,3.77,3.57,5.17,3.53,3.04,4.12,2.44,3.33,4.1],\"type\":\"scatter3d\"},{\"hovertemplate\":\"class=%{marker.color}<br>GDP_log10=%{x}<br>Year=%{y}<br>dollar_price=%{marker.size}<extra></extra>\",\"legendgroup\":\"1\",\"marker\":{\"color\":[1,1,1,1,1,1,1,1,1,1,1,1,1,1,1,1,1,1,1,1,1,1,1,1,1],\"coloraxis\":\"coloraxis\",\"size\":[2.24,2.24,2.35,2.46,2.47,2.58,2.67,2.78,2.89,3.0,3.21,3.43,3.43,3.53,3.64,3.81,3.96,4.03,4.18,4.24,4.29,4.29,4.29,4.29,4.5],\"sizemode\":\"area\",\"sizeref\":0.028125,\"symbol\":\"diamond\"},\"mode\":\"markers\",\"name\":\"1\",\"scene\":\"scene\",\"showlegend\":true,\"x\":[13.112883048635458,13.125133039916829,13.1413274638702,13.156321950446713,13.168547568872253,13.176620775384281,13.176027557860133,13.176027557860133,13.164867160351593,13.164867160351593,13.17586247037557,13.182545891119375,13.19220492541459,13.19220492541459,13.2001333751489,13.210652875437406,13.210652875437406,13.22298944474631,13.22298944474631,13.229740699690918,13.229740699690918,13.239264433777802,13.239264433777802,13.251499516029417,13.251499516029417],\"y\":[2000,2001,2002,2003,2004,2005,2006,2006,2007,2007,2008,2009,2010,2010,2011,2012,2012,2013,2013,2014,2014,2015,2015,2016,2016],\"z\":[2.24,2.24,2.35,2.46,2.47,2.58,2.67,2.78,2.89,3.0,3.21,3.43,3.43,3.53,3.64,3.81,3.96,4.03,4.18,4.24,4.29,4.29,4.29,4.29,4.5],\"type\":\"scatter3d\"}],                        {\"template\":{\"data\":{\"bar\":[{\"error_x\":{\"color\":\"#2a3f5f\"},\"error_y\":{\"color\":\"#2a3f5f\"},\"marker\":{\"line\":{\"color\":\"#E5ECF6\",\"width\":0.5},\"pattern\":{\"fillmode\":\"overlay\",\"size\":10,\"solidity\":0.2}},\"type\":\"bar\"}],\"barpolar\":[{\"marker\":{\"line\":{\"color\":\"#E5ECF6\",\"width\":0.5},\"pattern\":{\"fillmode\":\"overlay\",\"size\":10,\"solidity\":0.2}},\"type\":\"barpolar\"}],\"carpet\":[{\"aaxis\":{\"endlinecolor\":\"#2a3f5f\",\"gridcolor\":\"white\",\"linecolor\":\"white\",\"minorgridcolor\":\"white\",\"startlinecolor\":\"#2a3f5f\"},\"baxis\":{\"endlinecolor\":\"#2a3f5f\",\"gridcolor\":\"white\",\"linecolor\":\"white\",\"minorgridcolor\":\"white\",\"startlinecolor\":\"#2a3f5f\"},\"type\":\"carpet\"}],\"choropleth\":[{\"colorbar\":{\"outlinewidth\":0,\"ticks\":\"\"},\"type\":\"choropleth\"}],\"contour\":[{\"colorbar\":{\"outlinewidth\":0,\"ticks\":\"\"},\"colorscale\":[[0.0,\"#0d0887\"],[0.1111111111111111,\"#46039f\"],[0.2222222222222222,\"#7201a8\"],[0.3333333333333333,\"#9c179e\"],[0.4444444444444444,\"#bd3786\"],[0.5555555555555556,\"#d8576b\"],[0.6666666666666666,\"#ed7953\"],[0.7777777777777778,\"#fb9f3a\"],[0.8888888888888888,\"#fdca26\"],[1.0,\"#f0f921\"]],\"type\":\"contour\"}],\"contourcarpet\":[{\"colorbar\":{\"outlinewidth\":0,\"ticks\":\"\"},\"type\":\"contourcarpet\"}],\"heatmap\":[{\"colorbar\":{\"outlinewidth\":0,\"ticks\":\"\"},\"colorscale\":[[0.0,\"#0d0887\"],[0.1111111111111111,\"#46039f\"],[0.2222222222222222,\"#7201a8\"],[0.3333333333333333,\"#9c179e\"],[0.4444444444444444,\"#bd3786\"],[0.5555555555555556,\"#d8576b\"],[0.6666666666666666,\"#ed7953\"],[0.7777777777777778,\"#fb9f3a\"],[0.8888888888888888,\"#fdca26\"],[1.0,\"#f0f921\"]],\"type\":\"heatmap\"}],\"heatmapgl\":[{\"colorbar\":{\"outlinewidth\":0,\"ticks\":\"\"},\"colorscale\":[[0.0,\"#0d0887\"],[0.1111111111111111,\"#46039f\"],[0.2222222222222222,\"#7201a8\"],[0.3333333333333333,\"#9c179e\"],[0.4444444444444444,\"#bd3786\"],[0.5555555555555556,\"#d8576b\"],[0.6666666666666666,\"#ed7953\"],[0.7777777777777778,\"#fb9f3a\"],[0.8888888888888888,\"#fdca26\"],[1.0,\"#f0f921\"]],\"type\":\"heatmapgl\"}],\"histogram\":[{\"marker\":{\"pattern\":{\"fillmode\":\"overlay\",\"size\":10,\"solidity\":0.2}},\"type\":\"histogram\"}],\"histogram2d\":[{\"colorbar\":{\"outlinewidth\":0,\"ticks\":\"\"},\"colorscale\":[[0.0,\"#0d0887\"],[0.1111111111111111,\"#46039f\"],[0.2222222222222222,\"#7201a8\"],[0.3333333333333333,\"#9c179e\"],[0.4444444444444444,\"#bd3786\"],[0.5555555555555556,\"#d8576b\"],[0.6666666666666666,\"#ed7953\"],[0.7777777777777778,\"#fb9f3a\"],[0.8888888888888888,\"#fdca26\"],[1.0,\"#f0f921\"]],\"type\":\"histogram2d\"}],\"histogram2dcontour\":[{\"colorbar\":{\"outlinewidth\":0,\"ticks\":\"\"},\"colorscale\":[[0.0,\"#0d0887\"],[0.1111111111111111,\"#46039f\"],[0.2222222222222222,\"#7201a8\"],[0.3333333333333333,\"#9c179e\"],[0.4444444444444444,\"#bd3786\"],[0.5555555555555556,\"#d8576b\"],[0.6666666666666666,\"#ed7953\"],[0.7777777777777778,\"#fb9f3a\"],[0.8888888888888888,\"#fdca26\"],[1.0,\"#f0f921\"]],\"type\":\"histogram2dcontour\"}],\"mesh3d\":[{\"colorbar\":{\"outlinewidth\":0,\"ticks\":\"\"},\"type\":\"mesh3d\"}],\"parcoords\":[{\"line\":{\"colorbar\":{\"outlinewidth\":0,\"ticks\":\"\"}},\"type\":\"parcoords\"}],\"pie\":[{\"automargin\":true,\"type\":\"pie\"}],\"scatter\":[{\"marker\":{\"colorbar\":{\"outlinewidth\":0,\"ticks\":\"\"}},\"type\":\"scatter\"}],\"scatter3d\":[{\"line\":{\"colorbar\":{\"outlinewidth\":0,\"ticks\":\"\"}},\"marker\":{\"colorbar\":{\"outlinewidth\":0,\"ticks\":\"\"}},\"type\":\"scatter3d\"}],\"scattercarpet\":[{\"marker\":{\"colorbar\":{\"outlinewidth\":0,\"ticks\":\"\"}},\"type\":\"scattercarpet\"}],\"scattergeo\":[{\"marker\":{\"colorbar\":{\"outlinewidth\":0,\"ticks\":\"\"}},\"type\":\"scattergeo\"}],\"scattergl\":[{\"marker\":{\"colorbar\":{\"outlinewidth\":0,\"ticks\":\"\"}},\"type\":\"scattergl\"}],\"scattermapbox\":[{\"marker\":{\"colorbar\":{\"outlinewidth\":0,\"ticks\":\"\"}},\"type\":\"scattermapbox\"}],\"scatterpolar\":[{\"marker\":{\"colorbar\":{\"outlinewidth\":0,\"ticks\":\"\"}},\"type\":\"scatterpolar\"}],\"scatterpolargl\":[{\"marker\":{\"colorbar\":{\"outlinewidth\":0,\"ticks\":\"\"}},\"type\":\"scatterpolargl\"}],\"scatterternary\":[{\"marker\":{\"colorbar\":{\"outlinewidth\":0,\"ticks\":\"\"}},\"type\":\"scatterternary\"}],\"surface\":[{\"colorbar\":{\"outlinewidth\":0,\"ticks\":\"\"},\"colorscale\":[[0.0,\"#0d0887\"],[0.1111111111111111,\"#46039f\"],[0.2222222222222222,\"#7201a8\"],[0.3333333333333333,\"#9c179e\"],[0.4444444444444444,\"#bd3786\"],[0.5555555555555556,\"#d8576b\"],[0.6666666666666666,\"#ed7953\"],[0.7777777777777778,\"#fb9f3a\"],[0.8888888888888888,\"#fdca26\"],[1.0,\"#f0f921\"]],\"type\":\"surface\"}],\"table\":[{\"cells\":{\"fill\":{\"color\":\"#EBF0F8\"},\"line\":{\"color\":\"white\"}},\"header\":{\"fill\":{\"color\":\"#C8D4E3\"},\"line\":{\"color\":\"white\"}},\"type\":\"table\"}]},\"layout\":{\"annotationdefaults\":{\"arrowcolor\":\"#2a3f5f\",\"arrowhead\":0,\"arrowwidth\":1},\"autotypenumbers\":\"strict\",\"coloraxis\":{\"colorbar\":{\"outlinewidth\":0,\"ticks\":\"\"}},\"colorscale\":{\"diverging\":[[0,\"#8e0152\"],[0.1,\"#c51b7d\"],[0.2,\"#de77ae\"],[0.3,\"#f1b6da\"],[0.4,\"#fde0ef\"],[0.5,\"#f7f7f7\"],[0.6,\"#e6f5d0\"],[0.7,\"#b8e186\"],[0.8,\"#7fbc41\"],[0.9,\"#4d9221\"],[1,\"#276419\"]],\"sequential\":[[0.0,\"#0d0887\"],[0.1111111111111111,\"#46039f\"],[0.2222222222222222,\"#7201a8\"],[0.3333333333333333,\"#9c179e\"],[0.4444444444444444,\"#bd3786\"],[0.5555555555555556,\"#d8576b\"],[0.6666666666666666,\"#ed7953\"],[0.7777777777777778,\"#fb9f3a\"],[0.8888888888888888,\"#fdca26\"],[1.0,\"#f0f921\"]],\"sequentialminus\":[[0.0,\"#0d0887\"],[0.1111111111111111,\"#46039f\"],[0.2222222222222222,\"#7201a8\"],[0.3333333333333333,\"#9c179e\"],[0.4444444444444444,\"#bd3786\"],[0.5555555555555556,\"#d8576b\"],[0.6666666666666666,\"#ed7953\"],[0.7777777777777778,\"#fb9f3a\"],[0.8888888888888888,\"#fdca26\"],[1.0,\"#f0f921\"]]},\"colorway\":[\"#636efa\",\"#EF553B\",\"#00cc96\",\"#ab63fa\",\"#FFA15A\",\"#19d3f3\",\"#FF6692\",\"#B6E880\",\"#FF97FF\",\"#FECB52\"],\"font\":{\"color\":\"#2a3f5f\"},\"geo\":{\"bgcolor\":\"white\",\"lakecolor\":\"white\",\"landcolor\":\"#E5ECF6\",\"showlakes\":true,\"showland\":true,\"subunitcolor\":\"white\"},\"hoverlabel\":{\"align\":\"left\"},\"hovermode\":\"closest\",\"mapbox\":{\"style\":\"light\"},\"paper_bgcolor\":\"white\",\"plot_bgcolor\":\"#E5ECF6\",\"polar\":{\"angularaxis\":{\"gridcolor\":\"white\",\"linecolor\":\"white\",\"ticks\":\"\"},\"bgcolor\":\"#E5ECF6\",\"radialaxis\":{\"gridcolor\":\"white\",\"linecolor\":\"white\",\"ticks\":\"\"}},\"scene\":{\"xaxis\":{\"backgroundcolor\":\"#E5ECF6\",\"gridcolor\":\"white\",\"gridwidth\":2,\"linecolor\":\"white\",\"showbackground\":true,\"ticks\":\"\",\"zerolinecolor\":\"white\"},\"yaxis\":{\"backgroundcolor\":\"#E5ECF6\",\"gridcolor\":\"white\",\"gridwidth\":2,\"linecolor\":\"white\",\"showbackground\":true,\"ticks\":\"\",\"zerolinecolor\":\"white\"},\"zaxis\":{\"backgroundcolor\":\"#E5ECF6\",\"gridcolor\":\"white\",\"gridwidth\":2,\"linecolor\":\"white\",\"showbackground\":true,\"ticks\":\"\",\"zerolinecolor\":\"white\"}},\"shapedefaults\":{\"line\":{\"color\":\"#2a3f5f\"}},\"ternary\":{\"aaxis\":{\"gridcolor\":\"white\",\"linecolor\":\"white\",\"ticks\":\"\"},\"baxis\":{\"gridcolor\":\"white\",\"linecolor\":\"white\",\"ticks\":\"\"},\"bgcolor\":\"#E5ECF6\",\"caxis\":{\"gridcolor\":\"white\",\"linecolor\":\"white\",\"ticks\":\"\"}},\"title\":{\"x\":0.05},\"xaxis\":{\"automargin\":true,\"gridcolor\":\"white\",\"linecolor\":\"white\",\"ticks\":\"\",\"title\":{\"standoff\":15},\"zerolinecolor\":\"white\",\"zerolinewidth\":2},\"yaxis\":{\"automargin\":true,\"gridcolor\":\"white\",\"linecolor\":\"white\",\"ticks\":\"\",\"title\":{\"standoff\":15},\"zerolinecolor\":\"white\",\"zerolinewidth\":2}}},\"scene\":{\"domain\":{\"x\":[0.0,1.0],\"y\":[0.0,1.0]},\"xaxis\":{\"title\":{\"text\":\"GDP_log10\"}},\"yaxis\":{\"title\":{\"text\":\"Year\"}},\"zaxis\":{\"title\":{\"text\":\"dollar_price\"}}},\"coloraxis\":{\"colorbar\":{\"title\":{\"text\":\"class\"}},\"colorscale\":[[0.0,\"#0d0887\"],[0.1111111111111111,\"#46039f\"],[0.2222222222222222,\"#7201a8\"],[0.3333333333333333,\"#9c179e\"],[0.4444444444444444,\"#bd3786\"],[0.5555555555555556,\"#d8576b\"],[0.6666666666666666,\"#ed7953\"],[0.7777777777777778,\"#fb9f3a\"],[0.8888888888888888,\"#fdca26\"],[1.0,\"#f0f921\"]]},\"legend\":{\"title\":{\"text\":\"class\"},\"tracegroupgap\":0,\"itemsizing\":\"constant\",\"x\":0,\"y\":1},\"margin\":{\"t\":60},\"width\":800},                        {\"responsive\": true}                    ).then(function(){\n",
       "                            \n",
       "var gd = document.getElementById('49833088-c16c-410f-b04e-bce76f716dd4');\n",
       "var x = new MutationObserver(function (mutations, observer) {{\n",
       "        var display = window.getComputedStyle(gd).display;\n",
       "        if (!display || display === 'none') {{\n",
       "            console.log([gd, 'removed!']);\n",
       "            Plotly.purge(gd);\n",
       "            observer.disconnect();\n",
       "        }}\n",
       "}});\n",
       "\n",
       "// Listen for the removal of the full notebook cells\n",
       "var notebookContainer = gd.closest('#notebook-container');\n",
       "if (notebookContainer) {{\n",
       "    x.observe(notebookContainer, {childList: true});\n",
       "}}\n",
       "\n",
       "// Listen for the clearing of the current output cell\n",
       "var outputEl = gd.closest('.output');\n",
       "if (outputEl) {{\n",
       "    x.observe(outputEl, {childList: true});\n",
       "}}\n",
       "\n",
       "                        })                };                });            </script>        </div>"
      ]
     },
     "metadata": {},
     "output_type": "display_data"
    }
   ],
   "source": [
    "# Plotting the cluster with three features\n",
    "fig = px.scatter_3d(df_Americas_modified, x=\"GDP_log10\", y=\"Year\",\n",
    "                   z=\"dollar_price\", color =\"class\", symbol =\"class\", size = \"dollar_price\", width=800)\n",
    "fig.update_layout(legend=dict(x=0, y=1))\n",
    "fig.show()"
   ]
  },
  {
   "cell_type": "code",
   "execution_count": 63,
   "id": "70a74245",
   "metadata": {},
   "outputs": [
    {
     "name": "stderr",
     "output_type": "stream",
     "text": [
      "C:\\Users\\17013\\anaconda3\\envs\\mlenv\\lib\\site-packages\\sklearn\\cluster\\_kmeans.py:1037: UserWarning:\n",
      "\n",
      "KMeans is known to have a memory leak on Windows with MKL, when there are less chunks than available threads. You can avoid it by setting the environment variable OMP_NUM_THREADS=1.\n",
      "\n"
     ]
    }
   ],
   "source": [
    "inertia =[]\n",
    "k =list(range(1,11))\n",
    "\n",
    "# Calculate the inertia for the range of K values\n",
    "for i in k:\n",
    "    km = KMeans(n_clusters=i, random_state=0)\n",
    "    km.fit(df_Americas_modified)\n",
    "    inertia.append(km.inertia_)"
   ]
  },
  {
   "cell_type": "code",
   "execution_count": 64,
   "id": "b1e90ca9",
   "metadata": {
    "scrolled": true
   },
   "outputs": [
    {
     "data": {},
     "metadata": {},
     "output_type": "display_data"
    },
    {
     "data": {
      "application/vnd.holoviews_exec.v0+json": "",
      "text/html": [
       "<div id='1512'>\n",
       "\n",
       "\n",
       "\n",
       "\n",
       "\n",
       "  <div class=\"bk-root\" id=\"19f42ee3-8928-4a86-a5f2-babf105142da\" data-root-id=\"1512\"></div>\n",
       "</div>\n",
       "<script type=\"application/javascript\">(function(root) {\n",
       "  function embed_document(root) {\n",
       "    var docs_json = {\"2c815e9b-b8aa-4caa-9da7-466b5103283b\":{\"defs\":[{\"extends\":null,\"module\":null,\"name\":\"ReactiveHTML1\",\"overrides\":[],\"properties\":[]},{\"extends\":null,\"module\":null,\"name\":\"FlexBox1\",\"overrides\":[],\"properties\":[{\"default\":\"flex-start\",\"kind\":null,\"name\":\"align_content\"},{\"default\":\"flex-start\",\"kind\":null,\"name\":\"align_items\"},{\"default\":\"row\",\"kind\":null,\"name\":\"flex_direction\"},{\"default\":\"wrap\",\"kind\":null,\"name\":\"flex_wrap\"},{\"default\":\"flex-start\",\"kind\":null,\"name\":\"justify_content\"}]},{\"extends\":null,\"module\":null,\"name\":\"GridStack1\",\"overrides\":[],\"properties\":[{\"default\":\"warn\",\"kind\":null,\"name\":\"mode\"},{\"default\":null,\"kind\":null,\"name\":\"ncols\"},{\"default\":null,\"kind\":null,\"name\":\"nrows\"},{\"default\":true,\"kind\":null,\"name\":\"allow_resize\"},{\"default\":true,\"kind\":null,\"name\":\"allow_drag\"},{\"default\":[],\"kind\":null,\"name\":\"state\"}]},{\"extends\":null,\"module\":null,\"name\":\"click1\",\"overrides\":[],\"properties\":[{\"default\":\"\",\"kind\":null,\"name\":\"terminal_output\"},{\"default\":\"\",\"kind\":null,\"name\":\"debug_name\"},{\"default\":0,\"kind\":null,\"name\":\"clears\"}]},{\"extends\":null,\"module\":null,\"name\":\"TemplateActions1\",\"overrides\":[],\"properties\":[{\"default\":0,\"kind\":null,\"name\":\"open_modal\"},{\"default\":0,\"kind\":null,\"name\":\"close_modal\"}]},{\"extends\":null,\"module\":null,\"name\":\"MaterialTemplateActions1\",\"overrides\":[],\"properties\":[{\"default\":0,\"kind\":null,\"name\":\"open_modal\"},{\"default\":0,\"kind\":null,\"name\":\"close_modal\"}]}],\"roots\":{\"references\":[{\"attributes\":{\"axis\":{\"id\":\"1526\"},\"coordinates\":null,\"grid_line_color\":null,\"group\":null,\"ticker\":null},\"id\":\"1529\",\"type\":\"Grid\"},{\"attributes\":{\"line_color\":\"#30a2da\",\"line_width\":2,\"x\":{\"field\":\"k\"},\"y\":{\"field\":\"inertia\"}},\"id\":\"1555\",\"type\":\"Line\"},{\"attributes\":{},\"id\":\"1559\",\"type\":\"AllLabels\"},{\"attributes\":{\"below\":[{\"id\":\"1526\"}],\"center\":[{\"id\":\"1529\"},{\"id\":\"1533\"}],\"height\":300,\"left\":[{\"id\":\"1530\"}],\"margin\":[5,5,5,5],\"min_border_bottom\":10,\"min_border_left\":10,\"min_border_right\":10,\"min_border_top\":10,\"renderers\":[{\"id\":\"1553\"}],\"sizing_mode\":\"fixed\",\"title\":{\"id\":\"1518\"},\"toolbar\":{\"id\":\"1540\"},\"width\":700,\"x_range\":{\"id\":\"1514\"},\"x_scale\":{\"id\":\"1522\"},\"y_range\":{\"id\":\"1515\"},\"y_scale\":{\"id\":\"1524\"}},\"id\":\"1517\",\"subtype\":\"Figure\",\"type\":\"Plot\"},{\"attributes\":{\"source\":{\"id\":\"1547\"}},\"id\":\"1554\",\"type\":\"CDSView\"},{\"attributes\":{\"coordinates\":null,\"data_source\":{\"id\":\"1547\"},\"glyph\":{\"id\":\"1550\"},\"group\":null,\"hover_glyph\":null,\"muted_glyph\":{\"id\":\"1552\"},\"nonselection_glyph\":{\"id\":\"1551\"},\"selection_glyph\":{\"id\":\"1555\"},\"view\":{\"id\":\"1554\"}},\"id\":\"1553\",\"type\":\"GlyphRenderer\"},{\"attributes\":{\"axis_label\":\"k\",\"coordinates\":null,\"formatter\":{\"id\":\"1558\"},\"group\":null,\"major_label_policy\":{\"id\":\"1559\"},\"ticker\":{\"id\":\"1556\"}},\"id\":\"1526\",\"type\":\"LinearAxis\"},{\"attributes\":{\"ticks\":[1,2,3,4,5,6,7,8,9,10]},\"id\":\"1556\",\"type\":\"FixedTicker\"},{\"attributes\":{},\"id\":\"1558\",\"type\":\"BasicTickFormatter\"},{\"attributes\":{\"data\":{\"inertia\":{\"__ndarray__\":\"hIgxjNuDsEUsIgj8TKRgRbADX/nDuklF1/QYwyrQOEUQP5Hd5IQvRYd1ScS+1iRFDb3RL9VQH0Xqc+saxokWRQIR8IhVFBBF1XQuVB7yCEU=\",\"dtype\":\"float64\",\"order\":\"little\",\"shape\":[10]},\"k\":[1,2,3,4,5,6,7,8,9,10]},\"selected\":{\"id\":\"1548\"},\"selection_policy\":{\"id\":\"1571\"}},\"id\":\"1547\",\"type\":\"ColumnDataSource\"},{\"attributes\":{\"end\":10.0,\"reset_end\":10.0,\"reset_start\":1.0,\"start\":1.0,\"tags\":[[[\"k\",\"k\",null]]]},\"id\":\"1514\",\"type\":\"Range1d\"},{\"attributes\":{},\"id\":\"1534\",\"type\":\"SaveTool\"},{\"attributes\":{},\"id\":\"1571\",\"type\":\"UnionRenderers\"},{\"attributes\":{},\"id\":\"1535\",\"type\":\"PanTool\"},{\"attributes\":{},\"id\":\"1538\",\"type\":\"ResetTool\"},{\"attributes\":{},\"id\":\"1536\",\"type\":\"WheelZoomTool\"},{\"attributes\":{\"line_alpha\":0.1,\"line_color\":\"#30a2da\",\"line_width\":2,\"x\":{\"field\":\"k\"},\"y\":{\"field\":\"inertia\"}},\"id\":\"1551\",\"type\":\"Line\"},{\"attributes\":{\"overlay\":{\"id\":\"1539\"}},\"id\":\"1537\",\"type\":\"BoxZoomTool\"},{\"attributes\":{\"children\":[{\"id\":\"1513\"},{\"id\":\"1517\"},{\"id\":\"1583\"}],\"margin\":[0,0,0,0],\"name\":\"Row02547\",\"tags\":[\"embedded\"]},\"id\":\"1512\",\"type\":\"Row\"},{\"attributes\":{\"line_alpha\":0.2,\"line_color\":\"#30a2da\",\"line_width\":2,\"x\":{\"field\":\"k\"},\"y\":{\"field\":\"inertia\"}},\"id\":\"1552\",\"type\":\"Line\"},{\"attributes\":{},\"id\":\"1522\",\"type\":\"LinearScale\"},{\"attributes\":{\"tools\":[{\"id\":\"1516\"},{\"id\":\"1534\"},{\"id\":\"1535\"},{\"id\":\"1536\"},{\"id\":\"1537\"},{\"id\":\"1538\"}]},\"id\":\"1540\",\"type\":\"Toolbar\"},{\"attributes\":{\"coordinates\":null,\"group\":null,\"text\":\"Elbow Curve\",\"text_color\":\"black\",\"text_font_size\":\"12pt\"},\"id\":\"1518\",\"type\":\"Title\"},{\"attributes\":{},\"id\":\"1531\",\"type\":\"BasicTicker\"},{\"attributes\":{\"axis_label\":\"inertia\",\"coordinates\":null,\"formatter\":{\"id\":\"1563\"},\"group\":null,\"major_label_policy\":{\"id\":\"1564\"},\"ticker\":{\"id\":\"1531\"}},\"id\":\"1530\",\"type\":\"LinearAxis\"},{\"attributes\":{},\"id\":\"1548\",\"type\":\"Selection\"},{\"attributes\":{\"bottom_units\":\"screen\",\"coordinates\":null,\"fill_alpha\":0.5,\"fill_color\":\"lightgrey\",\"group\":null,\"left_units\":\"screen\",\"level\":\"overlay\",\"line_alpha\":1.0,\"line_color\":\"black\",\"line_dash\":[4,4],\"line_width\":2,\"right_units\":\"screen\",\"syncable\":false,\"top_units\":\"screen\"},\"id\":\"1539\",\"type\":\"BoxAnnotation\"},{\"attributes\":{},\"id\":\"1524\",\"type\":\"LinearScale\"},{\"attributes\":{\"margin\":[5,5,5,5],\"name\":\"HSpacer02552\",\"sizing_mode\":\"stretch_width\"},\"id\":\"1583\",\"type\":\"Spacer\"},{\"attributes\":{\"callback\":null,\"renderers\":[{\"id\":\"1553\"}],\"tags\":[\"hv_created\"],\"tooltips\":[[\"k\",\"@{k}\"],[\"inertia\",\"@{inertia}\"]]},\"id\":\"1516\",\"type\":\"HoverTool\"},{\"attributes\":{},\"id\":\"1564\",\"type\":\"AllLabels\"},{\"attributes\":{\"margin\":[5,5,5,5],\"name\":\"HSpacer02551\",\"sizing_mode\":\"stretch_width\"},\"id\":\"1513\",\"type\":\"Spacer\"},{\"attributes\":{},\"id\":\"1563\",\"type\":\"BasicTickFormatter\"},{\"attributes\":{\"end\":5.621905876374776e+27,\"reset_end\":5.621905876374776e+27,\"reset_start\":-5.069699535120921e+26,\"start\":-5.069699535120921e+26,\"tags\":[[[\"inertia\",\"inertia\",null]]]},\"id\":\"1515\",\"type\":\"Range1d\"},{\"attributes\":{\"axis\":{\"id\":\"1530\"},\"coordinates\":null,\"dimension\":1,\"grid_line_color\":null,\"group\":null,\"ticker\":null},\"id\":\"1533\",\"type\":\"Grid\"},{\"attributes\":{\"line_color\":\"#30a2da\",\"line_width\":2,\"x\":{\"field\":\"k\"},\"y\":{\"field\":\"inertia\"}},\"id\":\"1550\",\"type\":\"Line\"}],\"root_ids\":[\"1512\"]},\"title\":\"Bokeh Application\",\"version\":\"2.4.2\"}};\n",
       "    var render_items = [{\"docid\":\"2c815e9b-b8aa-4caa-9da7-466b5103283b\",\"root_ids\":[\"1512\"],\"roots\":{\"1512\":\"19f42ee3-8928-4a86-a5f2-babf105142da\"}}];\n",
       "    root.Bokeh.embed.embed_items_notebook(docs_json, render_items);\n",
       "  }\n",
       "  if (root.Bokeh !== undefined && root.Bokeh.Panel !== undefined) {\n",
       "    embed_document(root);\n",
       "  } else {\n",
       "    var attempts = 0;\n",
       "    var timer = setInterval(function(root) {\n",
       "      if (root.Bokeh !== undefined && root.Bokeh.Panel !== undefined) {\n",
       "        clearInterval(timer);\n",
       "        embed_document(root);\n",
       "      } else if (document.readyState == \"complete\") {\n",
       "        attempts++;\n",
       "        if (attempts > 200) {\n",
       "          clearInterval(timer);\n",
       "          console.log(\"Bokeh: ERROR: Unable to run BokehJS code because BokehJS library is missing\");\n",
       "        }\n",
       "      }\n",
       "    }, 25, root)\n",
       "  }\n",
       "})(window);</script>"
      ],
      "text/plain": [
       ":Curve   [k]   (inertia)"
      ]
     },
     "execution_count": 64,
     "metadata": {
      "application/vnd.holoviews_exec.v0+json": {
       "id": "1512"
      }
     },
     "output_type": "execute_result"
    }
   ],
   "source": [
    "# Create the Elbow Curve using hvPlot\n",
    "elbow_data = {\"k\": k, \"inertia\": inertia}\n",
    "df_elbow = pd.DataFrame(elbow_data)\n",
    "df_elbow.hvplot.line(x=\"k\", y=\"inertia\", xticks=k, title=\"Elbow Curve\")"
   ]
  },
  {
   "cell_type": "code",
   "execution_count": 77,
   "id": "f7f43c59",
   "metadata": {},
   "outputs": [],
   "source": [
    "def get_clusters(k, data):\n",
    "#     Create a copy of the DataFrame\n",
    "    data= data.copy()\n",
    "    \n",
    "#     Initialize the K-Means model\n",
    "    model = KMeans(n_clusters=k, random_state=0)\n",
    "    \n",
    "#     Fit the model\n",
    "    model.fit(data)\n",
    "    \n",
    "#     Predict clusters\n",
    "    predictions = model.predict(data)\n",
    "    \n",
    "#     Create return DataFrame with predicted clusters\n",
    "    data[\"class\"] =model.labels_\n",
    "    \n",
    "    return data\n"
   ]
  },
  {
   "cell_type": "code",
   "execution_count": 78,
   "id": "5ce7b8ff",
   "metadata": {
    "scrolled": true
   },
   "outputs": [
    {
     "data": {
      "text/html": [
       "<div>\n",
       "<style scoped>\n",
       "    .dataframe tbody tr th:only-of-type {\n",
       "        vertical-align: middle;\n",
       "    }\n",
       "\n",
       "    .dataframe tbody tr th {\n",
       "        vertical-align: top;\n",
       "    }\n",
       "\n",
       "    .dataframe thead th {\n",
       "        text-align: right;\n",
       "    }\n",
       "</style>\n",
       "<table border=\"1\" class=\"dataframe\">\n",
       "  <thead>\n",
       "    <tr style=\"text-align: right;\">\n",
       "      <th></th>\n",
       "      <th>dollar_price</th>\n",
       "      <th>Year</th>\n",
       "      <th>gdp_growth</th>\n",
       "      <th>GDP_Per_Capita</th>\n",
       "      <th>GDP</th>\n",
       "      <th>GDP_log10</th>\n",
       "      <th>class</th>\n",
       "    </tr>\n",
       "  </thead>\n",
       "  <tbody>\n",
       "    <tr>\n",
       "      <th>0</th>\n",
       "      <td>2.50</td>\n",
       "      <td>2000</td>\n",
       "      <td>-10.894485</td>\n",
       "      <td>6854.294081</td>\n",
       "      <td>2.582820e+11</td>\n",
       "      <td>11.412094</td>\n",
       "      <td>0</td>\n",
       "    </tr>\n",
       "    <tr>\n",
       "      <th>2</th>\n",
       "      <td>2.95</td>\n",
       "      <td>2000</td>\n",
       "      <td>3.053462</td>\n",
       "      <td>8954.837245</td>\n",
       "      <td>1.607730e+12</td>\n",
       "      <td>12.206213</td>\n",
       "      <td>0</td>\n",
       "    </tr>\n",
       "    <tr>\n",
       "      <th>3</th>\n",
       "      <td>2.85</td>\n",
       "      <td>2000</td>\n",
       "      <td>3.016889</td>\n",
       "      <td>44863.216020</td>\n",
       "      <td>1.406910e+12</td>\n",
       "      <td>12.148266</td>\n",
       "      <td>0</td>\n",
       "    </tr>\n",
       "    <tr>\n",
       "      <th>4</th>\n",
       "      <td>2.45</td>\n",
       "      <td>2000</td>\n",
       "      <td>3.106971</td>\n",
       "      <td>9814.656135</td>\n",
       "      <td>1.539370e+11</td>\n",
       "      <td>11.187343</td>\n",
       "      <td>0</td>\n",
       "    </tr>\n",
       "    <tr>\n",
       "      <th>13</th>\n",
       "      <td>2.32</td>\n",
       "      <td>2000</td>\n",
       "      <td>-0.039844</td>\n",
       "      <td>8960.554086</td>\n",
       "      <td>9.111520e+11</td>\n",
       "      <td>11.959591</td>\n",
       "      <td>0</td>\n",
       "    </tr>\n",
       "  </tbody>\n",
       "</table>\n",
       "</div>"
      ],
      "text/plain": [
       "    dollar_price  Year  gdp_growth  GDP_Per_Capita           GDP  GDP_log10  \\\n",
       "0           2.50  2000  -10.894485     6854.294081  2.582820e+11  11.412094   \n",
       "2           2.95  2000    3.053462     8954.837245  1.607730e+12  12.206213   \n",
       "3           2.85  2000    3.016889    44863.216020  1.406910e+12  12.148266   \n",
       "4           2.45  2000    3.106971     9814.656135  1.539370e+11  11.187343   \n",
       "13          2.32  2000   -0.039844     8960.554086  9.111520e+11  11.959591   \n",
       "\n",
       "    class  \n",
       "0       0  \n",
       "2       0  \n",
       "3       0  \n",
       "4       0  \n",
       "13      0  "
      ]
     },
     "execution_count": 78,
     "metadata": {},
     "output_type": "execute_result"
    }
   ],
   "source": [
    "two_clusters = get_clusters(2, df_Americas_modified)\n",
    "two_clusters.head()"
   ]
  },
  {
   "cell_type": "code",
   "execution_count": 79,
   "id": "eadeb528",
   "metadata": {
    "scrolled": true
   },
   "outputs": [
    {
     "data": {
      "application/vnd.plotly.v1+json": {
       "config": {
        "plotlyServerURL": "https://plot.ly"
       },
       "data": [
        {
         "hovertemplate": "class=%{marker.color}<br>GDP_log10=%{x}<br>Year=%{y}<br>dollar_price=%{z}<extra></extra>",
         "legendgroup": "0",
         "marker": {
          "color": [
           0,
           0,
           0,
           0,
           0,
           0,
           0,
           0,
           0,
           0,
           0,
           0,
           0,
           0,
           0,
           0,
           0,
           0,
           0,
           0,
           0,
           0,
           0,
           0,
           0,
           0,
           0,
           0,
           0,
           0,
           0,
           0,
           0,
           0,
           0,
           0,
           0,
           0,
           0,
           0,
           0,
           0,
           0,
           0,
           0,
           0,
           0,
           0,
           0,
           0,
           0,
           0,
           0,
           0,
           0,
           0,
           0,
           0,
           0,
           0,
           0,
           0,
           0,
           0,
           0,
           0,
           0,
           0,
           0,
           0,
           0,
           0,
           0,
           0,
           0,
           0,
           0,
           0,
           0,
           0,
           0,
           0,
           0,
           0,
           0,
           0,
           0,
           0,
           0,
           0,
           0,
           0,
           0,
           0,
           0,
           0,
           0,
           0,
           0,
           0,
           0,
           0,
           0,
           0,
           0,
           0,
           0,
           0,
           0,
           0,
           0,
           0,
           0,
           0,
           0,
           0,
           0,
           0,
           0,
           0,
           0,
           0,
           0,
           0,
           0,
           0,
           0,
           0,
           0,
           0,
           0,
           0,
           0,
           0,
           0,
           0,
           0,
           0,
           0,
           0,
           0,
           0,
           0,
           0,
           0,
           0,
           0,
           0,
           0,
           0,
           0,
           0,
           0,
           0,
           0,
           0,
           0,
           0,
           0,
           0,
           0,
           0,
           0,
           0,
           0,
           0,
           0,
           0,
           0,
           0,
           0,
           0,
           0,
           0,
           0,
           0,
           0,
           0,
           0,
           0,
           0,
           0,
           0,
           0,
           0,
           0,
           0,
           0,
           0,
           0,
           0,
           0,
           0,
           0,
           0,
           0,
           0,
           0,
           0,
           0,
           0,
           0,
           0,
           0,
           0,
           0
          ],
          "coloraxis": "coloraxis",
          "symbol": "circle"
         },
         "mode": "markers",
         "name": "0",
         "scene": "scene",
         "showlegend": true,
         "type": "scatter3d",
         "x": [
          11.412094140694933,
          12.206213115708598,
          12.148266316515395,
          11.187343018561377,
          11.959590832796005,
          12.156018830921651,
          11.4488701154014,
          12.211139237420024,
          12.169224627077039,
          11.204757384698596,
          11.965827518549071,
          12.182916568785958,
          11.486414892149611,
          12.235460267422326,
          12.194208979646682,
          11.234990295456319,
          11.982529018865602,
          10.997954143027906,
          12.203119954874245,
          11.523249474489033,
          12.249149420044517,
          12.207472789481013,
          11.259240183834748,
          11.992437749449032,
          11.024428195817706,
          12.207472789481013,
          11.556863102495688,
          12.266024616372095,
          12.194567064529759,
          11.28584524303856,
          11.390148781677974,
          10.500752789079453,
          12.011532383016828,
          11.05595140532915,
          12.194567064529759,
          10.496839340742994,
          11.594320714558501,
          12.291615236005704,
          12.20777973612601,
          11.30664158462451,
          11.418917485831926,
          10.534851171905254,
          12.021371251017943,
          11.091455913055093,
          12.221236832094737,
          10.524358191893988,
          11.611592681466488,
          12.31319417513532,
          12.228823666458899,
          11.32170611054876,
          12.026312588504672,
          11.12938694025794,
          12.228823666458899,
          11.611592681466488,
          12.31319417513532,
          12.238826128136264,
          11.32170611054876,
          11.43283786085072,
          10.554588737254456,
          12.026312588504672,
          11.12938694025794,
          12.251109933426724,
          10.554456322453197,
          11.585096220432902,
          12.312646953219183,
          12.251109933426724,
          11.314859061201037,
          11.43804052399445,
          10.550353111681984,
          12.00272747268983,
          11.134119708037254,
          12.254095904857678,
          10.57250528268276,
          11.585096220432902,
          12.312646953219183,
          12.254095904857678,
          11.314859061201037,
          11.43804052399445,
          10.550353111681984,
          12.00272747268983,
          11.134119708037254,
          12.258876629372132,
          10.57250528268276,
          11.626983632212891,
          12.34417015682028,
          12.258876629372132,
          11.339526964214535,
          11.456523929688464,
          10.571343267322925,
          12.024403562682966,
          11.16887739863303,
          12.271623243192991,
          10.605137779867261,
          11.652306306257216,
          12.361096706534518,
          12.271623243192991,
          11.365285766249952,
          11.48737596999458,
          10.589657145321672,
          12.04002843923198,
          11.195520516621967,
          12.2797057186105,
          10.626997166281603,
          11.647825841976948,
          12.369360598115334,
          12.2797057186105,
          11.38779189652721,
          11.504004374155247,
          10.610005663831604,
          12.055565618711297,
          11.221398587308745,
          10.64209768751223,
          11.647825841976948,
          12.369360598115334,
          11.38779189652721,
          11.504004374155247,
          10.610005663831604,
          12.055565618711297,
          11.221398587308745,
          10.64209768751223,
          11.658147867764232,
          12.3822188254919,
          11.405013210705802,
          11.523399152442353,
          10.61974978957198,
          12.0614072377223,
          11.246099555670785,
          10.661785202834594,
          11.647096280277053,
          12.384401805791391,
          11.412618443989382,
          11.543462091224237,
          10.634754496461511,
          12.073417721867594,
          11.256323190864252,
          10.675628113747385,
          11.647096280277053,
          12.384401805791391,
          11.412618443989382,
          11.543462091224237,
          12.073417721867594,
          10.675628113747385,
          11.658798140643178,
          12.368723749485705,
          11.422509407499756,
          11.556114265704586,
          10.650247250709462,
          12.08746906765054,
          11.270238496862273,
          10.677235245305232,
          11.658798140643178,
          12.368723749485705,
          11.422509407499756,
          11.556114265704586,
          10.650247250709462,
          12.08746906765054,
          11.270238496862273,
          10.677235245305232,
          11.649668728120272,
          12.354125733716039,
          11.429705457627271,
          11.565085955321356,
          10.66830660829246,
          12.0999739842355,
          11.287087018757926,
          10.684512630631943,
          11.649668728120272,
          12.354125733716039,
          11.429705457627271,
          11.565085955321356,
          10.66830660829246,
          12.0999739842355,
          11.287087018757926,
          10.684512630631943,
          11.66110626451335,
          12.3587208179083,
          11.435224640475868,
          11.570915199486205,
          10.682815309640858,
          12.108872709089708,
          11.297891764154654,
          10.695623327479398,
          11.66110626451335,
          12.3587208179083,
          11.435224640475868,
          11.570915199486205,
          10.682815309640858,
          12.108872709089708,
          11.297891764154654,
          10.695623327479398,
          11.650046090510354,
          12.36354805305592,
          11.452361533134575,
          11.582308863164489,
          10.69423370175094,
          12.117446967049373,
          11.314827508809302,
          10.702602875458641,
          11.650046090510354,
          12.36354805305592,
          11.452361533134575,
          11.582308863164489,
          10.69423370175094,
          12.117446967049373,
          11.314827508809302,
          10.702602875458641
         ],
         "y": [
          2000,
          2000,
          2000,
          2000,
          2000,
          2001,
          2001,
          2001,
          2002,
          2001,
          2001,
          2003,
          2002,
          2002,
          2004,
          2002,
          2002,
          2002,
          2005,
          2003,
          2003,
          2006,
          2003,
          2003,
          2003,
          2006,
          2004,
          2004,
          2007,
          2004,
          2004,
          2004,
          2004,
          2004,
          2007,
          2004,
          2005,
          2005,
          2008,
          2005,
          2005,
          2005,
          2005,
          2005,
          2009,
          2005,
          2006,
          2006,
          2010,
          2006,
          2006,
          2006,
          2010,
          2006,
          2006,
          2011,
          2006,
          2006,
          2006,
          2006,
          2006,
          2012,
          2006,
          2007,
          2007,
          2012,
          2007,
          2007,
          2007,
          2007,
          2007,
          2013,
          2007,
          2007,
          2007,
          2013,
          2007,
          2007,
          2007,
          2007,
          2007,
          2014,
          2007,
          2008,
          2008,
          2014,
          2008,
          2008,
          2008,
          2008,
          2008,
          2015,
          2008,
          2009,
          2009,
          2015,
          2009,
          2009,
          2009,
          2009,
          2009,
          2016,
          2009,
          2010,
          2010,
          2016,
          2010,
          2010,
          2010,
          2010,
          2010,
          2010,
          2010,
          2010,
          2010,
          2010,
          2010,
          2010,
          2010,
          2010,
          2011,
          2011,
          2011,
          2011,
          2011,
          2011,
          2011,
          2011,
          2012,
          2012,
          2012,
          2012,
          2012,
          2012,
          2012,
          2012,
          2012,
          2012,
          2012,
          2012,
          2012,
          2012,
          2013,
          2013,
          2013,
          2013,
          2013,
          2013,
          2013,
          2013,
          2013,
          2013,
          2013,
          2013,
          2013,
          2013,
          2013,
          2013,
          2014,
          2014,
          2014,
          2014,
          2014,
          2014,
          2014,
          2014,
          2014,
          2014,
          2014,
          2014,
          2014,
          2014,
          2014,
          2014,
          2015,
          2015,
          2015,
          2015,
          2015,
          2015,
          2015,
          2015,
          2015,
          2015,
          2015,
          2015,
          2015,
          2015,
          2015,
          2015,
          2016,
          2016,
          2016,
          2016,
          2016,
          2016,
          2016,
          2016,
          2016,
          2016,
          2016,
          2016,
          2016,
          2016,
          2016,
          2016
         ],
         "z": [
          2.5,
          2.95,
          2.85,
          2.45,
          2.32,
          3.33,
          2.5,
          1.8,
          3.33,
          2.1,
          2.43,
          3.2,
          0.83,
          1.8,
          3.19,
          2.14,
          2.43,
          2.83,
          3.28,
          2.05,
          1.52,
          3.52,
          1.96,
          2.3,
          2.63,
          3.52,
          2.18,
          1.8,
          3.63,
          2.18,
          2.35,
          2.61,
          2.18,
          3,
          3.88,
          1.03,
          2.38,
          2.95,
          4.09,
          2.53,
          2.79,
          2.38,
          2.8,
          3,
          3.89,
          1.83,
          1.58,
          3.1,
          4.12,
          2.99,
          2.8,
          3.17,
          4.17,
          2.33,
          3.2,
          4.73,
          2.95,
          2.6,
          2.22,
          2.64,
          3.17,
          4.73,
          1.84,
          2.75,
          3.2,
          5.12,
          3.09,
          3.08,
          2.22,
          2.9,
          3.17,
          5.41,
          2.39,
          2.75,
          6.9,
          5.53,
          2.98,
          3.53,
          2.18,
          2.9,
          3.17,
          5.54,
          2.7,
          3.67,
          7.5,
          5.64,
          3.14,
          3.89,
          3.27,
          3.2,
          4.75,
          5.7,
          3.21,
          3.83,
          8.03,
          5.85,
          3.19,
          3.34,
          3.44,
          2.54,
          2.69,
          5.84,
          2.65,
          2.33,
          8.2,
          6,
          3.18,
          3.91,
          3.52,
          2.67,
          4.03,
          3.35,
          4.67,
          8.71,
          3.35,
          4.39,
          3.83,
          2.67,
          5,
          3.76,
          5,
          9.5,
          4,
          4.75,
          4.07,
          2.91,
          5,
          5,
          5,
          10.25,
          4.05,
          4.54,
          4.03,
          2.85,
          5,
          4.74,
          4.75,
          5.04,
          4.16,
          4.77,
          2.85,
          4.71,
          4.75,
          11.25,
          4.35,
          4.85,
          4.4,
          3.08,
          5,
          5.53,
          4.2,
          6,
          3.94,
          4.48,
          4.32,
          3.08,
          5,
          5,
          3.5,
          6.2,
          3.7,
          4.34,
          4.29,
          2.85,
          5,
          5,
          2.62,
          6.5,
          3.72,
          4.66,
          4,
          3.5,
          5,
          5.14,
          3.5,
          6.75,
          3.35,
          3.34,
          4.01,
          3.5,
          3.33,
          4.71,
          3.11,
          4.5,
          3.27,
          2.92,
          4.03,
          3.27,
          3.33,
          4.19,
          2.54,
          3.38,
          2.94,
          2.43,
          4.02,
          2.88,
          3.33,
          3.77,
          3.57,
          5.17,
          3.53,
          3.04,
          4.12,
          2.44,
          3.33,
          4.1
         ]
        },
        {
         "hovertemplate": "class=%{marker.color}<br>GDP_log10=%{x}<br>Year=%{y}<br>dollar_price=%{z}<extra></extra>",
         "legendgroup": "1",
         "marker": {
          "color": [
           1,
           1,
           1,
           1,
           1,
           1,
           1,
           1,
           1,
           1,
           1,
           1,
           1,
           1,
           1,
           1,
           1,
           1,
           1,
           1,
           1,
           1,
           1,
           1,
           1
          ],
          "coloraxis": "coloraxis",
          "symbol": "diamond"
         },
         "mode": "markers",
         "name": "1",
         "scene": "scene",
         "showlegend": true,
         "type": "scatter3d",
         "x": [
          13.112883048635458,
          13.125133039916829,
          13.1413274638702,
          13.156321950446713,
          13.168547568872253,
          13.176620775384281,
          13.176027557860133,
          13.176027557860133,
          13.164867160351593,
          13.164867160351593,
          13.17586247037557,
          13.182545891119375,
          13.19220492541459,
          13.19220492541459,
          13.2001333751489,
          13.210652875437406,
          13.210652875437406,
          13.22298944474631,
          13.22298944474631,
          13.229740699690918,
          13.229740699690918,
          13.239264433777802,
          13.239264433777802,
          13.251499516029417,
          13.251499516029417
         ],
         "y": [
          2000,
          2001,
          2002,
          2003,
          2004,
          2005,
          2006,
          2006,
          2007,
          2007,
          2008,
          2009,
          2010,
          2010,
          2011,
          2012,
          2012,
          2013,
          2013,
          2014,
          2014,
          2015,
          2015,
          2016,
          2016
         ],
         "z": [
          2.24,
          2.24,
          2.35,
          2.46,
          2.47,
          2.58,
          2.67,
          2.78,
          2.89,
          3,
          3.21,
          3.43,
          3.43,
          3.53,
          3.64,
          3.81,
          3.96,
          4.03,
          4.18,
          4.24,
          4.29,
          4.29,
          4.29,
          4.29,
          4.5
         ]
        }
       ],
       "layout": {
        "coloraxis": {
         "colorbar": {
          "title": {
           "text": "class"
          }
         },
         "colorscale": [
          [
           0,
           "#0d0887"
          ],
          [
           0.1111111111111111,
           "#46039f"
          ],
          [
           0.2222222222222222,
           "#7201a8"
          ],
          [
           0.3333333333333333,
           "#9c179e"
          ],
          [
           0.4444444444444444,
           "#bd3786"
          ],
          [
           0.5555555555555556,
           "#d8576b"
          ],
          [
           0.6666666666666666,
           "#ed7953"
          ],
          [
           0.7777777777777778,
           "#fb9f3a"
          ],
          [
           0.8888888888888888,
           "#fdca26"
          ],
          [
           1,
           "#f0f921"
          ]
         ]
        },
        "legend": {
         "title": {
          "text": "class"
         },
         "tracegroupgap": 0,
         "x": 0,
         "y": 1
        },
        "margin": {
         "t": 60
        },
        "scene": {
         "domain": {
          "x": [
           0,
           1
          ],
          "y": [
           0,
           1
          ]
         },
         "xaxis": {
          "title": {
           "text": "GDP_log10"
          }
         },
         "yaxis": {
          "title": {
           "text": "Year"
          }
         },
         "zaxis": {
          "title": {
           "text": "dollar_price"
          }
         }
        },
        "template": {
         "data": {
          "bar": [
           {
            "error_x": {
             "color": "#2a3f5f"
            },
            "error_y": {
             "color": "#2a3f5f"
            },
            "marker": {
             "line": {
              "color": "#E5ECF6",
              "width": 0.5
             },
             "pattern": {
              "fillmode": "overlay",
              "size": 10,
              "solidity": 0.2
             }
            },
            "type": "bar"
           }
          ],
          "barpolar": [
           {
            "marker": {
             "line": {
              "color": "#E5ECF6",
              "width": 0.5
             },
             "pattern": {
              "fillmode": "overlay",
              "size": 10,
              "solidity": 0.2
             }
            },
            "type": "barpolar"
           }
          ],
          "carpet": [
           {
            "aaxis": {
             "endlinecolor": "#2a3f5f",
             "gridcolor": "white",
             "linecolor": "white",
             "minorgridcolor": "white",
             "startlinecolor": "#2a3f5f"
            },
            "baxis": {
             "endlinecolor": "#2a3f5f",
             "gridcolor": "white",
             "linecolor": "white",
             "minorgridcolor": "white",
             "startlinecolor": "#2a3f5f"
            },
            "type": "carpet"
           }
          ],
          "choropleth": [
           {
            "colorbar": {
             "outlinewidth": 0,
             "ticks": ""
            },
            "type": "choropleth"
           }
          ],
          "contour": [
           {
            "colorbar": {
             "outlinewidth": 0,
             "ticks": ""
            },
            "colorscale": [
             [
              0,
              "#0d0887"
             ],
             [
              0.1111111111111111,
              "#46039f"
             ],
             [
              0.2222222222222222,
              "#7201a8"
             ],
             [
              0.3333333333333333,
              "#9c179e"
             ],
             [
              0.4444444444444444,
              "#bd3786"
             ],
             [
              0.5555555555555556,
              "#d8576b"
             ],
             [
              0.6666666666666666,
              "#ed7953"
             ],
             [
              0.7777777777777778,
              "#fb9f3a"
             ],
             [
              0.8888888888888888,
              "#fdca26"
             ],
             [
              1,
              "#f0f921"
             ]
            ],
            "type": "contour"
           }
          ],
          "contourcarpet": [
           {
            "colorbar": {
             "outlinewidth": 0,
             "ticks": ""
            },
            "type": "contourcarpet"
           }
          ],
          "heatmap": [
           {
            "colorbar": {
             "outlinewidth": 0,
             "ticks": ""
            },
            "colorscale": [
             [
              0,
              "#0d0887"
             ],
             [
              0.1111111111111111,
              "#46039f"
             ],
             [
              0.2222222222222222,
              "#7201a8"
             ],
             [
              0.3333333333333333,
              "#9c179e"
             ],
             [
              0.4444444444444444,
              "#bd3786"
             ],
             [
              0.5555555555555556,
              "#d8576b"
             ],
             [
              0.6666666666666666,
              "#ed7953"
             ],
             [
              0.7777777777777778,
              "#fb9f3a"
             ],
             [
              0.8888888888888888,
              "#fdca26"
             ],
             [
              1,
              "#f0f921"
             ]
            ],
            "type": "heatmap"
           }
          ],
          "heatmapgl": [
           {
            "colorbar": {
             "outlinewidth": 0,
             "ticks": ""
            },
            "colorscale": [
             [
              0,
              "#0d0887"
             ],
             [
              0.1111111111111111,
              "#46039f"
             ],
             [
              0.2222222222222222,
              "#7201a8"
             ],
             [
              0.3333333333333333,
              "#9c179e"
             ],
             [
              0.4444444444444444,
              "#bd3786"
             ],
             [
              0.5555555555555556,
              "#d8576b"
             ],
             [
              0.6666666666666666,
              "#ed7953"
             ],
             [
              0.7777777777777778,
              "#fb9f3a"
             ],
             [
              0.8888888888888888,
              "#fdca26"
             ],
             [
              1,
              "#f0f921"
             ]
            ],
            "type": "heatmapgl"
           }
          ],
          "histogram": [
           {
            "marker": {
             "pattern": {
              "fillmode": "overlay",
              "size": 10,
              "solidity": 0.2
             }
            },
            "type": "histogram"
           }
          ],
          "histogram2d": [
           {
            "colorbar": {
             "outlinewidth": 0,
             "ticks": ""
            },
            "colorscale": [
             [
              0,
              "#0d0887"
             ],
             [
              0.1111111111111111,
              "#46039f"
             ],
             [
              0.2222222222222222,
              "#7201a8"
             ],
             [
              0.3333333333333333,
              "#9c179e"
             ],
             [
              0.4444444444444444,
              "#bd3786"
             ],
             [
              0.5555555555555556,
              "#d8576b"
             ],
             [
              0.6666666666666666,
              "#ed7953"
             ],
             [
              0.7777777777777778,
              "#fb9f3a"
             ],
             [
              0.8888888888888888,
              "#fdca26"
             ],
             [
              1,
              "#f0f921"
             ]
            ],
            "type": "histogram2d"
           }
          ],
          "histogram2dcontour": [
           {
            "colorbar": {
             "outlinewidth": 0,
             "ticks": ""
            },
            "colorscale": [
             [
              0,
              "#0d0887"
             ],
             [
              0.1111111111111111,
              "#46039f"
             ],
             [
              0.2222222222222222,
              "#7201a8"
             ],
             [
              0.3333333333333333,
              "#9c179e"
             ],
             [
              0.4444444444444444,
              "#bd3786"
             ],
             [
              0.5555555555555556,
              "#d8576b"
             ],
             [
              0.6666666666666666,
              "#ed7953"
             ],
             [
              0.7777777777777778,
              "#fb9f3a"
             ],
             [
              0.8888888888888888,
              "#fdca26"
             ],
             [
              1,
              "#f0f921"
             ]
            ],
            "type": "histogram2dcontour"
           }
          ],
          "mesh3d": [
           {
            "colorbar": {
             "outlinewidth": 0,
             "ticks": ""
            },
            "type": "mesh3d"
           }
          ],
          "parcoords": [
           {
            "line": {
             "colorbar": {
              "outlinewidth": 0,
              "ticks": ""
             }
            },
            "type": "parcoords"
           }
          ],
          "pie": [
           {
            "automargin": true,
            "type": "pie"
           }
          ],
          "scatter": [
           {
            "marker": {
             "colorbar": {
              "outlinewidth": 0,
              "ticks": ""
             }
            },
            "type": "scatter"
           }
          ],
          "scatter3d": [
           {
            "line": {
             "colorbar": {
              "outlinewidth": 0,
              "ticks": ""
             }
            },
            "marker": {
             "colorbar": {
              "outlinewidth": 0,
              "ticks": ""
             }
            },
            "type": "scatter3d"
           }
          ],
          "scattercarpet": [
           {
            "marker": {
             "colorbar": {
              "outlinewidth": 0,
              "ticks": ""
             }
            },
            "type": "scattercarpet"
           }
          ],
          "scattergeo": [
           {
            "marker": {
             "colorbar": {
              "outlinewidth": 0,
              "ticks": ""
             }
            },
            "type": "scattergeo"
           }
          ],
          "scattergl": [
           {
            "marker": {
             "colorbar": {
              "outlinewidth": 0,
              "ticks": ""
             }
            },
            "type": "scattergl"
           }
          ],
          "scattermapbox": [
           {
            "marker": {
             "colorbar": {
              "outlinewidth": 0,
              "ticks": ""
             }
            },
            "type": "scattermapbox"
           }
          ],
          "scatterpolar": [
           {
            "marker": {
             "colorbar": {
              "outlinewidth": 0,
              "ticks": ""
             }
            },
            "type": "scatterpolar"
           }
          ],
          "scatterpolargl": [
           {
            "marker": {
             "colorbar": {
              "outlinewidth": 0,
              "ticks": ""
             }
            },
            "type": "scatterpolargl"
           }
          ],
          "scatterternary": [
           {
            "marker": {
             "colorbar": {
              "outlinewidth": 0,
              "ticks": ""
             }
            },
            "type": "scatterternary"
           }
          ],
          "surface": [
           {
            "colorbar": {
             "outlinewidth": 0,
             "ticks": ""
            },
            "colorscale": [
             [
              0,
              "#0d0887"
             ],
             [
              0.1111111111111111,
              "#46039f"
             ],
             [
              0.2222222222222222,
              "#7201a8"
             ],
             [
              0.3333333333333333,
              "#9c179e"
             ],
             [
              0.4444444444444444,
              "#bd3786"
             ],
             [
              0.5555555555555556,
              "#d8576b"
             ],
             [
              0.6666666666666666,
              "#ed7953"
             ],
             [
              0.7777777777777778,
              "#fb9f3a"
             ],
             [
              0.8888888888888888,
              "#fdca26"
             ],
             [
              1,
              "#f0f921"
             ]
            ],
            "type": "surface"
           }
          ],
          "table": [
           {
            "cells": {
             "fill": {
              "color": "#EBF0F8"
             },
             "line": {
              "color": "white"
             }
            },
            "header": {
             "fill": {
              "color": "#C8D4E3"
             },
             "line": {
              "color": "white"
             }
            },
            "type": "table"
           }
          ]
         },
         "layout": {
          "annotationdefaults": {
           "arrowcolor": "#2a3f5f",
           "arrowhead": 0,
           "arrowwidth": 1
          },
          "autotypenumbers": "strict",
          "coloraxis": {
           "colorbar": {
            "outlinewidth": 0,
            "ticks": ""
           }
          },
          "colorscale": {
           "diverging": [
            [
             0,
             "#8e0152"
            ],
            [
             0.1,
             "#c51b7d"
            ],
            [
             0.2,
             "#de77ae"
            ],
            [
             0.3,
             "#f1b6da"
            ],
            [
             0.4,
             "#fde0ef"
            ],
            [
             0.5,
             "#f7f7f7"
            ],
            [
             0.6,
             "#e6f5d0"
            ],
            [
             0.7,
             "#b8e186"
            ],
            [
             0.8,
             "#7fbc41"
            ],
            [
             0.9,
             "#4d9221"
            ],
            [
             1,
             "#276419"
            ]
           ],
           "sequential": [
            [
             0,
             "#0d0887"
            ],
            [
             0.1111111111111111,
             "#46039f"
            ],
            [
             0.2222222222222222,
             "#7201a8"
            ],
            [
             0.3333333333333333,
             "#9c179e"
            ],
            [
             0.4444444444444444,
             "#bd3786"
            ],
            [
             0.5555555555555556,
             "#d8576b"
            ],
            [
             0.6666666666666666,
             "#ed7953"
            ],
            [
             0.7777777777777778,
             "#fb9f3a"
            ],
            [
             0.8888888888888888,
             "#fdca26"
            ],
            [
             1,
             "#f0f921"
            ]
           ],
           "sequentialminus": [
            [
             0,
             "#0d0887"
            ],
            [
             0.1111111111111111,
             "#46039f"
            ],
            [
             0.2222222222222222,
             "#7201a8"
            ],
            [
             0.3333333333333333,
             "#9c179e"
            ],
            [
             0.4444444444444444,
             "#bd3786"
            ],
            [
             0.5555555555555556,
             "#d8576b"
            ],
            [
             0.6666666666666666,
             "#ed7953"
            ],
            [
             0.7777777777777778,
             "#fb9f3a"
            ],
            [
             0.8888888888888888,
             "#fdca26"
            ],
            [
             1,
             "#f0f921"
            ]
           ]
          },
          "colorway": [
           "#636efa",
           "#EF553B",
           "#00cc96",
           "#ab63fa",
           "#FFA15A",
           "#19d3f3",
           "#FF6692",
           "#B6E880",
           "#FF97FF",
           "#FECB52"
          ],
          "font": {
           "color": "#2a3f5f"
          },
          "geo": {
           "bgcolor": "white",
           "lakecolor": "white",
           "landcolor": "#E5ECF6",
           "showlakes": true,
           "showland": true,
           "subunitcolor": "white"
          },
          "hoverlabel": {
           "align": "left"
          },
          "hovermode": "closest",
          "mapbox": {
           "style": "light"
          },
          "paper_bgcolor": "white",
          "plot_bgcolor": "#E5ECF6",
          "polar": {
           "angularaxis": {
            "gridcolor": "white",
            "linecolor": "white",
            "ticks": ""
           },
           "bgcolor": "#E5ECF6",
           "radialaxis": {
            "gridcolor": "white",
            "linecolor": "white",
            "ticks": ""
           }
          },
          "scene": {
           "xaxis": {
            "backgroundcolor": "#E5ECF6",
            "gridcolor": "white",
            "gridwidth": 2,
            "linecolor": "white",
            "showbackground": true,
            "ticks": "",
            "zerolinecolor": "white"
           },
           "yaxis": {
            "backgroundcolor": "#E5ECF6",
            "gridcolor": "white",
            "gridwidth": 2,
            "linecolor": "white",
            "showbackground": true,
            "ticks": "",
            "zerolinecolor": "white"
           },
           "zaxis": {
            "backgroundcolor": "#E5ECF6",
            "gridcolor": "white",
            "gridwidth": 2,
            "linecolor": "white",
            "showbackground": true,
            "ticks": "",
            "zerolinecolor": "white"
           }
          },
          "shapedefaults": {
           "line": {
            "color": "#2a3f5f"
           }
          },
          "ternary": {
           "aaxis": {
            "gridcolor": "white",
            "linecolor": "white",
            "ticks": ""
           },
           "baxis": {
            "gridcolor": "white",
            "linecolor": "white",
            "ticks": ""
           },
           "bgcolor": "#E5ECF6",
           "caxis": {
            "gridcolor": "white",
            "linecolor": "white",
            "ticks": ""
           }
          },
          "title": {
           "x": 0.05
          },
          "xaxis": {
           "automargin": true,
           "gridcolor": "white",
           "linecolor": "white",
           "ticks": "",
           "title": {
            "standoff": 15
           },
           "zerolinecolor": "white",
           "zerolinewidth": 2
          },
          "yaxis": {
           "automargin": true,
           "gridcolor": "white",
           "linecolor": "white",
           "ticks": "",
           "title": {
            "standoff": 15
           },
           "zerolinecolor": "white",
           "zerolinewidth": 2
          }
         }
        },
        "width": 800
       }
      },
      "text/html": [
       "<div>                            <div id=\"910694ca-d95d-4cbd-8bd4-befe8652b11c\" class=\"plotly-graph-div\" style=\"height:525px; width:800px;\"></div>            <script type=\"text/javascript\">                require([\"plotly\"], function(Plotly) {                    window.PLOTLYENV=window.PLOTLYENV || {};                                    if (document.getElementById(\"910694ca-d95d-4cbd-8bd4-befe8652b11c\")) {                    Plotly.newPlot(                        \"910694ca-d95d-4cbd-8bd4-befe8652b11c\",                        [{\"hovertemplate\":\"class=%{marker.color}<br>GDP_log10=%{x}<br>Year=%{y}<br>dollar_price=%{z}<extra></extra>\",\"legendgroup\":\"0\",\"marker\":{\"color\":[0,0,0,0,0,0,0,0,0,0,0,0,0,0,0,0,0,0,0,0,0,0,0,0,0,0,0,0,0,0,0,0,0,0,0,0,0,0,0,0,0,0,0,0,0,0,0,0,0,0,0,0,0,0,0,0,0,0,0,0,0,0,0,0,0,0,0,0,0,0,0,0,0,0,0,0,0,0,0,0,0,0,0,0,0,0,0,0,0,0,0,0,0,0,0,0,0,0,0,0,0,0,0,0,0,0,0,0,0,0,0,0,0,0,0,0,0,0,0,0,0,0,0,0,0,0,0,0,0,0,0,0,0,0,0,0,0,0,0,0,0,0,0,0,0,0,0,0,0,0,0,0,0,0,0,0,0,0,0,0,0,0,0,0,0,0,0,0,0,0,0,0,0,0,0,0,0,0,0,0,0,0,0,0,0,0,0,0,0,0,0,0,0,0,0,0,0,0,0,0,0,0,0,0,0,0],\"coloraxis\":\"coloraxis\",\"symbol\":\"circle\"},\"mode\":\"markers\",\"name\":\"0\",\"scene\":\"scene\",\"showlegend\":true,\"x\":[11.412094140694933,12.206213115708598,12.148266316515395,11.187343018561377,11.959590832796005,12.156018830921651,11.4488701154014,12.211139237420024,12.169224627077039,11.204757384698596,11.965827518549071,12.182916568785958,11.486414892149611,12.235460267422326,12.194208979646682,11.234990295456319,11.982529018865602,10.997954143027906,12.203119954874245,11.523249474489033,12.249149420044517,12.207472789481013,11.259240183834748,11.992437749449032,11.024428195817706,12.207472789481013,11.556863102495688,12.266024616372095,12.194567064529759,11.28584524303856,11.390148781677974,10.500752789079453,12.011532383016828,11.05595140532915,12.194567064529759,10.496839340742994,11.594320714558501,12.291615236005704,12.20777973612601,11.30664158462451,11.418917485831926,10.534851171905254,12.021371251017943,11.091455913055093,12.221236832094737,10.524358191893988,11.611592681466488,12.31319417513532,12.228823666458899,11.32170611054876,12.026312588504672,11.12938694025794,12.228823666458899,11.611592681466488,12.31319417513532,12.238826128136264,11.32170611054876,11.43283786085072,10.554588737254456,12.026312588504672,11.12938694025794,12.251109933426724,10.554456322453197,11.585096220432902,12.312646953219183,12.251109933426724,11.314859061201037,11.43804052399445,10.550353111681984,12.00272747268983,11.134119708037254,12.254095904857678,10.57250528268276,11.585096220432902,12.312646953219183,12.254095904857678,11.314859061201037,11.43804052399445,10.550353111681984,12.00272747268983,11.134119708037254,12.258876629372132,10.57250528268276,11.626983632212891,12.34417015682028,12.258876629372132,11.339526964214535,11.456523929688464,10.571343267322925,12.024403562682966,11.16887739863303,12.271623243192991,10.605137779867261,11.652306306257216,12.361096706534518,12.271623243192991,11.365285766249952,11.48737596999458,10.589657145321672,12.04002843923198,11.195520516621967,12.2797057186105,10.626997166281603,11.647825841976948,12.369360598115334,12.2797057186105,11.38779189652721,11.504004374155247,10.610005663831604,12.055565618711297,11.221398587308745,10.64209768751223,11.647825841976948,12.369360598115334,11.38779189652721,11.504004374155247,10.610005663831604,12.055565618711297,11.221398587308745,10.64209768751223,11.658147867764232,12.3822188254919,11.405013210705802,11.523399152442353,10.61974978957198,12.0614072377223,11.246099555670785,10.661785202834594,11.647096280277053,12.384401805791391,11.412618443989382,11.543462091224237,10.634754496461511,12.073417721867594,11.256323190864252,10.675628113747385,11.647096280277053,12.384401805791391,11.412618443989382,11.543462091224237,12.073417721867594,10.675628113747385,11.658798140643178,12.368723749485705,11.422509407499756,11.556114265704586,10.650247250709462,12.08746906765054,11.270238496862273,10.677235245305232,11.658798140643178,12.368723749485705,11.422509407499756,11.556114265704586,10.650247250709462,12.08746906765054,11.270238496862273,10.677235245305232,11.649668728120272,12.354125733716039,11.429705457627271,11.565085955321356,10.66830660829246,12.0999739842355,11.287087018757926,10.684512630631943,11.649668728120272,12.354125733716039,11.429705457627271,11.565085955321356,10.66830660829246,12.0999739842355,11.287087018757926,10.684512630631943,11.66110626451335,12.3587208179083,11.435224640475868,11.570915199486205,10.682815309640858,12.108872709089708,11.297891764154654,10.695623327479398,11.66110626451335,12.3587208179083,11.435224640475868,11.570915199486205,10.682815309640858,12.108872709089708,11.297891764154654,10.695623327479398,11.650046090510354,12.36354805305592,11.452361533134575,11.582308863164489,10.69423370175094,12.117446967049373,11.314827508809302,10.702602875458641,11.650046090510354,12.36354805305592,11.452361533134575,11.582308863164489,10.69423370175094,12.117446967049373,11.314827508809302,10.702602875458641],\"y\":[2000,2000,2000,2000,2000,2001,2001,2001,2002,2001,2001,2003,2002,2002,2004,2002,2002,2002,2005,2003,2003,2006,2003,2003,2003,2006,2004,2004,2007,2004,2004,2004,2004,2004,2007,2004,2005,2005,2008,2005,2005,2005,2005,2005,2009,2005,2006,2006,2010,2006,2006,2006,2010,2006,2006,2011,2006,2006,2006,2006,2006,2012,2006,2007,2007,2012,2007,2007,2007,2007,2007,2013,2007,2007,2007,2013,2007,2007,2007,2007,2007,2014,2007,2008,2008,2014,2008,2008,2008,2008,2008,2015,2008,2009,2009,2015,2009,2009,2009,2009,2009,2016,2009,2010,2010,2016,2010,2010,2010,2010,2010,2010,2010,2010,2010,2010,2010,2010,2010,2010,2011,2011,2011,2011,2011,2011,2011,2011,2012,2012,2012,2012,2012,2012,2012,2012,2012,2012,2012,2012,2012,2012,2013,2013,2013,2013,2013,2013,2013,2013,2013,2013,2013,2013,2013,2013,2013,2013,2014,2014,2014,2014,2014,2014,2014,2014,2014,2014,2014,2014,2014,2014,2014,2014,2015,2015,2015,2015,2015,2015,2015,2015,2015,2015,2015,2015,2015,2015,2015,2015,2016,2016,2016,2016,2016,2016,2016,2016,2016,2016,2016,2016,2016,2016,2016,2016],\"z\":[2.5,2.95,2.85,2.45,2.32,3.33,2.5,1.8,3.33,2.1,2.43,3.2,0.83,1.8,3.19,2.14,2.43,2.83,3.28,2.05,1.52,3.52,1.96,2.3,2.63,3.52,2.18,1.8,3.63,2.18,2.35,2.61,2.18,3.0,3.88,1.03,2.38,2.95,4.09,2.53,2.79,2.38,2.8,3.0,3.89,1.83,1.58,3.1,4.12,2.99,2.8,3.17,4.17,2.33,3.2,4.73,2.95,2.6,2.22,2.64,3.17,4.73,1.84,2.75,3.2,5.12,3.09,3.08,2.22,2.9,3.17,5.41,2.39,2.75,6.9,5.53,2.98,3.53,2.18,2.9,3.17,5.54,2.7,3.67,7.5,5.64,3.14,3.89,3.27,3.2,4.75,5.7,3.21,3.83,8.03,5.85,3.19,3.34,3.44,2.54,2.69,5.84,2.65,2.33,8.2,6.0,3.18,3.91,3.52,2.67,4.03,3.35,4.67,8.71,3.35,4.39,3.83,2.67,5.0,3.76,5.0,9.5,4.0,4.75,4.07,2.91,5.0,5.0,5.0,10.25,4.05,4.54,4.03,2.85,5.0,4.74,4.75,5.04,4.16,4.77,2.85,4.71,4.75,11.25,4.35,4.85,4.4,3.08,5.0,5.53,4.2,6.0,3.94,4.48,4.32,3.08,5.0,5.0,3.5,6.2,3.7,4.34,4.29,2.85,5.0,5.0,2.62,6.5,3.72,4.66,4.0,3.5,5.0,5.14,3.5,6.75,3.35,3.34,4.01,3.5,3.33,4.71,3.11,4.5,3.27,2.92,4.03,3.27,3.33,4.19,2.54,3.38,2.94,2.43,4.02,2.88,3.33,3.77,3.57,5.17,3.53,3.04,4.12,2.44,3.33,4.1],\"type\":\"scatter3d\"},{\"hovertemplate\":\"class=%{marker.color}<br>GDP_log10=%{x}<br>Year=%{y}<br>dollar_price=%{z}<extra></extra>\",\"legendgroup\":\"1\",\"marker\":{\"color\":[1,1,1,1,1,1,1,1,1,1,1,1,1,1,1,1,1,1,1,1,1,1,1,1,1],\"coloraxis\":\"coloraxis\",\"symbol\":\"diamond\"},\"mode\":\"markers\",\"name\":\"1\",\"scene\":\"scene\",\"showlegend\":true,\"x\":[13.112883048635458,13.125133039916829,13.1413274638702,13.156321950446713,13.168547568872253,13.176620775384281,13.176027557860133,13.176027557860133,13.164867160351593,13.164867160351593,13.17586247037557,13.182545891119375,13.19220492541459,13.19220492541459,13.2001333751489,13.210652875437406,13.210652875437406,13.22298944474631,13.22298944474631,13.229740699690918,13.229740699690918,13.239264433777802,13.239264433777802,13.251499516029417,13.251499516029417],\"y\":[2000,2001,2002,2003,2004,2005,2006,2006,2007,2007,2008,2009,2010,2010,2011,2012,2012,2013,2013,2014,2014,2015,2015,2016,2016],\"z\":[2.24,2.24,2.35,2.46,2.47,2.58,2.67,2.78,2.89,3.0,3.21,3.43,3.43,3.53,3.64,3.81,3.96,4.03,4.18,4.24,4.29,4.29,4.29,4.29,4.5],\"type\":\"scatter3d\"}],                        {\"template\":{\"data\":{\"bar\":[{\"error_x\":{\"color\":\"#2a3f5f\"},\"error_y\":{\"color\":\"#2a3f5f\"},\"marker\":{\"line\":{\"color\":\"#E5ECF6\",\"width\":0.5},\"pattern\":{\"fillmode\":\"overlay\",\"size\":10,\"solidity\":0.2}},\"type\":\"bar\"}],\"barpolar\":[{\"marker\":{\"line\":{\"color\":\"#E5ECF6\",\"width\":0.5},\"pattern\":{\"fillmode\":\"overlay\",\"size\":10,\"solidity\":0.2}},\"type\":\"barpolar\"}],\"carpet\":[{\"aaxis\":{\"endlinecolor\":\"#2a3f5f\",\"gridcolor\":\"white\",\"linecolor\":\"white\",\"minorgridcolor\":\"white\",\"startlinecolor\":\"#2a3f5f\"},\"baxis\":{\"endlinecolor\":\"#2a3f5f\",\"gridcolor\":\"white\",\"linecolor\":\"white\",\"minorgridcolor\":\"white\",\"startlinecolor\":\"#2a3f5f\"},\"type\":\"carpet\"}],\"choropleth\":[{\"colorbar\":{\"outlinewidth\":0,\"ticks\":\"\"},\"type\":\"choropleth\"}],\"contour\":[{\"colorbar\":{\"outlinewidth\":0,\"ticks\":\"\"},\"colorscale\":[[0.0,\"#0d0887\"],[0.1111111111111111,\"#46039f\"],[0.2222222222222222,\"#7201a8\"],[0.3333333333333333,\"#9c179e\"],[0.4444444444444444,\"#bd3786\"],[0.5555555555555556,\"#d8576b\"],[0.6666666666666666,\"#ed7953\"],[0.7777777777777778,\"#fb9f3a\"],[0.8888888888888888,\"#fdca26\"],[1.0,\"#f0f921\"]],\"type\":\"contour\"}],\"contourcarpet\":[{\"colorbar\":{\"outlinewidth\":0,\"ticks\":\"\"},\"type\":\"contourcarpet\"}],\"heatmap\":[{\"colorbar\":{\"outlinewidth\":0,\"ticks\":\"\"},\"colorscale\":[[0.0,\"#0d0887\"],[0.1111111111111111,\"#46039f\"],[0.2222222222222222,\"#7201a8\"],[0.3333333333333333,\"#9c179e\"],[0.4444444444444444,\"#bd3786\"],[0.5555555555555556,\"#d8576b\"],[0.6666666666666666,\"#ed7953\"],[0.7777777777777778,\"#fb9f3a\"],[0.8888888888888888,\"#fdca26\"],[1.0,\"#f0f921\"]],\"type\":\"heatmap\"}],\"heatmapgl\":[{\"colorbar\":{\"outlinewidth\":0,\"ticks\":\"\"},\"colorscale\":[[0.0,\"#0d0887\"],[0.1111111111111111,\"#46039f\"],[0.2222222222222222,\"#7201a8\"],[0.3333333333333333,\"#9c179e\"],[0.4444444444444444,\"#bd3786\"],[0.5555555555555556,\"#d8576b\"],[0.6666666666666666,\"#ed7953\"],[0.7777777777777778,\"#fb9f3a\"],[0.8888888888888888,\"#fdca26\"],[1.0,\"#f0f921\"]],\"type\":\"heatmapgl\"}],\"histogram\":[{\"marker\":{\"pattern\":{\"fillmode\":\"overlay\",\"size\":10,\"solidity\":0.2}},\"type\":\"histogram\"}],\"histogram2d\":[{\"colorbar\":{\"outlinewidth\":0,\"ticks\":\"\"},\"colorscale\":[[0.0,\"#0d0887\"],[0.1111111111111111,\"#46039f\"],[0.2222222222222222,\"#7201a8\"],[0.3333333333333333,\"#9c179e\"],[0.4444444444444444,\"#bd3786\"],[0.5555555555555556,\"#d8576b\"],[0.6666666666666666,\"#ed7953\"],[0.7777777777777778,\"#fb9f3a\"],[0.8888888888888888,\"#fdca26\"],[1.0,\"#f0f921\"]],\"type\":\"histogram2d\"}],\"histogram2dcontour\":[{\"colorbar\":{\"outlinewidth\":0,\"ticks\":\"\"},\"colorscale\":[[0.0,\"#0d0887\"],[0.1111111111111111,\"#46039f\"],[0.2222222222222222,\"#7201a8\"],[0.3333333333333333,\"#9c179e\"],[0.4444444444444444,\"#bd3786\"],[0.5555555555555556,\"#d8576b\"],[0.6666666666666666,\"#ed7953\"],[0.7777777777777778,\"#fb9f3a\"],[0.8888888888888888,\"#fdca26\"],[1.0,\"#f0f921\"]],\"type\":\"histogram2dcontour\"}],\"mesh3d\":[{\"colorbar\":{\"outlinewidth\":0,\"ticks\":\"\"},\"type\":\"mesh3d\"}],\"parcoords\":[{\"line\":{\"colorbar\":{\"outlinewidth\":0,\"ticks\":\"\"}},\"type\":\"parcoords\"}],\"pie\":[{\"automargin\":true,\"type\":\"pie\"}],\"scatter\":[{\"marker\":{\"colorbar\":{\"outlinewidth\":0,\"ticks\":\"\"}},\"type\":\"scatter\"}],\"scatter3d\":[{\"line\":{\"colorbar\":{\"outlinewidth\":0,\"ticks\":\"\"}},\"marker\":{\"colorbar\":{\"outlinewidth\":0,\"ticks\":\"\"}},\"type\":\"scatter3d\"}],\"scattercarpet\":[{\"marker\":{\"colorbar\":{\"outlinewidth\":0,\"ticks\":\"\"}},\"type\":\"scattercarpet\"}],\"scattergeo\":[{\"marker\":{\"colorbar\":{\"outlinewidth\":0,\"ticks\":\"\"}},\"type\":\"scattergeo\"}],\"scattergl\":[{\"marker\":{\"colorbar\":{\"outlinewidth\":0,\"ticks\":\"\"}},\"type\":\"scattergl\"}],\"scattermapbox\":[{\"marker\":{\"colorbar\":{\"outlinewidth\":0,\"ticks\":\"\"}},\"type\":\"scattermapbox\"}],\"scatterpolar\":[{\"marker\":{\"colorbar\":{\"outlinewidth\":0,\"ticks\":\"\"}},\"type\":\"scatterpolar\"}],\"scatterpolargl\":[{\"marker\":{\"colorbar\":{\"outlinewidth\":0,\"ticks\":\"\"}},\"type\":\"scatterpolargl\"}],\"scatterternary\":[{\"marker\":{\"colorbar\":{\"outlinewidth\":0,\"ticks\":\"\"}},\"type\":\"scatterternary\"}],\"surface\":[{\"colorbar\":{\"outlinewidth\":0,\"ticks\":\"\"},\"colorscale\":[[0.0,\"#0d0887\"],[0.1111111111111111,\"#46039f\"],[0.2222222222222222,\"#7201a8\"],[0.3333333333333333,\"#9c179e\"],[0.4444444444444444,\"#bd3786\"],[0.5555555555555556,\"#d8576b\"],[0.6666666666666666,\"#ed7953\"],[0.7777777777777778,\"#fb9f3a\"],[0.8888888888888888,\"#fdca26\"],[1.0,\"#f0f921\"]],\"type\":\"surface\"}],\"table\":[{\"cells\":{\"fill\":{\"color\":\"#EBF0F8\"},\"line\":{\"color\":\"white\"}},\"header\":{\"fill\":{\"color\":\"#C8D4E3\"},\"line\":{\"color\":\"white\"}},\"type\":\"table\"}]},\"layout\":{\"annotationdefaults\":{\"arrowcolor\":\"#2a3f5f\",\"arrowhead\":0,\"arrowwidth\":1},\"autotypenumbers\":\"strict\",\"coloraxis\":{\"colorbar\":{\"outlinewidth\":0,\"ticks\":\"\"}},\"colorscale\":{\"diverging\":[[0,\"#8e0152\"],[0.1,\"#c51b7d\"],[0.2,\"#de77ae\"],[0.3,\"#f1b6da\"],[0.4,\"#fde0ef\"],[0.5,\"#f7f7f7\"],[0.6,\"#e6f5d0\"],[0.7,\"#b8e186\"],[0.8,\"#7fbc41\"],[0.9,\"#4d9221\"],[1,\"#276419\"]],\"sequential\":[[0.0,\"#0d0887\"],[0.1111111111111111,\"#46039f\"],[0.2222222222222222,\"#7201a8\"],[0.3333333333333333,\"#9c179e\"],[0.4444444444444444,\"#bd3786\"],[0.5555555555555556,\"#d8576b\"],[0.6666666666666666,\"#ed7953\"],[0.7777777777777778,\"#fb9f3a\"],[0.8888888888888888,\"#fdca26\"],[1.0,\"#f0f921\"]],\"sequentialminus\":[[0.0,\"#0d0887\"],[0.1111111111111111,\"#46039f\"],[0.2222222222222222,\"#7201a8\"],[0.3333333333333333,\"#9c179e\"],[0.4444444444444444,\"#bd3786\"],[0.5555555555555556,\"#d8576b\"],[0.6666666666666666,\"#ed7953\"],[0.7777777777777778,\"#fb9f3a\"],[0.8888888888888888,\"#fdca26\"],[1.0,\"#f0f921\"]]},\"colorway\":[\"#636efa\",\"#EF553B\",\"#00cc96\",\"#ab63fa\",\"#FFA15A\",\"#19d3f3\",\"#FF6692\",\"#B6E880\",\"#FF97FF\",\"#FECB52\"],\"font\":{\"color\":\"#2a3f5f\"},\"geo\":{\"bgcolor\":\"white\",\"lakecolor\":\"white\",\"landcolor\":\"#E5ECF6\",\"showlakes\":true,\"showland\":true,\"subunitcolor\":\"white\"},\"hoverlabel\":{\"align\":\"left\"},\"hovermode\":\"closest\",\"mapbox\":{\"style\":\"light\"},\"paper_bgcolor\":\"white\",\"plot_bgcolor\":\"#E5ECF6\",\"polar\":{\"angularaxis\":{\"gridcolor\":\"white\",\"linecolor\":\"white\",\"ticks\":\"\"},\"bgcolor\":\"#E5ECF6\",\"radialaxis\":{\"gridcolor\":\"white\",\"linecolor\":\"white\",\"ticks\":\"\"}},\"scene\":{\"xaxis\":{\"backgroundcolor\":\"#E5ECF6\",\"gridcolor\":\"white\",\"gridwidth\":2,\"linecolor\":\"white\",\"showbackground\":true,\"ticks\":\"\",\"zerolinecolor\":\"white\"},\"yaxis\":{\"backgroundcolor\":\"#E5ECF6\",\"gridcolor\":\"white\",\"gridwidth\":2,\"linecolor\":\"white\",\"showbackground\":true,\"ticks\":\"\",\"zerolinecolor\":\"white\"},\"zaxis\":{\"backgroundcolor\":\"#E5ECF6\",\"gridcolor\":\"white\",\"gridwidth\":2,\"linecolor\":\"white\",\"showbackground\":true,\"ticks\":\"\",\"zerolinecolor\":\"white\"}},\"shapedefaults\":{\"line\":{\"color\":\"#2a3f5f\"}},\"ternary\":{\"aaxis\":{\"gridcolor\":\"white\",\"linecolor\":\"white\",\"ticks\":\"\"},\"baxis\":{\"gridcolor\":\"white\",\"linecolor\":\"white\",\"ticks\":\"\"},\"bgcolor\":\"#E5ECF6\",\"caxis\":{\"gridcolor\":\"white\",\"linecolor\":\"white\",\"ticks\":\"\"}},\"title\":{\"x\":0.05},\"xaxis\":{\"automargin\":true,\"gridcolor\":\"white\",\"linecolor\":\"white\",\"ticks\":\"\",\"title\":{\"standoff\":15},\"zerolinecolor\":\"white\",\"zerolinewidth\":2},\"yaxis\":{\"automargin\":true,\"gridcolor\":\"white\",\"linecolor\":\"white\",\"ticks\":\"\",\"title\":{\"standoff\":15},\"zerolinecolor\":\"white\",\"zerolinewidth\":2}}},\"scene\":{\"domain\":{\"x\":[0.0,1.0],\"y\":[0.0,1.0]},\"xaxis\":{\"title\":{\"text\":\"GDP_log10\"}},\"yaxis\":{\"title\":{\"text\":\"Year\"}},\"zaxis\":{\"title\":{\"text\":\"dollar_price\"}}},\"coloraxis\":{\"colorbar\":{\"title\":{\"text\":\"class\"}},\"colorscale\":[[0.0,\"#0d0887\"],[0.1111111111111111,\"#46039f\"],[0.2222222222222222,\"#7201a8\"],[0.3333333333333333,\"#9c179e\"],[0.4444444444444444,\"#bd3786\"],[0.5555555555555556,\"#d8576b\"],[0.6666666666666666,\"#ed7953\"],[0.7777777777777778,\"#fb9f3a\"],[0.8888888888888888,\"#fdca26\"],[1.0,\"#f0f921\"]]},\"legend\":{\"title\":{\"text\":\"class\"},\"tracegroupgap\":0,\"x\":0,\"y\":1},\"margin\":{\"t\":60},\"width\":800},                        {\"responsive\": true}                    ).then(function(){\n",
       "                            \n",
       "var gd = document.getElementById('910694ca-d95d-4cbd-8bd4-befe8652b11c');\n",
       "var x = new MutationObserver(function (mutations, observer) {{\n",
       "        var display = window.getComputedStyle(gd).display;\n",
       "        if (!display || display === 'none') {{\n",
       "            console.log([gd, 'removed!']);\n",
       "            Plotly.purge(gd);\n",
       "            observer.disconnect();\n",
       "        }}\n",
       "}});\n",
       "\n",
       "// Listen for the removal of the full notebook cells\n",
       "var notebookContainer = gd.closest('#notebook-container');\n",
       "if (notebookContainer) {{\n",
       "    x.observe(notebookContainer, {childList: true});\n",
       "}}\n",
       "\n",
       "// Listen for the clearing of the current output cell\n",
       "var outputEl = gd.closest('.output');\n",
       "if (outputEl) {{\n",
       "    x.observe(outputEl, {childList: true});\n",
       "}}\n",
       "\n",
       "                        })                };                });            </script>        </div>"
      ]
     },
     "metadata": {},
     "output_type": "display_data"
    }
   ],
   "source": [
    "# Plot 3D graph for K= 2\n",
    "\n",
    "fig = px.scatter_3d(\n",
    "    two_clusters,\n",
    "    x=\"GDP_log10\",\n",
    "    y=\"Year\",\n",
    "    z=\"dollar_price\",\n",
    "    color=\"class\",\n",
    "    symbol=\"class\",\n",
    "    width=800,\n",
    ")\n",
    "fig.update_layout(legend=dict(x=0, y=1))\n",
    "fig.show()"
   ]
  },
  {
   "cell_type": "code",
   "execution_count": null,
   "id": "cb5b2c47",
   "metadata": {},
   "outputs": [],
   "source": []
  },
  {
   "cell_type": "code",
   "execution_count": 80,
   "id": "fd6b59aa",
   "metadata": {
    "scrolled": true
   },
   "outputs": [
    {
     "data": {
      "text/html": [
       "<div>\n",
       "<style scoped>\n",
       "    .dataframe tbody tr th:only-of-type {\n",
       "        vertical-align: middle;\n",
       "    }\n",
       "\n",
       "    .dataframe tbody tr th {\n",
       "        vertical-align: top;\n",
       "    }\n",
       "\n",
       "    .dataframe thead th {\n",
       "        text-align: right;\n",
       "    }\n",
       "</style>\n",
       "<table border=\"1\" class=\"dataframe\">\n",
       "  <thead>\n",
       "    <tr style=\"text-align: right;\">\n",
       "      <th></th>\n",
       "      <th>dollar_price</th>\n",
       "      <th>Year</th>\n",
       "      <th>gdp_growth</th>\n",
       "      <th>GDP_Per_Capita</th>\n",
       "      <th>GDP</th>\n",
       "      <th>GDP_log10</th>\n",
       "      <th>class</th>\n",
       "    </tr>\n",
       "  </thead>\n",
       "  <tbody>\n",
       "    <tr>\n",
       "      <th>0</th>\n",
       "      <td>2.50</td>\n",
       "      <td>2000</td>\n",
       "      <td>-10.894485</td>\n",
       "      <td>6854.294081</td>\n",
       "      <td>2.582820e+11</td>\n",
       "      <td>11.412094</td>\n",
       "      <td>2</td>\n",
       "    </tr>\n",
       "    <tr>\n",
       "      <th>2</th>\n",
       "      <td>2.95</td>\n",
       "      <td>2000</td>\n",
       "      <td>3.053462</td>\n",
       "      <td>8954.837245</td>\n",
       "      <td>1.607730e+12</td>\n",
       "      <td>12.206213</td>\n",
       "      <td>0</td>\n",
       "    </tr>\n",
       "    <tr>\n",
       "      <th>3</th>\n",
       "      <td>2.85</td>\n",
       "      <td>2000</td>\n",
       "      <td>3.016889</td>\n",
       "      <td>44863.216020</td>\n",
       "      <td>1.406910e+12</td>\n",
       "      <td>12.148266</td>\n",
       "      <td>0</td>\n",
       "    </tr>\n",
       "    <tr>\n",
       "      <th>4</th>\n",
       "      <td>2.45</td>\n",
       "      <td>2000</td>\n",
       "      <td>3.106971</td>\n",
       "      <td>9814.656135</td>\n",
       "      <td>1.539370e+11</td>\n",
       "      <td>11.187343</td>\n",
       "      <td>2</td>\n",
       "    </tr>\n",
       "    <tr>\n",
       "      <th>13</th>\n",
       "      <td>2.32</td>\n",
       "      <td>2000</td>\n",
       "      <td>-0.039844</td>\n",
       "      <td>8960.554086</td>\n",
       "      <td>9.111520e+11</td>\n",
       "      <td>11.959591</td>\n",
       "      <td>2</td>\n",
       "    </tr>\n",
       "  </tbody>\n",
       "</table>\n",
       "</div>"
      ],
      "text/plain": [
       "    dollar_price  Year  gdp_growth  GDP_Per_Capita           GDP  GDP_log10  \\\n",
       "0           2.50  2000  -10.894485     6854.294081  2.582820e+11  11.412094   \n",
       "2           2.95  2000    3.053462     8954.837245  1.607730e+12  12.206213   \n",
       "3           2.85  2000    3.016889    44863.216020  1.406910e+12  12.148266   \n",
       "4           2.45  2000    3.106971     9814.656135  1.539370e+11  11.187343   \n",
       "13          2.32  2000   -0.039844     8960.554086  9.111520e+11  11.959591   \n",
       "\n",
       "    class  \n",
       "0       2  \n",
       "2       0  \n",
       "3       0  \n",
       "4       2  \n",
       "13      2  "
      ]
     },
     "execution_count": 80,
     "metadata": {},
     "output_type": "execute_result"
    }
   ],
   "source": [
    "three_clusters = get_clusters(3, df_Americas_modified)\n",
    "three_clusters.head()"
   ]
  },
  {
   "cell_type": "code",
   "execution_count": 76,
   "id": "e1de23f5",
   "metadata": {
    "scrolled": true
   },
   "outputs": [
    {
     "data": {
      "application/vnd.plotly.v1+json": {
       "config": {
        "plotlyServerURL": "https://plot.ly"
       },
       "data": [
        {
         "hovertemplate": "class=%{marker.color}<br>GDP_log10=%{x}<br>Year=%{y}<br>dollar_price=%{z}<extra></extra>",
         "legendgroup": "2",
         "marker": {
          "color": [
           2,
           2,
           2,
           2,
           2,
           2,
           2,
           2,
           2,
           2,
           2,
           2,
           2,
           2,
           2,
           2,
           2,
           2,
           2,
           2,
           2,
           2,
           2,
           2,
           2,
           2,
           2,
           2,
           2,
           2,
           2,
           2,
           2,
           2,
           2,
           2,
           2,
           2,
           2,
           2,
           2,
           2,
           2,
           2,
           2,
           2,
           2,
           2,
           2,
           2,
           2,
           2,
           2,
           2,
           2,
           2,
           2,
           2,
           2,
           2,
           2,
           2,
           2,
           2,
           2,
           2,
           2,
           2,
           2,
           2,
           2,
           2,
           2,
           2,
           2,
           2,
           2,
           2,
           2,
           2,
           2,
           2,
           2,
           2,
           2,
           2,
           2,
           2,
           2,
           2,
           2,
           2,
           2,
           2,
           2,
           2,
           2,
           2,
           2,
           2,
           2,
           2,
           2,
           2,
           2,
           2,
           2,
           2,
           2,
           2,
           2,
           2,
           2,
           2,
           2,
           2,
           2,
           2,
           2,
           2,
           2,
           2,
           2,
           2,
           2,
           2,
           2,
           2,
           2,
           2,
           2,
           2,
           2
          ],
          "coloraxis": "coloraxis",
          "symbol": "circle"
         },
         "mode": "markers",
         "name": "2",
         "scene": "scene",
         "showlegend": true,
         "type": "scatter3d",
         "x": [
          11.412094140694933,
          11.187343018561377,
          11.959590832796005,
          11.4488701154014,
          11.204757384698596,
          11.965827518549071,
          11.486414892149611,
          11.234990295456319,
          10.997954143027906,
          11.523249474489033,
          11.259240183834748,
          11.024428195817706,
          11.556863102495688,
          11.28584524303856,
          11.390148781677974,
          10.500752789079453,
          11.05595140532915,
          10.496839340742994,
          11.594320714558501,
          11.30664158462451,
          11.418917485831926,
          10.534851171905254,
          11.091455913055093,
          10.524358191893988,
          11.611592681466488,
          11.32170611054876,
          11.12938694025794,
          11.611592681466488,
          11.32170611054876,
          11.43283786085072,
          10.554588737254456,
          11.12938694025794,
          10.554456322453197,
          11.585096220432902,
          11.314859061201037,
          11.43804052399445,
          10.550353111681984,
          11.134119708037254,
          10.57250528268276,
          11.585096220432902,
          11.314859061201037,
          11.43804052399445,
          10.550353111681984,
          11.134119708037254,
          10.57250528268276,
          11.626983632212891,
          11.339526964214535,
          11.456523929688464,
          10.571343267322925,
          11.16887739863303,
          10.605137779867261,
          11.652306306257216,
          11.365285766249952,
          11.48737596999458,
          10.589657145321672,
          11.195520516621967,
          10.626997166281603,
          11.647825841976948,
          11.38779189652721,
          11.504004374155247,
          10.610005663831604,
          11.221398587308745,
          10.64209768751223,
          11.647825841976948,
          11.38779189652721,
          11.504004374155247,
          10.610005663831604,
          11.221398587308745,
          10.64209768751223,
          11.658147867764232,
          11.405013210705802,
          11.523399152442353,
          10.61974978957198,
          11.246099555670785,
          10.661785202834594,
          11.647096280277053,
          11.412618443989382,
          11.543462091224237,
          10.634754496461511,
          11.256323190864252,
          10.675628113747385,
          11.647096280277053,
          11.412618443989382,
          11.543462091224237,
          10.675628113747385,
          11.658798140643178,
          11.422509407499756,
          11.556114265704586,
          10.650247250709462,
          11.270238496862273,
          10.677235245305232,
          11.658798140643178,
          11.422509407499756,
          11.556114265704586,
          10.650247250709462,
          11.270238496862273,
          10.677235245305232,
          11.649668728120272,
          11.429705457627271,
          11.565085955321356,
          10.66830660829246,
          11.287087018757926,
          10.684512630631943,
          11.649668728120272,
          11.429705457627271,
          11.565085955321356,
          10.66830660829246,
          11.287087018757926,
          10.684512630631943,
          11.66110626451335,
          11.435224640475868,
          11.570915199486205,
          10.682815309640858,
          11.297891764154654,
          10.695623327479398,
          11.66110626451335,
          11.435224640475868,
          11.570915199486205,
          10.682815309640858,
          11.297891764154654,
          10.695623327479398,
          11.650046090510354,
          11.452361533134575,
          11.582308863164489,
          10.69423370175094,
          11.314827508809302,
          10.702602875458641,
          11.650046090510354,
          11.452361533134575,
          11.582308863164489,
          10.69423370175094,
          11.314827508809302,
          10.702602875458641
         ],
         "y": [
          2000,
          2000,
          2000,
          2001,
          2001,
          2001,
          2002,
          2002,
          2002,
          2003,
          2003,
          2003,
          2004,
          2004,
          2004,
          2004,
          2004,
          2004,
          2005,
          2005,
          2005,
          2005,
          2005,
          2005,
          2006,
          2006,
          2006,
          2006,
          2006,
          2006,
          2006,
          2006,
          2006,
          2007,
          2007,
          2007,
          2007,
          2007,
          2007,
          2007,
          2007,
          2007,
          2007,
          2007,
          2007,
          2008,
          2008,
          2008,
          2008,
          2008,
          2008,
          2009,
          2009,
          2009,
          2009,
          2009,
          2009,
          2010,
          2010,
          2010,
          2010,
          2010,
          2010,
          2010,
          2010,
          2010,
          2010,
          2010,
          2010,
          2011,
          2011,
          2011,
          2011,
          2011,
          2011,
          2012,
          2012,
          2012,
          2012,
          2012,
          2012,
          2012,
          2012,
          2012,
          2012,
          2013,
          2013,
          2013,
          2013,
          2013,
          2013,
          2013,
          2013,
          2013,
          2013,
          2013,
          2013,
          2014,
          2014,
          2014,
          2014,
          2014,
          2014,
          2014,
          2014,
          2014,
          2014,
          2014,
          2014,
          2015,
          2015,
          2015,
          2015,
          2015,
          2015,
          2015,
          2015,
          2015,
          2015,
          2015,
          2015,
          2016,
          2016,
          2016,
          2016,
          2016,
          2016,
          2016,
          2016,
          2016,
          2016,
          2016,
          2016
         ],
         "z": [
          2.5,
          2.45,
          2.32,
          2.5,
          2.1,
          2.43,
          0.83,
          2.14,
          2.83,
          2.05,
          1.96,
          2.63,
          2.18,
          2.18,
          2.35,
          2.61,
          3,
          1.03,
          2.38,
          2.53,
          2.79,
          2.38,
          3,
          1.83,
          1.58,
          2.99,
          3.17,
          2.33,
          2.95,
          2.6,
          2.22,
          3.17,
          1.84,
          2.75,
          3.09,
          3.08,
          2.22,
          3.17,
          2.39,
          2.75,
          2.98,
          3.53,
          2.18,
          3.17,
          2.7,
          3.67,
          3.14,
          3.89,
          3.27,
          4.75,
          3.21,
          3.83,
          3.19,
          3.34,
          3.44,
          2.69,
          2.65,
          2.33,
          3.18,
          3.91,
          3.52,
          4.03,
          3.35,
          4.67,
          3.35,
          4.39,
          3.83,
          5,
          3.76,
          5,
          4,
          4.75,
          4.07,
          5,
          5,
          5,
          4.05,
          4.54,
          4.03,
          5,
          4.74,
          4.75,
          4.16,
          4.77,
          4.71,
          4.75,
          4.35,
          4.85,
          4.4,
          5,
          5.53,
          4.2,
          3.94,
          4.48,
          4.32,
          5,
          5,
          3.5,
          3.7,
          4.34,
          4.29,
          5,
          5,
          2.62,
          3.72,
          4.66,
          4,
          5,
          5.14,
          3.5,
          3.35,
          3.34,
          4.01,
          3.33,
          4.71,
          3.11,
          3.27,
          2.92,
          4.03,
          3.33,
          4.19,
          2.54,
          2.94,
          2.43,
          4.02,
          3.33,
          3.77,
          3.57,
          3.53,
          3.04,
          4.12,
          3.33,
          4.1
         ]
        },
        {
         "hovertemplate": "class=%{marker.color}<br>GDP_log10=%{x}<br>Year=%{y}<br>dollar_price=%{z}<extra></extra>",
         "legendgroup": "0",
         "marker": {
          "color": [
           0,
           0,
           0,
           0,
           0,
           0,
           0,
           0,
           0,
           0,
           0,
           0,
           0,
           0,
           0,
           0,
           0,
           0,
           0,
           0,
           0,
           0,
           0,
           0,
           0,
           0,
           0,
           0,
           0,
           0,
           0,
           0,
           0,
           0,
           0,
           0,
           0,
           0,
           0,
           0,
           0,
           0,
           0,
           0,
           0,
           0,
           0,
           0,
           0,
           0,
           0,
           0,
           0,
           0,
           0,
           0,
           0,
           0,
           0,
           0,
           0,
           0,
           0,
           0,
           0,
           0,
           0,
           0,
           0,
           0,
           0,
           0,
           0
          ],
          "coloraxis": "coloraxis",
          "symbol": "diamond"
         },
         "mode": "markers",
         "name": "0",
         "scene": "scene",
         "showlegend": true,
         "type": "scatter3d",
         "x": [
          12.206213115708598,
          12.148266316515395,
          12.156018830921651,
          12.211139237420024,
          12.169224627077039,
          12.182916568785958,
          12.235460267422326,
          12.194208979646682,
          11.982529018865602,
          12.203119954874245,
          12.249149420044517,
          12.207472789481013,
          11.992437749449032,
          12.207472789481013,
          12.266024616372095,
          12.194567064529759,
          12.011532383016828,
          12.194567064529759,
          12.291615236005704,
          12.20777973612601,
          12.021371251017943,
          12.221236832094737,
          12.31319417513532,
          12.228823666458899,
          12.026312588504672,
          12.228823666458899,
          12.31319417513532,
          12.238826128136264,
          12.026312588504672,
          12.251109933426724,
          12.312646953219183,
          12.251109933426724,
          12.00272747268983,
          12.254095904857678,
          12.312646953219183,
          12.254095904857678,
          12.00272747268983,
          12.258876629372132,
          12.34417015682028,
          12.258876629372132,
          12.024403562682966,
          12.271623243192991,
          12.361096706534518,
          12.271623243192991,
          12.04002843923198,
          12.2797057186105,
          12.369360598115334,
          12.2797057186105,
          12.055565618711297,
          12.369360598115334,
          12.055565618711297,
          12.3822188254919,
          12.0614072377223,
          12.384401805791391,
          12.073417721867594,
          12.384401805791391,
          12.073417721867594,
          12.368723749485705,
          12.08746906765054,
          12.368723749485705,
          12.08746906765054,
          12.354125733716039,
          12.0999739842355,
          12.354125733716039,
          12.0999739842355,
          12.3587208179083,
          12.108872709089708,
          12.3587208179083,
          12.108872709089708,
          12.36354805305592,
          12.117446967049373,
          12.36354805305592,
          12.117446967049373
         ],
         "y": [
          2000,
          2000,
          2001,
          2001,
          2002,
          2003,
          2002,
          2004,
          2002,
          2005,
          2003,
          2006,
          2003,
          2006,
          2004,
          2007,
          2004,
          2007,
          2005,
          2008,
          2005,
          2009,
          2006,
          2010,
          2006,
          2010,
          2006,
          2011,
          2006,
          2012,
          2007,
          2012,
          2007,
          2013,
          2007,
          2013,
          2007,
          2014,
          2008,
          2014,
          2008,
          2015,
          2009,
          2015,
          2009,
          2016,
          2010,
          2016,
          2010,
          2010,
          2010,
          2011,
          2011,
          2012,
          2012,
          2012,
          2012,
          2013,
          2013,
          2013,
          2013,
          2014,
          2014,
          2014,
          2014,
          2015,
          2015,
          2015,
          2015,
          2016,
          2016,
          2016,
          2016
         ],
         "z": [
          2.95,
          2.85,
          3.33,
          1.8,
          3.33,
          3.2,
          1.8,
          3.19,
          2.43,
          3.28,
          1.52,
          3.52,
          2.3,
          3.52,
          1.8,
          3.63,
          2.18,
          3.88,
          2.95,
          4.09,
          2.8,
          3.89,
          3.1,
          4.12,
          2.8,
          4.17,
          3.2,
          4.73,
          2.64,
          4.73,
          3.2,
          5.12,
          2.9,
          5.41,
          6.9,
          5.53,
          2.9,
          5.54,
          7.5,
          5.64,
          3.2,
          5.7,
          8.03,
          5.85,
          2.54,
          5.84,
          8.2,
          6,
          2.67,
          8.71,
          2.67,
          9.5,
          2.91,
          10.25,
          2.85,
          5.04,
          2.85,
          11.25,
          3.08,
          6,
          3.08,
          6.2,
          2.85,
          6.5,
          3.5,
          6.75,
          3.5,
          4.5,
          3.27,
          3.38,
          2.88,
          5.17,
          2.44
         ]
        },
        {
         "hovertemplate": "class=%{marker.color}<br>GDP_log10=%{x}<br>Year=%{y}<br>dollar_price=%{z}<extra></extra>",
         "legendgroup": "1",
         "marker": {
          "color": [
           1,
           1,
           1,
           1,
           1,
           1,
           1,
           1,
           1,
           1,
           1,
           1,
           1,
           1,
           1,
           1,
           1,
           1,
           1,
           1,
           1,
           1,
           1,
           1,
           1
          ],
          "coloraxis": "coloraxis",
          "symbol": "square"
         },
         "mode": "markers",
         "name": "1",
         "scene": "scene",
         "showlegend": true,
         "type": "scatter3d",
         "x": [
          13.112883048635458,
          13.125133039916829,
          13.1413274638702,
          13.156321950446713,
          13.168547568872253,
          13.176620775384281,
          13.176027557860133,
          13.176027557860133,
          13.164867160351593,
          13.164867160351593,
          13.17586247037557,
          13.182545891119375,
          13.19220492541459,
          13.19220492541459,
          13.2001333751489,
          13.210652875437406,
          13.210652875437406,
          13.22298944474631,
          13.22298944474631,
          13.229740699690918,
          13.229740699690918,
          13.239264433777802,
          13.239264433777802,
          13.251499516029417,
          13.251499516029417
         ],
         "y": [
          2000,
          2001,
          2002,
          2003,
          2004,
          2005,
          2006,
          2006,
          2007,
          2007,
          2008,
          2009,
          2010,
          2010,
          2011,
          2012,
          2012,
          2013,
          2013,
          2014,
          2014,
          2015,
          2015,
          2016,
          2016
         ],
         "z": [
          2.24,
          2.24,
          2.35,
          2.46,
          2.47,
          2.58,
          2.67,
          2.78,
          2.89,
          3,
          3.21,
          3.43,
          3.43,
          3.53,
          3.64,
          3.81,
          3.96,
          4.03,
          4.18,
          4.24,
          4.29,
          4.29,
          4.29,
          4.29,
          4.5
         ]
        }
       ],
       "layout": {
        "coloraxis": {
         "colorbar": {
          "title": {
           "text": "class"
          }
         },
         "colorscale": [
          [
           0,
           "#0d0887"
          ],
          [
           0.1111111111111111,
           "#46039f"
          ],
          [
           0.2222222222222222,
           "#7201a8"
          ],
          [
           0.3333333333333333,
           "#9c179e"
          ],
          [
           0.4444444444444444,
           "#bd3786"
          ],
          [
           0.5555555555555556,
           "#d8576b"
          ],
          [
           0.6666666666666666,
           "#ed7953"
          ],
          [
           0.7777777777777778,
           "#fb9f3a"
          ],
          [
           0.8888888888888888,
           "#fdca26"
          ],
          [
           1,
           "#f0f921"
          ]
         ]
        },
        "legend": {
         "title": {
          "text": "class"
         },
         "tracegroupgap": 0,
         "x": 0,
         "y": 1
        },
        "margin": {
         "t": 60
        },
        "scene": {
         "domain": {
          "x": [
           0,
           1
          ],
          "y": [
           0,
           1
          ]
         },
         "xaxis": {
          "title": {
           "text": "GDP_log10"
          }
         },
         "yaxis": {
          "title": {
           "text": "Year"
          }
         },
         "zaxis": {
          "title": {
           "text": "dollar_price"
          }
         }
        },
        "template": {
         "data": {
          "bar": [
           {
            "error_x": {
             "color": "#2a3f5f"
            },
            "error_y": {
             "color": "#2a3f5f"
            },
            "marker": {
             "line": {
              "color": "#E5ECF6",
              "width": 0.5
             },
             "pattern": {
              "fillmode": "overlay",
              "size": 10,
              "solidity": 0.2
             }
            },
            "type": "bar"
           }
          ],
          "barpolar": [
           {
            "marker": {
             "line": {
              "color": "#E5ECF6",
              "width": 0.5
             },
             "pattern": {
              "fillmode": "overlay",
              "size": 10,
              "solidity": 0.2
             }
            },
            "type": "barpolar"
           }
          ],
          "carpet": [
           {
            "aaxis": {
             "endlinecolor": "#2a3f5f",
             "gridcolor": "white",
             "linecolor": "white",
             "minorgridcolor": "white",
             "startlinecolor": "#2a3f5f"
            },
            "baxis": {
             "endlinecolor": "#2a3f5f",
             "gridcolor": "white",
             "linecolor": "white",
             "minorgridcolor": "white",
             "startlinecolor": "#2a3f5f"
            },
            "type": "carpet"
           }
          ],
          "choropleth": [
           {
            "colorbar": {
             "outlinewidth": 0,
             "ticks": ""
            },
            "type": "choropleth"
           }
          ],
          "contour": [
           {
            "colorbar": {
             "outlinewidth": 0,
             "ticks": ""
            },
            "colorscale": [
             [
              0,
              "#0d0887"
             ],
             [
              0.1111111111111111,
              "#46039f"
             ],
             [
              0.2222222222222222,
              "#7201a8"
             ],
             [
              0.3333333333333333,
              "#9c179e"
             ],
             [
              0.4444444444444444,
              "#bd3786"
             ],
             [
              0.5555555555555556,
              "#d8576b"
             ],
             [
              0.6666666666666666,
              "#ed7953"
             ],
             [
              0.7777777777777778,
              "#fb9f3a"
             ],
             [
              0.8888888888888888,
              "#fdca26"
             ],
             [
              1,
              "#f0f921"
             ]
            ],
            "type": "contour"
           }
          ],
          "contourcarpet": [
           {
            "colorbar": {
             "outlinewidth": 0,
             "ticks": ""
            },
            "type": "contourcarpet"
           }
          ],
          "heatmap": [
           {
            "colorbar": {
             "outlinewidth": 0,
             "ticks": ""
            },
            "colorscale": [
             [
              0,
              "#0d0887"
             ],
             [
              0.1111111111111111,
              "#46039f"
             ],
             [
              0.2222222222222222,
              "#7201a8"
             ],
             [
              0.3333333333333333,
              "#9c179e"
             ],
             [
              0.4444444444444444,
              "#bd3786"
             ],
             [
              0.5555555555555556,
              "#d8576b"
             ],
             [
              0.6666666666666666,
              "#ed7953"
             ],
             [
              0.7777777777777778,
              "#fb9f3a"
             ],
             [
              0.8888888888888888,
              "#fdca26"
             ],
             [
              1,
              "#f0f921"
             ]
            ],
            "type": "heatmap"
           }
          ],
          "heatmapgl": [
           {
            "colorbar": {
             "outlinewidth": 0,
             "ticks": ""
            },
            "colorscale": [
             [
              0,
              "#0d0887"
             ],
             [
              0.1111111111111111,
              "#46039f"
             ],
             [
              0.2222222222222222,
              "#7201a8"
             ],
             [
              0.3333333333333333,
              "#9c179e"
             ],
             [
              0.4444444444444444,
              "#bd3786"
             ],
             [
              0.5555555555555556,
              "#d8576b"
             ],
             [
              0.6666666666666666,
              "#ed7953"
             ],
             [
              0.7777777777777778,
              "#fb9f3a"
             ],
             [
              0.8888888888888888,
              "#fdca26"
             ],
             [
              1,
              "#f0f921"
             ]
            ],
            "type": "heatmapgl"
           }
          ],
          "histogram": [
           {
            "marker": {
             "pattern": {
              "fillmode": "overlay",
              "size": 10,
              "solidity": 0.2
             }
            },
            "type": "histogram"
           }
          ],
          "histogram2d": [
           {
            "colorbar": {
             "outlinewidth": 0,
             "ticks": ""
            },
            "colorscale": [
             [
              0,
              "#0d0887"
             ],
             [
              0.1111111111111111,
              "#46039f"
             ],
             [
              0.2222222222222222,
              "#7201a8"
             ],
             [
              0.3333333333333333,
              "#9c179e"
             ],
             [
              0.4444444444444444,
              "#bd3786"
             ],
             [
              0.5555555555555556,
              "#d8576b"
             ],
             [
              0.6666666666666666,
              "#ed7953"
             ],
             [
              0.7777777777777778,
              "#fb9f3a"
             ],
             [
              0.8888888888888888,
              "#fdca26"
             ],
             [
              1,
              "#f0f921"
             ]
            ],
            "type": "histogram2d"
           }
          ],
          "histogram2dcontour": [
           {
            "colorbar": {
             "outlinewidth": 0,
             "ticks": ""
            },
            "colorscale": [
             [
              0,
              "#0d0887"
             ],
             [
              0.1111111111111111,
              "#46039f"
             ],
             [
              0.2222222222222222,
              "#7201a8"
             ],
             [
              0.3333333333333333,
              "#9c179e"
             ],
             [
              0.4444444444444444,
              "#bd3786"
             ],
             [
              0.5555555555555556,
              "#d8576b"
             ],
             [
              0.6666666666666666,
              "#ed7953"
             ],
             [
              0.7777777777777778,
              "#fb9f3a"
             ],
             [
              0.8888888888888888,
              "#fdca26"
             ],
             [
              1,
              "#f0f921"
             ]
            ],
            "type": "histogram2dcontour"
           }
          ],
          "mesh3d": [
           {
            "colorbar": {
             "outlinewidth": 0,
             "ticks": ""
            },
            "type": "mesh3d"
           }
          ],
          "parcoords": [
           {
            "line": {
             "colorbar": {
              "outlinewidth": 0,
              "ticks": ""
             }
            },
            "type": "parcoords"
           }
          ],
          "pie": [
           {
            "automargin": true,
            "type": "pie"
           }
          ],
          "scatter": [
           {
            "marker": {
             "colorbar": {
              "outlinewidth": 0,
              "ticks": ""
             }
            },
            "type": "scatter"
           }
          ],
          "scatter3d": [
           {
            "line": {
             "colorbar": {
              "outlinewidth": 0,
              "ticks": ""
             }
            },
            "marker": {
             "colorbar": {
              "outlinewidth": 0,
              "ticks": ""
             }
            },
            "type": "scatter3d"
           }
          ],
          "scattercarpet": [
           {
            "marker": {
             "colorbar": {
              "outlinewidth": 0,
              "ticks": ""
             }
            },
            "type": "scattercarpet"
           }
          ],
          "scattergeo": [
           {
            "marker": {
             "colorbar": {
              "outlinewidth": 0,
              "ticks": ""
             }
            },
            "type": "scattergeo"
           }
          ],
          "scattergl": [
           {
            "marker": {
             "colorbar": {
              "outlinewidth": 0,
              "ticks": ""
             }
            },
            "type": "scattergl"
           }
          ],
          "scattermapbox": [
           {
            "marker": {
             "colorbar": {
              "outlinewidth": 0,
              "ticks": ""
             }
            },
            "type": "scattermapbox"
           }
          ],
          "scatterpolar": [
           {
            "marker": {
             "colorbar": {
              "outlinewidth": 0,
              "ticks": ""
             }
            },
            "type": "scatterpolar"
           }
          ],
          "scatterpolargl": [
           {
            "marker": {
             "colorbar": {
              "outlinewidth": 0,
              "ticks": ""
             }
            },
            "type": "scatterpolargl"
           }
          ],
          "scatterternary": [
           {
            "marker": {
             "colorbar": {
              "outlinewidth": 0,
              "ticks": ""
             }
            },
            "type": "scatterternary"
           }
          ],
          "surface": [
           {
            "colorbar": {
             "outlinewidth": 0,
             "ticks": ""
            },
            "colorscale": [
             [
              0,
              "#0d0887"
             ],
             [
              0.1111111111111111,
              "#46039f"
             ],
             [
              0.2222222222222222,
              "#7201a8"
             ],
             [
              0.3333333333333333,
              "#9c179e"
             ],
             [
              0.4444444444444444,
              "#bd3786"
             ],
             [
              0.5555555555555556,
              "#d8576b"
             ],
             [
              0.6666666666666666,
              "#ed7953"
             ],
             [
              0.7777777777777778,
              "#fb9f3a"
             ],
             [
              0.8888888888888888,
              "#fdca26"
             ],
             [
              1,
              "#f0f921"
             ]
            ],
            "type": "surface"
           }
          ],
          "table": [
           {
            "cells": {
             "fill": {
              "color": "#EBF0F8"
             },
             "line": {
              "color": "white"
             }
            },
            "header": {
             "fill": {
              "color": "#C8D4E3"
             },
             "line": {
              "color": "white"
             }
            },
            "type": "table"
           }
          ]
         },
         "layout": {
          "annotationdefaults": {
           "arrowcolor": "#2a3f5f",
           "arrowhead": 0,
           "arrowwidth": 1
          },
          "autotypenumbers": "strict",
          "coloraxis": {
           "colorbar": {
            "outlinewidth": 0,
            "ticks": ""
           }
          },
          "colorscale": {
           "diverging": [
            [
             0,
             "#8e0152"
            ],
            [
             0.1,
             "#c51b7d"
            ],
            [
             0.2,
             "#de77ae"
            ],
            [
             0.3,
             "#f1b6da"
            ],
            [
             0.4,
             "#fde0ef"
            ],
            [
             0.5,
             "#f7f7f7"
            ],
            [
             0.6,
             "#e6f5d0"
            ],
            [
             0.7,
             "#b8e186"
            ],
            [
             0.8,
             "#7fbc41"
            ],
            [
             0.9,
             "#4d9221"
            ],
            [
             1,
             "#276419"
            ]
           ],
           "sequential": [
            [
             0,
             "#0d0887"
            ],
            [
             0.1111111111111111,
             "#46039f"
            ],
            [
             0.2222222222222222,
             "#7201a8"
            ],
            [
             0.3333333333333333,
             "#9c179e"
            ],
            [
             0.4444444444444444,
             "#bd3786"
            ],
            [
             0.5555555555555556,
             "#d8576b"
            ],
            [
             0.6666666666666666,
             "#ed7953"
            ],
            [
             0.7777777777777778,
             "#fb9f3a"
            ],
            [
             0.8888888888888888,
             "#fdca26"
            ],
            [
             1,
             "#f0f921"
            ]
           ],
           "sequentialminus": [
            [
             0,
             "#0d0887"
            ],
            [
             0.1111111111111111,
             "#46039f"
            ],
            [
             0.2222222222222222,
             "#7201a8"
            ],
            [
             0.3333333333333333,
             "#9c179e"
            ],
            [
             0.4444444444444444,
             "#bd3786"
            ],
            [
             0.5555555555555556,
             "#d8576b"
            ],
            [
             0.6666666666666666,
             "#ed7953"
            ],
            [
             0.7777777777777778,
             "#fb9f3a"
            ],
            [
             0.8888888888888888,
             "#fdca26"
            ],
            [
             1,
             "#f0f921"
            ]
           ]
          },
          "colorway": [
           "#636efa",
           "#EF553B",
           "#00cc96",
           "#ab63fa",
           "#FFA15A",
           "#19d3f3",
           "#FF6692",
           "#B6E880",
           "#FF97FF",
           "#FECB52"
          ],
          "font": {
           "color": "#2a3f5f"
          },
          "geo": {
           "bgcolor": "white",
           "lakecolor": "white",
           "landcolor": "#E5ECF6",
           "showlakes": true,
           "showland": true,
           "subunitcolor": "white"
          },
          "hoverlabel": {
           "align": "left"
          },
          "hovermode": "closest",
          "mapbox": {
           "style": "light"
          },
          "paper_bgcolor": "white",
          "plot_bgcolor": "#E5ECF6",
          "polar": {
           "angularaxis": {
            "gridcolor": "white",
            "linecolor": "white",
            "ticks": ""
           },
           "bgcolor": "#E5ECF6",
           "radialaxis": {
            "gridcolor": "white",
            "linecolor": "white",
            "ticks": ""
           }
          },
          "scene": {
           "xaxis": {
            "backgroundcolor": "#E5ECF6",
            "gridcolor": "white",
            "gridwidth": 2,
            "linecolor": "white",
            "showbackground": true,
            "ticks": "",
            "zerolinecolor": "white"
           },
           "yaxis": {
            "backgroundcolor": "#E5ECF6",
            "gridcolor": "white",
            "gridwidth": 2,
            "linecolor": "white",
            "showbackground": true,
            "ticks": "",
            "zerolinecolor": "white"
           },
           "zaxis": {
            "backgroundcolor": "#E5ECF6",
            "gridcolor": "white",
            "gridwidth": 2,
            "linecolor": "white",
            "showbackground": true,
            "ticks": "",
            "zerolinecolor": "white"
           }
          },
          "shapedefaults": {
           "line": {
            "color": "#2a3f5f"
           }
          },
          "ternary": {
           "aaxis": {
            "gridcolor": "white",
            "linecolor": "white",
            "ticks": ""
           },
           "baxis": {
            "gridcolor": "white",
            "linecolor": "white",
            "ticks": ""
           },
           "bgcolor": "#E5ECF6",
           "caxis": {
            "gridcolor": "white",
            "linecolor": "white",
            "ticks": ""
           }
          },
          "title": {
           "x": 0.05
          },
          "xaxis": {
           "automargin": true,
           "gridcolor": "white",
           "linecolor": "white",
           "ticks": "",
           "title": {
            "standoff": 15
           },
           "zerolinecolor": "white",
           "zerolinewidth": 2
          },
          "yaxis": {
           "automargin": true,
           "gridcolor": "white",
           "linecolor": "white",
           "ticks": "",
           "title": {
            "standoff": 15
           },
           "zerolinecolor": "white",
           "zerolinewidth": 2
          }
         }
        },
        "width": 800
       }
      },
      "text/html": [
       "<div>                            <div id=\"72d8edea-4286-4bc3-8081-4a8993a8785e\" class=\"plotly-graph-div\" style=\"height:525px; width:800px;\"></div>            <script type=\"text/javascript\">                require([\"plotly\"], function(Plotly) {                    window.PLOTLYENV=window.PLOTLYENV || {};                                    if (document.getElementById(\"72d8edea-4286-4bc3-8081-4a8993a8785e\")) {                    Plotly.newPlot(                        \"72d8edea-4286-4bc3-8081-4a8993a8785e\",                        [{\"hovertemplate\":\"class=%{marker.color}<br>GDP_log10=%{x}<br>Year=%{y}<br>dollar_price=%{z}<extra></extra>\",\"legendgroup\":\"2\",\"marker\":{\"color\":[2,2,2,2,2,2,2,2,2,2,2,2,2,2,2,2,2,2,2,2,2,2,2,2,2,2,2,2,2,2,2,2,2,2,2,2,2,2,2,2,2,2,2,2,2,2,2,2,2,2,2,2,2,2,2,2,2,2,2,2,2,2,2,2,2,2,2,2,2,2,2,2,2,2,2,2,2,2,2,2,2,2,2,2,2,2,2,2,2,2,2,2,2,2,2,2,2,2,2,2,2,2,2,2,2,2,2,2,2,2,2,2,2,2,2,2,2,2,2,2,2,2,2,2,2,2,2,2,2,2,2,2,2],\"coloraxis\":\"coloraxis\",\"symbol\":\"circle\"},\"mode\":\"markers\",\"name\":\"2\",\"scene\":\"scene\",\"showlegend\":true,\"x\":[11.412094140694933,11.187343018561377,11.959590832796005,11.4488701154014,11.204757384698596,11.965827518549071,11.486414892149611,11.234990295456319,10.997954143027906,11.523249474489033,11.259240183834748,11.024428195817706,11.556863102495688,11.28584524303856,11.390148781677974,10.500752789079453,11.05595140532915,10.496839340742994,11.594320714558501,11.30664158462451,11.418917485831926,10.534851171905254,11.091455913055093,10.524358191893988,11.611592681466488,11.32170611054876,11.12938694025794,11.611592681466488,11.32170611054876,11.43283786085072,10.554588737254456,11.12938694025794,10.554456322453197,11.585096220432902,11.314859061201037,11.43804052399445,10.550353111681984,11.134119708037254,10.57250528268276,11.585096220432902,11.314859061201037,11.43804052399445,10.550353111681984,11.134119708037254,10.57250528268276,11.626983632212891,11.339526964214535,11.456523929688464,10.571343267322925,11.16887739863303,10.605137779867261,11.652306306257216,11.365285766249952,11.48737596999458,10.589657145321672,11.195520516621967,10.626997166281603,11.647825841976948,11.38779189652721,11.504004374155247,10.610005663831604,11.221398587308745,10.64209768751223,11.647825841976948,11.38779189652721,11.504004374155247,10.610005663831604,11.221398587308745,10.64209768751223,11.658147867764232,11.405013210705802,11.523399152442353,10.61974978957198,11.246099555670785,10.661785202834594,11.647096280277053,11.412618443989382,11.543462091224237,10.634754496461511,11.256323190864252,10.675628113747385,11.647096280277053,11.412618443989382,11.543462091224237,10.675628113747385,11.658798140643178,11.422509407499756,11.556114265704586,10.650247250709462,11.270238496862273,10.677235245305232,11.658798140643178,11.422509407499756,11.556114265704586,10.650247250709462,11.270238496862273,10.677235245305232,11.649668728120272,11.429705457627271,11.565085955321356,10.66830660829246,11.287087018757926,10.684512630631943,11.649668728120272,11.429705457627271,11.565085955321356,10.66830660829246,11.287087018757926,10.684512630631943,11.66110626451335,11.435224640475868,11.570915199486205,10.682815309640858,11.297891764154654,10.695623327479398,11.66110626451335,11.435224640475868,11.570915199486205,10.682815309640858,11.297891764154654,10.695623327479398,11.650046090510354,11.452361533134575,11.582308863164489,10.69423370175094,11.314827508809302,10.702602875458641,11.650046090510354,11.452361533134575,11.582308863164489,10.69423370175094,11.314827508809302,10.702602875458641],\"y\":[2000,2000,2000,2001,2001,2001,2002,2002,2002,2003,2003,2003,2004,2004,2004,2004,2004,2004,2005,2005,2005,2005,2005,2005,2006,2006,2006,2006,2006,2006,2006,2006,2006,2007,2007,2007,2007,2007,2007,2007,2007,2007,2007,2007,2007,2008,2008,2008,2008,2008,2008,2009,2009,2009,2009,2009,2009,2010,2010,2010,2010,2010,2010,2010,2010,2010,2010,2010,2010,2011,2011,2011,2011,2011,2011,2012,2012,2012,2012,2012,2012,2012,2012,2012,2012,2013,2013,2013,2013,2013,2013,2013,2013,2013,2013,2013,2013,2014,2014,2014,2014,2014,2014,2014,2014,2014,2014,2014,2014,2015,2015,2015,2015,2015,2015,2015,2015,2015,2015,2015,2015,2016,2016,2016,2016,2016,2016,2016,2016,2016,2016,2016,2016],\"z\":[2.5,2.45,2.32,2.5,2.1,2.43,0.83,2.14,2.83,2.05,1.96,2.63,2.18,2.18,2.35,2.61,3.0,1.03,2.38,2.53,2.79,2.38,3.0,1.83,1.58,2.99,3.17,2.33,2.95,2.6,2.22,3.17,1.84,2.75,3.09,3.08,2.22,3.17,2.39,2.75,2.98,3.53,2.18,3.17,2.7,3.67,3.14,3.89,3.27,4.75,3.21,3.83,3.19,3.34,3.44,2.69,2.65,2.33,3.18,3.91,3.52,4.03,3.35,4.67,3.35,4.39,3.83,5.0,3.76,5.0,4.0,4.75,4.07,5.0,5.0,5.0,4.05,4.54,4.03,5.0,4.74,4.75,4.16,4.77,4.71,4.75,4.35,4.85,4.4,5.0,5.53,4.2,3.94,4.48,4.32,5.0,5.0,3.5,3.7,4.34,4.29,5.0,5.0,2.62,3.72,4.66,4.0,5.0,5.14,3.5,3.35,3.34,4.01,3.33,4.71,3.11,3.27,2.92,4.03,3.33,4.19,2.54,2.94,2.43,4.02,3.33,3.77,3.57,3.53,3.04,4.12,3.33,4.1],\"type\":\"scatter3d\"},{\"hovertemplate\":\"class=%{marker.color}<br>GDP_log10=%{x}<br>Year=%{y}<br>dollar_price=%{z}<extra></extra>\",\"legendgroup\":\"0\",\"marker\":{\"color\":[0,0,0,0,0,0,0,0,0,0,0,0,0,0,0,0,0,0,0,0,0,0,0,0,0,0,0,0,0,0,0,0,0,0,0,0,0,0,0,0,0,0,0,0,0,0,0,0,0,0,0,0,0,0,0,0,0,0,0,0,0,0,0,0,0,0,0,0,0,0,0,0,0],\"coloraxis\":\"coloraxis\",\"symbol\":\"diamond\"},\"mode\":\"markers\",\"name\":\"0\",\"scene\":\"scene\",\"showlegend\":true,\"x\":[12.206213115708598,12.148266316515395,12.156018830921651,12.211139237420024,12.169224627077039,12.182916568785958,12.235460267422326,12.194208979646682,11.982529018865602,12.203119954874245,12.249149420044517,12.207472789481013,11.992437749449032,12.207472789481013,12.266024616372095,12.194567064529759,12.011532383016828,12.194567064529759,12.291615236005704,12.20777973612601,12.021371251017943,12.221236832094737,12.31319417513532,12.228823666458899,12.026312588504672,12.228823666458899,12.31319417513532,12.238826128136264,12.026312588504672,12.251109933426724,12.312646953219183,12.251109933426724,12.00272747268983,12.254095904857678,12.312646953219183,12.254095904857678,12.00272747268983,12.258876629372132,12.34417015682028,12.258876629372132,12.024403562682966,12.271623243192991,12.361096706534518,12.271623243192991,12.04002843923198,12.2797057186105,12.369360598115334,12.2797057186105,12.055565618711297,12.369360598115334,12.055565618711297,12.3822188254919,12.0614072377223,12.384401805791391,12.073417721867594,12.384401805791391,12.073417721867594,12.368723749485705,12.08746906765054,12.368723749485705,12.08746906765054,12.354125733716039,12.0999739842355,12.354125733716039,12.0999739842355,12.3587208179083,12.108872709089708,12.3587208179083,12.108872709089708,12.36354805305592,12.117446967049373,12.36354805305592,12.117446967049373],\"y\":[2000,2000,2001,2001,2002,2003,2002,2004,2002,2005,2003,2006,2003,2006,2004,2007,2004,2007,2005,2008,2005,2009,2006,2010,2006,2010,2006,2011,2006,2012,2007,2012,2007,2013,2007,2013,2007,2014,2008,2014,2008,2015,2009,2015,2009,2016,2010,2016,2010,2010,2010,2011,2011,2012,2012,2012,2012,2013,2013,2013,2013,2014,2014,2014,2014,2015,2015,2015,2015,2016,2016,2016,2016],\"z\":[2.95,2.85,3.33,1.8,3.33,3.2,1.8,3.19,2.43,3.28,1.52,3.52,2.3,3.52,1.8,3.63,2.18,3.88,2.95,4.09,2.8,3.89,3.1,4.12,2.8,4.17,3.2,4.73,2.64,4.73,3.2,5.12,2.9,5.41,6.9,5.53,2.9,5.54,7.5,5.64,3.2,5.7,8.03,5.85,2.54,5.84,8.2,6.0,2.67,8.71,2.67,9.5,2.91,10.25,2.85,5.04,2.85,11.25,3.08,6.0,3.08,6.2,2.85,6.5,3.5,6.75,3.5,4.5,3.27,3.38,2.88,5.17,2.44],\"type\":\"scatter3d\"},{\"hovertemplate\":\"class=%{marker.color}<br>GDP_log10=%{x}<br>Year=%{y}<br>dollar_price=%{z}<extra></extra>\",\"legendgroup\":\"1\",\"marker\":{\"color\":[1,1,1,1,1,1,1,1,1,1,1,1,1,1,1,1,1,1,1,1,1,1,1,1,1],\"coloraxis\":\"coloraxis\",\"symbol\":\"square\"},\"mode\":\"markers\",\"name\":\"1\",\"scene\":\"scene\",\"showlegend\":true,\"x\":[13.112883048635458,13.125133039916829,13.1413274638702,13.156321950446713,13.168547568872253,13.176620775384281,13.176027557860133,13.176027557860133,13.164867160351593,13.164867160351593,13.17586247037557,13.182545891119375,13.19220492541459,13.19220492541459,13.2001333751489,13.210652875437406,13.210652875437406,13.22298944474631,13.22298944474631,13.229740699690918,13.229740699690918,13.239264433777802,13.239264433777802,13.251499516029417,13.251499516029417],\"y\":[2000,2001,2002,2003,2004,2005,2006,2006,2007,2007,2008,2009,2010,2010,2011,2012,2012,2013,2013,2014,2014,2015,2015,2016,2016],\"z\":[2.24,2.24,2.35,2.46,2.47,2.58,2.67,2.78,2.89,3.0,3.21,3.43,3.43,3.53,3.64,3.81,3.96,4.03,4.18,4.24,4.29,4.29,4.29,4.29,4.5],\"type\":\"scatter3d\"}],                        {\"template\":{\"data\":{\"bar\":[{\"error_x\":{\"color\":\"#2a3f5f\"},\"error_y\":{\"color\":\"#2a3f5f\"},\"marker\":{\"line\":{\"color\":\"#E5ECF6\",\"width\":0.5},\"pattern\":{\"fillmode\":\"overlay\",\"size\":10,\"solidity\":0.2}},\"type\":\"bar\"}],\"barpolar\":[{\"marker\":{\"line\":{\"color\":\"#E5ECF6\",\"width\":0.5},\"pattern\":{\"fillmode\":\"overlay\",\"size\":10,\"solidity\":0.2}},\"type\":\"barpolar\"}],\"carpet\":[{\"aaxis\":{\"endlinecolor\":\"#2a3f5f\",\"gridcolor\":\"white\",\"linecolor\":\"white\",\"minorgridcolor\":\"white\",\"startlinecolor\":\"#2a3f5f\"},\"baxis\":{\"endlinecolor\":\"#2a3f5f\",\"gridcolor\":\"white\",\"linecolor\":\"white\",\"minorgridcolor\":\"white\",\"startlinecolor\":\"#2a3f5f\"},\"type\":\"carpet\"}],\"choropleth\":[{\"colorbar\":{\"outlinewidth\":0,\"ticks\":\"\"},\"type\":\"choropleth\"}],\"contour\":[{\"colorbar\":{\"outlinewidth\":0,\"ticks\":\"\"},\"colorscale\":[[0.0,\"#0d0887\"],[0.1111111111111111,\"#46039f\"],[0.2222222222222222,\"#7201a8\"],[0.3333333333333333,\"#9c179e\"],[0.4444444444444444,\"#bd3786\"],[0.5555555555555556,\"#d8576b\"],[0.6666666666666666,\"#ed7953\"],[0.7777777777777778,\"#fb9f3a\"],[0.8888888888888888,\"#fdca26\"],[1.0,\"#f0f921\"]],\"type\":\"contour\"}],\"contourcarpet\":[{\"colorbar\":{\"outlinewidth\":0,\"ticks\":\"\"},\"type\":\"contourcarpet\"}],\"heatmap\":[{\"colorbar\":{\"outlinewidth\":0,\"ticks\":\"\"},\"colorscale\":[[0.0,\"#0d0887\"],[0.1111111111111111,\"#46039f\"],[0.2222222222222222,\"#7201a8\"],[0.3333333333333333,\"#9c179e\"],[0.4444444444444444,\"#bd3786\"],[0.5555555555555556,\"#d8576b\"],[0.6666666666666666,\"#ed7953\"],[0.7777777777777778,\"#fb9f3a\"],[0.8888888888888888,\"#fdca26\"],[1.0,\"#f0f921\"]],\"type\":\"heatmap\"}],\"heatmapgl\":[{\"colorbar\":{\"outlinewidth\":0,\"ticks\":\"\"},\"colorscale\":[[0.0,\"#0d0887\"],[0.1111111111111111,\"#46039f\"],[0.2222222222222222,\"#7201a8\"],[0.3333333333333333,\"#9c179e\"],[0.4444444444444444,\"#bd3786\"],[0.5555555555555556,\"#d8576b\"],[0.6666666666666666,\"#ed7953\"],[0.7777777777777778,\"#fb9f3a\"],[0.8888888888888888,\"#fdca26\"],[1.0,\"#f0f921\"]],\"type\":\"heatmapgl\"}],\"histogram\":[{\"marker\":{\"pattern\":{\"fillmode\":\"overlay\",\"size\":10,\"solidity\":0.2}},\"type\":\"histogram\"}],\"histogram2d\":[{\"colorbar\":{\"outlinewidth\":0,\"ticks\":\"\"},\"colorscale\":[[0.0,\"#0d0887\"],[0.1111111111111111,\"#46039f\"],[0.2222222222222222,\"#7201a8\"],[0.3333333333333333,\"#9c179e\"],[0.4444444444444444,\"#bd3786\"],[0.5555555555555556,\"#d8576b\"],[0.6666666666666666,\"#ed7953\"],[0.7777777777777778,\"#fb9f3a\"],[0.8888888888888888,\"#fdca26\"],[1.0,\"#f0f921\"]],\"type\":\"histogram2d\"}],\"histogram2dcontour\":[{\"colorbar\":{\"outlinewidth\":0,\"ticks\":\"\"},\"colorscale\":[[0.0,\"#0d0887\"],[0.1111111111111111,\"#46039f\"],[0.2222222222222222,\"#7201a8\"],[0.3333333333333333,\"#9c179e\"],[0.4444444444444444,\"#bd3786\"],[0.5555555555555556,\"#d8576b\"],[0.6666666666666666,\"#ed7953\"],[0.7777777777777778,\"#fb9f3a\"],[0.8888888888888888,\"#fdca26\"],[1.0,\"#f0f921\"]],\"type\":\"histogram2dcontour\"}],\"mesh3d\":[{\"colorbar\":{\"outlinewidth\":0,\"ticks\":\"\"},\"type\":\"mesh3d\"}],\"parcoords\":[{\"line\":{\"colorbar\":{\"outlinewidth\":0,\"ticks\":\"\"}},\"type\":\"parcoords\"}],\"pie\":[{\"automargin\":true,\"type\":\"pie\"}],\"scatter\":[{\"marker\":{\"colorbar\":{\"outlinewidth\":0,\"ticks\":\"\"}},\"type\":\"scatter\"}],\"scatter3d\":[{\"line\":{\"colorbar\":{\"outlinewidth\":0,\"ticks\":\"\"}},\"marker\":{\"colorbar\":{\"outlinewidth\":0,\"ticks\":\"\"}},\"type\":\"scatter3d\"}],\"scattercarpet\":[{\"marker\":{\"colorbar\":{\"outlinewidth\":0,\"ticks\":\"\"}},\"type\":\"scattercarpet\"}],\"scattergeo\":[{\"marker\":{\"colorbar\":{\"outlinewidth\":0,\"ticks\":\"\"}},\"type\":\"scattergeo\"}],\"scattergl\":[{\"marker\":{\"colorbar\":{\"outlinewidth\":0,\"ticks\":\"\"}},\"type\":\"scattergl\"}],\"scattermapbox\":[{\"marker\":{\"colorbar\":{\"outlinewidth\":0,\"ticks\":\"\"}},\"type\":\"scattermapbox\"}],\"scatterpolar\":[{\"marker\":{\"colorbar\":{\"outlinewidth\":0,\"ticks\":\"\"}},\"type\":\"scatterpolar\"}],\"scatterpolargl\":[{\"marker\":{\"colorbar\":{\"outlinewidth\":0,\"ticks\":\"\"}},\"type\":\"scatterpolargl\"}],\"scatterternary\":[{\"marker\":{\"colorbar\":{\"outlinewidth\":0,\"ticks\":\"\"}},\"type\":\"scatterternary\"}],\"surface\":[{\"colorbar\":{\"outlinewidth\":0,\"ticks\":\"\"},\"colorscale\":[[0.0,\"#0d0887\"],[0.1111111111111111,\"#46039f\"],[0.2222222222222222,\"#7201a8\"],[0.3333333333333333,\"#9c179e\"],[0.4444444444444444,\"#bd3786\"],[0.5555555555555556,\"#d8576b\"],[0.6666666666666666,\"#ed7953\"],[0.7777777777777778,\"#fb9f3a\"],[0.8888888888888888,\"#fdca26\"],[1.0,\"#f0f921\"]],\"type\":\"surface\"}],\"table\":[{\"cells\":{\"fill\":{\"color\":\"#EBF0F8\"},\"line\":{\"color\":\"white\"}},\"header\":{\"fill\":{\"color\":\"#C8D4E3\"},\"line\":{\"color\":\"white\"}},\"type\":\"table\"}]},\"layout\":{\"annotationdefaults\":{\"arrowcolor\":\"#2a3f5f\",\"arrowhead\":0,\"arrowwidth\":1},\"autotypenumbers\":\"strict\",\"coloraxis\":{\"colorbar\":{\"outlinewidth\":0,\"ticks\":\"\"}},\"colorscale\":{\"diverging\":[[0,\"#8e0152\"],[0.1,\"#c51b7d\"],[0.2,\"#de77ae\"],[0.3,\"#f1b6da\"],[0.4,\"#fde0ef\"],[0.5,\"#f7f7f7\"],[0.6,\"#e6f5d0\"],[0.7,\"#b8e186\"],[0.8,\"#7fbc41\"],[0.9,\"#4d9221\"],[1,\"#276419\"]],\"sequential\":[[0.0,\"#0d0887\"],[0.1111111111111111,\"#46039f\"],[0.2222222222222222,\"#7201a8\"],[0.3333333333333333,\"#9c179e\"],[0.4444444444444444,\"#bd3786\"],[0.5555555555555556,\"#d8576b\"],[0.6666666666666666,\"#ed7953\"],[0.7777777777777778,\"#fb9f3a\"],[0.8888888888888888,\"#fdca26\"],[1.0,\"#f0f921\"]],\"sequentialminus\":[[0.0,\"#0d0887\"],[0.1111111111111111,\"#46039f\"],[0.2222222222222222,\"#7201a8\"],[0.3333333333333333,\"#9c179e\"],[0.4444444444444444,\"#bd3786\"],[0.5555555555555556,\"#d8576b\"],[0.6666666666666666,\"#ed7953\"],[0.7777777777777778,\"#fb9f3a\"],[0.8888888888888888,\"#fdca26\"],[1.0,\"#f0f921\"]]},\"colorway\":[\"#636efa\",\"#EF553B\",\"#00cc96\",\"#ab63fa\",\"#FFA15A\",\"#19d3f3\",\"#FF6692\",\"#B6E880\",\"#FF97FF\",\"#FECB52\"],\"font\":{\"color\":\"#2a3f5f\"},\"geo\":{\"bgcolor\":\"white\",\"lakecolor\":\"white\",\"landcolor\":\"#E5ECF6\",\"showlakes\":true,\"showland\":true,\"subunitcolor\":\"white\"},\"hoverlabel\":{\"align\":\"left\"},\"hovermode\":\"closest\",\"mapbox\":{\"style\":\"light\"},\"paper_bgcolor\":\"white\",\"plot_bgcolor\":\"#E5ECF6\",\"polar\":{\"angularaxis\":{\"gridcolor\":\"white\",\"linecolor\":\"white\",\"ticks\":\"\"},\"bgcolor\":\"#E5ECF6\",\"radialaxis\":{\"gridcolor\":\"white\",\"linecolor\":\"white\",\"ticks\":\"\"}},\"scene\":{\"xaxis\":{\"backgroundcolor\":\"#E5ECF6\",\"gridcolor\":\"white\",\"gridwidth\":2,\"linecolor\":\"white\",\"showbackground\":true,\"ticks\":\"\",\"zerolinecolor\":\"white\"},\"yaxis\":{\"backgroundcolor\":\"#E5ECF6\",\"gridcolor\":\"white\",\"gridwidth\":2,\"linecolor\":\"white\",\"showbackground\":true,\"ticks\":\"\",\"zerolinecolor\":\"white\"},\"zaxis\":{\"backgroundcolor\":\"#E5ECF6\",\"gridcolor\":\"white\",\"gridwidth\":2,\"linecolor\":\"white\",\"showbackground\":true,\"ticks\":\"\",\"zerolinecolor\":\"white\"}},\"shapedefaults\":{\"line\":{\"color\":\"#2a3f5f\"}},\"ternary\":{\"aaxis\":{\"gridcolor\":\"white\",\"linecolor\":\"white\",\"ticks\":\"\"},\"baxis\":{\"gridcolor\":\"white\",\"linecolor\":\"white\",\"ticks\":\"\"},\"bgcolor\":\"#E5ECF6\",\"caxis\":{\"gridcolor\":\"white\",\"linecolor\":\"white\",\"ticks\":\"\"}},\"title\":{\"x\":0.05},\"xaxis\":{\"automargin\":true,\"gridcolor\":\"white\",\"linecolor\":\"white\",\"ticks\":\"\",\"title\":{\"standoff\":15},\"zerolinecolor\":\"white\",\"zerolinewidth\":2},\"yaxis\":{\"automargin\":true,\"gridcolor\":\"white\",\"linecolor\":\"white\",\"ticks\":\"\",\"title\":{\"standoff\":15},\"zerolinecolor\":\"white\",\"zerolinewidth\":2}}},\"scene\":{\"domain\":{\"x\":[0.0,1.0],\"y\":[0.0,1.0]},\"xaxis\":{\"title\":{\"text\":\"GDP_log10\"}},\"yaxis\":{\"title\":{\"text\":\"Year\"}},\"zaxis\":{\"title\":{\"text\":\"dollar_price\"}}},\"coloraxis\":{\"colorbar\":{\"title\":{\"text\":\"class\"}},\"colorscale\":[[0.0,\"#0d0887\"],[0.1111111111111111,\"#46039f\"],[0.2222222222222222,\"#7201a8\"],[0.3333333333333333,\"#9c179e\"],[0.4444444444444444,\"#bd3786\"],[0.5555555555555556,\"#d8576b\"],[0.6666666666666666,\"#ed7953\"],[0.7777777777777778,\"#fb9f3a\"],[0.8888888888888888,\"#fdca26\"],[1.0,\"#f0f921\"]]},\"legend\":{\"title\":{\"text\":\"class\"},\"tracegroupgap\":0,\"x\":0,\"y\":1},\"margin\":{\"t\":60},\"width\":800},                        {\"responsive\": true}                    ).then(function(){\n",
       "                            \n",
       "var gd = document.getElementById('72d8edea-4286-4bc3-8081-4a8993a8785e');\n",
       "var x = new MutationObserver(function (mutations, observer) {{\n",
       "        var display = window.getComputedStyle(gd).display;\n",
       "        if (!display || display === 'none') {{\n",
       "            console.log([gd, 'removed!']);\n",
       "            Plotly.purge(gd);\n",
       "            observer.disconnect();\n",
       "        }}\n",
       "}});\n",
       "\n",
       "// Listen for the removal of the full notebook cells\n",
       "var notebookContainer = gd.closest('#notebook-container');\n",
       "if (notebookContainer) {{\n",
       "    x.observe(notebookContainer, {childList: true});\n",
       "}}\n",
       "\n",
       "// Listen for the clearing of the current output cell\n",
       "var outputEl = gd.closest('.output');\n",
       "if (outputEl) {{\n",
       "    x.observe(outputEl, {childList: true});\n",
       "}}\n",
       "\n",
       "                        })                };                });            </script>        </div>"
      ]
     },
     "metadata": {},
     "output_type": "display_data"
    }
   ],
   "source": [
    "# Plot 3D graph for K= 3\n",
    "\n",
    "fig = px.scatter_3d(\n",
    "    three_clusters,\n",
    "    x=\"GDP_log10\",\n",
    "    y=\"Year\",\n",
    "    z=\"dollar_price\",\n",
    "    color=\"class\",\n",
    "    symbol=\"class\",\n",
    "    width=800,\n",
    ")\n",
    "fig.update_layout(legend=dict(x=0, y=1))\n",
    "fig.show()"
   ]
  },
  {
   "cell_type": "code",
   "execution_count": null,
   "id": "b1001cfc",
   "metadata": {},
   "outputs": [],
   "source": []
  },
  {
   "cell_type": "code",
   "execution_count": 81,
   "id": "c740cfd5",
   "metadata": {},
   "outputs": [],
   "source": [
    "# Dropping columns \"local_price\", \"dollar_ex\" and those with string values\n",
    "df_modified = df.drop(['date','currency_code', 'Country', 'Code', 'country_code', \n",
    "                               'region', 'sub_region', 'local_price', 'dollar_ex'], axis =1)"
   ]
  },
  {
   "cell_type": "code",
   "execution_count": 82,
   "id": "fcdb7d21",
   "metadata": {
    "scrolled": true
   },
   "outputs": [
    {
     "data": {
      "text/html": [
       "<div>\n",
       "<style scoped>\n",
       "    .dataframe tbody tr th:only-of-type {\n",
       "        vertical-align: middle;\n",
       "    }\n",
       "\n",
       "    .dataframe tbody tr th {\n",
       "        vertical-align: top;\n",
       "    }\n",
       "\n",
       "    .dataframe thead th {\n",
       "        text-align: right;\n",
       "    }\n",
       "</style>\n",
       "<table border=\"1\" class=\"dataframe\">\n",
       "  <thead>\n",
       "    <tr style=\"text-align: right;\">\n",
       "      <th></th>\n",
       "      <th>dollar_price</th>\n",
       "      <th>Year</th>\n",
       "      <th>gdp_growth</th>\n",
       "      <th>GDP_Per_Capita</th>\n",
       "      <th>GDP</th>\n",
       "      <th>GDP_log10</th>\n",
       "    </tr>\n",
       "  </thead>\n",
       "  <tbody>\n",
       "    <tr>\n",
       "      <th>0</th>\n",
       "      <td>2.50</td>\n",
       "      <td>2000</td>\n",
       "      <td>-10.894485</td>\n",
       "      <td>6854.294081</td>\n",
       "      <td>2.582820e+11</td>\n",
       "      <td>11.412094</td>\n",
       "    </tr>\n",
       "    <tr>\n",
       "      <th>1</th>\n",
       "      <td>2.59</td>\n",
       "      <td>2000</td>\n",
       "      <td>4.001431</td>\n",
       "      <td>45806.687450</td>\n",
       "      <td>9.001660e+11</td>\n",
       "      <td>11.954323</td>\n",
       "    </tr>\n",
       "    <tr>\n",
       "      <th>2</th>\n",
       "      <td>2.95</td>\n",
       "      <td>2000</td>\n",
       "      <td>3.053462</td>\n",
       "      <td>8954.837245</td>\n",
       "      <td>1.607730e+12</td>\n",
       "      <td>12.206213</td>\n",
       "    </tr>\n",
       "    <tr>\n",
       "      <th>3</th>\n",
       "      <td>2.85</td>\n",
       "      <td>2000</td>\n",
       "      <td>3.016889</td>\n",
       "      <td>44863.216020</td>\n",
       "      <td>1.406910e+12</td>\n",
       "      <td>12.148266</td>\n",
       "    </tr>\n",
       "    <tr>\n",
       "      <th>4</th>\n",
       "      <td>2.45</td>\n",
       "      <td>2000</td>\n",
       "      <td>3.106971</td>\n",
       "      <td>9814.656135</td>\n",
       "      <td>1.539370e+11</td>\n",
       "      <td>11.187343</td>\n",
       "    </tr>\n",
       "  </tbody>\n",
       "</table>\n",
       "</div>"
      ],
      "text/plain": [
       "   dollar_price  Year  gdp_growth  GDP_Per_Capita           GDP  GDP_log10\n",
       "0          2.50  2000  -10.894485     6854.294081  2.582820e+11  11.412094\n",
       "1          2.59  2000    4.001431    45806.687450  9.001660e+11  11.954323\n",
       "2          2.95  2000    3.053462     8954.837245  1.607730e+12  12.206213\n",
       "3          2.85  2000    3.016889    44863.216020  1.406910e+12  12.148266\n",
       "4          2.45  2000    3.106971     9814.656135  1.539370e+11  11.187343"
      ]
     },
     "execution_count": 82,
     "metadata": {},
     "output_type": "execute_result"
    }
   ],
   "source": [
    "df_modified.head()"
   ]
  },
  {
   "cell_type": "code",
   "execution_count": 83,
   "id": "60742bc0",
   "metadata": {
    "scrolled": true
   },
   "outputs": [
    {
     "name": "stderr",
     "output_type": "stream",
     "text": [
      "C:\\Users\\17013\\anaconda3\\envs\\mlenv\\lib\\site-packages\\sklearn\\cluster\\_kmeans.py:1037: UserWarning:\n",
      "\n",
      "KMeans is known to have a memory leak on Windows with MKL, when there are less chunks than available threads. You can avoid it by setting the environment variable OMP_NUM_THREADS=4.\n",
      "\n"
     ]
    }
   ],
   "source": [
    "inertia =[]\n",
    "k =list(range(1,11))\n",
    "\n",
    "# Calculate the inertia for the range of K values\n",
    "for i in k:\n",
    "    km = KMeans(n_clusters=i, random_state=0)\n",
    "    km.fit(df_modified)\n",
    "    inertia.append(km.inertia_)"
   ]
  },
  {
   "cell_type": "code",
   "execution_count": 84,
   "id": "fb3419cf",
   "metadata": {
    "scrolled": false
   },
   "outputs": [
    {
     "data": {},
     "metadata": {},
     "output_type": "display_data"
    },
    {
     "data": {
      "application/vnd.holoviews_exec.v0+json": "",
      "text/html": [
       "<div id='1630'>\n",
       "\n",
       "\n",
       "\n",
       "\n",
       "\n",
       "  <div class=\"bk-root\" id=\"8a43278a-21cf-4041-89dc-036db0d6ddf9\" data-root-id=\"1630\"></div>\n",
       "</div>\n",
       "<script type=\"application/javascript\">(function(root) {\n",
       "  function embed_document(root) {\n",
       "    var docs_json = {\"194c8487-c5ad-4537-8bda-dd3e8520b10c\":{\"defs\":[{\"extends\":null,\"module\":null,\"name\":\"ReactiveHTML1\",\"overrides\":[],\"properties\":[]},{\"extends\":null,\"module\":null,\"name\":\"FlexBox1\",\"overrides\":[],\"properties\":[{\"default\":\"flex-start\",\"kind\":null,\"name\":\"align_content\"},{\"default\":\"flex-start\",\"kind\":null,\"name\":\"align_items\"},{\"default\":\"row\",\"kind\":null,\"name\":\"flex_direction\"},{\"default\":\"wrap\",\"kind\":null,\"name\":\"flex_wrap\"},{\"default\":\"flex-start\",\"kind\":null,\"name\":\"justify_content\"}]},{\"extends\":null,\"module\":null,\"name\":\"GridStack1\",\"overrides\":[],\"properties\":[{\"default\":\"warn\",\"kind\":null,\"name\":\"mode\"},{\"default\":null,\"kind\":null,\"name\":\"ncols\"},{\"default\":null,\"kind\":null,\"name\":\"nrows\"},{\"default\":true,\"kind\":null,\"name\":\"allow_resize\"},{\"default\":true,\"kind\":null,\"name\":\"allow_drag\"},{\"default\":[],\"kind\":null,\"name\":\"state\"}]},{\"extends\":null,\"module\":null,\"name\":\"click1\",\"overrides\":[],\"properties\":[{\"default\":\"\",\"kind\":null,\"name\":\"terminal_output\"},{\"default\":\"\",\"kind\":null,\"name\":\"debug_name\"},{\"default\":0,\"kind\":null,\"name\":\"clears\"}]},{\"extends\":null,\"module\":null,\"name\":\"TemplateActions1\",\"overrides\":[],\"properties\":[{\"default\":0,\"kind\":null,\"name\":\"open_modal\"},{\"default\":0,\"kind\":null,\"name\":\"close_modal\"}]},{\"extends\":null,\"module\":null,\"name\":\"MaterialTemplateActions1\",\"overrides\":[],\"properties\":[{\"default\":0,\"kind\":null,\"name\":\"open_modal\"},{\"default\":0,\"kind\":null,\"name\":\"close_modal\"}]}],\"roots\":{\"references\":[{\"attributes\":{},\"id\":\"1677\",\"type\":\"AllLabels\"},{\"attributes\":{},\"id\":\"1681\",\"type\":\"BasicTickFormatter\"},{\"attributes\":{\"data\":{\"inertia\":{\"__ndarray__\":\"IrPd8NMRuEX8K/totheWRTwK4zoEGH5FEwLFyOcBbkXZkI4vGhhjRd6jdWwi9FhFgdVJ6mBLUkXU+p4t7zRLRYbl65B4rUVFLZhtg8UKQkU=\",\"dtype\":\"float64\",\"order\":\"little\",\"shape\":[10]},\"k\":[1,2,3,4,5,6,7,8,9,10]},\"selected\":{\"id\":\"1666\"},\"selection_policy\":{\"id\":\"1689\"}},\"id\":\"1665\",\"type\":\"ColumnDataSource\"},{\"attributes\":{\"line_color\":\"#30a2da\",\"line_width\":2,\"x\":{\"field\":\"k\"},\"y\":{\"field\":\"inertia\"}},\"id\":\"1673\",\"type\":\"Line\"},{\"attributes\":{\"tools\":[{\"id\":\"1634\"},{\"id\":\"1652\"},{\"id\":\"1653\"},{\"id\":\"1654\"},{\"id\":\"1655\"},{\"id\":\"1656\"}]},\"id\":\"1658\",\"type\":\"Toolbar\"},{\"attributes\":{},\"id\":\"1689\",\"type\":\"UnionRenderers\"},{\"attributes\":{\"bottom_units\":\"screen\",\"coordinates\":null,\"fill_alpha\":0.5,\"fill_color\":\"lightgrey\",\"group\":null,\"left_units\":\"screen\",\"level\":\"overlay\",\"line_alpha\":1.0,\"line_color\":\"black\",\"line_dash\":[4,4],\"line_width\":2,\"right_units\":\"screen\",\"syncable\":false,\"top_units\":\"screen\"},\"id\":\"1657\",\"type\":\"BoxAnnotation\"},{\"attributes\":{},\"id\":\"1652\",\"type\":\"SaveTool\"},{\"attributes\":{\"margin\":[5,5,5,5],\"name\":\"HSpacer02730\",\"sizing_mode\":\"stretch_width\"},\"id\":\"1701\",\"type\":\"Spacer\"},{\"attributes\":{},\"id\":\"1653\",\"type\":\"PanTool\"},{\"attributes\":{},\"id\":\"1676\",\"type\":\"BasicTickFormatter\"},{\"attributes\":{},\"id\":\"1656\",\"type\":\"ResetTool\"},{\"attributes\":{\"callback\":null,\"renderers\":[{\"id\":\"1671\"}],\"tags\":[\"hv_created\"],\"tooltips\":[[\"k\",\"@{k}\"],[\"inertia\",\"@{inertia}\"]]},\"id\":\"1634\",\"type\":\"HoverTool\"},{\"attributes\":{\"end\":8.189749814504704e+27,\"reset_end\":8.189749814504704e+27,\"reset_start\":-6.96933913543626e+26,\"start\":-6.96933913543626e+26,\"tags\":[[[\"inertia\",\"inertia\",null]]]},\"id\":\"1633\",\"type\":\"Range1d\"},{\"attributes\":{},\"id\":\"1654\",\"type\":\"WheelZoomTool\"},{\"attributes\":{\"line_color\":\"#30a2da\",\"line_width\":2,\"x\":{\"field\":\"k\"},\"y\":{\"field\":\"inertia\"}},\"id\":\"1668\",\"type\":\"Line\"},{\"attributes\":{\"overlay\":{\"id\":\"1657\"}},\"id\":\"1655\",\"type\":\"BoxZoomTool\"},{\"attributes\":{\"line_alpha\":0.1,\"line_color\":\"#30a2da\",\"line_width\":2,\"x\":{\"field\":\"k\"},\"y\":{\"field\":\"inertia\"}},\"id\":\"1669\",\"type\":\"Line\"},{\"attributes\":{\"margin\":[5,5,5,5],\"name\":\"HSpacer02729\",\"sizing_mode\":\"stretch_width\"},\"id\":\"1631\",\"type\":\"Spacer\"},{\"attributes\":{\"source\":{\"id\":\"1665\"}},\"id\":\"1672\",\"type\":\"CDSView\"},{\"attributes\":{},\"id\":\"1640\",\"type\":\"LinearScale\"},{\"attributes\":{\"axis_label\":\"k\",\"coordinates\":null,\"formatter\":{\"id\":\"1676\"},\"group\":null,\"major_label_policy\":{\"id\":\"1677\"},\"ticker\":{\"id\":\"1674\"}},\"id\":\"1644\",\"type\":\"LinearAxis\"},{\"attributes\":{},\"id\":\"1682\",\"type\":\"AllLabels\"},{\"attributes\":{\"ticks\":[1,2,3,4,5,6,7,8,9,10]},\"id\":\"1674\",\"type\":\"FixedTicker\"},{\"attributes\":{\"children\":[{\"id\":\"1631\"},{\"id\":\"1635\"},{\"id\":\"1701\"}],\"margin\":[0,0,0,0],\"name\":\"Row02725\",\"tags\":[\"embedded\"]},\"id\":\"1630\",\"type\":\"Row\"},{\"attributes\":{\"coordinates\":null,\"group\":null,\"text\":\"Elbow Curve\",\"text_color\":\"black\",\"text_font_size\":\"12pt\"},\"id\":\"1636\",\"type\":\"Title\"},{\"attributes\":{},\"id\":\"1649\",\"type\":\"BasicTicker\"},{\"attributes\":{\"axis_label\":\"inertia\",\"coordinates\":null,\"formatter\":{\"id\":\"1681\"},\"group\":null,\"major_label_policy\":{\"id\":\"1682\"},\"ticker\":{\"id\":\"1649\"}},\"id\":\"1648\",\"type\":\"LinearAxis\"},{\"attributes\":{},\"id\":\"1642\",\"type\":\"LinearScale\"},{\"attributes\":{\"axis\":{\"id\":\"1644\"},\"coordinates\":null,\"grid_line_color\":null,\"group\":null,\"ticker\":null},\"id\":\"1647\",\"type\":\"Grid\"},{\"attributes\":{\"below\":[{\"id\":\"1644\"}],\"center\":[{\"id\":\"1647\"},{\"id\":\"1651\"}],\"height\":300,\"left\":[{\"id\":\"1648\"}],\"margin\":[5,5,5,5],\"min_border_bottom\":10,\"min_border_left\":10,\"min_border_right\":10,\"min_border_top\":10,\"renderers\":[{\"id\":\"1671\"}],\"sizing_mode\":\"fixed\",\"title\":{\"id\":\"1636\"},\"toolbar\":{\"id\":\"1658\"},\"width\":700,\"x_range\":{\"id\":\"1632\"},\"x_scale\":{\"id\":\"1640\"},\"y_range\":{\"id\":\"1633\"},\"y_scale\":{\"id\":\"1642\"}},\"id\":\"1635\",\"subtype\":\"Figure\",\"type\":\"Plot\"},{\"attributes\":{\"coordinates\":null,\"data_source\":{\"id\":\"1665\"},\"glyph\":{\"id\":\"1668\"},\"group\":null,\"hover_glyph\":null,\"muted_glyph\":{\"id\":\"1670\"},\"nonselection_glyph\":{\"id\":\"1669\"},\"selection_glyph\":{\"id\":\"1673\"},\"view\":{\"id\":\"1672\"}},\"id\":\"1671\",\"type\":\"GlyphRenderer\"},{\"attributes\":{\"line_alpha\":0.2,\"line_color\":\"#30a2da\",\"line_width\":2,\"x\":{\"field\":\"k\"},\"y\":{\"field\":\"inertia\"}},\"id\":\"1670\",\"type\":\"Line\"},{\"attributes\":{\"axis\":{\"id\":\"1648\"},\"coordinates\":null,\"dimension\":1,\"grid_line_color\":null,\"group\":null,\"ticker\":null},\"id\":\"1651\",\"type\":\"Grid\"},{\"attributes\":{\"end\":10.0,\"reset_end\":10.0,\"reset_start\":1.0,\"start\":1.0,\"tags\":[[[\"k\",\"k\",null]]]},\"id\":\"1632\",\"type\":\"Range1d\"},{\"attributes\":{},\"id\":\"1666\",\"type\":\"Selection\"}],\"root_ids\":[\"1630\"]},\"title\":\"Bokeh Application\",\"version\":\"2.4.2\"}};\n",
       "    var render_items = [{\"docid\":\"194c8487-c5ad-4537-8bda-dd3e8520b10c\",\"root_ids\":[\"1630\"],\"roots\":{\"1630\":\"8a43278a-21cf-4041-89dc-036db0d6ddf9\"}}];\n",
       "    root.Bokeh.embed.embed_items_notebook(docs_json, render_items);\n",
       "  }\n",
       "  if (root.Bokeh !== undefined && root.Bokeh.Panel !== undefined) {\n",
       "    embed_document(root);\n",
       "  } else {\n",
       "    var attempts = 0;\n",
       "    var timer = setInterval(function(root) {\n",
       "      if (root.Bokeh !== undefined && root.Bokeh.Panel !== undefined) {\n",
       "        clearInterval(timer);\n",
       "        embed_document(root);\n",
       "      } else if (document.readyState == \"complete\") {\n",
       "        attempts++;\n",
       "        if (attempts > 200) {\n",
       "          clearInterval(timer);\n",
       "          console.log(\"Bokeh: ERROR: Unable to run BokehJS code because BokehJS library is missing\");\n",
       "        }\n",
       "      }\n",
       "    }, 25, root)\n",
       "  }\n",
       "})(window);</script>"
      ],
      "text/plain": [
       ":Curve   [k]   (inertia)"
      ]
     },
     "execution_count": 84,
     "metadata": {
      "application/vnd.holoviews_exec.v0+json": {
       "id": "1630"
      }
     },
     "output_type": "execute_result"
    }
   ],
   "source": [
    "# Create the Elbow Curve using hvPlot\n",
    "elbow_data = {\"k\": k, \"inertia\": inertia}\n",
    "df_elbow = pd.DataFrame(elbow_data)\n",
    "df_elbow.hvplot.line(x=\"k\", y=\"inertia\", xticks=k, title=\"Elbow Curve\")"
   ]
  },
  {
   "cell_type": "code",
   "execution_count": 85,
   "id": "d4c76f53",
   "metadata": {},
   "outputs": [],
   "source": [
    "def get_clusters(k, data):\n",
    "#     Create a copy of the DataFrame\n",
    "    data= data.copy()\n",
    "    \n",
    "#     Initialize the K-Means model\n",
    "    model = KMeans(n_clusters=k, random_state=0)\n",
    "    \n",
    "#     Fit the model\n",
    "    model.fit(data)\n",
    "    \n",
    "#     Predict clusters\n",
    "    predictions = model.predict(data)\n",
    "    \n",
    "#     Create return DataFrame with predicted clusters\n",
    "    data[\"class\"] =model.labels_\n",
    "    \n",
    "    return data\n"
   ]
  },
  {
   "cell_type": "code",
   "execution_count": 91,
   "id": "18900438",
   "metadata": {
    "scrolled": false
   },
   "outputs": [
    {
     "data": {
      "text/html": [
       "<div>\n",
       "<style scoped>\n",
       "    .dataframe tbody tr th:only-of-type {\n",
       "        vertical-align: middle;\n",
       "    }\n",
       "\n",
       "    .dataframe tbody tr th {\n",
       "        vertical-align: top;\n",
       "    }\n",
       "\n",
       "    .dataframe thead th {\n",
       "        text-align: right;\n",
       "    }\n",
       "</style>\n",
       "<table border=\"1\" class=\"dataframe\">\n",
       "  <thead>\n",
       "    <tr style=\"text-align: right;\">\n",
       "      <th></th>\n",
       "      <th>dollar_price</th>\n",
       "      <th>Year</th>\n",
       "      <th>gdp_growth</th>\n",
       "      <th>GDP_Per_Capita</th>\n",
       "      <th>GDP</th>\n",
       "      <th>GDP_log10</th>\n",
       "      <th>class</th>\n",
       "    </tr>\n",
       "  </thead>\n",
       "  <tbody>\n",
       "    <tr>\n",
       "      <th>0</th>\n",
       "      <td>2.50</td>\n",
       "      <td>2000</td>\n",
       "      <td>-10.894485</td>\n",
       "      <td>6854.294081</td>\n",
       "      <td>2.582820e+11</td>\n",
       "      <td>11.412094</td>\n",
       "      <td>2</td>\n",
       "    </tr>\n",
       "    <tr>\n",
       "      <th>1</th>\n",
       "      <td>2.59</td>\n",
       "      <td>2000</td>\n",
       "      <td>4.001431</td>\n",
       "      <td>45806.687450</td>\n",
       "      <td>9.001660e+11</td>\n",
       "      <td>11.954323</td>\n",
       "      <td>2</td>\n",
       "    </tr>\n",
       "    <tr>\n",
       "      <th>2</th>\n",
       "      <td>2.95</td>\n",
       "      <td>2000</td>\n",
       "      <td>3.053462</td>\n",
       "      <td>8954.837245</td>\n",
       "      <td>1.607730e+12</td>\n",
       "      <td>12.206213</td>\n",
       "      <td>0</td>\n",
       "    </tr>\n",
       "    <tr>\n",
       "      <th>3</th>\n",
       "      <td>2.85</td>\n",
       "      <td>2000</td>\n",
       "      <td>3.016889</td>\n",
       "      <td>44863.216020</td>\n",
       "      <td>1.406910e+12</td>\n",
       "      <td>12.148266</td>\n",
       "      <td>0</td>\n",
       "    </tr>\n",
       "    <tr>\n",
       "      <th>4</th>\n",
       "      <td>2.45</td>\n",
       "      <td>2000</td>\n",
       "      <td>3.106971</td>\n",
       "      <td>9814.656135</td>\n",
       "      <td>1.539370e+11</td>\n",
       "      <td>11.187343</td>\n",
       "      <td>2</td>\n",
       "    </tr>\n",
       "  </tbody>\n",
       "</table>\n",
       "</div>"
      ],
      "text/plain": [
       "   dollar_price  Year  gdp_growth  GDP_Per_Capita           GDP  GDP_log10  \\\n",
       "0          2.50  2000  -10.894485     6854.294081  2.582820e+11  11.412094   \n",
       "1          2.59  2000    4.001431    45806.687450  9.001660e+11  11.954323   \n",
       "2          2.95  2000    3.053462     8954.837245  1.607730e+12  12.206213   \n",
       "3          2.85  2000    3.016889    44863.216020  1.406910e+12  12.148266   \n",
       "4          2.45  2000    3.106971     9814.656135  1.539370e+11  11.187343   \n",
       "\n",
       "   class  \n",
       "0      2  \n",
       "1      2  \n",
       "2      0  \n",
       "3      0  \n",
       "4      2  "
      ]
     },
     "execution_count": 91,
     "metadata": {},
     "output_type": "execute_result"
    }
   ],
   "source": [
    "four_clusters = get_clusters(4, df_modified)\n",
    "four_clusters.head()"
   ]
  },
  {
   "cell_type": "code",
   "execution_count": 92,
   "id": "182d39af",
   "metadata": {
    "scrolled": true
   },
   "outputs": [
    {
     "data": {
      "application/vnd.plotly.v1+json": {
       "config": {
        "plotlyServerURL": "https://plot.ly"
       },
       "data": [
        {
         "hovertemplate": "class=%{marker.color}<br>GDP_log10=%{x}<br>Year=%{y}<br>dollar_price=%{z}<extra></extra>",
         "legendgroup": "2",
         "marker": {
          "color": [
           2,
           2,
           2,
           2,
           2,
           2,
           2,
           2,
           2,
           2,
           2,
           2,
           2,
           2,
           2,
           2,
           2,
           2,
           2,
           2,
           2,
           2,
           2,
           2,
           2,
           2,
           2,
           2,
           2,
           2,
           2,
           2,
           2,
           2,
           2,
           2,
           2,
           2,
           2,
           2,
           2,
           2,
           2,
           2,
           2,
           2,
           2,
           2,
           2,
           2,
           2,
           2,
           2,
           2,
           2,
           2,
           2,
           2,
           2,
           2,
           2,
           2,
           2,
           2,
           2,
           2,
           2,
           2,
           2,
           2,
           2,
           2,
           2,
           2,
           2,
           2,
           2,
           2,
           2,
           2,
           2,
           2,
           2,
           2,
           2,
           2,
           2,
           2,
           2,
           2,
           2,
           2,
           2,
           2,
           2,
           2,
           2,
           2,
           2,
           2,
           2,
           2,
           2,
           2,
           2,
           2,
           2,
           2,
           2,
           2,
           2,
           2,
           2,
           2,
           2,
           2,
           2,
           2,
           2,
           2,
           2,
           2,
           2,
           2,
           2,
           2,
           2,
           2,
           2,
           2,
           2,
           2,
           2,
           2,
           2,
           2,
           2,
           2,
           2,
           2,
           2,
           2,
           2,
           2,
           2,
           2,
           2,
           2,
           2,
           2,
           2,
           2,
           2,
           2,
           2,
           2,
           2,
           2,
           2,
           2,
           2,
           2,
           2,
           2,
           2,
           2,
           2,
           2,
           2,
           2,
           2,
           2,
           2,
           2,
           2,
           2,
           2,
           2,
           2,
           2,
           2,
           2,
           2,
           2,
           2,
           2,
           2,
           2,
           2,
           2,
           2,
           2,
           2,
           2,
           2,
           2,
           2,
           2,
           2,
           2,
           2,
           2,
           2,
           2,
           2,
           2,
           2,
           2,
           2,
           2,
           2,
           2,
           2,
           2,
           2,
           2,
           2,
           2,
           2,
           2,
           2,
           2,
           2,
           2,
           2,
           2,
           2,
           2,
           2,
           2,
           2,
           2,
           2,
           2,
           2,
           2,
           2,
           2,
           2,
           2,
           2,
           2,
           2,
           2,
           2,
           2,
           2,
           2,
           2,
           2,
           2,
           2,
           2,
           2,
           2,
           2,
           2,
           2,
           2,
           2,
           2,
           2,
           2,
           2,
           2,
           2,
           2,
           2,
           2,
           2,
           2,
           2,
           2,
           2,
           2,
           2,
           2,
           2,
           2,
           2,
           2,
           2,
           2,
           2,
           2,
           2,
           2,
           2,
           2,
           2,
           2,
           2,
           2,
           2,
           2,
           2,
           2,
           2,
           2,
           2,
           2,
           2,
           2,
           2,
           2,
           2,
           2,
           2,
           2,
           2,
           2,
           2,
           2,
           2,
           2,
           2,
           2,
           2,
           2,
           2,
           2,
           2,
           2,
           2,
           2,
           2,
           2,
           2,
           2,
           2,
           2,
           2,
           2,
           2,
           2,
           2,
           2,
           2,
           2,
           2,
           2,
           2,
           2,
           2,
           2,
           2,
           2,
           2,
           2,
           2,
           2,
           2,
           2,
           2,
           2,
           2,
           2,
           2,
           2,
           2,
           2,
           2,
           2,
           2,
           2,
           2,
           2,
           2,
           2,
           2,
           2,
           2,
           2,
           2,
           2,
           2,
           2,
           2,
           2,
           2,
           2,
           2,
           2,
           2,
           2,
           2,
           2,
           2,
           2,
           2,
           2,
           2,
           2,
           2,
           2,
           2,
           2,
           2,
           2,
           2,
           2,
           2,
           2,
           2,
           2,
           2,
           2,
           2,
           2,
           2,
           2,
           2,
           2,
           2,
           2,
           2,
           2,
           2,
           2,
           2,
           2,
           2,
           2,
           2,
           2,
           2,
           2,
           2,
           2,
           2,
           2,
           2,
           2,
           2,
           2,
           2,
           2,
           2,
           2,
           2,
           2,
           2,
           2,
           2,
           2,
           2,
           2,
           2,
           2,
           2,
           2,
           2,
           2,
           2,
           2,
           2,
           2,
           2,
           2,
           2,
           2,
           2,
           2,
           2,
           2,
           2,
           2,
           2,
           2,
           2,
           2,
           2,
           2,
           2,
           2,
           2,
           2,
           2,
           2,
           2,
           2,
           2,
           2,
           2,
           2,
           2,
           2,
           2,
           2,
           2,
           2,
           2,
           2,
           2,
           2,
           2,
           2,
           2,
           2,
           2,
           2,
           2,
           2,
           2,
           2,
           2,
           2,
           2,
           2,
           2,
           2,
           2,
           2,
           2,
           2,
           2,
           2,
           2,
           2,
           2,
           2,
           2,
           2,
           2,
           2,
           2,
           2,
           2,
           2,
           2,
           2,
           2,
           2,
           2,
           2,
           2,
           2,
           2,
           2,
           2,
           2,
           2,
           2,
           2,
           2,
           2,
           2,
           2,
           2,
           2,
           2,
           2,
           2,
           2,
           2,
           2,
           2,
           2,
           2,
           2,
           2,
           2,
           2,
           2,
           2,
           2,
           2,
           2,
           2,
           2,
           2,
           2,
           2,
           2,
           2,
           2,
           2,
           2,
           2,
           2,
           2,
           2,
           2,
           2,
           2,
           2,
           2,
           2,
           2,
           2,
           2,
           2,
           2,
           2,
           2,
           2,
           2,
           2,
           2,
           2,
           2,
           2,
           2,
           2,
           2,
           2,
           2,
           2,
           2,
           2,
           2,
           2,
           2,
           2,
           2,
           2,
           2,
           2,
           2,
           2,
           2,
           2,
           2,
           2,
           2,
           2,
           2,
           2,
           2,
           2,
           2,
           2,
           2,
           2,
           2,
           2,
           2,
           2,
           2,
           2,
           2,
           2,
           2,
           2,
           2,
           2,
           2,
           2,
           2,
           2,
           2,
           2,
           2,
           2,
           2,
           2,
           2,
           2,
           2,
           2,
           2,
           2,
           2,
           2,
           2,
           2,
           2,
           2,
           2,
           2,
           2,
           2,
           2,
           2,
           2,
           2,
           2,
           2,
           2,
           2,
           2,
           2,
           2,
           2,
           2,
           2,
           2,
           2,
           2,
           2,
           2,
           2,
           2,
           2,
           2,
           2,
           2,
           2,
           2,
           2,
           2,
           2,
           2,
           2,
           2,
           2,
           2,
           2,
           2,
           2,
           2,
           2,
           2,
           2,
           2,
           2,
           2,
           2,
           2,
           2,
           2,
           2,
           2,
           2,
           2,
           2
          ],
          "coloraxis": "coloraxis",
          "symbol": "circle"
         },
         "mode": "markers",
         "name": "2",
         "scene": "scene",
         "showlegend": true,
         "type": "scatter3d",
         "x": [
          11.412094140694933,
          11.954322605257378,
          11.187343018561377,
          11.200962612546434,
          11.480119097247744,
          11.065650659880603,
          11.691150478434972,
          11.241160324769677,
          11.23596000193407,
          11.959590832796005,
          11.088968426943351,
          11.52765309698977,
          11.146655073340973,
          11.453862396433447,
          11.614532339763299,
          11.694030145888963,
          11.37850509848887,
          11.4488701154014,
          11.967100347417114,
          11.204757384698596,
          11.216334835060117,
          11.481809402254566,
          11.082052553435034,
          11.711430114612678,
          11.260400563415114,
          11.965827518549071,
          11.108348498996003,
          11.147125766036032,
          11.542855291455442,
          11.165920621847603,
          11.46648503558615,
          11.624661550847035,
          11.694202302678658,
          11.408655399942464,
          11.486414892149611,
          11.984365266521277,
          11.234990295456319,
          11.237138911724031,
          11.49324608029749,
          11.103259657296789,
          11.732747485309995,
          11.263259595800461,
          11.288903975244862,
          11.982529018865602,
          11.125523554490048,
          11.600614645499268,
          10.997954143027906,
          11.175282719143905,
          11.564605708509081,
          11.206599228475916,
          11.48582785816497,
          11.642991487327604,
          11.706094476771453,
          11.43514492006382,
          11.780844915005718,
          11.523249474489033,
          11.998062640461773,
          11.259240183834748,
          11.264624235590025,
          11.503277122414742,
          11.121910945685343,
          11.756792000348835,
          11.311463528206794,
          11.992437749449032,
          11.139712260106158,
          11.024428195817706,
          11.19555097040525,
          11.579519511010762,
          11.237438167626031,
          11.50816192795076,
          11.655054834686055,
          11.71941747428244,
          11.452961888826858,
          11.818311028108134,
          11.556863102495688,
          12.010032681518817,
          11.28584524303856,
          11.390148781677974,
          10.500752789079453,
          11.2934133851875,
          11.519947375546812,
          11.138324807140773,
          11.780048585831072,
          11.335066558492777,
          12.011532383016828,
          11.151893629938664,
          11.62214560842323,
          11.20209580344258,
          11.05595140532915,
          11.217744442761296,
          11.605560375021266,
          11.676211503834672,
          11.274884914587949,
          11.53184152924547,
          10.65152901543734,
          11.674999762305244,
          11.736403674052907,
          11.474019475353776,
          11.848139832551729,
          11.144910305509974,
          10.496839340742994,
          11.594320714558501,
          12.02641476726776,
          11.30664158462451,
          11.418917485831926,
          10.534851171905254,
          11.317089256724117,
          11.523877775529876,
          11.14015279448004,
          11.806765198468623,
          11.361593750502394,
          12.021371251017943,
          11.164783961605497,
          11.634920407280106,
          11.22259422735409,
          11.091455913055093,
          11.245569418498611,
          11.635084454729403,
          11.684160179505131,
          11.312399526311495,
          11.554519444476611,
          10.680087361583345,
          11.689553913239607,
          11.75390387403474,
          11.49700432923783,
          11.869454678574986,
          11.17669595486015,
          10.524358191893988,
          11.611592681466488,
          12.042019984833715,
          11.32170611054876,
          11.328583449714202,
          11.521647949497911,
          11.143835746501003,
          11.832127460226928,
          11.382087316908818,
          12.026312588504672,
          11.160381483418906,
          11.12938694025794,
          11.263238276257773,
          11.653159430094599,
          11.320439180250922,
          11.568161814091685,
          11.687128369491756,
          11.763162094005931,
          11.50443551940836,
          11.873110089488414,
          11.611592681466488,
          12.042019984833715,
          11.32170611054876,
          11.43283786085072,
          10.554588737254456,
          11.328583449714202,
          11.521647949497911,
          11.143835746501003,
          11.832127460226928,
          11.382087316908818,
          12.026312588504672,
          11.160381483418906,
          11.63700312724376,
          11.229922339542028,
          11.12938694025794,
          11.263238276257773,
          11.653159430094599,
          11.710488008043233,
          11.320439180250922,
          11.568161814091685,
          10.705188683937324,
          11.687128369491756,
          11.763162094005931,
          11.50443551940836,
          11.873110089488414,
          11.186589091272406,
          10.554456322453197,
          11.585096220432902,
          12.050348816995085,
          11.314859061201037,
          11.43804052399445,
          10.550353111681984,
          11.307209266108284,
          11.499798390672995,
          11.114177140244449,
          11.851779189655261,
          11.37546424989899,
          12.00272747268983,
          11.159452890171531,
          11.629596122165042,
          11.242049214077392,
          11.134119708037254,
          11.268198734658952,
          11.665238485615477,
          11.70145140926214,
          11.320964233196577,
          11.561429366864736,
          10.720292281213881,
          11.663955209955912,
          11.753403022986507,
          11.501424902030378,
          11.852182839454297,
          11.11723814213982,
          10.57250528268276,
          11.585096220432902,
          12.050348816995085,
          11.314859061201037,
          11.43804052399445,
          10.550353111681984,
          11.307209266108284,
          11.499798390672995,
          11.114177140244449,
          11.851779189655261,
          11.37546424989899,
          12.00272747268983,
          11.159452890171531,
          11.629596122165042,
          11.242049214077392,
          11.134119708037254,
          11.268198734658952,
          11.665238485615477,
          11.70145140926214,
          11.320964233196577,
          11.561429366864736,
          10.720292281213881,
          11.663955209955912,
          11.753403022986507,
          11.501424902030378,
          11.852182839454297,
          11.11723814213982,
          10.57250528268276,
          11.626983632212891,
          12.059237669563228,
          11.339526964214535,
          11.456523929688464,
          10.571343267322925,
          11.316972052926953,
          11.507849127940338,
          11.117015948274512,
          11.87800101936451,
          11.40656913243436,
          12.024403562682966,
          11.166086568593437,
          11.632589888670742,
          11.24897075191846,
          11.16887739863303,
          11.300140954093333,
          11.680626456707895,
          11.722804152344645,
          11.379865478083058,
          11.574434106118808,
          10.753780240666828,
          11.68922803197515,
          11.76625144400299,
          11.532888085448132,
          11.887562166189548,
          11.133580419829368,
          10.605137779867261,
          11.652306306257216,
          12.069801250273695,
          11.365285766249952,
          11.48737596999458,
          10.589657145321672,
          11.32462399340219,
          11.513617073787875,
          11.124155214442988,
          11.904002132582752,
          11.389777211717643,
          11.428971786394888,
          12.04002843923198,
          11.176105735297142,
          11.636790693620018,
          11.260746167555377,
          11.195520516621967,
          11.31574999526386,
          11.701887328767572,
          11.764184354755352,
          11.406245441441108,
          11.58846779555939,
          10.788828484860176,
          11.700710638117473,
          11.773541445498518,
          11.536520566401158,
          11.933328827506763,
          11.156691469995264,
          10.626997166281603,
          11.647825841976948,
          12.086423902183313,
          11.38779189652721,
          11.504004374155247,
          10.610005663831604,
          11.321136345577093,
          11.514599546161328,
          11.117012631087,
          11.92943118797361,
          11.39887187275505,
          11.45211471784706,
          12.055565618711297,
          11.18566678770116,
          11.64845271563816,
          11.275714358663436,
          11.221398587308745,
          11.343849557905104,
          11.70881507079194,
          11.787072057196566,
          11.425150946306864,
          11.597975851243886,
          10.826830627999934,
          11.69941275894108,
          11.777889146970413,
          11.566888641195053,
          11.953648567694689,
          11.157725663362385,
          10.64209768751223,
          11.647825841976948,
          12.086423902183313,
          11.38779189652721,
          11.504004374155247,
          10.610005663831604,
          11.321136345577093,
          11.514599546161328,
          11.117012631087,
          11.92943118797361,
          11.39887187275505,
          11.45211471784706,
          12.055565618711297,
          11.18566678770116,
          11.64845271563816,
          11.275714358663436,
          11.221398587308745,
          11.343849557905104,
          11.70881507079194,
          11.787072057196566,
          11.425150946306864,
          11.597975851243886,
          10.826830627999934,
          11.69941275894108,
          11.777889146970413,
          11.566888641195053,
          11.953648567694689,
          11.157725663362385,
          10.64209768751223,
          11.658147867764232,
          12.097635547004261,
          11.608734573215084,
          11.694068799272413,
          11.405013210705802,
          11.523399152442353,
          10.61974978957198,
          11.319031066737816,
          11.518633683362054,
          10.348278513661054,
          11.39558147707357,
          11.38737202701981,
          11.126011204422152,
          11.952919275307236,
          11.35494355649173,
          11.416509034320976,
          11.47203495073734,
          12.0614072377223,
          11.929276351537073,
          11.196712156719984,
          11.652964412517797,
          11.29440008490981,
          11.246099555670785,
          11.373493126949638,
          11.71481827578234,
          11.346329498438745,
          11.798639598068338,
          11.445574626656619,
          11.608637267178715,
          10.84133324291953,
          11.704757761066729,
          11.785858498029764,
          11.578405384304045,
          11.989043366400377,
          11.157610874530164,
          10.661785202834594,
          11.647096280277053,
          11.611596930102216,
          11.699483904833496,
          11.412618443989382,
          11.543462091224237,
          10.634754496461511,
          11.330665347740076,
          11.525610965275336,
          10.360645618871601,
          11.392828804036949,
          11.390573044154603,
          11.14397917474468,
          11.974136185797901,
          11.390599546802992,
          11.433115099597385,
          11.497369252404262,
          12.073417721867594,
          11.935414552698749,
          11.212555133744786,
          11.661458671711966,
          11.314242322497769,
          11.256323190864252,
          11.399393329368396,
          11.728996224797026,
          11.350191789069354,
          11.814219618805906,
          11.462192782718377,
          11.616584730205632,
          10.862359963790944,
          11.715913134643454,
          11.796367543162875,
          11.58265982382231,
          12.010922959658034,
          11.128176247779322,
          10.675628113747385,
          11.647096280277053,
          11.611596930102216,
          11.699483904833496,
          11.412618443989382,
          11.543462091224237,
          11.330665347740076,
          11.525610965275336,
          10.360645618871601,
          11.392828804036949,
          11.390573044154603,
          11.14397917474468,
          11.974136185797901,
          11.390599546802992,
          11.433115099597385,
          11.497369252404262,
          12.073417721867594,
          11.935414552698749,
          11.212555133744786,
          11.661458671711966,
          11.314242322497769,
          11.399393329368396,
          11.728996224797026,
          11.350191789069354,
          11.814219618805906,
          11.462192782718377,
          11.616584730205632,
          10.862359963790944,
          11.715913134643454,
          11.796367543162875,
          11.58265982382231,
          12.010922959658034,
          11.128176247779322,
          10.675628113747385,
          11.658798140643178,
          11.616533275939553,
          11.70697452890356,
          11.422509407499756,
          11.556114265704586,
          10.650247250709462,
          11.35313306457957,
          11.535666213010188,
          10.368821024326722,
          11.394997707906775,
          11.388667689314277,
          11.15907366988451,
          11.994813645327554,
          11.488073858907702,
          11.444124461339554,
          11.518936184633613,
          12.08746906765054,
          11.943841120647573,
          11.227850726065745,
          11.66993115397732,
          11.334319018539526,
          11.270238496862273,
          11.424971425079967,
          11.745356679051092,
          11.35803388532572,
          11.831697045517553,
          11.474576083893098,
          11.621739045251653,
          10.88358104090575,
          11.734848614994867,
          11.802120082105942,
          11.596061318661391,
          12.036580992593736,
          11.08351336956064,
          10.677235245305232,
          11.658798140643178,
          11.616533275939553,
          11.70697452890356,
          11.422509407499756,
          11.556114265704586,
          10.650247250709462,
          11.35313306457957,
          11.535666213010188,
          10.368821024326722,
          11.394997707906775,
          11.388667689314277,
          11.15907366988451,
          11.994813645327554,
          11.488073858907702,
          11.444124461339554,
          11.518936184633613,
          12.08746906765054,
          11.943841120647573,
          11.227850726065745,
          11.66993115397732,
          11.334319018539526,
          11.270238496862273,
          11.424971425079967,
          11.745356679051092,
          11.35803388532572,
          11.831697045517553,
          11.474576083893098,
          11.621739045251653,
          10.88358104090575,
          11.734848614994867,
          11.802120082105942,
          11.596061318661391,
          12.036580992593736,
          11.08351336956064,
          10.677235245305232,
          11.649668728120272,
          11.625301130341853,
          11.71323762102911,
          11.429705457627271,
          11.565085955321356,
          10.66830660829246,
          11.363645819702187,
          11.545964865033964,
          10.383715622281088,
          11.406872161061342,
          11.387836350460791,
          11.168868567171467,
          12.016138774198266,
          11.50375936916001,
          11.461190780008451,
          10.660228446222604,
          11.53690170251884,
          12.0999739842355,
          11.953256507624703,
          11.243402702917749,
          11.675057584714992,
          11.357681434633548,
          11.287087018757926,
          11.453885305200677,
          11.758457688610466,
          11.366318340364138,
          11.838892518014118,
          11.487254360468532,
          11.623838290463638,
          10.90264178187419,
          11.746351582096269,
          11.809018697996123,
          11.610399295179134,
          12.050190218651284,
          11.093988699580738,
          10.684512630631943,
          11.649668728120272,
          11.625301130341853,
          11.71323762102911,
          11.429705457627271,
          11.565085955321356,
          10.66830660829246,
          11.363645819702187,
          11.545964865033964,
          10.383715622281088,
          11.406872161061342,
          11.387836350460791,
          11.168868567171467,
          12.016138774198266,
          11.50375936916001,
          11.461190780008451,
          10.660228446222604,
          11.53690170251884,
          12.0999739842355,
          11.953256507624703,
          11.243402702917749,
          11.675057584714992,
          11.357681434633548,
          11.287087018757926,
          11.453885305200677,
          11.758457688610466,
          11.366318340364138,
          11.838892518014118,
          11.487254360468532,
          11.623838290463638,
          10.90264178187419,
          11.746351582096269,
          11.809018697996123,
          11.610399295179134,
          12.050190218651284,
          11.093988699580738,
          10.684512630631943,
          11.215121813468258,
          11.66110626451335,
          11.636241090804853,
          11.720704930717854,
          11.435224640475868,
          11.570915199486205,
          10.682815309640858,
          11.382150373938574,
          11.5556807735697,
          10.404311753529944,
          11.419892994183018,
          11.394323825325678,
          11.18647320365895,
          12.037605756827212,
          11.537767480198248,
          11.475899169390352,
          11.561785693229659,
          11.965718030313582,
          11.256780264492484,
          11.683574718710481,
          11.381759272685729,
          11.297891764154654,
          11.481958315657971,
          11.778877362472201,
          11.378290676941148,
          11.835660138112074,
          11.503031706684434,
          11.629938382306268,
          10.917245556026462,
          11.755396868801395,
          11.815983962301065,
          11.627533805941962,
          12.081361712025686,
          11.104569045938032,
          10.695623327479398,
          11.243742275313181,
          11.66110626451335,
          11.636241090804853,
          11.720704930717854,
          11.435224640475868,
          11.570915199486205,
          10.682815309640858,
          11.382150373938574,
          11.5556807735697,
          10.404311753529944,
          11.419892994183018,
          11.394323825325678,
          11.18647320365895,
          12.037605756827212,
          11.537767480198248,
          11.475899169390352,
          11.561785693229659,
          11.965718030313582,
          11.256780264492484,
          11.683574718710481,
          11.381759272685729,
          11.297891764154654,
          11.481958315657971,
          11.778877362472201,
          11.378290676941148,
          11.835660138112074,
          11.503031706684434,
          11.629938382306268,
          10.917245556026462,
          11.755396868801395,
          11.815983962301065,
          11.627533805941962,
          12.081361712025686,
          11.104569045938032,
          10.695623327479398,
          11.243742275313181,
          11.650046090510354,
          11.647934291394096,
          11.7269048015984,
          11.452361533134575,
          11.582308863164489,
          10.69423370175094,
          11.394808776211582,
          11.562102447054803,
          10.420784129935852,
          11.427033077072595,
          11.402644768309061,
          11.207416223008172,
          12.059502832056381,
          11.571872971087128,
          11.490035774152869,
          11.58183023655993,
          11.9768546046442,
          11.268694953562179,
          11.689809474545637,
          11.404722564045384,
          11.314827508809302,
          11.50826165299545,
          11.800684779865183,
          11.387505504133657,
          11.845174345055188,
          11.516457365750467,
          11.63334319910975,
          10.930963677957616,
          11.76552252383228,
          11.826879122727636,
          11.645105767570476,
          12.092366188746038,
          11.118816752700452,
          10.702602875458641,
          11.273434192579858,
          11.650046090510354,
          11.647934291394096,
          11.7269048015984,
          11.452361533134575,
          11.582308863164489,
          10.69423370175094,
          11.394808776211582,
          11.562102447054803,
          10.420784129935852,
          11.427033077072595,
          11.402644768309061,
          11.207416223008172,
          12.059502832056381,
          11.571872971087128,
          11.490035774152869,
          11.58183023655993,
          11.9768546046442,
          11.268694953562179,
          11.689809474545637,
          11.404722564045384,
          11.314827508809302,
          11.50826165299545,
          11.800684779865183,
          11.387505504133657,
          11.845174345055188,
          11.516457365750467,
          11.63334319910975,
          10.930963677957616,
          11.76552252383228,
          11.826879122727636,
          11.645105767570476,
          12.092366188746038,
          11.118816752700452,
          10.702602875458641,
          11.273434192579858
         ],
         "y": [
          2000,
          2000,
          2000,
          2000,
          2000,
          2000,
          2000,
          2000,
          2000,
          2000,
          2000,
          2000,
          2000,
          2000,
          2000,
          2000,
          2000,
          2001,
          2001,
          2001,
          2001,
          2001,
          2001,
          2001,
          2001,
          2001,
          2001,
          2001,
          2001,
          2001,
          2001,
          2001,
          2001,
          2001,
          2002,
          2002,
          2002,
          2002,
          2002,
          2002,
          2002,
          2002,
          2002,
          2002,
          2002,
          2002,
          2002,
          2002,
          2002,
          2002,
          2002,
          2002,
          2002,
          2002,
          2002,
          2003,
          2003,
          2003,
          2003,
          2003,
          2003,
          2003,
          2003,
          2003,
          2003,
          2003,
          2003,
          2003,
          2003,
          2003,
          2003,
          2003,
          2003,
          2003,
          2004,
          2004,
          2004,
          2004,
          2004,
          2004,
          2004,
          2004,
          2004,
          2004,
          2004,
          2004,
          2004,
          2004,
          2004,
          2004,
          2004,
          2004,
          2004,
          2004,
          2004,
          2004,
          2004,
          2004,
          2004,
          2004,
          2004,
          2005,
          2005,
          2005,
          2005,
          2005,
          2005,
          2005,
          2005,
          2005,
          2005,
          2005,
          2005,
          2005,
          2005,
          2005,
          2005,
          2005,
          2005,
          2005,
          2005,
          2005,
          2005,
          2005,
          2005,
          2005,
          2005,
          2005,
          2006,
          2006,
          2006,
          2006,
          2006,
          2006,
          2006,
          2006,
          2006,
          2006,
          2006,
          2006,
          2006,
          2006,
          2006,
          2006,
          2006,
          2006,
          2006,
          2006,
          2006,
          2006,
          2006,
          2006,
          2006,
          2006,
          2006,
          2006,
          2006,
          2006,
          2006,
          2006,
          2006,
          2006,
          2006,
          2006,
          2006,
          2006,
          2006,
          2006,
          2006,
          2006,
          2006,
          2006,
          2006,
          2006,
          2007,
          2007,
          2007,
          2007,
          2007,
          2007,
          2007,
          2007,
          2007,
          2007,
          2007,
          2007,
          2007,
          2007,
          2007,
          2007,
          2007,
          2007,
          2007,
          2007,
          2007,
          2007,
          2007,
          2007,
          2007,
          2007,
          2007,
          2007,
          2007,
          2007,
          2007,
          2007,
          2007,
          2007,
          2007,
          2007,
          2007,
          2007,
          2007,
          2007,
          2007,
          2007,
          2007,
          2007,
          2007,
          2007,
          2007,
          2007,
          2007,
          2007,
          2007,
          2007,
          2007,
          2007,
          2008,
          2008,
          2008,
          2008,
          2008,
          2008,
          2008,
          2008,
          2008,
          2008,
          2008,
          2008,
          2008,
          2008,
          2008,
          2008,
          2008,
          2008,
          2008,
          2008,
          2008,
          2008,
          2008,
          2008,
          2008,
          2008,
          2008,
          2009,
          2009,
          2009,
          2009,
          2009,
          2009,
          2009,
          2009,
          2009,
          2009,
          2009,
          2009,
          2009,
          2009,
          2009,
          2009,
          2009,
          2009,
          2009,
          2009,
          2009,
          2009,
          2009,
          2009,
          2009,
          2009,
          2009,
          2009,
          2010,
          2010,
          2010,
          2010,
          2010,
          2010,
          2010,
          2010,
          2010,
          2010,
          2010,
          2010,
          2010,
          2010,
          2010,
          2010,
          2010,
          2010,
          2010,
          2010,
          2010,
          2010,
          2010,
          2010,
          2010,
          2010,
          2010,
          2010,
          2010,
          2010,
          2010,
          2010,
          2010,
          2010,
          2010,
          2010,
          2010,
          2010,
          2010,
          2010,
          2010,
          2010,
          2010,
          2010,
          2010,
          2010,
          2010,
          2010,
          2010,
          2010,
          2010,
          2010,
          2010,
          2010,
          2010,
          2010,
          2011,
          2011,
          2011,
          2011,
          2011,
          2011,
          2011,
          2011,
          2011,
          2011,
          2011,
          2011,
          2011,
          2011,
          2011,
          2011,
          2011,
          2011,
          2011,
          2011,
          2011,
          2011,
          2011,
          2011,
          2011,
          2011,
          2011,
          2011,
          2011,
          2011,
          2011,
          2011,
          2011,
          2011,
          2011,
          2011,
          2012,
          2012,
          2012,
          2012,
          2012,
          2012,
          2012,
          2012,
          2012,
          2012,
          2012,
          2012,
          2012,
          2012,
          2012,
          2012,
          2012,
          2012,
          2012,
          2012,
          2012,
          2012,
          2012,
          2012,
          2012,
          2012,
          2012,
          2012,
          2012,
          2012,
          2012,
          2012,
          2012,
          2012,
          2012,
          2012,
          2012,
          2012,
          2012,
          2012,
          2012,
          2012,
          2012,
          2012,
          2012,
          2012,
          2012,
          2012,
          2012,
          2012,
          2012,
          2012,
          2012,
          2012,
          2012,
          2012,
          2012,
          2012,
          2012,
          2012,
          2012,
          2012,
          2012,
          2012,
          2012,
          2012,
          2012,
          2012,
          2013,
          2013,
          2013,
          2013,
          2013,
          2013,
          2013,
          2013,
          2013,
          2013,
          2013,
          2013,
          2013,
          2013,
          2013,
          2013,
          2013,
          2013,
          2013,
          2013,
          2013,
          2013,
          2013,
          2013,
          2013,
          2013,
          2013,
          2013,
          2013,
          2013,
          2013,
          2013,
          2013,
          2013,
          2013,
          2013,
          2013,
          2013,
          2013,
          2013,
          2013,
          2013,
          2013,
          2013,
          2013,
          2013,
          2013,
          2013,
          2013,
          2013,
          2013,
          2013,
          2013,
          2013,
          2013,
          2013,
          2013,
          2013,
          2013,
          2013,
          2013,
          2013,
          2013,
          2013,
          2013,
          2013,
          2013,
          2013,
          2013,
          2013,
          2014,
          2014,
          2014,
          2014,
          2014,
          2014,
          2014,
          2014,
          2014,
          2014,
          2014,
          2014,
          2014,
          2014,
          2014,
          2014,
          2014,
          2014,
          2014,
          2014,
          2014,
          2014,
          2014,
          2014,
          2014,
          2014,
          2014,
          2014,
          2014,
          2014,
          2014,
          2014,
          2014,
          2014,
          2014,
          2014,
          2014,
          2014,
          2014,
          2014,
          2014,
          2014,
          2014,
          2014,
          2014,
          2014,
          2014,
          2014,
          2014,
          2014,
          2014,
          2014,
          2014,
          2014,
          2014,
          2014,
          2014,
          2014,
          2014,
          2014,
          2014,
          2014,
          2014,
          2014,
          2014,
          2014,
          2014,
          2014,
          2014,
          2014,
          2014,
          2014,
          2014,
          2015,
          2015,
          2015,
          2015,
          2015,
          2015,
          2015,
          2015,
          2015,
          2015,
          2015,
          2015,
          2015,
          2015,
          2015,
          2015,
          2015,
          2015,
          2015,
          2015,
          2015,
          2015,
          2015,
          2015,
          2015,
          2015,
          2015,
          2015,
          2015,
          2015,
          2015,
          2015,
          2015,
          2015,
          2015,
          2015,
          2015,
          2015,
          2015,
          2015,
          2015,
          2015,
          2015,
          2015,
          2015,
          2015,
          2015,
          2015,
          2015,
          2015,
          2015,
          2015,
          2015,
          2015,
          2015,
          2015,
          2015,
          2015,
          2015,
          2015,
          2015,
          2015,
          2015,
          2015,
          2015,
          2015,
          2015,
          2015,
          2015,
          2015,
          2016,
          2016,
          2016,
          2016,
          2016,
          2016,
          2016,
          2016,
          2016,
          2016,
          2016,
          2016,
          2016,
          2016,
          2016,
          2016,
          2016,
          2016,
          2016,
          2016,
          2016,
          2016,
          2016,
          2016,
          2016,
          2016,
          2016,
          2016,
          2016,
          2016,
          2016,
          2016,
          2016,
          2016,
          2016,
          2016,
          2016,
          2016,
          2016,
          2016,
          2016,
          2016,
          2016,
          2016,
          2016,
          2016,
          2016,
          2016,
          2016,
          2016,
          2016,
          2016,
          2016,
          2016,
          2016,
          2016,
          2016,
          2016,
          2016,
          2016,
          2016,
          2016,
          2016,
          2016,
          2016,
          2016,
          2016,
          2016,
          2016,
          2016
         ],
         "z": [
          2.5,
          2.59,
          2.45,
          1.39,
          3.09,
          1.22,
          1.83,
          3.62,
          1.51,
          2.32,
          1.7,
          1.38,
          3.2,
          1.5,
          3,
          5.9,
          1.45,
          2.5,
          3,
          2.1,
          1.44,
          3.09,
          1.32,
          1.35,
          1.51,
          2.43,
          1.8,
          1.18,
          1.48,
          3.3,
          1.21,
          2.4,
          6.3,
          1.22,
          0.83,
          3,
          2.14,
          1.66,
          3.09,
          1.69,
          1.7,
          3,
          1.68,
          2.43,
          1.8,
          4.38,
          2.83,
          1.27,
          1.48,
          3.3,
          0.97,
          2.6,
          6.3,
          1.28,
          3.02,
          2.05,
          3,
          1.96,
          2.02,
          4.62,
          2.19,
          1.84,
          1.68,
          2.3,
          3.95,
          2.63,
          1.25,
          2.1,
          3.3,
          1.99,
          3.75,
          6.3,
          1.4,
          2.34,
          2.18,
          3.25,
          2.18,
          2.35,
          2.61,
          2.17,
          4.62,
          2.51,
          1.77,
          1.68,
          2.18,
          4.35,
          5.92,
          1.93,
          3,
          1.25,
          2.1,
          0.8,
          3.3,
          2.07,
          1.41,
          4.29,
          6.3,
          1.48,
          2.58,
          1.45,
          1.03,
          2.38,
          3.25,
          2.53,
          2.79,
          2.38,
          2.35,
          4.62,
          2.61,
          1.53,
          1.75,
          2.8,
          4.45,
          6.5,
          2.2,
          3,
          1.48,
          2.17,
          3,
          3.6,
          2.32,
          1.77,
          4.43,
          6.3,
          1.5,
          4,
          1.45,
          1.83,
          1.58,
          3.25,
          2.99,
          2.7,
          4.62,
          2.72,
          1.54,
          1.83,
          2.8,
          4.45,
          3.17,
          1.58,
          2.17,
          3.6,
          2.32,
          4.71,
          6.3,
          1.54,
          4.1,
          2.33,
          3.25,
          2.95,
          2.6,
          2.22,
          2.68,
          5.55,
          2.72,
          1.57,
          1.83,
          2.64,
          4.45,
          7.17,
          2.17,
          3.17,
          1.63,
          2.17,
          3,
          3.6,
          2.32,
          1.86,
          4.71,
          6.3,
          1.58,
          4.2,
          1.7,
          1.84,
          2.75,
          3.45,
          3.09,
          3.08,
          2.22,
          2.48,
          5.55,
          3.04,
          1.75,
          1.83,
          2.9,
          4.6,
          6.92,
          2.33,
          3.17,
          1.73,
          3.45,
          3,
          3.6,
          2.21,
          1.86,
          4.57,
          6.3,
          1.77,
          4.55,
          1.8,
          2.39,
          2.75,
          3.45,
          2.98,
          3.53,
          2.18,
          2.52,
          5.55,
          3.33,
          1.76,
          1.83,
          2.9,
          4.6,
          8,
          2.33,
          3.17,
          1.89,
          3.45,
          3,
          3.95,
          2.58,
          1.89,
          5.5,
          6.3,
          1.82,
          4.75,
          1.85,
          2.7,
          3.67,
          3.45,
          3.14,
          3.89,
          3.27,
          4.72,
          7,
          4.65,
          2.04,
          1.83,
          3.2,
          4.9,
          8,
          2,
          4.75,
          1.98,
          3.5,
          3.33,
          3.95,
          2.42,
          1.96,
          7.6,
          6.5,
          1.88,
          5.15,
          2.75,
          3.21,
          3.83,
          4.34,
          3.19,
          3.34,
          3.44,
          3.77,
          5.9,
          3.62,
          2.05,
          5,
          2.26,
          2.54,
          4.9,
          6.67,
          2.32,
          2.69,
          2.07,
          2.53,
          3.67,
          4.22,
          2.24,
          1.84,
          5.57,
          6.5,
          1.9,
          5.65,
          2,
          2.65,
          2.33,
          4.35,
          3.18,
          3.91,
          3.52,
          3.76,
          6.19,
          3.87,
          2.24,
          4.97,
          2.35,
          2.67,
          4.9,
          8,
          2.44,
          4.03,
          2.26,
          4.05,
          3.33,
          4.45,
          2.56,
          1.84,
          5.57,
          6.5,
          2.12,
          5.65,
          2,
          3.35,
          4.67,
          4.35,
          3.35,
          4.39,
          3.83,
          3.56,
          5.7,
          3.35,
          2.51,
          4.97,
          2.35,
          2.67,
          5,
          7.5,
          2.47,
          5,
          2.22,
          2.77,
          3.33,
          4.23,
          2.64,
          1.88,
          6.91,
          6.5,
          2.19,
          5.95,
          2.07,
          3.76,
          5,
          4.56,
          3.09,
          3.75,
          4,
          4.75,
          4.07,
          4.08,
          5.7,
          2.2,
          3.75,
          3.26,
          4.04,
          2.64,
          3.8,
          5.3,
          3.6,
          2.91,
          3.25,
          5.1,
          9,
          2.39,
          5,
          2.81,
          4.32,
          2.9,
          3.33,
          4.41,
          3.24,
          2.57,
          8.07,
          6.5,
          2.41,
          6.5,
          2.36,
          5,
          5,
          3.09,
          3.7,
          4.05,
          4.54,
          4.03,
          3.51,
          6.3,
          2.04,
          3.75,
          3.3,
          2.63,
          2.46,
          3.8,
          5.3,
          2.45,
          2.85,
          3.25,
          5.1,
          6.83,
          2.89,
          5,
          2.68,
          3.03,
          2.9,
          3.33,
          4.85,
          2.49,
          2.57,
          6.83,
          6.5,
          2.52,
          6.6,
          2.12,
          4.74,
          4.75,
          3.19,
          3.8,
          4.16,
          4.77,
          3.35,
          4.75,
          2.04,
          3.75,
          2.68,
          3.49,
          2.55,
          3.49,
          2.98,
          2.47,
          2.85,
          3.38,
          5.1,
          7.17,
          3.03,
          2.81,
          3.03,
          4.95,
          3.33,
          4.4,
          2.49,
          2.21,
          6.66,
          6.5,
          2.65,
          8.25,
          1.88,
          4.71,
          4.75,
          3.39,
          3.8,
          4.35,
          4.85,
          4.4,
          3.91,
          5.7,
          2.7,
          3.75,
          3.3,
          3.82,
          2.86,
          3.49,
          4.97,
          2.65,
          3.08,
          3.45,
          5.2,
          8.6,
          2.99,
          5,
          2.95,
          3.03,
          2.95,
          3.67,
          4.5,
          2.32,
          2.78,
          6.76,
          6.5,
          3,
          8.45,
          2.38,
          5.53,
          4.2,
          3.39,
          3.7,
          3.94,
          4.48,
          4.32,
          3.52,
          5.7,
          2.75,
          4.1,
          2.6,
          3.77,
          2.8,
          3.46,
          5.83,
          2.43,
          3.08,
          3.45,
          5.5,
          7.67,
          3,
          5,
          2.68,
          3.07,
          2.95,
          3.33,
          4.7,
          2.25,
          2.85,
          6.94,
          6.5,
          2.87,
          8.5,
          2.38,
          5,
          3.5,
          3.39,
          3.95,
          3.7,
          4.34,
          4.29,
          3.52,
          5.7,
          2.8,
          4.1,
          3.05,
          3.86,
          2.3,
          3.46,
          5.83,
          4.4,
          2.47,
          2.85,
          3.45,
          5.5,
          8,
          3.05,
          5,
          3,
          3.07,
          3,
          3.67,
          4.6,
          2.35,
          2.69,
          6.78,
          6.5,
          3,
          4.25,
          2.38,
          5,
          2.62,
          3.39,
          3.7,
          3.72,
          4.66,
          4,
          3.52,
          5.7,
          2.9,
          4.1,
          3.05,
          3.77,
          2.43,
          3.49,
          5.83,
          4.47,
          2.54,
          3.5,
          3.45,
          5.7,
          8,
          3.06,
          5,
          3.72,
          3.07,
          3,
          3.67,
          4.7,
          2.45,
          2.69,
          6.78,
          6.16,
          3.19,
          4.62,
          1.73,
          5.14,
          2.83,
          3.5,
          3.39,
          3.7,
          3.35,
          3.34,
          4.01,
          2.94,
          5.75,
          2.9,
          4.1,
          3.05,
          3.17,
          2.24,
          3.49,
          5.83,
          2.54,
          3.45,
          5.9,
          6.86,
          3,
          3.33,
          3.7,
          3.07,
          3,
          3.67,
          4.7,
          2.32,
          2.67,
          5.09,
          6.5,
          3.09,
          4.62,
          1.27,
          4.71,
          2.81,
          3.11,
          3.39,
          3.7,
          3.27,
          2.92,
          4.03,
          2.92,
          5.76,
          2.95,
          4.1,
          3.05,
          3.19,
          2.29,
          3.7,
          5.83,
          2.55,
          3.45,
          5.9,
          5.75,
          3.47,
          3.33,
          3.62,
          3.2,
          3,
          4,
          4.7,
          2.17,
          2.63,
          5.46,
          6.5,
          3.18,
          5.12,
          1.62,
          4.19,
          2.75,
          2.54,
          3.5,
          3.95,
          2.94,
          2.43,
          4.02,
          3,
          5,
          3,
          4.1,
          3.35,
          3.08,
          2.19,
          3.95,
          5.63,
          2,
          3.45,
          5.9,
          5.85,
          2.88,
          3.33,
          2.79,
          2.4,
          3,
          4,
          4.7,
          1.87,
          2.43,
          5.62,
          6.5,
          3.11,
          3.42,
          1.57,
          3.77,
          2.67,
          3.57,
          3.6,
          3.95,
          3.53,
          3.04,
          4.12,
          3.12,
          5,
          3.1,
          4.6,
          3.35,
          3.16,
          2.36,
          4,
          5.63,
          2,
          3.45,
          6,
          5.85,
          3.61,
          3.33,
          2.83,
          3.2,
          3.05,
          4,
          5.45,
          2.14,
          3.63,
          5.62,
          6.5,
          3.5,
          3.58,
          1.62,
          4.1,
          2.69
         ]
        },
        {
         "hovertemplate": "class=%{marker.color}<br>GDP_log10=%{x}<br>Year=%{y}<br>dollar_price=%{z}<extra></extra>",
         "legendgroup": "0",
         "marker": {
          "color": [
           0,
           0,
           0,
           0,
           0,
           0,
           0,
           0,
           0,
           0,
           0,
           0,
           0,
           0,
           0,
           0,
           0,
           0,
           0,
           0,
           0,
           0,
           0,
           0,
           0,
           0,
           0,
           0,
           0,
           0,
           0,
           0,
           0,
           0,
           0,
           0,
           0,
           0,
           0,
           0,
           0,
           0,
           0,
           0,
           0,
           0,
           0,
           0,
           0,
           0,
           0,
           0,
           0,
           0,
           0,
           0,
           0,
           0,
           0,
           0,
           0,
           0,
           0,
           0,
           0,
           0,
           0,
           0,
           0,
           0,
           0,
           0,
           0,
           0,
           0,
           0,
           0,
           0,
           0,
           0,
           0,
           0,
           0,
           0,
           0,
           0,
           0,
           0,
           0,
           0,
           0,
           0,
           0,
           0,
           0,
           0,
           0,
           0,
           0,
           0,
           0,
           0,
           0,
           0,
           0,
           0,
           0,
           0,
           0,
           0,
           0,
           0,
           0,
           0,
           0,
           0,
           0,
           0,
           0,
           0,
           0,
           0,
           0,
           0
          ],
          "coloraxis": "coloraxis",
          "symbol": "diamond"
         },
         "mode": "markers",
         "name": "0",
         "scene": "scene",
         "showlegend": true,
         "type": "scatter3d",
         "x": [
          12.206213115708598,
          12.148266316515395,
          12.421457492303189,
          12.156018830921651,
          12.211139237420024,
          12.169224627077039,
          12.4629906299692,
          12.182916568785958,
          12.235460267422326,
          12.194208979646682,
          12.504822777061028,
          12.203119954874245,
          12.249149420044517,
          12.207472789481013,
          12.551691476633675,
          12.207472789481013,
          12.266024616372095,
          12.194567064529759,
          12.603689876312767,
          12.194567064529759,
          12.291615236005704,
          12.20777973612601,
          12.221236832094737,
          12.31319417513532,
          12.228823666458899,
          12.228823666458899,
          12.31319417513532,
          12.238826128136264,
          12.251109933426724,
          12.312646953219183,
          12.251109933426724,
          12.254095904857678,
          12.312646953219183,
          12.254095904857678,
          12.258876629372132,
          12.34417015682028,
          12.258876629372132,
          12.271623243192991,
          12.361096706534518,
          12.271623243192991,
          12.2797057186105,
          12.369360598115334,
          12.2797057186105,
          12.369360598115334,
          12.3822188254919,
          12.435305940223301,
          12.553520154277779,
          12.296318493691764,
          12.309879176684394,
          12.131092316754938,
          12.108649574396376,
          12.384401805791391,
          12.439440069736223,
          12.562877875428274,
          12.327363021844572,
          12.310372516794152,
          12.137043790184322,
          12.108649574396376,
          12.384401805791391,
          12.439440069736223,
          12.562877875428274,
          12.327363021844572,
          12.310372516794152,
          12.137043790184322,
          12.118681290182224,
          12.368723749485705,
          12.44424627431309,
          12.570365449958773,
          12.360773228016791,
          12.314366582646441,
          12.152591021657166,
          12.118681290182224,
          12.368723749485705,
          12.44424627431309,
          12.570365449958773,
          12.360773228016791,
          12.314366582646441,
          12.152591021657166,
          12.130870674836011,
          12.354125733716039,
          12.448978248380547,
          12.57999612032876,
          12.3948770110275,
          12.319197699315506,
          12.16615470692718,
          12.130870674836011,
          12.354125733716039,
          12.448978248380547,
          12.57999612032876,
          12.3948770110275,
          12.319197699315506,
          12.16615470692718,
          12.140925795498442,
          12.3587208179083,
          12.458684674775746,
          12.589264684874609,
          12.424942041812873,
          12.326452613089982,
          12.108872709089708,
          12.178905038280355,
          12.140925795498442,
          12.3587208179083,
          12.458684674775746,
          12.589264684874609,
          12.424942041812873,
          12.326452613089982,
          12.108872709089708,
          12.178905038280355,
          12.153067539982732,
          12.36354805305592,
          12.466111022489793,
          12.595411338720973,
          12.454254733061418,
          12.330164083729297,
          12.117446967049373,
          12.189972906818731,
          12.153067539982732,
          12.36354805305592,
          12.466111022489793,
          12.595411338720973,
          12.454254733061418,
          12.330164083729297,
          12.117446967049373,
          12.189972906818731
         ],
         "y": [
          2000,
          2000,
          2000,
          2001,
          2001,
          2002,
          2001,
          2003,
          2002,
          2004,
          2002,
          2005,
          2003,
          2006,
          2003,
          2006,
          2004,
          2007,
          2004,
          2007,
          2005,
          2008,
          2009,
          2006,
          2010,
          2010,
          2006,
          2011,
          2012,
          2007,
          2012,
          2013,
          2007,
          2013,
          2014,
          2008,
          2014,
          2015,
          2009,
          2015,
          2016,
          2010,
          2016,
          2010,
          2011,
          2011,
          2011,
          2011,
          2011,
          2011,
          2012,
          2012,
          2012,
          2012,
          2012,
          2012,
          2012,
          2012,
          2012,
          2012,
          2012,
          2012,
          2012,
          2012,
          2013,
          2013,
          2013,
          2013,
          2013,
          2013,
          2013,
          2013,
          2013,
          2013,
          2013,
          2013,
          2013,
          2013,
          2014,
          2014,
          2014,
          2014,
          2014,
          2014,
          2014,
          2014,
          2014,
          2014,
          2014,
          2014,
          2014,
          2014,
          2015,
          2015,
          2015,
          2015,
          2015,
          2015,
          2015,
          2015,
          2015,
          2015,
          2015,
          2015,
          2015,
          2015,
          2015,
          2015,
          2016,
          2016,
          2016,
          2016,
          2016,
          2016,
          2016,
          2016,
          2016,
          2016,
          2016,
          2016,
          2016,
          2016,
          2016,
          2016
         ],
         "z": [
          2.95,
          2.85,
          1.24,
          3.33,
          1.8,
          3.33,
          1.24,
          3.2,
          1.8,
          3.19,
          1.31,
          3.28,
          1.52,
          3.52,
          1.24,
          3.52,
          1.8,
          3.63,
          1.3,
          3.88,
          2.95,
          4.09,
          3.89,
          3.1,
          4.12,
          4.17,
          3.2,
          4.73,
          4.73,
          3.2,
          5.12,
          5.41,
          6.9,
          5.53,
          5.54,
          7.5,
          5.64,
          5.7,
          8.03,
          5.85,
          5.84,
          8.2,
          6,
          8.71,
          9.5,
          3.5,
          3.4,
          1.91,
          3.5,
          3.5,
          4.8,
          10.25,
          3.6,
          3.53,
          1.65,
          3.5,
          3.5,
          4.56,
          5.04,
          3.6,
          3.64,
          1.59,
          3.6,
          3.5,
          4.7,
          11.25,
          3.6,
          3.64,
          1.68,
          3.85,
          3.5,
          5.04,
          6,
          3.9,
          3.64,
          1.53,
          3.75,
          3.5,
          5.05,
          6.2,
          3.8,
          3.67,
          1.56,
          3.85,
          3.65,
          5.1,
          6.5,
          3.9,
          3.67,
          1.75,
          3.85,
          3.65,
          5.3,
          6.75,
          3.9,
          3.67,
          1.91,
          3.85,
          3.5,
          3.65,
          5.3,
          4.5,
          4.1,
          3.59,
          1.85,
          4,
          3.27,
          3.65,
          5.3,
          3.38,
          4.1,
          3.59,
          1.92,
          4,
          2.88,
          3.5,
          5.75,
          5.17,
          4.1,
          3.79,
          2.42,
          4.2,
          2.44,
          3.5
         ]
        },
        {
         "hovertemplate": "class=%{marker.color}<br>GDP_log10=%{x}<br>Year=%{y}<br>dollar_price=%{z}<extra></extra>",
         "legendgroup": "3",
         "marker": {
          "color": [
           3,
           3,
           3,
           3,
           3,
           3,
           3,
           3,
           3,
           3,
           3,
           3,
           3,
           3,
           3,
           3,
           3,
           3,
           3,
           3,
           3,
           3,
           3,
           3,
           3,
           3,
           3,
           3,
           3,
           3,
           3,
           3,
           3,
           3,
           3,
           3,
           3,
           3,
           3,
           3,
           3,
           3,
           3,
           3,
           3
          ],
          "coloraxis": "coloraxis",
          "symbol": "square"
         },
         "mode": "markers",
         "name": "3",
         "scene": "scene",
         "showlegend": true,
         "type": "scatter3d",
         "x": [
          12.730540844165567,
          12.737127414093097,
          12.746598395407721,
          12.753759957649345,
          12.759883050364529,
          12.661475716422192,
          12.76700884922251,
          12.70150149751131,
          12.762233540239064,
          12.70150149751131,
          12.762233540239064,
          12.740518218029314,
          12.738049250564876,
          12.740518218029314,
          12.738049250564876,
          12.784414717262104,
          12.755882474807095,
          12.824030760550782,
          12.755380850563242,
          12.856890135308895,
          12.761825639459731,
          12.856890135308895,
          12.761825639459731,
          12.889382389727077,
          12.770427078541722,
          12.919980277869149,
          12.772051655939416,
          12.919980277869149,
          12.772051655939416,
          12.948979428740989,
          12.777330382356602,
          12.948979428740989,
          12.777330382356602,
          12.977293211982564,
          12.779967863423067,
          12.977293211982564,
          12.779967863423067,
          13.005690894732554,
          12.788264556009587,
          13.005690894732554,
          12.788264556009587,
          13.033447882287984,
          12.791673108501046,
          13.033447882287984,
          12.791673108501046
         ],
         "y": [
          2000,
          2001,
          2002,
          2003,
          2004,
          2005,
          2005,
          2006,
          2006,
          2006,
          2006,
          2007,
          2007,
          2007,
          2007,
          2008,
          2008,
          2009,
          2009,
          2010,
          2010,
          2010,
          2010,
          2011,
          2011,
          2012,
          2012,
          2012,
          2012,
          2013,
          2013,
          2013,
          2013,
          2014,
          2014,
          2014,
          2014,
          2015,
          2015,
          2015,
          2015,
          2016,
          2016,
          2016,
          2016
         ],
         "z": [
          2.77,
          2.37,
          2.02,
          2.18,
          2.32,
          1.31,
          2.36,
          1.31,
          2.19,
          1.31,
          2.23,
          1.57,
          2.31,
          1.57,
          2.3,
          2.08,
          2.64,
          2.08,
          3.48,
          2.08,
          3.52,
          2.2,
          3.68,
          2.44,
          4.1,
          2.57,
          4.21,
          2.61,
          4.1,
          2.67,
          3.52,
          2.67,
          3.2,
          2.77,
          2.98,
          2.82,
          3.66,
          2.87,
          3.16,
          2.83,
          3.01,
          2.93,
          3.14,
          3.1,
          3.49
         ]
        },
        {
         "hovertemplate": "class=%{marker.color}<br>GDP_log10=%{x}<br>Year=%{y}<br>dollar_price=%{z}<extra></extra>",
         "legendgroup": "1",
         "marker": {
          "color": [
           1,
           1,
           1,
           1,
           1,
           1,
           1,
           1,
           1,
           1,
           1,
           1,
           1,
           1,
           1,
           1,
           1,
           1,
           1,
           1,
           1,
           1,
           1,
           1,
           1
          ],
          "coloraxis": "coloraxis",
          "symbol": "x"
         },
         "mode": "markers",
         "name": "1",
         "scene": "scene",
         "showlegend": true,
         "type": "scatter3d",
         "x": [
          13.112883048635458,
          13.125133039916829,
          13.1413274638702,
          13.156321950446713,
          13.168547568872253,
          13.176620775384281,
          13.176027557860133,
          13.176027557860133,
          13.164867160351593,
          13.164867160351593,
          13.17586247037557,
          13.182545891119375,
          13.19220492541459,
          13.19220492541459,
          13.2001333751489,
          13.210652875437406,
          13.210652875437406,
          13.22298944474631,
          13.22298944474631,
          13.229740699690918,
          13.229740699690918,
          13.239264433777802,
          13.239264433777802,
          13.251499516029417,
          13.251499516029417
         ],
         "y": [
          2000,
          2001,
          2002,
          2003,
          2004,
          2005,
          2006,
          2006,
          2007,
          2007,
          2008,
          2009,
          2010,
          2010,
          2011,
          2012,
          2012,
          2013,
          2013,
          2014,
          2014,
          2015,
          2015,
          2016,
          2016
         ],
         "z": [
          2.24,
          2.24,
          2.35,
          2.46,
          2.47,
          2.58,
          2.67,
          2.78,
          2.89,
          3,
          3.21,
          3.43,
          3.43,
          3.53,
          3.64,
          3.81,
          3.96,
          4.03,
          4.18,
          4.24,
          4.29,
          4.29,
          4.29,
          4.29,
          4.5
         ]
        }
       ],
       "layout": {
        "coloraxis": {
         "colorbar": {
          "title": {
           "text": "class"
          }
         },
         "colorscale": [
          [
           0,
           "#0d0887"
          ],
          [
           0.1111111111111111,
           "#46039f"
          ],
          [
           0.2222222222222222,
           "#7201a8"
          ],
          [
           0.3333333333333333,
           "#9c179e"
          ],
          [
           0.4444444444444444,
           "#bd3786"
          ],
          [
           0.5555555555555556,
           "#d8576b"
          ],
          [
           0.6666666666666666,
           "#ed7953"
          ],
          [
           0.7777777777777778,
           "#fb9f3a"
          ],
          [
           0.8888888888888888,
           "#fdca26"
          ],
          [
           1,
           "#f0f921"
          ]
         ]
        },
        "legend": {
         "title": {
          "text": "class"
         },
         "tracegroupgap": 0,
         "x": 0,
         "y": 1
        },
        "margin": {
         "t": 60
        },
        "scene": {
         "domain": {
          "x": [
           0,
           1
          ],
          "y": [
           0,
           1
          ]
         },
         "xaxis": {
          "title": {
           "text": "GDP_log10"
          }
         },
         "yaxis": {
          "title": {
           "text": "Year"
          }
         },
         "zaxis": {
          "title": {
           "text": "dollar_price"
          }
         }
        },
        "template": {
         "data": {
          "bar": [
           {
            "error_x": {
             "color": "#2a3f5f"
            },
            "error_y": {
             "color": "#2a3f5f"
            },
            "marker": {
             "line": {
              "color": "#E5ECF6",
              "width": 0.5
             },
             "pattern": {
              "fillmode": "overlay",
              "size": 10,
              "solidity": 0.2
             }
            },
            "type": "bar"
           }
          ],
          "barpolar": [
           {
            "marker": {
             "line": {
              "color": "#E5ECF6",
              "width": 0.5
             },
             "pattern": {
              "fillmode": "overlay",
              "size": 10,
              "solidity": 0.2
             }
            },
            "type": "barpolar"
           }
          ],
          "carpet": [
           {
            "aaxis": {
             "endlinecolor": "#2a3f5f",
             "gridcolor": "white",
             "linecolor": "white",
             "minorgridcolor": "white",
             "startlinecolor": "#2a3f5f"
            },
            "baxis": {
             "endlinecolor": "#2a3f5f",
             "gridcolor": "white",
             "linecolor": "white",
             "minorgridcolor": "white",
             "startlinecolor": "#2a3f5f"
            },
            "type": "carpet"
           }
          ],
          "choropleth": [
           {
            "colorbar": {
             "outlinewidth": 0,
             "ticks": ""
            },
            "type": "choropleth"
           }
          ],
          "contour": [
           {
            "colorbar": {
             "outlinewidth": 0,
             "ticks": ""
            },
            "colorscale": [
             [
              0,
              "#0d0887"
             ],
             [
              0.1111111111111111,
              "#46039f"
             ],
             [
              0.2222222222222222,
              "#7201a8"
             ],
             [
              0.3333333333333333,
              "#9c179e"
             ],
             [
              0.4444444444444444,
              "#bd3786"
             ],
             [
              0.5555555555555556,
              "#d8576b"
             ],
             [
              0.6666666666666666,
              "#ed7953"
             ],
             [
              0.7777777777777778,
              "#fb9f3a"
             ],
             [
              0.8888888888888888,
              "#fdca26"
             ],
             [
              1,
              "#f0f921"
             ]
            ],
            "type": "contour"
           }
          ],
          "contourcarpet": [
           {
            "colorbar": {
             "outlinewidth": 0,
             "ticks": ""
            },
            "type": "contourcarpet"
           }
          ],
          "heatmap": [
           {
            "colorbar": {
             "outlinewidth": 0,
             "ticks": ""
            },
            "colorscale": [
             [
              0,
              "#0d0887"
             ],
             [
              0.1111111111111111,
              "#46039f"
             ],
             [
              0.2222222222222222,
              "#7201a8"
             ],
             [
              0.3333333333333333,
              "#9c179e"
             ],
             [
              0.4444444444444444,
              "#bd3786"
             ],
             [
              0.5555555555555556,
              "#d8576b"
             ],
             [
              0.6666666666666666,
              "#ed7953"
             ],
             [
              0.7777777777777778,
              "#fb9f3a"
             ],
             [
              0.8888888888888888,
              "#fdca26"
             ],
             [
              1,
              "#f0f921"
             ]
            ],
            "type": "heatmap"
           }
          ],
          "heatmapgl": [
           {
            "colorbar": {
             "outlinewidth": 0,
             "ticks": ""
            },
            "colorscale": [
             [
              0,
              "#0d0887"
             ],
             [
              0.1111111111111111,
              "#46039f"
             ],
             [
              0.2222222222222222,
              "#7201a8"
             ],
             [
              0.3333333333333333,
              "#9c179e"
             ],
             [
              0.4444444444444444,
              "#bd3786"
             ],
             [
              0.5555555555555556,
              "#d8576b"
             ],
             [
              0.6666666666666666,
              "#ed7953"
             ],
             [
              0.7777777777777778,
              "#fb9f3a"
             ],
             [
              0.8888888888888888,
              "#fdca26"
             ],
             [
              1,
              "#f0f921"
             ]
            ],
            "type": "heatmapgl"
           }
          ],
          "histogram": [
           {
            "marker": {
             "pattern": {
              "fillmode": "overlay",
              "size": 10,
              "solidity": 0.2
             }
            },
            "type": "histogram"
           }
          ],
          "histogram2d": [
           {
            "colorbar": {
             "outlinewidth": 0,
             "ticks": ""
            },
            "colorscale": [
             [
              0,
              "#0d0887"
             ],
             [
              0.1111111111111111,
              "#46039f"
             ],
             [
              0.2222222222222222,
              "#7201a8"
             ],
             [
              0.3333333333333333,
              "#9c179e"
             ],
             [
              0.4444444444444444,
              "#bd3786"
             ],
             [
              0.5555555555555556,
              "#d8576b"
             ],
             [
              0.6666666666666666,
              "#ed7953"
             ],
             [
              0.7777777777777778,
              "#fb9f3a"
             ],
             [
              0.8888888888888888,
              "#fdca26"
             ],
             [
              1,
              "#f0f921"
             ]
            ],
            "type": "histogram2d"
           }
          ],
          "histogram2dcontour": [
           {
            "colorbar": {
             "outlinewidth": 0,
             "ticks": ""
            },
            "colorscale": [
             [
              0,
              "#0d0887"
             ],
             [
              0.1111111111111111,
              "#46039f"
             ],
             [
              0.2222222222222222,
              "#7201a8"
             ],
             [
              0.3333333333333333,
              "#9c179e"
             ],
             [
              0.4444444444444444,
              "#bd3786"
             ],
             [
              0.5555555555555556,
              "#d8576b"
             ],
             [
              0.6666666666666666,
              "#ed7953"
             ],
             [
              0.7777777777777778,
              "#fb9f3a"
             ],
             [
              0.8888888888888888,
              "#fdca26"
             ],
             [
              1,
              "#f0f921"
             ]
            ],
            "type": "histogram2dcontour"
           }
          ],
          "mesh3d": [
           {
            "colorbar": {
             "outlinewidth": 0,
             "ticks": ""
            },
            "type": "mesh3d"
           }
          ],
          "parcoords": [
           {
            "line": {
             "colorbar": {
              "outlinewidth": 0,
              "ticks": ""
             }
            },
            "type": "parcoords"
           }
          ],
          "pie": [
           {
            "automargin": true,
            "type": "pie"
           }
          ],
          "scatter": [
           {
            "marker": {
             "colorbar": {
              "outlinewidth": 0,
              "ticks": ""
             }
            },
            "type": "scatter"
           }
          ],
          "scatter3d": [
           {
            "line": {
             "colorbar": {
              "outlinewidth": 0,
              "ticks": ""
             }
            },
            "marker": {
             "colorbar": {
              "outlinewidth": 0,
              "ticks": ""
             }
            },
            "type": "scatter3d"
           }
          ],
          "scattercarpet": [
           {
            "marker": {
             "colorbar": {
              "outlinewidth": 0,
              "ticks": ""
             }
            },
            "type": "scattercarpet"
           }
          ],
          "scattergeo": [
           {
            "marker": {
             "colorbar": {
              "outlinewidth": 0,
              "ticks": ""
             }
            },
            "type": "scattergeo"
           }
          ],
          "scattergl": [
           {
            "marker": {
             "colorbar": {
              "outlinewidth": 0,
              "ticks": ""
             }
            },
            "type": "scattergl"
           }
          ],
          "scattermapbox": [
           {
            "marker": {
             "colorbar": {
              "outlinewidth": 0,
              "ticks": ""
             }
            },
            "type": "scattermapbox"
           }
          ],
          "scatterpolar": [
           {
            "marker": {
             "colorbar": {
              "outlinewidth": 0,
              "ticks": ""
             }
            },
            "type": "scatterpolar"
           }
          ],
          "scatterpolargl": [
           {
            "marker": {
             "colorbar": {
              "outlinewidth": 0,
              "ticks": ""
             }
            },
            "type": "scatterpolargl"
           }
          ],
          "scatterternary": [
           {
            "marker": {
             "colorbar": {
              "outlinewidth": 0,
              "ticks": ""
             }
            },
            "type": "scatterternary"
           }
          ],
          "surface": [
           {
            "colorbar": {
             "outlinewidth": 0,
             "ticks": ""
            },
            "colorscale": [
             [
              0,
              "#0d0887"
             ],
             [
              0.1111111111111111,
              "#46039f"
             ],
             [
              0.2222222222222222,
              "#7201a8"
             ],
             [
              0.3333333333333333,
              "#9c179e"
             ],
             [
              0.4444444444444444,
              "#bd3786"
             ],
             [
              0.5555555555555556,
              "#d8576b"
             ],
             [
              0.6666666666666666,
              "#ed7953"
             ],
             [
              0.7777777777777778,
              "#fb9f3a"
             ],
             [
              0.8888888888888888,
              "#fdca26"
             ],
             [
              1,
              "#f0f921"
             ]
            ],
            "type": "surface"
           }
          ],
          "table": [
           {
            "cells": {
             "fill": {
              "color": "#EBF0F8"
             },
             "line": {
              "color": "white"
             }
            },
            "header": {
             "fill": {
              "color": "#C8D4E3"
             },
             "line": {
              "color": "white"
             }
            },
            "type": "table"
           }
          ]
         },
         "layout": {
          "annotationdefaults": {
           "arrowcolor": "#2a3f5f",
           "arrowhead": 0,
           "arrowwidth": 1
          },
          "autotypenumbers": "strict",
          "coloraxis": {
           "colorbar": {
            "outlinewidth": 0,
            "ticks": ""
           }
          },
          "colorscale": {
           "diverging": [
            [
             0,
             "#8e0152"
            ],
            [
             0.1,
             "#c51b7d"
            ],
            [
             0.2,
             "#de77ae"
            ],
            [
             0.3,
             "#f1b6da"
            ],
            [
             0.4,
             "#fde0ef"
            ],
            [
             0.5,
             "#f7f7f7"
            ],
            [
             0.6,
             "#e6f5d0"
            ],
            [
             0.7,
             "#b8e186"
            ],
            [
             0.8,
             "#7fbc41"
            ],
            [
             0.9,
             "#4d9221"
            ],
            [
             1,
             "#276419"
            ]
           ],
           "sequential": [
            [
             0,
             "#0d0887"
            ],
            [
             0.1111111111111111,
             "#46039f"
            ],
            [
             0.2222222222222222,
             "#7201a8"
            ],
            [
             0.3333333333333333,
             "#9c179e"
            ],
            [
             0.4444444444444444,
             "#bd3786"
            ],
            [
             0.5555555555555556,
             "#d8576b"
            ],
            [
             0.6666666666666666,
             "#ed7953"
            ],
            [
             0.7777777777777778,
             "#fb9f3a"
            ],
            [
             0.8888888888888888,
             "#fdca26"
            ],
            [
             1,
             "#f0f921"
            ]
           ],
           "sequentialminus": [
            [
             0,
             "#0d0887"
            ],
            [
             0.1111111111111111,
             "#46039f"
            ],
            [
             0.2222222222222222,
             "#7201a8"
            ],
            [
             0.3333333333333333,
             "#9c179e"
            ],
            [
             0.4444444444444444,
             "#bd3786"
            ],
            [
             0.5555555555555556,
             "#d8576b"
            ],
            [
             0.6666666666666666,
             "#ed7953"
            ],
            [
             0.7777777777777778,
             "#fb9f3a"
            ],
            [
             0.8888888888888888,
             "#fdca26"
            ],
            [
             1,
             "#f0f921"
            ]
           ]
          },
          "colorway": [
           "#636efa",
           "#EF553B",
           "#00cc96",
           "#ab63fa",
           "#FFA15A",
           "#19d3f3",
           "#FF6692",
           "#B6E880",
           "#FF97FF",
           "#FECB52"
          ],
          "font": {
           "color": "#2a3f5f"
          },
          "geo": {
           "bgcolor": "white",
           "lakecolor": "white",
           "landcolor": "#E5ECF6",
           "showlakes": true,
           "showland": true,
           "subunitcolor": "white"
          },
          "hoverlabel": {
           "align": "left"
          },
          "hovermode": "closest",
          "mapbox": {
           "style": "light"
          },
          "paper_bgcolor": "white",
          "plot_bgcolor": "#E5ECF6",
          "polar": {
           "angularaxis": {
            "gridcolor": "white",
            "linecolor": "white",
            "ticks": ""
           },
           "bgcolor": "#E5ECF6",
           "radialaxis": {
            "gridcolor": "white",
            "linecolor": "white",
            "ticks": ""
           }
          },
          "scene": {
           "xaxis": {
            "backgroundcolor": "#E5ECF6",
            "gridcolor": "white",
            "gridwidth": 2,
            "linecolor": "white",
            "showbackground": true,
            "ticks": "",
            "zerolinecolor": "white"
           },
           "yaxis": {
            "backgroundcolor": "#E5ECF6",
            "gridcolor": "white",
            "gridwidth": 2,
            "linecolor": "white",
            "showbackground": true,
            "ticks": "",
            "zerolinecolor": "white"
           },
           "zaxis": {
            "backgroundcolor": "#E5ECF6",
            "gridcolor": "white",
            "gridwidth": 2,
            "linecolor": "white",
            "showbackground": true,
            "ticks": "",
            "zerolinecolor": "white"
           }
          },
          "shapedefaults": {
           "line": {
            "color": "#2a3f5f"
           }
          },
          "ternary": {
           "aaxis": {
            "gridcolor": "white",
            "linecolor": "white",
            "ticks": ""
           },
           "baxis": {
            "gridcolor": "white",
            "linecolor": "white",
            "ticks": ""
           },
           "bgcolor": "#E5ECF6",
           "caxis": {
            "gridcolor": "white",
            "linecolor": "white",
            "ticks": ""
           }
          },
          "title": {
           "x": 0.05
          },
          "xaxis": {
           "automargin": true,
           "gridcolor": "white",
           "linecolor": "white",
           "ticks": "",
           "title": {
            "standoff": 15
           },
           "zerolinecolor": "white",
           "zerolinewidth": 2
          },
          "yaxis": {
           "automargin": true,
           "gridcolor": "white",
           "linecolor": "white",
           "ticks": "",
           "title": {
            "standoff": 15
           },
           "zerolinecolor": "white",
           "zerolinewidth": 2
          }
         }
        },
        "width": 800
       }
      },
      "text/html": [
       "<div>                            <div id=\"513bbb1b-531f-42fc-997b-d27019a66395\" class=\"plotly-graph-div\" style=\"height:525px; width:800px;\"></div>            <script type=\"text/javascript\">                require([\"plotly\"], function(Plotly) {                    window.PLOTLYENV=window.PLOTLYENV || {};                                    if (document.getElementById(\"513bbb1b-531f-42fc-997b-d27019a66395\")) {                    Plotly.newPlot(                        \"513bbb1b-531f-42fc-997b-d27019a66395\",                        [{\"hovertemplate\":\"class=%{marker.color}<br>GDP_log10=%{x}<br>Year=%{y}<br>dollar_price=%{z}<extra></extra>\",\"legendgroup\":\"2\",\"marker\":{\"color\":[2,2,2,2,2,2,2,2,2,2,2,2,2,2,2,2,2,2,2,2,2,2,2,2,2,2,2,2,2,2,2,2,2,2,2,2,2,2,2,2,2,2,2,2,2,2,2,2,2,2,2,2,2,2,2,2,2,2,2,2,2,2,2,2,2,2,2,2,2,2,2,2,2,2,2,2,2,2,2,2,2,2,2,2,2,2,2,2,2,2,2,2,2,2,2,2,2,2,2,2,2,2,2,2,2,2,2,2,2,2,2,2,2,2,2,2,2,2,2,2,2,2,2,2,2,2,2,2,2,2,2,2,2,2,2,2,2,2,2,2,2,2,2,2,2,2,2,2,2,2,2,2,2,2,2,2,2,2,2,2,2,2,2,2,2,2,2,2,2,2,2,2,2,2,2,2,2,2,2,2,2,2,2,2,2,2,2,2,2,2,2,2,2,2,2,2,2,2,2,2,2,2,2,2,2,2,2,2,2,2,2,2,2,2,2,2,2,2,2,2,2,2,2,2,2,2,2,2,2,2,2,2,2,2,2,2,2,2,2,2,2,2,2,2,2,2,2,2,2,2,2,2,2,2,2,2,2,2,2,2,2,2,2,2,2,2,2,2,2,2,2,2,2,2,2,2,2,2,2,2,2,2,2,2,2,2,2,2,2,2,2,2,2,2,2,2,2,2,2,2,2,2,2,2,2,2,2,2,2,2,2,2,2,2,2,2,2,2,2,2,2,2,2,2,2,2,2,2,2,2,2,2,2,2,2,2,2,2,2,2,2,2,2,2,2,2,2,2,2,2,2,2,2,2,2,2,2,2,2,2,2,2,2,2,2,2,2,2,2,2,2,2,2,2,2,2,2,2,2,2,2,2,2,2,2,2,2,2,2,2,2,2,2,2,2,2,2,2,2,2,2,2,2,2,2,2,2,2,2,2,2,2,2,2,2,2,2,2,2,2,2,2,2,2,2,2,2,2,2,2,2,2,2,2,2,2,2,2,2,2,2,2,2,2,2,2,2,2,2,2,2,2,2,2,2,2,2,2,2,2,2,2,2,2,2,2,2,2,2,2,2,2,2,2,2,2,2,2,2,2,2,2,2,2,2,2,2,2,2,2,2,2,2,2,2,2,2,2,2,2,2,2,2,2,2,2,2,2,2,2,2,2,2,2,2,2,2,2,2,2,2,2,2,2,2,2,2,2,2,2,2,2,2,2,2,2,2,2,2,2,2,2,2,2,2,2,2,2,2,2,2,2,2,2,2,2,2,2,2,2,2,2,2,2,2,2,2,2,2,2,2,2,2,2,2,2,2,2,2,2,2,2,2,2,2,2,2,2,2,2,2,2,2,2,2,2,2,2,2,2,2,2,2,2,2,2,2,2,2,2,2,2,2,2,2,2,2,2,2,2,2,2,2,2,2,2,2,2,2,2,2,2,2,2,2,2,2,2,2,2,2,2,2,2,2,2,2,2,2,2,2,2,2,2,2,2,2,2,2,2,2,2,2,2,2,2,2,2,2,2,2,2,2,2,2,2,2,2,2,2,2,2,2,2,2,2,2,2,2,2,2,2,2,2,2,2,2,2,2,2,2,2,2,2,2,2,2,2,2,2,2,2,2,2,2,2,2,2,2,2,2,2,2,2,2,2],\"coloraxis\":\"coloraxis\",\"symbol\":\"circle\"},\"mode\":\"markers\",\"name\":\"2\",\"scene\":\"scene\",\"showlegend\":true,\"x\":[11.412094140694933,11.954322605257378,11.187343018561377,11.200962612546434,11.480119097247744,11.065650659880603,11.691150478434972,11.241160324769677,11.23596000193407,11.959590832796005,11.088968426943351,11.52765309698977,11.146655073340973,11.453862396433447,11.614532339763299,11.694030145888963,11.37850509848887,11.4488701154014,11.967100347417114,11.204757384698596,11.216334835060117,11.481809402254566,11.082052553435034,11.711430114612678,11.260400563415114,11.965827518549071,11.108348498996003,11.147125766036032,11.542855291455442,11.165920621847603,11.46648503558615,11.624661550847035,11.694202302678658,11.408655399942464,11.486414892149611,11.984365266521277,11.234990295456319,11.237138911724031,11.49324608029749,11.103259657296789,11.732747485309995,11.263259595800461,11.288903975244862,11.982529018865602,11.125523554490048,11.600614645499268,10.997954143027906,11.175282719143905,11.564605708509081,11.206599228475916,11.48582785816497,11.642991487327604,11.706094476771453,11.43514492006382,11.780844915005718,11.523249474489033,11.998062640461773,11.259240183834748,11.264624235590025,11.503277122414742,11.121910945685343,11.756792000348835,11.311463528206794,11.992437749449032,11.139712260106158,11.024428195817706,11.19555097040525,11.579519511010762,11.237438167626031,11.50816192795076,11.655054834686055,11.71941747428244,11.452961888826858,11.818311028108134,11.556863102495688,12.010032681518817,11.28584524303856,11.390148781677974,10.500752789079453,11.2934133851875,11.519947375546812,11.138324807140773,11.780048585831072,11.335066558492777,12.011532383016828,11.151893629938664,11.62214560842323,11.20209580344258,11.05595140532915,11.217744442761296,11.605560375021266,11.676211503834672,11.274884914587949,11.53184152924547,10.65152901543734,11.674999762305244,11.736403674052907,11.474019475353776,11.848139832551729,11.144910305509974,10.496839340742994,11.594320714558501,12.02641476726776,11.30664158462451,11.418917485831926,10.534851171905254,11.317089256724117,11.523877775529876,11.14015279448004,11.806765198468623,11.361593750502394,12.021371251017943,11.164783961605497,11.634920407280106,11.22259422735409,11.091455913055093,11.245569418498611,11.635084454729403,11.684160179505131,11.312399526311495,11.554519444476611,10.680087361583345,11.689553913239607,11.75390387403474,11.49700432923783,11.869454678574986,11.17669595486015,10.524358191893988,11.611592681466488,12.042019984833715,11.32170611054876,11.328583449714202,11.521647949497911,11.143835746501003,11.832127460226928,11.382087316908818,12.026312588504672,11.160381483418906,11.12938694025794,11.263238276257773,11.653159430094599,11.320439180250922,11.568161814091685,11.687128369491756,11.763162094005931,11.50443551940836,11.873110089488414,11.611592681466488,12.042019984833715,11.32170611054876,11.43283786085072,10.554588737254456,11.328583449714202,11.521647949497911,11.143835746501003,11.832127460226928,11.382087316908818,12.026312588504672,11.160381483418906,11.63700312724376,11.229922339542028,11.12938694025794,11.263238276257773,11.653159430094599,11.710488008043233,11.320439180250922,11.568161814091685,10.705188683937324,11.687128369491756,11.763162094005931,11.50443551940836,11.873110089488414,11.186589091272406,10.554456322453197,11.585096220432902,12.050348816995085,11.314859061201037,11.43804052399445,10.550353111681984,11.307209266108284,11.499798390672995,11.114177140244449,11.851779189655261,11.37546424989899,12.00272747268983,11.159452890171531,11.629596122165042,11.242049214077392,11.134119708037254,11.268198734658952,11.665238485615477,11.70145140926214,11.320964233196577,11.561429366864736,10.720292281213881,11.663955209955912,11.753403022986507,11.501424902030378,11.852182839454297,11.11723814213982,10.57250528268276,11.585096220432902,12.050348816995085,11.314859061201037,11.43804052399445,10.550353111681984,11.307209266108284,11.499798390672995,11.114177140244449,11.851779189655261,11.37546424989899,12.00272747268983,11.159452890171531,11.629596122165042,11.242049214077392,11.134119708037254,11.268198734658952,11.665238485615477,11.70145140926214,11.320964233196577,11.561429366864736,10.720292281213881,11.663955209955912,11.753403022986507,11.501424902030378,11.852182839454297,11.11723814213982,10.57250528268276,11.626983632212891,12.059237669563228,11.339526964214535,11.456523929688464,10.571343267322925,11.316972052926953,11.507849127940338,11.117015948274512,11.87800101936451,11.40656913243436,12.024403562682966,11.166086568593437,11.632589888670742,11.24897075191846,11.16887739863303,11.300140954093333,11.680626456707895,11.722804152344645,11.379865478083058,11.574434106118808,10.753780240666828,11.68922803197515,11.76625144400299,11.532888085448132,11.887562166189548,11.133580419829368,10.605137779867261,11.652306306257216,12.069801250273695,11.365285766249952,11.48737596999458,10.589657145321672,11.32462399340219,11.513617073787875,11.124155214442988,11.904002132582752,11.389777211717643,11.428971786394888,12.04002843923198,11.176105735297142,11.636790693620018,11.260746167555377,11.195520516621967,11.31574999526386,11.701887328767572,11.764184354755352,11.406245441441108,11.58846779555939,10.788828484860176,11.700710638117473,11.773541445498518,11.536520566401158,11.933328827506763,11.156691469995264,10.626997166281603,11.647825841976948,12.086423902183313,11.38779189652721,11.504004374155247,10.610005663831604,11.321136345577093,11.514599546161328,11.117012631087,11.92943118797361,11.39887187275505,11.45211471784706,12.055565618711297,11.18566678770116,11.64845271563816,11.275714358663436,11.221398587308745,11.343849557905104,11.70881507079194,11.787072057196566,11.425150946306864,11.597975851243886,10.826830627999934,11.69941275894108,11.777889146970413,11.566888641195053,11.953648567694689,11.157725663362385,10.64209768751223,11.647825841976948,12.086423902183313,11.38779189652721,11.504004374155247,10.610005663831604,11.321136345577093,11.514599546161328,11.117012631087,11.92943118797361,11.39887187275505,11.45211471784706,12.055565618711297,11.18566678770116,11.64845271563816,11.275714358663436,11.221398587308745,11.343849557905104,11.70881507079194,11.787072057196566,11.425150946306864,11.597975851243886,10.826830627999934,11.69941275894108,11.777889146970413,11.566888641195053,11.953648567694689,11.157725663362385,10.64209768751223,11.658147867764232,12.097635547004261,11.608734573215084,11.694068799272413,11.405013210705802,11.523399152442353,10.61974978957198,11.319031066737816,11.518633683362054,10.348278513661054,11.39558147707357,11.38737202701981,11.126011204422152,11.952919275307236,11.35494355649173,11.416509034320976,11.47203495073734,12.0614072377223,11.929276351537073,11.196712156719984,11.652964412517797,11.29440008490981,11.246099555670785,11.373493126949638,11.71481827578234,11.346329498438745,11.798639598068338,11.445574626656619,11.608637267178715,10.84133324291953,11.704757761066729,11.785858498029764,11.578405384304045,11.989043366400377,11.157610874530164,10.661785202834594,11.647096280277053,11.611596930102216,11.699483904833496,11.412618443989382,11.543462091224237,10.634754496461511,11.330665347740076,11.525610965275336,10.360645618871601,11.392828804036949,11.390573044154603,11.14397917474468,11.974136185797901,11.390599546802992,11.433115099597385,11.497369252404262,12.073417721867594,11.935414552698749,11.212555133744786,11.661458671711966,11.314242322497769,11.256323190864252,11.399393329368396,11.728996224797026,11.350191789069354,11.814219618805906,11.462192782718377,11.616584730205632,10.862359963790944,11.715913134643454,11.796367543162875,11.58265982382231,12.010922959658034,11.128176247779322,10.675628113747385,11.647096280277053,11.611596930102216,11.699483904833496,11.412618443989382,11.543462091224237,11.330665347740076,11.525610965275336,10.360645618871601,11.392828804036949,11.390573044154603,11.14397917474468,11.974136185797901,11.390599546802992,11.433115099597385,11.497369252404262,12.073417721867594,11.935414552698749,11.212555133744786,11.661458671711966,11.314242322497769,11.399393329368396,11.728996224797026,11.350191789069354,11.814219618805906,11.462192782718377,11.616584730205632,10.862359963790944,11.715913134643454,11.796367543162875,11.58265982382231,12.010922959658034,11.128176247779322,10.675628113747385,11.658798140643178,11.616533275939553,11.70697452890356,11.422509407499756,11.556114265704586,10.650247250709462,11.35313306457957,11.535666213010188,10.368821024326722,11.394997707906775,11.388667689314277,11.15907366988451,11.994813645327554,11.488073858907702,11.444124461339554,11.518936184633613,12.08746906765054,11.943841120647573,11.227850726065745,11.66993115397732,11.334319018539526,11.270238496862273,11.424971425079967,11.745356679051092,11.35803388532572,11.831697045517553,11.474576083893098,11.621739045251653,10.88358104090575,11.734848614994867,11.802120082105942,11.596061318661391,12.036580992593736,11.08351336956064,10.677235245305232,11.658798140643178,11.616533275939553,11.70697452890356,11.422509407499756,11.556114265704586,10.650247250709462,11.35313306457957,11.535666213010188,10.368821024326722,11.394997707906775,11.388667689314277,11.15907366988451,11.994813645327554,11.488073858907702,11.444124461339554,11.518936184633613,12.08746906765054,11.943841120647573,11.227850726065745,11.66993115397732,11.334319018539526,11.270238496862273,11.424971425079967,11.745356679051092,11.35803388532572,11.831697045517553,11.474576083893098,11.621739045251653,10.88358104090575,11.734848614994867,11.802120082105942,11.596061318661391,12.036580992593736,11.08351336956064,10.677235245305232,11.649668728120272,11.625301130341853,11.71323762102911,11.429705457627271,11.565085955321356,10.66830660829246,11.363645819702187,11.545964865033964,10.383715622281088,11.406872161061342,11.387836350460791,11.168868567171467,12.016138774198266,11.50375936916001,11.461190780008451,10.660228446222604,11.53690170251884,12.0999739842355,11.953256507624703,11.243402702917749,11.675057584714992,11.357681434633548,11.287087018757926,11.453885305200677,11.758457688610466,11.366318340364138,11.838892518014118,11.487254360468532,11.623838290463638,10.90264178187419,11.746351582096269,11.809018697996123,11.610399295179134,12.050190218651284,11.093988699580738,10.684512630631943,11.649668728120272,11.625301130341853,11.71323762102911,11.429705457627271,11.565085955321356,10.66830660829246,11.363645819702187,11.545964865033964,10.383715622281088,11.406872161061342,11.387836350460791,11.168868567171467,12.016138774198266,11.50375936916001,11.461190780008451,10.660228446222604,11.53690170251884,12.0999739842355,11.953256507624703,11.243402702917749,11.675057584714992,11.357681434633548,11.287087018757926,11.453885305200677,11.758457688610466,11.366318340364138,11.838892518014118,11.487254360468532,11.623838290463638,10.90264178187419,11.746351582096269,11.809018697996123,11.610399295179134,12.050190218651284,11.093988699580738,10.684512630631943,11.215121813468258,11.66110626451335,11.636241090804853,11.720704930717854,11.435224640475868,11.570915199486205,10.682815309640858,11.382150373938574,11.5556807735697,10.404311753529944,11.419892994183018,11.394323825325678,11.18647320365895,12.037605756827212,11.537767480198248,11.475899169390352,11.561785693229659,11.965718030313582,11.256780264492484,11.683574718710481,11.381759272685729,11.297891764154654,11.481958315657971,11.778877362472201,11.378290676941148,11.835660138112074,11.503031706684434,11.629938382306268,10.917245556026462,11.755396868801395,11.815983962301065,11.627533805941962,12.081361712025686,11.104569045938032,10.695623327479398,11.243742275313181,11.66110626451335,11.636241090804853,11.720704930717854,11.435224640475868,11.570915199486205,10.682815309640858,11.382150373938574,11.5556807735697,10.404311753529944,11.419892994183018,11.394323825325678,11.18647320365895,12.037605756827212,11.537767480198248,11.475899169390352,11.561785693229659,11.965718030313582,11.256780264492484,11.683574718710481,11.381759272685729,11.297891764154654,11.481958315657971,11.778877362472201,11.378290676941148,11.835660138112074,11.503031706684434,11.629938382306268,10.917245556026462,11.755396868801395,11.815983962301065,11.627533805941962,12.081361712025686,11.104569045938032,10.695623327479398,11.243742275313181,11.650046090510354,11.647934291394096,11.7269048015984,11.452361533134575,11.582308863164489,10.69423370175094,11.394808776211582,11.562102447054803,10.420784129935852,11.427033077072595,11.402644768309061,11.207416223008172,12.059502832056381,11.571872971087128,11.490035774152869,11.58183023655993,11.9768546046442,11.268694953562179,11.689809474545637,11.404722564045384,11.314827508809302,11.50826165299545,11.800684779865183,11.387505504133657,11.845174345055188,11.516457365750467,11.63334319910975,10.930963677957616,11.76552252383228,11.826879122727636,11.645105767570476,12.092366188746038,11.118816752700452,10.702602875458641,11.273434192579858,11.650046090510354,11.647934291394096,11.7269048015984,11.452361533134575,11.582308863164489,10.69423370175094,11.394808776211582,11.562102447054803,10.420784129935852,11.427033077072595,11.402644768309061,11.207416223008172,12.059502832056381,11.571872971087128,11.490035774152869,11.58183023655993,11.9768546046442,11.268694953562179,11.689809474545637,11.404722564045384,11.314827508809302,11.50826165299545,11.800684779865183,11.387505504133657,11.845174345055188,11.516457365750467,11.63334319910975,10.930963677957616,11.76552252383228,11.826879122727636,11.645105767570476,12.092366188746038,11.118816752700452,10.702602875458641,11.273434192579858],\"y\":[2000,2000,2000,2000,2000,2000,2000,2000,2000,2000,2000,2000,2000,2000,2000,2000,2000,2001,2001,2001,2001,2001,2001,2001,2001,2001,2001,2001,2001,2001,2001,2001,2001,2001,2002,2002,2002,2002,2002,2002,2002,2002,2002,2002,2002,2002,2002,2002,2002,2002,2002,2002,2002,2002,2002,2003,2003,2003,2003,2003,2003,2003,2003,2003,2003,2003,2003,2003,2003,2003,2003,2003,2003,2003,2004,2004,2004,2004,2004,2004,2004,2004,2004,2004,2004,2004,2004,2004,2004,2004,2004,2004,2004,2004,2004,2004,2004,2004,2004,2004,2004,2005,2005,2005,2005,2005,2005,2005,2005,2005,2005,2005,2005,2005,2005,2005,2005,2005,2005,2005,2005,2005,2005,2005,2005,2005,2005,2005,2006,2006,2006,2006,2006,2006,2006,2006,2006,2006,2006,2006,2006,2006,2006,2006,2006,2006,2006,2006,2006,2006,2006,2006,2006,2006,2006,2006,2006,2006,2006,2006,2006,2006,2006,2006,2006,2006,2006,2006,2006,2006,2006,2006,2006,2006,2007,2007,2007,2007,2007,2007,2007,2007,2007,2007,2007,2007,2007,2007,2007,2007,2007,2007,2007,2007,2007,2007,2007,2007,2007,2007,2007,2007,2007,2007,2007,2007,2007,2007,2007,2007,2007,2007,2007,2007,2007,2007,2007,2007,2007,2007,2007,2007,2007,2007,2007,2007,2007,2007,2008,2008,2008,2008,2008,2008,2008,2008,2008,2008,2008,2008,2008,2008,2008,2008,2008,2008,2008,2008,2008,2008,2008,2008,2008,2008,2008,2009,2009,2009,2009,2009,2009,2009,2009,2009,2009,2009,2009,2009,2009,2009,2009,2009,2009,2009,2009,2009,2009,2009,2009,2009,2009,2009,2009,2010,2010,2010,2010,2010,2010,2010,2010,2010,2010,2010,2010,2010,2010,2010,2010,2010,2010,2010,2010,2010,2010,2010,2010,2010,2010,2010,2010,2010,2010,2010,2010,2010,2010,2010,2010,2010,2010,2010,2010,2010,2010,2010,2010,2010,2010,2010,2010,2010,2010,2010,2010,2010,2010,2010,2010,2011,2011,2011,2011,2011,2011,2011,2011,2011,2011,2011,2011,2011,2011,2011,2011,2011,2011,2011,2011,2011,2011,2011,2011,2011,2011,2011,2011,2011,2011,2011,2011,2011,2011,2011,2011,2012,2012,2012,2012,2012,2012,2012,2012,2012,2012,2012,2012,2012,2012,2012,2012,2012,2012,2012,2012,2012,2012,2012,2012,2012,2012,2012,2012,2012,2012,2012,2012,2012,2012,2012,2012,2012,2012,2012,2012,2012,2012,2012,2012,2012,2012,2012,2012,2012,2012,2012,2012,2012,2012,2012,2012,2012,2012,2012,2012,2012,2012,2012,2012,2012,2012,2012,2012,2013,2013,2013,2013,2013,2013,2013,2013,2013,2013,2013,2013,2013,2013,2013,2013,2013,2013,2013,2013,2013,2013,2013,2013,2013,2013,2013,2013,2013,2013,2013,2013,2013,2013,2013,2013,2013,2013,2013,2013,2013,2013,2013,2013,2013,2013,2013,2013,2013,2013,2013,2013,2013,2013,2013,2013,2013,2013,2013,2013,2013,2013,2013,2013,2013,2013,2013,2013,2013,2013,2014,2014,2014,2014,2014,2014,2014,2014,2014,2014,2014,2014,2014,2014,2014,2014,2014,2014,2014,2014,2014,2014,2014,2014,2014,2014,2014,2014,2014,2014,2014,2014,2014,2014,2014,2014,2014,2014,2014,2014,2014,2014,2014,2014,2014,2014,2014,2014,2014,2014,2014,2014,2014,2014,2014,2014,2014,2014,2014,2014,2014,2014,2014,2014,2014,2014,2014,2014,2014,2014,2014,2014,2014,2015,2015,2015,2015,2015,2015,2015,2015,2015,2015,2015,2015,2015,2015,2015,2015,2015,2015,2015,2015,2015,2015,2015,2015,2015,2015,2015,2015,2015,2015,2015,2015,2015,2015,2015,2015,2015,2015,2015,2015,2015,2015,2015,2015,2015,2015,2015,2015,2015,2015,2015,2015,2015,2015,2015,2015,2015,2015,2015,2015,2015,2015,2015,2015,2015,2015,2015,2015,2015,2015,2016,2016,2016,2016,2016,2016,2016,2016,2016,2016,2016,2016,2016,2016,2016,2016,2016,2016,2016,2016,2016,2016,2016,2016,2016,2016,2016,2016,2016,2016,2016,2016,2016,2016,2016,2016,2016,2016,2016,2016,2016,2016,2016,2016,2016,2016,2016,2016,2016,2016,2016,2016,2016,2016,2016,2016,2016,2016,2016,2016,2016,2016,2016,2016,2016,2016,2016,2016,2016,2016],\"z\":[2.5,2.59,2.45,1.39,3.09,1.22,1.83,3.62,1.51,2.32,1.7,1.38,3.2,1.5,3.0,5.9,1.45,2.5,3.0,2.1,1.44,3.09,1.32,1.35,1.51,2.43,1.8,1.18,1.48,3.3,1.21,2.4,6.3,1.22,0.83,3.0,2.14,1.66,3.09,1.69,1.7,3.0,1.68,2.43,1.8,4.38,2.83,1.27,1.48,3.3,0.97,2.6,6.3,1.28,3.02,2.05,3.0,1.96,2.02,4.62,2.19,1.84,1.68,2.3,3.95,2.63,1.25,2.1,3.3,1.99,3.75,6.3,1.4,2.34,2.18,3.25,2.18,2.35,2.61,2.17,4.62,2.51,1.77,1.68,2.18,4.35,5.92,1.93,3.0,1.25,2.1,0.8,3.3,2.07,1.41,4.29,6.3,1.48,2.58,1.45,1.03,2.38,3.25,2.53,2.79,2.38,2.35,4.62,2.61,1.53,1.75,2.8,4.45,6.5,2.2,3.0,1.48,2.17,3.0,3.6,2.32,1.77,4.43,6.3,1.5,4.0,1.45,1.83,1.58,3.25,2.99,2.7,4.62,2.72,1.54,1.83,2.8,4.45,3.17,1.58,2.17,3.6,2.32,4.71,6.3,1.54,4.1,2.33,3.25,2.95,2.6,2.22,2.68,5.55,2.72,1.57,1.83,2.64,4.45,7.17,2.17,3.17,1.63,2.17,3.0,3.6,2.32,1.86,4.71,6.3,1.58,4.2,1.7,1.84,2.75,3.45,3.09,3.08,2.22,2.48,5.55,3.04,1.75,1.83,2.9,4.6,6.92,2.33,3.17,1.73,3.45,3.0,3.6,2.21,1.86,4.57,6.3,1.77,4.55,1.8,2.39,2.75,3.45,2.98,3.53,2.18,2.52,5.55,3.33,1.76,1.83,2.9,4.6,8.0,2.33,3.17,1.89,3.45,3.0,3.95,2.58,1.89,5.5,6.3,1.82,4.75,1.85,2.7,3.67,3.45,3.14,3.89,3.27,4.72,7.0,4.65,2.04,1.83,3.2,4.9,8.0,2.0,4.75,1.98,3.5,3.33,3.95,2.42,1.96,7.6,6.5,1.88,5.15,2.75,3.21,3.83,4.34,3.19,3.34,3.44,3.77,5.9,3.62,2.05,5.0,2.26,2.54,4.9,6.67,2.32,2.69,2.07,2.53,3.67,4.22,2.24,1.84,5.57,6.5,1.9,5.65,2.0,2.65,2.33,4.35,3.18,3.91,3.52,3.76,6.19,3.87,2.24,4.97,2.35,2.67,4.9,8.0,2.44,4.03,2.26,4.05,3.33,4.45,2.56,1.84,5.57,6.5,2.12,5.65,2.0,3.35,4.67,4.35,3.35,4.39,3.83,3.56,5.7,3.35,2.51,4.97,2.35,2.67,5.0,7.5,2.47,5.0,2.22,2.77,3.33,4.23,2.64,1.88,6.91,6.5,2.19,5.95,2.07,3.76,5.0,4.56,3.09,3.75,4.0,4.75,4.07,4.08,5.7,2.2,3.75,3.26,4.04,2.64,3.8,5.3,3.6,2.91,3.25,5.1,9.0,2.39,5.0,2.81,4.32,2.9,3.33,4.41,3.24,2.57,8.07,6.5,2.41,6.5,2.36,5.0,5.0,3.09,3.7,4.05,4.54,4.03,3.51,6.3,2.04,3.75,3.3,2.63,2.46,3.8,5.3,2.45,2.85,3.25,5.1,6.83,2.89,5.0,2.68,3.03,2.9,3.33,4.85,2.49,2.57,6.83,6.5,2.52,6.6,2.12,4.74,4.75,3.19,3.8,4.16,4.77,3.35,4.75,2.04,3.75,2.68,3.49,2.55,3.49,2.98,2.47,2.85,3.38,5.1,7.17,3.03,2.81,3.03,4.95,3.33,4.4,2.49,2.21,6.66,6.5,2.65,8.25,1.88,4.71,4.75,3.39,3.8,4.35,4.85,4.4,3.91,5.7,2.7,3.75,3.3,3.82,2.86,3.49,4.97,2.65,3.08,3.45,5.2,8.6,2.99,5.0,2.95,3.03,2.95,3.67,4.5,2.32,2.78,6.76,6.5,3.0,8.45,2.38,5.53,4.2,3.39,3.7,3.94,4.48,4.32,3.52,5.7,2.75,4.1,2.6,3.77,2.8,3.46,5.83,2.43,3.08,3.45,5.5,7.67,3.0,5.0,2.68,3.07,2.95,3.33,4.7,2.25,2.85,6.94,6.5,2.87,8.5,2.38,5.0,3.5,3.39,3.95,3.7,4.34,4.29,3.52,5.7,2.8,4.1,3.05,3.86,2.3,3.46,5.83,4.4,2.47,2.85,3.45,5.5,8.0,3.05,5.0,3.0,3.07,3.0,3.67,4.6,2.35,2.69,6.78,6.5,3.0,4.25,2.38,5.0,2.62,3.39,3.7,3.72,4.66,4.0,3.52,5.7,2.9,4.1,3.05,3.77,2.43,3.49,5.83,4.47,2.54,3.5,3.45,5.7,8.0,3.06,5.0,3.72,3.07,3.0,3.67,4.7,2.45,2.69,6.78,6.16,3.19,4.62,1.73,5.14,2.83,3.5,3.39,3.7,3.35,3.34,4.01,2.94,5.75,2.9,4.1,3.05,3.17,2.24,3.49,5.83,2.54,3.45,5.9,6.86,3.0,3.33,3.7,3.07,3.0,3.67,4.7,2.32,2.67,5.09,6.5,3.09,4.62,1.27,4.71,2.81,3.11,3.39,3.7,3.27,2.92,4.03,2.92,5.76,2.95,4.1,3.05,3.19,2.29,3.7,5.83,2.55,3.45,5.9,5.75,3.47,3.33,3.62,3.2,3.0,4.0,4.7,2.17,2.63,5.46,6.5,3.18,5.12,1.62,4.19,2.75,2.54,3.5,3.95,2.94,2.43,4.02,3.0,5.0,3.0,4.1,3.35,3.08,2.19,3.95,5.63,2.0,3.45,5.9,5.85,2.88,3.33,2.79,2.4,3.0,4.0,4.7,1.87,2.43,5.62,6.5,3.11,3.42,1.57,3.77,2.67,3.57,3.6,3.95,3.53,3.04,4.12,3.12,5.0,3.1,4.6,3.35,3.16,2.36,4.0,5.63,2.0,3.45,6.0,5.85,3.61,3.33,2.83,3.2,3.05,4.0,5.45,2.14,3.63,5.62,6.5,3.5,3.58,1.62,4.1,2.69],\"type\":\"scatter3d\"},{\"hovertemplate\":\"class=%{marker.color}<br>GDP_log10=%{x}<br>Year=%{y}<br>dollar_price=%{z}<extra></extra>\",\"legendgroup\":\"0\",\"marker\":{\"color\":[0,0,0,0,0,0,0,0,0,0,0,0,0,0,0,0,0,0,0,0,0,0,0,0,0,0,0,0,0,0,0,0,0,0,0,0,0,0,0,0,0,0,0,0,0,0,0,0,0,0,0,0,0,0,0,0,0,0,0,0,0,0,0,0,0,0,0,0,0,0,0,0,0,0,0,0,0,0,0,0,0,0,0,0,0,0,0,0,0,0,0,0,0,0,0,0,0,0,0,0,0,0,0,0,0,0,0,0,0,0,0,0,0,0,0,0,0,0,0,0,0,0,0,0],\"coloraxis\":\"coloraxis\",\"symbol\":\"diamond\"},\"mode\":\"markers\",\"name\":\"0\",\"scene\":\"scene\",\"showlegend\":true,\"x\":[12.206213115708598,12.148266316515395,12.421457492303189,12.156018830921651,12.211139237420024,12.169224627077039,12.4629906299692,12.182916568785958,12.235460267422326,12.194208979646682,12.504822777061028,12.203119954874245,12.249149420044517,12.207472789481013,12.551691476633675,12.207472789481013,12.266024616372095,12.194567064529759,12.603689876312767,12.194567064529759,12.291615236005704,12.20777973612601,12.221236832094737,12.31319417513532,12.228823666458899,12.228823666458899,12.31319417513532,12.238826128136264,12.251109933426724,12.312646953219183,12.251109933426724,12.254095904857678,12.312646953219183,12.254095904857678,12.258876629372132,12.34417015682028,12.258876629372132,12.271623243192991,12.361096706534518,12.271623243192991,12.2797057186105,12.369360598115334,12.2797057186105,12.369360598115334,12.3822188254919,12.435305940223301,12.553520154277779,12.296318493691764,12.309879176684394,12.131092316754938,12.108649574396376,12.384401805791391,12.439440069736223,12.562877875428274,12.327363021844572,12.310372516794152,12.137043790184322,12.108649574396376,12.384401805791391,12.439440069736223,12.562877875428274,12.327363021844572,12.310372516794152,12.137043790184322,12.118681290182224,12.368723749485705,12.44424627431309,12.570365449958773,12.360773228016791,12.314366582646441,12.152591021657166,12.118681290182224,12.368723749485705,12.44424627431309,12.570365449958773,12.360773228016791,12.314366582646441,12.152591021657166,12.130870674836011,12.354125733716039,12.448978248380547,12.57999612032876,12.3948770110275,12.319197699315506,12.16615470692718,12.130870674836011,12.354125733716039,12.448978248380547,12.57999612032876,12.3948770110275,12.319197699315506,12.16615470692718,12.140925795498442,12.3587208179083,12.458684674775746,12.589264684874609,12.424942041812873,12.326452613089982,12.108872709089708,12.178905038280355,12.140925795498442,12.3587208179083,12.458684674775746,12.589264684874609,12.424942041812873,12.326452613089982,12.108872709089708,12.178905038280355,12.153067539982732,12.36354805305592,12.466111022489793,12.595411338720973,12.454254733061418,12.330164083729297,12.117446967049373,12.189972906818731,12.153067539982732,12.36354805305592,12.466111022489793,12.595411338720973,12.454254733061418,12.330164083729297,12.117446967049373,12.189972906818731],\"y\":[2000,2000,2000,2001,2001,2002,2001,2003,2002,2004,2002,2005,2003,2006,2003,2006,2004,2007,2004,2007,2005,2008,2009,2006,2010,2010,2006,2011,2012,2007,2012,2013,2007,2013,2014,2008,2014,2015,2009,2015,2016,2010,2016,2010,2011,2011,2011,2011,2011,2011,2012,2012,2012,2012,2012,2012,2012,2012,2012,2012,2012,2012,2012,2012,2013,2013,2013,2013,2013,2013,2013,2013,2013,2013,2013,2013,2013,2013,2014,2014,2014,2014,2014,2014,2014,2014,2014,2014,2014,2014,2014,2014,2015,2015,2015,2015,2015,2015,2015,2015,2015,2015,2015,2015,2015,2015,2015,2015,2016,2016,2016,2016,2016,2016,2016,2016,2016,2016,2016,2016,2016,2016,2016,2016],\"z\":[2.95,2.85,1.24,3.33,1.8,3.33,1.24,3.2,1.8,3.19,1.31,3.28,1.52,3.52,1.24,3.52,1.8,3.63,1.3,3.88,2.95,4.09,3.89,3.1,4.12,4.17,3.2,4.73,4.73,3.2,5.12,5.41,6.9,5.53,5.54,7.5,5.64,5.7,8.03,5.85,5.84,8.2,6.0,8.71,9.5,3.5,3.4,1.91,3.5,3.5,4.8,10.25,3.6,3.53,1.65,3.5,3.5,4.56,5.04,3.6,3.64,1.59,3.6,3.5,4.7,11.25,3.6,3.64,1.68,3.85,3.5,5.04,6.0,3.9,3.64,1.53,3.75,3.5,5.05,6.2,3.8,3.67,1.56,3.85,3.65,5.1,6.5,3.9,3.67,1.75,3.85,3.65,5.3,6.75,3.9,3.67,1.91,3.85,3.5,3.65,5.3,4.5,4.1,3.59,1.85,4.0,3.27,3.65,5.3,3.38,4.1,3.59,1.92,4.0,2.88,3.5,5.75,5.17,4.1,3.79,2.42,4.2,2.44,3.5],\"type\":\"scatter3d\"},{\"hovertemplate\":\"class=%{marker.color}<br>GDP_log10=%{x}<br>Year=%{y}<br>dollar_price=%{z}<extra></extra>\",\"legendgroup\":\"3\",\"marker\":{\"color\":[3,3,3,3,3,3,3,3,3,3,3,3,3,3,3,3,3,3,3,3,3,3,3,3,3,3,3,3,3,3,3,3,3,3,3,3,3,3,3,3,3,3,3,3,3],\"coloraxis\":\"coloraxis\",\"symbol\":\"square\"},\"mode\":\"markers\",\"name\":\"3\",\"scene\":\"scene\",\"showlegend\":true,\"x\":[12.730540844165567,12.737127414093097,12.746598395407721,12.753759957649345,12.759883050364529,12.661475716422192,12.76700884922251,12.70150149751131,12.762233540239064,12.70150149751131,12.762233540239064,12.740518218029314,12.738049250564876,12.740518218029314,12.738049250564876,12.784414717262104,12.755882474807095,12.824030760550782,12.755380850563242,12.856890135308895,12.761825639459731,12.856890135308895,12.761825639459731,12.889382389727077,12.770427078541722,12.919980277869149,12.772051655939416,12.919980277869149,12.772051655939416,12.948979428740989,12.777330382356602,12.948979428740989,12.777330382356602,12.977293211982564,12.779967863423067,12.977293211982564,12.779967863423067,13.005690894732554,12.788264556009587,13.005690894732554,12.788264556009587,13.033447882287984,12.791673108501046,13.033447882287984,12.791673108501046],\"y\":[2000,2001,2002,2003,2004,2005,2005,2006,2006,2006,2006,2007,2007,2007,2007,2008,2008,2009,2009,2010,2010,2010,2010,2011,2011,2012,2012,2012,2012,2013,2013,2013,2013,2014,2014,2014,2014,2015,2015,2015,2015,2016,2016,2016,2016],\"z\":[2.77,2.37,2.02,2.18,2.32,1.31,2.36,1.31,2.19,1.31,2.23,1.57,2.31,1.57,2.3,2.08,2.64,2.08,3.48,2.08,3.52,2.2,3.68,2.44,4.1,2.57,4.21,2.61,4.1,2.67,3.52,2.67,3.2,2.77,2.98,2.82,3.66,2.87,3.16,2.83,3.01,2.93,3.14,3.1,3.49],\"type\":\"scatter3d\"},{\"hovertemplate\":\"class=%{marker.color}<br>GDP_log10=%{x}<br>Year=%{y}<br>dollar_price=%{z}<extra></extra>\",\"legendgroup\":\"1\",\"marker\":{\"color\":[1,1,1,1,1,1,1,1,1,1,1,1,1,1,1,1,1,1,1,1,1,1,1,1,1],\"coloraxis\":\"coloraxis\",\"symbol\":\"x\"},\"mode\":\"markers\",\"name\":\"1\",\"scene\":\"scene\",\"showlegend\":true,\"x\":[13.112883048635458,13.125133039916829,13.1413274638702,13.156321950446713,13.168547568872253,13.176620775384281,13.176027557860133,13.176027557860133,13.164867160351593,13.164867160351593,13.17586247037557,13.182545891119375,13.19220492541459,13.19220492541459,13.2001333751489,13.210652875437406,13.210652875437406,13.22298944474631,13.22298944474631,13.229740699690918,13.229740699690918,13.239264433777802,13.239264433777802,13.251499516029417,13.251499516029417],\"y\":[2000,2001,2002,2003,2004,2005,2006,2006,2007,2007,2008,2009,2010,2010,2011,2012,2012,2013,2013,2014,2014,2015,2015,2016,2016],\"z\":[2.24,2.24,2.35,2.46,2.47,2.58,2.67,2.78,2.89,3.0,3.21,3.43,3.43,3.53,3.64,3.81,3.96,4.03,4.18,4.24,4.29,4.29,4.29,4.29,4.5],\"type\":\"scatter3d\"}],                        {\"template\":{\"data\":{\"bar\":[{\"error_x\":{\"color\":\"#2a3f5f\"},\"error_y\":{\"color\":\"#2a3f5f\"},\"marker\":{\"line\":{\"color\":\"#E5ECF6\",\"width\":0.5},\"pattern\":{\"fillmode\":\"overlay\",\"size\":10,\"solidity\":0.2}},\"type\":\"bar\"}],\"barpolar\":[{\"marker\":{\"line\":{\"color\":\"#E5ECF6\",\"width\":0.5},\"pattern\":{\"fillmode\":\"overlay\",\"size\":10,\"solidity\":0.2}},\"type\":\"barpolar\"}],\"carpet\":[{\"aaxis\":{\"endlinecolor\":\"#2a3f5f\",\"gridcolor\":\"white\",\"linecolor\":\"white\",\"minorgridcolor\":\"white\",\"startlinecolor\":\"#2a3f5f\"},\"baxis\":{\"endlinecolor\":\"#2a3f5f\",\"gridcolor\":\"white\",\"linecolor\":\"white\",\"minorgridcolor\":\"white\",\"startlinecolor\":\"#2a3f5f\"},\"type\":\"carpet\"}],\"choropleth\":[{\"colorbar\":{\"outlinewidth\":0,\"ticks\":\"\"},\"type\":\"choropleth\"}],\"contour\":[{\"colorbar\":{\"outlinewidth\":0,\"ticks\":\"\"},\"colorscale\":[[0.0,\"#0d0887\"],[0.1111111111111111,\"#46039f\"],[0.2222222222222222,\"#7201a8\"],[0.3333333333333333,\"#9c179e\"],[0.4444444444444444,\"#bd3786\"],[0.5555555555555556,\"#d8576b\"],[0.6666666666666666,\"#ed7953\"],[0.7777777777777778,\"#fb9f3a\"],[0.8888888888888888,\"#fdca26\"],[1.0,\"#f0f921\"]],\"type\":\"contour\"}],\"contourcarpet\":[{\"colorbar\":{\"outlinewidth\":0,\"ticks\":\"\"},\"type\":\"contourcarpet\"}],\"heatmap\":[{\"colorbar\":{\"outlinewidth\":0,\"ticks\":\"\"},\"colorscale\":[[0.0,\"#0d0887\"],[0.1111111111111111,\"#46039f\"],[0.2222222222222222,\"#7201a8\"],[0.3333333333333333,\"#9c179e\"],[0.4444444444444444,\"#bd3786\"],[0.5555555555555556,\"#d8576b\"],[0.6666666666666666,\"#ed7953\"],[0.7777777777777778,\"#fb9f3a\"],[0.8888888888888888,\"#fdca26\"],[1.0,\"#f0f921\"]],\"type\":\"heatmap\"}],\"heatmapgl\":[{\"colorbar\":{\"outlinewidth\":0,\"ticks\":\"\"},\"colorscale\":[[0.0,\"#0d0887\"],[0.1111111111111111,\"#46039f\"],[0.2222222222222222,\"#7201a8\"],[0.3333333333333333,\"#9c179e\"],[0.4444444444444444,\"#bd3786\"],[0.5555555555555556,\"#d8576b\"],[0.6666666666666666,\"#ed7953\"],[0.7777777777777778,\"#fb9f3a\"],[0.8888888888888888,\"#fdca26\"],[1.0,\"#f0f921\"]],\"type\":\"heatmapgl\"}],\"histogram\":[{\"marker\":{\"pattern\":{\"fillmode\":\"overlay\",\"size\":10,\"solidity\":0.2}},\"type\":\"histogram\"}],\"histogram2d\":[{\"colorbar\":{\"outlinewidth\":0,\"ticks\":\"\"},\"colorscale\":[[0.0,\"#0d0887\"],[0.1111111111111111,\"#46039f\"],[0.2222222222222222,\"#7201a8\"],[0.3333333333333333,\"#9c179e\"],[0.4444444444444444,\"#bd3786\"],[0.5555555555555556,\"#d8576b\"],[0.6666666666666666,\"#ed7953\"],[0.7777777777777778,\"#fb9f3a\"],[0.8888888888888888,\"#fdca26\"],[1.0,\"#f0f921\"]],\"type\":\"histogram2d\"}],\"histogram2dcontour\":[{\"colorbar\":{\"outlinewidth\":0,\"ticks\":\"\"},\"colorscale\":[[0.0,\"#0d0887\"],[0.1111111111111111,\"#46039f\"],[0.2222222222222222,\"#7201a8\"],[0.3333333333333333,\"#9c179e\"],[0.4444444444444444,\"#bd3786\"],[0.5555555555555556,\"#d8576b\"],[0.6666666666666666,\"#ed7953\"],[0.7777777777777778,\"#fb9f3a\"],[0.8888888888888888,\"#fdca26\"],[1.0,\"#f0f921\"]],\"type\":\"histogram2dcontour\"}],\"mesh3d\":[{\"colorbar\":{\"outlinewidth\":0,\"ticks\":\"\"},\"type\":\"mesh3d\"}],\"parcoords\":[{\"line\":{\"colorbar\":{\"outlinewidth\":0,\"ticks\":\"\"}},\"type\":\"parcoords\"}],\"pie\":[{\"automargin\":true,\"type\":\"pie\"}],\"scatter\":[{\"marker\":{\"colorbar\":{\"outlinewidth\":0,\"ticks\":\"\"}},\"type\":\"scatter\"}],\"scatter3d\":[{\"line\":{\"colorbar\":{\"outlinewidth\":0,\"ticks\":\"\"}},\"marker\":{\"colorbar\":{\"outlinewidth\":0,\"ticks\":\"\"}},\"type\":\"scatter3d\"}],\"scattercarpet\":[{\"marker\":{\"colorbar\":{\"outlinewidth\":0,\"ticks\":\"\"}},\"type\":\"scattercarpet\"}],\"scattergeo\":[{\"marker\":{\"colorbar\":{\"outlinewidth\":0,\"ticks\":\"\"}},\"type\":\"scattergeo\"}],\"scattergl\":[{\"marker\":{\"colorbar\":{\"outlinewidth\":0,\"ticks\":\"\"}},\"type\":\"scattergl\"}],\"scattermapbox\":[{\"marker\":{\"colorbar\":{\"outlinewidth\":0,\"ticks\":\"\"}},\"type\":\"scattermapbox\"}],\"scatterpolar\":[{\"marker\":{\"colorbar\":{\"outlinewidth\":0,\"ticks\":\"\"}},\"type\":\"scatterpolar\"}],\"scatterpolargl\":[{\"marker\":{\"colorbar\":{\"outlinewidth\":0,\"ticks\":\"\"}},\"type\":\"scatterpolargl\"}],\"scatterternary\":[{\"marker\":{\"colorbar\":{\"outlinewidth\":0,\"ticks\":\"\"}},\"type\":\"scatterternary\"}],\"surface\":[{\"colorbar\":{\"outlinewidth\":0,\"ticks\":\"\"},\"colorscale\":[[0.0,\"#0d0887\"],[0.1111111111111111,\"#46039f\"],[0.2222222222222222,\"#7201a8\"],[0.3333333333333333,\"#9c179e\"],[0.4444444444444444,\"#bd3786\"],[0.5555555555555556,\"#d8576b\"],[0.6666666666666666,\"#ed7953\"],[0.7777777777777778,\"#fb9f3a\"],[0.8888888888888888,\"#fdca26\"],[1.0,\"#f0f921\"]],\"type\":\"surface\"}],\"table\":[{\"cells\":{\"fill\":{\"color\":\"#EBF0F8\"},\"line\":{\"color\":\"white\"}},\"header\":{\"fill\":{\"color\":\"#C8D4E3\"},\"line\":{\"color\":\"white\"}},\"type\":\"table\"}]},\"layout\":{\"annotationdefaults\":{\"arrowcolor\":\"#2a3f5f\",\"arrowhead\":0,\"arrowwidth\":1},\"autotypenumbers\":\"strict\",\"coloraxis\":{\"colorbar\":{\"outlinewidth\":0,\"ticks\":\"\"}},\"colorscale\":{\"diverging\":[[0,\"#8e0152\"],[0.1,\"#c51b7d\"],[0.2,\"#de77ae\"],[0.3,\"#f1b6da\"],[0.4,\"#fde0ef\"],[0.5,\"#f7f7f7\"],[0.6,\"#e6f5d0\"],[0.7,\"#b8e186\"],[0.8,\"#7fbc41\"],[0.9,\"#4d9221\"],[1,\"#276419\"]],\"sequential\":[[0.0,\"#0d0887\"],[0.1111111111111111,\"#46039f\"],[0.2222222222222222,\"#7201a8\"],[0.3333333333333333,\"#9c179e\"],[0.4444444444444444,\"#bd3786\"],[0.5555555555555556,\"#d8576b\"],[0.6666666666666666,\"#ed7953\"],[0.7777777777777778,\"#fb9f3a\"],[0.8888888888888888,\"#fdca26\"],[1.0,\"#f0f921\"]],\"sequentialminus\":[[0.0,\"#0d0887\"],[0.1111111111111111,\"#46039f\"],[0.2222222222222222,\"#7201a8\"],[0.3333333333333333,\"#9c179e\"],[0.4444444444444444,\"#bd3786\"],[0.5555555555555556,\"#d8576b\"],[0.6666666666666666,\"#ed7953\"],[0.7777777777777778,\"#fb9f3a\"],[0.8888888888888888,\"#fdca26\"],[1.0,\"#f0f921\"]]},\"colorway\":[\"#636efa\",\"#EF553B\",\"#00cc96\",\"#ab63fa\",\"#FFA15A\",\"#19d3f3\",\"#FF6692\",\"#B6E880\",\"#FF97FF\",\"#FECB52\"],\"font\":{\"color\":\"#2a3f5f\"},\"geo\":{\"bgcolor\":\"white\",\"lakecolor\":\"white\",\"landcolor\":\"#E5ECF6\",\"showlakes\":true,\"showland\":true,\"subunitcolor\":\"white\"},\"hoverlabel\":{\"align\":\"left\"},\"hovermode\":\"closest\",\"mapbox\":{\"style\":\"light\"},\"paper_bgcolor\":\"white\",\"plot_bgcolor\":\"#E5ECF6\",\"polar\":{\"angularaxis\":{\"gridcolor\":\"white\",\"linecolor\":\"white\",\"ticks\":\"\"},\"bgcolor\":\"#E5ECF6\",\"radialaxis\":{\"gridcolor\":\"white\",\"linecolor\":\"white\",\"ticks\":\"\"}},\"scene\":{\"xaxis\":{\"backgroundcolor\":\"#E5ECF6\",\"gridcolor\":\"white\",\"gridwidth\":2,\"linecolor\":\"white\",\"showbackground\":true,\"ticks\":\"\",\"zerolinecolor\":\"white\"},\"yaxis\":{\"backgroundcolor\":\"#E5ECF6\",\"gridcolor\":\"white\",\"gridwidth\":2,\"linecolor\":\"white\",\"showbackground\":true,\"ticks\":\"\",\"zerolinecolor\":\"white\"},\"zaxis\":{\"backgroundcolor\":\"#E5ECF6\",\"gridcolor\":\"white\",\"gridwidth\":2,\"linecolor\":\"white\",\"showbackground\":true,\"ticks\":\"\",\"zerolinecolor\":\"white\"}},\"shapedefaults\":{\"line\":{\"color\":\"#2a3f5f\"}},\"ternary\":{\"aaxis\":{\"gridcolor\":\"white\",\"linecolor\":\"white\",\"ticks\":\"\"},\"baxis\":{\"gridcolor\":\"white\",\"linecolor\":\"white\",\"ticks\":\"\"},\"bgcolor\":\"#E5ECF6\",\"caxis\":{\"gridcolor\":\"white\",\"linecolor\":\"white\",\"ticks\":\"\"}},\"title\":{\"x\":0.05},\"xaxis\":{\"automargin\":true,\"gridcolor\":\"white\",\"linecolor\":\"white\",\"ticks\":\"\",\"title\":{\"standoff\":15},\"zerolinecolor\":\"white\",\"zerolinewidth\":2},\"yaxis\":{\"automargin\":true,\"gridcolor\":\"white\",\"linecolor\":\"white\",\"ticks\":\"\",\"title\":{\"standoff\":15},\"zerolinecolor\":\"white\",\"zerolinewidth\":2}}},\"scene\":{\"domain\":{\"x\":[0.0,1.0],\"y\":[0.0,1.0]},\"xaxis\":{\"title\":{\"text\":\"GDP_log10\"}},\"yaxis\":{\"title\":{\"text\":\"Year\"}},\"zaxis\":{\"title\":{\"text\":\"dollar_price\"}}},\"coloraxis\":{\"colorbar\":{\"title\":{\"text\":\"class\"}},\"colorscale\":[[0.0,\"#0d0887\"],[0.1111111111111111,\"#46039f\"],[0.2222222222222222,\"#7201a8\"],[0.3333333333333333,\"#9c179e\"],[0.4444444444444444,\"#bd3786\"],[0.5555555555555556,\"#d8576b\"],[0.6666666666666666,\"#ed7953\"],[0.7777777777777778,\"#fb9f3a\"],[0.8888888888888888,\"#fdca26\"],[1.0,\"#f0f921\"]]},\"legend\":{\"title\":{\"text\":\"class\"},\"tracegroupgap\":0,\"x\":0,\"y\":1},\"margin\":{\"t\":60},\"width\":800},                        {\"responsive\": true}                    ).then(function(){\n",
       "                            \n",
       "var gd = document.getElementById('513bbb1b-531f-42fc-997b-d27019a66395');\n",
       "var x = new MutationObserver(function (mutations, observer) {{\n",
       "        var display = window.getComputedStyle(gd).display;\n",
       "        if (!display || display === 'none') {{\n",
       "            console.log([gd, 'removed!']);\n",
       "            Plotly.purge(gd);\n",
       "            observer.disconnect();\n",
       "        }}\n",
       "}});\n",
       "\n",
       "// Listen for the removal of the full notebook cells\n",
       "var notebookContainer = gd.closest('#notebook-container');\n",
       "if (notebookContainer) {{\n",
       "    x.observe(notebookContainer, {childList: true});\n",
       "}}\n",
       "\n",
       "// Listen for the clearing of the current output cell\n",
       "var outputEl = gd.closest('.output');\n",
       "if (outputEl) {{\n",
       "    x.observe(outputEl, {childList: true});\n",
       "}}\n",
       "\n",
       "                        })                };                });            </script>        </div>"
      ]
     },
     "metadata": {},
     "output_type": "display_data"
    }
   ],
   "source": [
    "# Plot 3D graph for K= 3\n",
    "\n",
    "fig = px.scatter_3d(\n",
    "    four_clusters,\n",
    "    x=\"GDP_log10\",\n",
    "    y=\"Year\",\n",
    "    z=\"dollar_price\",\n",
    "    color=\"class\",\n",
    "    symbol=\"class\",\n",
    "    width=800,\n",
    ")\n",
    "fig.update_layout(legend=dict(x=0, y=1))\n",
    "fig.show()"
   ]
  },
  {
   "cell_type": "code",
   "execution_count": null,
   "id": "b4c0247f",
   "metadata": {},
   "outputs": [],
   "source": []
  }
 ],
 "metadata": {
  "kernelspec": {
   "display_name": "mlenv",
   "language": "python",
   "name": "mlenv"
  },
  "language_info": {
   "codemirror_mode": {
    "name": "ipython",
    "version": 3
   },
   "file_extension": ".py",
   "mimetype": "text/x-python",
   "name": "python",
   "nbconvert_exporter": "python",
   "pygments_lexer": "ipython3",
   "version": "3.7.13"
  }
 },
 "nbformat": 4,
 "nbformat_minor": 5
}
