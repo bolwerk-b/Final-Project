{
 "cells": [
  {
   "cell_type": "code",
   "execution_count": 1,
   "id": "a8535b90",
   "metadata": {},
   "outputs": [],
   "source": [
    "# Basic layout of the code\n",
    "# The purpose of this code is to find out corelation between price of a consumable (BigMac) and GDP's from 2000-2016\n",
    "# We will apply Linear Regression and RandomForest Regression to the following:\n",
    "# 1. The entire dataset\n",
    "# 2. Three arbitrarily chose countries (Argentina, Canada and USA)\n",
    "# 3. Three geographical regions (Americas, Asia and Europe)\n",
    "# 4. Countires with Top5 GDP\n",
    "# 5. Countires with Bottom5 GDP\n",
    "# Linear Regression analysis will be done using log10(GDP) as feature and dollar_price as the target\n",
    "# Linear Regression analysis will be also be done using GPD_per_Capita as feature and dollar_price as target\n",
    "# RandomForest Regression will use multiple features while keeping dollar_price as the target\n",
    "# Accuracy of the Linear Regression analysis will be determined by R-square\n",
    "# Accuracy of the RandomForest Regression will be determined by either RMSE or relative mean error"
   ]
  },
  {
   "cell_type": "code",
   "execution_count": 2,
   "id": "4d59b892",
   "metadata": {},
   "outputs": [],
   "source": [
    "# Import depedencies\n",
    "import numpy as np\n",
    "import pandas as pd\n",
    "from pathlib import Path\n",
    "# from collections import Counter\n",
    "import matplotlib.pyplot as plt\n",
    "from sklearn.linear_model import LinearRegression\n",
    "from sklearn.preprocessing import StandardScaler,MinMaxScaler\n",
    "from sklearn.model_selection import train_test_split\n",
    "from sklearn.metrics import mean_squared_error\n",
    "from sklearn.ensemble import RandomForestRegressor\n"
   ]
  },
  {
   "cell_type": "markdown",
   "id": "84f31fcb",
   "metadata": {},
   "source": [
    "# Read the CSV and Perform Basic Data Cleaning"
   ]
  },
  {
   "cell_type": "code",
   "execution_count": 3,
   "id": "80ec72b6",
   "metadata": {
    "scrolled": true
   },
   "outputs": [
    {
     "data": {
      "text/html": [
       "<div>\n",
       "<style scoped>\n",
       "    .dataframe tbody tr th:only-of-type {\n",
       "        vertical-align: middle;\n",
       "    }\n",
       "\n",
       "    .dataframe tbody tr th {\n",
       "        vertical-align: top;\n",
       "    }\n",
       "\n",
       "    .dataframe thead th {\n",
       "        text-align: right;\n",
       "    }\n",
       "</style>\n",
       "<table border=\"1\" class=\"dataframe\">\n",
       "  <thead>\n",
       "    <tr style=\"text-align: right;\">\n",
       "      <th></th>\n",
       "      <th>date</th>\n",
       "      <th>currency_code</th>\n",
       "      <th>Country</th>\n",
       "      <th>local_price</th>\n",
       "      <th>dollar_ex</th>\n",
       "      <th>dollar_price</th>\n",
       "      <th>Year</th>\n",
       "      <th>Code</th>\n",
       "      <th>gdp_growth</th>\n",
       "      <th>GDP_Per_Capita</th>\n",
       "      <th>GDP</th>\n",
       "      <th>country_code</th>\n",
       "      <th>region</th>\n",
       "      <th>sub_region</th>\n",
       "      <th>GDP_log10</th>\n",
       "    </tr>\n",
       "  </thead>\n",
       "  <tbody>\n",
       "    <tr>\n",
       "      <th>0</th>\n",
       "      <td>4/1/2000</td>\n",
       "      <td>ARS</td>\n",
       "      <td>Argentina</td>\n",
       "      <td>2.50</td>\n",
       "      <td>1</td>\n",
       "      <td>2.50</td>\n",
       "      <td>2000</td>\n",
       "      <td>ARG</td>\n",
       "      <td>-10.894485</td>\n",
       "      <td>6854.294081</td>\n",
       "      <td>2.582820e+11</td>\n",
       "      <td>32</td>\n",
       "      <td>Americas</td>\n",
       "      <td>Latin America and the Caribbean</td>\n",
       "      <td>NaN</td>\n",
       "    </tr>\n",
       "    <tr>\n",
       "      <th>1</th>\n",
       "      <td>4/1/2000</td>\n",
       "      <td>AUD</td>\n",
       "      <td>Australia</td>\n",
       "      <td>2.59</td>\n",
       "      <td>1</td>\n",
       "      <td>2.59</td>\n",
       "      <td>2000</td>\n",
       "      <td>AUS</td>\n",
       "      <td>4.001431</td>\n",
       "      <td>45806.687450</td>\n",
       "      <td>9.001660e+11</td>\n",
       "      <td>36</td>\n",
       "      <td>Oceania</td>\n",
       "      <td>Australia and New Zealand</td>\n",
       "      <td>NaN</td>\n",
       "    </tr>\n",
       "  </tbody>\n",
       "</table>\n",
       "</div>"
      ],
      "text/plain": [
       "       date currency_code    Country  local_price  dollar_ex  dollar_price  \\\n",
       "0  4/1/2000           ARS  Argentina         2.50          1          2.50   \n",
       "1  4/1/2000           AUD  Australia         2.59          1          2.59   \n",
       "\n",
       "   Year Code  gdp_growth  GDP_Per_Capita           GDP  country_code  \\\n",
       "0  2000  ARG  -10.894485     6854.294081  2.582820e+11            32   \n",
       "1  2000  AUS    4.001431    45806.687450  9.001660e+11            36   \n",
       "\n",
       "     region                       sub_region  GDP_log10  \n",
       "0  Americas  Latin America and the Caribbean        NaN  \n",
       "1   Oceania        Australia and New Zealand        NaN  "
      ]
     },
     "execution_count": 3,
     "metadata": {},
     "output_type": "execute_result"
    }
   ],
   "source": [
    "#Load data\n",
    "file_path = Path('../Final_Project_Resources/final.csv')\n",
    "df = pd.read_csv (file_path)\n",
    "df.head(2)\n",
    "\n"
   ]
  },
  {
   "cell_type": "code",
   "execution_count": 4,
   "id": "a777cfe1",
   "metadata": {},
   "outputs": [],
   "source": [
    "# Convert the 'GDP' column into log10\n",
    "df['GDP_log10'] = np.log10(df['GDP'])\n"
   ]
  },
  {
   "cell_type": "code",
   "execution_count": 5,
   "id": "6394a6f1",
   "metadata": {
    "scrolled": true
   },
   "outputs": [
    {
     "data": {
      "text/html": [
       "<div>\n",
       "<style scoped>\n",
       "    .dataframe tbody tr th:only-of-type {\n",
       "        vertical-align: middle;\n",
       "    }\n",
       "\n",
       "    .dataframe tbody tr th {\n",
       "        vertical-align: top;\n",
       "    }\n",
       "\n",
       "    .dataframe thead th {\n",
       "        text-align: right;\n",
       "    }\n",
       "</style>\n",
       "<table border=\"1\" class=\"dataframe\">\n",
       "  <thead>\n",
       "    <tr style=\"text-align: right;\">\n",
       "      <th></th>\n",
       "      <th>date</th>\n",
       "      <th>currency_code</th>\n",
       "      <th>Country</th>\n",
       "      <th>local_price</th>\n",
       "      <th>dollar_ex</th>\n",
       "      <th>dollar_price</th>\n",
       "      <th>Year</th>\n",
       "      <th>Code</th>\n",
       "      <th>gdp_growth</th>\n",
       "      <th>GDP_Per_Capita</th>\n",
       "      <th>GDP</th>\n",
       "      <th>country_code</th>\n",
       "      <th>region</th>\n",
       "      <th>sub_region</th>\n",
       "      <th>GDP_log10</th>\n",
       "    </tr>\n",
       "  </thead>\n",
       "  <tbody>\n",
       "    <tr>\n",
       "      <th>0</th>\n",
       "      <td>4/1/2000</td>\n",
       "      <td>ARS</td>\n",
       "      <td>Argentina</td>\n",
       "      <td>2.50</td>\n",
       "      <td>1</td>\n",
       "      <td>2.50</td>\n",
       "      <td>2000</td>\n",
       "      <td>ARG</td>\n",
       "      <td>-10.894485</td>\n",
       "      <td>6854.294081</td>\n",
       "      <td>2.582820e+11</td>\n",
       "      <td>32</td>\n",
       "      <td>Americas</td>\n",
       "      <td>Latin America and the Caribbean</td>\n",
       "      <td>11.412094</td>\n",
       "    </tr>\n",
       "    <tr>\n",
       "      <th>1</th>\n",
       "      <td>4/1/2000</td>\n",
       "      <td>AUD</td>\n",
       "      <td>Australia</td>\n",
       "      <td>2.59</td>\n",
       "      <td>1</td>\n",
       "      <td>2.59</td>\n",
       "      <td>2000</td>\n",
       "      <td>AUS</td>\n",
       "      <td>4.001431</td>\n",
       "      <td>45806.687450</td>\n",
       "      <td>9.001660e+11</td>\n",
       "      <td>36</td>\n",
       "      <td>Oceania</td>\n",
       "      <td>Australia and New Zealand</td>\n",
       "      <td>11.954323</td>\n",
       "    </tr>\n",
       "  </tbody>\n",
       "</table>\n",
       "</div>"
      ],
      "text/plain": [
       "       date currency_code    Country  local_price  dollar_ex  dollar_price  \\\n",
       "0  4/1/2000           ARS  Argentina         2.50          1          2.50   \n",
       "1  4/1/2000           AUD  Australia         2.59          1          2.59   \n",
       "\n",
       "   Year Code  gdp_growth  GDP_Per_Capita           GDP  country_code  \\\n",
       "0  2000  ARG  -10.894485     6854.294081  2.582820e+11            32   \n",
       "1  2000  AUS    4.001431    45806.687450  9.001660e+11            36   \n",
       "\n",
       "     region                       sub_region  GDP_log10  \n",
       "0  Americas  Latin America and the Caribbean  11.412094  \n",
       "1   Oceania        Australia and New Zealand  11.954323  "
      ]
     },
     "execution_count": 5,
     "metadata": {},
     "output_type": "execute_result"
    }
   ],
   "source": [
    "df.head(2)"
   ]
  },
  {
   "cell_type": "code",
   "execution_count": 6,
   "id": "91d1dd3e",
   "metadata": {
    "scrolled": true
   },
   "outputs": [
    {
     "data": {
      "text/html": [
       "<div>\n",
       "<style scoped>\n",
       "    .dataframe tbody tr th:only-of-type {\n",
       "        vertical-align: middle;\n",
       "    }\n",
       "\n",
       "    .dataframe tbody tr th {\n",
       "        vertical-align: top;\n",
       "    }\n",
       "\n",
       "    .dataframe thead th {\n",
       "        text-align: right;\n",
       "    }\n",
       "</style>\n",
       "<table border=\"1\" class=\"dataframe\">\n",
       "  <thead>\n",
       "    <tr style=\"text-align: right;\">\n",
       "      <th></th>\n",
       "      <th>local_price</th>\n",
       "      <th>dollar_ex</th>\n",
       "      <th>dollar_price</th>\n",
       "      <th>Year</th>\n",
       "      <th>gdp_growth</th>\n",
       "      <th>GDP_Per_Capita</th>\n",
       "      <th>GDP</th>\n",
       "      <th>country_code</th>\n",
       "      <th>GDP_log10</th>\n",
       "    </tr>\n",
       "  </thead>\n",
       "  <tbody>\n",
       "    <tr>\n",
       "      <th>count</th>\n",
       "      <td>9.200000e+02</td>\n",
       "      <td>9.200000e+02</td>\n",
       "      <td>920.000000</td>\n",
       "      <td>920.000000</td>\n",
       "      <td>920.000000</td>\n",
       "      <td>920.000000</td>\n",
       "      <td>9.200000e+02</td>\n",
       "      <td>920.000000</td>\n",
       "      <td>920.000000</td>\n",
       "    </tr>\n",
       "    <tr>\n",
       "      <th>mean</th>\n",
       "      <td>1.393870e+04</td>\n",
       "      <td>5.331433e+03</td>\n",
       "      <td>3.567609</td>\n",
       "      <td>2010.279348</td>\n",
       "      <td>3.070198</td>\n",
       "      <td>26113.144578</td>\n",
       "      <td>1.342890e+12</td>\n",
       "      <td>438.443478</td>\n",
       "      <td>11.678427</td>\n",
       "    </tr>\n",
       "    <tr>\n",
       "      <th>std</th>\n",
       "      <td>2.225534e+05</td>\n",
       "      <td>8.499408e+04</td>\n",
       "      <td>1.517102</td>\n",
       "      <td>4.525734</td>\n",
       "      <td>3.220871</td>\n",
       "      <td>22923.009189</td>\n",
       "      <td>2.847062e+12</td>\n",
       "      <td>258.334203</td>\n",
       "      <td>0.576048</td>\n",
       "    </tr>\n",
       "    <tr>\n",
       "      <th>min</th>\n",
       "      <td>2.040000e+00</td>\n",
       "      <td>1.000000e+00</td>\n",
       "      <td>0.800000</td>\n",
       "      <td>2000.000000</td>\n",
       "      <td>-14.758545</td>\n",
       "      <td>970.941956</td>\n",
       "      <td>2.229865e+10</td>\n",
       "      <td>32.000000</td>\n",
       "      <td>10.348279</td>\n",
       "    </tr>\n",
       "    <tr>\n",
       "      <th>25%</th>\n",
       "      <td>4.675000e+00</td>\n",
       "      <td>1.000000e+00</td>\n",
       "      <td>2.497500</td>\n",
       "      <td>2007.000000</td>\n",
       "      <td>1.601224</td>\n",
       "      <td>7495.754301</td>\n",
       "      <td>2.108125e+11</td>\n",
       "      <td>188.000000</td>\n",
       "      <td>11.323895</td>\n",
       "    </tr>\n",
       "    <tr>\n",
       "      <th>50%</th>\n",
       "      <td>1.395000e+01</td>\n",
       "      <td>5.000000e+00</td>\n",
       "      <td>3.330000</td>\n",
       "      <td>2012.000000</td>\n",
       "      <td>2.850864</td>\n",
       "      <td>14771.257650</td>\n",
       "      <td>3.945130e+11</td>\n",
       "      <td>416.000000</td>\n",
       "      <td>11.596061</td>\n",
       "    </tr>\n",
       "    <tr>\n",
       "      <th>75%</th>\n",
       "      <td>8.550000e+01</td>\n",
       "      <td>3.825000e+01</td>\n",
       "      <td>4.290000</td>\n",
       "      <td>2014.000000</td>\n",
       "      <td>4.789940</td>\n",
       "      <td>46498.842670</td>\n",
       "      <td>1.041005e+12</td>\n",
       "      <td>682.000000</td>\n",
       "      <td>12.017447</td>\n",
       "    </tr>\n",
       "    <tr>\n",
       "      <th>max</th>\n",
       "      <td>4.000000e+06</td>\n",
       "      <td>1.600500e+06</td>\n",
       "      <td>11.250000</td>\n",
       "      <td>2016.000000</td>\n",
       "      <td>25.162533</td>\n",
       "      <td>92121.421130</td>\n",
       "      <td>1.784430e+13</td>\n",
       "      <td>858.000000</td>\n",
       "      <td>13.251500</td>\n",
       "    </tr>\n",
       "  </tbody>\n",
       "</table>\n",
       "</div>"
      ],
      "text/plain": [
       "        local_price     dollar_ex  dollar_price         Year  gdp_growth  \\\n",
       "count  9.200000e+02  9.200000e+02    920.000000   920.000000  920.000000   \n",
       "mean   1.393870e+04  5.331433e+03      3.567609  2010.279348    3.070198   \n",
       "std    2.225534e+05  8.499408e+04      1.517102     4.525734    3.220871   \n",
       "min    2.040000e+00  1.000000e+00      0.800000  2000.000000  -14.758545   \n",
       "25%    4.675000e+00  1.000000e+00      2.497500  2007.000000    1.601224   \n",
       "50%    1.395000e+01  5.000000e+00      3.330000  2012.000000    2.850864   \n",
       "75%    8.550000e+01  3.825000e+01      4.290000  2014.000000    4.789940   \n",
       "max    4.000000e+06  1.600500e+06     11.250000  2016.000000   25.162533   \n",
       "\n",
       "       GDP_Per_Capita           GDP  country_code   GDP_log10  \n",
       "count      920.000000  9.200000e+02    920.000000  920.000000  \n",
       "mean     26113.144578  1.342890e+12    438.443478   11.678427  \n",
       "std      22923.009189  2.847062e+12    258.334203    0.576048  \n",
       "min        970.941956  2.229865e+10     32.000000   10.348279  \n",
       "25%       7495.754301  2.108125e+11    188.000000   11.323895  \n",
       "50%      14771.257650  3.945130e+11    416.000000   11.596061  \n",
       "75%      46498.842670  1.041005e+12    682.000000   12.017447  \n",
       "max      92121.421130  1.784430e+13    858.000000   13.251500  "
      ]
     },
     "execution_count": 6,
     "metadata": {},
     "output_type": "execute_result"
    }
   ],
   "source": [
    "df.describe()"
   ]
  },
  {
   "cell_type": "code",
   "execution_count": 7,
   "id": "d64e792a",
   "metadata": {},
   "outputs": [],
   "source": [
    "# Begining new section using entire dataset\n",
    "# Applying Linear Regression to entire dataset"
   ]
  },
  {
   "cell_type": "code",
   "execution_count": 8,
   "id": "19853f6d",
   "metadata": {},
   "outputs": [],
   "source": [
    "# Defining feature (X) and the variable (y)\n",
    "X = df.GDP_log10.values.reshape(-1,1)\n",
    "y = df.dollar_price.values.reshape(-1,1)"
   ]
  },
  {
   "cell_type": "code",
   "execution_count": 9,
   "id": "4672b7bc",
   "metadata": {},
   "outputs": [],
   "source": [
    "# Splitting the data into test and train\n",
    "from sklearn.model_selection import train_test_split\n",
    "X_train, X_test, y_train, y_test = train_test_split(X,y, test_size=0.2, random_state=2)\n",
    "\n",
    "# Instantiate linear regression model\n",
    "model = LinearRegression()\n"
   ]
  },
  {
   "cell_type": "code",
   "execution_count": 10,
   "id": "916a5bfb",
   "metadata": {},
   "outputs": [
    {
     "data": {
      "text/plain": [
       "LinearRegression()"
      ]
     },
     "execution_count": 10,
     "metadata": {},
     "output_type": "execute_result"
    }
   ],
   "source": [
    "# training the model\n",
    "model.fit(X,y)"
   ]
  },
  {
   "cell_type": "code",
   "execution_count": 11,
   "id": "3f12f0d7",
   "metadata": {},
   "outputs": [],
   "source": [
    "# Predicting the target value\n",
    "y_pred = model.predict(X)"
   ]
  },
  {
   "cell_type": "code",
   "execution_count": 12,
   "id": "3f608484",
   "metadata": {},
   "outputs": [
    {
     "data": {
      "image/png": "[encoded data removed]",
      "text/plain": [
       "<Figure size 432x288 with 1 Axes>"
      ]
     },
     "metadata": {
      "needs_background": "light"
     },
     "output_type": "display_data"
    }
   ],
   "source": [
    "# Creating a scatter plot with a regression curve\n",
    "plt.scatter(X, y)\n",
    "plt.xlabel('World log10(GDP)')\n",
    "plt.ylabel('BigMac Price ($)')\n",
    "plt.title('Linear Regression for Worldwide log10(GDP) vs BigMacPrices')\n",
    "plt.plot(X, y_pred, color='red')\n",
    "plt.show()"
   ]
  },
  {
   "cell_type": "code",
   "execution_count": 13,
   "id": "819e42d2",
   "metadata": {},
   "outputs": [
    {
     "name": "stdout",
     "output_type": "stream",
     "text": [
      "0.007917581386034933\n"
     ]
    }
   ],
   "source": [
    "# R-square for the model\n",
    "print(model.score(X,y))"
   ]
  },
  {
   "cell_type": "markdown",
   "id": "03bbfb31",
   "metadata": {},
   "source": [
    "# Applying RandomForest Regressor using multiple feature to entire dataset"
   ]
  },
  {
   "cell_type": "code",
   "execution_count": 14,
   "id": "10f316a1",
   "metadata": {
    "scrolled": true
   },
   "outputs": [],
   "source": [
    "# Dropping column \"local_price\", \"dollar_ex\" and those containing string\n",
    "df_values = df.drop(['date','currency_code', 'Country', 'Code', 'country_code', 'region', 'sub_region',\n",
    "                     'local_price', 'dollar_ex', 'GDP_log10'], axis=1)"
   ]
  },
  {
   "cell_type": "code",
   "execution_count": 15,
   "id": "41315852",
   "metadata": {
    "scrolled": false
   },
   "outputs": [
    {
     "data": {
      "text/html": [
       "<div>\n",
       "<style scoped>\n",
       "    .dataframe tbody tr th:only-of-type {\n",
       "        vertical-align: middle;\n",
       "    }\n",
       "\n",
       "    .dataframe tbody tr th {\n",
       "        vertical-align: top;\n",
       "    }\n",
       "\n",
       "    .dataframe thead th {\n",
       "        text-align: right;\n",
       "    }\n",
       "</style>\n",
       "<table border=\"1\" class=\"dataframe\">\n",
       "  <thead>\n",
       "    <tr style=\"text-align: right;\">\n",
       "      <th></th>\n",
       "      <th>dollar_price</th>\n",
       "      <th>Year</th>\n",
       "      <th>gdp_growth</th>\n",
       "      <th>GDP_Per_Capita</th>\n",
       "      <th>GDP</th>\n",
       "    </tr>\n",
       "  </thead>\n",
       "  <tbody>\n",
       "    <tr>\n",
       "      <th>0</th>\n",
       "      <td>2.50</td>\n",
       "      <td>2000</td>\n",
       "      <td>-10.894485</td>\n",
       "      <td>6854.294081</td>\n",
       "      <td>2.582820e+11</td>\n",
       "    </tr>\n",
       "    <tr>\n",
       "      <th>1</th>\n",
       "      <td>2.59</td>\n",
       "      <td>2000</td>\n",
       "      <td>4.001431</td>\n",
       "      <td>45806.687450</td>\n",
       "      <td>9.001660e+11</td>\n",
       "    </tr>\n",
       "    <tr>\n",
       "      <th>2</th>\n",
       "      <td>2.95</td>\n",
       "      <td>2000</td>\n",
       "      <td>3.053462</td>\n",
       "      <td>8954.837245</td>\n",
       "      <td>1.607730e+12</td>\n",
       "    </tr>\n",
       "    <tr>\n",
       "      <th>3</th>\n",
       "      <td>2.85</td>\n",
       "      <td>2000</td>\n",
       "      <td>3.016889</td>\n",
       "      <td>44863.216020</td>\n",
       "      <td>1.406910e+12</td>\n",
       "    </tr>\n",
       "    <tr>\n",
       "      <th>4</th>\n",
       "      <td>2.45</td>\n",
       "      <td>2000</td>\n",
       "      <td>3.106971</td>\n",
       "      <td>9814.656135</td>\n",
       "      <td>1.539370e+11</td>\n",
       "    </tr>\n",
       "  </tbody>\n",
       "</table>\n",
       "</div>"
      ],
      "text/plain": [
       "   dollar_price  Year  gdp_growth  GDP_Per_Capita           GDP\n",
       "0          2.50  2000  -10.894485     6854.294081  2.582820e+11\n",
       "1          2.59  2000    4.001431    45806.687450  9.001660e+11\n",
       "2          2.95  2000    3.053462     8954.837245  1.607730e+12\n",
       "3          2.85  2000    3.016889    44863.216020  1.406910e+12\n",
       "4          2.45  2000    3.106971     9814.656135  1.539370e+11"
      ]
     },
     "execution_count": 15,
     "metadata": {},
     "output_type": "execute_result"
    }
   ],
   "source": [
    "df_values.head()"
   ]
  },
  {
   "cell_type": "code",
   "execution_count": 16,
   "id": "94bb9d86",
   "metadata": {
    "scrolled": false
   },
   "outputs": [
    {
     "data": {
      "text/html": [
       "<div>\n",
       "<style scoped>\n",
       "    .dataframe tbody tr th:only-of-type {\n",
       "        vertical-align: middle;\n",
       "    }\n",
       "\n",
       "    .dataframe tbody tr th {\n",
       "        vertical-align: top;\n",
       "    }\n",
       "\n",
       "    .dataframe thead th {\n",
       "        text-align: right;\n",
       "    }\n",
       "</style>\n",
       "<table border=\"1\" class=\"dataframe\">\n",
       "  <thead>\n",
       "    <tr style=\"text-align: right;\">\n",
       "      <th></th>\n",
       "      <th>Year</th>\n",
       "      <th>gdp_growth</th>\n",
       "      <th>GDP_Per_Capita</th>\n",
       "      <th>GDP</th>\n",
       "    </tr>\n",
       "  </thead>\n",
       "  <tbody>\n",
       "    <tr>\n",
       "      <th>0</th>\n",
       "      <td>2000</td>\n",
       "      <td>-10.894485</td>\n",
       "      <td>6854.294081</td>\n",
       "      <td>2.582820e+11</td>\n",
       "    </tr>\n",
       "    <tr>\n",
       "      <th>1</th>\n",
       "      <td>2000</td>\n",
       "      <td>4.001431</td>\n",
       "      <td>45806.687450</td>\n",
       "      <td>9.001660e+11</td>\n",
       "    </tr>\n",
       "    <tr>\n",
       "      <th>2</th>\n",
       "      <td>2000</td>\n",
       "      <td>3.053462</td>\n",
       "      <td>8954.837245</td>\n",
       "      <td>1.607730e+12</td>\n",
       "    </tr>\n",
       "    <tr>\n",
       "      <th>3</th>\n",
       "      <td>2000</td>\n",
       "      <td>3.016889</td>\n",
       "      <td>44863.216020</td>\n",
       "      <td>1.406910e+12</td>\n",
       "    </tr>\n",
       "    <tr>\n",
       "      <th>4</th>\n",
       "      <td>2000</td>\n",
       "      <td>3.106971</td>\n",
       "      <td>9814.656135</td>\n",
       "      <td>1.539370e+11</td>\n",
       "    </tr>\n",
       "  </tbody>\n",
       "</table>\n",
       "</div>"
      ],
      "text/plain": [
       "   Year  gdp_growth  GDP_Per_Capita           GDP\n",
       "0  2000  -10.894485     6854.294081  2.582820e+11\n",
       "1  2000    4.001431    45806.687450  9.001660e+11\n",
       "2  2000    3.053462     8954.837245  1.607730e+12\n",
       "3  2000    3.016889    44863.216020  1.406910e+12\n",
       "4  2000    3.106971     9814.656135  1.539370e+11"
      ]
     },
     "execution_count": 16,
     "metadata": {},
     "output_type": "execute_result"
    }
   ],
   "source": [
    "# Defining the feature (X)\n",
    "X = df_values.drop('dollar_price', axis=1)\n",
    "X.head()"
   ]
  },
  {
   "cell_type": "code",
   "execution_count": 17,
   "id": "bd740679",
   "metadata": {},
   "outputs": [],
   "source": [
    "# Defining the target (y)\n",
    "y = df_values['dollar_price']"
   ]
  },
  {
   "cell_type": "code",
   "execution_count": 173,
   "id": "94273cf8",
   "metadata": {},
   "outputs": [
    {
     "data": {
      "text/plain": [
       "count    95.000000\n",
       "mean      3.093053\n",
       "std       0.998781\n",
       "min       1.030000\n",
       "25%       2.385000\n",
       "50%       2.950000\n",
       "75%       3.845000\n",
       "max       5.530000\n",
       "Name: dollar_price, dtype: float64"
      ]
     },
     "execution_count": 173,
     "metadata": {},
     "output_type": "execute_result"
    }
   ],
   "source": [
    "y.describe()"
   ]
  },
  {
   "cell_type": "code",
   "execution_count": 18,
   "id": "5b8d755b",
   "metadata": {
    "scrolled": true
   },
   "outputs": [
    {
     "data": {
      "text/plain": [
       "920"
      ]
     },
     "execution_count": 18,
     "metadata": {},
     "output_type": "execute_result"
    }
   ],
   "source": [
    "len(df_values)"
   ]
  },
  {
   "cell_type": "code",
   "execution_count": 19,
   "id": "2f86bfd3",
   "metadata": {},
   "outputs": [],
   "source": [
    "# Splitting the data into training and testing sets\n",
    "X_train, X_test, y_train, y_test = train_test_split(X, y, test_size=0.2, random_state= 28)"
   ]
  },
  {
   "cell_type": "code",
   "execution_count": 20,
   "id": "74853da1",
   "metadata": {},
   "outputs": [],
   "source": [
    "# # Feature Scaling\n",
    "# sc = StandardScaler()\n",
    "# X_train = sc.fit_transform(X_train)\n",
    "# X_test = sc.transform(X_test)"
   ]
  },
  {
   "cell_type": "code",
   "execution_count": 21,
   "id": "a7c72741",
   "metadata": {
    "scrolled": true
   },
   "outputs": [],
   "source": [
    "# Instantiate the model\n",
    "model = RandomForestRegressor(n_estimators= 100, random_state= 0)"
   ]
  },
  {
   "cell_type": "code",
   "execution_count": 22,
   "id": "a0023cea",
   "metadata": {
    "scrolled": true
   },
   "outputs": [
    {
     "data": {
      "text/plain": [
       "RandomForestRegressor(random_state=0)"
      ]
     },
     "execution_count": 22,
     "metadata": {},
     "output_type": "execute_result"
    }
   ],
   "source": [
    "# Fitting the model\n",
    "model.fit(X_train, y_train)"
   ]
  },
  {
   "cell_type": "code",
   "execution_count": 23,
   "id": "722c7f08",
   "metadata": {
    "scrolled": true
   },
   "outputs": [],
   "source": [
    "# Predicting the target value\n",
    "y_pred =model.predict(X_test)"
   ]
  },
  {
   "cell_type": "code",
   "execution_count": 24,
   "id": "73f718ff",
   "metadata": {},
   "outputs": [],
   "source": [
    "# RMSE is improved when columns \"local_price\" and \"dollar_ex\" are dropped\n",
    "# RMSE is best when n_estimator is kept at 10"
   ]
  },
  {
   "cell_type": "code",
   "execution_count": 25,
   "id": "32f31eaa",
   "metadata": {
    "scrolled": false
   },
   "outputs": [
    {
     "name": "stdout",
     "output_type": "stream",
     "text": [
      "0.649\n"
     ]
    }
   ],
   "source": [
    "# Root mean square error of the model\n",
    "rmse = float(format(np.sqrt(mean_squared_error(y_test, y_pred)), '.3f'))\n",
    "print(rmse)"
   ]
  },
  {
   "cell_type": "code",
   "execution_count": 26,
   "id": "cbc754e6",
   "metadata": {},
   "outputs": [
    {
     "name": "stdout",
     "output_type": "stream",
     "text": [
      "Mean Relative Error: 0.1\n"
     ]
    }
   ],
   "source": [
    "errors = abs((y_pred - y_test)/y_test)\n",
    "print('Mean Relative Error:', round(np.mean(errors), 2))"
   ]
  },
  {
   "cell_type": "code",
   "execution_count": 27,
   "id": "b4a2a499",
   "metadata": {},
   "outputs": [
    {
     "data": {
      "text/plain": [
       "array([0.12375295, 0.08884636, 0.6081627 , 0.17923799])"
      ]
     },
     "execution_count": 27,
     "metadata": {},
     "output_type": "execute_result"
    }
   ],
   "source": [
    "# Calculate feature importance in Random Forest Model\n",
    "importance = model.feature_importances_\n",
    "importance"
   ]
  },
  {
   "cell_type": "markdown",
   "id": "e4ca4d31",
   "metadata": {},
   "source": [
    "# Testing ML to a single country-Argentina"
   ]
  },
  {
   "cell_type": "code",
   "execution_count": 28,
   "id": "a1c5cdb9",
   "metadata": {},
   "outputs": [],
   "source": [
    "# Creating a new Dataframe containing entries from Argentina\n",
    "df_Argentina = df.loc[df['Country'] == \"Argentina\"]"
   ]
  },
  {
   "cell_type": "code",
   "execution_count": 29,
   "id": "777dc14d",
   "metadata": {
    "scrolled": true
   },
   "outputs": [
    {
     "data": {
      "text/html": [
       "<div>\n",
       "<style scoped>\n",
       "    .dataframe tbody tr th:only-of-type {\n",
       "        vertical-align: middle;\n",
       "    }\n",
       "\n",
       "    .dataframe tbody tr th {\n",
       "        vertical-align: top;\n",
       "    }\n",
       "\n",
       "    .dataframe thead th {\n",
       "        text-align: right;\n",
       "    }\n",
       "</style>\n",
       "<table border=\"1\" class=\"dataframe\">\n",
       "  <thead>\n",
       "    <tr style=\"text-align: right;\">\n",
       "      <th></th>\n",
       "      <th>date</th>\n",
       "      <th>currency_code</th>\n",
       "      <th>Country</th>\n",
       "      <th>local_price</th>\n",
       "      <th>dollar_ex</th>\n",
       "      <th>dollar_price</th>\n",
       "      <th>Year</th>\n",
       "      <th>Code</th>\n",
       "      <th>gdp_growth</th>\n",
       "      <th>GDP_Per_Capita</th>\n",
       "      <th>GDP</th>\n",
       "      <th>country_code</th>\n",
       "      <th>region</th>\n",
       "      <th>sub_region</th>\n",
       "      <th>GDP_log10</th>\n",
       "    </tr>\n",
       "  </thead>\n",
       "  <tbody>\n",
       "    <tr>\n",
       "      <th>0</th>\n",
       "      <td>4/1/2000</td>\n",
       "      <td>ARS</td>\n",
       "      <td>Argentina</td>\n",
       "      <td>2.5</td>\n",
       "      <td>1</td>\n",
       "      <td>2.5</td>\n",
       "      <td>2000</td>\n",
       "      <td>ARG</td>\n",
       "      <td>-10.894485</td>\n",
       "      <td>6854.294081</td>\n",
       "      <td>2.582820e+11</td>\n",
       "      <td>32</td>\n",
       "      <td>Americas</td>\n",
       "      <td>Latin America and the Caribbean</td>\n",
       "      <td>11.412094</td>\n",
       "    </tr>\n",
       "    <tr>\n",
       "      <th>22</th>\n",
       "      <td>4/1/2001</td>\n",
       "      <td>ARS</td>\n",
       "      <td>Argentina</td>\n",
       "      <td>2.5</td>\n",
       "      <td>1</td>\n",
       "      <td>2.5</td>\n",
       "      <td>2001</td>\n",
       "      <td>ARG</td>\n",
       "      <td>8.837041</td>\n",
       "      <td>7380.467087</td>\n",
       "      <td>2.811060e+11</td>\n",
       "      <td>32</td>\n",
       "      <td>Americas</td>\n",
       "      <td>Latin America and the Caribbean</td>\n",
       "      <td>11.448870</td>\n",
       "    </tr>\n",
       "  </tbody>\n",
       "</table>\n",
       "</div>"
      ],
      "text/plain": [
       "        date currency_code    Country  local_price  dollar_ex  dollar_price  \\\n",
       "0   4/1/2000           ARS  Argentina          2.5          1           2.5   \n",
       "22  4/1/2001           ARS  Argentina          2.5          1           2.5   \n",
       "\n",
       "    Year Code  gdp_growth  GDP_Per_Capita           GDP  country_code  \\\n",
       "0   2000  ARG  -10.894485     6854.294081  2.582820e+11            32   \n",
       "22  2001  ARG    8.837041     7380.467087  2.811060e+11            32   \n",
       "\n",
       "      region                       sub_region  GDP_log10  \n",
       "0   Americas  Latin America and the Caribbean  11.412094  \n",
       "22  Americas  Latin America and the Caribbean  11.448870  "
      ]
     },
     "execution_count": 29,
     "metadata": {},
     "output_type": "execute_result"
    }
   ],
   "source": [
    "df_Argentina.head(2)"
   ]
  },
  {
   "cell_type": "markdown",
   "id": "ee813330",
   "metadata": {},
   "source": [
    "# Applying Linear Regression Model"
   ]
  },
  {
   "cell_type": "code",
   "execution_count": 30,
   "id": "a50fcbeb",
   "metadata": {},
   "outputs": [],
   "source": [
    "# Defining feature (X) and the variable (y)\n",
    "X = df_Argentina.GDP_log10.values.reshape(-1,1)\n",
    "y = df_Argentina.dollar_price.values.reshape(-1,1)"
   ]
  },
  {
   "cell_type": "code",
   "execution_count": 31,
   "id": "43286295",
   "metadata": {},
   "outputs": [],
   "source": [
    "# Splitting the data into test and train\n",
    "from sklearn.model_selection import train_test_split\n",
    "X_train, X_test, y_train, y_test = train_test_split(X,y, test_size=0.2, random_state=2)\n",
    "\n",
    "# Instantiate linear regression model\n",
    "model = LinearRegression()\n"
   ]
  },
  {
   "cell_type": "code",
   "execution_count": 32,
   "id": "8c571eaf",
   "metadata": {},
   "outputs": [
    {
     "data": {
      "text/plain": [
       "LinearRegression()"
      ]
     },
     "execution_count": 32,
     "metadata": {},
     "output_type": "execute_result"
    }
   ],
   "source": [
    "# training the model\n",
    "model.fit(X,y)"
   ]
  },
  {
   "cell_type": "code",
   "execution_count": 33,
   "id": "1cb4b396",
   "metadata": {},
   "outputs": [],
   "source": [
    "# Predicting the target value\n",
    "y_pred = model.predict(X)"
   ]
  },
  {
   "cell_type": "code",
   "execution_count": 34,
   "id": "b4e03165",
   "metadata": {},
   "outputs": [
    {
     "data": {
      "image/png": "[encoded data removed]",
      "text/plain": [
       "<Figure size 432x288 with 1 Axes>"
      ]
     },
     "metadata": {
      "needs_background": "light"
     },
     "output_type": "display_data"
    }
   ],
   "source": [
    "# Creating a scatter plot with a regression curve\n",
    "plt.scatter(X, y)\n",
    "plt.xlabel('Argentina log10(GDP)')\n",
    "plt.ylabel('BigMac Price ($)')\n",
    "plt.title('Linear Regression for Argentina log10(GDP) vs BigMacPrices')\n",
    "plt.plot(X, y_pred, color='red')\n",
    "plt.show()"
   ]
  },
  {
   "cell_type": "code",
   "execution_count": 35,
   "id": "aa7faeb9",
   "metadata": {},
   "outputs": [
    {
     "name": "stdout",
     "output_type": "stream",
     "text": [
      "0.3418195242066663\n"
     ]
    }
   ],
   "source": [
    "# R-square for the model\n",
    "print(model.score(X,y))"
   ]
  },
  {
   "cell_type": "code",
   "execution_count": 36,
   "id": "ead0bf1f",
   "metadata": {},
   "outputs": [],
   "source": [
    "# This model could not find a good corelation between the feature and target as indicated by low R-square value"
   ]
  },
  {
   "cell_type": "markdown",
   "id": "b62ea876",
   "metadata": {},
   "source": [
    "# Applying Linear Regression to Argentina GDP_Per_Capita"
   ]
  },
  {
   "cell_type": "code",
   "execution_count": 37,
   "id": "0b3194c9",
   "metadata": {},
   "outputs": [],
   "source": [
    "# Using per capita GDP as X and dollar_price as y\n",
    "X = df_Argentina.GDP_Per_Capita.values.reshape(-1,1)\n",
    "y = df_Argentina.dollar_price.values.reshape(-1,1)"
   ]
  },
  {
   "cell_type": "code",
   "execution_count": 38,
   "id": "61adb384",
   "metadata": {},
   "outputs": [],
   "source": [
    "from sklearn.model_selection import train_test_split\n",
    "X_train, X_test, y_train, y_test = train_test_split(X,y, test_size=0.2, random_state=2)\n",
    "\n",
    "# Instantiate linear regression model\n",
    "model = LinearRegression()\n"
   ]
  },
  {
   "cell_type": "code",
   "execution_count": 39,
   "id": "e089643c",
   "metadata": {
    "scrolled": true
   },
   "outputs": [
    {
     "data": {
      "text/plain": [
       "LinearRegression()"
      ]
     },
     "execution_count": 39,
     "metadata": {},
     "output_type": "execute_result"
    }
   ],
   "source": [
    "# training the model\n",
    "model.fit(X,y)"
   ]
  },
  {
   "cell_type": "code",
   "execution_count": 40,
   "id": "9cf7b0e0",
   "metadata": {},
   "outputs": [],
   "source": [
    "# Predicting target value for the data set\n",
    "y_pred = model.predict(X)"
   ]
  },
  {
   "cell_type": "code",
   "execution_count": 41,
   "id": "998286d3",
   "metadata": {
    "scrolled": false
   },
   "outputs": [
    {
     "data": {
      "image/png": "[encoded data removed]",
      "text/plain": [
       "<Figure size 432x288 with 1 Axes>"
      ]
     },
     "metadata": {
      "needs_background": "light"
     },
     "output_type": "display_data"
    }
   ],
   "source": [
    "# Creating a scatter plot with a regression curve\n",
    "plt.scatter(X, y)\n",
    "plt.xlabel('Argentina Per Capita GDP')\n",
    "plt.ylabel('BigMac Price ($)')\n",
    "plt.title('Linear Regression for Argentina Per Capita GDP vs BigMacPrices')\n",
    "plt.plot(X, y_pred, color='red')\n",
    "plt.show()"
   ]
  },
  {
   "cell_type": "code",
   "execution_count": 42,
   "id": "5468ce12",
   "metadata": {},
   "outputs": [
    {
     "name": "stdout",
     "output_type": "stream",
     "text": [
      "0.32965882851456674\n"
     ]
    }
   ],
   "source": [
    "# R-square for the model\n",
    "print(model.score(X,y))"
   ]
  },
  {
   "cell_type": "code",
   "execution_count": 43,
   "id": "5f8ea995",
   "metadata": {},
   "outputs": [],
   "source": [
    "# No corelation was observed when Linear Regression was applied to GDP_Per_Capita (feature) and dollar_price (target)"
   ]
  },
  {
   "cell_type": "markdown",
   "id": "81fca4ea",
   "metadata": {},
   "source": [
    "# Applying RandomForest Regressor to Argentina"
   ]
  },
  {
   "cell_type": "code",
   "execution_count": 44,
   "id": "bd04e456",
   "metadata": {},
   "outputs": [
    {
     "data": {
      "text/html": [
       "<div>\n",
       "<style scoped>\n",
       "    .dataframe tbody tr th:only-of-type {\n",
       "        vertical-align: middle;\n",
       "    }\n",
       "\n",
       "    .dataframe tbody tr th {\n",
       "        vertical-align: top;\n",
       "    }\n",
       "\n",
       "    .dataframe thead th {\n",
       "        text-align: right;\n",
       "    }\n",
       "</style>\n",
       "<table border=\"1\" class=\"dataframe\">\n",
       "  <thead>\n",
       "    <tr style=\"text-align: right;\">\n",
       "      <th></th>\n",
       "      <th>date</th>\n",
       "      <th>currency_code</th>\n",
       "      <th>Country</th>\n",
       "      <th>local_price</th>\n",
       "      <th>dollar_ex</th>\n",
       "      <th>dollar_price</th>\n",
       "      <th>Year</th>\n",
       "      <th>Code</th>\n",
       "      <th>gdp_growth</th>\n",
       "      <th>GDP_Per_Capita</th>\n",
       "      <th>GDP</th>\n",
       "      <th>country_code</th>\n",
       "      <th>region</th>\n",
       "      <th>sub_region</th>\n",
       "      <th>GDP_log10</th>\n",
       "    </tr>\n",
       "  </thead>\n",
       "  <tbody>\n",
       "    <tr>\n",
       "      <th>0</th>\n",
       "      <td>4/1/2000</td>\n",
       "      <td>ARS</td>\n",
       "      <td>Argentina</td>\n",
       "      <td>2.5</td>\n",
       "      <td>1</td>\n",
       "      <td>2.5</td>\n",
       "      <td>2000</td>\n",
       "      <td>ARG</td>\n",
       "      <td>-10.894485</td>\n",
       "      <td>6854.294081</td>\n",
       "      <td>2.582820e+11</td>\n",
       "      <td>32</td>\n",
       "      <td>Americas</td>\n",
       "      <td>Latin America and the Caribbean</td>\n",
       "      <td>11.412094</td>\n",
       "    </tr>\n",
       "    <tr>\n",
       "      <th>22</th>\n",
       "      <td>4/1/2001</td>\n",
       "      <td>ARS</td>\n",
       "      <td>Argentina</td>\n",
       "      <td>2.5</td>\n",
       "      <td>1</td>\n",
       "      <td>2.5</td>\n",
       "      <td>2001</td>\n",
       "      <td>ARG</td>\n",
       "      <td>8.837041</td>\n",
       "      <td>7380.467087</td>\n",
       "      <td>2.811060e+11</td>\n",
       "      <td>32</td>\n",
       "      <td>Americas</td>\n",
       "      <td>Latin America and the Caribbean</td>\n",
       "      <td>11.448870</td>\n",
       "    </tr>\n",
       "  </tbody>\n",
       "</table>\n",
       "</div>"
      ],
      "text/plain": [
       "        date currency_code    Country  local_price  dollar_ex  dollar_price  \\\n",
       "0   4/1/2000           ARS  Argentina          2.5          1           2.5   \n",
       "22  4/1/2001           ARS  Argentina          2.5          1           2.5   \n",
       "\n",
       "    Year Code  gdp_growth  GDP_Per_Capita           GDP  country_code  \\\n",
       "0   2000  ARG  -10.894485     6854.294081  2.582820e+11            32   \n",
       "22  2001  ARG    8.837041     7380.467087  2.811060e+11            32   \n",
       "\n",
       "      region                       sub_region  GDP_log10  \n",
       "0   Americas  Latin America and the Caribbean  11.412094  \n",
       "22  Americas  Latin America and the Caribbean  11.448870  "
      ]
     },
     "execution_count": 44,
     "metadata": {},
     "output_type": "execute_result"
    }
   ],
   "source": [
    "df_Argentina.head(2)"
   ]
  },
  {
   "cell_type": "code",
   "execution_count": 45,
   "id": "31514a94",
   "metadata": {},
   "outputs": [],
   "source": [
    "# Dropping columns \"local_price\", \"dollar_ex\" and columns with strings\n",
    "df_Argentina_modified = df_Argentina.drop(['date','currency_code', 'Country', 'Code', 'country_code', 'region', 'sub_region', 'local_price', 'dollar_ex'], axis =1)"
   ]
  },
  {
   "cell_type": "code",
   "execution_count": 46,
   "id": "e6659279",
   "metadata": {
    "scrolled": true
   },
   "outputs": [],
   "source": [
    "# Defining Feature(X) and variable (y)\n",
    "X = df_Argentina_modified.drop('dollar_price', axis=1)\n",
    "y = df_Argentina_modified.dollar_price"
   ]
  },
  {
   "cell_type": "code",
   "execution_count": 47,
   "id": "81bb01bf",
   "metadata": {
    "scrolled": false
   },
   "outputs": [
    {
     "data": {
      "text/html": [
       "<div>\n",
       "<style scoped>\n",
       "    .dataframe tbody tr th:only-of-type {\n",
       "        vertical-align: middle;\n",
       "    }\n",
       "\n",
       "    .dataframe tbody tr th {\n",
       "        vertical-align: top;\n",
       "    }\n",
       "\n",
       "    .dataframe thead th {\n",
       "        text-align: right;\n",
       "    }\n",
       "</style>\n",
       "<table border=\"1\" class=\"dataframe\">\n",
       "  <thead>\n",
       "    <tr style=\"text-align: right;\">\n",
       "      <th></th>\n",
       "      <th>Year</th>\n",
       "      <th>gdp_growth</th>\n",
       "      <th>GDP_Per_Capita</th>\n",
       "      <th>GDP</th>\n",
       "      <th>GDP_log10</th>\n",
       "    </tr>\n",
       "  </thead>\n",
       "  <tbody>\n",
       "    <tr>\n",
       "      <th>0</th>\n",
       "      <td>2000</td>\n",
       "      <td>-10.894485</td>\n",
       "      <td>6854.294081</td>\n",
       "      <td>2.582820e+11</td>\n",
       "      <td>11.412094</td>\n",
       "    </tr>\n",
       "    <tr>\n",
       "      <th>22</th>\n",
       "      <td>2001</td>\n",
       "      <td>8.837041</td>\n",
       "      <td>7380.467087</td>\n",
       "      <td>2.811060e+11</td>\n",
       "      <td>11.448870</td>\n",
       "    </tr>\n",
       "    <tr>\n",
       "      <th>44</th>\n",
       "      <td>2002</td>\n",
       "      <td>9.029573</td>\n",
       "      <td>7962.412309</td>\n",
       "      <td>3.064890e+11</td>\n",
       "      <td>11.486415</td>\n",
       "    </tr>\n",
       "    <tr>\n",
       "      <th>70</th>\n",
       "      <td>2003</td>\n",
       "      <td>8.851660</td>\n",
       "      <td>8577.864994</td>\n",
       "      <td>3.336180e+11</td>\n",
       "      <td>11.523249</td>\n",
       "    </tr>\n",
       "    <tr>\n",
       "      <th>94</th>\n",
       "      <td>2004</td>\n",
       "      <td>8.047152</td>\n",
       "      <td>9174.502458</td>\n",
       "      <td>3.604650e+11</td>\n",
       "      <td>11.556863</td>\n",
       "    </tr>\n",
       "  </tbody>\n",
       "</table>\n",
       "</div>"
      ],
      "text/plain": [
       "    Year  gdp_growth  GDP_Per_Capita           GDP  GDP_log10\n",
       "0   2000  -10.894485     6854.294081  2.582820e+11  11.412094\n",
       "22  2001    8.837041     7380.467087  2.811060e+11  11.448870\n",
       "44  2002    9.029573     7962.412309  3.064890e+11  11.486415\n",
       "70  2003    8.851660     8577.864994  3.336180e+11  11.523249\n",
       "94  2004    8.047152     9174.502458  3.604650e+11  11.556863"
      ]
     },
     "execution_count": 47,
     "metadata": {},
     "output_type": "execute_result"
    }
   ],
   "source": [
    "X.head()"
   ]
  },
  {
   "cell_type": "code",
   "execution_count": 48,
   "id": "9a756260",
   "metadata": {
    "scrolled": false
   },
   "outputs": [
    {
     "data": {
      "text/plain": [
       "count    25.000000\n",
       "mean      3.155600\n",
       "std       1.123366\n",
       "min       0.830000\n",
       "25%       2.380000\n",
       "50%       2.750000\n",
       "75%       3.830000\n",
       "max       5.000000\n",
       "Name: dollar_price, dtype: float64"
      ]
     },
     "execution_count": 48,
     "metadata": {},
     "output_type": "execute_result"
    }
   ],
   "source": [
    "df_Argentina_modified.dollar_price.describe()"
   ]
  },
  {
   "cell_type": "code",
   "execution_count": 49,
   "id": "c0fa7752",
   "metadata": {},
   "outputs": [],
   "source": [
    "# Splitting the data set into training and testing set\n",
    "X_train, X_test, y_train, y_test = train_test_split(X, y, test_size=0.2, random_state= 28)"
   ]
  },
  {
   "cell_type": "code",
   "execution_count": 50,
   "id": "6462b47c",
   "metadata": {},
   "outputs": [],
   "source": [
    "# Instantiate the RadomForestRegressor\n",
    "model = RandomForestRegressor(n_estimators= 10, random_state= 0)"
   ]
  },
  {
   "cell_type": "code",
   "execution_count": 51,
   "id": "25e1483e",
   "metadata": {
    "scrolled": true
   },
   "outputs": [
    {
     "data": {
      "text/plain": [
       "RandomForestRegressor(n_estimators=10, random_state=0)"
      ]
     },
     "execution_count": 51,
     "metadata": {},
     "output_type": "execute_result"
    }
   ],
   "source": [
    "# Fitting the model\n",
    "model.fit(X_train, y_train)"
   ]
  },
  {
   "cell_type": "code",
   "execution_count": 52,
   "id": "330297a4",
   "metadata": {},
   "outputs": [],
   "source": [
    "# Predicting the target value\n",
    "y_pred =model.predict(X_test)"
   ]
  },
  {
   "cell_type": "code",
   "execution_count": 53,
   "id": "22a9da3e",
   "metadata": {
    "scrolled": true
   },
   "outputs": [
    {
     "name": "stdout",
     "output_type": "stream",
     "text": [
      "0.576\n"
     ]
    }
   ],
   "source": [
    "# Root mean square error of the model\n",
    "rmse = float(format(np.sqrt(mean_squared_error(y_test, y_pred)), '.3f'))\n",
    "print(rmse)"
   ]
  },
  {
   "cell_type": "code",
   "execution_count": 54,
   "id": "40d251ba",
   "metadata": {},
   "outputs": [
    {
     "name": "stdout",
     "output_type": "stream",
     "text": [
      "Mean Relative Error: 0.14\n"
     ]
    }
   ],
   "source": [
    "errors = abs((y_pred - y_test)/y_test)\n",
    "print('Mean Relative Error:', round(np.mean(errors), 2))"
   ]
  },
  {
   "cell_type": "markdown",
   "id": "d3bc6c98",
   "metadata": {},
   "source": [
    "# Ending Argentina Section"
   ]
  },
  {
   "cell_type": "markdown",
   "id": "58edba63",
   "metadata": {},
   "source": [
    "# Applying ML to Canada"
   ]
  },
  {
   "cell_type": "code",
   "execution_count": null,
   "id": "80247452",
   "metadata": {},
   "outputs": [],
   "source": []
  },
  {
   "cell_type": "code",
   "execution_count": 55,
   "id": "421f0299",
   "metadata": {},
   "outputs": [],
   "source": [
    "# Creating a new Dataframe containing entries from Canada\n",
    "df_Canada = df.loc[df['Country'] == \"Canada\"]"
   ]
  },
  {
   "cell_type": "code",
   "execution_count": 56,
   "id": "57079210",
   "metadata": {
    "scrolled": true
   },
   "outputs": [
    {
     "data": {
      "text/plain": [
       "25"
      ]
     },
     "execution_count": 56,
     "metadata": {},
     "output_type": "execute_result"
    }
   ],
   "source": [
    "len(df_Canada)"
   ]
  },
  {
   "cell_type": "markdown",
   "id": "1a6d8ccc",
   "metadata": {},
   "source": [
    "# Applying Linear Regression Model"
   ]
  },
  {
   "cell_type": "code",
   "execution_count": 57,
   "id": "b20f47bf",
   "metadata": {},
   "outputs": [],
   "source": [
    "# Defining the feature (X) and target (y)\n",
    "X = df_Canada.GDP_log10.values.reshape(-1,1)\n",
    "y = df_Canada.dollar_price.values.reshape(-1,1)"
   ]
  },
  {
   "cell_type": "code",
   "execution_count": 58,
   "id": "cb28b8c0",
   "metadata": {},
   "outputs": [],
   "source": [
    "# Splitting the dataset into traning and testing set\n",
    "from sklearn.model_selection import train_test_split\n",
    "X_train, X_test, y_train, y_test = train_test_split(X,y, test_size=0.2, random_state=2)\n",
    "\n",
    "# Instantiate linear regression model\n",
    "model = LinearRegression()\n"
   ]
  },
  {
   "cell_type": "code",
   "execution_count": 59,
   "id": "4f31d3e3",
   "metadata": {},
   "outputs": [
    {
     "data": {
      "text/plain": [
       "LinearRegression()"
      ]
     },
     "execution_count": 59,
     "metadata": {},
     "output_type": "execute_result"
    }
   ],
   "source": [
    "# training the model\n",
    "model.fit(X,y)"
   ]
  },
  {
   "cell_type": "code",
   "execution_count": 60,
   "id": "c1d2688c",
   "metadata": {},
   "outputs": [],
   "source": [
    "# Predicting the target value\n",
    "y_pred = model.predict(X)"
   ]
  },
  {
   "cell_type": "code",
   "execution_count": 61,
   "id": "7bb54f52",
   "metadata": {
    "scrolled": true
   },
   "outputs": [
    {
     "data": {
      "image/png": "[encoded data removed]",
      "text/plain": [
       "<Figure size 432x288 with 1 Axes>"
      ]
     },
     "metadata": {
      "needs_background": "light"
     },
     "output_type": "display_data"
    }
   ],
   "source": [
    "# Creating a scatter plot with a regression curve\n",
    "plt.scatter(X, y)\n",
    "plt.xlabel('Canada log10(GDP)')\n",
    "plt.ylabel('BigMac Price ($)')\n",
    "plt.title('Linear Regression for Canadian log10(GDP) vs BigMacPrices')\n",
    "plt.plot(X, y_pred, color='red')\n",
    "plt.show()"
   ]
  },
  {
   "cell_type": "code",
   "execution_count": 62,
   "id": "1946a2c5",
   "metadata": {
    "scrolled": true
   },
   "outputs": [
    {
     "name": "stdout",
     "output_type": "stream",
     "text": [
      "0.8913161586943812\n"
     ]
    }
   ],
   "source": [
    "# R-square for the model\n",
    "print(model.score(X,y))"
   ]
  },
  {
   "cell_type": "markdown",
   "id": "eaba39f2",
   "metadata": {},
   "source": [
    "# Applying RandomForest Regressor to Canada"
   ]
  },
  {
   "cell_type": "code",
   "execution_count": 63,
   "id": "6146455c",
   "metadata": {},
   "outputs": [],
   "source": [
    "# Dropping columns \"local_price\", dollar_ex\" and those containing strings\n",
    "df_Canada_modified = df_Canada.drop(['date','currency_code', 'Country', 'Code', \n",
    "                                     'country_code', 'region', 'sub_region', 'local_price', \n",
    "                                     'dollar_ex', 'GDP_log10'], axis =1)"
   ]
  },
  {
   "cell_type": "code",
   "execution_count": 64,
   "id": "2fba61e7",
   "metadata": {
    "scrolled": false
   },
   "outputs": [
    {
     "data": {
      "text/html": [
       "<div>\n",
       "<style scoped>\n",
       "    .dataframe tbody tr th:only-of-type {\n",
       "        vertical-align: middle;\n",
       "    }\n",
       "\n",
       "    .dataframe tbody tr th {\n",
       "        vertical-align: top;\n",
       "    }\n",
       "\n",
       "    .dataframe thead th {\n",
       "        text-align: right;\n",
       "    }\n",
       "</style>\n",
       "<table border=\"1\" class=\"dataframe\">\n",
       "  <thead>\n",
       "    <tr style=\"text-align: right;\">\n",
       "      <th></th>\n",
       "      <th>dollar_price</th>\n",
       "      <th>Year</th>\n",
       "      <th>gdp_growth</th>\n",
       "      <th>GDP_Per_Capita</th>\n",
       "      <th>GDP</th>\n",
       "    </tr>\n",
       "  </thead>\n",
       "  <tbody>\n",
       "    <tr>\n",
       "      <th>3</th>\n",
       "      <td>2.85</td>\n",
       "      <td>2000</td>\n",
       "      <td>3.016889</td>\n",
       "      <td>44863.21602</td>\n",
       "      <td>1.406910e+12</td>\n",
       "    </tr>\n",
       "    <tr>\n",
       "      <th>21</th>\n",
       "      <td>3.33</td>\n",
       "      <td>2001</td>\n",
       "      <td>1.800895</td>\n",
       "      <td>45261.33806</td>\n",
       "      <td>1.432250e+12</td>\n",
       "    </tr>\n",
       "    <tr>\n",
       "      <th>25</th>\n",
       "      <td>3.33</td>\n",
       "      <td>2002</td>\n",
       "      <td>3.087256</td>\n",
       "      <td>46225.36087</td>\n",
       "      <td>1.476470e+12</td>\n",
       "    </tr>\n",
       "    <tr>\n",
       "      <th>43</th>\n",
       "      <td>3.20</td>\n",
       "      <td>2003</td>\n",
       "      <td>3.202910</td>\n",
       "      <td>47257.47220</td>\n",
       "      <td>1.523760e+12</td>\n",
       "    </tr>\n",
       "    <tr>\n",
       "      <th>47</th>\n",
       "      <td>3.19</td>\n",
       "      <td>2004</td>\n",
       "      <td>2.634566</td>\n",
       "      <td>48014.93120</td>\n",
       "      <td>1.563900e+12</td>\n",
       "    </tr>\n",
       "  </tbody>\n",
       "</table>\n",
       "</div>"
      ],
      "text/plain": [
       "    dollar_price  Year  gdp_growth  GDP_Per_Capita           GDP\n",
       "3           2.85  2000    3.016889     44863.21602  1.406910e+12\n",
       "21          3.33  2001    1.800895     45261.33806  1.432250e+12\n",
       "25          3.33  2002    3.087256     46225.36087  1.476470e+12\n",
       "43          3.20  2003    3.202910     47257.47220  1.523760e+12\n",
       "47          3.19  2004    2.634566     48014.93120  1.563900e+12"
      ]
     },
     "execution_count": 64,
     "metadata": {},
     "output_type": "execute_result"
    }
   ],
   "source": [
    "df_Canada_modified.head()"
   ]
  },
  {
   "cell_type": "code",
   "execution_count": 65,
   "id": "4a038275",
   "metadata": {
    "scrolled": true
   },
   "outputs": [],
   "source": [
    "# Defining Feature(X) and variable (y)\n",
    "X = df_Canada_modified.drop('dollar_price', axis=1)\n",
    "y = df_Canada_modified.dollar_price"
   ]
  },
  {
   "cell_type": "code",
   "execution_count": 66,
   "id": "5f2f762c",
   "metadata": {
    "scrolled": true
   },
   "outputs": [
    {
     "data": {
      "text/html": [
       "<div>\n",
       "<style scoped>\n",
       "    .dataframe tbody tr th:only-of-type {\n",
       "        vertical-align: middle;\n",
       "    }\n",
       "\n",
       "    .dataframe tbody tr th {\n",
       "        vertical-align: top;\n",
       "    }\n",
       "\n",
       "    .dataframe thead th {\n",
       "        text-align: right;\n",
       "    }\n",
       "</style>\n",
       "<table border=\"1\" class=\"dataframe\">\n",
       "  <thead>\n",
       "    <tr style=\"text-align: right;\">\n",
       "      <th></th>\n",
       "      <th>Year</th>\n",
       "      <th>gdp_growth</th>\n",
       "      <th>GDP_Per_Capita</th>\n",
       "      <th>GDP</th>\n",
       "    </tr>\n",
       "  </thead>\n",
       "  <tbody>\n",
       "    <tr>\n",
       "      <th>3</th>\n",
       "      <td>2000</td>\n",
       "      <td>3.016889</td>\n",
       "      <td>44863.21602</td>\n",
       "      <td>1.406910e+12</td>\n",
       "    </tr>\n",
       "    <tr>\n",
       "      <th>21</th>\n",
       "      <td>2001</td>\n",
       "      <td>1.800895</td>\n",
       "      <td>45261.33806</td>\n",
       "      <td>1.432250e+12</td>\n",
       "    </tr>\n",
       "    <tr>\n",
       "      <th>25</th>\n",
       "      <td>2002</td>\n",
       "      <td>3.087256</td>\n",
       "      <td>46225.36087</td>\n",
       "      <td>1.476470e+12</td>\n",
       "    </tr>\n",
       "    <tr>\n",
       "      <th>43</th>\n",
       "      <td>2003</td>\n",
       "      <td>3.202910</td>\n",
       "      <td>47257.47220</td>\n",
       "      <td>1.523760e+12</td>\n",
       "    </tr>\n",
       "    <tr>\n",
       "      <th>47</th>\n",
       "      <td>2004</td>\n",
       "      <td>2.634566</td>\n",
       "      <td>48014.93120</td>\n",
       "      <td>1.563900e+12</td>\n",
       "    </tr>\n",
       "  </tbody>\n",
       "</table>\n",
       "</div>"
      ],
      "text/plain": [
       "    Year  gdp_growth  GDP_Per_Capita           GDP\n",
       "3   2000    3.016889     44863.21602  1.406910e+12\n",
       "21  2001    1.800895     45261.33806  1.432250e+12\n",
       "25  2002    3.087256     46225.36087  1.476470e+12\n",
       "43  2003    3.202910     47257.47220  1.523760e+12\n",
       "47  2004    2.634566     48014.93120  1.563900e+12"
      ]
     },
     "execution_count": 66,
     "metadata": {},
     "output_type": "execute_result"
    }
   ],
   "source": [
    "X.head()"
   ]
  },
  {
   "cell_type": "code",
   "execution_count": 67,
   "id": "2eaa1c04",
   "metadata": {},
   "outputs": [
    {
     "data": {
      "text/plain": [
       "count    25.000000\n",
       "mean      4.403600\n",
       "std       1.041765\n",
       "min       2.850000\n",
       "25%       3.520000\n",
       "50%       4.120000\n",
       "75%       5.530000\n",
       "max       6.000000\n",
       "Name: dollar_price, dtype: float64"
      ]
     },
     "execution_count": 67,
     "metadata": {},
     "output_type": "execute_result"
    }
   ],
   "source": [
    "df_Canada_modified.dollar_price.describe()"
   ]
  },
  {
   "cell_type": "code",
   "execution_count": 68,
   "id": "4f644e47",
   "metadata": {},
   "outputs": [],
   "source": [
    "# Splitting the dataset into training and testing sets\n",
    "X_train, X_test, y_train, y_test = train_test_split(X, y, test_size=0.2, random_state= 28)"
   ]
  },
  {
   "cell_type": "code",
   "execution_count": 69,
   "id": "29bdeb30",
   "metadata": {},
   "outputs": [],
   "source": [
    "# Instantiate the RandomForestRegression Model\n",
    "model = RandomForestRegressor(n_estimators= 10, random_state= 0)"
   ]
  },
  {
   "cell_type": "code",
   "execution_count": 70,
   "id": "c20eaaf0",
   "metadata": {},
   "outputs": [
    {
     "data": {
      "text/plain": [
       "RandomForestRegressor(n_estimators=10, random_state=0)"
      ]
     },
     "execution_count": 70,
     "metadata": {},
     "output_type": "execute_result"
    }
   ],
   "source": [
    "# Fitting the model\n",
    "model.fit(X_train, y_train)"
   ]
  },
  {
   "cell_type": "code",
   "execution_count": 71,
   "id": "4ecaed8c",
   "metadata": {},
   "outputs": [],
   "source": [
    "# Predicting the target value\n",
    "y_pred =model.predict(X_test)"
   ]
  },
  {
   "cell_type": "code",
   "execution_count": 72,
   "id": "c3120b8f",
   "metadata": {},
   "outputs": [
    {
     "name": "stdout",
     "output_type": "stream",
     "text": [
      "0.222\n"
     ]
    }
   ],
   "source": [
    "# Root mean square error of the model\n",
    "rmse = float(format(np.sqrt(mean_squared_error(y_test, y_pred)), '.3f'))\n",
    "print(rmse)"
   ]
  },
  {
   "cell_type": "code",
   "execution_count": 73,
   "id": "d1066dcf",
   "metadata": {},
   "outputs": [
    {
     "name": "stdout",
     "output_type": "stream",
     "text": [
      "Mean Relative Error: 0.03\n"
     ]
    }
   ],
   "source": [
    "errors = abs((y_pred - y_test)/y_test)\n",
    "print('Mean Relative Error:', round(np.mean(errors), 2))"
   ]
  },
  {
   "cell_type": "code",
   "execution_count": 74,
   "id": "1abb5600",
   "metadata": {},
   "outputs": [
    {
     "data": {
      "text/plain": [
       "array([0.39680772, 0.00921104, 0.10425346, 0.48972779])"
      ]
     },
     "execution_count": 74,
     "metadata": {},
     "output_type": "execute_result"
    }
   ],
   "source": [
    "# Calculate feature importance in Random Forest Model\n",
    "importance = model.feature_importances_\n",
    "importance"
   ]
  },
  {
   "cell_type": "markdown",
   "id": "25bea326",
   "metadata": {},
   "source": [
    "# End Section"
   ]
  },
  {
   "cell_type": "markdown",
   "id": "0095f076",
   "metadata": {},
   "source": [
    "# Applying ML to United States"
   ]
  },
  {
   "cell_type": "code",
   "execution_count": 75,
   "id": "da44af05",
   "metadata": {},
   "outputs": [],
   "source": [
    "# Creating a new Dataframe containing entries from United States\n",
    "df_USA = df.loc[df['Country'] == \"United States\"]"
   ]
  },
  {
   "cell_type": "code",
   "execution_count": 76,
   "id": "db04bbef",
   "metadata": {
    "scrolled": true
   },
   "outputs": [
    {
     "data": {
      "text/plain": [
       "25"
      ]
     },
     "execution_count": 76,
     "metadata": {},
     "output_type": "execute_result"
    }
   ],
   "source": [
    "len(df_USA)"
   ]
  },
  {
   "cell_type": "markdown",
   "id": "5931ae29",
   "metadata": {},
   "source": [
    "# Applying Linear Regression Model"
   ]
  },
  {
   "cell_type": "code",
   "execution_count": 77,
   "id": "f0c68b82",
   "metadata": {},
   "outputs": [],
   "source": [
    "# Defining the feature (X) and target (y)\n",
    "X = df_USA.GDP_log10.values.reshape(-1,1)\n",
    "y = df_USA.dollar_price.values.reshape(-1,1)"
   ]
  },
  {
   "cell_type": "code",
   "execution_count": 78,
   "id": "69d4ebad",
   "metadata": {},
   "outputs": [],
   "source": [
    "# Splitting the dataset into training and testing set\n",
    "from sklearn.model_selection import train_test_split\n",
    "X_train, X_test, y_train, y_test = train_test_split(X,y, test_size=0.2, random_state=2)\n",
    "\n",
    "# Instantiate linear regression model\n",
    "model = LinearRegression()\n"
   ]
  },
  {
   "cell_type": "code",
   "execution_count": 79,
   "id": "35c3ebd3",
   "metadata": {},
   "outputs": [
    {
     "data": {
      "text/plain": [
       "LinearRegression()"
      ]
     },
     "execution_count": 79,
     "metadata": {},
     "output_type": "execute_result"
    }
   ],
   "source": [
    "# training the model\n",
    "model.fit(X,y)"
   ]
  },
  {
   "cell_type": "code",
   "execution_count": 80,
   "id": "2765e0f1",
   "metadata": {},
   "outputs": [],
   "source": [
    "# Predicting the target value\n",
    "y_pred = model.predict(X)"
   ]
  },
  {
   "cell_type": "code",
   "execution_count": 81,
   "id": "0666e38b",
   "metadata": {
    "scrolled": true
   },
   "outputs": [
    {
     "data": {
      "image/png": "[encoded data removed]",
      "text/plain": [
       "<Figure size 432x288 with 1 Axes>"
      ]
     },
     "metadata": {
      "needs_background": "light"
     },
     "output_type": "display_data"
    }
   ],
   "source": [
    "# Creating a scatter plot with a regression curve\n",
    "plt.scatter(X, y)\n",
    "plt.xlabel('United States log10(GDP)')\n",
    "plt.ylabel('BigMac Price ($)')\n",
    "plt.title('Linear Regression for US log10(GDP) vs BigMacPrices')\n",
    "plt.plot(X, y_pred, color='red')\n",
    "plt.show()"
   ]
  },
  {
   "cell_type": "code",
   "execution_count": 82,
   "id": "0cf34617",
   "metadata": {
    "scrolled": true
   },
   "outputs": [
    {
     "name": "stdout",
     "output_type": "stream",
     "text": [
      "0.9106321084063902\n"
     ]
    }
   ],
   "source": [
    "# R-square for the model\n",
    "print(model.score(X,y))"
   ]
  },
  {
   "cell_type": "markdown",
   "id": "75bd296f",
   "metadata": {},
   "source": [
    "# Applying RandomForest Regressor to USA"
   ]
  },
  {
   "cell_type": "code",
   "execution_count": 83,
   "id": "cb0a5cbd",
   "metadata": {},
   "outputs": [],
   "source": [
    "# Dropping columns \"local_price\", \"dollar_ex\" and those with string values\n",
    "df_USA_modified = df_USA.drop(['date','currency_code', 'Country', 'Code', 'country_code', 'region', 'sub_region', 'local_price', 'dollar_ex', 'GDP_log10'], axis =1)"
   ]
  },
  {
   "cell_type": "code",
   "execution_count": 84,
   "id": "736a3303",
   "metadata": {
    "scrolled": false
   },
   "outputs": [
    {
     "data": {
      "text/html": [
       "<div>\n",
       "<style scoped>\n",
       "    .dataframe tbody tr th:only-of-type {\n",
       "        vertical-align: middle;\n",
       "    }\n",
       "\n",
       "    .dataframe tbody tr th {\n",
       "        vertical-align: top;\n",
       "    }\n",
       "\n",
       "    .dataframe thead th {\n",
       "        text-align: right;\n",
       "    }\n",
       "</style>\n",
       "<table border=\"1\" class=\"dataframe\">\n",
       "  <thead>\n",
       "    <tr style=\"text-align: right;\">\n",
       "      <th></th>\n",
       "      <th>dollar_price</th>\n",
       "      <th>Year</th>\n",
       "      <th>gdp_growth</th>\n",
       "      <th>GDP_Per_Capita</th>\n",
       "      <th>GDP</th>\n",
       "    </tr>\n",
       "  </thead>\n",
       "  <tbody>\n",
       "    <tr>\n",
       "      <th>374</th>\n",
       "      <td>2.24</td>\n",
       "      <td>2000</td>\n",
       "      <td>1.741695</td>\n",
       "      <td>45087.36728</td>\n",
       "      <td>1.296830e+13</td>\n",
       "    </tr>\n",
       "    <tr>\n",
       "      <th>379</th>\n",
       "      <td>2.24</td>\n",
       "      <td>2001</td>\n",
       "      <td>2.861211</td>\n",
       "      <td>45980.51458</td>\n",
       "      <td>1.333930e+13</td>\n",
       "    </tr>\n",
       "    <tr>\n",
       "      <th>407</th>\n",
       "      <td>2.35</td>\n",
       "      <td>2002</td>\n",
       "      <td>3.798891</td>\n",
       "      <td>47287.59377</td>\n",
       "      <td>1.384610e+13</td>\n",
       "    </tr>\n",
       "    <tr>\n",
       "      <th>414</th>\n",
       "      <td>2.46</td>\n",
       "      <td>2003</td>\n",
       "      <td>3.513214</td>\n",
       "      <td>48499.81238</td>\n",
       "      <td>1.433250e+13</td>\n",
       "    </tr>\n",
       "    <tr>\n",
       "      <th>453</th>\n",
       "      <td>2.47</td>\n",
       "      <td>2004</td>\n",
       "      <td>2.854972</td>\n",
       "      <td>49405.76730</td>\n",
       "      <td>1.474170e+13</td>\n",
       "    </tr>\n",
       "  </tbody>\n",
       "</table>\n",
       "</div>"
      ],
      "text/plain": [
       "     dollar_price  Year  gdp_growth  GDP_Per_Capita           GDP\n",
       "374          2.24  2000    1.741695     45087.36728  1.296830e+13\n",
       "379          2.24  2001    2.861211     45980.51458  1.333930e+13\n",
       "407          2.35  2002    3.798891     47287.59377  1.384610e+13\n",
       "414          2.46  2003    3.513214     48499.81238  1.433250e+13\n",
       "453          2.47  2004    2.854972     49405.76730  1.474170e+13"
      ]
     },
     "execution_count": 84,
     "metadata": {},
     "output_type": "execute_result"
    }
   ],
   "source": [
    "df_USA_modified.head(5)"
   ]
  },
  {
   "cell_type": "code",
   "execution_count": 85,
   "id": "74a61d62",
   "metadata": {
    "scrolled": true
   },
   "outputs": [],
   "source": [
    "# Defining Feature(X) and variable (y)\n",
    "X = df_USA_modified.drop('dollar_price', axis=1)\n",
    "y = df_USA_modified.dollar_price"
   ]
  },
  {
   "cell_type": "code",
   "execution_count": 86,
   "id": "83889a31",
   "metadata": {
    "scrolled": true
   },
   "outputs": [
    {
     "data": {
      "text/html": [
       "<div>\n",
       "<style scoped>\n",
       "    .dataframe tbody tr th:only-of-type {\n",
       "        vertical-align: middle;\n",
       "    }\n",
       "\n",
       "    .dataframe tbody tr th {\n",
       "        vertical-align: top;\n",
       "    }\n",
       "\n",
       "    .dataframe thead th {\n",
       "        text-align: right;\n",
       "    }\n",
       "</style>\n",
       "<table border=\"1\" class=\"dataframe\">\n",
       "  <thead>\n",
       "    <tr style=\"text-align: right;\">\n",
       "      <th></th>\n",
       "      <th>Year</th>\n",
       "      <th>gdp_growth</th>\n",
       "      <th>GDP_Per_Capita</th>\n",
       "      <th>GDP</th>\n",
       "    </tr>\n",
       "  </thead>\n",
       "  <tbody>\n",
       "    <tr>\n",
       "      <th>374</th>\n",
       "      <td>2000</td>\n",
       "      <td>1.741695</td>\n",
       "      <td>45087.36728</td>\n",
       "      <td>1.296830e+13</td>\n",
       "    </tr>\n",
       "    <tr>\n",
       "      <th>379</th>\n",
       "      <td>2001</td>\n",
       "      <td>2.861211</td>\n",
       "      <td>45980.51458</td>\n",
       "      <td>1.333930e+13</td>\n",
       "    </tr>\n",
       "    <tr>\n",
       "      <th>407</th>\n",
       "      <td>2002</td>\n",
       "      <td>3.798891</td>\n",
       "      <td>47287.59377</td>\n",
       "      <td>1.384610e+13</td>\n",
       "    </tr>\n",
       "    <tr>\n",
       "      <th>414</th>\n",
       "      <td>2003</td>\n",
       "      <td>3.513214</td>\n",
       "      <td>48499.81238</td>\n",
       "      <td>1.433250e+13</td>\n",
       "    </tr>\n",
       "    <tr>\n",
       "      <th>453</th>\n",
       "      <td>2004</td>\n",
       "      <td>2.854972</td>\n",
       "      <td>49405.76730</td>\n",
       "      <td>1.474170e+13</td>\n",
       "    </tr>\n",
       "  </tbody>\n",
       "</table>\n",
       "</div>"
      ],
      "text/plain": [
       "     Year  gdp_growth  GDP_Per_Capita           GDP\n",
       "374  2000    1.741695     45087.36728  1.296830e+13\n",
       "379  2001    2.861211     45980.51458  1.333930e+13\n",
       "407  2002    3.798891     47287.59377  1.384610e+13\n",
       "414  2003    3.513214     48499.81238  1.433250e+13\n",
       "453  2004    2.854972     49405.76730  1.474170e+13"
      ]
     },
     "execution_count": 86,
     "metadata": {},
     "output_type": "execute_result"
    }
   ],
   "source": [
    "X.head()"
   ]
  },
  {
   "cell_type": "code",
   "execution_count": 87,
   "id": "f439d8ec",
   "metadata": {},
   "outputs": [
    {
     "data": {
      "text/plain": [
       "count    25.000000\n",
       "mean      3.392000\n",
       "std       0.770114\n",
       "min       2.240000\n",
       "25%       2.670000\n",
       "50%       3.430000\n",
       "75%       4.180000\n",
       "max       4.500000\n",
       "Name: dollar_price, dtype: float64"
      ]
     },
     "execution_count": 87,
     "metadata": {},
     "output_type": "execute_result"
    }
   ],
   "source": [
    "df_USA_modified.dollar_price.describe()"
   ]
  },
  {
   "cell_type": "code",
   "execution_count": 88,
   "id": "67da544e",
   "metadata": {},
   "outputs": [],
   "source": [
    "# Splitting the dataset into training and testing sets\n",
    "X_train, X_test, y_train, y_test = train_test_split(X, y, test_size=0.2, random_state= 28)"
   ]
  },
  {
   "cell_type": "code",
   "execution_count": 89,
   "id": "d0ea6d2e",
   "metadata": {},
   "outputs": [],
   "source": [
    "# Instantiate the RandomForestRegression model\n",
    "model = RandomForestRegressor(n_estimators= 10, random_state= 0)"
   ]
  },
  {
   "cell_type": "code",
   "execution_count": 90,
   "id": "2f4b9100",
   "metadata": {},
   "outputs": [
    {
     "data": {
      "text/plain": [
       "RandomForestRegressor(n_estimators=10, random_state=0)"
      ]
     },
     "execution_count": 90,
     "metadata": {},
     "output_type": "execute_result"
    }
   ],
   "source": [
    "# Fitting the model\n",
    "model.fit(X_train, y_train)"
   ]
  },
  {
   "cell_type": "code",
   "execution_count": 91,
   "id": "765fbf0c",
   "metadata": {},
   "outputs": [],
   "source": [
    "# Predicting the model\n",
    "y_pred =model.predict(X_test)"
   ]
  },
  {
   "cell_type": "code",
   "execution_count": 92,
   "id": "93ca0ab7",
   "metadata": {},
   "outputs": [
    {
     "name": "stdout",
     "output_type": "stream",
     "text": [
      "0.268\n"
     ]
    }
   ],
   "source": [
    "# Root mean square error of the model\n",
    "rmse = float(format(np.sqrt(mean_squared_error(y_test, y_pred)), '.3f'))\n",
    "print(rmse)"
   ]
  },
  {
   "cell_type": "code",
   "execution_count": 93,
   "id": "2cf8a183",
   "metadata": {},
   "outputs": [
    {
     "name": "stdout",
     "output_type": "stream",
     "text": [
      "Mean Relative Error: 0.06\n"
     ]
    }
   ],
   "source": [
    "errors = abs((y_pred - y_test)/y_test)\n",
    "print('Mean Relative Error:', round(np.mean(errors), 2))"
   ]
  },
  {
   "cell_type": "code",
   "execution_count": 94,
   "id": "53d8525d",
   "metadata": {},
   "outputs": [
    {
     "data": {
      "text/plain": [
       "array([0.38223637, 0.01707162, 0.10323036, 0.49746165])"
      ]
     },
     "execution_count": 94,
     "metadata": {},
     "output_type": "execute_result"
    }
   ],
   "source": [
    "# Calculate feature importance in Random Forest Model\n",
    "importance = model.feature_importances_\n",
    "importance"
   ]
  },
  {
   "cell_type": "markdown",
   "id": "a9592ecb",
   "metadata": {},
   "source": [
    "# End Section"
   ]
  },
  {
   "cell_type": "markdown",
   "id": "9d9135ce",
   "metadata": {},
   "source": [
    "# Looking at geographical regions"
   ]
  },
  {
   "cell_type": "markdown",
   "id": "ea9d02a1",
   "metadata": {},
   "source": [
    "# Americas"
   ]
  },
  {
   "cell_type": "code",
   "execution_count": 95,
   "id": "05378608",
   "metadata": {},
   "outputs": [],
   "source": [
    "df_Americas = df.loc[df['region'] == \"Americas\"]"
   ]
  },
  {
   "cell_type": "code",
   "execution_count": 96,
   "id": "2a61c535",
   "metadata": {
    "scrolled": true
   },
   "outputs": [
    {
     "data": {
      "text/html": [
       "<div>\n",
       "<style scoped>\n",
       "    .dataframe tbody tr th:only-of-type {\n",
       "        vertical-align: middle;\n",
       "    }\n",
       "\n",
       "    .dataframe tbody tr th {\n",
       "        vertical-align: top;\n",
       "    }\n",
       "\n",
       "    .dataframe thead th {\n",
       "        text-align: right;\n",
       "    }\n",
       "</style>\n",
       "<table border=\"1\" class=\"dataframe\">\n",
       "  <thead>\n",
       "    <tr style=\"text-align: right;\">\n",
       "      <th></th>\n",
       "      <th>date</th>\n",
       "      <th>currency_code</th>\n",
       "      <th>Country</th>\n",
       "      <th>local_price</th>\n",
       "      <th>dollar_ex</th>\n",
       "      <th>dollar_price</th>\n",
       "      <th>Year</th>\n",
       "      <th>Code</th>\n",
       "      <th>gdp_growth</th>\n",
       "      <th>GDP_Per_Capita</th>\n",
       "      <th>GDP</th>\n",
       "      <th>country_code</th>\n",
       "      <th>region</th>\n",
       "      <th>sub_region</th>\n",
       "      <th>GDP_log10</th>\n",
       "    </tr>\n",
       "  </thead>\n",
       "  <tbody>\n",
       "    <tr>\n",
       "      <th>0</th>\n",
       "      <td>4/1/2000</td>\n",
       "      <td>ARS</td>\n",
       "      <td>Argentina</td>\n",
       "      <td>2.50</td>\n",
       "      <td>1</td>\n",
       "      <td>2.50</td>\n",
       "      <td>2000</td>\n",
       "      <td>ARG</td>\n",
       "      <td>-10.894485</td>\n",
       "      <td>6854.294081</td>\n",
       "      <td>2.582820e+11</td>\n",
       "      <td>32</td>\n",
       "      <td>Americas</td>\n",
       "      <td>Latin America and the Caribbean</td>\n",
       "      <td>11.412094</td>\n",
       "    </tr>\n",
       "    <tr>\n",
       "      <th>2</th>\n",
       "      <td>4/1/2000</td>\n",
       "      <td>BRL</td>\n",
       "      <td>Brazil</td>\n",
       "      <td>2.95</td>\n",
       "      <td>1</td>\n",
       "      <td>2.95</td>\n",
       "      <td>2000</td>\n",
       "      <td>BRA</td>\n",
       "      <td>3.053462</td>\n",
       "      <td>8954.837245</td>\n",
       "      <td>1.607730e+12</td>\n",
       "      <td>76</td>\n",
       "      <td>Americas</td>\n",
       "      <td>Latin America and the Caribbean</td>\n",
       "      <td>12.206213</td>\n",
       "    </tr>\n",
       "    <tr>\n",
       "      <th>3</th>\n",
       "      <td>4/1/2000</td>\n",
       "      <td>CAD</td>\n",
       "      <td>Canada</td>\n",
       "      <td>2.85</td>\n",
       "      <td>1</td>\n",
       "      <td>2.85</td>\n",
       "      <td>2000</td>\n",
       "      <td>CAN</td>\n",
       "      <td>3.016889</td>\n",
       "      <td>44863.216020</td>\n",
       "      <td>1.406910e+12</td>\n",
       "      <td>124</td>\n",
       "      <td>Americas</td>\n",
       "      <td>Northern America</td>\n",
       "      <td>12.148266</td>\n",
       "    </tr>\n",
       "    <tr>\n",
       "      <th>4</th>\n",
       "      <td>4/1/2000</td>\n",
       "      <td>CLP</td>\n",
       "      <td>Chile</td>\n",
       "      <td>1260.00</td>\n",
       "      <td>514</td>\n",
       "      <td>2.45</td>\n",
       "      <td>2000</td>\n",
       "      <td>CHL</td>\n",
       "      <td>3.106971</td>\n",
       "      <td>9814.656135</td>\n",
       "      <td>1.539370e+11</td>\n",
       "      <td>152</td>\n",
       "      <td>Americas</td>\n",
       "      <td>Latin America and the Caribbean</td>\n",
       "      <td>11.187343</td>\n",
       "    </tr>\n",
       "    <tr>\n",
       "      <th>13</th>\n",
       "      <td>4/1/2000</td>\n",
       "      <td>MXN</td>\n",
       "      <td>Mexico</td>\n",
       "      <td>20.90</td>\n",
       "      <td>9</td>\n",
       "      <td>2.32</td>\n",
       "      <td>2000</td>\n",
       "      <td>MEX</td>\n",
       "      <td>-0.039844</td>\n",
       "      <td>8960.554086</td>\n",
       "      <td>9.111520e+11</td>\n",
       "      <td>484</td>\n",
       "      <td>Americas</td>\n",
       "      <td>Latin America and the Caribbean</td>\n",
       "      <td>11.959591</td>\n",
       "    </tr>\n",
       "  </tbody>\n",
       "</table>\n",
       "</div>"
      ],
      "text/plain": [
       "        date currency_code    Country  local_price  dollar_ex  dollar_price  \\\n",
       "0   4/1/2000           ARS  Argentina         2.50          1          2.50   \n",
       "2   4/1/2000           BRL     Brazil         2.95          1          2.95   \n",
       "3   4/1/2000           CAD     Canada         2.85          1          2.85   \n",
       "4   4/1/2000           CLP      Chile      1260.00        514          2.45   \n",
       "13  4/1/2000           MXN     Mexico        20.90          9          2.32   \n",
       "\n",
       "    Year Code  gdp_growth  GDP_Per_Capita           GDP  country_code  \\\n",
       "0   2000  ARG  -10.894485     6854.294081  2.582820e+11            32   \n",
       "2   2000  BRA    3.053462     8954.837245  1.607730e+12            76   \n",
       "3   2000  CAN    3.016889    44863.216020  1.406910e+12           124   \n",
       "4   2000  CHL    3.106971     9814.656135  1.539370e+11           152   \n",
       "13  2000  MEX   -0.039844     8960.554086  9.111520e+11           484   \n",
       "\n",
       "      region                       sub_region  GDP_log10  \n",
       "0   Americas  Latin America and the Caribbean  11.412094  \n",
       "2   Americas  Latin America and the Caribbean  12.206213  \n",
       "3   Americas                 Northern America  12.148266  \n",
       "4   Americas  Latin America and the Caribbean  11.187343  \n",
       "13  Americas  Latin America and the Caribbean  11.959591  "
      ]
     },
     "execution_count": 96,
     "metadata": {},
     "output_type": "execute_result"
    }
   ],
   "source": [
    "df_Americas.head()"
   ]
  },
  {
   "cell_type": "code",
   "execution_count": 97,
   "id": "c49023b6",
   "metadata": {},
   "outputs": [],
   "source": [
    "# Defining the feature (X) and target (y)\n",
    "X = df_Americas.GDP_log10.values.reshape(-1,1)\n",
    "y = df_Americas.dollar_price.values.reshape(-1,1)"
   ]
  },
  {
   "cell_type": "code",
   "execution_count": 98,
   "id": "6c620cd7",
   "metadata": {},
   "outputs": [],
   "source": [
    "# Splitting the dataset into training and testing set\n",
    "from sklearn.model_selection import train_test_split\n",
    "X_train, X_test, y_train, y_test = train_test_split(X,y, test_size=0.2, random_state=2)\n",
    "\n",
    "# Instantiate linear regression model\n",
    "model = LinearRegression()\n",
    "\n",
    "# training the model\n",
    "model.fit(X,y)\n",
    "\n",
    "# Predicting the target value\n",
    "y_pred = model.predict(X)"
   ]
  },
  {
   "cell_type": "code",
   "execution_count": 99,
   "id": "ce6aae7f",
   "metadata": {
    "scrolled": true
   },
   "outputs": [
    {
     "data": {
      "image/png": "[encoded data removed]",
      "text/plain": [
       "<Figure size 432x288 with 1 Axes>"
      ]
     },
     "metadata": {
      "needs_background": "light"
     },
     "output_type": "display_data"
    }
   ],
   "source": [
    "# Creating a scatter plot with a regression curve\n",
    "plt.scatter(X, y)\n",
    "plt.xlabel('Americas log10(GDP)')\n",
    "plt.ylabel('BigMac Price ($)')\n",
    "plt.title('Linear Regression for Americas log10(GDP) vs BigMacPrices')\n",
    "plt.plot(X, y_pred, color='red')\n",
    "plt.show()"
   ]
  },
  {
   "cell_type": "code",
   "execution_count": 100,
   "id": "8d66d536",
   "metadata": {
    "scrolled": true
   },
   "outputs": [
    {
     "name": "stdout",
     "output_type": "stream",
     "text": [
      "0.019583743443533863\n"
     ]
    }
   ],
   "source": [
    "# R-square for the model\n",
    "print(model.score(X,y))"
   ]
  },
  {
   "cell_type": "code",
   "execution_count": 101,
   "id": "f145780a",
   "metadata": {},
   "outputs": [],
   "source": [
    "# Applying RandomForestRegression to Americas"
   ]
  },
  {
   "cell_type": "code",
   "execution_count": 102,
   "id": "ff0bc30d",
   "metadata": {
    "scrolled": true
   },
   "outputs": [
    {
     "data": {
      "text/html": [
       "<div>\n",
       "<style scoped>\n",
       "    .dataframe tbody tr th:only-of-type {\n",
       "        vertical-align: middle;\n",
       "    }\n",
       "\n",
       "    .dataframe tbody tr th {\n",
       "        vertical-align: top;\n",
       "    }\n",
       "\n",
       "    .dataframe thead th {\n",
       "        text-align: right;\n",
       "    }\n",
       "</style>\n",
       "<table border=\"1\" class=\"dataframe\">\n",
       "  <thead>\n",
       "    <tr style=\"text-align: right;\">\n",
       "      <th></th>\n",
       "      <th>dollar_price</th>\n",
       "      <th>Year</th>\n",
       "      <th>gdp_growth</th>\n",
       "      <th>GDP_Per_Capita</th>\n",
       "      <th>GDP</th>\n",
       "    </tr>\n",
       "  </thead>\n",
       "  <tbody>\n",
       "    <tr>\n",
       "      <th>0</th>\n",
       "      <td>2.50</td>\n",
       "      <td>2000</td>\n",
       "      <td>-10.894485</td>\n",
       "      <td>6854.294081</td>\n",
       "      <td>2.582820e+11</td>\n",
       "    </tr>\n",
       "    <tr>\n",
       "      <th>2</th>\n",
       "      <td>2.95</td>\n",
       "      <td>2000</td>\n",
       "      <td>3.053462</td>\n",
       "      <td>8954.837245</td>\n",
       "      <td>1.607730e+12</td>\n",
       "    </tr>\n",
       "    <tr>\n",
       "      <th>3</th>\n",
       "      <td>2.85</td>\n",
       "      <td>2000</td>\n",
       "      <td>3.016889</td>\n",
       "      <td>44863.216020</td>\n",
       "      <td>1.406910e+12</td>\n",
       "    </tr>\n",
       "    <tr>\n",
       "      <th>4</th>\n",
       "      <td>2.45</td>\n",
       "      <td>2000</td>\n",
       "      <td>3.106971</td>\n",
       "      <td>9814.656135</td>\n",
       "      <td>1.539370e+11</td>\n",
       "    </tr>\n",
       "    <tr>\n",
       "      <th>13</th>\n",
       "      <td>2.32</td>\n",
       "      <td>2000</td>\n",
       "      <td>-0.039844</td>\n",
       "      <td>8960.554086</td>\n",
       "      <td>9.111520e+11</td>\n",
       "    </tr>\n",
       "  </tbody>\n",
       "</table>\n",
       "</div>"
      ],
      "text/plain": [
       "    dollar_price  Year  gdp_growth  GDP_Per_Capita           GDP\n",
       "0           2.50  2000  -10.894485     6854.294081  2.582820e+11\n",
       "2           2.95  2000    3.053462     8954.837245  1.607730e+12\n",
       "3           2.85  2000    3.016889    44863.216020  1.406910e+12\n",
       "4           2.45  2000    3.106971     9814.656135  1.539370e+11\n",
       "13          2.32  2000   -0.039844     8960.554086  9.111520e+11"
      ]
     },
     "execution_count": 102,
     "metadata": {},
     "output_type": "execute_result"
    }
   ],
   "source": [
    "# Dropping columns \"local_price\", \"dollar_ex\" and those with string values\n",
    "df_Americas_modified = df_Americas.drop(['date','currency_code', 'Country', 'Code', 'country_code', 'region', 'sub_region',\n",
    "                               'local_price', 'dollar_ex', 'GDP_log10'], axis =1)\n",
    "\n",
    "df_Americas_modified.head(5)"
   ]
  },
  {
   "cell_type": "code",
   "execution_count": 103,
   "id": "c6bc59e8",
   "metadata": {},
   "outputs": [],
   "source": [
    "# Defining Feature(X) and variable (y)\n",
    "X = df_Americas_modified.drop('dollar_price', axis=1)\n",
    "y = df_Americas_modified.dollar_price"
   ]
  },
  {
   "cell_type": "code",
   "execution_count": 104,
   "id": "8d6f441a",
   "metadata": {
    "scrolled": true
   },
   "outputs": [
    {
     "data": {
      "text/html": [
       "<div>\n",
       "<style scoped>\n",
       "    .dataframe tbody tr th:only-of-type {\n",
       "        vertical-align: middle;\n",
       "    }\n",
       "\n",
       "    .dataframe tbody tr th {\n",
       "        vertical-align: top;\n",
       "    }\n",
       "\n",
       "    .dataframe thead th {\n",
       "        text-align: right;\n",
       "    }\n",
       "</style>\n",
       "<table border=\"1\" class=\"dataframe\">\n",
       "  <thead>\n",
       "    <tr style=\"text-align: right;\">\n",
       "      <th></th>\n",
       "      <th>Year</th>\n",
       "      <th>gdp_growth</th>\n",
       "      <th>GDP_Per_Capita</th>\n",
       "      <th>GDP</th>\n",
       "    </tr>\n",
       "  </thead>\n",
       "  <tbody>\n",
       "    <tr>\n",
       "      <th>0</th>\n",
       "      <td>2000</td>\n",
       "      <td>-10.894485</td>\n",
       "      <td>6854.294081</td>\n",
       "      <td>2.582820e+11</td>\n",
       "    </tr>\n",
       "    <tr>\n",
       "      <th>2</th>\n",
       "      <td>2000</td>\n",
       "      <td>3.053462</td>\n",
       "      <td>8954.837245</td>\n",
       "      <td>1.607730e+12</td>\n",
       "    </tr>\n",
       "    <tr>\n",
       "      <th>3</th>\n",
       "      <td>2000</td>\n",
       "      <td>3.016889</td>\n",
       "      <td>44863.216020</td>\n",
       "      <td>1.406910e+12</td>\n",
       "    </tr>\n",
       "    <tr>\n",
       "      <th>4</th>\n",
       "      <td>2000</td>\n",
       "      <td>3.106971</td>\n",
       "      <td>9814.656135</td>\n",
       "      <td>1.539370e+11</td>\n",
       "    </tr>\n",
       "    <tr>\n",
       "      <th>13</th>\n",
       "      <td>2000</td>\n",
       "      <td>-0.039844</td>\n",
       "      <td>8960.554086</td>\n",
       "      <td>9.111520e+11</td>\n",
       "    </tr>\n",
       "  </tbody>\n",
       "</table>\n",
       "</div>"
      ],
      "text/plain": [
       "    Year  gdp_growth  GDP_Per_Capita           GDP\n",
       "0   2000  -10.894485     6854.294081  2.582820e+11\n",
       "2   2000    3.053462     8954.837245  1.607730e+12\n",
       "3   2000    3.016889    44863.216020  1.406910e+12\n",
       "4   2000    3.106971     9814.656135  1.539370e+11\n",
       "13  2000   -0.039844     8960.554086  9.111520e+11"
      ]
     },
     "execution_count": 104,
     "metadata": {},
     "output_type": "execute_result"
    }
   ],
   "source": [
    "X.head()"
   ]
  },
  {
   "cell_type": "code",
   "execution_count": 105,
   "id": "3ead5902",
   "metadata": {},
   "outputs": [
    {
     "name": "stdout",
     "output_type": "stream",
     "text": [
      "0.429\n"
     ]
    }
   ],
   "source": [
    "# Splitting the dataset into training and testing sets\n",
    "X_train, X_test, y_train, y_test = train_test_split(X, y, test_size=0.2, random_state= 28)\n",
    "\n",
    "# Instantiate the RandomForestRegression model\n",
    "model = RandomForestRegressor(n_estimators= 10, random_state= 0)\n",
    "\n",
    "# Fitting the model\n",
    "model.fit(X_train, y_train)\n",
    "\n",
    "# Predicting the model\n",
    "y_pred =model.predict(X_test)\n",
    "\n",
    "# Root mean square error of the model\n",
    "rmse = float(format(np.sqrt(mean_squared_error(y_test, y_pred)), '.3f'))\n",
    "print(rmse)"
   ]
  },
  {
   "cell_type": "code",
   "execution_count": 106,
   "id": "4099f08e",
   "metadata": {
    "scrolled": true
   },
   "outputs": [
    {
     "name": "stdout",
     "output_type": "stream",
     "text": [
      "Mean Relative Error: 0.08\n"
     ]
    }
   ],
   "source": [
    "errors = abs((y_pred - y_test)/y_test)\n",
    "print('Mean Relative Error:', round(np.mean(errors), 2))"
   ]
  },
  {
   "cell_type": "markdown",
   "id": "b31b4174",
   "metadata": {},
   "source": [
    "#  Asia"
   ]
  },
  {
   "cell_type": "code",
   "execution_count": 107,
   "id": "c8b13d33",
   "metadata": {
    "scrolled": true
   },
   "outputs": [
    {
     "data": {
      "text/html": [
       "<div>\n",
       "<style scoped>\n",
       "    .dataframe tbody tr th:only-of-type {\n",
       "        vertical-align: middle;\n",
       "    }\n",
       "\n",
       "    .dataframe tbody tr th {\n",
       "        vertical-align: top;\n",
       "    }\n",
       "\n",
       "    .dataframe thead th {\n",
       "        text-align: right;\n",
       "    }\n",
       "</style>\n",
       "<table border=\"1\" class=\"dataframe\">\n",
       "  <thead>\n",
       "    <tr style=\"text-align: right;\">\n",
       "      <th></th>\n",
       "      <th>date</th>\n",
       "      <th>currency_code</th>\n",
       "      <th>Country</th>\n",
       "      <th>local_price</th>\n",
       "      <th>dollar_ex</th>\n",
       "      <th>dollar_price</th>\n",
       "      <th>Year</th>\n",
       "      <th>Code</th>\n",
       "      <th>gdp_growth</th>\n",
       "      <th>GDP_Per_Capita</th>\n",
       "      <th>GDP</th>\n",
       "      <th>country_code</th>\n",
       "      <th>region</th>\n",
       "      <th>sub_region</th>\n",
       "      <th>GDP_log10</th>\n",
       "    </tr>\n",
       "  </thead>\n",
       "  <tbody>\n",
       "    <tr>\n",
       "      <th>5</th>\n",
       "      <td>4/1/2000</td>\n",
       "      <td>CNY</td>\n",
       "      <td>China</td>\n",
       "      <td>9.90</td>\n",
       "      <td>8</td>\n",
       "      <td>1.24</td>\n",
       "      <td>2000</td>\n",
       "      <td>CHN</td>\n",
       "      <td>9.130646</td>\n",
       "      <td>2061.162284</td>\n",
       "      <td>2.639110e+12</td>\n",
       "      <td>156</td>\n",
       "      <td>Asia</td>\n",
       "      <td>Eastern Asia</td>\n",
       "      <td>12.421457</td>\n",
       "    </tr>\n",
       "    <tr>\n",
       "      <th>9</th>\n",
       "      <td>4/1/2000</td>\n",
       "      <td>IDR</td>\n",
       "      <td>Indonesia</td>\n",
       "      <td>14500.00</td>\n",
       "      <td>7945</td>\n",
       "      <td>1.83</td>\n",
       "      <td>2000</td>\n",
       "      <td>IDN</td>\n",
       "      <td>4.499475</td>\n",
       "      <td>2259.307704</td>\n",
       "      <td>4.910780e+11</td>\n",
       "      <td>360</td>\n",
       "      <td>Asia</td>\n",
       "      <td>South-eastern Asia</td>\n",
       "      <td>11.691150</td>\n",
       "    </tr>\n",
       "    <tr>\n",
       "      <th>10</th>\n",
       "      <td>4/1/2000</td>\n",
       "      <td>ILS</td>\n",
       "      <td>Israel</td>\n",
       "      <td>14.50</td>\n",
       "      <td>4</td>\n",
       "      <td>3.62</td>\n",
       "      <td>2000</td>\n",
       "      <td>ISR</td>\n",
       "      <td>0.012565</td>\n",
       "      <td>26521.377670</td>\n",
       "      <td>1.742450e+11</td>\n",
       "      <td>376</td>\n",
       "      <td>Asia</td>\n",
       "      <td>Western Asia</td>\n",
       "      <td>11.241160</td>\n",
       "    </tr>\n",
       "    <tr>\n",
       "      <th>11</th>\n",
       "      <td>4/1/2000</td>\n",
       "      <td>JPY</td>\n",
       "      <td>Japan</td>\n",
       "      <td>294.00</td>\n",
       "      <td>106</td>\n",
       "      <td>2.77</td>\n",
       "      <td>2000</td>\n",
       "      <td>JPN</td>\n",
       "      <td>0.117993</td>\n",
       "      <td>42190.804870</td>\n",
       "      <td>5.377010e+12</td>\n",
       "      <td>392</td>\n",
       "      <td>Asia</td>\n",
       "      <td>Eastern Asia</td>\n",
       "      <td>12.730541</td>\n",
       "    </tr>\n",
       "    <tr>\n",
       "      <th>12</th>\n",
       "      <td>4/1/2000</td>\n",
       "      <td>MYR</td>\n",
       "      <td>Malaysia</td>\n",
       "      <td>4.52</td>\n",
       "      <td>3</td>\n",
       "      <td>1.51</td>\n",
       "      <td>2000</td>\n",
       "      <td>MYS</td>\n",
       "      <td>5.390988</td>\n",
       "      <td>7112.055595</td>\n",
       "      <td>1.721710e+11</td>\n",
       "      <td>458</td>\n",
       "      <td>Asia</td>\n",
       "      <td>South-eastern Asia</td>\n",
       "      <td>11.235960</td>\n",
       "    </tr>\n",
       "  </tbody>\n",
       "</table>\n",
       "</div>"
      ],
      "text/plain": [
       "        date currency_code    Country  local_price  dollar_ex  dollar_price  \\\n",
       "5   4/1/2000           CNY      China         9.90          8          1.24   \n",
       "9   4/1/2000           IDR  Indonesia     14500.00       7945          1.83   \n",
       "10  4/1/2000           ILS     Israel        14.50          4          3.62   \n",
       "11  4/1/2000           JPY      Japan       294.00        106          2.77   \n",
       "12  4/1/2000           MYR   Malaysia         4.52          3          1.51   \n",
       "\n",
       "    Year Code  gdp_growth  GDP_Per_Capita           GDP  country_code region  \\\n",
       "5   2000  CHN    9.130646     2061.162284  2.639110e+12           156   Asia   \n",
       "9   2000  IDN    4.499475     2259.307704  4.910780e+11           360   Asia   \n",
       "10  2000  ISR    0.012565    26521.377670  1.742450e+11           376   Asia   \n",
       "11  2000  JPN    0.117993    42190.804870  5.377010e+12           392   Asia   \n",
       "12  2000  MYS    5.390988     7112.055595  1.721710e+11           458   Asia   \n",
       "\n",
       "            sub_region  GDP_log10  \n",
       "5         Eastern Asia  12.421457  \n",
       "9   South-eastern Asia  11.691150  \n",
       "10        Western Asia  11.241160  \n",
       "11        Eastern Asia  12.730541  \n",
       "12  South-eastern Asia  11.235960  "
      ]
     },
     "execution_count": 107,
     "metadata": {},
     "output_type": "execute_result"
    }
   ],
   "source": [
    "df_Asia = df.loc[df['region'] == \"Asia\"]\n",
    "df_Asia.head()"
   ]
  },
  {
   "cell_type": "code",
   "execution_count": 108,
   "id": "6d9cf75f",
   "metadata": {},
   "outputs": [],
   "source": [
    "# Defining the feature (X) and target (y)\n",
    "X = df_Asia.GDP_log10.values.reshape(-1,1)\n",
    "y = df_Asia.dollar_price.values.reshape(-1,1)"
   ]
  },
  {
   "cell_type": "code",
   "execution_count": 109,
   "id": "62d46a93",
   "metadata": {},
   "outputs": [],
   "source": [
    "# Splitting the dataset into training and testing set\n",
    "from sklearn.model_selection import train_test_split\n",
    "X_train, X_test, y_train, y_test = train_test_split(X,y, test_size=0.2, random_state=2)\n",
    "\n",
    "# Instantiate linear regression model\n",
    "model = LinearRegression()\n",
    "\n",
    "# training the model\n",
    "model.fit(X,y)\n",
    "\n",
    "# Predicting the target value\n",
    "y_pred = model.predict(X)"
   ]
  },
  {
   "cell_type": "code",
   "execution_count": 110,
   "id": "d5222ec7",
   "metadata": {},
   "outputs": [
    {
     "data": {
      "image/png": "[encoded data removed]",
      "text/plain": [
       "<Figure size 432x288 with 1 Axes>"
      ]
     },
     "metadata": {
      "needs_background": "light"
     },
     "output_type": "display_data"
    }
   ],
   "source": [
    "# Creating a scatter plot with a regression curve\n",
    "plt.scatter(X, y)\n",
    "plt.xlabel('Asia log10(GDP)')\n",
    "plt.ylabel('BigMac Price ($)')\n",
    "plt.title('Linear Regression for Asia log10(GDP) vs BigMacPrices')\n",
    "plt.plot(X, y_pred, color='red')\n",
    "plt.show()"
   ]
  },
  {
   "cell_type": "markdown",
   "id": "dcfc7ee9",
   "metadata": {},
   "source": [
    "# Applying RandomForestRegression to Asia"
   ]
  },
  {
   "cell_type": "code",
   "execution_count": 111,
   "id": "7d5e4247",
   "metadata": {},
   "outputs": [
    {
     "data": {
      "text/html": [
       "<div>\n",
       "<style scoped>\n",
       "    .dataframe tbody tr th:only-of-type {\n",
       "        vertical-align: middle;\n",
       "    }\n",
       "\n",
       "    .dataframe tbody tr th {\n",
       "        vertical-align: top;\n",
       "    }\n",
       "\n",
       "    .dataframe thead th {\n",
       "        text-align: right;\n",
       "    }\n",
       "</style>\n",
       "<table border=\"1\" class=\"dataframe\">\n",
       "  <thead>\n",
       "    <tr style=\"text-align: right;\">\n",
       "      <th></th>\n",
       "      <th>dollar_price</th>\n",
       "      <th>Year</th>\n",
       "      <th>gdp_growth</th>\n",
       "      <th>GDP_Per_Capita</th>\n",
       "      <th>GDP</th>\n",
       "    </tr>\n",
       "  </thead>\n",
       "  <tbody>\n",
       "    <tr>\n",
       "      <th>5</th>\n",
       "      <td>1.24</td>\n",
       "      <td>2000</td>\n",
       "      <td>9.130646</td>\n",
       "      <td>2061.162284</td>\n",
       "      <td>2.639110e+12</td>\n",
       "    </tr>\n",
       "    <tr>\n",
       "      <th>9</th>\n",
       "      <td>1.83</td>\n",
       "      <td>2000</td>\n",
       "      <td>4.499475</td>\n",
       "      <td>2259.307704</td>\n",
       "      <td>4.910780e+11</td>\n",
       "    </tr>\n",
       "    <tr>\n",
       "      <th>10</th>\n",
       "      <td>3.62</td>\n",
       "      <td>2000</td>\n",
       "      <td>0.012565</td>\n",
       "      <td>26521.377670</td>\n",
       "      <td>1.742450e+11</td>\n",
       "    </tr>\n",
       "    <tr>\n",
       "      <th>11</th>\n",
       "      <td>2.77</td>\n",
       "      <td>2000</td>\n",
       "      <td>0.117993</td>\n",
       "      <td>42190.804870</td>\n",
       "      <td>5.377010e+12</td>\n",
       "    </tr>\n",
       "    <tr>\n",
       "      <th>12</th>\n",
       "      <td>1.51</td>\n",
       "      <td>2000</td>\n",
       "      <td>5.390988</td>\n",
       "      <td>7112.055595</td>\n",
       "      <td>1.721710e+11</td>\n",
       "    </tr>\n",
       "  </tbody>\n",
       "</table>\n",
       "</div>"
      ],
      "text/plain": [
       "    dollar_price  Year  gdp_growth  GDP_Per_Capita           GDP\n",
       "5           1.24  2000    9.130646     2061.162284  2.639110e+12\n",
       "9           1.83  2000    4.499475     2259.307704  4.910780e+11\n",
       "10          3.62  2000    0.012565    26521.377670  1.742450e+11\n",
       "11          2.77  2000    0.117993    42190.804870  5.377010e+12\n",
       "12          1.51  2000    5.390988     7112.055595  1.721710e+11"
      ]
     },
     "execution_count": 111,
     "metadata": {},
     "output_type": "execute_result"
    }
   ],
   "source": [
    "# Dropping columns \"local_price\", \"dollar_ex\" and those with string values\n",
    "df_Asia_modified = df_Asia.drop(['date','currency_code', 'Country', 'Code', 'country_code', 'region', 'sub_region',\n",
    "                               'local_price', 'dollar_ex', 'GDP_log10'], axis =1)\n",
    "\n",
    "df_Asia_modified.head(5)"
   ]
  },
  {
   "cell_type": "code",
   "execution_count": 112,
   "id": "4edfde36",
   "metadata": {},
   "outputs": [],
   "source": [
    "# Defining Feature(X) and variable (y)\n",
    "X = df_Asia_modified.drop('dollar_price', axis=1)\n",
    "y = df_Asia_modified.dollar_price"
   ]
  },
  {
   "cell_type": "code",
   "execution_count": 113,
   "id": "7bdd9c54",
   "metadata": {
    "scrolled": true
   },
   "outputs": [
    {
     "data": {
      "text/html": [
       "<div>\n",
       "<style scoped>\n",
       "    .dataframe tbody tr th:only-of-type {\n",
       "        vertical-align: middle;\n",
       "    }\n",
       "\n",
       "    .dataframe tbody tr th {\n",
       "        vertical-align: top;\n",
       "    }\n",
       "\n",
       "    .dataframe thead th {\n",
       "        text-align: right;\n",
       "    }\n",
       "</style>\n",
       "<table border=\"1\" class=\"dataframe\">\n",
       "  <thead>\n",
       "    <tr style=\"text-align: right;\">\n",
       "      <th></th>\n",
       "      <th>Year</th>\n",
       "      <th>gdp_growth</th>\n",
       "      <th>GDP_Per_Capita</th>\n",
       "      <th>GDP</th>\n",
       "    </tr>\n",
       "  </thead>\n",
       "  <tbody>\n",
       "    <tr>\n",
       "      <th>5</th>\n",
       "      <td>2000</td>\n",
       "      <td>9.130646</td>\n",
       "      <td>2061.162284</td>\n",
       "      <td>2.639110e+12</td>\n",
       "    </tr>\n",
       "    <tr>\n",
       "      <th>9</th>\n",
       "      <td>2000</td>\n",
       "      <td>4.499475</td>\n",
       "      <td>2259.307704</td>\n",
       "      <td>4.910780e+11</td>\n",
       "    </tr>\n",
       "    <tr>\n",
       "      <th>10</th>\n",
       "      <td>2000</td>\n",
       "      <td>0.012565</td>\n",
       "      <td>26521.377670</td>\n",
       "      <td>1.742450e+11</td>\n",
       "    </tr>\n",
       "    <tr>\n",
       "      <th>11</th>\n",
       "      <td>2000</td>\n",
       "      <td>0.117993</td>\n",
       "      <td>42190.804870</td>\n",
       "      <td>5.377010e+12</td>\n",
       "    </tr>\n",
       "    <tr>\n",
       "      <th>12</th>\n",
       "      <td>2000</td>\n",
       "      <td>5.390988</td>\n",
       "      <td>7112.055595</td>\n",
       "      <td>1.721710e+11</td>\n",
       "    </tr>\n",
       "  </tbody>\n",
       "</table>\n",
       "</div>"
      ],
      "text/plain": [
       "    Year  gdp_growth  GDP_Per_Capita           GDP\n",
       "5   2000    9.130646     2061.162284  2.639110e+12\n",
       "9   2000    4.499475     2259.307704  4.910780e+11\n",
       "10  2000    0.012565    26521.377670  1.742450e+11\n",
       "11  2000    0.117993    42190.804870  5.377010e+12\n",
       "12  2000    5.390988     7112.055595  1.721710e+11"
      ]
     },
     "execution_count": 113,
     "metadata": {},
     "output_type": "execute_result"
    }
   ],
   "source": [
    "X.head()"
   ]
  },
  {
   "cell_type": "code",
   "execution_count": 114,
   "id": "2316db0c",
   "metadata": {},
   "outputs": [
    {
     "name": "stdout",
     "output_type": "stream",
     "text": [
      "0.383\n"
     ]
    }
   ],
   "source": [
    "# Splitting the dataset into training and testing sets\n",
    "X_train, X_test, y_train, y_test = train_test_split(X, y, test_size=0.2, random_state= 28)\n",
    "\n",
    "# Instantiate the RandomForestRegression model\n",
    "model = RandomForestRegressor(n_estimators= 10, random_state= 0)\n",
    "\n",
    "# Fitting the model\n",
    "model.fit(X_train, y_train)\n",
    "\n",
    "# Predicting the model\n",
    "y_pred =model.predict(X_test)\n",
    "\n",
    "# Root mean square error of the model\n",
    "rmse = float(format(np.sqrt(mean_squared_error(y_test, y_pred)), '.3f'))\n",
    "print(rmse)"
   ]
  },
  {
   "cell_type": "code",
   "execution_count": 115,
   "id": "0075f3b4",
   "metadata": {},
   "outputs": [
    {
     "name": "stdout",
     "output_type": "stream",
     "text": [
      "Mean Relative Error: 0.11\n"
     ]
    }
   ],
   "source": [
    "errors = abs((y_pred - y_test)/y_test)\n",
    "print('Mean Relative Error:', round(np.mean(errors), 2))"
   ]
  },
  {
   "cell_type": "markdown",
   "id": "badaf6ae",
   "metadata": {},
   "source": [
    "# Europe"
   ]
  },
  {
   "cell_type": "code",
   "execution_count": 116,
   "id": "3850df31",
   "metadata": {
    "scrolled": true
   },
   "outputs": [
    {
     "data": {
      "text/html": [
       "<div>\n",
       "<style scoped>\n",
       "    .dataframe tbody tr th:only-of-type {\n",
       "        vertical-align: middle;\n",
       "    }\n",
       "\n",
       "    .dataframe tbody tr th {\n",
       "        vertical-align: top;\n",
       "    }\n",
       "\n",
       "    .dataframe thead th {\n",
       "        text-align: right;\n",
       "    }\n",
       "</style>\n",
       "<table border=\"1\" class=\"dataframe\">\n",
       "  <thead>\n",
       "    <tr style=\"text-align: right;\">\n",
       "      <th></th>\n",
       "      <th>date</th>\n",
       "      <th>currency_code</th>\n",
       "      <th>Country</th>\n",
       "      <th>local_price</th>\n",
       "      <th>dollar_ex</th>\n",
       "      <th>dollar_price</th>\n",
       "      <th>Year</th>\n",
       "      <th>Code</th>\n",
       "      <th>gdp_growth</th>\n",
       "      <th>GDP_Per_Capita</th>\n",
       "      <th>GDP</th>\n",
       "      <th>country_code</th>\n",
       "      <th>region</th>\n",
       "      <th>sub_region</th>\n",
       "      <th>GDP_log10</th>\n",
       "    </tr>\n",
       "  </thead>\n",
       "  <tbody>\n",
       "    <tr>\n",
       "      <th>6</th>\n",
       "      <td>4/1/2000</td>\n",
       "      <td>CZK</td>\n",
       "      <td>Czech Republic</td>\n",
       "      <td>54.37</td>\n",
       "      <td>39</td>\n",
       "      <td>1.39</td>\n",
       "      <td>2000</td>\n",
       "      <td>CZE</td>\n",
       "      <td>1.652494</td>\n",
       "      <td>15577.39220</td>\n",
       "      <td>1.588410e+11</td>\n",
       "      <td>203</td>\n",
       "      <td>Europe</td>\n",
       "      <td>Eastern Europe</td>\n",
       "      <td>11.200963</td>\n",
       "    </tr>\n",
       "    <tr>\n",
       "      <th>7</th>\n",
       "      <td>4/1/2000</td>\n",
       "      <td>DKK</td>\n",
       "      <td>Denmark</td>\n",
       "      <td>24.75</td>\n",
       "      <td>8</td>\n",
       "      <td>3.09</td>\n",
       "      <td>2000</td>\n",
       "      <td>DNK</td>\n",
       "      <td>0.466346</td>\n",
       "      <td>56190.81125</td>\n",
       "      <td>3.020780e+11</td>\n",
       "      <td>208</td>\n",
       "      <td>Europe</td>\n",
       "      <td>Northern Europe</td>\n",
       "      <td>11.480119</td>\n",
       "    </tr>\n",
       "    <tr>\n",
       "      <th>8</th>\n",
       "      <td>4/1/2000</td>\n",
       "      <td>HUF</td>\n",
       "      <td>Hungary</td>\n",
       "      <td>339.00</td>\n",
       "      <td>279</td>\n",
       "      <td>1.22</td>\n",
       "      <td>2000</td>\n",
       "      <td>HUN</td>\n",
       "      <td>4.528206</td>\n",
       "      <td>11450.28384</td>\n",
       "      <td>1.163190e+11</td>\n",
       "      <td>348</td>\n",
       "      <td>Europe</td>\n",
       "      <td>Eastern Europe</td>\n",
       "      <td>11.065651</td>\n",
       "    </tr>\n",
       "    <tr>\n",
       "      <th>15</th>\n",
       "      <td>4/1/2000</td>\n",
       "      <td>PLN</td>\n",
       "      <td>Poland</td>\n",
       "      <td>5.50</td>\n",
       "      <td>4</td>\n",
       "      <td>1.38</td>\n",
       "      <td>2000</td>\n",
       "      <td>POL</td>\n",
       "      <td>2.041716</td>\n",
       "      <td>8815.45902</td>\n",
       "      <td>3.370180e+11</td>\n",
       "      <td>616</td>\n",
       "      <td>Europe</td>\n",
       "      <td>Eastern Europe</td>\n",
       "      <td>11.527653</td>\n",
       "    </tr>\n",
       "    <tr>\n",
       "      <th>18</th>\n",
       "      <td>4/1/2000</td>\n",
       "      <td>SEK</td>\n",
       "      <td>Sweden</td>\n",
       "      <td>24.00</td>\n",
       "      <td>8</td>\n",
       "      <td>3.00</td>\n",
       "      <td>2000</td>\n",
       "      <td>SWE</td>\n",
       "      <td>2.075301</td>\n",
       "      <td>46123.93699</td>\n",
       "      <td>4.116540e+11</td>\n",
       "      <td>752</td>\n",
       "      <td>Europe</td>\n",
       "      <td>Northern Europe</td>\n",
       "      <td>11.614532</td>\n",
       "    </tr>\n",
       "  </tbody>\n",
       "</table>\n",
       "</div>"
      ],
      "text/plain": [
       "        date currency_code         Country  local_price  dollar_ex  \\\n",
       "6   4/1/2000           CZK  Czech Republic        54.37         39   \n",
       "7   4/1/2000           DKK         Denmark        24.75          8   \n",
       "8   4/1/2000           HUF         Hungary       339.00        279   \n",
       "15  4/1/2000           PLN          Poland         5.50          4   \n",
       "18  4/1/2000           SEK          Sweden        24.00          8   \n",
       "\n",
       "    dollar_price  Year Code  gdp_growth  GDP_Per_Capita           GDP  \\\n",
       "6           1.39  2000  CZE    1.652494     15577.39220  1.588410e+11   \n",
       "7           3.09  2000  DNK    0.466346     56190.81125  3.020780e+11   \n",
       "8           1.22  2000  HUN    4.528206     11450.28384  1.163190e+11   \n",
       "15          1.38  2000  POL    2.041716      8815.45902  3.370180e+11   \n",
       "18          3.00  2000  SWE    2.075301     46123.93699  4.116540e+11   \n",
       "\n",
       "    country_code  region       sub_region  GDP_log10  \n",
       "6            203  Europe   Eastern Europe  11.200963  \n",
       "7            208  Europe  Northern Europe  11.480119  \n",
       "8            348  Europe   Eastern Europe  11.065651  \n",
       "15           616  Europe   Eastern Europe  11.527653  \n",
       "18           752  Europe  Northern Europe  11.614532  "
      ]
     },
     "execution_count": 116,
     "metadata": {},
     "output_type": "execute_result"
    }
   ],
   "source": [
    "df_Europe = df.loc[df['region'] == \"Europe\"]\n",
    "df_Europe.head()"
   ]
  },
  {
   "cell_type": "code",
   "execution_count": 117,
   "id": "6829e7cd",
   "metadata": {},
   "outputs": [],
   "source": [
    "# Defining the feature (X) and target (y)\n",
    "X = df_Europe.GDP_log10.values.reshape(-1,1)\n",
    "y = df_Europe.dollar_price.values.reshape(-1,1)"
   ]
  },
  {
   "cell_type": "code",
   "execution_count": 118,
   "id": "f80d6b33",
   "metadata": {},
   "outputs": [],
   "source": [
    "# Splitting the dataset into training and testing set\n",
    "from sklearn.model_selection import train_test_split\n",
    "X_train, X_test, y_train, y_test = train_test_split(X,y, test_size=0.2, random_state=2)\n",
    "\n",
    "# Instantiate linear regression model\n",
    "model = LinearRegression()\n",
    "\n",
    "# training the model\n",
    "model.fit(X,y)\n",
    "\n",
    "# Predicting the target value\n",
    "y_pred = model.predict(X)"
   ]
  },
  {
   "cell_type": "code",
   "execution_count": 119,
   "id": "c7f41225",
   "metadata": {},
   "outputs": [
    {
     "data": {
      "image/png": "[encoded data removed]",
      "text/plain": [
       "<Figure size 432x288 with 1 Axes>"
      ]
     },
     "metadata": {
      "needs_background": "light"
     },
     "output_type": "display_data"
    }
   ],
   "source": [
    "# Creating a scatter plot with a regression curve\n",
    "plt.scatter(X, y)\n",
    "plt.xlabel('Europe log10(GDP)')\n",
    "plt.ylabel('BigMac Price ($)')\n",
    "plt.title('Linear Regression for Europe log10(GDP) vs BigMacPrices')\n",
    "plt.plot(X, y_pred, color='red')\n",
    "plt.show()"
   ]
  },
  {
   "cell_type": "markdown",
   "id": "e5096ad8",
   "metadata": {},
   "source": [
    "# Applying RandomForestRegression to Europe"
   ]
  },
  {
   "cell_type": "code",
   "execution_count": 120,
   "id": "350b6882",
   "metadata": {
    "scrolled": true
   },
   "outputs": [
    {
     "data": {
      "text/html": [
       "<div>\n",
       "<style scoped>\n",
       "    .dataframe tbody tr th:only-of-type {\n",
       "        vertical-align: middle;\n",
       "    }\n",
       "\n",
       "    .dataframe tbody tr th {\n",
       "        vertical-align: top;\n",
       "    }\n",
       "\n",
       "    .dataframe thead th {\n",
       "        text-align: right;\n",
       "    }\n",
       "</style>\n",
       "<table border=\"1\" class=\"dataframe\">\n",
       "  <thead>\n",
       "    <tr style=\"text-align: right;\">\n",
       "      <th></th>\n",
       "      <th>dollar_price</th>\n",
       "      <th>Year</th>\n",
       "      <th>gdp_growth</th>\n",
       "      <th>GDP_Per_Capita</th>\n",
       "      <th>GDP</th>\n",
       "    </tr>\n",
       "  </thead>\n",
       "  <tbody>\n",
       "    <tr>\n",
       "      <th>6</th>\n",
       "      <td>1.39</td>\n",
       "      <td>2000</td>\n",
       "      <td>1.652494</td>\n",
       "      <td>15577.39220</td>\n",
       "      <td>1.588410e+11</td>\n",
       "    </tr>\n",
       "    <tr>\n",
       "      <th>7</th>\n",
       "      <td>3.09</td>\n",
       "      <td>2000</td>\n",
       "      <td>0.466346</td>\n",
       "      <td>56190.81125</td>\n",
       "      <td>3.020780e+11</td>\n",
       "    </tr>\n",
       "    <tr>\n",
       "      <th>8</th>\n",
       "      <td>1.22</td>\n",
       "      <td>2000</td>\n",
       "      <td>4.528206</td>\n",
       "      <td>11450.28384</td>\n",
       "      <td>1.163190e+11</td>\n",
       "    </tr>\n",
       "    <tr>\n",
       "      <th>15</th>\n",
       "      <td>1.38</td>\n",
       "      <td>2000</td>\n",
       "      <td>2.041716</td>\n",
       "      <td>8815.45902</td>\n",
       "      <td>3.370180e+11</td>\n",
       "    </tr>\n",
       "    <tr>\n",
       "      <th>18</th>\n",
       "      <td>3.00</td>\n",
       "      <td>2000</td>\n",
       "      <td>2.075301</td>\n",
       "      <td>46123.93699</td>\n",
       "      <td>4.116540e+11</td>\n",
       "    </tr>\n",
       "  </tbody>\n",
       "</table>\n",
       "</div>"
      ],
      "text/plain": [
       "    dollar_price  Year  gdp_growth  GDP_Per_Capita           GDP\n",
       "6           1.39  2000    1.652494     15577.39220  1.588410e+11\n",
       "7           3.09  2000    0.466346     56190.81125  3.020780e+11\n",
       "8           1.22  2000    4.528206     11450.28384  1.163190e+11\n",
       "15          1.38  2000    2.041716      8815.45902  3.370180e+11\n",
       "18          3.00  2000    2.075301     46123.93699  4.116540e+11"
      ]
     },
     "execution_count": 120,
     "metadata": {},
     "output_type": "execute_result"
    }
   ],
   "source": [
    "# Dropping columns \"local_price\", \"dollar_ex\" and those with string values\n",
    "df_Europe_modified = df_Europe.drop(['date','currency_code', 'Country', 'Code', 'country_code', 'region', 'sub_region',\n",
    "                               'local_price', 'dollar_ex', 'GDP_log10'], axis =1)\n",
    "\n",
    "df_Europe_modified.head(5)"
   ]
  },
  {
   "cell_type": "code",
   "execution_count": 121,
   "id": "53777e7c",
   "metadata": {},
   "outputs": [],
   "source": [
    "# Defining Feature(X) and variable (y)\n",
    "X = df_Europe_modified.drop('dollar_price', axis=1)\n",
    "y = df_Europe_modified.dollar_price"
   ]
  },
  {
   "cell_type": "code",
   "execution_count": 122,
   "id": "47eadc5e",
   "metadata": {
    "scrolled": true
   },
   "outputs": [
    {
     "data": {
      "text/html": [
       "<div>\n",
       "<style scoped>\n",
       "    .dataframe tbody tr th:only-of-type {\n",
       "        vertical-align: middle;\n",
       "    }\n",
       "\n",
       "    .dataframe tbody tr th {\n",
       "        vertical-align: top;\n",
       "    }\n",
       "\n",
       "    .dataframe thead th {\n",
       "        text-align: right;\n",
       "    }\n",
       "</style>\n",
       "<table border=\"1\" class=\"dataframe\">\n",
       "  <thead>\n",
       "    <tr style=\"text-align: right;\">\n",
       "      <th></th>\n",
       "      <th>Year</th>\n",
       "      <th>gdp_growth</th>\n",
       "      <th>GDP_Per_Capita</th>\n",
       "      <th>GDP</th>\n",
       "    </tr>\n",
       "  </thead>\n",
       "  <tbody>\n",
       "    <tr>\n",
       "      <th>6</th>\n",
       "      <td>2000</td>\n",
       "      <td>1.652494</td>\n",
       "      <td>15577.39220</td>\n",
       "      <td>1.588410e+11</td>\n",
       "    </tr>\n",
       "    <tr>\n",
       "      <th>7</th>\n",
       "      <td>2000</td>\n",
       "      <td>0.466346</td>\n",
       "      <td>56190.81125</td>\n",
       "      <td>3.020780e+11</td>\n",
       "    </tr>\n",
       "    <tr>\n",
       "      <th>8</th>\n",
       "      <td>2000</td>\n",
       "      <td>4.528206</td>\n",
       "      <td>11450.28384</td>\n",
       "      <td>1.163190e+11</td>\n",
       "    </tr>\n",
       "    <tr>\n",
       "      <th>15</th>\n",
       "      <td>2000</td>\n",
       "      <td>2.041716</td>\n",
       "      <td>8815.45902</td>\n",
       "      <td>3.370180e+11</td>\n",
       "    </tr>\n",
       "    <tr>\n",
       "      <th>18</th>\n",
       "      <td>2000</td>\n",
       "      <td>2.075301</td>\n",
       "      <td>46123.93699</td>\n",
       "      <td>4.116540e+11</td>\n",
       "    </tr>\n",
       "  </tbody>\n",
       "</table>\n",
       "</div>"
      ],
      "text/plain": [
       "    Year  gdp_growth  GDP_Per_Capita           GDP\n",
       "6   2000    1.652494     15577.39220  1.588410e+11\n",
       "7   2000    0.466346     56190.81125  3.020780e+11\n",
       "8   2000    4.528206     11450.28384  1.163190e+11\n",
       "15  2000    2.041716      8815.45902  3.370180e+11\n",
       "18  2000    2.075301     46123.93699  4.116540e+11"
      ]
     },
     "execution_count": 122,
     "metadata": {},
     "output_type": "execute_result"
    }
   ],
   "source": [
    "X.head()"
   ]
  },
  {
   "cell_type": "code",
   "execution_count": 123,
   "id": "6a3a3bd2",
   "metadata": {},
   "outputs": [
    {
     "name": "stdout",
     "output_type": "stream",
     "text": [
      "0.506\n"
     ]
    }
   ],
   "source": [
    "# Splitting the dataset into training and testing sets\n",
    "X_train, X_test, y_train, y_test = train_test_split(X, y, test_size=0.2, random_state= 28)\n",
    "\n",
    "# Instantiate the RandomForestRegression model\n",
    "model = RandomForestRegressor(n_estimators= 10, random_state= 0)\n",
    "\n",
    "# Fitting the model\n",
    "model.fit(X_train, y_train)\n",
    "\n",
    "# Predicting the model\n",
    "y_pred =model.predict(X_test)\n",
    "\n",
    "# Root mean square error of the model\n",
    "rmse = float(format(np.sqrt(mean_squared_error(y_test, y_pred)), '.3f'))\n",
    "print(rmse)"
   ]
  },
  {
   "cell_type": "code",
   "execution_count": 124,
   "id": "e3a301d6",
   "metadata": {},
   "outputs": [
    {
     "name": "stdout",
     "output_type": "stream",
     "text": [
      "Mean Relative Error: 0.08\n"
     ]
    }
   ],
   "source": [
    "errors = abs((y_pred - y_test)/y_test)\n",
    "print('Mean Relative Error:', round(np.mean(errors), 2))"
   ]
  },
  {
   "cell_type": "markdown",
   "id": "ae3d9c6f",
   "metadata": {},
   "source": [
    "# Top Five GDPs"
   ]
  },
  {
   "cell_type": "code",
   "execution_count": 125,
   "id": "874150d1",
   "metadata": {
    "scrolled": true
   },
   "outputs": [
    {
     "data": {
      "text/html": [
       "<div>\n",
       "<style scoped>\n",
       "    .dataframe tbody tr th:only-of-type {\n",
       "        vertical-align: middle;\n",
       "    }\n",
       "\n",
       "    .dataframe tbody tr th {\n",
       "        vertical-align: top;\n",
       "    }\n",
       "\n",
       "    .dataframe thead th {\n",
       "        text-align: right;\n",
       "    }\n",
       "</style>\n",
       "<table border=\"1\" class=\"dataframe\">\n",
       "  <thead>\n",
       "    <tr style=\"text-align: right;\">\n",
       "      <th></th>\n",
       "      <th>date</th>\n",
       "      <th>currency_code</th>\n",
       "      <th>Country</th>\n",
       "      <th>local_price</th>\n",
       "      <th>dollar_ex</th>\n",
       "      <th>dollar_price</th>\n",
       "      <th>Year</th>\n",
       "      <th>Code</th>\n",
       "      <th>gdp_growth</th>\n",
       "      <th>GDP_Per_Capita</th>\n",
       "      <th>GDP</th>\n",
       "      <th>country_code</th>\n",
       "      <th>region</th>\n",
       "      <th>sub_region</th>\n",
       "      <th>GDP_log10</th>\n",
       "    </tr>\n",
       "  </thead>\n",
       "  <tbody>\n",
       "    <tr>\n",
       "      <th>5</th>\n",
       "      <td>4/1/2000</td>\n",
       "      <td>CNY</td>\n",
       "      <td>China</td>\n",
       "      <td>9.90</td>\n",
       "      <td>8</td>\n",
       "      <td>1.24</td>\n",
       "      <td>2000</td>\n",
       "      <td>CHN</td>\n",
       "      <td>9.130646</td>\n",
       "      <td>2061.162284</td>\n",
       "      <td>2.639110e+12</td>\n",
       "      <td>156</td>\n",
       "      <td>Asia</td>\n",
       "      <td>Eastern Asia</td>\n",
       "      <td>12.421457</td>\n",
       "    </tr>\n",
       "    <tr>\n",
       "      <th>11</th>\n",
       "      <td>4/1/2000</td>\n",
       "      <td>JPY</td>\n",
       "      <td>Japan</td>\n",
       "      <td>294.00</td>\n",
       "      <td>106</td>\n",
       "      <td>2.77</td>\n",
       "      <td>2000</td>\n",
       "      <td>JPN</td>\n",
       "      <td>0.117993</td>\n",
       "      <td>42190.804870</td>\n",
       "      <td>5.377010e+12</td>\n",
       "      <td>392</td>\n",
       "      <td>Asia</td>\n",
       "      <td>Eastern Asia</td>\n",
       "      <td>12.730541</td>\n",
       "    </tr>\n",
       "    <tr>\n",
       "      <th>27</th>\n",
       "      <td>4/1/2001</td>\n",
       "      <td>CNY</td>\n",
       "      <td>China</td>\n",
       "      <td>9.90</td>\n",
       "      <td>8</td>\n",
       "      <td>1.24</td>\n",
       "      <td>2001</td>\n",
       "      <td>CHN</td>\n",
       "      <td>10.035603</td>\n",
       "      <td>2253.929689</td>\n",
       "      <td>2.903960e+12</td>\n",
       "      <td>156</td>\n",
       "      <td>Asia</td>\n",
       "      <td>Eastern Asia</td>\n",
       "      <td>12.462991</td>\n",
       "    </tr>\n",
       "    <tr>\n",
       "      <th>32</th>\n",
       "      <td>4/1/2001</td>\n",
       "      <td>JPY</td>\n",
       "      <td>Japan</td>\n",
       "      <td>294.00</td>\n",
       "      <td>124</td>\n",
       "      <td>2.37</td>\n",
       "      <td>2001</td>\n",
       "      <td>JPN</td>\n",
       "      <td>1.528220</td>\n",
       "      <td>42744.011280</td>\n",
       "      <td>5.459180e+12</td>\n",
       "      <td>392</td>\n",
       "      <td>Asia</td>\n",
       "      <td>Eastern Asia</td>\n",
       "      <td>12.737127</td>\n",
       "    </tr>\n",
       "    <tr>\n",
       "      <th>49</th>\n",
       "      <td>4/1/2002</td>\n",
       "      <td>CNY</td>\n",
       "      <td>China</td>\n",
       "      <td>10.50</td>\n",
       "      <td>8</td>\n",
       "      <td>1.31</td>\n",
       "      <td>2002</td>\n",
       "      <td>CHN</td>\n",
       "      <td>10.111223</td>\n",
       "      <td>2467.132843</td>\n",
       "      <td>3.197590e+12</td>\n",
       "      <td>156</td>\n",
       "      <td>Asia</td>\n",
       "      <td>Eastern Asia</td>\n",
       "      <td>12.504823</td>\n",
       "    </tr>\n",
       "    <tr>\n",
       "      <th>...</th>\n",
       "      <td>...</td>\n",
       "      <td>...</td>\n",
       "      <td>...</td>\n",
       "      <td>...</td>\n",
       "      <td>...</td>\n",
       "      <td>...</td>\n",
       "      <td>...</td>\n",
       "      <td>...</td>\n",
       "      <td>...</td>\n",
       "      <td>...</td>\n",
       "      <td>...</td>\n",
       "      <td>...</td>\n",
       "      <td>...</td>\n",
       "      <td>...</td>\n",
       "      <td>...</td>\n",
       "    </tr>\n",
       "    <tr>\n",
       "      <th>880</th>\n",
       "      <td>7/1/2016</td>\n",
       "      <td>CNY</td>\n",
       "      <td>China</td>\n",
       "      <td>18.60</td>\n",
       "      <td>6</td>\n",
       "      <td>3.10</td>\n",
       "      <td>2016</td>\n",
       "      <td>CHN</td>\n",
       "      <td>6.600000</td>\n",
       "      <td>7754.962119</td>\n",
       "      <td>1.080060e+13</td>\n",
       "      <td>156</td>\n",
       "      <td>Asia</td>\n",
       "      <td>Eastern Asia</td>\n",
       "      <td>13.033448</td>\n",
       "    </tr>\n",
       "    <tr>\n",
       "      <th>887</th>\n",
       "      <td>7/1/2016</td>\n",
       "      <td>EUR</td>\n",
       "      <td>France</td>\n",
       "      <td>4.10</td>\n",
       "      <td>1</td>\n",
       "      <td>4.10</td>\n",
       "      <td>2016</td>\n",
       "      <td>FRA</td>\n",
       "      <td>1.724881</td>\n",
       "      <td>43663.584920</td>\n",
       "      <td>2.924900e+12</td>\n",
       "      <td>250</td>\n",
       "      <td>Europe</td>\n",
       "      <td>Western Europe</td>\n",
       "      <td>12.466111</td>\n",
       "    </tr>\n",
       "    <tr>\n",
       "      <th>888</th>\n",
       "      <td>7/1/2016</td>\n",
       "      <td>EUR</td>\n",
       "      <td>Germany</td>\n",
       "      <td>3.79</td>\n",
       "      <td>1</td>\n",
       "      <td>3.79</td>\n",
       "      <td>2016</td>\n",
       "      <td>DEU</td>\n",
       "      <td>1.425303</td>\n",
       "      <td>47501.812650</td>\n",
       "      <td>3.939230e+12</td>\n",
       "      <td>276</td>\n",
       "      <td>Europe</td>\n",
       "      <td>Western Europe</td>\n",
       "      <td>12.595411</td>\n",
       "    </tr>\n",
       "    <tr>\n",
       "      <th>896</th>\n",
       "      <td>7/1/2016</td>\n",
       "      <td>JPY</td>\n",
       "      <td>Japan</td>\n",
       "      <td>370.00</td>\n",
       "      <td>106</td>\n",
       "      <td>3.49</td>\n",
       "      <td>2016</td>\n",
       "      <td>JPN</td>\n",
       "      <td>0.787965</td>\n",
       "      <td>48919.560890</td>\n",
       "      <td>6.189750e+12</td>\n",
       "      <td>392</td>\n",
       "      <td>Asia</td>\n",
       "      <td>Eastern Asia</td>\n",
       "      <td>12.791673</td>\n",
       "    </tr>\n",
       "    <tr>\n",
       "      <th>917</th>\n",
       "      <td>7/1/2016</td>\n",
       "      <td>USD</td>\n",
       "      <td>United States</td>\n",
       "      <td>4.50</td>\n",
       "      <td>1</td>\n",
       "      <td>4.50</td>\n",
       "      <td>2016</td>\n",
       "      <td>USA</td>\n",
       "      <td>2.856988</td>\n",
       "      <td>54541.720520</td>\n",
       "      <td>1.784430e+13</td>\n",
       "      <td>840</td>\n",
       "      <td>Americas</td>\n",
       "      <td>Northern America</td>\n",
       "      <td>13.251500</td>\n",
       "    </tr>\n",
       "  </tbody>\n",
       "</table>\n",
       "<p>97 rows × 15 columns</p>\n",
       "</div>"
      ],
      "text/plain": [
       "         date currency_code        Country  local_price  dollar_ex  \\\n",
       "5    4/1/2000           CNY          China         9.90          8   \n",
       "11   4/1/2000           JPY          Japan       294.00        106   \n",
       "27   4/1/2001           CNY          China         9.90          8   \n",
       "32   4/1/2001           JPY          Japan       294.00        124   \n",
       "49   4/1/2002           CNY          China        10.50          8   \n",
       "..        ...           ...            ...          ...        ...   \n",
       "880  7/1/2016           CNY          China        18.60          6   \n",
       "887  7/1/2016           EUR         France         4.10          1   \n",
       "888  7/1/2016           EUR        Germany         3.79          1   \n",
       "896  7/1/2016           JPY          Japan       370.00        106   \n",
       "917  7/1/2016           USD  United States         4.50          1   \n",
       "\n",
       "     dollar_price  Year Code  gdp_growth  GDP_Per_Capita           GDP  \\\n",
       "5            1.24  2000  CHN    9.130646     2061.162284  2.639110e+12   \n",
       "11           2.77  2000  JPN    0.117993    42190.804870  5.377010e+12   \n",
       "27           1.24  2001  CHN   10.035603     2253.929689  2.903960e+12   \n",
       "32           2.37  2001  JPN    1.528220    42744.011280  5.459180e+12   \n",
       "49           1.31  2002  CHN   10.111223     2467.132843  3.197590e+12   \n",
       "..            ...   ...  ...         ...             ...           ...   \n",
       "880          3.10  2016  CHN    6.600000     7754.962119  1.080060e+13   \n",
       "887          4.10  2016  FRA    1.724881    43663.584920  2.924900e+12   \n",
       "888          3.79  2016  DEU    1.425303    47501.812650  3.939230e+12   \n",
       "896          3.49  2016  JPN    0.787965    48919.560890  6.189750e+12   \n",
       "917          4.50  2016  USA    2.856988    54541.720520  1.784430e+13   \n",
       "\n",
       "     country_code    region        sub_region  GDP_log10  \n",
       "5             156      Asia      Eastern Asia  12.421457  \n",
       "11            392      Asia      Eastern Asia  12.730541  \n",
       "27            156      Asia      Eastern Asia  12.462991  \n",
       "32            392      Asia      Eastern Asia  12.737127  \n",
       "49            156      Asia      Eastern Asia  12.504823  \n",
       "..            ...       ...               ...        ...  \n",
       "880           156      Asia      Eastern Asia  13.033448  \n",
       "887           250    Europe    Western Europe  12.466111  \n",
       "888           276    Europe    Western Europe  12.595411  \n",
       "896           392      Asia      Eastern Asia  12.791673  \n",
       "917           840  Americas  Northern America  13.251500  \n",
       "\n",
       "[97 rows x 15 columns]"
      ]
     },
     "execution_count": 125,
     "metadata": {},
     "output_type": "execute_result"
    }
   ],
   "source": [
    "topFive = ['USA', 'CHN', 'JPN', 'DEU', 'FRA']\n",
    "df_topFive = df.loc[df['Code'].isin(topFive)]\n",
    "df_topFive"
   ]
  },
  {
   "cell_type": "code",
   "execution_count": 126,
   "id": "61a3bb0e",
   "metadata": {},
   "outputs": [],
   "source": [
    "# Defining the feature (X) and target (y)\n",
    "X = df_topFive.GDP_log10.values.reshape(-1,1)\n",
    "y = df_topFive.dollar_price.values.reshape(-1,1)"
   ]
  },
  {
   "cell_type": "code",
   "execution_count": 127,
   "id": "77d3bd71",
   "metadata": {},
   "outputs": [],
   "source": [
    "# Splitting the dataset into training and testing set\n",
    "from sklearn.model_selection import train_test_split\n",
    "X_train, X_test, y_train, y_test = train_test_split(X,y, test_size=0.2, random_state=2)\n",
    "\n",
    "# Instantiate linear regression model\n",
    "model = LinearRegression()\n",
    "\n",
    "# training the model\n",
    "model.fit(X,y)\n",
    "\n",
    "# Predicting the target value\n",
    "y_pred = model.predict(X)"
   ]
  },
  {
   "cell_type": "code",
   "execution_count": 128,
   "id": "d52d2c0f",
   "metadata": {},
   "outputs": [
    {
     "data": {
      "image/png": "[encoded data removed]",
      "text/plain": [
       "<Figure size 432x288 with 1 Axes>"
      ]
     },
     "metadata": {
      "needs_background": "light"
     },
     "output_type": "display_data"
    }
   ],
   "source": [
    "# Creating a scatter plot with a regression curve\n",
    "plt.scatter(X, y)\n",
    "plt.xlabel('Top Five log10(GDP)')\n",
    "plt.ylabel('BigMac Price ($)')\n",
    "plt.title('Linear Regression for Top Five GDPs vs BigMacPrices')\n",
    "plt.plot(X, y_pred, color='red')\n",
    "plt.show()"
   ]
  },
  {
   "cell_type": "code",
   "execution_count": 129,
   "id": "2471a1a4",
   "metadata": {
    "scrolled": true
   },
   "outputs": [
    {
     "data": {
      "text/html": [
       "<div>\n",
       "<style scoped>\n",
       "    .dataframe tbody tr th:only-of-type {\n",
       "        vertical-align: middle;\n",
       "    }\n",
       "\n",
       "    .dataframe tbody tr th {\n",
       "        vertical-align: top;\n",
       "    }\n",
       "\n",
       "    .dataframe thead th {\n",
       "        text-align: right;\n",
       "    }\n",
       "</style>\n",
       "<table border=\"1\" class=\"dataframe\">\n",
       "  <thead>\n",
       "    <tr style=\"text-align: right;\">\n",
       "      <th></th>\n",
       "      <th>dollar_price</th>\n",
       "      <th>Year</th>\n",
       "      <th>gdp_growth</th>\n",
       "      <th>GDP_Per_Capita</th>\n",
       "      <th>GDP</th>\n",
       "    </tr>\n",
       "  </thead>\n",
       "  <tbody>\n",
       "    <tr>\n",
       "      <th>5</th>\n",
       "      <td>1.24</td>\n",
       "      <td>2000</td>\n",
       "      <td>9.130646</td>\n",
       "      <td>2061.162284</td>\n",
       "      <td>2.639110e+12</td>\n",
       "    </tr>\n",
       "    <tr>\n",
       "      <th>11</th>\n",
       "      <td>2.77</td>\n",
       "      <td>2000</td>\n",
       "      <td>0.117993</td>\n",
       "      <td>42190.804870</td>\n",
       "      <td>5.377010e+12</td>\n",
       "    </tr>\n",
       "    <tr>\n",
       "      <th>27</th>\n",
       "      <td>1.24</td>\n",
       "      <td>2001</td>\n",
       "      <td>10.035603</td>\n",
       "      <td>2253.929689</td>\n",
       "      <td>2.903960e+12</td>\n",
       "    </tr>\n",
       "    <tr>\n",
       "      <th>32</th>\n",
       "      <td>2.37</td>\n",
       "      <td>2001</td>\n",
       "      <td>1.528220</td>\n",
       "      <td>42744.011280</td>\n",
       "      <td>5.459180e+12</td>\n",
       "    </tr>\n",
       "    <tr>\n",
       "      <th>49</th>\n",
       "      <td>1.31</td>\n",
       "      <td>2002</td>\n",
       "      <td>10.111223</td>\n",
       "      <td>2467.132843</td>\n",
       "      <td>3.197590e+12</td>\n",
       "    </tr>\n",
       "  </tbody>\n",
       "</table>\n",
       "</div>"
      ],
      "text/plain": [
       "    dollar_price  Year  gdp_growth  GDP_Per_Capita           GDP\n",
       "5           1.24  2000    9.130646     2061.162284  2.639110e+12\n",
       "11          2.77  2000    0.117993    42190.804870  5.377010e+12\n",
       "27          1.24  2001   10.035603     2253.929689  2.903960e+12\n",
       "32          2.37  2001    1.528220    42744.011280  5.459180e+12\n",
       "49          1.31  2002   10.111223     2467.132843  3.197590e+12"
      ]
     },
     "execution_count": 129,
     "metadata": {},
     "output_type": "execute_result"
    }
   ],
   "source": [
    "# Dropping columns \"local_price\", \"dollar_ex\" and those with string values\n",
    "df_topFive_modified = df_topFive.drop(['date','currency_code', 'Country', 'Code', 'country_code', 'region', 'sub_region',\n",
    "                               'local_price', 'dollar_ex', 'GDP_log10'], axis =1)\n",
    "\n",
    "df_topFive_modified.head(5)"
   ]
  },
  {
   "cell_type": "code",
   "execution_count": 130,
   "id": "f1f8236d",
   "metadata": {},
   "outputs": [],
   "source": [
    "# Defining Feature(X) and variable (y)\n",
    "X = df_topFive_modified.drop('dollar_price', axis=1)\n",
    "y = df_topFive_modified.dollar_price"
   ]
  },
  {
   "cell_type": "code",
   "execution_count": 131,
   "id": "19ec55c0",
   "metadata": {
    "scrolled": true
   },
   "outputs": [
    {
     "data": {
      "text/html": [
       "<div>\n",
       "<style scoped>\n",
       "    .dataframe tbody tr th:only-of-type {\n",
       "        vertical-align: middle;\n",
       "    }\n",
       "\n",
       "    .dataframe tbody tr th {\n",
       "        vertical-align: top;\n",
       "    }\n",
       "\n",
       "    .dataframe thead th {\n",
       "        text-align: right;\n",
       "    }\n",
       "</style>\n",
       "<table border=\"1\" class=\"dataframe\">\n",
       "  <thead>\n",
       "    <tr style=\"text-align: right;\">\n",
       "      <th></th>\n",
       "      <th>Year</th>\n",
       "      <th>gdp_growth</th>\n",
       "      <th>GDP_Per_Capita</th>\n",
       "      <th>GDP</th>\n",
       "    </tr>\n",
       "  </thead>\n",
       "  <tbody>\n",
       "    <tr>\n",
       "      <th>5</th>\n",
       "      <td>2000</td>\n",
       "      <td>9.130646</td>\n",
       "      <td>2061.162284</td>\n",
       "      <td>2.639110e+12</td>\n",
       "    </tr>\n",
       "    <tr>\n",
       "      <th>11</th>\n",
       "      <td>2000</td>\n",
       "      <td>0.117993</td>\n",
       "      <td>42190.804870</td>\n",
       "      <td>5.377010e+12</td>\n",
       "    </tr>\n",
       "    <tr>\n",
       "      <th>27</th>\n",
       "      <td>2001</td>\n",
       "      <td>10.035603</td>\n",
       "      <td>2253.929689</td>\n",
       "      <td>2.903960e+12</td>\n",
       "    </tr>\n",
       "    <tr>\n",
       "      <th>32</th>\n",
       "      <td>2001</td>\n",
       "      <td>1.528220</td>\n",
       "      <td>42744.011280</td>\n",
       "      <td>5.459180e+12</td>\n",
       "    </tr>\n",
       "    <tr>\n",
       "      <th>49</th>\n",
       "      <td>2002</td>\n",
       "      <td>10.111223</td>\n",
       "      <td>2467.132843</td>\n",
       "      <td>3.197590e+12</td>\n",
       "    </tr>\n",
       "  </tbody>\n",
       "</table>\n",
       "</div>"
      ],
      "text/plain": [
       "    Year  gdp_growth  GDP_Per_Capita           GDP\n",
       "5   2000    9.130646     2061.162284  2.639110e+12\n",
       "11  2000    0.117993    42190.804870  5.377010e+12\n",
       "27  2001   10.035603     2253.929689  2.903960e+12\n",
       "32  2001    1.528220    42744.011280  5.459180e+12\n",
       "49  2002   10.111223     2467.132843  3.197590e+12"
      ]
     },
     "execution_count": 131,
     "metadata": {},
     "output_type": "execute_result"
    }
   ],
   "source": [
    "X.head()"
   ]
  },
  {
   "cell_type": "code",
   "execution_count": 132,
   "id": "17ef6d3b",
   "metadata": {
    "scrolled": true
   },
   "outputs": [
    {
     "name": "stdout",
     "output_type": "stream",
     "text": [
      "0.243\n"
     ]
    }
   ],
   "source": [
    "# Splitting the dataset into training and testing sets\n",
    "X_train, X_test, y_train, y_test = train_test_split(X, y, test_size=0.2, random_state= 28)\n",
    "\n",
    "# Instantiate the RandomForestRegression model\n",
    "model = RandomForestRegressor(n_estimators= 10, random_state= 0)\n",
    "\n",
    "# Fitting the model\n",
    "model.fit(X_train, y_train)\n",
    "\n",
    "# Predicting the model\n",
    "y_pred =model.predict(X_test)\n",
    "\n",
    "# Root mean square error of the model\n",
    "rmse = float(format(np.sqrt(mean_squared_error(y_test, y_pred)), '.3f'))\n",
    "print(rmse)"
   ]
  },
  {
   "cell_type": "code",
   "execution_count": 133,
   "id": "6dfbcf0f",
   "metadata": {},
   "outputs": [
    {
     "name": "stdout",
     "output_type": "stream",
     "text": [
      "Mean Relative Error: 0.06\n"
     ]
    }
   ],
   "source": [
    "errors = abs((y_pred - y_test)/y_test)\n",
    "print('Mean Relative Error:', round(np.mean(errors), 2))"
   ]
  },
  {
   "cell_type": "code",
   "execution_count": 134,
   "id": "e7d06d94",
   "metadata": {},
   "outputs": [],
   "source": [
    "# Bottom Five GDP's"
   ]
  },
  {
   "cell_type": "code",
   "execution_count": 135,
   "id": "e62efd0e",
   "metadata": {
    "scrolled": true
   },
   "outputs": [
    {
     "data": {
      "text/html": [
       "<div>\n",
       "<style scoped>\n",
       "    .dataframe tbody tr th:only-of-type {\n",
       "        vertical-align: middle;\n",
       "    }\n",
       "\n",
       "    .dataframe tbody tr th {\n",
       "        vertical-align: top;\n",
       "    }\n",
       "\n",
       "    .dataframe thead th {\n",
       "        text-align: right;\n",
       "    }\n",
       "</style>\n",
       "<table border=\"1\" class=\"dataframe\">\n",
       "  <thead>\n",
       "    <tr style=\"text-align: right;\">\n",
       "      <th></th>\n",
       "      <th>date</th>\n",
       "      <th>currency_code</th>\n",
       "      <th>Country</th>\n",
       "      <th>local_price</th>\n",
       "      <th>dollar_ex</th>\n",
       "      <th>dollar_price</th>\n",
       "      <th>Year</th>\n",
       "      <th>Code</th>\n",
       "      <th>gdp_growth</th>\n",
       "      <th>GDP_Per_Capita</th>\n",
       "      <th>GDP</th>\n",
       "      <th>country_code</th>\n",
       "      <th>region</th>\n",
       "      <th>sub_region</th>\n",
       "      <th>GDP_log10</th>\n",
       "    </tr>\n",
       "  </thead>\n",
       "  <tbody>\n",
       "    <tr>\n",
       "      <th>8</th>\n",
       "      <td>4/1/2000</td>\n",
       "      <td>HUF</td>\n",
       "      <td>Hungary</td>\n",
       "      <td>339.0</td>\n",
       "      <td>279</td>\n",
       "      <td>1.22</td>\n",
       "      <td>2000</td>\n",
       "      <td>HUN</td>\n",
       "      <td>4.528206</td>\n",
       "      <td>11450.283840</td>\n",
       "      <td>1.163190e+11</td>\n",
       "      <td>348</td>\n",
       "      <td>Europe</td>\n",
       "      <td>Eastern Europe</td>\n",
       "      <td>11.065651</td>\n",
       "    </tr>\n",
       "    <tr>\n",
       "      <th>30</th>\n",
       "      <td>4/1/2001</td>\n",
       "      <td>HUF</td>\n",
       "      <td>Hungary</td>\n",
       "      <td>399.0</td>\n",
       "      <td>303</td>\n",
       "      <td>1.32</td>\n",
       "      <td>2001</td>\n",
       "      <td>HUN</td>\n",
       "      <td>3.848620</td>\n",
       "      <td>11925.070210</td>\n",
       "      <td>1.207960e+11</td>\n",
       "      <td>348</td>\n",
       "      <td>Europe</td>\n",
       "      <td>Eastern Europe</td>\n",
       "      <td>11.082053</td>\n",
       "    </tr>\n",
       "    <tr>\n",
       "      <th>52</th>\n",
       "      <td>4/1/2002</td>\n",
       "      <td>HUF</td>\n",
       "      <td>Hungary</td>\n",
       "      <td>459.0</td>\n",
       "      <td>272</td>\n",
       "      <td>1.69</td>\n",
       "      <td>2002</td>\n",
       "      <td>HUN</td>\n",
       "      <td>5.004918</td>\n",
       "      <td>12549.669360</td>\n",
       "      <td>1.268410e+11</td>\n",
       "      <td>348</td>\n",
       "      <td>Europe</td>\n",
       "      <td>Eastern Europe</td>\n",
       "      <td>11.103260</td>\n",
       "    </tr>\n",
       "    <tr>\n",
       "      <th>78</th>\n",
       "      <td>4/1/2003</td>\n",
       "      <td>HUF</td>\n",
       "      <td>Hungary</td>\n",
       "      <td>490.0</td>\n",
       "      <td>224</td>\n",
       "      <td>2.19</td>\n",
       "      <td>2003</td>\n",
       "      <td>HUN</td>\n",
       "      <td>4.388215</td>\n",
       "      <td>13126.455660</td>\n",
       "      <td>1.324070e+11</td>\n",
       "      <td>348</td>\n",
       "      <td>Europe</td>\n",
       "      <td>Eastern Europe</td>\n",
       "      <td>11.121911</td>\n",
       "    </tr>\n",
       "    <tr>\n",
       "      <th>101</th>\n",
       "      <td>5/1/2004</td>\n",
       "      <td>CRC</td>\n",
       "      <td>Costa Rica</td>\n",
       "      <td>1130.0</td>\n",
       "      <td>433</td>\n",
       "      <td>2.61</td>\n",
       "      <td>2004</td>\n",
       "      <td>CRI</td>\n",
       "      <td>7.237733</td>\n",
       "      <td>7289.904345</td>\n",
       "      <td>3.167764e+10</td>\n",
       "      <td>188</td>\n",
       "      <td>Americas</td>\n",
       "      <td>Latin America and the Caribbean</td>\n",
       "      <td>10.500753</td>\n",
       "    </tr>\n",
       "  </tbody>\n",
       "</table>\n",
       "</div>"
      ],
      "text/plain": [
       "         date currency_code     Country  local_price  dollar_ex  dollar_price  \\\n",
       "8    4/1/2000           HUF     Hungary        339.0        279          1.22   \n",
       "30   4/1/2001           HUF     Hungary        399.0        303          1.32   \n",
       "52   4/1/2002           HUF     Hungary        459.0        272          1.69   \n",
       "78   4/1/2003           HUF     Hungary        490.0        224          2.19   \n",
       "101  5/1/2004           CRC  Costa Rica       1130.0        433          2.61   \n",
       "\n",
       "     Year Code  gdp_growth  GDP_Per_Capita           GDP  country_code  \\\n",
       "8    2000  HUN    4.528206    11450.283840  1.163190e+11           348   \n",
       "30   2001  HUN    3.848620    11925.070210  1.207960e+11           348   \n",
       "52   2002  HUN    5.004918    12549.669360  1.268410e+11           348   \n",
       "78   2003  HUN    4.388215    13126.455660  1.324070e+11           348   \n",
       "101  2004  CRI    7.237733     7289.904345  3.167764e+10           188   \n",
       "\n",
       "       region                       sub_region  GDP_log10  \n",
       "8      Europe                   Eastern Europe  11.065651  \n",
       "30     Europe                   Eastern Europe  11.082053  \n",
       "52     Europe                   Eastern Europe  11.103260  \n",
       "78     Europe                   Eastern Europe  11.121911  \n",
       "101  Americas  Latin America and the Caribbean  10.500753  "
      ]
     },
     "execution_count": 135,
     "metadata": {},
     "output_type": "execute_result"
    }
   ],
   "source": [
    "bottomFive = ['EST', 'URY', 'CRI', 'LKA', 'HUN']\n",
    "df_bottomFive = df.loc[df['Code'].isin(bottomFive)]\n",
    "df_bottomFive.head()"
   ]
  },
  {
   "cell_type": "code",
   "execution_count": 136,
   "id": "a2186a3c",
   "metadata": {},
   "outputs": [],
   "source": [
    "# Defining the feature (X) and target (y)\n",
    "X = df_bottomFive.GDP_log10.values.reshape(-1,1)\n",
    "y = df_bottomFive.dollar_price.values.reshape(-1,1)"
   ]
  },
  {
   "cell_type": "code",
   "execution_count": 137,
   "id": "b2a1af4e",
   "metadata": {},
   "outputs": [],
   "source": [
    "# Splitting the dataset into training and testing set\n",
    "from sklearn.model_selection import train_test_split\n",
    "X_train, X_test, y_train, y_test = train_test_split(X,y, test_size=0.2, random_state=2)\n",
    "\n",
    "# Instantiate linear regression model\n",
    "model = LinearRegression()\n",
    "\n",
    "# training the model\n",
    "model.fit(X,y)\n",
    "\n",
    "# Predicting the target value\n",
    "y_pred = model.predict(X)"
   ]
  },
  {
   "cell_type": "code",
   "execution_count": 138,
   "id": "fddd08de",
   "metadata": {},
   "outputs": [
    {
     "data": {
      "image/png": "[encoded data removed]",
      "text/plain": [
       "<Figure size 432x288 with 1 Axes>"
      ]
     },
     "metadata": {
      "needs_background": "light"
     },
     "output_type": "display_data"
    }
   ],
   "source": [
    "# Creating a scatter plot with a regression curve\n",
    "plt.scatter(X, y)\n",
    "plt.xlabel('Bottom Five log10(GDP)')\n",
    "plt.ylabel('BigMac Price ($)')\n",
    "plt.title('Linear Regression for Bottom Five GDPs vs BigMacPrices')\n",
    "plt.plot(X, y_pred, color='red')\n",
    "plt.show()"
   ]
  },
  {
   "cell_type": "code",
   "execution_count": 139,
   "id": "c9ba3c37",
   "metadata": {},
   "outputs": [
    {
     "data": {
      "text/html": [
       "<div>\n",
       "<style scoped>\n",
       "    .dataframe tbody tr th:only-of-type {\n",
       "        vertical-align: middle;\n",
       "    }\n",
       "\n",
       "    .dataframe tbody tr th {\n",
       "        vertical-align: top;\n",
       "    }\n",
       "\n",
       "    .dataframe thead th {\n",
       "        text-align: right;\n",
       "    }\n",
       "</style>\n",
       "<table border=\"1\" class=\"dataframe\">\n",
       "  <thead>\n",
       "    <tr style=\"text-align: right;\">\n",
       "      <th></th>\n",
       "      <th>dollar_price</th>\n",
       "      <th>Year</th>\n",
       "      <th>gdp_growth</th>\n",
       "      <th>GDP_Per_Capita</th>\n",
       "      <th>GDP</th>\n",
       "    </tr>\n",
       "  </thead>\n",
       "  <tbody>\n",
       "    <tr>\n",
       "      <th>8</th>\n",
       "      <td>1.22</td>\n",
       "      <td>2000</td>\n",
       "      <td>4.528206</td>\n",
       "      <td>11450.283840</td>\n",
       "      <td>1.163190e+11</td>\n",
       "    </tr>\n",
       "    <tr>\n",
       "      <th>30</th>\n",
       "      <td>1.32</td>\n",
       "      <td>2001</td>\n",
       "      <td>3.848620</td>\n",
       "      <td>11925.070210</td>\n",
       "      <td>1.207960e+11</td>\n",
       "    </tr>\n",
       "    <tr>\n",
       "      <th>52</th>\n",
       "      <td>1.69</td>\n",
       "      <td>2002</td>\n",
       "      <td>5.004918</td>\n",
       "      <td>12549.669360</td>\n",
       "      <td>1.268410e+11</td>\n",
       "    </tr>\n",
       "    <tr>\n",
       "      <th>78</th>\n",
       "      <td>2.19</td>\n",
       "      <td>2003</td>\n",
       "      <td>4.388215</td>\n",
       "      <td>13126.455660</td>\n",
       "      <td>1.324070e+11</td>\n",
       "    </tr>\n",
       "    <tr>\n",
       "      <th>101</th>\n",
       "      <td>2.61</td>\n",
       "      <td>2004</td>\n",
       "      <td>7.237733</td>\n",
       "      <td>7289.904345</td>\n",
       "      <td>3.167764e+10</td>\n",
       "    </tr>\n",
       "  </tbody>\n",
       "</table>\n",
       "</div>"
      ],
      "text/plain": [
       "     dollar_price  Year  gdp_growth  GDP_Per_Capita           GDP\n",
       "8            1.22  2000    4.528206    11450.283840  1.163190e+11\n",
       "30           1.32  2001    3.848620    11925.070210  1.207960e+11\n",
       "52           1.69  2002    5.004918    12549.669360  1.268410e+11\n",
       "78           2.19  2003    4.388215    13126.455660  1.324070e+11\n",
       "101          2.61  2004    7.237733     7289.904345  3.167764e+10"
      ]
     },
     "execution_count": 139,
     "metadata": {},
     "output_type": "execute_result"
    }
   ],
   "source": [
    "# Dropping columns \"local_price\", \"dollar_ex\" and those with string values\n",
    "df_bottomFive_modified = df_bottomFive.drop(['date','currency_code', 'Country', 'Code', 'country_code', 'region', 'sub_region',\n",
    "                               'local_price', 'dollar_ex', 'GDP_log10'], axis =1)\n",
    "\n",
    "df_bottomFive_modified.head(5)"
   ]
  },
  {
   "cell_type": "code",
   "execution_count": 140,
   "id": "5e97e537",
   "metadata": {},
   "outputs": [],
   "source": [
    "# Defining Feature(X) and variable (y)\n",
    "X = df_bottomFive_modified.drop('dollar_price', axis=1)\n",
    "y = df_bottomFive_modified.dollar_price"
   ]
  },
  {
   "cell_type": "code",
   "execution_count": 141,
   "id": "b204db48",
   "metadata": {
    "scrolled": true
   },
   "outputs": [
    {
     "data": {
      "text/html": [
       "<div>\n",
       "<style scoped>\n",
       "    .dataframe tbody tr th:only-of-type {\n",
       "        vertical-align: middle;\n",
       "    }\n",
       "\n",
       "    .dataframe tbody tr th {\n",
       "        vertical-align: top;\n",
       "    }\n",
       "\n",
       "    .dataframe thead th {\n",
       "        text-align: right;\n",
       "    }\n",
       "</style>\n",
       "<table border=\"1\" class=\"dataframe\">\n",
       "  <thead>\n",
       "    <tr style=\"text-align: right;\">\n",
       "      <th></th>\n",
       "      <th>Year</th>\n",
       "      <th>gdp_growth</th>\n",
       "      <th>GDP_Per_Capita</th>\n",
       "      <th>GDP</th>\n",
       "    </tr>\n",
       "  </thead>\n",
       "  <tbody>\n",
       "    <tr>\n",
       "      <th>8</th>\n",
       "      <td>2000</td>\n",
       "      <td>4.528206</td>\n",
       "      <td>11450.283840</td>\n",
       "      <td>1.163190e+11</td>\n",
       "    </tr>\n",
       "    <tr>\n",
       "      <th>30</th>\n",
       "      <td>2001</td>\n",
       "      <td>3.848620</td>\n",
       "      <td>11925.070210</td>\n",
       "      <td>1.207960e+11</td>\n",
       "    </tr>\n",
       "    <tr>\n",
       "      <th>52</th>\n",
       "      <td>2002</td>\n",
       "      <td>5.004918</td>\n",
       "      <td>12549.669360</td>\n",
       "      <td>1.268410e+11</td>\n",
       "    </tr>\n",
       "    <tr>\n",
       "      <th>78</th>\n",
       "      <td>2003</td>\n",
       "      <td>4.388215</td>\n",
       "      <td>13126.455660</td>\n",
       "      <td>1.324070e+11</td>\n",
       "    </tr>\n",
       "    <tr>\n",
       "      <th>101</th>\n",
       "      <td>2004</td>\n",
       "      <td>7.237733</td>\n",
       "      <td>7289.904345</td>\n",
       "      <td>3.167764e+10</td>\n",
       "    </tr>\n",
       "  </tbody>\n",
       "</table>\n",
       "</div>"
      ],
      "text/plain": [
       "     Year  gdp_growth  GDP_Per_Capita           GDP\n",
       "8    2000    4.528206    11450.283840  1.163190e+11\n",
       "30   2001    3.848620    11925.070210  1.207960e+11\n",
       "52   2002    5.004918    12549.669360  1.268410e+11\n",
       "78   2003    4.388215    13126.455660  1.324070e+11\n",
       "101  2004    7.237733     7289.904345  3.167764e+10"
      ]
     },
     "execution_count": 141,
     "metadata": {},
     "output_type": "execute_result"
    }
   ],
   "source": [
    "X.head()"
   ]
  },
  {
   "cell_type": "code",
   "execution_count": 142,
   "id": "dccbd98d",
   "metadata": {},
   "outputs": [
    {
     "name": "stdout",
     "output_type": "stream",
     "text": [
      "0.306\n"
     ]
    }
   ],
   "source": [
    "# Splitting the dataset into training and testing sets\n",
    "X_train, X_test, y_train, y_test = train_test_split(X, y, test_size=0.2, random_state= 28)\n",
    "\n",
    "# Instantiate the RandomForestRegression model\n",
    "model = RandomForestRegressor(n_estimators= 10, random_state= 0)\n",
    "\n",
    "# Fitting the model\n",
    "model.fit(X_train, y_train)\n",
    "\n",
    "# Predicting the model\n",
    "y_pred =model.predict(X_test)\n",
    "\n",
    "# Root mean square error of the model\n",
    "rmse = float(format(np.sqrt(mean_squared_error(y_test, y_pred)), '.3f'))\n",
    "print(rmse)"
   ]
  },
  {
   "cell_type": "code",
   "execution_count": 143,
   "id": "020a7067",
   "metadata": {},
   "outputs": [
    {
     "name": "stdout",
     "output_type": "stream",
     "text": [
      "Mean Relative Error: 0.09\n"
     ]
    }
   ],
   "source": [
    "errors = abs((y_pred - y_test)/y_test)\n",
    "print('Mean Relative Error:', round(np.mean(errors), 2))"
   ]
  },
  {
   "cell_type": "markdown",
   "id": "406d021a",
   "metadata": {},
   "source": [
    "# Scrapsheets"
   ]
  },
  {
   "cell_type": "code",
   "execution_count": 144,
   "id": "ca5f53aa",
   "metadata": {},
   "outputs": [],
   "source": [
    "# # Define independent variable, I am using the log(GDP)\n",
    "# X =df.GDP_log10.values.reshape(-1,1)"
   ]
  },
  {
   "cell_type": "code",
   "execution_count": 145,
   "id": "64524d3d",
   "metadata": {},
   "outputs": [],
   "source": [
    "# # Define dependent variable, I am assuming that the column header will be \"price\"\n",
    "# y= df.dollar_price.values.reshape(-1,1)"
   ]
  },
  {
   "cell_type": "code",
   "execution_count": 146,
   "id": "062e3ecb",
   "metadata": {},
   "outputs": [],
   "source": [
    "# scaler = StandardScaler()"
   ]
  },
  {
   "cell_type": "code",
   "execution_count": 147,
   "id": "5c4b2587",
   "metadata": {},
   "outputs": [],
   "source": [
    "# from sklearn.model_selection import train_test_split\n",
    "# X_train, X_test, y_train, y_test = train_test_split(X,y, test_size=0.2, random_state=2)"
   ]
  },
  {
   "cell_type": "code",
   "execution_count": 148,
   "id": "8f8dab27",
   "metadata": {},
   "outputs": [],
   "source": [
    "# # Instantiate linear regression model\n",
    "# model = LinearRegression()\n"
   ]
  },
  {
   "cell_type": "code",
   "execution_count": 149,
   "id": "084e6274",
   "metadata": {},
   "outputs": [],
   "source": [
    "# # training the model\n",
    "# model.fit(X,y)"
   ]
  },
  {
   "cell_type": "code",
   "execution_count": 150,
   "id": "5bd1a669",
   "metadata": {},
   "outputs": [],
   "source": [
    "# y_pred = model.predict(X)"
   ]
  },
  {
   "cell_type": "code",
   "execution_count": 151,
   "id": "26e54628",
   "metadata": {
    "scrolled": true
   },
   "outputs": [],
   "source": [
    "# plt.scatter(X, y)\n",
    "# plt.plot(X, y_pred, color='red')\n",
    "# plt.show()"
   ]
  },
  {
   "cell_type": "code",
   "execution_count": 152,
   "id": "0c4b6a54",
   "metadata": {
    "scrolled": true
   },
   "outputs": [],
   "source": [
    "# print(model.coef_)\n",
    "# print(model.intercept_)"
   ]
  },
  {
   "cell_type": "code",
   "execution_count": 153,
   "id": "d8e7fc4c",
   "metadata": {
    "scrolled": false
   },
   "outputs": [],
   "source": [
    "# print(model.score(X,y))"
   ]
  },
  {
   "cell_type": "markdown",
   "id": "849a28a5",
   "metadata": {},
   "source": [
    "# Using 2nd Polynomial"
   ]
  },
  {
   "cell_type": "code",
   "execution_count": 154,
   "id": "94f58b53",
   "metadata": {},
   "outputs": [],
   "source": [
    "# Import dependencies\n",
    "from sklearn.preprocessing import PolynomialFeatures\n",
    "\n",
    "# Save an instance of Polynomial Feature\n",
    "poly = PolynomialFeatures(degree=2, include_bias=True)"
   ]
  },
  {
   "cell_type": "code",
   "execution_count": 155,
   "id": "2ad482ca",
   "metadata": {},
   "outputs": [],
   "source": [
    "# poly_features = poly.fit_transform(X.reshape(-1,1))"
   ]
  },
  {
   "cell_type": "code",
   "execution_count": 156,
   "id": "8f778edb",
   "metadata": {},
   "outputs": [],
   "source": [
    "# y"
   ]
  },
  {
   "cell_type": "code",
   "execution_count": 157,
   "id": "7b50acef",
   "metadata": {},
   "outputs": [],
   "source": [
    "# X_train, X_test, y_train, y_test = train_test_split(X,y,test_size=0.2, random_state=2)"
   ]
  },
  {
   "cell_type": "code",
   "execution_count": 158,
   "id": "65568f25",
   "metadata": {},
   "outputs": [],
   "source": [
    "# poly_reg_model = LinearRegression()"
   ]
  },
  {
   "cell_type": "code",
   "execution_count": 159,
   "id": "e10ac799",
   "metadata": {
    "scrolled": true
   },
   "outputs": [],
   "source": [
    "# poly_reg_model.fit(X_train, y_train)"
   ]
  },
  {
   "cell_type": "code",
   "execution_count": 160,
   "id": "f1f58859",
   "metadata": {},
   "outputs": [],
   "source": [
    "# y_predicted = poly_reg_model.predict(X_test)\n",
    "# y_predicted"
   ]
  },
  {
   "cell_type": "code",
   "execution_count": 161,
   "id": "ae57b39b",
   "metadata": {},
   "outputs": [],
   "source": [
    "# from sklearn.metrics import mean_squared_error"
   ]
  },
  {
   "cell_type": "code",
   "execution_count": 162,
   "id": "1867427c",
   "metadata": {},
   "outputs": [],
   "source": [
    "# poly_reg_rmse = np.sqrt(mean_squared_error(y_test,\n",
    "#                                           y_predicted))\n",
    "# poly_reg_rmse"
   ]
  },
  {
   "cell_type": "code",
   "execution_count": 163,
   "id": "e8787200",
   "metadata": {},
   "outputs": [],
   "source": [
    "# plt.figure(figsize= (10,6))\n",
    "# plt.title(\"Polynomial Reg\", size=16)\n",
    "# plt.scatter(X, y)\n",
    "# plt.plot(X, y_predicted, c='red')\n",
    "# plt.show()"
   ]
  },
  {
   "cell_type": "markdown",
   "id": "b6ec6744",
   "metadata": {},
   "source": [
    "# Lets try RandomForestRegressor"
   ]
  },
  {
   "cell_type": "code",
   "execution_count": 164,
   "id": "37bdfbed",
   "metadata": {},
   "outputs": [],
   "source": [
    "from sklearn.ensemble import RandomForestRegressor\n",
    "from sklearn.metrics import confusion_matrix, accuracy_score, classification_report"
   ]
  },
  {
   "cell_type": "code",
   "execution_count": 165,
   "id": "ba4d2687",
   "metadata": {},
   "outputs": [],
   "source": [
    "# X =df.GDP_log10.values.reshape(-1,1)\n",
    "# y= df.dollar_price"
   ]
  },
  {
   "cell_type": "code",
   "execution_count": 166,
   "id": "6ee07f4b",
   "metadata": {},
   "outputs": [],
   "source": [
    "from sklearn.model_selection import train_test_split\n",
    "X_train, X_test, y_train, y_test = train_test_split(X,y, random_state=78)"
   ]
  },
  {
   "cell_type": "code",
   "execution_count": 167,
   "id": "03cc2a69",
   "metadata": {},
   "outputs": [],
   "source": [
    "# Creating a StandardScalar instance\n",
    "scaler = StandardScaler()\n",
    "\n",
    "# Fitting the Standard Scalar with the training data\n",
    "X_scalar = scaler.fit(X_train)\n",
    "\n",
    "# Scaling the data\n",
    "X_train_scaled = X_scalar.transform(X_train)\n",
    "X_test_scaled = X_scalar.transform(X_test)"
   ]
  },
  {
   "cell_type": "code",
   "execution_count": 168,
   "id": "59921c6e",
   "metadata": {},
   "outputs": [],
   "source": [
    "# Create a random forest classifier\n",
    "rf_model = RandomForestRegressor(n_estimators=500, random_state=0)"
   ]
  },
  {
   "cell_type": "code",
   "execution_count": 169,
   "id": "6a3d14bd",
   "metadata": {},
   "outputs": [],
   "source": [
    "# Fitting the model\n",
    "rf_model = rf_model.fit(X_train_scaled, y_train)"
   ]
  },
  {
   "cell_type": "code",
   "execution_count": 170,
   "id": "1a4af4bf",
   "metadata": {},
   "outputs": [],
   "source": [
    "# Making predictions using the testing data\n",
    "predictions = rf_model.predict(X_test_scaled)"
   ]
  },
  {
   "cell_type": "code",
   "execution_count": 171,
   "id": "29c3c4f3",
   "metadata": {},
   "outputs": [
    {
     "name": "stdout",
     "output_type": "stream",
     "text": [
      "0.1738726525555269\n",
      "0.4169803982869301\n"
     ]
    }
   ],
   "source": [
    "# Calculating the accuracy score\n",
    "mse = mean_squared_error(y_test, predictions)\n",
    "\n",
    "rmse = mse**0.5\n",
    "\n",
    "print(mse)\n",
    "print(rmse)"
   ]
  },
  {
   "cell_type": "code",
   "execution_count": 172,
   "id": "a464101d",
   "metadata": {},
   "outputs": [
    {
     "data": {
      "text/plain": [
       "array([0.33178495, 0.25171763, 0.25515563, 0.1613418 ])"
      ]
     },
     "execution_count": 172,
     "metadata": {},
     "output_type": "execute_result"
    }
   ],
   "source": [
    "# Calculate feature importance in Random Forest Model\n",
    "importance = rf_model.feature_importances_\n",
    "importance"
   ]
  }
 ],
 "metadata": {
  "kernelspec": {
   "display_name": "mlenv",
   "language": "python",
   "name": "mlenv"
  },
  "language_info": {
   "codemirror_mode": {
    "name": "ipython",
    "version": 3
   },
   "file_extension": ".py",
   "mimetype": "text/x-python",
   "name": "python",
   "nbconvert_exporter": "python",
   "pygments_lexer": "ipython3",
   "version": "3.7.13"
  }
 },
 "nbformat": 4,
 "nbformat_minor": 5
}
