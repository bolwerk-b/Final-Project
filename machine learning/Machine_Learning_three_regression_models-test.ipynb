{
 "cells": [
  {
   "cell_type": "code",
   "execution_count": 25,
   "id": "4d59b892",
   "metadata": {},
   "outputs": [],
   "source": [
    "# Import depedencies\n",
    "import numpy as np\n",
    "import pandas as pd\n",
    "from pathlib import Path\n",
    "from collections import Counter\n",
    "import matplotlib.pyplot as plt\n",
    "from sklearn.linear_model import LinearRegression\n",
    "from sklearn.preprocessing import StandardScaler,MinMaxScaler\n",
    "from sklearn.model_selection import train_test_split\n",
    "from sklearn.metrics import mean_squared_error\n",
    "from sklearn.ensemble import RandomForestRegressor\n",
    "from sklearn.metrics import balanced_accuracy_score\n",
    "from sklearn.metrics import confusion_matrix\n",
    "# from imblearn.metrics import classification_report_imbalanced\n"
   ]
  },
  {
   "cell_type": "markdown",
   "id": "84f31fcb",
   "metadata": {},
   "source": [
    "# Read the CSV and Perform Basic Data Cleaning"
   ]
  },
  {
   "cell_type": "code",
   "execution_count": 2,
   "id": "80ec72b6",
   "metadata": {
    "scrolled": false
   },
   "outputs": [
    {
     "data": {
      "text/html": [
       "<div>\n",
       "<style scoped>\n",
       "    .dataframe tbody tr th:only-of-type {\n",
       "        vertical-align: middle;\n",
       "    }\n",
       "\n",
       "    .dataframe tbody tr th {\n",
       "        vertical-align: top;\n",
       "    }\n",
       "\n",
       "    .dataframe thead th {\n",
       "        text-align: right;\n",
       "    }\n",
       "</style>\n",
       "<table border=\"1\" class=\"dataframe\">\n",
       "  <thead>\n",
       "    <tr style=\"text-align: right;\">\n",
       "      <th></th>\n",
       "      <th>date</th>\n",
       "      <th>currency_code</th>\n",
       "      <th>Country</th>\n",
       "      <th>local_price</th>\n",
       "      <th>dollar_ex</th>\n",
       "      <th>dollar_price</th>\n",
       "      <th>Year</th>\n",
       "      <th>Code</th>\n",
       "      <th>gdp_growth</th>\n",
       "      <th>GDP_Per_Capita</th>\n",
       "      <th>GDP</th>\n",
       "      <th>country_code</th>\n",
       "      <th>region</th>\n",
       "      <th>sub_region</th>\n",
       "    </tr>\n",
       "  </thead>\n",
       "  <tbody>\n",
       "    <tr>\n",
       "      <th>0</th>\n",
       "      <td>2000-04-01</td>\n",
       "      <td>ARS</td>\n",
       "      <td>Argentina</td>\n",
       "      <td>2.50</td>\n",
       "      <td>1</td>\n",
       "      <td>2.50</td>\n",
       "      <td>2000</td>\n",
       "      <td>ARG</td>\n",
       "      <td>-10.894485</td>\n",
       "      <td>6854.294081</td>\n",
       "      <td>2.582818e+11</td>\n",
       "      <td>32.0</td>\n",
       "      <td>Americas</td>\n",
       "      <td>Latin America and the Caribbean</td>\n",
       "    </tr>\n",
       "    <tr>\n",
       "      <th>1</th>\n",
       "      <td>2000-04-01</td>\n",
       "      <td>AUD</td>\n",
       "      <td>Australia</td>\n",
       "      <td>2.59</td>\n",
       "      <td>1</td>\n",
       "      <td>2.59</td>\n",
       "      <td>2000</td>\n",
       "      <td>AUS</td>\n",
       "      <td>4.001431</td>\n",
       "      <td>45806.687448</td>\n",
       "      <td>9.001655e+11</td>\n",
       "      <td>36.0</td>\n",
       "      <td>Oceania</td>\n",
       "      <td>Australia and New Zealand</td>\n",
       "    </tr>\n",
       "    <tr>\n",
       "      <th>2</th>\n",
       "      <td>2000-04-01</td>\n",
       "      <td>BRL</td>\n",
       "      <td>Brazil</td>\n",
       "      <td>2.95</td>\n",
       "      <td>1</td>\n",
       "      <td>2.95</td>\n",
       "      <td>2000</td>\n",
       "      <td>BRA</td>\n",
       "      <td>3.053462</td>\n",
       "      <td>8954.837245</td>\n",
       "      <td>1.607729e+12</td>\n",
       "      <td>76.0</td>\n",
       "      <td>Americas</td>\n",
       "      <td>Latin America and the Caribbean</td>\n",
       "    </tr>\n",
       "    <tr>\n",
       "      <th>3</th>\n",
       "      <td>2000-04-01</td>\n",
       "      <td>CAD</td>\n",
       "      <td>Canada</td>\n",
       "      <td>2.85</td>\n",
       "      <td>1</td>\n",
       "      <td>2.85</td>\n",
       "      <td>2000</td>\n",
       "      <td>CAN</td>\n",
       "      <td>3.016889</td>\n",
       "      <td>44863.216018</td>\n",
       "      <td>1.406914e+12</td>\n",
       "      <td>124.0</td>\n",
       "      <td>Americas</td>\n",
       "      <td>Northern America</td>\n",
       "    </tr>\n",
       "    <tr>\n",
       "      <th>4</th>\n",
       "      <td>2000-04-01</td>\n",
       "      <td>CLP</td>\n",
       "      <td>Chile</td>\n",
       "      <td>1260.00</td>\n",
       "      <td>514</td>\n",
       "      <td>2.45</td>\n",
       "      <td>2000</td>\n",
       "      <td>CHL</td>\n",
       "      <td>3.106971</td>\n",
       "      <td>9814.656135</td>\n",
       "      <td>1.539371e+11</td>\n",
       "      <td>152.0</td>\n",
       "      <td>Americas</td>\n",
       "      <td>Latin America and the Caribbean</td>\n",
       "    </tr>\n",
       "  </tbody>\n",
       "</table>\n",
       "</div>"
      ],
      "text/plain": [
       "         date currency_code    Country  local_price  dollar_ex  dollar_price  \\\n",
       "0  2000-04-01           ARS  Argentina         2.50          1          2.50   \n",
       "1  2000-04-01           AUD  Australia         2.59          1          2.59   \n",
       "2  2000-04-01           BRL     Brazil         2.95          1          2.95   \n",
       "3  2000-04-01           CAD     Canada         2.85          1          2.85   \n",
       "4  2000-04-01           CLP      Chile      1260.00        514          2.45   \n",
       "\n",
       "   Year Code  gdp_growth  GDP_Per_Capita           GDP  country_code  \\\n",
       "0  2000  ARG  -10.894485     6854.294081  2.582818e+11          32.0   \n",
       "1  2000  AUS    4.001431    45806.687448  9.001655e+11          36.0   \n",
       "2  2000  BRA    3.053462     8954.837245  1.607729e+12          76.0   \n",
       "3  2000  CAN    3.016889    44863.216018  1.406914e+12         124.0   \n",
       "4  2000  CHL    3.106971     9814.656135  1.539371e+11         152.0   \n",
       "\n",
       "     region                       sub_region  \n",
       "0  Americas  Latin America and the Caribbean  \n",
       "1   Oceania        Australia and New Zealand  \n",
       "2  Americas  Latin America and the Caribbean  \n",
       "3  Americas                 Northern America  \n",
       "4  Americas  Latin America and the Caribbean  "
      ]
     },
     "execution_count": 2,
     "metadata": {},
     "output_type": "execute_result"
    }
   ],
   "source": [
    "#Load data\n",
    "file_path = Path('../Final_Project_Resources/final.csv')\n",
    "df = pd.read_csv (file_path)\n",
    "df.head()\n",
    "\n"
   ]
  },
  {
   "cell_type": "code",
   "execution_count": 3,
   "id": "a777cfe1",
   "metadata": {},
   "outputs": [],
   "source": [
    "# Convert the 'GDP' column into log10\n",
    "df['GDP_log10'] = np.log10(df['GDP'])"
   ]
  },
  {
   "cell_type": "code",
   "execution_count": 4,
   "id": "6394a6f1",
   "metadata": {
    "scrolled": false
   },
   "outputs": [
    {
     "data": {
      "text/html": [
       "<div>\n",
       "<style scoped>\n",
       "    .dataframe tbody tr th:only-of-type {\n",
       "        vertical-align: middle;\n",
       "    }\n",
       "\n",
       "    .dataframe tbody tr th {\n",
       "        vertical-align: top;\n",
       "    }\n",
       "\n",
       "    .dataframe thead th {\n",
       "        text-align: right;\n",
       "    }\n",
       "</style>\n",
       "<table border=\"1\" class=\"dataframe\">\n",
       "  <thead>\n",
       "    <tr style=\"text-align: right;\">\n",
       "      <th></th>\n",
       "      <th>date</th>\n",
       "      <th>currency_code</th>\n",
       "      <th>Country</th>\n",
       "      <th>local_price</th>\n",
       "      <th>dollar_ex</th>\n",
       "      <th>dollar_price</th>\n",
       "      <th>Year</th>\n",
       "      <th>Code</th>\n",
       "      <th>gdp_growth</th>\n",
       "      <th>GDP_Per_Capita</th>\n",
       "      <th>GDP</th>\n",
       "      <th>country_code</th>\n",
       "      <th>region</th>\n",
       "      <th>sub_region</th>\n",
       "      <th>GDP_log10</th>\n",
       "    </tr>\n",
       "  </thead>\n",
       "  <tbody>\n",
       "    <tr>\n",
       "      <th>0</th>\n",
       "      <td>2000-04-01</td>\n",
       "      <td>ARS</td>\n",
       "      <td>Argentina</td>\n",
       "      <td>2.50</td>\n",
       "      <td>1</td>\n",
       "      <td>2.50</td>\n",
       "      <td>2000</td>\n",
       "      <td>ARG</td>\n",
       "      <td>-10.894485</td>\n",
       "      <td>6854.294081</td>\n",
       "      <td>2.582818e+11</td>\n",
       "      <td>32.0</td>\n",
       "      <td>Americas</td>\n",
       "      <td>Latin America and the Caribbean</td>\n",
       "      <td>11.412094</td>\n",
       "    </tr>\n",
       "    <tr>\n",
       "      <th>1</th>\n",
       "      <td>2000-04-01</td>\n",
       "      <td>AUD</td>\n",
       "      <td>Australia</td>\n",
       "      <td>2.59</td>\n",
       "      <td>1</td>\n",
       "      <td>2.59</td>\n",
       "      <td>2000</td>\n",
       "      <td>AUS</td>\n",
       "      <td>4.001431</td>\n",
       "      <td>45806.687448</td>\n",
       "      <td>9.001655e+11</td>\n",
       "      <td>36.0</td>\n",
       "      <td>Oceania</td>\n",
       "      <td>Australia and New Zealand</td>\n",
       "      <td>11.954322</td>\n",
       "    </tr>\n",
       "    <tr>\n",
       "      <th>2</th>\n",
       "      <td>2000-04-01</td>\n",
       "      <td>BRL</td>\n",
       "      <td>Brazil</td>\n",
       "      <td>2.95</td>\n",
       "      <td>1</td>\n",
       "      <td>2.95</td>\n",
       "      <td>2000</td>\n",
       "      <td>BRA</td>\n",
       "      <td>3.053462</td>\n",
       "      <td>8954.837245</td>\n",
       "      <td>1.607729e+12</td>\n",
       "      <td>76.0</td>\n",
       "      <td>Americas</td>\n",
       "      <td>Latin America and the Caribbean</td>\n",
       "      <td>12.206213</td>\n",
       "    </tr>\n",
       "    <tr>\n",
       "      <th>3</th>\n",
       "      <td>2000-04-01</td>\n",
       "      <td>CAD</td>\n",
       "      <td>Canada</td>\n",
       "      <td>2.85</td>\n",
       "      <td>1</td>\n",
       "      <td>2.85</td>\n",
       "      <td>2000</td>\n",
       "      <td>CAN</td>\n",
       "      <td>3.016889</td>\n",
       "      <td>44863.216018</td>\n",
       "      <td>1.406914e+12</td>\n",
       "      <td>124.0</td>\n",
       "      <td>Americas</td>\n",
       "      <td>Northern America</td>\n",
       "      <td>12.148268</td>\n",
       "    </tr>\n",
       "    <tr>\n",
       "      <th>4</th>\n",
       "      <td>2000-04-01</td>\n",
       "      <td>CLP</td>\n",
       "      <td>Chile</td>\n",
       "      <td>1260.00</td>\n",
       "      <td>514</td>\n",
       "      <td>2.45</td>\n",
       "      <td>2000</td>\n",
       "      <td>CHL</td>\n",
       "      <td>3.106971</td>\n",
       "      <td>9814.656135</td>\n",
       "      <td>1.539371e+11</td>\n",
       "      <td>152.0</td>\n",
       "      <td>Americas</td>\n",
       "      <td>Latin America and the Caribbean</td>\n",
       "      <td>11.187343</td>\n",
       "    </tr>\n",
       "  </tbody>\n",
       "</table>\n",
       "</div>"
      ],
      "text/plain": [
       "         date currency_code    Country  local_price  dollar_ex  dollar_price  \\\n",
       "0  2000-04-01           ARS  Argentina         2.50          1          2.50   \n",
       "1  2000-04-01           AUD  Australia         2.59          1          2.59   \n",
       "2  2000-04-01           BRL     Brazil         2.95          1          2.95   \n",
       "3  2000-04-01           CAD     Canada         2.85          1          2.85   \n",
       "4  2000-04-01           CLP      Chile      1260.00        514          2.45   \n",
       "\n",
       "   Year Code  gdp_growth  GDP_Per_Capita           GDP  country_code  \\\n",
       "0  2000  ARG  -10.894485     6854.294081  2.582818e+11          32.0   \n",
       "1  2000  AUS    4.001431    45806.687448  9.001655e+11          36.0   \n",
       "2  2000  BRA    3.053462     8954.837245  1.607729e+12          76.0   \n",
       "3  2000  CAN    3.016889    44863.216018  1.406914e+12         124.0   \n",
       "4  2000  CHL    3.106971     9814.656135  1.539371e+11         152.0   \n",
       "\n",
       "     region                       sub_region  GDP_log10  \n",
       "0  Americas  Latin America and the Caribbean  11.412094  \n",
       "1   Oceania        Australia and New Zealand  11.954322  \n",
       "2  Americas  Latin America and the Caribbean  12.206213  \n",
       "3  Americas                 Northern America  12.148268  \n",
       "4  Americas  Latin America and the Caribbean  11.187343  "
      ]
     },
     "execution_count": 4,
     "metadata": {},
     "output_type": "execute_result"
    }
   ],
   "source": [
    "df.head()"
   ]
  },
  {
   "cell_type": "code",
   "execution_count": 5,
   "id": "91d1dd3e",
   "metadata": {
    "scrolled": true
   },
   "outputs": [
    {
     "data": {
      "text/html": [
       "<div>\n",
       "<style scoped>\n",
       "    .dataframe tbody tr th:only-of-type {\n",
       "        vertical-align: middle;\n",
       "    }\n",
       "\n",
       "    .dataframe tbody tr th {\n",
       "        vertical-align: top;\n",
       "    }\n",
       "\n",
       "    .dataframe thead th {\n",
       "        text-align: right;\n",
       "    }\n",
       "</style>\n",
       "<table border=\"1\" class=\"dataframe\">\n",
       "  <thead>\n",
       "    <tr style=\"text-align: right;\">\n",
       "      <th></th>\n",
       "      <th>local_price</th>\n",
       "      <th>dollar_ex</th>\n",
       "      <th>dollar_price</th>\n",
       "      <th>Year</th>\n",
       "      <th>gdp_growth</th>\n",
       "      <th>GDP_Per_Capita</th>\n",
       "      <th>GDP</th>\n",
       "      <th>country_code</th>\n",
       "      <th>GDP_log10</th>\n",
       "    </tr>\n",
       "  </thead>\n",
       "  <tbody>\n",
       "    <tr>\n",
       "      <th>count</th>\n",
       "      <td>9.200000e+02</td>\n",
       "      <td>9.200000e+02</td>\n",
       "      <td>920.000000</td>\n",
       "      <td>920.000000</td>\n",
       "      <td>920.000000</td>\n",
       "      <td>920.000000</td>\n",
       "      <td>9.200000e+02</td>\n",
       "      <td>920.000000</td>\n",
       "      <td>920.000000</td>\n",
       "    </tr>\n",
       "    <tr>\n",
       "      <th>mean</th>\n",
       "      <td>1.393870e+04</td>\n",
       "      <td>5.331433e+03</td>\n",
       "      <td>3.567609</td>\n",
       "      <td>2010.279348</td>\n",
       "      <td>3.070198</td>\n",
       "      <td>26113.144578</td>\n",
       "      <td>1.342889e+12</td>\n",
       "      <td>438.443478</td>\n",
       "      <td>11.678427</td>\n",
       "    </tr>\n",
       "    <tr>\n",
       "      <th>std</th>\n",
       "      <td>2.225534e+05</td>\n",
       "      <td>8.499408e+04</td>\n",
       "      <td>1.517102</td>\n",
       "      <td>4.525734</td>\n",
       "      <td>3.220871</td>\n",
       "      <td>22923.009189</td>\n",
       "      <td>2.847060e+12</td>\n",
       "      <td>258.334203</td>\n",
       "      <td>0.576048</td>\n",
       "    </tr>\n",
       "    <tr>\n",
       "      <th>min</th>\n",
       "      <td>2.040000e+00</td>\n",
       "      <td>1.000000e+00</td>\n",
       "      <td>0.800000</td>\n",
       "      <td>2000.000000</td>\n",
       "      <td>-14.758545</td>\n",
       "      <td>970.941956</td>\n",
       "      <td>2.229865e+10</td>\n",
       "      <td>32.000000</td>\n",
       "      <td>10.348279</td>\n",
       "    </tr>\n",
       "    <tr>\n",
       "      <th>25%</th>\n",
       "      <td>4.675000e+00</td>\n",
       "      <td>1.000000e+00</td>\n",
       "      <td>2.497500</td>\n",
       "      <td>2007.000000</td>\n",
       "      <td>1.601224</td>\n",
       "      <td>7495.754301</td>\n",
       "      <td>2.108129e+11</td>\n",
       "      <td>188.000000</td>\n",
       "      <td>11.323895</td>\n",
       "    </tr>\n",
       "    <tr>\n",
       "      <th>50%</th>\n",
       "      <td>1.395000e+01</td>\n",
       "      <td>5.000000e+00</td>\n",
       "      <td>3.330000</td>\n",
       "      <td>2012.000000</td>\n",
       "      <td>2.850864</td>\n",
       "      <td>14771.257645</td>\n",
       "      <td>3.945133e+11</td>\n",
       "      <td>416.000000</td>\n",
       "      <td>11.596062</td>\n",
       "    </tr>\n",
       "    <tr>\n",
       "      <th>75%</th>\n",
       "      <td>8.550000e+01</td>\n",
       "      <td>3.825000e+01</td>\n",
       "      <td>4.290000</td>\n",
       "      <td>2014.000000</td>\n",
       "      <td>4.789940</td>\n",
       "      <td>46498.842667</td>\n",
       "      <td>1.041007e+12</td>\n",
       "      <td>682.000000</td>\n",
       "      <td>12.017448</td>\n",
       "    </tr>\n",
       "    <tr>\n",
       "      <th>max</th>\n",
       "      <td>4.000000e+06</td>\n",
       "      <td>1.600500e+06</td>\n",
       "      <td>11.250000</td>\n",
       "      <td>2016.000000</td>\n",
       "      <td>25.162533</td>\n",
       "      <td>92121.421135</td>\n",
       "      <td>1.784427e+13</td>\n",
       "      <td>858.000000</td>\n",
       "      <td>13.251499</td>\n",
       "    </tr>\n",
       "  </tbody>\n",
       "</table>\n",
       "</div>"
      ],
      "text/plain": [
       "        local_price     dollar_ex  dollar_price         Year  gdp_growth  \\\n",
       "count  9.200000e+02  9.200000e+02    920.000000   920.000000  920.000000   \n",
       "mean   1.393870e+04  5.331433e+03      3.567609  2010.279348    3.070198   \n",
       "std    2.225534e+05  8.499408e+04      1.517102     4.525734    3.220871   \n",
       "min    2.040000e+00  1.000000e+00      0.800000  2000.000000  -14.758545   \n",
       "25%    4.675000e+00  1.000000e+00      2.497500  2007.000000    1.601224   \n",
       "50%    1.395000e+01  5.000000e+00      3.330000  2012.000000    2.850864   \n",
       "75%    8.550000e+01  3.825000e+01      4.290000  2014.000000    4.789940   \n",
       "max    4.000000e+06  1.600500e+06     11.250000  2016.000000   25.162533   \n",
       "\n",
       "       GDP_Per_Capita           GDP  country_code   GDP_log10  \n",
       "count      920.000000  9.200000e+02    920.000000  920.000000  \n",
       "mean     26113.144578  1.342889e+12    438.443478   11.678427  \n",
       "std      22923.009189  2.847060e+12    258.334203    0.576048  \n",
       "min        970.941956  2.229865e+10     32.000000   10.348279  \n",
       "25%       7495.754301  2.108129e+11    188.000000   11.323895  \n",
       "50%      14771.257645  3.945133e+11    416.000000   11.596062  \n",
       "75%      46498.842667  1.041007e+12    682.000000   12.017448  \n",
       "max      92121.421135  1.784427e+13    858.000000   13.251499  "
      ]
     },
     "execution_count": 5,
     "metadata": {},
     "output_type": "execute_result"
    }
   ],
   "source": [
    "df.describe()"
   ]
  },
  {
   "cell_type": "code",
   "execution_count": 6,
   "id": "a1c5cdb9",
   "metadata": {},
   "outputs": [],
   "source": [
    "# Creating a new Dataframe containing entries from Argentina\n",
    "df_Argentina = df.loc[df['Country'] == \"Argentina\"]"
   ]
  },
  {
   "cell_type": "code",
   "execution_count": 50,
   "id": "777dc14d",
   "metadata": {},
   "outputs": [
    {
     "data": {
      "text/plain": [
       "date              25\n",
       "currency_code     25\n",
       "Country           25\n",
       "local_price       25\n",
       "dollar_ex         25\n",
       "dollar_price      25\n",
       "Year              25\n",
       "Code              25\n",
       "gdp_growth        25\n",
       "GDP_Per_Capita    25\n",
       "GDP               25\n",
       "country_code      25\n",
       "region            25\n",
       "sub_region        25\n",
       "GDP_log10         25\n",
       "dtype: int64"
      ]
     },
     "execution_count": 50,
     "metadata": {},
     "output_type": "execute_result"
    }
   ],
   "source": [
    "df_Argentina.count()"
   ]
  },
  {
   "cell_type": "markdown",
   "id": "ee813330",
   "metadata": {},
   "source": [
    "# Applying Linear Regression Model"
   ]
  },
  {
   "cell_type": "code",
   "execution_count": 8,
   "id": "a50fcbeb",
   "metadata": {},
   "outputs": [],
   "source": [
    "X = df_Argentina.GDP_log10.values.reshape(-1,1)\n",
    "y = df_Argentina.dollar_price.values.reshape(-1,1)"
   ]
  },
  {
   "cell_type": "code",
   "execution_count": 9,
   "id": "43286295",
   "metadata": {},
   "outputs": [],
   "source": [
    "from sklearn.model_selection import train_test_split\n",
    "X_train, X_test, y_train, y_test = train_test_split(X,y, test_size=0.2, random_state=2)\n",
    "\n",
    "# Instantiate linear regression model\n",
    "model = LinearRegression()\n"
   ]
  },
  {
   "cell_type": "code",
   "execution_count": 10,
   "id": "8c571eaf",
   "metadata": {},
   "outputs": [
    {
     "data": {
      "text/plain": [
       "LinearRegression()"
      ]
     },
     "execution_count": 10,
     "metadata": {},
     "output_type": "execute_result"
    }
   ],
   "source": [
    "# training the model\n",
    "model.fit(X,y)"
   ]
  },
  {
   "cell_type": "code",
   "execution_count": 11,
   "id": "1cb4b396",
   "metadata": {},
   "outputs": [],
   "source": [
    "y_pred = model.predict(X)"
   ]
  },
  {
   "cell_type": "code",
   "execution_count": 12,
   "id": "b4e03165",
   "metadata": {},
   "outputs": [
    {
     "data": {
      "image/png": "[encoded data removed]",
      "text/plain": [
       "<Figure size 432x288 with 1 Axes>"
      ]
     },
     "metadata": {
      "needs_background": "light"
     },
     "output_type": "display_data"
    }
   ],
   "source": [
    "# Creating a scatter plot with a regression curve\n",
    "plt.scatter(X, y)\n",
    "plt.plot(X, y_pred, color='red')\n",
    "plt.show()"
   ]
  },
  {
   "cell_type": "code",
   "execution_count": 23,
   "id": "553eb522",
   "metadata": {},
   "outputs": [],
   "source": [
    "df_Argentina_modified = df_Argentina.drop(['date','currency_code', 'Country', 'Code', 'country_code', 'region', 'sub_region'], axis =1)"
   ]
  },
  {
   "cell_type": "code",
   "execution_count": 83,
   "id": "41e11d97",
   "metadata": {
    "scrolled": true
   },
   "outputs": [],
   "source": [
    "X = df_Argentina_modified\n",
    "y = df_Argentina_modified.dollar_price"
   ]
  },
  {
   "cell_type": "code",
   "execution_count": 84,
   "id": "ca7ef371",
   "metadata": {},
   "outputs": [],
   "source": [
    "X_train, X_test, y_train, y_test = train_test_split(X, y, test_size=0.2, random_state= 28)"
   ]
  },
  {
   "cell_type": "code",
   "execution_count": 85,
   "id": "44a5bd9b",
   "metadata": {},
   "outputs": [],
   "source": [
    "model = RandomForestRegressor(n_estimators= 10, random_state= 0)"
   ]
  },
  {
   "cell_type": "code",
   "execution_count": 86,
   "id": "8b355561",
   "metadata": {
    "scrolled": true
   },
   "outputs": [
    {
     "data": {
      "text/plain": [
       "RandomForestRegressor(n_estimators=10, random_state=0)"
      ]
     },
     "execution_count": 86,
     "metadata": {},
     "output_type": "execute_result"
    }
   ],
   "source": [
    "model.fit(X_train, y_train)"
   ]
  },
  {
   "cell_type": "code",
   "execution_count": 87,
   "id": "5135aa70",
   "metadata": {},
   "outputs": [],
   "source": [
    "y_pred =model.predict(X_test)"
   ]
  },
  {
   "cell_type": "code",
   "execution_count": 88,
   "id": "90d81c8f",
   "metadata": {},
   "outputs": [
    {
     "name": "stdout",
     "output_type": "stream",
     "text": [
      "0.312\n"
     ]
    }
   ],
   "source": [
    "rmse = float(format(np.sqrt(mean_squared_error(y_test, y_pred)), '.3f'))\n",
    "print(rmse)"
   ]
  },
  {
   "cell_type": "code",
   "execution_count": null,
   "id": "cfcd5046",
   "metadata": {},
   "outputs": [],
   "source": [
    "# Applying RandomForest Regressor using multiple feature"
   ]
  },
  {
   "cell_type": "code",
   "execution_count": 90,
   "id": "0b7a99ac",
   "metadata": {
    "scrolled": true
   },
   "outputs": [],
   "source": [
    "df_values = df.drop(['date','currency_code', 'Country', 'Code', 'country_code', 'region', 'sub_region'], axis=1)"
   ]
  },
  {
   "cell_type": "code",
   "execution_count": 91,
   "id": "3d8592c0",
   "metadata": {
    "scrolled": false
   },
   "outputs": [
    {
     "data": {
      "text/html": [
       "<div>\n",
       "<style scoped>\n",
       "    .dataframe tbody tr th:only-of-type {\n",
       "        vertical-align: middle;\n",
       "    }\n",
       "\n",
       "    .dataframe tbody tr th {\n",
       "        vertical-align: top;\n",
       "    }\n",
       "\n",
       "    .dataframe thead th {\n",
       "        text-align: right;\n",
       "    }\n",
       "</style>\n",
       "<table border=\"1\" class=\"dataframe\">\n",
       "  <thead>\n",
       "    <tr style=\"text-align: right;\">\n",
       "      <th></th>\n",
       "      <th>local_price</th>\n",
       "      <th>dollar_ex</th>\n",
       "      <th>dollar_price</th>\n",
       "      <th>Year</th>\n",
       "      <th>gdp_growth</th>\n",
       "      <th>GDP_Per_Capita</th>\n",
       "      <th>GDP</th>\n",
       "      <th>GDP_log10</th>\n",
       "    </tr>\n",
       "  </thead>\n",
       "  <tbody>\n",
       "    <tr>\n",
       "      <th>0</th>\n",
       "      <td>2.50</td>\n",
       "      <td>1</td>\n",
       "      <td>2.50</td>\n",
       "      <td>2000</td>\n",
       "      <td>-10.894485</td>\n",
       "      <td>6854.294081</td>\n",
       "      <td>2.582818e+11</td>\n",
       "      <td>11.412094</td>\n",
       "    </tr>\n",
       "    <tr>\n",
       "      <th>1</th>\n",
       "      <td>2.59</td>\n",
       "      <td>1</td>\n",
       "      <td>2.59</td>\n",
       "      <td>2000</td>\n",
       "      <td>4.001431</td>\n",
       "      <td>45806.687448</td>\n",
       "      <td>9.001655e+11</td>\n",
       "      <td>11.954322</td>\n",
       "    </tr>\n",
       "    <tr>\n",
       "      <th>2</th>\n",
       "      <td>2.95</td>\n",
       "      <td>1</td>\n",
       "      <td>2.95</td>\n",
       "      <td>2000</td>\n",
       "      <td>3.053462</td>\n",
       "      <td>8954.837245</td>\n",
       "      <td>1.607729e+12</td>\n",
       "      <td>12.206213</td>\n",
       "    </tr>\n",
       "    <tr>\n",
       "      <th>3</th>\n",
       "      <td>2.85</td>\n",
       "      <td>1</td>\n",
       "      <td>2.85</td>\n",
       "      <td>2000</td>\n",
       "      <td>3.016889</td>\n",
       "      <td>44863.216018</td>\n",
       "      <td>1.406914e+12</td>\n",
       "      <td>12.148268</td>\n",
       "    </tr>\n",
       "    <tr>\n",
       "      <th>4</th>\n",
       "      <td>1260.00</td>\n",
       "      <td>514</td>\n",
       "      <td>2.45</td>\n",
       "      <td>2000</td>\n",
       "      <td>3.106971</td>\n",
       "      <td>9814.656135</td>\n",
       "      <td>1.539371e+11</td>\n",
       "      <td>11.187343</td>\n",
       "    </tr>\n",
       "  </tbody>\n",
       "</table>\n",
       "</div>"
      ],
      "text/plain": [
       "   local_price  dollar_ex  dollar_price  Year  gdp_growth  GDP_Per_Capita  \\\n",
       "0         2.50          1          2.50  2000  -10.894485     6854.294081   \n",
       "1         2.59          1          2.59  2000    4.001431    45806.687448   \n",
       "2         2.95          1          2.95  2000    3.053462     8954.837245   \n",
       "3         2.85          1          2.85  2000    3.016889    44863.216018   \n",
       "4      1260.00        514          2.45  2000    3.106971     9814.656135   \n",
       "\n",
       "            GDP  GDP_log10  \n",
       "0  2.582818e+11  11.412094  \n",
       "1  9.001655e+11  11.954322  \n",
       "2  1.607729e+12  12.206213  \n",
       "3  1.406914e+12  12.148268  \n",
       "4  1.539371e+11  11.187343  "
      ]
     },
     "execution_count": 91,
     "metadata": {},
     "output_type": "execute_result"
    }
   ],
   "source": [
    "df_values.head()"
   ]
  },
  {
   "cell_type": "code",
   "execution_count": 92,
   "id": "5e49f230",
   "metadata": {
    "scrolled": true
   },
   "outputs": [
    {
     "data": {
      "text/html": [
       "<div>\n",
       "<style scoped>\n",
       "    .dataframe tbody tr th:only-of-type {\n",
       "        vertical-align: middle;\n",
       "    }\n",
       "\n",
       "    .dataframe tbody tr th {\n",
       "        vertical-align: top;\n",
       "    }\n",
       "\n",
       "    .dataframe thead th {\n",
       "        text-align: right;\n",
       "    }\n",
       "</style>\n",
       "<table border=\"1\" class=\"dataframe\">\n",
       "  <thead>\n",
       "    <tr style=\"text-align: right;\">\n",
       "      <th></th>\n",
       "      <th>local_price</th>\n",
       "      <th>dollar_ex</th>\n",
       "      <th>Year</th>\n",
       "      <th>gdp_growth</th>\n",
       "      <th>GDP_Per_Capita</th>\n",
       "      <th>GDP</th>\n",
       "      <th>GDP_log10</th>\n",
       "    </tr>\n",
       "  </thead>\n",
       "  <tbody>\n",
       "    <tr>\n",
       "      <th>0</th>\n",
       "      <td>2.50</td>\n",
       "      <td>1</td>\n",
       "      <td>2000</td>\n",
       "      <td>-10.894485</td>\n",
       "      <td>6854.294081</td>\n",
       "      <td>2.582818e+11</td>\n",
       "      <td>11.412094</td>\n",
       "    </tr>\n",
       "    <tr>\n",
       "      <th>1</th>\n",
       "      <td>2.59</td>\n",
       "      <td>1</td>\n",
       "      <td>2000</td>\n",
       "      <td>4.001431</td>\n",
       "      <td>45806.687448</td>\n",
       "      <td>9.001655e+11</td>\n",
       "      <td>11.954322</td>\n",
       "    </tr>\n",
       "    <tr>\n",
       "      <th>2</th>\n",
       "      <td>2.95</td>\n",
       "      <td>1</td>\n",
       "      <td>2000</td>\n",
       "      <td>3.053462</td>\n",
       "      <td>8954.837245</td>\n",
       "      <td>1.607729e+12</td>\n",
       "      <td>12.206213</td>\n",
       "    </tr>\n",
       "    <tr>\n",
       "      <th>3</th>\n",
       "      <td>2.85</td>\n",
       "      <td>1</td>\n",
       "      <td>2000</td>\n",
       "      <td>3.016889</td>\n",
       "      <td>44863.216018</td>\n",
       "      <td>1.406914e+12</td>\n",
       "      <td>12.148268</td>\n",
       "    </tr>\n",
       "    <tr>\n",
       "      <th>4</th>\n",
       "      <td>1260.00</td>\n",
       "      <td>514</td>\n",
       "      <td>2000</td>\n",
       "      <td>3.106971</td>\n",
       "      <td>9814.656135</td>\n",
       "      <td>1.539371e+11</td>\n",
       "      <td>11.187343</td>\n",
       "    </tr>\n",
       "    <tr>\n",
       "      <th>...</th>\n",
       "      <td>...</td>\n",
       "      <td>...</td>\n",
       "      <td>...</td>\n",
       "      <td>...</td>\n",
       "      <td>...</td>\n",
       "      <td>...</td>\n",
       "      <td>...</td>\n",
       "    </tr>\n",
       "    <tr>\n",
       "      <th>915</th>\n",
       "      <td>10.75</td>\n",
       "      <td>3</td>\n",
       "      <td>2016</td>\n",
       "      <td>2.566623</td>\n",
       "      <td>15026.707518</td>\n",
       "      <td>1.236994e+12</td>\n",
       "      <td>12.092368</td>\n",
       "    </tr>\n",
       "    <tr>\n",
       "      <th>916</th>\n",
       "      <td>39.00</td>\n",
       "      <td>24</td>\n",
       "      <td>2016</td>\n",
       "      <td>3.335489</td>\n",
       "      <td>3110.194646</td>\n",
       "      <td>1.314673e+11</td>\n",
       "      <td>11.118818</td>\n",
       "    </tr>\n",
       "    <tr>\n",
       "      <th>917</th>\n",
       "      <td>4.50</td>\n",
       "      <td>1</td>\n",
       "      <td>2016</td>\n",
       "      <td>2.856988</td>\n",
       "      <td>54541.720518</td>\n",
       "      <td>1.784427e+13</td>\n",
       "      <td>13.251499</td>\n",
       "    </tr>\n",
       "    <tr>\n",
       "      <th>918</th>\n",
       "      <td>123.00</td>\n",
       "      <td>30</td>\n",
       "      <td>2016</td>\n",
       "      <td>1.620084</td>\n",
       "      <td>14617.464001</td>\n",
       "      <td>5.042000e+10</td>\n",
       "      <td>10.702603</td>\n",
       "    </tr>\n",
       "    <tr>\n",
       "      <th>919</th>\n",
       "      <td>60000.00</td>\n",
       "      <td>22300</td>\n",
       "      <td>2016</td>\n",
       "      <td>7.075789</td>\n",
       "      <td>1964.475991</td>\n",
       "      <td>1.876868e+11</td>\n",
       "      <td>11.273434</td>\n",
       "    </tr>\n",
       "  </tbody>\n",
       "</table>\n",
       "<p>920 rows × 7 columns</p>\n",
       "</div>"
      ],
      "text/plain": [
       "     local_price  dollar_ex  Year  gdp_growth  GDP_Per_Capita           GDP  \\\n",
       "0           2.50          1  2000  -10.894485     6854.294081  2.582818e+11   \n",
       "1           2.59          1  2000    4.001431    45806.687448  9.001655e+11   \n",
       "2           2.95          1  2000    3.053462     8954.837245  1.607729e+12   \n",
       "3           2.85          1  2000    3.016889    44863.216018  1.406914e+12   \n",
       "4        1260.00        514  2000    3.106971     9814.656135  1.539371e+11   \n",
       "..           ...        ...   ...         ...             ...           ...   \n",
       "915        10.75          3  2016    2.566623    15026.707518  1.236994e+12   \n",
       "916        39.00         24  2016    3.335489     3110.194646  1.314673e+11   \n",
       "917         4.50          1  2016    2.856988    54541.720518  1.784427e+13   \n",
       "918       123.00         30  2016    1.620084    14617.464001  5.042000e+10   \n",
       "919     60000.00      22300  2016    7.075789     1964.475991  1.876868e+11   \n",
       "\n",
       "     GDP_log10  \n",
       "0    11.412094  \n",
       "1    11.954322  \n",
       "2    12.206213  \n",
       "3    12.148268  \n",
       "4    11.187343  \n",
       "..         ...  \n",
       "915  12.092368  \n",
       "916  11.118818  \n",
       "917  13.251499  \n",
       "918  10.702603  \n",
       "919  11.273434  \n",
       "\n",
       "[920 rows x 7 columns]"
      ]
     },
     "execution_count": 92,
     "metadata": {},
     "output_type": "execute_result"
    }
   ],
   "source": [
    "X = df_values.drop('dollar_price', axis=1)\n",
    "X"
   ]
  },
  {
   "cell_type": "code",
   "execution_count": 93,
   "id": "01b1d17f",
   "metadata": {},
   "outputs": [],
   "source": [
    "y = df_values['dollar_price']"
   ]
  },
  {
   "cell_type": "code",
   "execution_count": 95,
   "id": "1b1a439a",
   "metadata": {
    "scrolled": true
   },
   "outputs": [
    {
     "data": {
      "text/plain": [
       "920"
      ]
     },
     "execution_count": 95,
     "metadata": {},
     "output_type": "execute_result"
    }
   ],
   "source": [
    "len(df_values)"
   ]
  },
  {
   "cell_type": "code",
   "execution_count": 96,
   "id": "83369473",
   "metadata": {},
   "outputs": [],
   "source": [
    "X_train, X_test, y_train, y_test = train_test_split(X, y, test_size=0.2, random_state= 28)"
   ]
  },
  {
   "cell_type": "code",
   "execution_count": 97,
   "id": "a8d6457f",
   "metadata": {
    "scrolled": true
   },
   "outputs": [],
   "source": [
    "model = RandomForestRegressor(n_estimators= 10, random_state= 0)"
   ]
  },
  {
   "cell_type": "code",
   "execution_count": 98,
   "id": "99f75084",
   "metadata": {},
   "outputs": [
    {
     "data": {
      "text/plain": [
       "RandomForestRegressor(n_estimators=10, random_state=0)"
      ]
     },
     "execution_count": 98,
     "metadata": {},
     "output_type": "execute_result"
    }
   ],
   "source": [
    "model.fit(X_train, y_train)"
   ]
  },
  {
   "cell_type": "code",
   "execution_count": 99,
   "id": "0e60f0e5",
   "metadata": {},
   "outputs": [],
   "source": [
    "y_pred =model.predict(X_test)"
   ]
  },
  {
   "cell_type": "code",
   "execution_count": 100,
   "id": "2d59aa28",
   "metadata": {},
   "outputs": [
    {
     "name": "stdout",
     "output_type": "stream",
     "text": [
      "0.443\n"
     ]
    }
   ],
   "source": [
    "rmse = float(format(np.sqrt(mean_squared_error(y_test, y_pred)), '.3f'))\n",
    "print(rmse)"
   ]
  },
  {
   "cell_type": "markdown",
   "id": "39273ed4",
   "metadata": {},
   "source": [
    "# Using Linear Regression Model"
   ]
  },
  {
   "cell_type": "code",
   "execution_count": 19,
   "id": "c4a54506",
   "metadata": {},
   "outputs": [
    {
     "ename": "TypeError",
     "evalue": "unhashable type: 'numpy.ndarray'",
     "output_type": "error",
     "traceback": [
      "\u001b[1;31m---------------------------------------------------------------------------\u001b[0m",
      "\u001b[1;31mTypeError\u001b[0m                                 Traceback (most recent call last)",
      "\u001b[1;32m~\\AppData\\Local\\Temp\\ipykernel_33084\\1975775300.py\u001b[0m in \u001b[0;36m<module>\u001b[1;34m\u001b[0m\n\u001b[0;32m      1\u001b[0m \u001b[1;31m# Ploting the data as a scatter plot using GDP\u001b[0m\u001b[1;33m\u001b[0m\u001b[1;33m\u001b[0m\u001b[1;33m\u001b[0m\u001b[0m\n\u001b[1;32m----> 2\u001b[1;33m \u001b[0mplt\u001b[0m\u001b[1;33m.\u001b[0m\u001b[0mscatter\u001b[0m\u001b[1;33m(\u001b[0m\u001b[0mX\u001b[0m\u001b[1;33m,\u001b[0m \u001b[0my\u001b[0m\u001b[1;33m)\u001b[0m\u001b[1;33m\u001b[0m\u001b[1;33m\u001b[0m\u001b[0m\n\u001b[0m\u001b[0;32m      3\u001b[0m \u001b[0mplt\u001b[0m\u001b[1;33m.\u001b[0m\u001b[0mxlabel\u001b[0m\u001b[1;33m(\u001b[0m\u001b[1;34m'GDP'\u001b[0m\u001b[1;33m)\u001b[0m\u001b[1;33m\u001b[0m\u001b[1;33m\u001b[0m\u001b[0m\n\u001b[0;32m      4\u001b[0m \u001b[0mplt\u001b[0m\u001b[1;33m.\u001b[0m\u001b[0mylabel\u001b[0m\u001b[1;33m(\u001b[0m\u001b[1;34m'BigMac Price ($)'\u001b[0m\u001b[1;33m)\u001b[0m\u001b[1;33m\u001b[0m\u001b[1;33m\u001b[0m\u001b[0m\n\u001b[0;32m      5\u001b[0m \u001b[0mplt\u001b[0m\u001b[1;33m.\u001b[0m\u001b[0mtitle\u001b[0m\u001b[1;33m(\u001b[0m\u001b[1;34m'GDP vs BigMac Price (Worldwide)'\u001b[0m\u001b[1;33m)\u001b[0m\u001b[1;33m\u001b[0m\u001b[1;33m\u001b[0m\u001b[0m\n",
      "\u001b[1;32m~\\anaconda3\\envs\\mlenv\\lib\\site-packages\\matplotlib\\pyplot.py\u001b[0m in \u001b[0;36mscatter\u001b[1;34m(x, y, s, c, marker, cmap, norm, vmin, vmax, alpha, linewidths, edgecolors, plotnonfinite, data, **kwargs)\u001b[0m\n\u001b[0;32m   2809\u001b[0m         \u001b[0mvmin\u001b[0m\u001b[1;33m=\u001b[0m\u001b[0mvmin\u001b[0m\u001b[1;33m,\u001b[0m \u001b[0mvmax\u001b[0m\u001b[1;33m=\u001b[0m\u001b[0mvmax\u001b[0m\u001b[1;33m,\u001b[0m \u001b[0malpha\u001b[0m\u001b[1;33m=\u001b[0m\u001b[0malpha\u001b[0m\u001b[1;33m,\u001b[0m \u001b[0mlinewidths\u001b[0m\u001b[1;33m=\u001b[0m\u001b[0mlinewidths\u001b[0m\u001b[1;33m,\u001b[0m\u001b[1;33m\u001b[0m\u001b[1;33m\u001b[0m\u001b[0m\n\u001b[0;32m   2810\u001b[0m         \u001b[0medgecolors\u001b[0m\u001b[1;33m=\u001b[0m\u001b[0medgecolors\u001b[0m\u001b[1;33m,\u001b[0m \u001b[0mplotnonfinite\u001b[0m\u001b[1;33m=\u001b[0m\u001b[0mplotnonfinite\u001b[0m\u001b[1;33m,\u001b[0m\u001b[1;33m\u001b[0m\u001b[1;33m\u001b[0m\u001b[0m\n\u001b[1;32m-> 2811\u001b[1;33m         **({\"data\": data} if data is not None else {}), **kwargs)\n\u001b[0m\u001b[0;32m   2812\u001b[0m     \u001b[0msci\u001b[0m\u001b[1;33m(\u001b[0m\u001b[0m__ret\u001b[0m\u001b[1;33m)\u001b[0m\u001b[1;33m\u001b[0m\u001b[1;33m\u001b[0m\u001b[0m\n\u001b[0;32m   2813\u001b[0m     \u001b[1;32mreturn\u001b[0m \u001b[0m__ret\u001b[0m\u001b[1;33m\u001b[0m\u001b[1;33m\u001b[0m\u001b[0m\n",
      "\u001b[1;32m~\\anaconda3\\envs\\mlenv\\lib\\site-packages\\matplotlib\\__init__.py\u001b[0m in \u001b[0;36minner\u001b[1;34m(ax, data, *args, **kwargs)\u001b[0m\n\u001b[0;32m   1410\u001b[0m     \u001b[1;32mdef\u001b[0m \u001b[0minner\u001b[0m\u001b[1;33m(\u001b[0m\u001b[0max\u001b[0m\u001b[1;33m,\u001b[0m \u001b[1;33m*\u001b[0m\u001b[0margs\u001b[0m\u001b[1;33m,\u001b[0m \u001b[0mdata\u001b[0m\u001b[1;33m=\u001b[0m\u001b[1;32mNone\u001b[0m\u001b[1;33m,\u001b[0m \u001b[1;33m**\u001b[0m\u001b[0mkwargs\u001b[0m\u001b[1;33m)\u001b[0m\u001b[1;33m:\u001b[0m\u001b[1;33m\u001b[0m\u001b[1;33m\u001b[0m\u001b[0m\n\u001b[0;32m   1411\u001b[0m         \u001b[1;32mif\u001b[0m \u001b[0mdata\u001b[0m \u001b[1;32mis\u001b[0m \u001b[1;32mNone\u001b[0m\u001b[1;33m:\u001b[0m\u001b[1;33m\u001b[0m\u001b[1;33m\u001b[0m\u001b[0m\n\u001b[1;32m-> 1412\u001b[1;33m             \u001b[1;32mreturn\u001b[0m \u001b[0mfunc\u001b[0m\u001b[1;33m(\u001b[0m\u001b[0max\u001b[0m\u001b[1;33m,\u001b[0m \u001b[1;33m*\u001b[0m\u001b[0mmap\u001b[0m\u001b[1;33m(\u001b[0m\u001b[0msanitize_sequence\u001b[0m\u001b[1;33m,\u001b[0m \u001b[0margs\u001b[0m\u001b[1;33m)\u001b[0m\u001b[1;33m,\u001b[0m \u001b[1;33m**\u001b[0m\u001b[0mkwargs\u001b[0m\u001b[1;33m)\u001b[0m\u001b[1;33m\u001b[0m\u001b[1;33m\u001b[0m\u001b[0m\n\u001b[0m\u001b[0;32m   1413\u001b[0m \u001b[1;33m\u001b[0m\u001b[0m\n\u001b[0;32m   1414\u001b[0m         \u001b[0mbound\u001b[0m \u001b[1;33m=\u001b[0m \u001b[0mnew_sig\u001b[0m\u001b[1;33m.\u001b[0m\u001b[0mbind\u001b[0m\u001b[1;33m(\u001b[0m\u001b[0max\u001b[0m\u001b[1;33m,\u001b[0m \u001b[1;33m*\u001b[0m\u001b[0margs\u001b[0m\u001b[1;33m,\u001b[0m \u001b[1;33m**\u001b[0m\u001b[0mkwargs\u001b[0m\u001b[1;33m)\u001b[0m\u001b[1;33m\u001b[0m\u001b[1;33m\u001b[0m\u001b[0m\n",
      "\u001b[1;32m~\\anaconda3\\envs\\mlenv\\lib\\site-packages\\matplotlib\\axes\\_axes.py\u001b[0m in \u001b[0;36mscatter\u001b[1;34m(self, x, y, s, c, marker, cmap, norm, vmin, vmax, alpha, linewidths, edgecolors, plotnonfinite, **kwargs)\u001b[0m\n\u001b[0;32m   4361\u001b[0m         \"\"\"\n\u001b[0;32m   4362\u001b[0m         \u001b[1;31m# Process **kwargs to handle aliases, conflicts with explicit kwargs:\u001b[0m\u001b[1;33m\u001b[0m\u001b[1;33m\u001b[0m\u001b[1;33m\u001b[0m\u001b[0m\n\u001b[1;32m-> 4363\u001b[1;33m         \u001b[0mx\u001b[0m\u001b[1;33m,\u001b[0m \u001b[0my\u001b[0m \u001b[1;33m=\u001b[0m \u001b[0mself\u001b[0m\u001b[1;33m.\u001b[0m\u001b[0m_process_unit_info\u001b[0m\u001b[1;33m(\u001b[0m\u001b[1;33m[\u001b[0m\u001b[1;33m(\u001b[0m\u001b[1;34m\"x\"\u001b[0m\u001b[1;33m,\u001b[0m \u001b[0mx\u001b[0m\u001b[1;33m)\u001b[0m\u001b[1;33m,\u001b[0m \u001b[1;33m(\u001b[0m\u001b[1;34m\"y\"\u001b[0m\u001b[1;33m,\u001b[0m \u001b[0my\u001b[0m\u001b[1;33m)\u001b[0m\u001b[1;33m]\u001b[0m\u001b[1;33m,\u001b[0m \u001b[0mkwargs\u001b[0m\u001b[1;33m)\u001b[0m\u001b[1;33m\u001b[0m\u001b[1;33m\u001b[0m\u001b[0m\n\u001b[0m\u001b[0;32m   4364\u001b[0m         \u001b[1;31m# np.ma.ravel yields an ndarray, not a masked array,\u001b[0m\u001b[1;33m\u001b[0m\u001b[1;33m\u001b[0m\u001b[1;33m\u001b[0m\u001b[0m\n\u001b[0;32m   4365\u001b[0m         \u001b[1;31m# unless its argument is a masked array.\u001b[0m\u001b[1;33m\u001b[0m\u001b[1;33m\u001b[0m\u001b[1;33m\u001b[0m\u001b[0m\n",
      "\u001b[1;32m~\\anaconda3\\envs\\mlenv\\lib\\site-packages\\matplotlib\\axes\\_base.py\u001b[0m in \u001b[0;36m_process_unit_info\u001b[1;34m(self, datasets, kwargs, convert)\u001b[0m\n\u001b[0;32m   2519\u001b[0m             \u001b[1;31m# Update from data if axis is already set but no unit is set yet.\u001b[0m\u001b[1;33m\u001b[0m\u001b[1;33m\u001b[0m\u001b[1;33m\u001b[0m\u001b[0m\n\u001b[0;32m   2520\u001b[0m             \u001b[1;32mif\u001b[0m \u001b[0maxis\u001b[0m \u001b[1;32mis\u001b[0m \u001b[1;32mnot\u001b[0m \u001b[1;32mNone\u001b[0m \u001b[1;32mand\u001b[0m \u001b[0mdata\u001b[0m \u001b[1;32mis\u001b[0m \u001b[1;32mnot\u001b[0m \u001b[1;32mNone\u001b[0m \u001b[1;32mand\u001b[0m \u001b[1;32mnot\u001b[0m \u001b[0maxis\u001b[0m\u001b[1;33m.\u001b[0m\u001b[0mhave_units\u001b[0m\u001b[1;33m(\u001b[0m\u001b[1;33m)\u001b[0m\u001b[1;33m:\u001b[0m\u001b[1;33m\u001b[0m\u001b[1;33m\u001b[0m\u001b[0m\n\u001b[1;32m-> 2521\u001b[1;33m                 \u001b[0maxis\u001b[0m\u001b[1;33m.\u001b[0m\u001b[0mupdate_units\u001b[0m\u001b[1;33m(\u001b[0m\u001b[0mdata\u001b[0m\u001b[1;33m)\u001b[0m\u001b[1;33m\u001b[0m\u001b[1;33m\u001b[0m\u001b[0m\n\u001b[0m\u001b[0;32m   2522\u001b[0m         \u001b[1;32mfor\u001b[0m \u001b[0maxis_name\u001b[0m\u001b[1;33m,\u001b[0m \u001b[0maxis\u001b[0m \u001b[1;32min\u001b[0m \u001b[0maxis_map\u001b[0m\u001b[1;33m.\u001b[0m\u001b[0mitems\u001b[0m\u001b[1;33m(\u001b[0m\u001b[1;33m)\u001b[0m\u001b[1;33m:\u001b[0m\u001b[1;33m\u001b[0m\u001b[1;33m\u001b[0m\u001b[0m\n\u001b[0;32m   2523\u001b[0m             \u001b[1;31m# Return if no axis is set.\u001b[0m\u001b[1;33m\u001b[0m\u001b[1;33m\u001b[0m\u001b[1;33m\u001b[0m\u001b[0m\n",
      "\u001b[1;32m~\\anaconda3\\envs\\mlenv\\lib\\site-packages\\matplotlib\\axis.py\u001b[0m in \u001b[0;36mupdate_units\u001b[1;34m(self, data)\u001b[0m\n\u001b[0;32m   1447\u001b[0m         \u001b[0mneednew\u001b[0m \u001b[1;33m=\u001b[0m \u001b[0mself\u001b[0m\u001b[1;33m.\u001b[0m\u001b[0mconverter\u001b[0m \u001b[1;33m!=\u001b[0m \u001b[0mconverter\u001b[0m\u001b[1;33m\u001b[0m\u001b[1;33m\u001b[0m\u001b[0m\n\u001b[0;32m   1448\u001b[0m         \u001b[0mself\u001b[0m\u001b[1;33m.\u001b[0m\u001b[0mconverter\u001b[0m \u001b[1;33m=\u001b[0m \u001b[0mconverter\u001b[0m\u001b[1;33m\u001b[0m\u001b[1;33m\u001b[0m\u001b[0m\n\u001b[1;32m-> 1449\u001b[1;33m         \u001b[0mdefault\u001b[0m \u001b[1;33m=\u001b[0m \u001b[0mself\u001b[0m\u001b[1;33m.\u001b[0m\u001b[0mconverter\u001b[0m\u001b[1;33m.\u001b[0m\u001b[0mdefault_units\u001b[0m\u001b[1;33m(\u001b[0m\u001b[0mdata\u001b[0m\u001b[1;33m,\u001b[0m \u001b[0mself\u001b[0m\u001b[1;33m)\u001b[0m\u001b[1;33m\u001b[0m\u001b[1;33m\u001b[0m\u001b[0m\n\u001b[0m\u001b[0;32m   1450\u001b[0m         \u001b[1;32mif\u001b[0m \u001b[0mdefault\u001b[0m \u001b[1;32mis\u001b[0m \u001b[1;32mnot\u001b[0m \u001b[1;32mNone\u001b[0m \u001b[1;32mand\u001b[0m \u001b[0mself\u001b[0m\u001b[1;33m.\u001b[0m\u001b[0munits\u001b[0m \u001b[1;32mis\u001b[0m \u001b[1;32mNone\u001b[0m\u001b[1;33m:\u001b[0m\u001b[1;33m\u001b[0m\u001b[1;33m\u001b[0m\u001b[0m\n\u001b[0;32m   1451\u001b[0m             \u001b[0mself\u001b[0m\u001b[1;33m.\u001b[0m\u001b[0mset_units\u001b[0m\u001b[1;33m(\u001b[0m\u001b[0mdefault\u001b[0m\u001b[1;33m)\u001b[0m\u001b[1;33m\u001b[0m\u001b[1;33m\u001b[0m\u001b[0m\n",
      "\u001b[1;32m~\\anaconda3\\envs\\mlenv\\lib\\site-packages\\matplotlib\\category.py\u001b[0m in \u001b[0;36mdefault_units\u001b[1;34m(data, axis)\u001b[0m\n\u001b[0;32m    114\u001b[0m         \u001b[1;31m# the conversion call stack is default_units -> axis_info -> convert\u001b[0m\u001b[1;33m\u001b[0m\u001b[1;33m\u001b[0m\u001b[1;33m\u001b[0m\u001b[0m\n\u001b[0;32m    115\u001b[0m         \u001b[1;32mif\u001b[0m \u001b[0maxis\u001b[0m\u001b[1;33m.\u001b[0m\u001b[0munits\u001b[0m \u001b[1;32mis\u001b[0m \u001b[1;32mNone\u001b[0m\u001b[1;33m:\u001b[0m\u001b[1;33m\u001b[0m\u001b[1;33m\u001b[0m\u001b[0m\n\u001b[1;32m--> 116\u001b[1;33m             \u001b[0maxis\u001b[0m\u001b[1;33m.\u001b[0m\u001b[0mset_units\u001b[0m\u001b[1;33m(\u001b[0m\u001b[0mUnitData\u001b[0m\u001b[1;33m(\u001b[0m\u001b[0mdata\u001b[0m\u001b[1;33m)\u001b[0m\u001b[1;33m)\u001b[0m\u001b[1;33m\u001b[0m\u001b[1;33m\u001b[0m\u001b[0m\n\u001b[0m\u001b[0;32m    117\u001b[0m         \u001b[1;32melse\u001b[0m\u001b[1;33m:\u001b[0m\u001b[1;33m\u001b[0m\u001b[1;33m\u001b[0m\u001b[0m\n\u001b[0;32m    118\u001b[0m             \u001b[0maxis\u001b[0m\u001b[1;33m.\u001b[0m\u001b[0munits\u001b[0m\u001b[1;33m.\u001b[0m\u001b[0mupdate\u001b[0m\u001b[1;33m(\u001b[0m\u001b[0mdata\u001b[0m\u001b[1;33m)\u001b[0m\u001b[1;33m\u001b[0m\u001b[1;33m\u001b[0m\u001b[0m\n",
      "\u001b[1;32m~\\anaconda3\\envs\\mlenv\\lib\\site-packages\\matplotlib\\category.py\u001b[0m in \u001b[0;36m__init__\u001b[1;34m(self, data)\u001b[0m\n\u001b[0;32m    190\u001b[0m         \u001b[0mself\u001b[0m\u001b[1;33m.\u001b[0m\u001b[0m_counter\u001b[0m \u001b[1;33m=\u001b[0m \u001b[0mitertools\u001b[0m\u001b[1;33m.\u001b[0m\u001b[0mcount\u001b[0m\u001b[1;33m(\u001b[0m\u001b[1;33m)\u001b[0m\u001b[1;33m\u001b[0m\u001b[1;33m\u001b[0m\u001b[0m\n\u001b[0;32m    191\u001b[0m         \u001b[1;32mif\u001b[0m \u001b[0mdata\u001b[0m \u001b[1;32mis\u001b[0m \u001b[1;32mnot\u001b[0m \u001b[1;32mNone\u001b[0m\u001b[1;33m:\u001b[0m\u001b[1;33m\u001b[0m\u001b[1;33m\u001b[0m\u001b[0m\n\u001b[1;32m--> 192\u001b[1;33m             \u001b[0mself\u001b[0m\u001b[1;33m.\u001b[0m\u001b[0mupdate\u001b[0m\u001b[1;33m(\u001b[0m\u001b[0mdata\u001b[0m\u001b[1;33m)\u001b[0m\u001b[1;33m\u001b[0m\u001b[1;33m\u001b[0m\u001b[0m\n\u001b[0m\u001b[0;32m    193\u001b[0m \u001b[1;33m\u001b[0m\u001b[0m\n\u001b[0;32m    194\u001b[0m     \u001b[1;33m@\u001b[0m\u001b[0mstaticmethod\u001b[0m\u001b[1;33m\u001b[0m\u001b[1;33m\u001b[0m\u001b[0m\n",
      "\u001b[1;32m~\\anaconda3\\envs\\mlenv\\lib\\site-packages\\matplotlib\\category.py\u001b[0m in \u001b[0;36mupdate\u001b[1;34m(self, data)\u001b[0m\n\u001b[0;32m    223\u001b[0m         \u001b[1;31m# check if convertible to number:\u001b[0m\u001b[1;33m\u001b[0m\u001b[1;33m\u001b[0m\u001b[1;33m\u001b[0m\u001b[0m\n\u001b[0;32m    224\u001b[0m         \u001b[0mconvertible\u001b[0m \u001b[1;33m=\u001b[0m \u001b[1;32mTrue\u001b[0m\u001b[1;33m\u001b[0m\u001b[1;33m\u001b[0m\u001b[0m\n\u001b[1;32m--> 225\u001b[1;33m         \u001b[1;32mfor\u001b[0m \u001b[0mval\u001b[0m \u001b[1;32min\u001b[0m \u001b[0mOrderedDict\u001b[0m\u001b[1;33m.\u001b[0m\u001b[0mfromkeys\u001b[0m\u001b[1;33m(\u001b[0m\u001b[0mdata\u001b[0m\u001b[1;33m)\u001b[0m\u001b[1;33m:\u001b[0m\u001b[1;33m\u001b[0m\u001b[1;33m\u001b[0m\u001b[0m\n\u001b[0m\u001b[0;32m    226\u001b[0m             \u001b[1;31m# OrderedDict just iterates over unique values in data.\u001b[0m\u001b[1;33m\u001b[0m\u001b[1;33m\u001b[0m\u001b[1;33m\u001b[0m\u001b[0m\n\u001b[0;32m    227\u001b[0m             \u001b[0m_api\u001b[0m\u001b[1;33m.\u001b[0m\u001b[0mcheck_isinstance\u001b[0m\u001b[1;33m(\u001b[0m\u001b[1;33m(\u001b[0m\u001b[0mstr\u001b[0m\u001b[1;33m,\u001b[0m \u001b[0mbytes\u001b[0m\u001b[1;33m)\u001b[0m\u001b[1;33m,\u001b[0m \u001b[0mvalue\u001b[0m\u001b[1;33m=\u001b[0m\u001b[0mval\u001b[0m\u001b[1;33m)\u001b[0m\u001b[1;33m\u001b[0m\u001b[1;33m\u001b[0m\u001b[0m\n",
      "\u001b[1;31mTypeError\u001b[0m: unhashable type: 'numpy.ndarray'"
     ]
    },
    {
     "data": {
      "image/png": "[encoded data removed]",
      "text/plain": [
       "<Figure size 432x288 with 1 Axes>"
      ]
     },
     "metadata": {
      "needs_background": "light"
     },
     "output_type": "display_data"
    }
   ],
   "source": [
    "# Ploting the data as a scatter plot using GDP\n",
    "plt.scatter(X, y)\n",
    "plt.xlabel('GDP')\n",
    "plt.ylabel('BigMac Price ($)')\n",
    "plt.title('GDP vs BigMac Price (Worldwide)')\n",
    "plt.show()"
   ]
  },
  {
   "cell_type": "code",
   "execution_count": null,
   "id": "ca5f53aa",
   "metadata": {},
   "outputs": [],
   "source": [
    "# # Define independent variable, I am using the log(GDP)\n",
    "# X =df.GDP_log10.values.reshape(-1,1)"
   ]
  },
  {
   "cell_type": "code",
   "execution_count": null,
   "id": "64524d3d",
   "metadata": {},
   "outputs": [],
   "source": [
    "# # Define dependent variable, I am assuming that the column header will be \"price\"\n",
    "# y= df.dollar_price.values.reshape(-1,1)"
   ]
  },
  {
   "cell_type": "code",
   "execution_count": null,
   "id": "062e3ecb",
   "metadata": {},
   "outputs": [],
   "source": [
    "# scaler = StandardScaler()"
   ]
  },
  {
   "cell_type": "code",
   "execution_count": null,
   "id": "5c4b2587",
   "metadata": {},
   "outputs": [],
   "source": [
    "# from sklearn.model_selection import train_test_split\n",
    "# X_train, X_test, y_train, y_test = train_test_split(X,y, test_size=0.2, random_state=2)"
   ]
  },
  {
   "cell_type": "code",
   "execution_count": null,
   "id": "8f8dab27",
   "metadata": {},
   "outputs": [],
   "source": [
    "# # Instantiate linear regression model\n",
    "# model = LinearRegression()\n"
   ]
  },
  {
   "cell_type": "code",
   "execution_count": null,
   "id": "084e6274",
   "metadata": {},
   "outputs": [],
   "source": [
    "# # training the model\n",
    "# model.fit(X,y)"
   ]
  },
  {
   "cell_type": "code",
   "execution_count": null,
   "id": "5bd1a669",
   "metadata": {},
   "outputs": [],
   "source": [
    "# y_pred = model.predict(X)"
   ]
  },
  {
   "cell_type": "code",
   "execution_count": null,
   "id": "26e54628",
   "metadata": {
    "scrolled": true
   },
   "outputs": [],
   "source": [
    "# plt.scatter(X, y)\n",
    "# plt.plot(X, y_pred, color='red')\n",
    "# plt.show()"
   ]
  },
  {
   "cell_type": "code",
   "execution_count": null,
   "id": "0c4b6a54",
   "metadata": {
    "scrolled": true
   },
   "outputs": [],
   "source": [
    "# print(model.coef_)\n",
    "# print(model.intercept_)"
   ]
  },
  {
   "cell_type": "code",
   "execution_count": null,
   "id": "d8e7fc4c",
   "metadata": {
    "scrolled": false
   },
   "outputs": [],
   "source": [
    "# print(model.score(X,y))"
   ]
  },
  {
   "cell_type": "markdown",
   "id": "849a28a5",
   "metadata": {},
   "source": [
    "# Using 2nd Polynomial"
   ]
  },
  {
   "cell_type": "code",
   "execution_count": null,
   "id": "94f58b53",
   "metadata": {},
   "outputs": [],
   "source": [
    "# Import dependencies\n",
    "from sklearn.preprocessing import PolynomialFeatures\n",
    "\n",
    "# Save an instance of Polynomial Feature\n",
    "poly = PolynomialFeatures(degree=2, include_bias=True)"
   ]
  },
  {
   "cell_type": "code",
   "execution_count": null,
   "id": "2ad482ca",
   "metadata": {},
   "outputs": [],
   "source": [
    "# poly_features = poly.fit_transform(X.reshape(-1,1))"
   ]
  },
  {
   "cell_type": "code",
   "execution_count": null,
   "id": "8f778edb",
   "metadata": {},
   "outputs": [],
   "source": [
    "# y"
   ]
  },
  {
   "cell_type": "code",
   "execution_count": null,
   "id": "7b50acef",
   "metadata": {},
   "outputs": [],
   "source": [
    "# X_train, X_test, y_train, y_test = train_test_split(X,y,test_size=0.2, random_state=2)"
   ]
  },
  {
   "cell_type": "code",
   "execution_count": null,
   "id": "65568f25",
   "metadata": {},
   "outputs": [],
   "source": [
    "# poly_reg_model = LinearRegression()"
   ]
  },
  {
   "cell_type": "code",
   "execution_count": null,
   "id": "e10ac799",
   "metadata": {
    "scrolled": true
   },
   "outputs": [],
   "source": [
    "# poly_reg_model.fit(X_train, y_train)"
   ]
  },
  {
   "cell_type": "code",
   "execution_count": null,
   "id": "f1f58859",
   "metadata": {},
   "outputs": [],
   "source": [
    "# y_predicted = poly_reg_model.predict(X_test)\n",
    "# y_predicted"
   ]
  },
  {
   "cell_type": "code",
   "execution_count": null,
   "id": "ae57b39b",
   "metadata": {},
   "outputs": [],
   "source": [
    "# from sklearn.metrics import mean_squared_error"
   ]
  },
  {
   "cell_type": "code",
   "execution_count": null,
   "id": "1867427c",
   "metadata": {},
   "outputs": [],
   "source": [
    "# poly_reg_rmse = np.sqrt(mean_squared_error(y_test,\n",
    "#                                           y_predicted))\n",
    "# poly_reg_rmse"
   ]
  },
  {
   "cell_type": "code",
   "execution_count": null,
   "id": "e8787200",
   "metadata": {},
   "outputs": [],
   "source": [
    "# plt.figure(figsize= (10,6))\n",
    "# plt.title(\"Polynomial Reg\", size=16)\n",
    "# plt.scatter(X, y)\n",
    "# plt.plot(X, y_predicted, c='red')\n",
    "# plt.show()"
   ]
  },
  {
   "cell_type": "markdown",
   "id": "b6ec6744",
   "metadata": {},
   "source": [
    "# Lets try RandomForestRegressor"
   ]
  },
  {
   "cell_type": "code",
   "execution_count": null,
   "id": "37bdfbed",
   "metadata": {},
   "outputs": [],
   "source": [
    "from sklearn.ensemble import RandomForestRegressor\n",
    "from sklearn.metrics import confusion_matrix, accuracy_score, classification_report"
   ]
  },
  {
   "cell_type": "code",
   "execution_count": null,
   "id": "ba4d2687",
   "metadata": {},
   "outputs": [],
   "source": [
    "# X =df.GDP_log10.values.reshape(-1,1)\n",
    "# y= df.dollar_price"
   ]
  },
  {
   "cell_type": "code",
   "execution_count": null,
   "id": "6ee07f4b",
   "metadata": {},
   "outputs": [],
   "source": [
    "from sklearn.model_selection import train_test_split\n",
    "X_train, X_test, y_train, y_test = train_test_split(X,y, random_state=78)"
   ]
  },
  {
   "cell_type": "code",
   "execution_count": null,
   "id": "03cc2a69",
   "metadata": {},
   "outputs": [],
   "source": [
    "# Creating a StandardScalar instance\n",
    "scaler = StandardScaler()\n",
    "\n",
    "# Fitting the Standard Scalar with the training data\n",
    "X_scalar = scaler.fit(X_train)\n",
    "\n",
    "# Scaling the data\n",
    "X_train_scaled = X_scalar.transform(X_train)\n",
    "X_test_scaled = X_scalar.transform(X_test)"
   ]
  },
  {
   "cell_type": "code",
   "execution_count": null,
   "id": "59921c6e",
   "metadata": {},
   "outputs": [],
   "source": [
    "# Create a random forest classifier\n",
    "rf_model = RandomForestRegressor(n_estimators=500, random_state=0)"
   ]
  },
  {
   "cell_type": "code",
   "execution_count": null,
   "id": "6a3d14bd",
   "metadata": {},
   "outputs": [],
   "source": [
    "# Fitting the model\n",
    "rf_model = rf_model.fit(X_train_scaled, y_train)"
   ]
  },
  {
   "cell_type": "code",
   "execution_count": null,
   "id": "1a4af4bf",
   "metadata": {},
   "outputs": [],
   "source": [
    "# Making predictions using the testing data\n",
    "predictions = rf_model.predict(X_test_scaled)"
   ]
  },
  {
   "cell_type": "code",
   "execution_count": null,
   "id": "29c3c4f3",
   "metadata": {},
   "outputs": [],
   "source": [
    "# Calculating the accuracy score\n",
    "mse = mean_squared_error(y_test, predictions)\n",
    "\n",
    "rmse = mse**0.5\n",
    "\n",
    "print(mse)\n",
    "print(rmse)"
   ]
  },
  {
   "cell_type": "code",
   "execution_count": null,
   "id": "a464101d",
   "metadata": {},
   "outputs": [],
   "source": [
    "# Calculate feature importance in Random Forest Model\n",
    "importance = rf_model.feature_importances_\n",
    "importance"
   ]
  }
 ],
 "metadata": {
  "kernelspec": {
   "display_name": "mlenv",
   "language": "python",
   "name": "mlenv"
  },
  "language_info": {
   "codemirror_mode": {
    "name": "ipython",
    "version": 3
   },
   "file_extension": ".py",
   "mimetype": "text/x-python",
   "name": "python",
   "nbconvert_exporter": "python",
   "pygments_lexer": "ipython3",
   "version": "3.7.13"
  }
 },
 "nbformat": 4,
 "nbformat_minor": 5
}
